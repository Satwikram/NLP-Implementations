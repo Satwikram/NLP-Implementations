{
  "nbformat": 4,
  "nbformat_minor": 0,
  "metadata": {
    "colab": {
      "name": "BERT Training more than 512 sequence length.ipynb",
      "provenance": [],
      "authorship_tag": "ABX9TyOTWhtH8tlPvDWSGhcV9IRx",
      "include_colab_link": true
    },
    "kernelspec": {
      "name": "python3",
      "display_name": "Python 3"
    },
    "language_info": {
      "name": "python"
    },
    "accelerator": "TPU",
    "widgets": {
      "application/vnd.jupyter.widget-state+json": {
        "ec4784a4ed634c7da86efc68185a1549": {
          "model_module": "@jupyter-widgets/controls",
          "model_name": "HBoxModel",
          "model_module_version": "1.5.0",
          "state": {
            "_view_name": "HBoxView",
            "_dom_classes": [],
            "_model_name": "HBoxModel",
            "_view_module": "@jupyter-widgets/controls",
            "_model_module_version": "1.5.0",
            "_view_count": null,
            "_view_module_version": "1.5.0",
            "box_style": "",
            "layout": "IPY_MODEL_9f5b8ad2e4c841e09e839643d903ee55",
            "_model_module": "@jupyter-widgets/controls",
            "children": [
              "IPY_MODEL_4b80fbe3640f4c12804b525c16aab613",
              "IPY_MODEL_6daaf71878f74c53932aed58e5199ed3",
              "IPY_MODEL_395a1d44630848a8bbe1b57f4508bf11"
            ]
          }
        },
        "9f5b8ad2e4c841e09e839643d903ee55": {
          "model_module": "@jupyter-widgets/base",
          "model_name": "LayoutModel",
          "model_module_version": "1.2.0",
          "state": {
            "_view_name": "LayoutView",
            "grid_template_rows": null,
            "right": null,
            "justify_content": null,
            "_view_module": "@jupyter-widgets/base",
            "overflow": null,
            "_model_module_version": "1.2.0",
            "_view_count": null,
            "flex_flow": null,
            "width": null,
            "min_width": null,
            "border": null,
            "align_items": null,
            "bottom": null,
            "_model_module": "@jupyter-widgets/base",
            "top": null,
            "grid_column": null,
            "overflow_y": null,
            "overflow_x": null,
            "grid_auto_flow": null,
            "grid_area": null,
            "grid_template_columns": null,
            "flex": null,
            "_model_name": "LayoutModel",
            "justify_items": null,
            "grid_row": null,
            "max_height": null,
            "align_content": null,
            "visibility": null,
            "align_self": null,
            "height": null,
            "min_height": null,
            "padding": null,
            "grid_auto_rows": null,
            "grid_gap": null,
            "max_width": null,
            "order": null,
            "_view_module_version": "1.2.0",
            "grid_template_areas": null,
            "object_position": null,
            "object_fit": null,
            "grid_auto_columns": null,
            "margin": null,
            "display": null,
            "left": null
          }
        },
        "4b80fbe3640f4c12804b525c16aab613": {
          "model_module": "@jupyter-widgets/controls",
          "model_name": "HTMLModel",
          "model_module_version": "1.5.0",
          "state": {
            "_view_name": "HTMLView",
            "style": "IPY_MODEL_41f8556ca0434ca9a90c15b2fef1658f",
            "_dom_classes": [],
            "description": "",
            "_model_name": "HTMLModel",
            "placeholder": "​",
            "_view_module": "@jupyter-widgets/controls",
            "_model_module_version": "1.5.0",
            "value": "Downloading: 100%",
            "_view_count": null,
            "_view_module_version": "1.5.0",
            "description_tooltip": null,
            "_model_module": "@jupyter-widgets/controls",
            "layout": "IPY_MODEL_3c280ebcdfc7416d8e96255bc2721b4b"
          }
        },
        "6daaf71878f74c53932aed58e5199ed3": {
          "model_module": "@jupyter-widgets/controls",
          "model_name": "FloatProgressModel",
          "model_module_version": "1.5.0",
          "state": {
            "_view_name": "ProgressView",
            "style": "IPY_MODEL_1516ea232db64542a5c6f258fb3d3d34",
            "_dom_classes": [],
            "description": "",
            "_model_name": "FloatProgressModel",
            "bar_style": "success",
            "max": 536063208,
            "_view_module": "@jupyter-widgets/controls",
            "_model_module_version": "1.5.0",
            "value": 536063208,
            "_view_count": null,
            "_view_module_version": "1.5.0",
            "orientation": "horizontal",
            "min": 0,
            "description_tooltip": null,
            "_model_module": "@jupyter-widgets/controls",
            "layout": "IPY_MODEL_96d71f2118e14a9a8badbf1c5e37bfe4"
          }
        },
        "395a1d44630848a8bbe1b57f4508bf11": {
          "model_module": "@jupyter-widgets/controls",
          "model_name": "HTMLModel",
          "model_module_version": "1.5.0",
          "state": {
            "_view_name": "HTMLView",
            "style": "IPY_MODEL_66737b75d5454807aac4b742f7e0e611",
            "_dom_classes": [],
            "description": "",
            "_model_name": "HTMLModel",
            "placeholder": "​",
            "_view_module": "@jupyter-widgets/controls",
            "_model_module_version": "1.5.0",
            "value": " 511M/511M [00:15&lt;00:00, 22.3MB/s]",
            "_view_count": null,
            "_view_module_version": "1.5.0",
            "description_tooltip": null,
            "_model_module": "@jupyter-widgets/controls",
            "layout": "IPY_MODEL_9bcbc06a6c214510a4acd93aa2fee72a"
          }
        },
        "41f8556ca0434ca9a90c15b2fef1658f": {
          "model_module": "@jupyter-widgets/controls",
          "model_name": "DescriptionStyleModel",
          "model_module_version": "1.5.0",
          "state": {
            "_view_name": "StyleView",
            "_model_name": "DescriptionStyleModel",
            "description_width": "",
            "_view_module": "@jupyter-widgets/base",
            "_model_module_version": "1.5.0",
            "_view_count": null,
            "_view_module_version": "1.2.0",
            "_model_module": "@jupyter-widgets/controls"
          }
        },
        "3c280ebcdfc7416d8e96255bc2721b4b": {
          "model_module": "@jupyter-widgets/base",
          "model_name": "LayoutModel",
          "model_module_version": "1.2.0",
          "state": {
            "_view_name": "LayoutView",
            "grid_template_rows": null,
            "right": null,
            "justify_content": null,
            "_view_module": "@jupyter-widgets/base",
            "overflow": null,
            "_model_module_version": "1.2.0",
            "_view_count": null,
            "flex_flow": null,
            "width": null,
            "min_width": null,
            "border": null,
            "align_items": null,
            "bottom": null,
            "_model_module": "@jupyter-widgets/base",
            "top": null,
            "grid_column": null,
            "overflow_y": null,
            "overflow_x": null,
            "grid_auto_flow": null,
            "grid_area": null,
            "grid_template_columns": null,
            "flex": null,
            "_model_name": "LayoutModel",
            "justify_items": null,
            "grid_row": null,
            "max_height": null,
            "align_content": null,
            "visibility": null,
            "align_self": null,
            "height": null,
            "min_height": null,
            "padding": null,
            "grid_auto_rows": null,
            "grid_gap": null,
            "max_width": null,
            "order": null,
            "_view_module_version": "1.2.0",
            "grid_template_areas": null,
            "object_position": null,
            "object_fit": null,
            "grid_auto_columns": null,
            "margin": null,
            "display": null,
            "left": null
          }
        },
        "1516ea232db64542a5c6f258fb3d3d34": {
          "model_module": "@jupyter-widgets/controls",
          "model_name": "ProgressStyleModel",
          "model_module_version": "1.5.0",
          "state": {
            "_view_name": "StyleView",
            "_model_name": "ProgressStyleModel",
            "description_width": "",
            "_view_module": "@jupyter-widgets/base",
            "_model_module_version": "1.5.0",
            "_view_count": null,
            "_view_module_version": "1.2.0",
            "bar_color": null,
            "_model_module": "@jupyter-widgets/controls"
          }
        },
        "96d71f2118e14a9a8badbf1c5e37bfe4": {
          "model_module": "@jupyter-widgets/base",
          "model_name": "LayoutModel",
          "model_module_version": "1.2.0",
          "state": {
            "_view_name": "LayoutView",
            "grid_template_rows": null,
            "right": null,
            "justify_content": null,
            "_view_module": "@jupyter-widgets/base",
            "overflow": null,
            "_model_module_version": "1.2.0",
            "_view_count": null,
            "flex_flow": null,
            "width": null,
            "min_width": null,
            "border": null,
            "align_items": null,
            "bottom": null,
            "_model_module": "@jupyter-widgets/base",
            "top": null,
            "grid_column": null,
            "overflow_y": null,
            "overflow_x": null,
            "grid_auto_flow": null,
            "grid_area": null,
            "grid_template_columns": null,
            "flex": null,
            "_model_name": "LayoutModel",
            "justify_items": null,
            "grid_row": null,
            "max_height": null,
            "align_content": null,
            "visibility": null,
            "align_self": null,
            "height": null,
            "min_height": null,
            "padding": null,
            "grid_auto_rows": null,
            "grid_gap": null,
            "max_width": null,
            "order": null,
            "_view_module_version": "1.2.0",
            "grid_template_areas": null,
            "object_position": null,
            "object_fit": null,
            "grid_auto_columns": null,
            "margin": null,
            "display": null,
            "left": null
          }
        },
        "66737b75d5454807aac4b742f7e0e611": {
          "model_module": "@jupyter-widgets/controls",
          "model_name": "DescriptionStyleModel",
          "model_module_version": "1.5.0",
          "state": {
            "_view_name": "StyleView",
            "_model_name": "DescriptionStyleModel",
            "description_width": "",
            "_view_module": "@jupyter-widgets/base",
            "_model_module_version": "1.5.0",
            "_view_count": null,
            "_view_module_version": "1.2.0",
            "_model_module": "@jupyter-widgets/controls"
          }
        },
        "9bcbc06a6c214510a4acd93aa2fee72a": {
          "model_module": "@jupyter-widgets/base",
          "model_name": "LayoutModel",
          "model_module_version": "1.2.0",
          "state": {
            "_view_name": "LayoutView",
            "grid_template_rows": null,
            "right": null,
            "justify_content": null,
            "_view_module": "@jupyter-widgets/base",
            "overflow": null,
            "_model_module_version": "1.2.0",
            "_view_count": null,
            "flex_flow": null,
            "width": null,
            "min_width": null,
            "border": null,
            "align_items": null,
            "bottom": null,
            "_model_module": "@jupyter-widgets/base",
            "top": null,
            "grid_column": null,
            "overflow_y": null,
            "overflow_x": null,
            "grid_auto_flow": null,
            "grid_area": null,
            "grid_template_columns": null,
            "flex": null,
            "_model_name": "LayoutModel",
            "justify_items": null,
            "grid_row": null,
            "max_height": null,
            "align_content": null,
            "visibility": null,
            "align_self": null,
            "height": null,
            "min_height": null,
            "padding": null,
            "grid_auto_rows": null,
            "grid_gap": null,
            "max_width": null,
            "order": null,
            "_view_module_version": "1.2.0",
            "grid_template_areas": null,
            "object_position": null,
            "object_fit": null,
            "grid_auto_columns": null,
            "margin": null,
            "display": null,
            "left": null
          }
        }
      }
    }
  },
  "cells": [
    {
      "cell_type": "markdown",
      "metadata": {
        "id": "view-in-github",
        "colab_type": "text"
      },
      "source": [
        "<a href=\"https://colab.research.google.com/github/Satwikram/NLP-Implementations/blob/main/BERT/BERT%20Training%20more%20than%20512%20sequence%20length.ipynb\" target=\"_parent\"><img src=\"https://colab.research.google.com/assets/colab-badge.svg\" alt=\"Open In Colab\"/></a>"
      ]
    },
    {
      "cell_type": "markdown",
      "source": [
        "### Author: Satwik Ram"
      ],
      "metadata": {
        "id": "p-ShkpcFJ8I3"
      }
    },
    {
      "cell_type": "markdown",
      "source": [
        "### Connecting to Kaggle"
      ],
      "metadata": {
        "id": "TWybU1h3KAm_"
      }
    },
    {
      "cell_type": "code",
      "source": [
        "from google.colab import files\n",
        "\n",
        "files.upload()\n",
        "\n",
        "\n",
        "! mkdir ~/.kaggle\n",
        "\n",
        "\n",
        "! cp kaggle.json ~/.kaggle/\n",
        "\n",
        "! chmod 600 ~/.kaggle/kaggle.json"
      ],
      "metadata": {
        "colab": {
          "resources": {
            "http://localhost:8080/nbextensions/google.colab/files.js": {
              "data": "Ly8gQ29weXJpZ2h0IDIwMTcgR29vZ2xlIExMQwovLwovLyBMaWNlbnNlZCB1bmRlciB0aGUgQXBhY2hlIExpY2Vuc2UsIFZlcnNpb24gMi4wICh0aGUgIkxpY2Vuc2UiKTsKLy8geW91IG1heSBub3QgdXNlIHRoaXMgZmlsZSBleGNlcHQgaW4gY29tcGxpYW5jZSB3aXRoIHRoZSBMaWNlbnNlLgovLyBZb3UgbWF5IG9idGFpbiBhIGNvcHkgb2YgdGhlIExpY2Vuc2UgYXQKLy8KLy8gICAgICBodHRwOi8vd3d3LmFwYWNoZS5vcmcvbGljZW5zZXMvTElDRU5TRS0yLjAKLy8KLy8gVW5sZXNzIHJlcXVpcmVkIGJ5IGFwcGxpY2FibGUgbGF3IG9yIGFncmVlZCB0byBpbiB3cml0aW5nLCBzb2Z0d2FyZQovLyBkaXN0cmlidXRlZCB1bmRlciB0aGUgTGljZW5zZSBpcyBkaXN0cmlidXRlZCBvbiBhbiAiQVMgSVMiIEJBU0lTLAovLyBXSVRIT1VUIFdBUlJBTlRJRVMgT1IgQ09ORElUSU9OUyBPRiBBTlkgS0lORCwgZWl0aGVyIGV4cHJlc3Mgb3IgaW1wbGllZC4KLy8gU2VlIHRoZSBMaWNlbnNlIGZvciB0aGUgc3BlY2lmaWMgbGFuZ3VhZ2UgZ292ZXJuaW5nIHBlcm1pc3Npb25zIGFuZAovLyBsaW1pdGF0aW9ucyB1bmRlciB0aGUgTGljZW5zZS4KCi8qKgogKiBAZmlsZW92ZXJ2aWV3IEhlbHBlcnMgZm9yIGdvb2dsZS5jb2xhYiBQeXRob24gbW9kdWxlLgogKi8KKGZ1bmN0aW9uKHNjb3BlKSB7CmZ1bmN0aW9uIHNwYW4odGV4dCwgc3R5bGVBdHRyaWJ1dGVzID0ge30pIHsKICBjb25zdCBlbGVtZW50ID0gZG9jdW1lbnQuY3JlYXRlRWxlbWVudCgnc3BhbicpOwogIGVsZW1lbnQudGV4dENvbnRlbnQgPSB0ZXh0OwogIGZvciAoY29uc3Qga2V5IG9mIE9iamVjdC5rZXlzKHN0eWxlQXR0cmlidXRlcykpIHsKICAgIGVsZW1lbnQuc3R5bGVba2V5XSA9IHN0eWxlQXR0cmlidXRlc1trZXldOwogIH0KICByZXR1cm4gZWxlbWVudDsKfQoKLy8gTWF4IG51bWJlciBvZiBieXRlcyB3aGljaCB3aWxsIGJlIHVwbG9hZGVkIGF0IGEgdGltZS4KY29uc3QgTUFYX1BBWUxPQURfU0laRSA9IDEwMCAqIDEwMjQ7CgpmdW5jdGlvbiBfdXBsb2FkRmlsZXMoaW5wdXRJZCwgb3V0cHV0SWQpIHsKICBjb25zdCBzdGVwcyA9IHVwbG9hZEZpbGVzU3RlcChpbnB1dElkLCBvdXRwdXRJZCk7CiAgY29uc3Qgb3V0cHV0RWxlbWVudCA9IGRvY3VtZW50LmdldEVsZW1lbnRCeUlkKG91dHB1dElkKTsKICAvLyBDYWNoZSBzdGVwcyBvbiB0aGUgb3V0cHV0RWxlbWVudCB0byBtYWtlIGl0IGF2YWlsYWJsZSBmb3IgdGhlIG5leHQgY2FsbAogIC8vIHRvIHVwbG9hZEZpbGVzQ29udGludWUgZnJvbSBQeXRob24uCiAgb3V0cHV0RWxlbWVudC5zdGVwcyA9IHN0ZXBzOwoKICByZXR1cm4gX3VwbG9hZEZpbGVzQ29udGludWUob3V0cHV0SWQpOwp9CgovLyBUaGlzIGlzIHJvdWdobHkgYW4gYXN5bmMgZ2VuZXJhdG9yIChub3Qgc3VwcG9ydGVkIGluIHRoZSBicm93c2VyIHlldCksCi8vIHdoZXJlIHRoZXJlIGFyZSBtdWx0aXBsZSBhc3luY2hyb25vdXMgc3RlcHMgYW5kIHRoZSBQeXRob24gc2lkZSBpcyBnb2luZwovLyB0byBwb2xsIGZvciBjb21wbGV0aW9uIG9mIGVhY2ggc3RlcC4KLy8gVGhpcyB1c2VzIGEgUHJvbWlzZSB0byBibG9jayB0aGUgcHl0aG9uIHNpZGUgb24gY29tcGxldGlvbiBvZiBlYWNoIHN0ZXAsCi8vIHRoZW4gcGFzc2VzIHRoZSByZXN1bHQgb2YgdGhlIHByZXZpb3VzIHN0ZXAgYXMgdGhlIGlucHV0IHRvIHRoZSBuZXh0IHN0ZXAuCmZ1bmN0aW9uIF91cGxvYWRGaWxlc0NvbnRpbnVlKG91dHB1dElkKSB7CiAgY29uc3Qgb3V0cHV0RWxlbWVudCA9IGRvY3VtZW50LmdldEVsZW1lbnRCeUlkKG91dHB1dElkKTsKICBjb25zdCBzdGVwcyA9IG91dHB1dEVsZW1lbnQuc3RlcHM7CgogIGNvbnN0IG5leHQgPSBzdGVwcy5uZXh0KG91dHB1dEVsZW1lbnQubGFzdFByb21pc2VWYWx1ZSk7CiAgcmV0dXJuIFByb21pc2UucmVzb2x2ZShuZXh0LnZhbHVlLnByb21pc2UpLnRoZW4oKHZhbHVlKSA9PiB7CiAgICAvLyBDYWNoZSB0aGUgbGFzdCBwcm9taXNlIHZhbHVlIHRvIG1ha2UgaXQgYXZhaWxhYmxlIHRvIHRoZSBuZXh0CiAgICAvLyBzdGVwIG9mIHRoZSBnZW5lcmF0b3IuCiAgICBvdXRwdXRFbGVtZW50Lmxhc3RQcm9taXNlVmFsdWUgPSB2YWx1ZTsKICAgIHJldHVybiBuZXh0LnZhbHVlLnJlc3BvbnNlOwogIH0pOwp9CgovKioKICogR2VuZXJhdG9yIGZ1bmN0aW9uIHdoaWNoIGlzIGNhbGxlZCBiZXR3ZWVuIGVhY2ggYXN5bmMgc3RlcCBvZiB0aGUgdXBsb2FkCiAqIHByb2Nlc3MuCiAqIEBwYXJhbSB7c3RyaW5nfSBpbnB1dElkIEVsZW1lbnQgSUQgb2YgdGhlIGlucHV0IGZpbGUgcGlja2VyIGVsZW1lbnQuCiAqIEBwYXJhbSB7c3RyaW5nfSBvdXRwdXRJZCBFbGVtZW50IElEIG9mIHRoZSBvdXRwdXQgZGlzcGxheS4KICogQHJldHVybiB7IUl0ZXJhYmxlPCFPYmplY3Q+fSBJdGVyYWJsZSBvZiBuZXh0IHN0ZXBzLgogKi8KZnVuY3Rpb24qIHVwbG9hZEZpbGVzU3RlcChpbnB1dElkLCBvdXRwdXRJZCkgewogIGNvbnN0IGlucHV0RWxlbWVudCA9IGRvY3VtZW50LmdldEVsZW1lbnRCeUlkKGlucHV0SWQpOwogIGlucHV0RWxlbWVudC5kaXNhYmxlZCA9IGZhbHNlOwoKICBjb25zdCBvdXRwdXRFbGVtZW50ID0gZG9jdW1lbnQuZ2V0RWxlbWVudEJ5SWQob3V0cHV0SWQpOwogIG91dHB1dEVsZW1lbnQuaW5uZXJIVE1MID0gJyc7CgogIGNvbnN0IHBpY2tlZFByb21pc2UgPSBuZXcgUHJvbWlzZSgocmVzb2x2ZSkgPT4gewogICAgaW5wdXRFbGVtZW50LmFkZEV2ZW50TGlzdGVuZXIoJ2NoYW5nZScsIChlKSA9PiB7CiAgICAgIHJlc29sdmUoZS50YXJnZXQuZmlsZXMpOwogICAgfSk7CiAgfSk7CgogIGNvbnN0IGNhbmNlbCA9IGRvY3VtZW50LmNyZWF0ZUVsZW1lbnQoJ2J1dHRvbicpOwogIGlucHV0RWxlbWVudC5wYXJlbnRFbGVtZW50LmFwcGVuZENoaWxkKGNhbmNlbCk7CiAgY2FuY2VsLnRleHRDb250ZW50ID0gJ0NhbmNlbCB1cGxvYWQnOwogIGNvbnN0IGNhbmNlbFByb21pc2UgPSBuZXcgUHJvbWlzZSgocmVzb2x2ZSkgPT4gewogICAgY2FuY2VsLm9uY2xpY2sgPSAoKSA9PiB7CiAgICAgIHJlc29sdmUobnVsbCk7CiAgICB9OwogIH0pOwoKICAvLyBXYWl0IGZvciB0aGUgdXNlciB0byBwaWNrIHRoZSBmaWxlcy4KICBjb25zdCBmaWxlcyA9IHlpZWxkIHsKICAgIHByb21pc2U6IFByb21pc2UucmFjZShbcGlja2VkUHJvbWlzZSwgY2FuY2VsUHJvbWlzZV0pLAogICAgcmVzcG9uc2U6IHsKICAgICAgYWN0aW9uOiAnc3RhcnRpbmcnLAogICAgfQogIH07CgogIGNhbmNlbC5yZW1vdmUoKTsKCiAgLy8gRGlzYWJsZSB0aGUgaW5wdXQgZWxlbWVudCBzaW5jZSBmdXJ0aGVyIHBpY2tzIGFyZSBub3QgYWxsb3dlZC4KICBpbnB1dEVsZW1lbnQuZGlzYWJsZWQgPSB0cnVlOwoKICBpZiAoIWZpbGVzKSB7CiAgICByZXR1cm4gewogICAgICByZXNwb25zZTogewogICAgICAgIGFjdGlvbjogJ2NvbXBsZXRlJywKICAgICAgfQogICAgfTsKICB9CgogIGZvciAoY29uc3QgZmlsZSBvZiBmaWxlcykgewogICAgY29uc3QgbGkgPSBkb2N1bWVudC5jcmVhdGVFbGVtZW50KCdsaScpOwogICAgbGkuYXBwZW5kKHNwYW4oZmlsZS5uYW1lLCB7Zm9udFdlaWdodDogJ2JvbGQnfSkpOwogICAgbGkuYXBwZW5kKHNwYW4oCiAgICAgICAgYCgke2ZpbGUudHlwZSB8fCAnbi9hJ30pIC0gJHtmaWxlLnNpemV9IGJ5dGVzLCBgICsKICAgICAgICBgbGFzdCBtb2RpZmllZDogJHsKICAgICAgICAgICAgZmlsZS5sYXN0TW9kaWZpZWREYXRlID8gZmlsZS5sYXN0TW9kaWZpZWREYXRlLnRvTG9jYWxlRGF0ZVN0cmluZygpIDoKICAgICAgICAgICAgICAgICAgICAgICAgICAgICAgICAgICAgJ24vYSd9IC0gYCkpOwogICAgY29uc3QgcGVyY2VudCA9IHNwYW4oJzAlIGRvbmUnKTsKICAgIGxpLmFwcGVuZENoaWxkKHBlcmNlbnQpOwoKICAgIG91dHB1dEVsZW1lbnQuYXBwZW5kQ2hpbGQobGkpOwoKICAgIGNvbnN0IGZpbGVEYXRhUHJvbWlzZSA9IG5ldyBQcm9taXNlKChyZXNvbHZlKSA9PiB7CiAgICAgIGNvbnN0IHJlYWRlciA9IG5ldyBGaWxlUmVhZGVyKCk7CiAgICAgIHJlYWRlci5vbmxvYWQgPSAoZSkgPT4gewogICAgICAgIHJlc29sdmUoZS50YXJnZXQucmVzdWx0KTsKICAgICAgfTsKICAgICAgcmVhZGVyLnJlYWRBc0FycmF5QnVmZmVyKGZpbGUpOwogICAgfSk7CiAgICAvLyBXYWl0IGZvciB0aGUgZGF0YSB0byBiZSByZWFkeS4KICAgIGxldCBmaWxlRGF0YSA9IHlpZWxkIHsKICAgICAgcHJvbWlzZTogZmlsZURhdGFQcm9taXNlLAogICAgICByZXNwb25zZTogewogICAgICAgIGFjdGlvbjogJ2NvbnRpbnVlJywKICAgICAgfQogICAgfTsKCiAgICAvLyBVc2UgYSBjaHVua2VkIHNlbmRpbmcgdG8gYXZvaWQgbWVzc2FnZSBzaXplIGxpbWl0cy4gU2VlIGIvNjIxMTU2NjAuCiAgICBsZXQgcG9zaXRpb24gPSAwOwogICAgZG8gewogICAgICBjb25zdCBsZW5ndGggPSBNYXRoLm1pbihmaWxlRGF0YS5ieXRlTGVuZ3RoIC0gcG9zaXRpb24sIE1BWF9QQVlMT0FEX1NJWkUpOwogICAgICBjb25zdCBjaHVuayA9IG5ldyBVaW50OEFycmF5KGZpbGVEYXRhLCBwb3NpdGlvbiwgbGVuZ3RoKTsKICAgICAgcG9zaXRpb24gKz0gbGVuZ3RoOwoKICAgICAgY29uc3QgYmFzZTY0ID0gYnRvYShTdHJpbmcuZnJvbUNoYXJDb2RlLmFwcGx5KG51bGwsIGNodW5rKSk7CiAgICAgIHlpZWxkIHsKICAgICAgICByZXNwb25zZTogewogICAgICAgICAgYWN0aW9uOiAnYXBwZW5kJywKICAgICAgICAgIGZpbGU6IGZpbGUubmFtZSwKICAgICAgICAgIGRhdGE6IGJhc2U2NCwKICAgICAgICB9LAogICAgICB9OwoKICAgICAgbGV0IHBlcmNlbnREb25lID0gZmlsZURhdGEuYnl0ZUxlbmd0aCA9PT0gMCA/CiAgICAgICAgICAxMDAgOgogICAgICAgICAgTWF0aC5yb3VuZCgocG9zaXRpb24gLyBmaWxlRGF0YS5ieXRlTGVuZ3RoKSAqIDEwMCk7CiAgICAgIHBlcmNlbnQudGV4dENvbnRlbnQgPSBgJHtwZXJjZW50RG9uZX0lIGRvbmVgOwoKICAgIH0gd2hpbGUgKHBvc2l0aW9uIDwgZmlsZURhdGEuYnl0ZUxlbmd0aCk7CiAgfQoKICAvLyBBbGwgZG9uZS4KICB5aWVsZCB7CiAgICByZXNwb25zZTogewogICAgICBhY3Rpb246ICdjb21wbGV0ZScsCiAgICB9CiAgfTsKfQoKc2NvcGUuZ29vZ2xlID0gc2NvcGUuZ29vZ2xlIHx8IHt9OwpzY29wZS5nb29nbGUuY29sYWIgPSBzY29wZS5nb29nbGUuY29sYWIgfHwge307CnNjb3BlLmdvb2dsZS5jb2xhYi5fZmlsZXMgPSB7CiAgX3VwbG9hZEZpbGVzLAogIF91cGxvYWRGaWxlc0NvbnRpbnVlLAp9Owp9KShzZWxmKTsK",
              "ok": true,
              "headers": [
                [
                  "content-length",
                  "5271"
                ],
                [
                  "content-type",
                  "application/javascript"
                ]
              ],
              "status": 200,
              "status_text": "OK"
            }
          },
          "base_uri": "https://localhost:8080/",
          "height": 73
        },
        "id": "QOeTOsAZMJ5f",
        "outputId": "49f20c66-5e1d-4084-bd09-7e1cf022e35b"
      },
      "execution_count": 1,
      "outputs": [
        {
          "output_type": "display_data",
          "data": {
            "text/html": [
              "\n",
              "     <input type=\"file\" id=\"files-5f46b293-c29f-4017-a7c9-157888846c49\" name=\"files[]\" multiple disabled\n",
              "        style=\"border:none\" />\n",
              "     <output id=\"result-5f46b293-c29f-4017-a7c9-157888846c49\">\n",
              "      Upload widget is only available when the cell has been executed in the\n",
              "      current browser session. Please rerun this cell to enable.\n",
              "      </output>\n",
              "      <script src=\"/nbextensions/google.colab/files.js\"></script> "
            ],
            "text/plain": [
              "<IPython.core.display.HTML object>"
            ]
          },
          "metadata": {}
        },
        {
          "output_type": "stream",
          "name": "stdout",
          "text": [
            "Saving kaggle.json to kaggle.json\n"
          ]
        }
      ]
    },
    {
      "cell_type": "markdown",
      "source": [
        "### Downloading the dataset"
      ],
      "metadata": {
        "id": "Mrc9vWMvNIu_"
      }
    },
    {
      "cell_type": "code",
      "source": [
        "!kaggle datasets download -d datasnaek/mbti-type"
      ],
      "metadata": {
        "colab": {
          "base_uri": "https://localhost:8080/"
        },
        "id": "B9BH7lnDKC1J",
        "outputId": "43f96876-2bda-4303-9ff1-d52547dae957"
      },
      "execution_count": 2,
      "outputs": [
        {
          "output_type": "stream",
          "name": "stdout",
          "text": [
            "Downloading mbti-type.zip to /content\n",
            " 37% 9.00M/24.4M [00:00<00:00, 73.0MB/s]\n",
            "100% 24.4M/24.4M [00:00<00:00, 120MB/s] \n"
          ]
        }
      ]
    },
    {
      "cell_type": "code",
      "source": [
        "!unzip /content/mbti-type.zip"
      ],
      "metadata": {
        "colab": {
          "base_uri": "https://localhost:8080/"
        },
        "id": "ZoSoy_v1NWLd",
        "outputId": "9a4e8498-93cd-4d3b-cfbe-063df7669b13"
      },
      "execution_count": 3,
      "outputs": [
        {
          "output_type": "stream",
          "name": "stdout",
          "text": [
            "Archive:  /content/mbti-type.zip\n",
            "  inflating: mbti_1.csv              \n"
          ]
        }
      ]
    },
    {
      "cell_type": "markdown",
      "source": [
        "### Setup"
      ],
      "metadata": {
        "id": "Q3lUXrtzJ-31"
      }
    },
    {
      "cell_type": "code",
      "execution_count": null,
      "metadata": {
        "id": "LD_PNPxYJnzq"
      },
      "outputs": [],
      "source": [
        "!pip install transformers\n",
        "!pip install pyyaml==5.4.1"
      ]
    },
    {
      "cell_type": "markdown",
      "source": [
        "### Importing Dependencies"
      ],
      "metadata": {
        "id": "tRW1bPEPNer7"
      }
    },
    {
      "cell_type": "code",
      "source": [
        "import pandas as pd\n",
        "import numpy as np\n",
        "\n",
        "import os\n",
        "from pathlib import Path\n",
        "from datetime import datetime\n",
        "import re\n",
        "\n",
        "import seaborn as sns\n",
        "import plotly.express as px\n",
        "import matplotlib.pyplot as plt\n",
        "\n",
        "from sklearn.preprocessing import LabelEncoder\n",
        "from sklearn.model_selection import train_test_split\n",
        "\n",
        "import tensorflow as tf\n",
        "import tensorflow.keras.backend as K\n",
        "from tensorflow.keras.models import Model\n",
        "from tensorflow.keras.layers import BatchNormalization, Dense, Input\n",
        "\n",
        "from transformers import AutoTokenizer, BertTokenizer\n",
        "from transformers import TFAutoModelForSequenceClassification, TFBertModel\n",
        "\n",
        "import spacy\n",
        "from tqdm import tqdm"
      ],
      "metadata": {
        "id": "KMuK7hWiNalM"
      },
      "execution_count": 69,
      "outputs": []
    },
    {
      "cell_type": "markdown",
      "source": [
        "### Loading Dataset"
      ],
      "metadata": {
        "id": "QKAFOeFSS7tT"
      }
    },
    {
      "cell_type": "code",
      "source": [
        "df = pd.read_csv(\"/content/mbti_1.csv\")"
      ],
      "metadata": {
        "id": "H2oL19QfQ4zt"
      },
      "execution_count": 6,
      "outputs": []
    },
    {
      "cell_type": "code",
      "source": [
        "df.head()"
      ],
      "metadata": {
        "colab": {
          "base_uri": "https://localhost:8080/",
          "height": 206
        },
        "id": "qfb3aYY2S_oY",
        "outputId": "53920815-85bf-49ca-e4b8-ebe6d7806f84"
      },
      "execution_count": 7,
      "outputs": [
        {
          "output_type": "execute_result",
          "data": {
            "text/html": [
              "\n",
              "  <div id=\"df-e5110850-f8a5-475a-87e3-e8d841ae5f67\">\n",
              "    <div class=\"colab-df-container\">\n",
              "      <div>\n",
              "<style scoped>\n",
              "    .dataframe tbody tr th:only-of-type {\n",
              "        vertical-align: middle;\n",
              "    }\n",
              "\n",
              "    .dataframe tbody tr th {\n",
              "        vertical-align: top;\n",
              "    }\n",
              "\n",
              "    .dataframe thead th {\n",
              "        text-align: right;\n",
              "    }\n",
              "</style>\n",
              "<table border=\"1\" class=\"dataframe\">\n",
              "  <thead>\n",
              "    <tr style=\"text-align: right;\">\n",
              "      <th></th>\n",
              "      <th>type</th>\n",
              "      <th>posts</th>\n",
              "    </tr>\n",
              "  </thead>\n",
              "  <tbody>\n",
              "    <tr>\n",
              "      <th>0</th>\n",
              "      <td>INFJ</td>\n",
              "      <td>'http://www.youtube.com/watch?v=qsXHcwe3krw|||...</td>\n",
              "    </tr>\n",
              "    <tr>\n",
              "      <th>1</th>\n",
              "      <td>ENTP</td>\n",
              "      <td>'I'm finding the lack of me in these posts ver...</td>\n",
              "    </tr>\n",
              "    <tr>\n",
              "      <th>2</th>\n",
              "      <td>INTP</td>\n",
              "      <td>'Good one  _____   https://www.youtube.com/wat...</td>\n",
              "    </tr>\n",
              "    <tr>\n",
              "      <th>3</th>\n",
              "      <td>INTJ</td>\n",
              "      <td>'Dear INTP,   I enjoyed our conversation the o...</td>\n",
              "    </tr>\n",
              "    <tr>\n",
              "      <th>4</th>\n",
              "      <td>ENTJ</td>\n",
              "      <td>'You're fired.|||That's another silly misconce...</td>\n",
              "    </tr>\n",
              "  </tbody>\n",
              "</table>\n",
              "</div>\n",
              "      <button class=\"colab-df-convert\" onclick=\"convertToInteractive('df-e5110850-f8a5-475a-87e3-e8d841ae5f67')\"\n",
              "              title=\"Convert this dataframe to an interactive table.\"\n",
              "              style=\"display:none;\">\n",
              "        \n",
              "  <svg xmlns=\"http://www.w3.org/2000/svg\" height=\"24px\"viewBox=\"0 0 24 24\"\n",
              "       width=\"24px\">\n",
              "    <path d=\"M0 0h24v24H0V0z\" fill=\"none\"/>\n",
              "    <path d=\"M18.56 5.44l.94 2.06.94-2.06 2.06-.94-2.06-.94-.94-2.06-.94 2.06-2.06.94zm-11 1L8.5 8.5l.94-2.06 2.06-.94-2.06-.94L8.5 2.5l-.94 2.06-2.06.94zm10 10l.94 2.06.94-2.06 2.06-.94-2.06-.94-.94-2.06-.94 2.06-2.06.94z\"/><path d=\"M17.41 7.96l-1.37-1.37c-.4-.4-.92-.59-1.43-.59-.52 0-1.04.2-1.43.59L10.3 9.45l-7.72 7.72c-.78.78-.78 2.05 0 2.83L4 21.41c.39.39.9.59 1.41.59.51 0 1.02-.2 1.41-.59l7.78-7.78 2.81-2.81c.8-.78.8-2.07 0-2.86zM5.41 20L4 18.59l7.72-7.72 1.47 1.35L5.41 20z\"/>\n",
              "  </svg>\n",
              "      </button>\n",
              "      \n",
              "  <style>\n",
              "    .colab-df-container {\n",
              "      display:flex;\n",
              "      flex-wrap:wrap;\n",
              "      gap: 12px;\n",
              "    }\n",
              "\n",
              "    .colab-df-convert {\n",
              "      background-color: #E8F0FE;\n",
              "      border: none;\n",
              "      border-radius: 50%;\n",
              "      cursor: pointer;\n",
              "      display: none;\n",
              "      fill: #1967D2;\n",
              "      height: 32px;\n",
              "      padding: 0 0 0 0;\n",
              "      width: 32px;\n",
              "    }\n",
              "\n",
              "    .colab-df-convert:hover {\n",
              "      background-color: #E2EBFA;\n",
              "      box-shadow: 0px 1px 2px rgba(60, 64, 67, 0.3), 0px 1px 3px 1px rgba(60, 64, 67, 0.15);\n",
              "      fill: #174EA6;\n",
              "    }\n",
              "\n",
              "    [theme=dark] .colab-df-convert {\n",
              "      background-color: #3B4455;\n",
              "      fill: #D2E3FC;\n",
              "    }\n",
              "\n",
              "    [theme=dark] .colab-df-convert:hover {\n",
              "      background-color: #434B5C;\n",
              "      box-shadow: 0px 1px 3px 1px rgba(0, 0, 0, 0.15);\n",
              "      filter: drop-shadow(0px 1px 2px rgba(0, 0, 0, 0.3));\n",
              "      fill: #FFFFFF;\n",
              "    }\n",
              "  </style>\n",
              "\n",
              "      <script>\n",
              "        const buttonEl =\n",
              "          document.querySelector('#df-e5110850-f8a5-475a-87e3-e8d841ae5f67 button.colab-df-convert');\n",
              "        buttonEl.style.display =\n",
              "          google.colab.kernel.accessAllowed ? 'block' : 'none';\n",
              "\n",
              "        async function convertToInteractive(key) {\n",
              "          const element = document.querySelector('#df-e5110850-f8a5-475a-87e3-e8d841ae5f67');\n",
              "          const dataTable =\n",
              "            await google.colab.kernel.invokeFunction('convertToInteractive',\n",
              "                                                     [key], {});\n",
              "          if (!dataTable) return;\n",
              "\n",
              "          const docLinkHtml = 'Like what you see? Visit the ' +\n",
              "            '<a target=\"_blank\" href=https://colab.research.google.com/notebooks/data_table.ipynb>data table notebook</a>'\n",
              "            + ' to learn more about interactive tables.';\n",
              "          element.innerHTML = '';\n",
              "          dataTable['output_type'] = 'display_data';\n",
              "          await google.colab.output.renderOutput(dataTable, element);\n",
              "          const docLink = document.createElement('div');\n",
              "          docLink.innerHTML = docLinkHtml;\n",
              "          element.appendChild(docLink);\n",
              "        }\n",
              "      </script>\n",
              "    </div>\n",
              "  </div>\n",
              "  "
            ],
            "text/plain": [
              "   type                                              posts\n",
              "0  INFJ  'http://www.youtube.com/watch?v=qsXHcwe3krw|||...\n",
              "1  ENTP  'I'm finding the lack of me in these posts ver...\n",
              "2  INTP  'Good one  _____   https://www.youtube.com/wat...\n",
              "3  INTJ  'Dear INTP,   I enjoyed our conversation the o...\n",
              "4  ENTJ  'You're fired.|||That's another silly misconce..."
            ]
          },
          "metadata": {},
          "execution_count": 7
        }
      ]
    },
    {
      "cell_type": "markdown",
      "source": [
        "### Check if TPU is available"
      ],
      "metadata": {
        "id": "GuecW4j9TOyH"
      }
    },
    {
      "cell_type": "code",
      "source": [
        "use_tpu = True\n",
        "\n",
        "try:\n",
        "    tpu = tf.distribute.cluster_resolver.TPUClusterResolver()  # TPU detection\n",
        "    print('Running on TPU ', tpu.cluster_spec().as_dict()['worker'])\n",
        "    \n",
        "except ValueError:\n",
        "    tpu = None\n",
        "\n",
        "if tpu:\n",
        "    tf.config.experimental_connect_to_cluster(tpu)\n",
        "    tf.tpu.experimental.initialize_tpu_system(tpu)\n",
        "    strategy = tf.distribute.experimental.TPUStrategy(tpu)\n",
        "else:\n",
        "    strategy = tf.distribute.MirroredStrategy()\n",
        "\n",
        "print(\"REPLICAS: \", strategy.num_replicas_in_sync)"
      ],
      "metadata": {
        "colab": {
          "base_uri": "https://localhost:8080/"
        },
        "id": "ZQt_WpzgTAcC",
        "outputId": "e286ee74-b1b2-44ee-c264-09202d548119"
      },
      "execution_count": 8,
      "outputs": [
        {
          "output_type": "stream",
          "name": "stdout",
          "text": [
            "Running on TPU  ['10.53.137.170:8470']\n",
            "INFO:tensorflow:Deallocate tpu buffers before initializing tpu system.\n"
          ]
        },
        {
          "output_type": "stream",
          "name": "stderr",
          "text": [
            "INFO:tensorflow:Deallocate tpu buffers before initializing tpu system.\n"
          ]
        },
        {
          "output_type": "stream",
          "name": "stdout",
          "text": [
            "INFO:tensorflow:Initializing the TPU system: grpc://10.53.137.170:8470\n"
          ]
        },
        {
          "output_type": "stream",
          "name": "stderr",
          "text": [
            "INFO:tensorflow:Initializing the TPU system: grpc://10.53.137.170:8470\n"
          ]
        },
        {
          "output_type": "stream",
          "name": "stdout",
          "text": [
            "INFO:tensorflow:Finished initializing TPU system.\n"
          ]
        },
        {
          "output_type": "stream",
          "name": "stderr",
          "text": [
            "INFO:tensorflow:Finished initializing TPU system.\n",
            "WARNING:absl:`tf.distribute.experimental.TPUStrategy` is deprecated, please use  the non experimental symbol `tf.distribute.TPUStrategy` instead.\n"
          ]
        },
        {
          "output_type": "stream",
          "name": "stdout",
          "text": [
            "INFO:tensorflow:Found TPU system:\n"
          ]
        },
        {
          "output_type": "stream",
          "name": "stderr",
          "text": [
            "INFO:tensorflow:Found TPU system:\n"
          ]
        },
        {
          "output_type": "stream",
          "name": "stdout",
          "text": [
            "INFO:tensorflow:*** Num TPU Cores: 8\n"
          ]
        },
        {
          "output_type": "stream",
          "name": "stderr",
          "text": [
            "INFO:tensorflow:*** Num TPU Cores: 8\n"
          ]
        },
        {
          "output_type": "stream",
          "name": "stdout",
          "text": [
            "INFO:tensorflow:*** Num TPU Workers: 1\n"
          ]
        },
        {
          "output_type": "stream",
          "name": "stderr",
          "text": [
            "INFO:tensorflow:*** Num TPU Workers: 1\n"
          ]
        },
        {
          "output_type": "stream",
          "name": "stdout",
          "text": [
            "INFO:tensorflow:*** Num TPU Cores Per Worker: 8\n"
          ]
        },
        {
          "output_type": "stream",
          "name": "stderr",
          "text": [
            "INFO:tensorflow:*** Num TPU Cores Per Worker: 8\n"
          ]
        },
        {
          "output_type": "stream",
          "name": "stdout",
          "text": [
            "INFO:tensorflow:*** Available Device: _DeviceAttributes(/job:localhost/replica:0/task:0/device:CPU:0, CPU, 0, 0)\n"
          ]
        },
        {
          "output_type": "stream",
          "name": "stderr",
          "text": [
            "INFO:tensorflow:*** Available Device: _DeviceAttributes(/job:localhost/replica:0/task:0/device:CPU:0, CPU, 0, 0)\n"
          ]
        },
        {
          "output_type": "stream",
          "name": "stdout",
          "text": [
            "INFO:tensorflow:*** Available Device: _DeviceAttributes(/job:worker/replica:0/task:0/device:CPU:0, CPU, 0, 0)\n"
          ]
        },
        {
          "output_type": "stream",
          "name": "stderr",
          "text": [
            "INFO:tensorflow:*** Available Device: _DeviceAttributes(/job:worker/replica:0/task:0/device:CPU:0, CPU, 0, 0)\n"
          ]
        },
        {
          "output_type": "stream",
          "name": "stdout",
          "text": [
            "INFO:tensorflow:*** Available Device: _DeviceAttributes(/job:worker/replica:0/task:0/device:TPU:0, TPU, 0, 0)\n"
          ]
        },
        {
          "output_type": "stream",
          "name": "stderr",
          "text": [
            "INFO:tensorflow:*** Available Device: _DeviceAttributes(/job:worker/replica:0/task:0/device:TPU:0, TPU, 0, 0)\n"
          ]
        },
        {
          "output_type": "stream",
          "name": "stdout",
          "text": [
            "INFO:tensorflow:*** Available Device: _DeviceAttributes(/job:worker/replica:0/task:0/device:TPU:1, TPU, 0, 0)\n"
          ]
        },
        {
          "output_type": "stream",
          "name": "stderr",
          "text": [
            "INFO:tensorflow:*** Available Device: _DeviceAttributes(/job:worker/replica:0/task:0/device:TPU:1, TPU, 0, 0)\n"
          ]
        },
        {
          "output_type": "stream",
          "name": "stdout",
          "text": [
            "INFO:tensorflow:*** Available Device: _DeviceAttributes(/job:worker/replica:0/task:0/device:TPU:2, TPU, 0, 0)\n"
          ]
        },
        {
          "output_type": "stream",
          "name": "stderr",
          "text": [
            "INFO:tensorflow:*** Available Device: _DeviceAttributes(/job:worker/replica:0/task:0/device:TPU:2, TPU, 0, 0)\n"
          ]
        },
        {
          "output_type": "stream",
          "name": "stdout",
          "text": [
            "INFO:tensorflow:*** Available Device: _DeviceAttributes(/job:worker/replica:0/task:0/device:TPU:3, TPU, 0, 0)\n"
          ]
        },
        {
          "output_type": "stream",
          "name": "stderr",
          "text": [
            "INFO:tensorflow:*** Available Device: _DeviceAttributes(/job:worker/replica:0/task:0/device:TPU:3, TPU, 0, 0)\n"
          ]
        },
        {
          "output_type": "stream",
          "name": "stdout",
          "text": [
            "INFO:tensorflow:*** Available Device: _DeviceAttributes(/job:worker/replica:0/task:0/device:TPU:4, TPU, 0, 0)\n"
          ]
        },
        {
          "output_type": "stream",
          "name": "stderr",
          "text": [
            "INFO:tensorflow:*** Available Device: _DeviceAttributes(/job:worker/replica:0/task:0/device:TPU:4, TPU, 0, 0)\n"
          ]
        },
        {
          "output_type": "stream",
          "name": "stdout",
          "text": [
            "INFO:tensorflow:*** Available Device: _DeviceAttributes(/job:worker/replica:0/task:0/device:TPU:5, TPU, 0, 0)\n"
          ]
        },
        {
          "output_type": "stream",
          "name": "stderr",
          "text": [
            "INFO:tensorflow:*** Available Device: _DeviceAttributes(/job:worker/replica:0/task:0/device:TPU:5, TPU, 0, 0)\n"
          ]
        },
        {
          "output_type": "stream",
          "name": "stdout",
          "text": [
            "INFO:tensorflow:*** Available Device: _DeviceAttributes(/job:worker/replica:0/task:0/device:TPU:6, TPU, 0, 0)\n"
          ]
        },
        {
          "output_type": "stream",
          "name": "stderr",
          "text": [
            "INFO:tensorflow:*** Available Device: _DeviceAttributes(/job:worker/replica:0/task:0/device:TPU:6, TPU, 0, 0)\n"
          ]
        },
        {
          "output_type": "stream",
          "name": "stdout",
          "text": [
            "INFO:tensorflow:*** Available Device: _DeviceAttributes(/job:worker/replica:0/task:0/device:TPU:7, TPU, 0, 0)\n"
          ]
        },
        {
          "output_type": "stream",
          "name": "stderr",
          "text": [
            "INFO:tensorflow:*** Available Device: _DeviceAttributes(/job:worker/replica:0/task:0/device:TPU:7, TPU, 0, 0)\n"
          ]
        },
        {
          "output_type": "stream",
          "name": "stdout",
          "text": [
            "INFO:tensorflow:*** Available Device: _DeviceAttributes(/job:worker/replica:0/task:0/device:TPU_SYSTEM:0, TPU_SYSTEM, 0, 0)\n"
          ]
        },
        {
          "output_type": "stream",
          "name": "stderr",
          "text": [
            "INFO:tensorflow:*** Available Device: _DeviceAttributes(/job:worker/replica:0/task:0/device:TPU_SYSTEM:0, TPU_SYSTEM, 0, 0)\n"
          ]
        },
        {
          "output_type": "stream",
          "name": "stdout",
          "text": [
            "INFO:tensorflow:*** Available Device: _DeviceAttributes(/job:worker/replica:0/task:0/device:XLA_CPU:0, XLA_CPU, 0, 0)\n"
          ]
        },
        {
          "output_type": "stream",
          "name": "stderr",
          "text": [
            "INFO:tensorflow:*** Available Device: _DeviceAttributes(/job:worker/replica:0/task:0/device:XLA_CPU:0, XLA_CPU, 0, 0)\n"
          ]
        },
        {
          "output_type": "stream",
          "name": "stdout",
          "text": [
            "REPLICAS:  8\n"
          ]
        }
      ]
    },
    {
      "cell_type": "markdown",
      "source": [
        "### Pie Chart for Type Column"
      ],
      "metadata": {
        "id": "EV6P2fxqUAQu"
      }
    },
    {
      "cell_type": "code",
      "source": [
        "px.pie(df,names='type',title='Distribution of personality types',hole=0.3)"
      ],
      "metadata": {
        "colab": {
          "base_uri": "https://localhost:8080/",
          "height": 542
        },
        "id": "kBMzPs36TVYF",
        "outputId": "813127a7-b5db-471d-fd0c-cef24e9f90b6"
      },
      "execution_count": 10,
      "outputs": [
        {
          "output_type": "display_data",
          "data": {
            "text/html": [
              "<html>\n",
              "<head><meta charset=\"utf-8\" /></head>\n",
              "<body>\n",
              "    <div>            <script src=\"https://cdnjs.cloudflare.com/ajax/libs/mathjax/2.7.5/MathJax.js?config=TeX-AMS-MML_SVG\"></script><script type=\"text/javascript\">if (window.MathJax) {MathJax.Hub.Config({SVG: {font: \"STIX-Web\"}});}</script>                <script type=\"text/javascript\">window.PlotlyConfig = {MathJaxConfig: 'local'};</script>\n",
              "        <script src=\"https://cdn.plot.ly/plotly-2.8.3.min.js\"></script>                <div id=\"27b40a2c-2a19-4aab-98fe-0a46de4d89e0\" class=\"plotly-graph-div\" style=\"height:525px; width:100%;\"></div>            <script type=\"text/javascript\">                                    window.PLOTLYENV=window.PLOTLYENV || {};                                    if (document.getElementById(\"27b40a2c-2a19-4aab-98fe-0a46de4d89e0\")) {                    Plotly.newPlot(                        \"27b40a2c-2a19-4aab-98fe-0a46de4d89e0\",                        [{\"domain\":{\"x\":[0.0,1.0],\"y\":[0.0,1.0]},\"hole\":0.3,\"hovertemplate\":\"type=%{label}<extra></extra>\",\"labels\":[\"INFJ\",\"ENTP\",\"INTP\",\"INTJ\",\"ENTJ\",\"INTJ\",\"INFJ\",\"INTJ\",\"INFJ\",\"INTP\",\"INFJ\",\"ENFJ\",\"INFJ\",\"INTJ\",\"INTP\",\"INTP\",\"INFJ\",\"INFP\",\"INFJ\",\"INFP\",\"INTP\",\"INFJ\",\"ENTJ\",\"INFP\",\"ENTJ\",\"INFP\",\"ENFP\",\"ISFP\",\"INFP\",\"INFJ\",\"INFP\",\"INFJ\",\"INTP\",\"INFJ\",\"ENFJ\",\"INFJ\",\"INTJ\",\"INFP\",\"ENFP\",\"ENTJ\",\"ISTP\",\"INFJ\",\"INTP\",\"INFP\",\"INTJ\",\"INTP\",\"ENTJ\",\"INFP\",\"ISFJ\",\"INTJ\",\"INTP\",\"INFP\",\"ISFJ\",\"INTP\",\"INFP\",\"INFP\",\"INFP\",\"ENFJ\",\"INTP\",\"INTJ\",\"INFJ\",\"INTP\",\"INFP\",\"INFP\",\"ENTP\",\"INTP\",\"ISFP\",\"ENFJ\",\"INFJ\",\"ENFJ\",\"INFJ\",\"INFP\",\"ENFP\",\"ISTP\",\"INFJ\",\"INTP\",\"INTJ\",\"INTJ\",\"INTJ\",\"INFP\",\"INFP\",\"INFJ\",\"ENTP\",\"ENTJ\",\"INFP\",\"INTP\",\"INFP\",\"ISFJ\",\"ISTJ\",\"INTP\",\"ENTP\",\"INTP\",\"ISFP\",\"ENFJ\",\"INFJ\",\"INFP\",\"INFJ\",\"INTJ\",\"INFJ\",\"ENFP\",\"INFP\",\"INFP\",\"ENFP\",\"INFJ\",\"ISTP\",\"INFJ\",\"ISTJ\",\"ENFJ\",\"INTP\",\"INTJ\",\"ENTP\",\"INFP\",\"INFP\",\"ESTP\",\"ISTP\",\"ENFP\",\"ENTP\",\"INTP\",\"INFJ\",\"ENFP\",\"ENTP\",\"INTP\",\"INFJ\",\"ISTP\",\"INTP\",\"INTJ\",\"ENTP\",\"INFJ\",\"INFJ\",\"INFJ\",\"ENTJ\",\"ISFJ\",\"INFP\",\"INFJ\",\"INTP\",\"INFJ\",\"INFP\",\"INTP\",\"INFP\",\"ISFP\",\"INTP\",\"INFP\",\"ENFP\",\"ENFP\",\"ENTP\",\"INFJ\",\"INFJ\",\"ENTP\",\"INFP\",\"INFP\",\"INTP\",\"INFJ\",\"ENFP\",\"ENFP\",\"INTP\",\"ENTP\",\"INTJ\",\"INTP\",\"ENTP\",\"ENFP\",\"ESTP\",\"INTJ\",\"INTP\",\"ENTP\",\"INFP\",\"INFJ\",\"INFJ\",\"INTJ\",\"ENFP\",\"INTJ\",\"INTJ\",\"INTP\",\"ISFJ\",\"INTP\",\"ISTP\",\"INTP\",\"INTP\",\"INTP\",\"INTP\",\"INFP\",\"ENTP\",\"INFP\",\"INTP\",\"INTJ\",\"ENTP\",\"INFJ\",\"INTJ\",\"INTP\",\"ISTP\",\"ISTJ\",\"INFP\",\"INTJ\",\"ENFP\",\"INFP\",\"INTP\",\"INTJ\",\"INTJ\",\"INFP\",\"INTP\",\"INTP\",\"ESFP\",\"INTJ\",\"ISFP\",\"INFJ\",\"INTJ\",\"INTJ\",\"INTP\",\"INTP\",\"INFP\",\"ENFP\",\"INFP\",\"INFP\",\"INFP\",\"INFP\",\"INTP\",\"INTP\",\"INFP\",\"INFP\",\"INFP\",\"INFJ\",\"ENFP\",\"INTJ\",\"INFJ\",\"INFJ\",\"ENTP\",\"INTP\",\"INTP\",\"INFP\",\"INFP\",\"INFJ\",\"INTP\",\"INFP\",\"INTP\",\"INFP\",\"INFJ\",\"ENFJ\",\"ISTP\",\"INTJ\",\"INFP\",\"ISFP\",\"ENTJ\",\"ENTP\",\"ISFP\",\"ENFP\",\"INFP\",\"ENFP\",\"ENTP\",\"INFP\",\"INFP\",\"ISFP\",\"INFP\",\"INFJ\",\"ENTP\",\"INFP\",\"ISTP\",\"INTJ\",\"INTP\",\"INFJ\",\"ISTJ\",\"INTJ\",\"INFP\",\"INFJ\",\"INTJ\",\"ENFJ\",\"INFP\",\"INFP\",\"ISTJ\",\"ISTJ\",\"ISFP\",\"INFP\",\"INFJ\",\"INFP\",\"INTP\",\"INFP\",\"INTP\",\"INTJ\",\"INTJ\",\"INFJ\",\"INFP\",\"INTP\",\"INTJ\",\"ENFP\",\"INFP\",\"INTP\",\"ENTJ\",\"INTJ\",\"INFJ\",\"INFP\",\"ENTJ\",\"INTP\",\"INTP\",\"INFP\",\"INTP\",\"ENTP\",\"INTJ\",\"INTP\",\"INTJ\",\"INFP\",\"INFJ\",\"INFJ\",\"INFP\",\"ENFP\",\"INTP\",\"ISTP\",\"INTJ\",\"ENFP\",\"ENFP\",\"ENTP\",\"INTP\",\"INFJ\",\"INTJ\",\"INFP\",\"ENFP\",\"ENFJ\",\"ENTP\",\"ISFP\",\"INFP\",\"INFP\",\"INFP\",\"INTJ\",\"ENTP\",\"ENTP\",\"INTP\",\"INTP\",\"INFJ\",\"INFJ\",\"INTP\",\"ENFP\",\"INFP\",\"INTJ\",\"INTJ\",\"INFP\",\"INFP\",\"INFP\",\"ISFP\",\"ISFJ\",\"INFP\",\"INTP\",\"INFP\",\"INTJ\",\"INTJ\",\"ENTP\",\"ENFJ\",\"ISFJ\",\"INTP\",\"ISFP\",\"ESTP\",\"INFP\",\"INTP\",\"INTJ\",\"INFP\",\"INTJ\",\"INFP\",\"INFP\",\"INFJ\",\"INFP\",\"ENTP\",\"INTP\",\"INTP\",\"INFJ\",\"ENFP\",\"INTJ\",\"ENTP\",\"ENFP\",\"INFJ\",\"ISTJ\",\"INFP\",\"INFP\",\"INFP\",\"INTJ\",\"INTJ\",\"INFP\",\"INFJ\",\"INFP\",\"INFP\",\"ENTP\",\"INTJ\",\"INFP\",\"INTJ\",\"INTJ\",\"INFP\",\"ENFP\",\"ISTP\",\"INFP\",\"ISFP\",\"INFP\",\"ENFP\",\"ENTJ\",\"ENFP\",\"INFJ\",\"INFJ\",\"ISFP\",\"INFP\",\"INTP\",\"ESTP\",\"ENTP\",\"ENFP\",\"INFP\",\"INFP\",\"INFJ\",\"INTJ\",\"ISFP\",\"INFJ\",\"ISFP\",\"INFP\",\"ENFP\",\"INTP\",\"INFP\",\"INFJ\",\"ENFP\",\"INFP\",\"INFJ\",\"INTP\",\"INFJ\",\"INFJ\",\"ISFJ\",\"INFJ\",\"INFP\",\"INFJ\",\"INFP\",\"INTP\",\"ENTP\",\"INTP\",\"INFJ\",\"INFJ\",\"INTJ\",\"INFP\",\"INFP\",\"ENFP\",\"INFP\",\"ESFP\",\"ISTP\",\"INFP\",\"INTP\",\"INFJ\",\"ENFJ\",\"INFP\",\"ENTP\",\"INTJ\",\"INFJ\",\"INFJ\",\"INTP\",\"ISTP\",\"ENFP\",\"ENFP\",\"ENFP\",\"ENFJ\",\"ESTP\",\"INFJ\",\"INTJ\",\"ENTP\",\"INFP\",\"INFP\",\"INTP\",\"INFP\",\"INTJ\",\"ENTP\",\"INTP\",\"ISTJ\",\"INTJ\",\"INTJ\",\"INTJ\",\"ENFP\",\"ISTP\",\"INTJ\",\"INFJ\",\"INFJ\",\"INFP\",\"INFJ\",\"INFP\",\"ENFP\",\"ENTP\",\"INFJ\",\"INFP\",\"ISTP\",\"INFJ\",\"ESTP\",\"ENFP\",\"ISTP\",\"INFP\",\"INFJ\",\"INFP\",\"INTJ\",\"ENFP\",\"INFJ\",\"INTP\",\"INTJ\",\"INTP\",\"ENFP\",\"INFP\",\"ENTJ\",\"INTP\",\"INFP\",\"INTP\",\"INTP\",\"INFP\",\"INFJ\",\"ENTP\",\"INFJ\",\"INTJ\",\"INTJ\",\"INFJ\",\"ENTP\",\"INTJ\",\"INFP\",\"INTP\",\"INFP\",\"ISFP\",\"ISFP\",\"ISTP\",\"INTP\",\"INTJ\",\"INFJ\",\"ENTJ\",\"INTJ\",\"INFJ\",\"ENFJ\",\"INTJ\",\"INFJ\",\"ENTJ\",\"INTP\",\"INTJ\",\"INTJ\",\"ISTP\",\"INFJ\",\"INFP\",\"INFP\",\"INTP\",\"INTP\",\"ESFP\",\"INFJ\",\"INTP\",\"INFJ\",\"ISFJ\",\"ENTJ\",\"INFP\",\"ENTP\",\"INFP\",\"ENFJ\",\"INFP\",\"INFP\",\"ENFP\",\"INFP\",\"ISFJ\",\"INTJ\",\"INFJ\",\"ESTJ\",\"INFJ\",\"INTP\",\"INFP\",\"ISFJ\",\"INFJ\",\"ENTP\",\"ENTJ\",\"ENTP\",\"INTJ\",\"INFP\",\"INFP\",\"INFJ\",\"INTJ\",\"INTJ\",\"INTP\",\"INTJ\",\"INFJ\",\"INFP\",\"ENTP\",\"ENTJ\",\"ISTP\",\"INFP\",\"ENFP\",\"ISTP\",\"INTP\",\"INFP\",\"INFJ\",\"INFJ\",\"ENTP\",\"INFJ\",\"INTP\",\"INTJ\",\"INFP\",\"INFP\",\"INFJ\",\"ENFP\",\"ISFP\",\"INFJ\",\"INTJ\",\"INTP\",\"ENTP\",\"ENFJ\",\"ENTP\",\"INTJ\",\"INFP\",\"ENFP\",\"ESTP\",\"INFP\",\"ESTJ\",\"INFP\",\"ENFP\",\"INFJ\",\"INFP\",\"INFP\",\"INTJ\",\"INFJ\",\"INFP\",\"INTP\",\"INFP\",\"INTJ\",\"ISTP\",\"INFP\",\"INFJ\",\"INFP\",\"INTP\",\"INTP\",\"ENFJ\",\"INFP\",\"INFJ\",\"ENTP\",\"ESFP\",\"INTP\",\"INFP\",\"INFJ\",\"ISTP\",\"INTJ\",\"INFJ\",\"ENFP\",\"INFJ\",\"INFP\",\"ESFJ\",\"INFP\",\"INFJ\",\"ISTJ\",\"INTP\",\"INFP\",\"ISFJ\",\"ESFP\",\"ISTP\",\"ENFP\",\"INTJ\",\"ISTP\",\"ENTP\",\"ENTP\",\"INFP\",\"INTJ\",\"ENFP\",\"INFP\",\"INTJ\",\"INTJ\",\"ENTP\",\"INFP\",\"INFP\",\"ENFP\",\"ENFP\",\"INTP\",\"INFJ\",\"INTP\",\"INFP\",\"INFJ\",\"INTJ\",\"ENTP\",\"INFJ\",\"INTP\",\"INTP\",\"INFJ\",\"INFP\",\"INTP\",\"ISTP\",\"ENTP\",\"INFP\",\"INFP\",\"INTP\",\"ISTP\",\"INTP\",\"INFP\",\"INFP\",\"ENTP\",\"INFP\",\"INFJ\",\"ENTP\",\"ISTP\",\"INFP\",\"INFP\",\"INTJ\",\"ENTJ\",\"ESFJ\",\"ENFP\",\"INFP\",\"INFJ\",\"INFP\",\"INFJ\",\"INFJ\",\"ESFP\",\"INFP\",\"INTJ\",\"ENTP\",\"ENTP\",\"INFP\",\"INTP\",\"INFP\",\"ISTJ\",\"INFP\",\"ENTP\",\"INFJ\",\"ENFP\",\"ENFJ\",\"INTJ\",\"ENTP\",\"INTP\",\"INFP\",\"INFP\",\"ENFP\",\"INFJ\",\"INTJ\",\"INTJ\",\"INFP\",\"INFJ\",\"INFJ\",\"INTJ\",\"INTJ\",\"INTP\",\"INFJ\",\"INFJ\",\"INFP\",\"INFJ\",\"INTJ\",\"INTP\",\"INFJ\",\"INFP\",\"INTJ\",\"INTJ\",\"INTP\",\"INTP\",\"ISFP\",\"ESFP\",\"INFJ\",\"ISFP\",\"INTP\",\"ISTP\",\"ENTJ\",\"ENFP\",\"ENTP\",\"INTJ\",\"INFP\",\"ISFP\",\"ESTP\",\"ISTP\",\"INFP\",\"INFJ\",\"ENFJ\",\"INTP\",\"ENFP\",\"INTP\",\"ISTP\",\"INFJ\",\"INFP\",\"INTP\",\"INFJ\",\"INTJ\",\"INFJ\",\"INFJ\",\"INFJ\",\"ENTJ\",\"ISTP\",\"INFP\",\"INFJ\",\"ESTJ\",\"INFJ\",\"INTP\",\"INFP\",\"INFP\",\"INFP\",\"INTP\",\"ENFP\",\"INFP\",\"ENTP\",\"ENFP\",\"ENFJ\",\"ISTP\",\"INFP\",\"INTJ\",\"INTP\",\"ISTP\",\"INTJ\",\"INFP\",\"ISFJ\",\"INFP\",\"INTP\",\"ENFJ\",\"INFJ\",\"ENFP\",\"INTP\",\"INTJ\",\"INFJ\",\"ENTP\",\"ENFP\",\"INFP\",\"INTJ\",\"INFP\",\"INTJ\",\"INTP\",\"ENTJ\",\"INTP\",\"INTP\",\"INFJ\",\"INFJ\",\"INFJ\",\"INTP\",\"ENTP\",\"INFJ\",\"ISTP\",\"INFP\",\"ESTP\",\"INTJ\",\"ENTP\",\"INFP\",\"ESFJ\",\"INFJ\",\"INTP\",\"INFJ\",\"INTJ\",\"ENTJ\",\"ISTP\",\"INFJ\",\"INFJ\",\"ISTP\",\"INTP\",\"ENTP\",\"INFP\",\"ENFP\",\"ENTJ\",\"INTP\",\"ENTJ\",\"INTP\",\"ISTP\",\"INFP\",\"ENTJ\",\"INTJ\",\"INFP\",\"INFP\",\"ENTP\",\"ENFJ\",\"INTJ\",\"INTP\",\"INTP\",\"INTP\",\"INTP\",\"INFP\",\"ENTJ\",\"INTP\",\"INTP\",\"INTJ\",\"INTJ\",\"INTJ\",\"INTJ\",\"INFP\",\"ESTP\",\"INTP\",\"INFP\",\"INFJ\",\"ISTP\",\"INTP\",\"INFP\",\"INFP\",\"INFJ\",\"INTJ\",\"INTP\",\"INFJ\",\"ENFP\",\"ENTJ\",\"INTP\",\"INTJ\",\"INTP\",\"ISTP\",\"INFP\",\"INFP\",\"INFP\",\"ENTP\",\"INFP\",\"INTJ\",\"INFP\",\"INTJ\",\"INFJ\",\"INFP\",\"INTJ\",\"INFP\",\"ENFP\",\"ESTP\",\"ISFP\",\"INTP\",\"ENFP\",\"INTJ\",\"INFP\",\"INTP\",\"INFP\",\"INTP\",\"INFJ\",\"INTP\",\"INFJ\",\"INFP\",\"ISTP\",\"INTJ\",\"INFJ\",\"INTP\",\"INTP\",\"INTP\",\"INTJ\",\"INFP\",\"INFJ\",\"INTP\",\"ENTP\",\"INFP\",\"INFP\",\"INFJ\",\"INFP\",\"INFP\",\"ESFJ\",\"INFP\",\"INTJ\",\"INFP\",\"ENFP\",\"INFP\",\"INFP\",\"INFP\",\"ENTP\",\"ISTP\",\"INFJ\",\"INFP\",\"ISFP\",\"INFP\",\"ISTP\",\"INFJ\",\"ENFJ\",\"INTJ\",\"INFJ\",\"INFP\",\"INFP\",\"ENTP\",\"INFJ\",\"INFP\",\"INFP\",\"INTP\",\"ISTP\",\"INTJ\",\"INFP\",\"ISTJ\",\"INFJ\",\"INTJ\",\"INFP\",\"ISFJ\",\"INFJ\",\"INTP\",\"INFP\",\"INTJ\",\"INFP\",\"ISFP\",\"INFP\",\"ENTJ\",\"INFP\",\"INTJ\",\"INFJ\",\"ISFP\",\"ENFP\",\"INFJ\",\"ISFJ\",\"INFJ\",\"INTP\",\"INFP\",\"ENFP\",\"INFP\",\"INFP\",\"ENFP\",\"INFP\",\"INTP\",\"INFP\",\"ENFP\",\"ENFP\",\"INTP\",\"INFP\",\"INTP\",\"INTJ\",\"INTJ\",\"ENTP\",\"ENTP\",\"INFP\",\"ENTP\",\"INTP\",\"ENTP\",\"ENFJ\",\"ISFP\",\"INFP\",\"ENTP\",\"INFJ\",\"INTP\",\"ISTP\",\"INTJ\",\"INFP\",\"ENFP\",\"ENTP\",\"INFP\",\"ENTJ\",\"ISTJ\",\"ISFJ\",\"INTJ\",\"INFJ\",\"INTJ\",\"INFP\",\"INTJ\",\"INTJ\",\"ISTP\",\"INFJ\",\"INFJ\",\"INFP\",\"INTJ\",\"INFP\",\"ENFP\",\"INFP\",\"INFP\",\"INFP\",\"ENFJ\",\"INTJ\",\"INFJ\",\"INFP\",\"INFP\",\"ENTP\",\"ENTP\",\"INFP\",\"INTP\",\"ISTP\",\"INFP\",\"ENTP\",\"ENFP\",\"INTJ\",\"ISFP\",\"ENTP\",\"INFP\",\"INFP\",\"INFJ\",\"INTJ\",\"ENFP\",\"INTP\",\"ENFP\",\"INTP\",\"INTJ\",\"INTP\",\"INTJ\",\"INFJ\",\"INFP\",\"INTJ\",\"ENFP\",\"ENTP\",\"ISTJ\",\"ISFP\",\"INFJ\",\"ISFJ\",\"ENFJ\",\"INFP\",\"ISTP\",\"INFJ\",\"ENTP\",\"ENTP\",\"ISTP\",\"ISFP\",\"ISFJ\",\"ISFP\",\"ISTJ\",\"INFP\",\"INFP\",\"ENFP\",\"ISFP\",\"INFP\",\"INFP\",\"ISTP\",\"INTP\",\"INFP\",\"INTJ\",\"INFJ\",\"ENFP\",\"INTP\",\"ENFJ\",\"INFP\",\"INFP\",\"INFP\",\"INFP\",\"ENTP\",\"ENTP\",\"INFJ\",\"INFP\",\"INFP\",\"INTJ\",\"ISFP\",\"ISTJ\",\"ENFP\",\"INFP\",\"ENTP\",\"ENFJ\",\"INFP\",\"INFP\",\"INFP\",\"INFP\",\"INFJ\",\"INTJ\",\"INFP\",\"INFJ\",\"INTP\",\"ISTP\",\"INFP\",\"INFJ\",\"INTP\",\"INFJ\",\"INFP\",\"INTP\",\"INFJ\",\"INTP\",\"ESTJ\",\"ENTP\",\"INFJ\",\"ENTJ\",\"INTJ\",\"INTJ\",\"ISTP\",\"ISTP\",\"ENTP\",\"INFJ\",\"INFP\",\"ENFP\",\"INTP\",\"INTP\",\"INFJ\",\"ISFJ\",\"ISTJ\",\"INFJ\",\"INFJ\",\"INFP\",\"INFP\",\"ENTP\",\"ESFP\",\"INTJ\",\"INTJ\",\"INFJ\",\"INTP\",\"ISFP\",\"INFJ\",\"ISTJ\",\"INTJ\",\"INFP\",\"ENTP\",\"INTP\",\"INTJ\",\"INFP\",\"ENFP\",\"INTP\",\"INFP\",\"INFP\",\"INFP\",\"INFJ\",\"ISFJ\",\"ISFJ\",\"INFP\",\"INFP\",\"INTJ\",\"ENFP\",\"ISFP\",\"ENTJ\",\"INTP\",\"ENTP\",\"INTJ\",\"INFP\",\"ISTJ\",\"INFP\",\"INFP\",\"INFP\",\"INTJ\",\"INTP\",\"ISTP\",\"ENFP\",\"INTJ\",\"INTJ\",\"ISFP\",\"ENTP\",\"INFJ\",\"INFP\",\"INTP\",\"ENTP\",\"INFP\",\"INFP\",\"ISFP\",\"ENFP\",\"INTP\",\"ENFP\",\"INFP\",\"INFP\",\"INTJ\",\"INFP\",\"ESTP\",\"INTJ\",\"INFP\",\"INFJ\",\"INTJ\",\"INFJ\",\"INFP\",\"ENTP\",\"INTP\",\"ISTJ\",\"INFP\",\"ENFP\",\"ENTP\",\"INFJ\",\"ISTJ\",\"ESTP\",\"INTJ\",\"ENTP\",\"INFJ\",\"ESTP\",\"ENFP\",\"INTJ\",\"ENTP\",\"ENTP\",\"ISTJ\",\"ENTP\",\"ESFP\",\"INFP\",\"ENTP\",\"ENFJ\",\"INFJ\",\"INFP\",\"ENFP\",\"INTJ\",\"INFP\",\"ESFJ\",\"INFP\",\"INTJ\",\"INFJ\",\"INTJ\",\"INTJ\",\"INFP\",\"ENTP\",\"INTJ\",\"ENFP\",\"INFJ\",\"INFP\",\"ISFP\",\"ESTJ\",\"INFP\",\"ENFP\",\"INTP\",\"INTJ\",\"INTJ\",\"INFP\",\"ENTJ\",\"ENFP\",\"ENFJ\",\"INFP\",\"ISFP\",\"INTP\",\"INFP\",\"INFJ\",\"ENFP\",\"INTJ\",\"INFP\",\"INFP\",\"INFJ\",\"INFJ\",\"ENTP\",\"INFJ\",\"INTP\",\"ENTP\",\"INFP\",\"ENFP\",\"ENTJ\",\"ISFJ\",\"INFJ\",\"INTP\",\"INFP\",\"INTP\",\"INFP\",\"INTJ\",\"INTJ\",\"INFJ\",\"INFJ\",\"ENTP\",\"ESTP\",\"ISTP\",\"ENTP\",\"INFJ\",\"INTP\",\"INFJ\",\"ENTP\",\"INTJ\",\"ENTP\",\"INTJ\",\"INTP\",\"ISTP\",\"INTP\",\"INFJ\",\"ENFP\",\"ISTJ\",\"INTP\",\"INFP\",\"INFJ\",\"INFJ\",\"INFJ\",\"INFP\",\"INFJ\",\"INFP\",\"ESTP\",\"INFJ\",\"INFP\",\"ISFJ\",\"INFP\",\"ENTP\",\"ENTP\",\"INFP\",\"INFP\",\"ENFP\",\"ISTJ\",\"INFP\",\"INTJ\",\"INFP\",\"INFP\",\"INFJ\",\"ISFP\",\"INFP\",\"INFJ\",\"ENTP\",\"INTP\",\"INTP\",\"ISTP\",\"ENTP\",\"INTP\",\"ISTP\",\"INFJ\",\"ISTP\",\"INFP\",\"INTP\",\"INTP\",\"ENFJ\",\"ENFP\",\"ENFJ\",\"INTP\",\"INFJ\",\"ENTJ\",\"INTP\",\"ENTJ\",\"INTJ\",\"INFP\",\"ISTP\",\"ENFP\",\"INFP\",\"ENFP\",\"INFJ\",\"ISFJ\",\"INFJ\",\"INFJ\",\"INFJ\",\"INFJ\",\"INFJ\",\"INTJ\",\"INFP\",\"INFP\",\"INFJ\",\"INFJ\",\"INFP\",\"ISTJ\",\"ENFP\",\"INFP\",\"ENTJ\",\"ENFP\",\"ENFP\",\"ENTP\",\"ESTJ\",\"INFJ\",\"INFJ\",\"INTP\",\"INFJ\",\"INTP\",\"ISTP\",\"INFP\",\"INFP\",\"INTP\",\"INFJ\",\"INTP\",\"ENFP\",\"INFJ\",\"INFJ\",\"INTP\",\"INFJ\",\"ENFJ\",\"INFJ\",\"ENFP\",\"ENTP\",\"ISTP\",\"ENTJ\",\"INFP\",\"ENFP\",\"INTP\",\"INTP\",\"INFP\",\"INFP\",\"ENTP\",\"ISFP\",\"INFJ\",\"INFJ\",\"INFP\",\"ISTP\",\"INFP\",\"INFP\",\"INFJ\",\"INFP\",\"INFP\",\"ENTP\",\"ISTP\",\"INTP\",\"INTJ\",\"ISTJ\",\"INFP\",\"INFJ\",\"ENFJ\",\"INFP\",\"INFP\",\"ENTP\",\"INTP\",\"INTP\",\"ISFP\",\"INFJ\",\"INFP\",\"INFJ\",\"INFP\",\"INTP\",\"INFJ\",\"ENTP\",\"ESFP\",\"INTP\",\"ENTP\",\"ENTP\",\"ENFP\",\"INFP\",\"ENFP\",\"INFP\",\"INFJ\",\"INFP\",\"INFP\",\"INFP\",\"ENFJ\",\"INTP\",\"INFP\",\"INTJ\",\"INFJ\",\"ISFJ\",\"ENFJ\",\"INFP\",\"INTP\",\"ESTJ\",\"INTP\",\"ENFP\",\"INFJ\",\"ENTP\",\"ENFP\",\"INTJ\",\"INFP\",\"INFJ\",\"INTJ\",\"INFP\",\"ENTP\",\"ENFP\",\"INFJ\",\"INTP\",\"INFJ\",\"INFJ\",\"INTP\",\"ISTJ\",\"INFP\",\"INFP\",\"ISTP\",\"INFP\",\"INFP\",\"INFJ\",\"INFJ\",\"INFJ\",\"INTJ\",\"INTJ\",\"ENTJ\",\"ISTJ\",\"ESTP\",\"INFP\",\"INTP\",\"INFP\",\"ISTP\",\"INFJ\",\"INFP\",\"INTP\",\"INFP\",\"INFP\",\"INTP\",\"INFP\",\"INFP\",\"INFJ\",\"ENFP\",\"INFJ\",\"ENTP\",\"ISFP\",\"ISTJ\",\"ISFJ\",\"INFP\",\"ENFP\",\"ISTJ\",\"INFP\",\"INFJ\",\"INTJ\",\"ISFJ\",\"ISFJ\",\"ESFJ\",\"INTJ\",\"INFP\",\"INTJ\",\"ISTP\",\"INFP\",\"ENTP\",\"INTP\",\"INTP\",\"ENFP\",\"INFP\",\"INFP\",\"ENTP\",\"INFJ\",\"INTJ\",\"ENFP\",\"INTJ\",\"INFJ\",\"INTJ\",\"ESFP\",\"INTP\",\"INTJ\",\"INFJ\",\"INFJ\",\"ESTP\",\"ISTP\",\"ENTP\",\"INTJ\",\"INTJ\",\"ENTP\",\"ISTJ\",\"INFP\",\"INFP\",\"INTP\",\"INTP\",\"ISTP\",\"INFP\",\"INFP\",\"INTP\",\"INFP\",\"INFJ\",\"INFP\",\"INFJ\",\"ENTP\",\"INTP\",\"INTP\",\"INTJ\",\"INTJ\",\"INFP\",\"INTJ\",\"ESTJ\",\"ISFJ\",\"INFP\",\"ENTP\",\"ISFJ\",\"ISTJ\",\"INFJ\",\"ENTP\",\"INTP\",\"INTJ\",\"INFP\",\"INFP\",\"INFP\",\"INFP\",\"INFP\",\"INTP\",\"INFJ\",\"ISTP\",\"INTP\",\"INTP\",\"ISTP\",\"INFP\",\"INFJ\",\"INTP\",\"INFJ\",\"INTP\",\"INFP\",\"ENFP\",\"ENFJ\",\"ENFP\",\"INTJ\",\"INFJ\",\"INTP\",\"INTP\",\"INFJ\",\"ENFP\",\"INFJ\",\"INTP\",\"INFP\",\"INTJ\",\"INFP\",\"INFJ\",\"INTJ\",\"INFP\",\"INFJ\",\"ENTP\",\"INTP\",\"INTP\",\"INTP\",\"INTP\",\"ENFP\",\"ENTP\",\"INFJ\",\"ENTP\",\"INFP\",\"INFP\",\"ENFP\",\"ENTP\",\"INTP\",\"INTP\",\"INFP\",\"INTP\",\"ENTP\",\"INTP\",\"INTP\",\"INTP\",\"ENFJ\",\"INFP\",\"ENFP\",\"INFP\",\"ENFP\",\"INFJ\",\"INTP\",\"INTJ\",\"ISTP\",\"INFP\",\"INTJ\",\"ISFP\",\"INFJ\",\"INTP\",\"ENFP\",\"ENFJ\",\"INFP\",\"INTJ\",\"INFJ\",\"INTP\",\"INTJ\",\"INTP\",\"ENFP\",\"INTP\",\"INTP\",\"ENFP\",\"ENFP\",\"ESFJ\",\"INFP\",\"INFJ\",\"INFP\",\"INTP\",\"INTJ\",\"INFJ\",\"ENTP\",\"ISTJ\",\"INFP\",\"INFP\",\"INFP\",\"INFP\",\"INTJ\",\"INTJ\",\"ENFP\",\"INTP\",\"INFJ\",\"INTJ\",\"INTP\",\"INTJ\",\"INTP\",\"INTJ\",\"INFP\",\"INTP\",\"INTP\",\"ENTP\",\"ENFJ\",\"INFP\",\"INTJ\",\"ISFP\",\"INTJ\",\"INFJ\",\"ENTP\",\"INTJ\",\"INFJ\",\"ISTJ\",\"ENFP\",\"INFJ\",\"INFJ\",\"INFP\",\"ISFP\",\"ESTJ\",\"INFJ\",\"INTJ\",\"ENTP\",\"INTJ\",\"INTP\",\"INTP\",\"INTP\",\"INFJ\",\"INTJ\",\"INTP\",\"ISFJ\",\"INFP\",\"INTP\",\"INFP\",\"INFJ\",\"INFP\",\"ENFP\",\"ISTP\",\"ENFJ\",\"INFJ\",\"ENTP\",\"ENFP\",\"INFP\",\"INFP\",\"ESTP\",\"ENTP\",\"ENTP\",\"INTP\",\"INFP\",\"INFJ\",\"INTJ\",\"INFP\",\"ENTJ\",\"ISFJ\",\"INTJ\",\"INFP\",\"INTJ\",\"INFP\",\"ENFJ\",\"INTJ\",\"INFJ\",\"INTJ\",\"INFJ\",\"INTJ\",\"INFP\",\"ISTJ\",\"INTJ\",\"INTJ\",\"INTJ\",\"INFJ\",\"INTP\",\"INTP\",\"ENTP\",\"ENTP\",\"INTP\",\"INTP\",\"INFJ\",\"INFJ\",\"INTP\",\"INTJ\",\"INTP\",\"INTP\",\"ENTJ\",\"ISTJ\",\"ISFP\",\"INTJ\",\"INFP\",\"ENTP\",\"ISTJ\",\"INTJ\",\"ISTP\",\"INFJ\",\"ISTJ\",\"ISTJ\",\"INTP\",\"ENFP\",\"INTJ\",\"INFJ\",\"INTP\",\"ENTP\",\"ISFJ\",\"INFP\",\"INFJ\",\"ISFP\",\"INTJ\",\"ENFP\",\"INFP\",\"INTJ\",\"ENTP\",\"ENFP\",\"ENTJ\",\"INFJ\",\"INFP\",\"INTJ\",\"ENFP\",\"INFJ\",\"ENTJ\",\"INFP\",\"INFJ\",\"INTJ\",\"INFP\",\"INTJ\",\"INFJ\",\"INTP\",\"INTP\",\"INTJ\",\"INFP\",\"INFP\",\"ISTP\",\"ISTP\",\"INFP\",\"INTP\",\"ISTJ\",\"ESFJ\",\"ISTJ\",\"INFJ\",\"ISTJ\",\"INTP\",\"INFJ\",\"ISFJ\",\"INTP\",\"ISTP\",\"ENTP\",\"INTP\",\"ENTJ\",\"ENTP\",\"ENTP\",\"INFP\",\"INTJ\",\"ENTP\",\"INFJ\",\"INFJ\",\"INFP\",\"INFP\",\"INTP\",\"INFJ\",\"INTJ\",\"INFP\",\"ISFP\",\"INFP\",\"INFJ\",\"INFP\",\"INTP\",\"INFJ\",\"INFP\",\"INFP\",\"INTJ\",\"INTJ\",\"INTP\",\"ENFP\",\"ENTP\",\"ENTP\",\"ENTP\",\"INTJ\",\"INFP\",\"INFP\",\"INFP\",\"INTJ\",\"ENFP\",\"ISFP\",\"INFJ\",\"ENFP\",\"ISTJ\",\"INFJ\",\"ISTP\",\"ISFP\",\"INFP\",\"INFJ\",\"INTJ\",\"INFP\",\"INFP\",\"INFJ\",\"ISTJ\",\"ENTP\",\"INFP\",\"INFJ\",\"INFP\",\"ISFJ\",\"INTJ\",\"ISFP\",\"INTJ\",\"ENTP\",\"INTP\",\"INFP\",\"ENTP\",\"ENFP\",\"ENTP\",\"INFJ\",\"INTP\",\"ENTP\",\"INTJ\",\"INTJ\",\"INTJ\",\"INTP\",\"INFP\",\"ISTJ\",\"INTP\",\"INTP\",\"INTP\",\"ISTP\",\"INTP\",\"ENTP\",\"INTP\",\"INTJ\",\"ISTJ\",\"ENTP\",\"ISTJ\",\"INFP\",\"ENTP\",\"ISFP\",\"ENFJ\",\"ISFP\",\"INFJ\",\"INTJ\",\"INTJ\",\"INFP\",\"ENTP\",\"INFJ\",\"ENTP\",\"INFP\",\"ENTJ\",\"ESTJ\",\"ENTP\",\"INFJ\",\"INTP\",\"INFP\",\"INFJ\",\"INFP\",\"ESFP\",\"INFJ\",\"ENFP\",\"INTJ\",\"INTP\",\"ENTP\",\"ISTJ\",\"ESFP\",\"ISFP\",\"INTJ\",\"ISTP\",\"ENFP\",\"INTJ\",\"INFJ\",\"INFJ\",\"INTJ\",\"ENFP\",\"ISTP\",\"ENTP\",\"INFP\",\"INFP\",\"INTJ\",\"INTP\",\"ESTP\",\"INFJ\",\"ENFP\",\"INTP\",\"ENTP\",\"ENTP\",\"INTJ\",\"INFJ\",\"INFJ\",\"ISTP\",\"INFP\",\"INTP\",\"INFJ\",\"INFJ\",\"INTJ\",\"INFP\",\"ENTP\",\"INTJ\",\"INFP\",\"INFJ\",\"ENTP\",\"INTJ\",\"INTP\",\"ISFP\",\"ISFP\",\"INTJ\",\"ENFP\",\"INFJ\",\"INTP\",\"INFP\",\"ISFP\",\"ISTP\",\"ENTP\",\"ENFP\",\"INFJ\",\"ISTJ\",\"ENFJ\",\"INTJ\",\"INTP\",\"ISTJ\",\"ISTP\",\"ENTP\",\"INFP\",\"ENFJ\",\"INTJ\",\"ENTP\",\"INFJ\",\"INFP\",\"INTP\",\"INTP\",\"INTJ\",\"INTP\",\"INTP\",\"INTJ\",\"ENTP\",\"INFP\",\"INFJ\",\"INTP\",\"INFJ\",\"INFP\",\"INTJ\",\"ISFJ\",\"ESFP\",\"INTJ\",\"INFP\",\"ENTP\",\"INFP\",\"ISTJ\",\"INTP\",\"INTJ\",\"INTJ\",\"INTP\",\"INTP\",\"INTJ\",\"ESFP\",\"ENFP\",\"INFJ\",\"ISTP\",\"INTJ\",\"INFP\",\"INTJ\",\"ENTP\",\"ISFP\",\"INTP\",\"ENFP\",\"INTJ\",\"INTJ\",\"INFJ\",\"INTP\",\"INTP\",\"ISTP\",\"INTP\",\"ENTP\",\"INFP\",\"INTJ\",\"INFP\",\"ISTP\",\"ENTJ\",\"ESFJ\",\"INTJ\",\"INTP\",\"INTP\",\"INTJ\",\"INFJ\",\"INFJ\",\"INFP\",\"INFP\",\"INFP\",\"INFP\",\"INFP\",\"INFP\",\"ENFP\",\"INTP\",\"ENFP\",\"INFP\",\"INFJ\",\"INFJ\",\"INFJ\",\"INFP\",\"INFP\",\"INFP\",\"INFJ\",\"INFP\",\"ENFP\",\"INTJ\",\"INFJ\",\"INFP\",\"INTP\",\"INFJ\",\"ISTP\",\"ENFP\",\"INTP\",\"INFJ\",\"ENFJ\",\"INFP\",\"ISTJ\",\"ISTJ\",\"ENTJ\",\"INTP\",\"INFJ\",\"INTJ\",\"ENFP\",\"INTP\",\"ENFP\",\"INFJ\",\"INFP\",\"ENTP\",\"INTP\",\"ENFP\",\"INFJ\",\"INTP\",\"INFJ\",\"INFJ\",\"INTJ\",\"ENTJ\",\"INTP\",\"ISTP\",\"ISFP\",\"INFP\",\"ESTP\",\"INTP\",\"ISTP\",\"INFP\",\"ENTP\",\"INFP\",\"INFJ\",\"ENTJ\",\"ENFP\",\"ESTP\",\"INTP\",\"INFJ\",\"INFP\",\"INFJ\",\"INFJ\",\"INTP\",\"INTJ\",\"ISTP\",\"INFP\",\"ISFP\",\"INTP\",\"INFJ\",\"INFP\",\"INFP\",\"ISFJ\",\"INTP\",\"ISFJ\",\"INFP\",\"ENTP\",\"INFJ\",\"ENTJ\",\"INFJ\",\"INTJ\",\"INFP\",\"ENFP\",\"ENTP\",\"ENFJ\",\"ENFP\",\"INFJ\",\"ISFJ\",\"INTP\",\"ENTP\",\"ISTP\",\"INTJ\",\"INTJ\",\"INFP\",\"INTJ\",\"INTJ\",\"INFJ\",\"ISFP\",\"ENTJ\",\"INFP\",\"INFP\",\"INTJ\",\"ENFJ\",\"INTJ\",\"ENFP\",\"ENFJ\",\"INFJ\",\"INFP\",\"ENFJ\",\"INTJ\",\"INTJ\",\"INFP\",\"ISFP\",\"INTP\",\"ISTP\",\"INFJ\",\"ENTJ\",\"INTJ\",\"INTP\",\"ESTJ\",\"INFJ\",\"ENFP\",\"INTP\",\"INTJ\",\"ESTP\",\"INFJ\",\"INFP\",\"INTP\",\"ENFP\",\"INFP\",\"INFP\",\"INFP\",\"INFP\",\"INTP\",\"ENFP\",\"INFP\",\"ENTP\",\"ENTP\",\"INFJ\",\"INTP\",\"INFJ\",\"INFJ\",\"INFJ\",\"INFP\",\"INFP\",\"INTP\",\"ENTP\",\"ISTP\",\"ENTP\",\"ENTP\",\"INTP\",\"INFJ\",\"INTP\",\"INFJ\",\"INTJ\",\"ENTJ\",\"ENTJ\",\"INTJ\",\"ENFP\",\"ENFP\",\"ENFP\",\"INFP\",\"INFP\",\"INFJ\",\"INTJ\",\"ENTP\",\"INTJ\",\"INFP\",\"ISTP\",\"INTJ\",\"ENFP\",\"ISFP\",\"INTP\",\"INFJ\",\"ENTP\",\"ISFJ\",\"ENFJ\",\"ISFJ\",\"ISFP\",\"INTP\",\"ENTP\",\"INFJ\",\"ESTP\",\"INFJ\",\"INTP\",\"INTJ\",\"ENTP\",\"ISTJ\",\"ENFP\",\"INTJ\",\"INFJ\",\"INFP\",\"INFP\",\"INTP\",\"INFJ\",\"INFJ\",\"ENFP\",\"INFJ\",\"INTJ\",\"INTP\",\"INTJ\",\"ENFP\",\"INTP\",\"ENFP\",\"ISFJ\",\"INFP\",\"ISFJ\",\"ENFJ\",\"INFP\",\"ESTJ\",\"ESTP\",\"ENTJ\",\"ENTP\",\"INFJ\",\"ESFJ\",\"INFJ\",\"INFJ\",\"ENFP\",\"ENTP\",\"INTP\",\"INFP\",\"INTP\",\"ENTP\",\"INFJ\",\"INFP\",\"INTP\",\"ENTP\",\"INFJ\",\"INFP\",\"ENFJ\",\"INFP\",\"INTP\",\"INTP\",\"ENFP\",\"INFP\",\"ENTP\",\"ENFP\",\"ENFJ\",\"INFJ\",\"ENFP\",\"ENFP\",\"ENFP\",\"ENFP\",\"ENFP\",\"ENFP\",\"ENFP\",\"ENFP\",\"ENTP\",\"INFJ\",\"ENFJ\",\"ESTP\",\"INFJ\",\"INTP\",\"INFP\",\"ENFP\",\"INFP\",\"INFP\",\"INTP\",\"ENTJ\",\"ENTP\",\"ENTP\",\"ENTP\",\"ENTP\",\"ENTP\",\"ENTP\",\"ENTP\",\"ENTP\",\"ENTP\",\"ENTP\",\"ENTP\",\"INTJ\",\"ENTP\",\"INFJ\",\"INFP\",\"INFJ\",\"INFP\",\"INFP\",\"INFP\",\"ENTJ\",\"INFP\",\"INTJ\",\"ISFP\",\"INTP\",\"ISTP\",\"INFJ\",\"INTP\",\"ENTP\",\"ESTJ\",\"INFJ\",\"INTP\",\"INTJ\",\"INTP\",\"INTJ\",\"INFJ\",\"ENFJ\",\"INFP\",\"ISTP\",\"INTP\",\"INTJ\",\"INTP\",\"INTJ\",\"ENFP\",\"INTP\",\"INTJ\",\"ENTP\",\"INTJ\",\"INFP\",\"INTP\",\"INFP\",\"INFP\",\"INTP\",\"INFP\",\"INTP\",\"INTP\",\"ISFJ\",\"ENTP\",\"INTP\",\"INFP\",\"ENFP\",\"INFP\",\"ENTP\",\"INFP\",\"INTJ\",\"INFP\",\"INFJ\",\"INTP\",\"INFP\",\"ISTP\",\"ENFP\",\"INFJ\",\"INTJ\",\"INFP\",\"INFP\",\"ENFJ\",\"INTJ\",\"INFP\",\"INFJ\",\"INFP\",\"INFJ\",\"INTP\",\"INFP\",\"ENTP\",\"ENFP\",\"ISTP\",\"INTP\",\"INFP\",\"ISFP\",\"INTP\",\"INTJ\",\"INFJ\",\"ENTP\",\"INTP\",\"INFJ\",\"INFJ\",\"ENFP\",\"INFP\",\"INFP\",\"INTJ\",\"INTP\",\"INFP\",\"ENTP\",\"INFP\",\"INFJ\",\"INFP\",\"ENTJ\",\"INTJ\",\"INTP\",\"INFP\",\"ENFP\",\"ENFJ\",\"ENTP\",\"INFP\",\"INTJ\",\"INFJ\",\"ESFJ\",\"ENTP\",\"INFJ\",\"ENTP\",\"INTP\",\"INTJ\",\"INFJ\",\"ENTP\",\"INTJ\",\"INTP\",\"INTJ\",\"INTP\",\"ENTP\",\"ENTP\",\"INFP\",\"INTJ\",\"ISFJ\",\"INTJ\",\"INTJ\",\"ENTJ\",\"INFJ\",\"INFJ\",\"ISTP\",\"ESTP\",\"INFJ\",\"ISTP\",\"ISFP\",\"INFP\",\"INFJ\",\"ENFP\",\"INFP\",\"INFJ\",\"INFJ\",\"INTJ\",\"ENFP\",\"INFP\",\"INFP\",\"INFP\",\"ENFP\",\"INFP\",\"INFP\",\"ISTP\",\"INFJ\",\"INTJ\",\"INTJ\",\"ESTP\",\"INFJ\",\"INFP\",\"ISTP\",\"ENFP\",\"INTJ\",\"INFJ\",\"INTJ\",\"ISTP\",\"INTJ\",\"ENFP\",\"INFP\",\"ENTP\",\"INFJ\",\"INTJ\",\"INFJ\",\"ESTP\",\"ESFP\",\"INFJ\",\"INTP\",\"INTJ\",\"ENFJ\",\"INFJ\",\"INFJ\",\"INFP\",\"ENTP\",\"INFP\",\"INFP\",\"ISFP\",\"INTJ\",\"INTP\",\"ISFP\",\"ISTP\",\"INFJ\",\"ENFP\",\"INFJ\",\"INTP\",\"INTP\",\"INTP\",\"ISTP\",\"INFJ\",\"ENTP\",\"INTJ\",\"ISTP\",\"INFJ\",\"INFP\",\"INTJ\",\"ENTP\",\"INFJ\",\"INTJ\",\"INTP\",\"INFP\",\"ENFP\",\"INFJ\",\"ENTP\",\"INFJ\",\"INFJ\",\"ENFJ\",\"ENTJ\",\"ENFP\",\"ENFJ\",\"ESFP\",\"ISTP\",\"INTJ\",\"INFJ\",\"INFJ\",\"INTP\",\"INFJ\",\"INTP\",\"INTP\",\"INFJ\",\"ISFP\",\"INFJ\",\"INTP\",\"INFJ\",\"INFJ\",\"INTJ\",\"INTP\",\"INTP\",\"ENFP\",\"INTJ\",\"ISTJ\",\"INFP\",\"INTP\",\"INTJ\",\"ENFP\",\"INFJ\",\"INTP\",\"INFP\",\"INTJ\",\"INTP\",\"INTP\",\"INTP\",\"INFJ\",\"INFP\",\"INTP\",\"INFJ\",\"INFP\",\"INFJ\",\"INFJ\",\"ENFP\",\"INFJ\",\"ISTJ\",\"ISFP\",\"INFP\",\"ISFP\",\"INFP\",\"INFJ\",\"INFJ\",\"ENTP\",\"INTJ\",\"INFJ\",\"INFJ\",\"ISFJ\",\"INTJ\",\"INTP\",\"INFP\",\"INTP\",\"INTP\",\"ISTJ\",\"INTJ\",\"ENFP\",\"INTP\",\"INTP\",\"INFP\",\"ENTP\",\"INTJ\",\"INTJ\",\"INTJ\",\"INTJ\",\"INFP\",\"INFP\",\"ESTP\",\"INFP\",\"ENFJ\",\"INTP\",\"ENFJ\",\"ISFJ\",\"ENFP\",\"ISTJ\",\"INFP\",\"INFP\",\"ISTP\",\"INFP\",\"ENTP\",\"INFP\",\"INFJ\",\"INFP\",\"INFP\",\"INTJ\",\"INFP\",\"INFP\",\"ENFP\",\"INTP\",\"ENTP\",\"INFJ\",\"INFJ\",\"ISTP\",\"ISTP\",\"INFP\",\"INFP\",\"INTP\",\"INFJ\",\"ENFP\",\"INFJ\",\"INFJ\",\"ESTP\",\"INFJ\",\"INTP\",\"ENTP\",\"INFP\",\"INFJ\",\"INFJ\",\"INTJ\",\"ISFP\",\"INFP\",\"INFP\",\"ENTP\",\"INTJ\",\"ENTP\",\"INTP\",\"INTJ\",\"INTP\",\"ENFJ\",\"ISTP\",\"ENTP\",\"INFJ\",\"INFJ\",\"INTJ\",\"ISFP\",\"INFP\",\"ENTP\",\"INTJ\",\"INFP\",\"INTP\",\"INTJ\",\"ENFP\",\"INTP\",\"ISTP\",\"INTP\",\"INTP\",\"INTP\",\"INTP\",\"INTJ\",\"INFP\",\"INFJ\",\"INTJ\",\"INFJ\",\"INFP\",\"INFP\",\"ESFP\",\"ENFJ\",\"INTJ\",\"INFJ\",\"INTP\",\"ENTP\",\"ISTP\",\"INTJ\",\"ESTJ\",\"INTJ\",\"ENTP\",\"INFJ\",\"INFP\",\"ENFJ\",\"INFP\",\"INFJ\",\"INTJ\",\"ENFJ\",\"INFJ\",\"INFJ\",\"ENFP\",\"INFJ\",\"ISTP\",\"INFJ\",\"ISTP\",\"INTP\",\"INFP\",\"INTP\",\"INTJ\",\"ENTP\",\"ENTJ\",\"INTJ\",\"INFJ\",\"INFP\",\"ENTP\",\"ENTJ\",\"INFJ\",\"ENFP\",\"ISTP\",\"ENFP\",\"INFP\",\"ENFP\",\"ISFP\",\"ENTJ\",\"INTJ\",\"ENTP\",\"ENTP\",\"ENFP\",\"ISFP\",\"INFP\",\"ENTP\",\"ISFJ\",\"ISFJ\",\"INFJ\",\"INTP\",\"INFJ\",\"INFP\",\"ESTP\",\"INFP\",\"INFJ\",\"INTP\",\"INFP\",\"INTP\",\"ENFP\",\"INFP\",\"ISFP\",\"ISTP\",\"INFJ\",\"INTJ\",\"INFJ\",\"INFJ\",\"INFJ\",\"ENTJ\",\"INTP\",\"ISFP\",\"ISFP\",\"INFJ\",\"INFP\",\"INFP\",\"ISTJ\",\"INFJ\",\"ENFP\",\"INTJ\",\"ENTP\",\"INFP\",\"ISTJ\",\"INFP\",\"INTJ\",\"INFP\",\"INTJ\",\"INFP\",\"ISTP\",\"ENFP\",\"ISTJ\",\"INFP\",\"ISTJ\",\"ISFJ\",\"INFJ\",\"INFP\",\"ENTP\",\"INFJ\",\"INTP\",\"INFJ\",\"ENFP\",\"ISTJ\",\"ENTP\",\"ENTP\",\"ENTP\",\"INTP\",\"INFJ\",\"INFJ\",\"INTP\",\"INFJ\",\"ENTP\",\"ISTJ\",\"ENTP\",\"INTP\",\"INTJ\",\"ENTP\",\"INFJ\",\"INTP\",\"INFP\",\"INFP\",\"INFP\",\"INFJ\",\"INTP\",\"INFJ\",\"ENFP\",\"INFJ\",\"INFP\",\"INFJ\",\"INFP\",\"INTJ\",\"INFP\",\"ENTP\",\"ENFJ\",\"INTJ\",\"INFP\",\"INFJ\",\"INFJ\",\"INFJ\",\"INTP\",\"INFJ\",\"ISFP\",\"INTJ\",\"INTJ\",\"INTP\",\"ENTP\",\"INFP\",\"INTP\",\"ENFP\",\"ISTP\",\"INTP\",\"ENFP\",\"ISFJ\",\"INFP\",\"INFP\",\"ENTP\",\"INFP\",\"ESFP\",\"ENTP\",\"INFP\",\"INFJ\",\"ENTP\",\"INFJ\",\"ENFJ\",\"INFP\",\"ENTP\",\"INFJ\",\"INFJ\",\"INTJ\",\"INFP\",\"INFJ\",\"INTP\",\"INTP\",\"INFP\",\"ENFJ\",\"INFJ\",\"ENTP\",\"ISTP\",\"INTP\",\"ISFP\",\"ENTP\",\"INFP\",\"INFP\",\"ENTP\",\"ENTP\",\"INTJ\",\"ENTP\",\"INFJ\",\"INTJ\",\"ENTP\",\"INFJ\",\"ESTJ\",\"ENTP\",\"ENFP\",\"INFJ\",\"INTP\",\"INFP\",\"ENFP\",\"ISFP\",\"INTJ\",\"ISTP\",\"ISFP\",\"INFJ\",\"INFP\",\"INFJ\",\"INFP\",\"ISFJ\",\"INTP\",\"INTP\",\"ISFP\",\"INTP\",\"INFJ\",\"ISTP\",\"INTJ\",\"INTJ\",\"ESFP\",\"ENTP\",\"ENFP\",\"INFJ\",\"INFJ\",\"INFJ\",\"INFJ\",\"INTP\",\"ISFJ\",\"INFP\",\"INFP\",\"INTP\",\"INFP\",\"ISFP\",\"INFP\",\"INTJ\",\"INFJ\",\"ENTP\",\"INFJ\",\"INFP\",\"ISFJ\",\"INFJ\",\"INFJ\",\"ENFP\",\"INFP\",\"ISFJ\",\"ENFP\",\"INTJ\",\"INTJ\",\"INTJ\",\"INFJ\",\"INFP\",\"INFP\",\"INFP\",\"INFJ\",\"INTP\",\"INFP\",\"INTJ\",\"ENTP\",\"ENFP\",\"ENTP\",\"INTJ\",\"INFJ\",\"INFJ\",\"ISTP\",\"INTJ\",\"INTP\",\"INTJ\",\"INTP\",\"INFJ\",\"ISFJ\",\"ENFP\",\"ISTJ\",\"ESFP\",\"INTP\",\"INTP\",\"INFJ\",\"ISTP\",\"ENFJ\",\"ENTP\",\"INFJ\",\"INFJ\",\"INFP\",\"ENFP\",\"INFP\",\"INTP\",\"INFP\",\"ENFP\",\"ESTP\",\"INFJ\",\"INFP\",\"INFJ\",\"ESTP\",\"INFJ\",\"INTP\",\"INTP\",\"INTP\",\"INFP\",\"INTP\",\"ENFP\",\"INTJ\",\"ISTJ\",\"INFJ\",\"INFJ\",\"INTJ\",\"ISFJ\",\"INFP\",\"INFJ\",\"INFP\",\"ISFJ\",\"ENTJ\",\"ENTP\",\"INFP\",\"ISTP\",\"INFJ\",\"ISTP\",\"INTP\",\"INTP\",\"INFJ\",\"ISFP\",\"INFJ\",\"ENTP\",\"INFJ\",\"INFJ\",\"INTP\",\"INFJ\",\"ESTP\",\"INFJ\",\"INFJ\",\"INFJ\",\"INTJ\",\"INFP\",\"INFJ\",\"INFP\",\"ENFP\",\"INTP\",\"INFJ\",\"ENTJ\",\"INTJ\",\"INTJ\",\"ESTP\",\"ENFP\",\"INFP\",\"ESFJ\",\"ENTP\",\"ENFJ\",\"INFP\",\"ENFP\",\"INTP\",\"INTP\",\"INTJ\",\"INFJ\",\"INFP\",\"ISFJ\",\"INFP\",\"INFP\",\"INFP\",\"INTP\",\"INTJ\",\"ISFP\",\"ENFP\",\"ISTJ\",\"ISTP\",\"INTJ\",\"INFP\",\"INFJ\",\"ISFP\",\"ISTP\",\"INFJ\",\"ESTP\",\"INFP\",\"INFP\",\"INTP\",\"INFP\",\"INFP\",\"INFP\",\"INFP\",\"INFJ\",\"INTJ\",\"INFP\",\"INFP\",\"ENFP\",\"INFJ\",\"ISFP\",\"ENTP\",\"ENFP\",\"INFP\",\"ENFP\",\"INTJ\",\"INTJ\",\"INTP\",\"INTP\",\"ENTJ\",\"INFJ\",\"INFP\",\"INFJ\",\"ISTP\",\"ENTJ\",\"ESTP\",\"ENFP\",\"INTP\",\"INFP\",\"INFJ\",\"INTP\",\"INFP\",\"ENTP\",\"INTP\",\"ENTJ\",\"ENTP\",\"INTJ\",\"ENTJ\",\"INTP\",\"INTJ\",\"INFJ\",\"INTJ\",\"INFP\",\"INFJ\",\"INFP\",\"ENTJ\",\"ISTJ\",\"ENTP\",\"INTJ\",\"INFJ\",\"INFJ\",\"INTP\",\"ESTP\",\"INTJ\",\"ISFJ\",\"ISTP\",\"INFP\",\"INFP\",\"INTJ\",\"ESFP\",\"INFP\",\"ISFP\",\"INTJ\",\"INFJ\",\"ENTP\",\"ENFP\",\"ESFP\",\"INTP\",\"INFP\",\"INTJ\",\"ESFP\",\"INTP\",\"ENTJ\",\"INTP\",\"INFJ\",\"INTJ\",\"ENFP\",\"INTP\",\"INFP\",\"INTP\",\"INFP\",\"INTJ\",\"INFJ\",\"ENTJ\",\"INTP\",\"INTP\",\"ENFP\",\"INTJ\",\"INFJ\",\"ISFJ\",\"ISFP\",\"ENFJ\",\"ISTJ\",\"INTP\",\"INFP\",\"INFP\",\"INFP\",\"INFJ\",\"INTP\",\"ISTJ\",\"INFP\",\"ISFJ\",\"INTJ\",\"INFJ\",\"ESTP\",\"INFP\",\"INFP\",\"INFJ\",\"ISTJ\",\"INTJ\",\"INTP\",\"INFP\",\"INFP\",\"INFJ\",\"INFP\",\"INTJ\",\"INFJ\",\"INFJ\",\"ENFJ\",\"INTP\",\"INFJ\",\"INTP\",\"ENFP\",\"ISTJ\",\"INTP\",\"INFP\",\"ISFP\",\"INFJ\",\"INTP\",\"ENTJ\",\"INTJ\",\"INTJ\",\"INFP\",\"INFJ\",\"INTJ\",\"ENTP\",\"INFP\",\"INTP\",\"INTP\",\"ENTJ\",\"INTP\",\"INTJ\",\"ISTJ\",\"INTJ\",\"ISTP\",\"INTJ\",\"ENFP\",\"ESTP\",\"INFJ\",\"INTJ\",\"ISFP\",\"INTP\",\"INFJ\",\"INTJ\",\"INFP\",\"INTP\",\"INFJ\",\"INFP\",\"INFJ\",\"ENFP\",\"INTJ\",\"ENFJ\",\"ISTP\",\"INFP\",\"INTP\",\"INTP\",\"INTJ\",\"INTP\",\"INTP\",\"INFJ\",\"ESTP\",\"ISFJ\",\"INTP\",\"ESTP\",\"INTJ\",\"INTP\",\"ISTP\",\"ENTP\",\"ENTP\",\"ENTP\",\"ENTP\",\"ENFP\",\"INTP\",\"INFJ\",\"INFJ\",\"INTJ\",\"INTP\",\"INFP\",\"INTP\",\"ENFJ\",\"INTJ\",\"INTJ\",\"INFP\",\"ENFJ\",\"INFP\",\"ENTP\",\"ISTJ\",\"INTP\",\"ISTP\",\"INFP\",\"INFJ\",\"INFP\",\"ENFJ\",\"INTJ\",\"INFJ\",\"INFJ\",\"ISTP\",\"INFP\",\"ENFJ\",\"ENTJ\",\"INFP\",\"INTP\",\"INTP\",\"INFJ\",\"INFP\",\"ISTJ\",\"INFP\",\"INTP\",\"INFJ\",\"ISFP\",\"INFP\",\"INFJ\",\"INFP\",\"INFP\",\"INFP\",\"INFP\",\"ESTJ\",\"INTP\",\"INTP\",\"ISTP\",\"INFJ\",\"ENTP\",\"INFJ\",\"INTP\",\"INTP\",\"ENFP\",\"INFP\",\"ENFP\",\"INFJ\",\"INFP\",\"ESTP\",\"INTJ\",\"INFP\",\"INFP\",\"INTJ\",\"ISTP\",\"INFP\",\"INFP\",\"INTP\",\"ENTP\",\"INFJ\",\"ENTJ\",\"INFJ\",\"INFP\",\"INTJ\",\"INTJ\",\"ENFP\",\"INFP\",\"INFJ\",\"ENFP\",\"INTJ\",\"INFP\",\"INFP\",\"INFJ\",\"ISFP\",\"INFJ\",\"ISFP\",\"INFJ\",\"INFJ\",\"INTP\",\"INFJ\",\"INTP\",\"INFP\",\"ENTJ\",\"ISTP\",\"ISTP\",\"INTJ\",\"INFP\",\"INFJ\",\"INFP\",\"ISTP\",\"INTJ\",\"INFP\",\"ISFJ\",\"INFP\",\"INTJ\",\"INFP\",\"INFP\",\"ENFP\",\"ENTJ\",\"INFP\",\"INTP\",\"INTP\",\"ISFJ\",\"INFJ\",\"INTP\",\"ISTP\",\"ESTP\",\"ENTP\",\"INFJ\",\"ISTP\",\"INFP\",\"INFP\",\"INFP\",\"INFJ\",\"INFP\",\"ISTJ\",\"INFJ\",\"INTJ\",\"ENTP\",\"ISFP\",\"INFP\",\"INFP\",\"INTJ\",\"INTJ\",\"INTJ\",\"INTP\",\"INTP\",\"INFJ\",\"INFJ\",\"ISFJ\",\"INFJ\",\"INFP\",\"INFP\",\"INTP\",\"INTP\",\"INFJ\",\"INFJ\",\"INFJ\",\"INFJ\",\"INFJ\",\"INFJ\",\"INTJ\",\"INFJ\",\"INFJ\",\"INFJ\",\"INFJ\",\"INFJ\",\"INFJ\",\"INFJ\",\"INFJ\",\"INFJ\",\"INFJ\",\"INFJ\",\"ENTP\",\"INFJ\",\"INFP\",\"INFP\",\"INFP\",\"INFP\",\"INFP\",\"INFP\",\"INFJ\",\"INFP\",\"INFP\",\"INFP\",\"INFP\",\"INFP\",\"INFP\",\"INFP\",\"INFP\",\"INFJ\",\"INTJ\",\"INFP\",\"INTJ\",\"INFP\",\"INTJ\",\"INTP\",\"ENTP\",\"INFP\",\"INFJ\",\"INFJ\",\"INFP\",\"INFP\",\"INFJ\",\"ENTP\",\"INTJ\",\"INTJ\",\"INFP\",\"ENTP\",\"INFP\",\"ISFP\",\"INFJ\",\"INFJ\",\"ISTP\",\"INFP\",\"INTJ\",\"INFP\",\"ENFJ\",\"INFP\",\"ENFP\",\"ENFP\",\"INFJ\",\"INTJ\",\"INTP\",\"INTP\",\"INTP\",\"INFP\",\"ENTJ\",\"INFP\",\"INTP\",\"INFP\",\"INFJ\",\"ENTP\",\"INTJ\",\"INTJ\",\"INTJ\",\"INTJ\",\"INTJ\",\"INTJ\",\"ISTP\",\"INTP\",\"INTP\",\"INTP\",\"INTP\",\"INTP\",\"INTP\",\"INTP\",\"INTP\",\"INTP\",\"INFP\",\"INFJ\",\"INFJ\",\"INTJ\",\"INFJ\",\"ISFJ\",\"INFJ\",\"ENFP\",\"ENTP\",\"INFP\",\"INFP\",\"ENTP\",\"INTP\",\"ENFP\",\"INFP\",\"INTJ\",\"INTJ\",\"INTP\",\"INFP\",\"ESFJ\",\"INFJ\",\"INFJ\",\"ENFJ\",\"INTP\",\"INFJ\",\"INTP\",\"INFJ\",\"ENTP\",\"INTP\",\"ISFP\",\"INTJ\",\"INFJ\",\"INFJ\",\"INFJ\",\"INFP\",\"INFP\",\"INFJ\",\"INFP\",\"INTJ\",\"ISFJ\",\"INFP\",\"INTJ\",\"INTP\",\"INTJ\",\"INFP\",\"ISTJ\",\"ISTP\",\"ISTP\",\"ISTP\",\"ISTP\",\"INFJ\",\"ISTP\",\"ENTP\",\"ESFJ\",\"INFJ\",\"INFJ\",\"INTP\",\"INFJ\",\"INFP\",\"INFP\",\"ISFP\",\"ENTP\",\"ESTP\",\"INFP\",\"INFP\",\"INFJ\",\"INFP\",\"INTP\",\"INFJ\",\"INFP\",\"INTP\",\"INFJ\",\"ENFP\",\"ISFP\",\"ENFP\",\"INFP\",\"INFP\",\"INTJ\",\"INTJ\",\"INTP\",\"INTP\",\"INTJ\",\"INTP\",\"INFP\",\"ENTP\",\"ENFP\",\"ISFP\",\"INFP\",\"INTJ\",\"INTP\",\"ISFP\",\"INFJ\",\"INTP\",\"INTJ\",\"ENFP\",\"ISTP\",\"INFJ\",\"ESTP\",\"INTP\",\"INFJ\",\"INFJ\",\"INTP\",\"INFJ\",\"ISTP\",\"INFP\",\"ISFJ\",\"ISTP\",\"INFP\",\"INFJ\",\"INTJ\",\"INTP\",\"INFP\",\"INFJ\",\"ENTP\",\"ENTP\",\"INTP\",\"ENTJ\",\"ISTP\",\"INTP\",\"ENTP\",\"INFJ\",\"ENFJ\",\"ISTP\",\"INFP\",\"ENTP\",\"ENFP\",\"INTP\",\"ISFJ\",\"INTP\",\"INFP\",\"INTP\",\"INFP\",\"INFJ\",\"ISTP\",\"INFP\",\"INFJ\",\"INFJ\",\"INFJ\",\"INTP\",\"INTP\",\"INTJ\",\"INTJ\",\"INTJ\",\"ISTP\",\"ENTP\",\"INTP\",\"INTJ\",\"INTP\",\"ISFP\",\"ENTJ\",\"ENFP\",\"ENTJ\",\"ENTP\",\"INFJ\",\"INFP\",\"ENTP\",\"ISTP\",\"ENFP\",\"INFJ\",\"ISTJ\",\"INFP\",\"ENFP\",\"ENTP\",\"INFJ\",\"ENFJ\",\"ISTJ\",\"INTJ\",\"INFJ\",\"INTP\",\"INFP\",\"INTP\",\"ENTJ\",\"ISFJ\",\"ISFP\",\"ISFJ\",\"INTJ\",\"INFJ\",\"ENTP\",\"INFJ\",\"INFJ\",\"ENTP\",\"INFJ\",\"ENFJ\",\"INTP\",\"ENFP\",\"ISFJ\",\"ENFP\",\"INFP\",\"ISTP\",\"ENTP\",\"INTJ\",\"INTJ\",\"INFP\",\"INTP\",\"INFP\",\"INTJ\",\"INFJ\",\"ENFP\",\"ENFP\",\"ENTJ\",\"ENFP\",\"ENFP\",\"INFP\",\"ENTJ\",\"ENTP\",\"ESTP\",\"INTP\",\"INFP\",\"ISFP\",\"INFP\",\"INFP\",\"INFP\",\"INFJ\",\"ENFP\",\"INFJ\",\"INFP\",\"INTP\",\"INTP\",\"ENFP\",\"INTJ\",\"ISTP\",\"INTP\",\"ENTJ\",\"INFJ\",\"ENFP\",\"ISFJ\",\"ISFP\",\"INFP\",\"INTP\",\"INTP\",\"INFP\",\"INFP\",\"ISFP\",\"ISTJ\",\"ENFP\",\"INTJ\",\"ENFJ\",\"INTP\",\"INTP\",\"ISFP\",\"INFJ\",\"INFP\",\"ENTP\",\"INTP\",\"INTP\",\"INTJ\",\"INTP\",\"INFP\",\"INFJ\",\"ENTP\",\"ISTJ\",\"INFJ\",\"INTJ\",\"INTJ\",\"INTP\",\"INFJ\",\"INFP\",\"ENTP\",\"INFP\",\"ENTP\",\"INFP\",\"ISTJ\",\"ENFP\",\"INFJ\",\"INTJ\",\"ENFP\",\"INFJ\",\"ENTP\",\"ENFJ\",\"ISTJ\",\"ENTP\",\"INFP\",\"INFJ\",\"INTP\",\"INTJ\",\"ISTP\",\"INFP\",\"ESFP\",\"INTP\",\"INTP\",\"INFP\",\"INFP\",\"ENTP\",\"INTP\",\"INTP\",\"ENTP\",\"ENTJ\",\"INFJ\",\"INFJ\",\"INFP\",\"ENTJ\",\"ESTP\",\"ENFP\",\"INTP\",\"INTJ\",\"INFP\",\"INTJ\",\"ENFJ\",\"ENFP\",\"INFJ\",\"INFJ\",\"ENFJ\",\"ISTP\",\"ISTJ\",\"INTP\",\"ENTP\",\"ISTP\",\"INTP\",\"INTJ\",\"INTP\",\"INFP\",\"INTJ\",\"INTP\",\"INFP\",\"ENFP\",\"INTP\",\"INFJ\",\"INTJ\",\"INFP\",\"ENTP\",\"INTP\",\"INFJ\",\"ENTP\",\"INFJ\",\"INFJ\",\"ENFP\",\"ENTP\",\"INTJ\",\"INFP\",\"INTP\",\"ISFJ\",\"INFP\",\"ENFJ\",\"INTJ\",\"INFJ\",\"INFJ\",\"ESFP\",\"INTP\",\"ENTP\",\"INTP\",\"ISTP\",\"INFP\",\"ENTP\",\"INTJ\",\"ENFP\",\"INFP\",\"INFP\",\"INTP\",\"ESTJ\",\"INFP\",\"ENFP\",\"INFP\",\"ESFP\",\"INTP\",\"ENFP\",\"INFP\",\"ENFP\",\"INFP\",\"ENFP\",\"INFP\",\"INFJ\",\"ENTJ\",\"INTJ\",\"INTJ\",\"INTP\",\"INFJ\",\"INFJ\",\"ENTP\",\"INTP\",\"INFJ\",\"INFJ\",\"INFJ\",\"INFP\",\"INTP\",\"INTJ\",\"INTP\",\"ENTP\",\"INFP\",\"ENTP\",\"ISFJ\",\"INFP\",\"INTP\",\"ENFP\",\"ENFP\",\"INFP\",\"ENTP\",\"INTJ\",\"INTP\",\"INFP\",\"ENFJ\",\"ISTP\",\"INTJ\",\"ENFJ\",\"INTJ\",\"ISFJ\",\"INFP\",\"INFJ\",\"ISFP\",\"ISTJ\",\"INFJ\",\"ISTJ\",\"INTJ\",\"INTP\",\"INTJ\",\"ENFJ\",\"INFP\",\"INTP\",\"ENFP\",\"ISTJ\",\"INFJ\",\"ISFP\",\"ENFJ\",\"ISTP\",\"INTJ\",\"ENTJ\",\"INTJ\",\"INFP\",\"INFP\",\"INFP\",\"INFP\",\"INTJ\",\"INFP\",\"INFJ\",\"INFP\",\"INTJ\",\"ENFP\",\"ENFP\",\"ENTP\",\"INFP\",\"INFJ\",\"INFP\",\"INFJ\",\"ENTJ\",\"INTJ\",\"INFP\",\"INTJ\",\"ISFJ\",\"INTP\",\"ENTP\",\"INTP\",\"ISFP\",\"ENTP\",\"ISTP\",\"ENTP\",\"ENFJ\",\"ENFP\",\"ENFP\",\"ENTP\",\"ISTJ\",\"ENTJ\",\"ENTP\",\"INTP\",\"INFP\",\"ENFJ\",\"INFJ\",\"INFP\",\"ENFP\",\"ENFP\",\"INFJ\",\"ENFP\",\"ISTJ\",\"INFJ\",\"ISTP\",\"ESFJ\",\"INFJ\",\"INFJ\",\"INFJ\",\"INTJ\",\"ISTP\",\"INFJ\",\"ENFP\",\"INFJ\",\"INFP\",\"ENFP\",\"INFP\",\"INTP\",\"INFP\",\"INTJ\",\"INTP\",\"ISFP\",\"ISFJ\",\"INFP\",\"INFJ\",\"INTJ\",\"INFP\",\"ENFP\",\"ESTJ\",\"ISFJ\",\"ENFP\",\"INTJ\",\"ISFP\",\"INFJ\",\"INTP\",\"ENTJ\",\"INTP\",\"ISFJ\",\"INTJ\",\"ENTJ\",\"INFP\",\"INFJ\",\"INFJ\",\"INFP\",\"INTJ\",\"INFJ\",\"INFP\",\"INFJ\",\"INFJ\",\"ENFP\",\"ENTJ\",\"INTP\",\"ENTP\",\"INTJ\",\"INFP\",\"INTP\",\"INFJ\",\"INFJ\",\"INFJ\",\"ENFP\",\"INTP\",\"ISTP\",\"INTJ\",\"ISTP\",\"INTJ\",\"INTJ\",\"INFP\",\"ESFP\",\"INTP\",\"ESTP\",\"INTJ\",\"INTJ\",\"INFP\",\"INFJ\",\"INFP\",\"INFP\",\"INTP\",\"ISTJ\",\"ENTP\",\"ENTP\",\"INFP\",\"ENTP\",\"ISTJ\",\"INTP\",\"INFJ\",\"ESFJ\",\"INTJ\",\"INTP\",\"ENFP\",\"INFP\",\"INTP\",\"INTP\",\"INTP\",\"ENTP\",\"INFJ\",\"ENFP\",\"INFP\",\"INFJ\",\"INFP\",\"ENTJ\",\"INFP\",\"ENTP\",\"ISTP\",\"INFP\",\"ENTP\",\"INFP\",\"ENFP\",\"ISFP\",\"ENFP\",\"INFP\",\"ENFP\",\"INFP\",\"INFP\",\"ENFP\",\"ISTJ\",\"ISFJ\",\"INTJ\",\"INTJ\",\"INFP\",\"ENTP\",\"INTP\",\"INFP\",\"INTJ\",\"ENFJ\",\"INTP\",\"ISFP\",\"ISTJ\",\"ENFP\",\"ESTJ\",\"INFJ\",\"INFP\",\"INFJ\",\"INTP\",\"ISTJ\",\"INTP\",\"ENTP\",\"INTP\",\"INFJ\",\"ENFP\",\"INFJ\",\"INFP\",\"ENTJ\",\"INTP\",\"ENTP\",\"ENTP\",\"INTP\",\"INFJ\",\"ISTP\",\"INFJ\",\"INFP\",\"ENFP\",\"INFP\",\"INFP\",\"INTP\",\"INTJ\",\"INTP\",\"INFP\",\"INFJ\",\"INFP\",\"INTP\",\"ISFP\",\"INFJ\",\"ENFP\",\"INFJ\",\"INTP\",\"ENFP\",\"INTJ\",\"ENFP\",\"INFP\",\"INFP\",\"INFP\",\"ISTJ\",\"INFJ\",\"ISTP\",\"INFJ\",\"INFP\",\"INTJ\",\"INFJ\",\"ENTJ\",\"ISFP\",\"INTP\",\"ISFJ\",\"INTJ\",\"ESTJ\",\"INFJ\",\"INFJ\",\"INFJ\",\"INTP\",\"INTP\",\"ISTJ\",\"INTP\",\"INTP\",\"INFJ\",\"ISTJ\",\"ENTP\",\"ESTJ\",\"ENFP\",\"ISFJ\",\"ENFP\",\"ENTP\",\"INFJ\",\"ENTP\",\"INTJ\",\"INFP\",\"INFP\",\"INFJ\",\"INTP\",\"ENTP\",\"INTJ\",\"INFJ\",\"INTJ\",\"INTP\",\"INFJ\",\"INTP\",\"ESTJ\",\"ENFJ\",\"INFJ\",\"INTP\",\"ENTJ\",\"INFP\",\"INFP\",\"INTP\",\"INFP\",\"ISFJ\",\"INFJ\",\"INFP\",\"INTJ\",\"INTJ\",\"ENFJ\",\"INFJ\",\"ENFP\",\"ESTP\",\"INFJ\",\"ENFJ\",\"ENTP\",\"INFJ\",\"INFP\",\"ENTP\",\"ENTP\",\"ENFJ\",\"INTP\",\"INTJ\",\"INFP\",\"ENTP\",\"INFP\",\"INFP\",\"INTP\",\"ENTP\",\"ESTJ\",\"ENFP\",\"INTP\",\"INFP\",\"ENTJ\",\"INTP\",\"INFP\",\"INFJ\",\"INFJ\",\"ESTJ\",\"INFP\",\"INTJ\",\"ISTJ\",\"ENFP\",\"ISFJ\",\"INFJ\",\"INTP\",\"INTP\",\"INFP\",\"INTP\",\"INTP\",\"ENFP\",\"INTP\",\"INTP\",\"ENFJ\",\"INTP\",\"ENFJ\",\"ENTP\",\"ENFP\",\"INTP\",\"INTP\",\"INFP\",\"ISFP\",\"INFJ\",\"INFJ\",\"INFP\",\"INFP\",\"INFP\",\"INFJ\",\"INTP\",\"INFP\",\"INTP\",\"INFJ\",\"INTJ\",\"ENTP\",\"INTJ\",\"INFJ\",\"ESTP\",\"INTP\",\"INTP\",\"INFP\",\"ISTP\",\"ENFJ\",\"INFJ\",\"ENFJ\",\"INFJ\",\"INFP\",\"INTP\",\"INFP\",\"INFP\",\"INFJ\",\"INTP\",\"INFJ\",\"ENFP\",\"ISTJ\",\"ENFP\",\"INFP\",\"ISTJ\",\"ENTP\",\"INFJ\",\"ENTJ\",\"ENFP\",\"INTP\",\"ENTP\",\"ISFP\",\"INFP\",\"INFP\",\"INFP\",\"ENTP\",\"INTJ\",\"INFP\",\"ENFP\",\"INFJ\",\"ISTP\",\"INFP\",\"INFJ\",\"INFP\",\"ENTJ\",\"INTP\",\"INFJ\",\"INFP\",\"INFP\",\"INFP\",\"INTP\",\"INFJ\",\"ESFJ\",\"ENFP\",\"ENFJ\",\"INFP\",\"INTJ\",\"ENTP\",\"ISFP\",\"INFP\",\"INFJ\",\"INTJ\",\"INFP\",\"INTP\",\"INFP\",\"INFP\",\"INFJ\",\"INFJ\",\"INTJ\",\"ENTJ\",\"ESFJ\",\"INTJ\",\"INTP\",\"INTP\",\"INTP\",\"ENFP\",\"ENTP\",\"INTP\",\"ISFJ\",\"ENTP\",\"INTP\",\"ENTJ\",\"INTJ\",\"ENFP\",\"INTP\",\"INFP\",\"INTP\",\"ENTP\",\"INFJ\",\"INTP\",\"INFJ\",\"ISFP\",\"ENTP\",\"INFP\",\"INTP\",\"INFP\",\"INFP\",\"INTJ\",\"INTJ\",\"INTP\",\"INTP\",\"INFJ\",\"INTP\",\"ISTP\",\"INTJ\",\"ISFP\",\"INTJ\",\"INTP\",\"INFJ\",\"ENFP\",\"INTJ\",\"ISTP\",\"INFJ\",\"ENFP\",\"ENFP\",\"INFP\",\"ENFP\",\"INFP\",\"INFJ\",\"ENTP\",\"INTJ\",\"ENTP\",\"ENFP\",\"INTP\",\"INFP\",\"INFJ\",\"ENFP\",\"INFJ\",\"INFP\",\"INFP\",\"ISFP\",\"INTJ\",\"INTP\",\"INFP\",\"ISFJ\",\"INFP\",\"INFJ\",\"INFJ\",\"ENFP\",\"INFJ\",\"ESFJ\",\"INTJ\",\"INFJ\",\"INFJ\",\"INFP\",\"INTJ\",\"ISFP\",\"INTP\",\"INFP\",\"INFP\",\"INTJ\",\"ENFJ\",\"INFJ\",\"ESFJ\",\"INFP\",\"ENTJ\",\"INFP\",\"INFP\",\"INFP\",\"ENTP\",\"INFP\",\"INFJ\",\"INTP\",\"ISFP\",\"INTJ\",\"INFJ\",\"ISFP\",\"INFJ\",\"INFJ\",\"INFP\",\"INFP\",\"ENTJ\",\"INTP\",\"ENFP\",\"ENFP\",\"INFJ\",\"ENFP\",\"INFJ\",\"ENFP\",\"ENFP\",\"INTJ\",\"ENTP\",\"INFJ\",\"INFJ\",\"ENFJ\",\"INFJ\",\"INFJ\",\"INFJ\",\"INFJ\",\"INTJ\",\"INTP\",\"ENTP\",\"INFP\",\"INTJ\",\"ISTP\",\"INFP\",\"INFJ\",\"ENFP\",\"ENTJ\",\"INTJ\",\"INFP\",\"ENTP\",\"ISTP\",\"INFP\",\"ENFP\",\"ISFP\",\"ISFP\",\"INTP\",\"ENTP\",\"INFP\",\"INFJ\",\"INFJ\",\"INTP\",\"INFJ\",\"INTP\",\"INFP\",\"INFP\",\"INTP\",\"INFJ\",\"ENFP\",\"INFJ\",\"INFP\",\"INFJ\",\"INFP\",\"INFJ\",\"INTP\",\"ISFP\",\"INTP\",\"INTP\",\"ISTP\",\"INFP\",\"ENFP\",\"INFJ\",\"INFP\",\"ENTP\",\"ENTJ\",\"ENFP\",\"INFP\",\"INFJ\",\"ISTP\",\"INFP\",\"INFP\",\"INFP\",\"INFJ\",\"INTP\",\"INFJ\",\"INTP\",\"INFP\",\"INFJ\",\"ENFP\",\"INFJ\",\"INFP\",\"ISFP\",\"INTP\",\"INFP\",\"INFJ\",\"INFJ\",\"ENFP\",\"INFJ\",\"INFP\",\"INFP\",\"INFJ\",\"ENTP\",\"INFP\",\"INFP\",\"INTJ\",\"ENFP\",\"ENTP\",\"ENFP\",\"ENFP\",\"INFJ\",\"INTP\",\"INFP\",\"ISFJ\",\"INTJ\",\"INFP\",\"INTJ\",\"INTJ\",\"INTP\",\"INFP\",\"ENFP\",\"ENTP\",\"INFP\",\"ISTP\",\"INTP\",\"ESTP\",\"ENTJ\",\"ENTP\",\"INFP\",\"INTJ\",\"ISTP\",\"ENFP\",\"INFP\",\"ENFP\",\"ENFP\",\"INFP\",\"INFP\",\"ENTP\",\"ISFP\",\"INTP\",\"INFJ\",\"ENTP\",\"INFJ\",\"INFP\",\"INFP\",\"INFP\",\"ENTP\",\"INTP\",\"INFJ\",\"INTP\",\"INTP\",\"INFP\",\"ISFP\",\"INFP\",\"INTP\",\"INFP\",\"INTJ\",\"ISFP\",\"INFJ\",\"INFP\",\"INTP\",\"INFJ\",\"INFJ\",\"INFP\",\"INTP\",\"ISFP\",\"INFJ\",\"ISFP\",\"INTP\",\"INFJ\",\"ENFP\",\"INFP\",\"ENTJ\",\"INFP\",\"INFP\",\"ENTP\",\"ENFP\",\"INFJ\",\"INFP\",\"INFP\",\"INFJ\",\"INFP\",\"INTP\",\"ISFP\",\"INFJ\",\"ESFJ\",\"INFJ\",\"INTJ\",\"ENTJ\",\"INTP\",\"INFP\",\"INTJ\",\"INFJ\",\"INFP\",\"INTP\",\"ENTP\",\"INTP\",\"INTJ\",\"INTJ\",\"INTJ\",\"INTP\",\"ENFP\",\"ISFP\",\"INTJ\",\"ISFP\",\"INTP\",\"ISTP\",\"INTP\",\"INFP\",\"INFP\",\"INFP\",\"INTP\",\"INTP\",\"ISTP\",\"ESTP\",\"INTJ\",\"INFP\",\"ENTJ\",\"INFJ\",\"INFP\",\"INTJ\",\"INTP\",\"ENFP\",\"INFJ\",\"INFP\",\"INTP\",\"INTJ\",\"ENTP\",\"INFP\",\"INFP\",\"INTJ\",\"INFJ\",\"INTP\",\"ENTP\",\"INTP\",\"INFJ\",\"INFP\",\"INTP\",\"ENFP\",\"INFJ\",\"INTJ\",\"INTP\",\"INTJ\",\"INFP\",\"INTP\",\"ENFP\",\"ENFP\",\"INFJ\",\"INFJ\",\"INFP\",\"ENFJ\",\"INTP\",\"INTP\",\"ESTP\",\"INTP\",\"ISTJ\",\"INFP\",\"ENTP\",\"INFJ\",\"ENTP\",\"ENFP\",\"ISFJ\",\"ENTP\",\"INFP\",\"INFJ\",\"ISTP\",\"ENFJ\",\"INFJ\",\"INFP\",\"INFP\",\"INTP\",\"INTJ\",\"INTP\",\"ENFP\",\"INFP\",\"INTP\",\"INFJ\",\"INTJ\",\"INFJ\",\"ENTP\",\"ENTP\",\"INTP\",\"INTP\",\"INFJ\",\"INTP\",\"ISTJ\",\"ENFP\",\"ENTP\",\"INFJ\",\"INFJ\",\"ENTP\",\"INFJ\",\"INFP\",\"ENFP\",\"INFJ\",\"INTJ\",\"ISFP\",\"INTJ\",\"ISTJ\",\"INFJ\",\"INTJ\",\"INTP\",\"INFJ\",\"INFP\",\"ENFP\",\"INFP\",\"INFP\",\"INFP\",\"INTP\",\"INFP\",\"INTP\",\"INTP\",\"ENTP\",\"INTP\",\"INFP\",\"INTP\",\"ENTP\",\"INFP\",\"INFP\",\"INFJ\",\"ISTJ\",\"INTP\",\"INFP\",\"ENFP\",\"ENTJ\",\"INTJ\",\"INFP\",\"ENFP\",\"INTP\",\"INFJ\",\"INFJ\",\"INFP\",\"INTJ\",\"ISFJ\",\"INTP\",\"ISFJ\",\"INTP\",\"INFP\",\"INFP\",\"INFJ\",\"INTP\",\"ISTJ\",\"INTJ\",\"ISTP\",\"INTP\",\"INTJ\",\"INTJ\",\"INFJ\",\"INTP\",\"ISTP\",\"INTP\",\"INTP\",\"INFJ\",\"INFP\",\"INFP\",\"INTP\",\"INTJ\",\"INFP\",\"INTJ\",\"INFP\",\"ISFP\",\"INTJ\",\"INFP\",\"ENTP\",\"INFP\",\"ENFP\",\"ENTJ\",\"ENTJ\",\"INFP\",\"INTP\",\"INFJ\",\"INTP\",\"INFP\",\"INTP\",\"INFP\",\"ENFP\",\"INTJ\",\"ENFP\",\"INFP\",\"INFP\",\"INTP\",\"ENTJ\",\"INFP\",\"INFP\",\"INTP\",\"INFP\",\"INTJ\",\"ENTP\",\"ISTP\",\"INTJ\",\"INFP\",\"INFJ\",\"INTJ\",\"ENFP\",\"INTJ\",\"ISTJ\",\"ENTJ\",\"INTP\",\"INFJ\",\"ENTJ\",\"ISTP\",\"INTP\",\"ENTP\",\"ESFJ\",\"ISFJ\",\"INTJ\",\"INTJ\",\"ENTJ\",\"INTJ\",\"INTJ\",\"ENTP\",\"INFJ\",\"ISTP\",\"INFP\",\"ENTP\",\"INFP\",\"ESTP\",\"INFP\",\"ENFJ\",\"INFP\",\"INFJ\",\"INFJ\",\"ESTP\",\"INFJ\",\"INFP\",\"INFP\",\"INTJ\",\"INFJ\",\"ENTP\",\"ENFP\",\"INTP\",\"INFJ\",\"INFJ\",\"INTJ\",\"INTJ\",\"INFP\",\"ISFP\",\"INFJ\",\"ISFJ\",\"INFP\",\"INFP\",\"ENTP\",\"INTJ\",\"INTP\",\"INTP\",\"ENFP\",\"INFP\",\"ESFP\",\"INFP\",\"INTJ\",\"INTP\",\"ISFJ\",\"INTP\",\"INTJ\",\"INTJ\",\"INFJ\",\"INFP\",\"ENTP\",\"ENTP\",\"INFP\",\"INFP\",\"INFP\",\"ENTP\",\"INTJ\",\"INFP\",\"INFJ\",\"INFJ\",\"INTP\",\"INTJ\",\"INTJ\",\"ISTP\",\"INTJ\",\"INFP\",\"ISTJ\",\"INTP\",\"INTP\",\"ISFJ\",\"ISTP\",\"INTJ\",\"INTP\",\"INFJ\",\"INTP\",\"INTJ\",\"ISTJ\",\"ENFJ\",\"INFJ\",\"INTJ\",\"ENFP\",\"INFP\",\"INFJ\",\"ISTP\",\"INTP\",\"ESTP\",\"ENTP\",\"ISTJ\",\"INTP\",\"INFJ\",\"INFJ\",\"ENFP\",\"INTJ\",\"INFP\",\"INTJ\",\"INFP\",\"ENFP\",\"ENFP\",\"INFP\",\"INTJ\",\"ENFP\",\"ENTP\",\"INTP\",\"ENFP\",\"INFJ\",\"INFP\",\"INTJ\",\"ENTP\",\"ENTP\",\"ISTP\",\"INFJ\",\"INTJ\",\"ENTP\",\"INFJ\",\"INFP\",\"ESTJ\",\"INTJ\",\"ENFP\",\"INTJ\",\"INTJ\",\"ISFP\",\"INFP\",\"ENTP\",\"INFJ\",\"INFP\",\"INFJ\",\"INTJ\",\"INFJ\",\"ISFJ\",\"INTJ\",\"ISFP\",\"INFP\",\"INFP\",\"INFJ\",\"ENFP\",\"INFP\",\"ENFP\",\"INFP\",\"INTJ\",\"INFJ\",\"INFP\",\"INFP\",\"INTP\",\"ISFP\",\"INFJ\",\"INTP\",\"INTP\",\"INTP\",\"INTJ\",\"INTJ\",\"INTP\",\"ISTJ\",\"INTP\",\"INFJ\",\"INFP\",\"INFJ\",\"ENFP\",\"ISFP\",\"ENFP\",\"ESTP\",\"INTJ\",\"INTJ\",\"INTJ\",\"INFP\",\"INTP\",\"INFP\",\"ENFJ\",\"INTP\",\"ENTP\",\"INFP\",\"INFJ\",\"INFJ\",\"INTJ\",\"INFJ\",\"ENFP\",\"INFP\",\"INFP\",\"INTJ\",\"INFJ\",\"INFP\",\"INFP\",\"INFJ\",\"INTP\",\"INTJ\",\"INFP\",\"INTJ\",\"INTJ\",\"INFJ\",\"INFJ\",\"ENTJ\",\"ENTJ\",\"ISFJ\",\"INTJ\",\"INFJ\",\"INFP\",\"INFJ\",\"INFP\",\"INFJ\",\"ISTP\",\"INTJ\",\"INTP\",\"INTP\",\"INFP\",\"INFJ\",\"INFJ\",\"ENFP\",\"ENFP\",\"ENFJ\",\"INFJ\",\"ENFP\",\"INTP\",\"INFP\",\"ENFP\",\"ENFJ\",\"INTP\",\"ISTJ\",\"INTP\",\"INFJ\",\"INTJ\",\"INFJ\",\"ENFP\",\"INFJ\",\"INTJ\",\"INFJ\",\"ENTJ\",\"ENTP\",\"INTJ\",\"ISFP\",\"INFP\",\"INTJ\",\"INTP\",\"INFJ\",\"INFJ\",\"INFP\",\"ENFP\",\"ISFJ\",\"INTP\",\"INFJ\",\"INTP\",\"INTP\",\"ENTP\",\"ESFJ\",\"INFJ\",\"ISTP\",\"ENFP\",\"INFJ\",\"INTJ\",\"INTJ\",\"ENFP\",\"INFP\",\"INFJ\",\"ENTP\",\"INFJ\",\"ENFJ\",\"INFP\",\"ENTP\",\"INFJ\",\"ENFP\",\"ISFP\",\"INTJ\",\"INFJ\",\"ENFP\",\"ENTJ\",\"ESFJ\",\"INFJ\",\"INFP\",\"INTJ\",\"INTP\",\"INTP\",\"ENFJ\",\"INFP\",\"ENTP\",\"INFP\",\"ENTP\",\"ESTP\",\"ISTJ\",\"INTP\",\"INTJ\",\"INFJ\",\"INFJ\",\"ENFP\",\"ISTP\",\"ENFP\",\"INFP\",\"ENTP\",\"INTJ\",\"INFJ\",\"INTP\",\"INFP\",\"INFJ\",\"INFP\",\"INFP\",\"INTP\",\"INFJ\",\"INTP\",\"INFJ\",\"INFJ\",\"INFJ\",\"INFP\",\"INFJ\",\"INFP\",\"INFP\",\"ISFP\",\"ISFP\",\"ENFP\",\"INFJ\",\"INFP\",\"INFJ\",\"ENTP\",\"INTJ\",\"INTJ\",\"INFP\",\"INFJ\",\"INTJ\",\"ENTP\",\"ISTJ\",\"INFP\",\"ENTJ\",\"INFP\",\"INFP\",\"INFP\",\"ISFP\",\"INFP\",\"INFJ\",\"ENFJ\",\"ENTP\",\"ENFP\",\"ENFP\",\"ENTJ\",\"INTP\",\"INTJ\",\"ENTJ\",\"INFP\",\"INFP\",\"INFJ\",\"ENTP\",\"ENFJ\",\"INFP\",\"INFJ\",\"INTJ\",\"INTJ\",\"INTP\",\"INTJ\",\"INTP\",\"INTJ\",\"INTJ\",\"INTJ\",\"ENFJ\",\"ENTJ\",\"ENFP\",\"ENFP\",\"INFJ\",\"ENFP\",\"INTJ\",\"ENTP\",\"INTJ\",\"INFP\",\"INFP\",\"INFJ\",\"INFP\",\"INFJ\",\"INTP\",\"INTP\",\"ENFJ\",\"INTJ\",\"INTP\",\"ISFJ\",\"INTJ\",\"INFP\",\"ISTP\",\"ESTJ\",\"INFJ\",\"ENTJ\",\"ENFJ\",\"INFJ\",\"INTP\",\"ESTJ\",\"INFP\",\"INTP\",\"ENTP\",\"INFP\",\"INFJ\",\"INTJ\",\"INTP\",\"ESFJ\",\"ENTP\",\"INFP\",\"ENTJ\",\"INFJ\",\"ENTJ\",\"INTJ\",\"INTP\",\"INFJ\",\"ENFP\",\"INFJ\",\"ENFP\",\"INFJ\",\"INFP\",\"ISTP\",\"INFP\",\"ENFP\",\"INFJ\",\"ESFP\",\"INFJ\",\"ENTP\",\"ENTP\",\"INTP\",\"INTP\",\"INFP\",\"ESTP\",\"INFP\",\"ISFJ\",\"ENTP\",\"ENFP\",\"ENFP\",\"INFP\",\"ENFP\",\"ENTJ\",\"ENTP\",\"INTP\",\"ENTP\",\"INTP\",\"ENTJ\",\"INFJ\",\"INFJ\",\"INFP\",\"INTJ\",\"INFJ\",\"INFP\",\"INFP\",\"ISFJ\",\"INFJ\",\"INFP\",\"INFJ\",\"ENTP\",\"ISFP\",\"INFP\",\"INFP\",\"INFJ\",\"INFP\",\"INTJ\",\"INFP\",\"INFP\",\"INTJ\",\"INTP\",\"ENTJ\",\"INTJ\",\"INTP\",\"ENTP\",\"INFJ\",\"INFJ\",\"INFP\",\"ENFJ\",\"INFP\",\"ENFP\",\"INTP\",\"INTJ\",\"INTJ\",\"INFJ\",\"INFJ\",\"ISTP\",\"INTJ\",\"ENFP\",\"INFP\",\"INTP\",\"INFP\",\"ENTP\",\"INFJ\",\"INFP\",\"INTP\",\"INTP\",\"INFP\",\"ESTJ\",\"ISTJ\",\"ISTP\",\"ENFP\",\"INFP\",\"INTP\",\"INFP\",\"INTP\",\"ENTJ\",\"INFP\",\"INFP\",\"ENFP\",\"INFJ\",\"ENTP\",\"ENFP\",\"INTP\",\"ENFP\",\"INFP\",\"ESFJ\",\"INFJ\",\"INTP\",\"ENFP\",\"INTJ\",\"ENTP\",\"ESTP\",\"INFJ\",\"ENFP\",\"INFJ\",\"INFP\",\"ISFP\",\"ISTP\",\"INTP\",\"ENTP\",\"INTP\",\"INTJ\",\"INTJ\",\"INFP\",\"INTP\",\"ENTP\",\"INTJ\",\"ENTP\",\"INFJ\",\"INTP\",\"INFP\",\"ENTP\",\"INTP\",\"ENTP\",\"INFJ\",\"ENFP\",\"INFP\",\"INTJ\",\"INFJ\",\"ISFP\",\"INFP\",\"ISFP\",\"INFJ\",\"INFJ\",\"ENTP\",\"ISTJ\",\"INFJ\",\"INFP\",\"INTP\",\"INFJ\",\"ENFP\",\"INFP\",\"INFP\",\"INFP\",\"INTP\",\"ENTP\",\"ENFP\",\"INTP\",\"INFP\",\"INTJ\",\"INFP\",\"INFP\",\"INTJ\",\"INTJ\",\"INFP\",\"ENTP\",\"INFP\",\"INTJ\",\"ISFJ\",\"ESTP\",\"INFP\",\"ISTP\",\"INTP\",\"ENFP\",\"INFJ\",\"INTJ\",\"INFP\",\"INTP\",\"INTJ\",\"ENFP\",\"ENTP\",\"INFJ\",\"INFJ\",\"ISTJ\",\"INFP\",\"INTJ\",\"INTP\",\"INFP\",\"INFJ\",\"ENTP\",\"ISTP\",\"INFP\",\"INTJ\",\"INFP\",\"INTP\",\"INFJ\",\"INFP\",\"INFJ\",\"ENFP\",\"ENTJ\",\"ENFP\",\"INFP\",\"ESTP\",\"INFP\",\"INFJ\",\"INFJ\",\"INFP\",\"ENFJ\",\"INFJ\",\"ENTJ\",\"INFP\",\"INFJ\",\"INFJ\",\"INFJ\",\"INFP\",\"INFP\",\"INFP\",\"INTJ\",\"INFJ\",\"ENFP\",\"INFJ\",\"ENFP\",\"ENTP\",\"ENFJ\",\"ENFP\",\"ENTJ\",\"INFP\",\"INTJ\",\"INFJ\",\"ENTP\",\"ENFP\",\"INFP\",\"ISFP\",\"INFJ\",\"INFJ\",\"INTJ\",\"ISTP\",\"ENTP\",\"INFJ\",\"ISFP\",\"ENTP\",\"INFP\",\"INFP\",\"INTP\",\"INFJ\",\"ENTP\",\"INTP\",\"ISTJ\",\"INTP\",\"INTJ\",\"INFP\",\"INFP\",\"INTP\",\"INFP\",\"INFJ\",\"ESTP\",\"INFP\",\"ISTP\",\"ENTP\",\"INFP\",\"INTJ\",\"INFJ\",\"INFP\",\"INTP\",\"INTJ\",\"INFJ\",\"INFJ\",\"ENTP\",\"INFP\",\"INFP\",\"INTP\",\"INTJ\",\"INFJ\",\"ISTJ\",\"ENTP\",\"INFJ\",\"ISTP\",\"INTP\",\"INTJ\",\"INTP\",\"INTJ\",\"ENTJ\",\"INFP\",\"INFP\",\"INFJ\",\"ISTP\",\"ENFP\",\"INFJ\",\"ISTP\",\"ENFJ\",\"INTJ\",\"INTP\",\"ESFJ\",\"INTP\",\"ISFP\",\"ESFJ\",\"INFJ\",\"ISTP\",\"ISFJ\",\"ISTP\",\"ISTJ\",\"INTP\",\"INTP\",\"INTP\",\"INFJ\",\"INFP\",\"INFJ\",\"ISTP\",\"INFP\",\"INFJ\",\"ENFP\",\"INTJ\",\"INTP\",\"INFP\",\"INFJ\",\"INFP\",\"ENFP\",\"INFP\",\"ISFP\",\"INTP\",\"ISFP\",\"ISFP\",\"INFP\",\"INTP\",\"INFP\",\"INFJ\",\"INFP\",\"INTJ\",\"INTJ\",\"ENTP\",\"INFP\",\"ENTP\",\"INTJ\",\"INTJ\",\"ENFP\",\"INTP\",\"INTP\",\"ENTP\",\"INFP\",\"INFP\",\"INTP\",\"ENTP\",\"INTP\",\"ENTP\",\"INFJ\",\"INFP\",\"ENFP\",\"INFJ\",\"INFJ\",\"INFP\",\"INTJ\",\"INFP\",\"INFP\",\"ENFJ\",\"INFP\",\"ESTP\",\"INFP\",\"INFP\",\"INTP\",\"INTJ\",\"ENTP\",\"ENFJ\",\"INTJ\",\"INTP\",\"ISFP\",\"INTP\",\"INTP\",\"ENFP\",\"INFJ\",\"INFP\",\"INTJ\",\"INTP\",\"INTP\",\"INTP\",\"INTJ\",\"ISTJ\",\"INTJ\",\"ENTP\",\"INFP\",\"INFJ\",\"INTP\",\"INTP\",\"INFP\",\"INFP\",\"INFP\",\"INTJ\",\"INTJ\",\"INTJ\",\"ENFP\",\"ENTP\",\"ENFP\",\"INFP\",\"ENTP\",\"INFJ\",\"INFP\",\"INFP\",\"INFJ\",\"ENFP\",\"ISTP\",\"INFJ\",\"ENTP\",\"INTP\",\"ESFP\",\"ENFP\",\"ENTJ\",\"ESFJ\",\"INTJ\",\"INTJ\",\"INFJ\",\"INTP\",\"ENTP\",\"ISTP\",\"ISTP\",\"INFJ\",\"ENTP\",\"INFP\",\"ENFP\",\"INFJ\",\"INFP\",\"INFP\",\"ENTP\",\"INFP\",\"ENTJ\",\"ENTP\",\"ISTP\",\"INTJ\",\"ENTP\",\"INTJ\",\"INFP\",\"INFJ\",\"ISTJ\",\"INTJ\",\"INTJ\",\"ISTJ\",\"ENFP\",\"ENTP\",\"INFJ\",\"INFP\",\"INTJ\",\"INTP\",\"INFP\",\"INTP\",\"INFP\",\"INTJ\",\"INTJ\",\"ENTP\",\"INTP\",\"INFJ\",\"INFJ\",\"ENFP\",\"ISFP\",\"ENTP\",\"ENFP\",\"INFP\",\"INTP\",\"INFP\",\"ISFJ\",\"ENTP\",\"INTJ\",\"INTP\",\"INFP\",\"ENTP\",\"ENFJ\",\"INFJ\",\"INTP\",\"ISFP\",\"INFP\",\"INTP\",\"ENTP\",\"ISTJ\",\"INTP\",\"INFJ\",\"ISFP\",\"INTP\",\"INFJ\",\"ENTP\",\"INTP\",\"INFJ\",\"INFJ\",\"ENTJ\",\"INTP\",\"INFJ\",\"INFP\",\"ESTJ\",\"ENFJ\",\"INFJ\",\"INFP\",\"INFP\",\"INFP\",\"INFP\",\"INFJ\",\"INFP\",\"INTP\",\"INTP\",\"ENTP\",\"ISTJ\",\"INFP\",\"INFJ\",\"ISTJ\",\"INFJ\",\"INFJ\",\"INFP\",\"INTJ\",\"INTJ\",\"INTP\",\"INTJ\",\"INTJ\",\"INFP\",\"INTJ\",\"ENTP\",\"INTP\",\"INFJ\",\"INFP\",\"INTJ\",\"INTJ\",\"INTP\",\"INTP\",\"ENFJ\",\"INTP\",\"INTP\",\"ENTP\",\"INTP\",\"ISTJ\",\"INTJ\",\"ISFP\",\"INTP\",\"INFJ\",\"INFP\",\"ISFJ\",\"INTJ\",\"INFJ\",\"ENFP\",\"ENTJ\",\"ISFP\",\"INFJ\",\"INFP\",\"ENFJ\",\"ISTJ\",\"ENTP\",\"ISTJ\",\"INTP\",\"INTJ\",\"ISFP\",\"INFP\",\"INTJ\",\"INTJ\",\"INFJ\",\"ENFJ\",\"ENTP\",\"ENTJ\",\"ENTJ\",\"INFJ\",\"INFP\",\"INTJ\",\"ENFP\",\"INFP\",\"ENTP\",\"INFP\",\"INFJ\",\"ISTP\",\"INFJ\",\"INTP\",\"INFP\",\"INTP\",\"ENFP\",\"INTJ\",\"INFP\",\"INTP\",\"INFJ\",\"INFP\",\"ENTP\",\"INTP\",\"INTJ\",\"INFJ\",\"INFP\",\"INFP\",\"INTP\",\"ESFP\",\"INTP\",\"INFP\",\"ENTP\",\"INTJ\",\"ISFP\",\"INFJ\",\"INFP\",\"ENFP\",\"INFJ\",\"INFP\",\"INFP\",\"INTJ\",\"INFP\",\"INTJ\",\"ENFP\",\"ISTJ\",\"INFP\",\"INTJ\",\"INFP\",\"INTJ\",\"ENFP\",\"ENFP\",\"ENFJ\",\"INTJ\",\"INTJ\",\"INTJ\",\"ENFP\",\"INTP\",\"INTJ\",\"INFJ\",\"ISTP\",\"INFP\",\"ENTP\",\"INTP\",\"ENTP\",\"INFP\",\"ENFP\",\"ENFP\",\"INTP\",\"ISFJ\",\"INFP\",\"ENFP\",\"INTP\",\"INTJ\",\"INTJ\",\"INTP\",\"INFP\",\"INFP\",\"ENTP\",\"ENFP\",\"INTJ\",\"INTP\",\"INTJ\",\"ISFP\",\"INTP\",\"ENFJ\",\"INFP\",\"ISFJ\",\"INFP\",\"INFJ\",\"INTP\",\"INFP\",\"ESFP\",\"ENTP\",\"INFP\",\"INFJ\",\"INTP\",\"INTP\",\"INFJ\",\"INTJ\",\"INTP\",\"ENTP\",\"INFJ\",\"ENTJ\",\"INFP\",\"ENTP\",\"ISFJ\",\"INFP\",\"INFJ\",\"ENTJ\",\"ENFP\",\"ENFJ\",\"ISTP\",\"INFJ\",\"ISFJ\",\"ISFJ\",\"INFJ\",\"ISFP\",\"INTP\",\"ENTJ\",\"ENFP\",\"INFJ\",\"INFJ\",\"ESTP\",\"INFP\",\"INTP\",\"INFJ\",\"INTP\",\"INTP\",\"ENFJ\",\"ISFP\",\"INTJ\",\"INTJ\",\"ENTP\",\"INFP\",\"ENFP\",\"ISFP\",\"ENTP\",\"INFJ\",\"ENTP\",\"ISTP\",\"ISTP\",\"INFP\",\"INFJ\",\"INFP\",\"INTJ\",\"INTP\",\"INTJ\",\"INTJ\",\"INFP\",\"INTP\",\"INFP\",\"ENFP\",\"ISTP\",\"INTP\",\"INTJ\",\"INFP\",\"ISTP\",\"INTJ\",\"INFJ\",\"INFP\",\"INFP\",\"INFP\",\"ENTP\",\"INFJ\",\"INFJ\",\"INFP\",\"INTJ\",\"INFP\",\"INTP\",\"INFP\",\"ENTJ\",\"INTP\",\"INTJ\",\"INFP\",\"INTJ\",\"INTJ\",\"INTJ\",\"INFJ\",\"ENFP\",\"ENTP\",\"ENTP\",\"ENTP\",\"INFJ\",\"ENFP\",\"INFP\",\"ISTJ\",\"INFP\",\"ISTP\",\"INFJ\",\"INTJ\",\"INFP\",\"ISFP\",\"INTJ\",\"ENFP\",\"INTP\",\"ISFJ\",\"ESTP\",\"INFP\",\"INTP\",\"INFP\",\"ENFP\",\"INFJ\",\"INTP\",\"INFJ\",\"ISTJ\",\"ISTP\",\"INFP\",\"INFP\",\"INTJ\",\"INFP\",\"INTJ\",\"ENTJ\",\"ISTJ\",\"ENFP\",\"INTJ\",\"INFP\",\"INFP\",\"ENFP\",\"INFJ\",\"INFJ\",\"INFP\",\"INFP\",\"ISFP\",\"INFP\",\"ENTP\",\"INFJ\",\"INFP\",\"INFP\",\"INFJ\",\"INTJ\",\"ISTP\",\"ISFP\",\"ENTJ\",\"INFP\",\"INFP\",\"ENFP\",\"INFP\",\"INFP\",\"ENFP\",\"ISTJ\",\"ISTJ\",\"INTP\",\"INTJ\",\"INTJ\",\"INTP\",\"ENTJ\",\"ISFP\",\"INTP\",\"INTP\",\"INTP\",\"INTP\",\"INFP\",\"ENTP\",\"INFJ\",\"INTJ\",\"ENTP\",\"INFP\",\"INFJ\",\"INFP\",\"INFJ\",\"INFJ\",\"INFJ\",\"INFJ\",\"INFP\",\"INFP\",\"ESFJ\",\"INFP\",\"INFJ\",\"ENFP\",\"INFP\",\"INTP\",\"INTP\",\"INFP\",\"ISTP\",\"INFP\",\"INFJ\",\"INTP\",\"ENTP\",\"INTP\",\"INFJ\",\"INFP\",\"INTJ\",\"INFJ\",\"INFP\",\"INTP\",\"ENTP\",\"INTP\",\"INTP\",\"ISTJ\",\"INFP\",\"ENFP\",\"INFP\",\"ENTJ\",\"INTJ\",\"INFP\",\"INFJ\",\"ENFP\",\"ISFP\",\"INFJ\",\"INFJ\",\"INTP\",\"INTJ\",\"ISFP\",\"INFP\",\"ISTP\",\"INFJ\",\"ISFP\",\"INTJ\",\"ESTJ\",\"INFP\",\"ENTP\",\"INFP\",\"INFP\",\"INTP\",\"INTP\",\"ISFJ\",\"ENTJ\",\"INFP\",\"INTJ\",\"ISTJ\",\"ESFJ\",\"INTJ\",\"ISTJ\",\"ENTP\",\"INTP\",\"ENFP\",\"ENTJ\",\"INFJ\",\"INFJ\",\"INFP\",\"ISFP\",\"INFP\",\"INTP\",\"INFJ\",\"INTJ\",\"INFJ\",\"ENFP\",\"INTP\",\"INFP\",\"INFP\",\"ENTP\",\"INFP\",\"INTJ\",\"ENTP\",\"ISFP\",\"INTJ\",\"INFP\",\"INTJ\",\"INTJ\",\"ENFP\",\"ISFJ\",\"ENTJ\",\"ENFP\",\"INTJ\",\"INFP\",\"INTP\",\"ISFJ\",\"INFP\",\"ENFP\",\"INTJ\",\"INFP\",\"ENTJ\",\"INTJ\",\"INFJ\",\"INTP\",\"ENTP\",\"ISFP\",\"INTP\",\"ENFP\",\"INFP\",\"INTP\",\"INTJ\",\"ENFP\",\"INFP\",\"INFP\",\"ISTP\",\"INTP\",\"INFP\",\"INTP\",\"INFP\",\"ISFP\",\"INFP\",\"INFJ\",\"ENFP\",\"INTJ\",\"ISTP\",\"ENFP\",\"INTP\",\"INFP\",\"INTP\",\"INTP\",\"ENTP\",\"INTP\",\"INFJ\",\"ENTP\",\"INTP\",\"INFJ\",\"ENTP\",\"ENFJ\",\"ISTJ\",\"INFP\",\"INTP\",\"INFJ\",\"ISFP\",\"INFP\",\"INTP\",\"INTJ\",\"INTP\",\"ENTP\",\"INTJ\",\"INFJ\",\"ISFP\",\"INTP\",\"ENTP\",\"ENTJ\",\"ENFP\",\"ISFJ\",\"INTJ\",\"ISFJ\",\"ENFP\",\"INTP\",\"INFP\",\"INFP\",\"INTP\",\"ENFP\",\"ISTP\",\"INFJ\",\"INFJ\",\"INFP\",\"INTJ\",\"INFJ\",\"INFP\",\"ENTJ\",\"INTJ\",\"ISTP\",\"INFP\",\"INFP\",\"ISTJ\",\"INFJ\",\"INTJ\",\"ISFP\",\"INTJ\",\"ISTP\",\"INFJ\",\"ISTP\",\"ENTP\",\"ENTJ\",\"ESTP\",\"INTJ\",\"ISFJ\",\"INTP\",\"INFP\",\"INFJ\",\"INFJ\",\"INTP\",\"INFP\",\"ENTP\",\"ENFP\",\"INFP\",\"ENFP\",\"INTJ\",\"INTJ\",\"INTP\",\"INFP\",\"INFP\",\"INFP\",\"INFP\",\"INFJ\",\"ENFP\",\"INFJ\",\"ISFJ\",\"ENTP\",\"INFP\",\"INFJ\",\"ENFP\",\"ENTP\",\"INFJ\",\"INFJ\",\"ESFP\",\"INFP\",\"INTJ\",\"ENFP\",\"INFP\",\"INFP\",\"ENFP\",\"ISTP\",\"ESFP\",\"ISTP\",\"INTP\",\"INTJ\",\"ENTJ\",\"INFP\",\"ISTP\",\"ENFJ\",\"INFP\",\"ENFJ\",\"INTJ\",\"ISTP\",\"INTP\",\"INTJ\",\"INTP\",\"INTJ\",\"INFJ\",\"INTJ\",\"INTP\",\"ENFP\",\"INFP\",\"ENTP\",\"INFP\",\"INFP\",\"INTP\",\"ISFP\",\"ISFP\",\"INTJ\",\"ENFP\",\"ENTP\",\"INFP\",\"INFP\",\"ENTP\",\"ENFP\",\"ENFP\",\"ENTP\",\"INFJ\",\"INTJ\",\"INTP\",\"INTP\",\"ISTP\",\"ISFJ\",\"INFJ\",\"INFJ\",\"INFP\",\"ENTJ\",\"INFJ\",\"INFP\",\"INTJ\",\"INFJ\",\"ENTJ\",\"INTP\",\"ISFJ\",\"ENTP\",\"INFP\",\"INTP\",\"INTP\",\"ENFP\",\"INFJ\",\"ESTP\",\"INFJ\",\"INTP\",\"INFP\",\"ENTJ\",\"ENTP\",\"ISTP\",\"INTP\",\"INFJ\",\"ISFP\",\"ISFJ\",\"ENTP\",\"INTJ\",\"ENTP\",\"INTP\",\"INFP\",\"INTJ\",\"ISTP\",\"INFJ\",\"INTP\",\"INFJ\",\"INTP\",\"INFP\",\"INTJ\",\"INFJ\",\"INTJ\",\"ENTP\",\"INFP\",\"INTJ\",\"INTP\",\"INFP\",\"INTJ\",\"INFP\",\"INFP\",\"INTP\",\"INFJ\",\"INTJ\",\"INFP\",\"INFP\",\"ISTP\",\"INFP\",\"ISTJ\",\"INTJ\",\"ESFJ\",\"INTP\",\"INFJ\",\"ISTP\",\"ENTJ\",\"INFP\",\"ENFP\",\"INTJ\",\"INTP\",\"INTJ\",\"INTJ\",\"INFP\",\"INFJ\",\"INTJ\",\"ESTP\",\"INFJ\",\"INTJ\",\"INTP\",\"INTP\",\"ISFP\",\"INTP\",\"ISFP\",\"INFP\",\"INFP\",\"INFJ\",\"INTP\",\"INTP\",\"INTJ\",\"ENTP\",\"ENTP\",\"ISTJ\",\"ISTP\",\"INFP\",\"ESFJ\",\"INFP\",\"ISTP\",\"ENFP\",\"INTP\",\"INFJ\",\"INTP\",\"INTJ\",\"ENTJ\",\"ENFP\",\"INFP\",\"INFJ\",\"ISTP\",\"INFP\",\"ENTP\",\"INTP\",\"INTJ\",\"ESFJ\",\"INFJ\",\"INFP\",\"ENFP\",\"INTJ\",\"ENTP\",\"INFJ\",\"INTJ\",\"ESFP\",\"INFP\",\"INTP\",\"INFP\",\"ISTP\",\"ENFP\",\"ENFJ\",\"INFJ\",\"INFJ\",\"INTP\",\"ENFP\",\"INTP\",\"INFJ\",\"ISTP\",\"INFP\",\"INFP\",\"INFJ\",\"INTP\",\"ISFP\",\"INTJ\",\"ISTP\",\"INFP\",\"INTP\",\"INFJ\",\"ISFJ\",\"INTJ\",\"INFJ\",\"INTP\",\"INFJ\",\"INTP\",\"INTP\",\"INTJ\",\"INTP\",\"INFP\",\"INFJ\",\"ISFJ\",\"INFP\",\"ISFP\",\"ISFP\",\"INTJ\",\"INFJ\",\"ISTJ\",\"ENFP\",\"INTJ\",\"ENTP\",\"INFP\",\"INTJ\",\"ISTJ\",\"INTJ\",\"ENTP\",\"INFP\",\"ISTJ\",\"INFP\",\"ENTJ\",\"INFJ\",\"INFP\",\"INFP\",\"INTP\",\"INFP\",\"ISTP\",\"ENTP\",\"INTP\",\"INTJ\",\"INFP\",\"INTJ\",\"ISTJ\",\"INFP\",\"INTJ\",\"INTP\",\"ESFJ\",\"INTJ\",\"INFJ\",\"ENFJ\",\"ENFP\",\"ENFP\",\"INFP\",\"INFJ\",\"ENFJ\",\"ENTP\",\"ISTJ\",\"INFP\",\"INTJ\",\"INFP\",\"ISTP\",\"INTP\",\"INTJ\",\"INFP\",\"ENTP\",\"ENFP\",\"INTJ\",\"ISFP\",\"INFP\",\"INTJ\",\"ENFP\",\"INFP\",\"INTP\",\"ENTP\",\"INFJ\",\"ENFP\",\"ENFP\",\"INFP\",\"ENFJ\",\"INTJ\",\"INFP\",\"INTP\",\"INTP\",\"INFP\",\"INTJ\",\"INFJ\",\"ISFP\",\"ISTP\",\"ENTP\",\"INTP\",\"INFP\",\"INFP\",\"INTJ\",\"INTJ\",\"INTJ\",\"ISTP\",\"INFJ\",\"INTJ\",\"ENTJ\",\"INFP\",\"ENFP\",\"INFP\",\"ENTP\",\"INFP\",\"ISTP\",\"INFJ\",\"INFP\",\"INTJ\",\"INFP\",\"INFP\",\"INFP\",\"INFP\",\"INFP\",\"INFJ\",\"INFP\",\"INFJ\",\"ENFP\",\"INFJ\",\"INFP\",\"INFP\",\"INTP\",\"INFP\",\"ENFP\",\"ENTP\",\"INFP\",\"INTP\",\"INTJ\",\"INFP\",\"INFJ\",\"INFP\",\"ISFJ\",\"INFJ\",\"ENFJ\",\"ESFP\",\"INTP\",\"INFP\",\"INTJ\",\"INFP\",\"ESFP\",\"ENFP\",\"INFJ\",\"INFJ\",\"ENFP\",\"ENFP\",\"ENTP\",\"INFJ\",\"INFP\",\"INFP\",\"INFP\",\"INTJ\",\"ISFJ\",\"ENTP\",\"ISTP\",\"INFP\",\"INFP\",\"ISTP\",\"INFP\",\"INFP\",\"INFP\",\"ENTP\",\"INTP\",\"INFJ\",\"INFP\",\"INFJ\",\"ISFP\",\"INFP\",\"ISTJ\",\"INTJ\",\"INFP\",\"ISFJ\",\"ISTJ\",\"INTJ\",\"ENFP\",\"INTP\",\"INTJ\",\"INFJ\",\"INTJ\",\"INTP\",\"INTP\",\"ISFP\",\"INTP\",\"INFJ\",\"INFJ\",\"INTP\",\"INTP\",\"INFJ\",\"INTP\",\"INTP\",\"INTP\",\"ENFJ\",\"INFP\",\"ENFP\",\"INFP\",\"INFJ\",\"INFJ\",\"ISTP\",\"INFJ\",\"INFP\",\"INFJ\",\"INFJ\",\"INFP\",\"INFP\",\"ENFP\",\"ENFP\",\"INTP\",\"INTP\",\"ENTP\",\"INFP\",\"INTJ\",\"INFJ\",\"INFP\",\"ENTP\",\"INTP\",\"ISTP\",\"INTP\",\"ENTP\",\"ENTP\",\"INTJ\",\"INFP\",\"INFP\",\"INFP\",\"ISTJ\",\"ENTP\",\"INTP\",\"INFP\",\"ENFP\",\"ISTP\",\"INTP\",\"INTP\",\"ISFJ\",\"INTP\",\"ISTP\",\"ISTP\",\"INFJ\",\"INTP\",\"INFP\",\"INTP\",\"INTJ\",\"ISTP\",\"INFP\",\"INTJ\",\"INTP\",\"INTJ\",\"ENFP\",\"ENTJ\",\"INTP\",\"INFJ\",\"ENFJ\",\"ENFP\",\"ENTP\",\"INFJ\",\"INTP\",\"INTJ\",\"ENTP\",\"ENFP\",\"INFP\",\"INFP\",\"INTP\",\"ENFP\",\"INTJ\",\"INFJ\",\"INFP\",\"INTJ\",\"ISTJ\",\"INTJ\",\"INTP\",\"INFP\",\"INFP\",\"INFJ\",\"INFP\",\"INFJ\",\"INFP\",\"INTP\",\"ISFP\",\"INTJ\",\"ISTJ\",\"ISFP\",\"INTJ\",\"ENTP\",\"ENTJ\",\"INFP\",\"INTJ\",\"INTJ\",\"INTJ\",\"ENTP\",\"INFP\",\"INTP\",\"ENTP\",\"INFP\",\"INFJ\",\"ENTJ\",\"INTP\",\"INTJ\",\"INFP\",\"ESTP\",\"INFP\",\"INTP\",\"INTJ\",\"INFP\",\"ENTP\",\"ENTP\",\"INTP\",\"INTJ\",\"INFJ\",\"ISFP\",\"INFJ\",\"ESFP\",\"INFP\",\"ENTP\",\"INTP\",\"ISTP\",\"INTP\",\"ISFP\",\"ENTP\",\"INFP\",\"ESFJ\",\"INTJ\",\"ISFP\",\"INFP\",\"INTP\",\"INTP\",\"INFP\",\"INTP\",\"INFJ\",\"INTJ\",\"INFP\",\"ENFJ\",\"INTP\",\"INFP\",\"INTP\",\"ENFP\",\"INFP\",\"INTJ\",\"ENTP\",\"INTJ\",\"INTP\",\"INFJ\",\"INTP\",\"INFP\",\"ISTP\",\"ISTJ\",\"ESTP\",\"INFP\",\"INFJ\",\"INFP\",\"ENFP\",\"INTJ\",\"ISTJ\",\"INFJ\",\"INFP\",\"INTJ\",\"INFJ\",\"ENTP\",\"INFP\",\"ESTP\",\"ENTP\",\"INTP\",\"INFJ\",\"INFJ\",\"ENTJ\",\"ISTJ\",\"ENFJ\",\"INTP\",\"ISTJ\",\"ESTP\",\"INFP\",\"INFJ\",\"INFJ\",\"INFP\",\"INFJ\",\"INFJ\",\"INFP\",\"INFJ\",\"INFJ\",\"INFJ\",\"INTJ\",\"ISTP\",\"INFJ\",\"INTP\",\"INFJ\",\"INTJ\",\"INFJ\",\"ENFP\",\"INFP\",\"INTJ\",\"INFP\",\"ENFP\",\"ENFP\",\"INFP\",\"ENTP\",\"INFJ\",\"ENTJ\",\"INTJ\",\"INFP\",\"INFJ\",\"ENTJ\",\"INFJ\",\"INTP\",\"INTJ\",\"INFP\",\"INFJ\",\"INTP\",\"INTJ\",\"INTJ\",\"ENFJ\",\"ENTP\",\"INFP\",\"INFJ\",\"INFP\",\"ISFP\",\"ISFP\",\"INFJ\",\"INFP\",\"INTP\",\"INFP\",\"INTJ\",\"INTP\",\"INFP\",\"ENFJ\",\"ISTJ\",\"ISFJ\",\"INFJ\",\"INTJ\",\"INTP\",\"INFP\",\"INFP\",\"ENFJ\",\"INFP\",\"INFP\",\"INFP\",\"ENTJ\",\"INFJ\",\"INTP\",\"INFP\",\"INFJ\",\"ENTP\",\"INTP\",\"INFP\",\"INTJ\",\"INFJ\",\"ISFP\",\"INTJ\",\"ENFP\",\"INFJ\",\"INFJ\",\"INFP\",\"INTJ\",\"ENFP\",\"ENTP\",\"INFJ\",\"INFP\",\"ENFP\",\"INFJ\",\"ENFP\",\"INFJ\",\"ENFJ\",\"INTP\",\"INFJ\",\"ISTP\",\"ENFP\",\"INFJ\",\"INTJ\",\"ENFP\",\"INTJ\",\"ENFP\",\"INFJ\",\"INFP\",\"ENFJ\",\"INFJ\",\"INFJ\",\"ENFP\",\"ISTP\",\"ENTP\",\"INTJ\",\"ENFJ\",\"INTJ\",\"INFJ\",\"INFP\",\"INFP\",\"INTJ\",\"INFJ\",\"ISFP\",\"INFJ\",\"INTP\",\"INFJ\",\"INFP\",\"ENFP\",\"INTP\",\"INFP\",\"INTP\",\"INFP\",\"ISTJ\",\"INFJ\",\"INFJ\",\"ISTP\",\"ISFP\",\"INFP\",\"ISFP\",\"ENFP\",\"ENFJ\",\"INFJ\",\"ENTJ\",\"ENTP\",\"ISTP\",\"ENFP\",\"ENFJ\",\"INFP\",\"INTP\",\"INFJ\",\"INFP\",\"INFP\",\"INFJ\",\"INFP\",\"INTJ\",\"ENFP\",\"INFJ\",\"INTP\",\"ENFP\",\"ISTJ\",\"INFP\",\"ENFP\",\"INTP\",\"INTJ\",\"INTJ\",\"INFP\",\"INTP\",\"INTJ\",\"ENFP\",\"INTP\",\"INFP\",\"INFP\",\"INFP\",\"ESFP\",\"INFP\",\"ENFP\",\"ISTJ\",\"INTP\",\"INFP\",\"ISFJ\",\"INTP\",\"INTP\",\"ISTP\",\"INTJ\",\"INTJ\",\"INTJ\",\"INFP\",\"INTJ\",\"ENTP\",\"INTP\",\"INFJ\",\"ENTP\",\"ENTJ\",\"INTP\",\"INFJ\",\"INTP\",\"ENFP\",\"ENTJ\",\"ENTP\",\"ISTJ\",\"INFJ\",\"ENTJ\",\"INTJ\",\"INTJ\",\"INTJ\",\"ENFP\",\"ISFP\",\"INFJ\",\"INFP\",\"INFP\",\"INTP\",\"ENTP\",\"ISTP\",\"ISTJ\",\"INFP\",\"INTP\",\"ENFP\",\"INFP\",\"INTP\",\"INFP\",\"ISTP\",\"INTJ\",\"INFP\",\"INTJ\",\"ENTJ\",\"INFJ\",\"INTP\",\"INTP\",\"INTP\",\"INFJ\",\"INTP\",\"INFJ\",\"ENFJ\",\"INFP\",\"INFP\",\"ENFP\",\"INFJ\",\"ENFP\",\"INFP\",\"INTP\",\"INFP\",\"INTP\",\"ISFP\",\"INFP\",\"ISFP\",\"ISTJ\",\"INFJ\",\"ISTP\",\"INFP\",\"INFJ\",\"INFJ\",\"INTJ\",\"INFJ\",\"INTP\",\"INFP\",\"INFP\",\"INFP\",\"INFP\",\"INFJ\",\"ISFP\",\"INFP\",\"INFP\",\"INFP\",\"INTP\",\"INFP\",\"INTP\",\"INTP\",\"INTJ\",\"ENFP\",\"ISFJ\",\"INFP\",\"ISFP\",\"INTJ\",\"INTJ\",\"ENFP\",\"ENTP\",\"INFP\",\"ENTJ\",\"INFP\",\"INFJ\",\"ENTP\",\"INTP\",\"ENFP\",\"INFJ\",\"INTJ\",\"INTP\",\"INFP\",\"ISFP\",\"INFP\",\"INTJ\",\"ESFP\",\"INTP\",\"INTJ\",\"INFP\",\"ISFP\",\"ISTP\",\"ENTP\",\"INTP\",\"ISTJ\",\"ENTP\",\"ENTP\",\"INFP\",\"INFJ\",\"ISTJ\",\"INTP\",\"ISFP\",\"ENFJ\",\"ENFP\",\"INFP\",\"INFJ\",\"INFJ\",\"INFJ\",\"INTP\",\"INTJ\",\"INFP\",\"ENTP\",\"ENFP\",\"INFJ\",\"ENTP\",\"INFP\",\"INTP\",\"INFJ\",\"INTJ\",\"ENTJ\",\"INTP\",\"ENTP\",\"ISTP\",\"INFP\",\"ISTJ\",\"INFP\",\"ISTP\",\"INFP\",\"INTJ\",\"INFJ\",\"ENTJ\",\"ENTJ\",\"INFP\",\"INTP\",\"ISTJ\",\"ISTJ\",\"INFP\",\"INFJ\",\"INTJ\",\"INTP\",\"ENFP\",\"INFJ\",\"INTP\",\"INTJ\",\"ISFP\",\"INFJ\",\"ENFP\",\"INTP\",\"INFJ\",\"INFP\",\"ENTP\",\"ENTP\",\"INFP\",\"INTP\",\"INFP\",\"INTP\",\"INTP\",\"INFP\",\"INTP\",\"INFP\",\"ENTJ\",\"INFJ\",\"INFJ\",\"INFP\",\"INFJ\",\"INFP\",\"ENTP\",\"INFP\",\"ISFJ\",\"ENTJ\",\"INFJ\",\"ISFP\",\"INFJ\",\"ENFP\",\"ISTP\",\"INFP\",\"INFJ\",\"ENTP\",\"INTP\",\"ISTJ\",\"INFP\",\"ENTP\",\"INFJ\",\"INFP\",\"INFP\",\"INTP\",\"INFJ\",\"ENTP\",\"INFJ\",\"ISFP\",\"INFP\",\"INFP\",\"INFP\",\"ISFP\",\"INTJ\",\"INTP\",\"ENFP\",\"ENFP\",\"INTJ\",\"INTJ\",\"INFJ\",\"INTJ\",\"INTP\",\"ISFP\",\"ISFP\",\"ESTJ\",\"ISFJ\",\"INTP\",\"INFJ\",\"ENFP\",\"ENFJ\",\"INTJ\",\"INTP\",\"INTJ\",\"INTJ\",\"INTP\",\"ISTP\",\"INFJ\",\"ISTP\",\"ISTP\",\"INFJ\",\"INTJ\",\"ENTJ\",\"INFJ\",\"ENFP\",\"ENTP\",\"ENTP\",\"ESFP\",\"ENTP\",\"INTP\",\"INTJ\",\"INTP\",\"ENFP\",\"INFJ\",\"INTP\",\"ISTP\",\"INTJ\",\"ENFP\",\"ENTJ\",\"INFJ\",\"ISFP\",\"INFJ\",\"INTP\",\"INTP\",\"ENTP\",\"ENTP\",\"INTP\",\"INFJ\",\"INFJ\",\"ENFJ\",\"ENFP\",\"INTJ\",\"INTP\",\"ISTJ\",\"INTP\",\"INFP\",\"INTP\",\"INFP\",\"INFP\",\"INFJ\",\"INTJ\",\"ISFJ\",\"INTJ\",\"ENTP\",\"INTP\",\"INFJ\",\"INFJ\",\"INTP\",\"ISFP\",\"INTJ\",\"ENFJ\",\"INFJ\",\"INFJ\",\"INFP\",\"INFJ\",\"INFP\",\"ENFP\",\"INFP\",\"INTJ\",\"ESTP\",\"ISTP\",\"ESTP\",\"INFP\",\"ENTP\",\"INFP\",\"INFJ\",\"INTJ\",\"ENFP\",\"INFJ\",\"INFJ\",\"ENFP\",\"INFP\",\"INFP\",\"ENFP\",\"ESTJ\",\"INFJ\",\"ISTJ\",\"INTP\",\"ISFP\",\"ENFP\",\"INFP\",\"INTJ\",\"INFJ\",\"INFJ\",\"INFP\",\"INTJ\",\"INFJ\",\"ENTP\",\"INTP\",\"INFJ\",\"ISFP\",\"ISFJ\",\"INTJ\",\"INTJ\",\"INTP\",\"INTJ\",\"ENTP\",\"ENTJ\",\"ISTP\",\"ESTP\",\"INFJ\",\"ENTJ\",\"INFJ\",\"INTP\",\"INTJ\",\"ISFJ\",\"ENTP\",\"INFP\",\"INFP\",\"ENFP\",\"INTP\",\"ENFP\",\"INTJ\",\"INFP\",\"INFP\",\"INFJ\",\"ESTP\",\"INFP\",\"INTJ\",\"INFJ\",\"INTP\",\"INTP\",\"ENFJ\",\"ISFJ\",\"ISTP\",\"INFJ\",\"ISFP\",\"INTJ\",\"ENFP\",\"ISTJ\",\"ENTP\",\"INTP\",\"ESFJ\",\"INTP\",\"ENTJ\",\"ISFP\",\"INFJ\",\"ENFJ\",\"ENFP\",\"INTP\",\"ISTJ\",\"ISFJ\",\"INFP\",\"INFP\",\"INFJ\",\"INTP\",\"INFJ\",\"INFJ\",\"INFJ\",\"ENFP\",\"INFJ\",\"ESFP\",\"INTP\",\"INTP\",\"INFJ\",\"INFJ\",\"INTP\",\"INTJ\",\"INFJ\",\"ENFP\",\"ENFP\",\"INFP\",\"ISFJ\",\"INFJ\",\"ENTJ\",\"INFP\",\"INTP\",\"INTP\",\"ISFP\",\"ISTP\",\"INFP\",\"INTP\",\"ENTP\",\"ISFJ\",\"INTP\",\"INFP\",\"ENFJ\",\"INTP\",\"ENTP\",\"INFP\",\"ENFP\",\"INTP\",\"INFP\",\"INTP\",\"INFP\",\"INTJ\",\"ENFP\",\"INFJ\",\"ESFP\",\"INTP\",\"ENFJ\",\"INFP\",\"INFP\",\"INFJ\",\"ENTJ\",\"INTP\",\"INFP\",\"ISTP\",\"ESFP\",\"INTP\",\"INFP\",\"ENFJ\",\"ENFP\",\"ENFJ\",\"INFP\",\"INFP\",\"INFJ\",\"INFJ\",\"INFJ\",\"ENFP\",\"INFP\",\"INFP\",\"INFP\",\"ENFP\",\"ENTJ\",\"ISTJ\",\"INFJ\",\"ISFP\",\"INTP\",\"INTJ\",\"ISFJ\",\"INFJ\",\"ENFP\",\"INFP\",\"INFJ\",\"ESFJ\",\"ISFJ\",\"INTJ\",\"INTP\",\"INFP\",\"INFP\",\"ENTP\",\"ENFP\",\"INTJ\",\"ISTP\",\"ENTP\",\"INFJ\",\"ISFJ\",\"ENTP\",\"ISFP\",\"INFP\",\"INTP\",\"ISTP\",\"INTP\",\"INTJ\",\"ENFP\",\"INFP\",\"INFJ\",\"INFJ\",\"ENTJ\",\"INTP\",\"INFP\",\"INTP\",\"INFP\",\"INFP\",\"INFJ\",\"INFJ\",\"ENTJ\",\"ISFP\",\"INFP\",\"INTP\",\"INFP\",\"ENTP\",\"INTJ\",\"INTJ\",\"ENTP\",\"INFP\",\"ENTP\",\"INFP\",\"INFP\",\"ISFJ\",\"INFP\",\"INFJ\",\"INTP\",\"ENTP\",\"INFP\",\"INFP\",\"INFP\",\"INTP\",\"ISTP\",\"INTP\",\"INTJ\",\"INTP\",\"INFJ\",\"ISTP\",\"INTJ\",\"INFJ\",\"INFP\",\"ENFP\",\"INFJ\",\"INTP\",\"INTP\",\"INFJ\",\"INTJ\",\"ENFP\",\"INTJ\",\"INFJ\",\"INTJ\",\"ENTP\",\"INFP\",\"INFJ\",\"INTP\",\"ESTJ\",\"ISTP\",\"ENTP\",\"INTJ\",\"INTJ\",\"INFP\",\"INFP\",\"INTP\",\"INFP\",\"INFJ\",\"ENTP\",\"ENTJ\",\"INTJ\",\"ISFJ\",\"INFP\",\"INFP\",\"ENFP\",\"INFP\",\"ENFP\",\"INFP\",\"INTJ\",\"INTJ\",\"INFP\",\"ENFP\",\"INFJ\",\"ISTP\",\"INFP\",\"INFJ\",\"ISTP\",\"INTP\",\"INFJ\",\"INTJ\",\"INFP\",\"INTJ\",\"INFJ\",\"INTP\",\"ISFJ\",\"ENTP\",\"INFP\",\"INTP\",\"INTP\",\"INTJ\",\"ENTP\",\"INFJ\",\"INTJ\",\"INTP\",\"INTP\",\"ENFP\",\"ENTP\",\"ENFP\",\"ESFP\",\"ENFP\",\"INTP\",\"INTP\",\"INTJ\",\"INFJ\",\"ISTP\",\"ISFP\",\"INTP\",\"ENTP\",\"INTJ\",\"INFJ\",\"ENTJ\",\"ISTP\",\"INFP\",\"ENFJ\",\"ISTJ\",\"INTP\",\"INFP\",\"ISFP\",\"ISTJ\",\"INFJ\",\"INTJ\",\"ESTP\",\"ISFP\",\"ENTP\",\"INTP\",\"INTJ\",\"ENFJ\",\"ISFJ\",\"INFP\",\"INFJ\",\"INFJ\",\"INFJ\",\"INFP\",\"INTP\",\"ISFP\",\"ENFP\",\"INFJ\",\"INFP\",\"ENTJ\",\"INFP\",\"INFP\",\"INFP\",\"ISFJ\",\"INTJ\",\"ISTP\",\"ENFJ\",\"INTJ\",\"ENTJ\",\"INTP\",\"ISFJ\",\"INFP\",\"INFP\",\"INTP\",\"INFP\",\"INFJ\",\"INTP\",\"INTJ\",\"ENFP\",\"INTJ\",\"INFP\",\"INTJ\",\"INFJ\",\"INFJ\",\"ISTP\",\"INFP\",\"INFP\",\"INTJ\",\"INTP\",\"INFJ\",\"INFJ\",\"INTJ\",\"INTP\",\"ENTP\",\"ENTP\",\"ENFJ\",\"INFP\",\"INTP\",\"INTJ\",\"INTP\",\"INFJ\",\"ISFJ\",\"INFJ\",\"INFP\",\"INFJ\",\"INFP\",\"INTP\",\"INFP\",\"ISTJ\",\"ENTP\",\"INTP\",\"INFJ\",\"INFJ\",\"ISTJ\",\"ENTP\",\"ENFP\",\"ENFP\",\"INFJ\",\"INFP\",\"INFP\",\"INTJ\",\"ENFP\",\"ISTP\",\"ENTP\",\"INFP\",\"INFP\",\"INTJ\",\"ENTP\",\"ENFP\",\"ESTJ\",\"INTP\",\"ISFJ\",\"INFP\",\"ISTP\",\"INFP\",\"INTP\",\"INTP\",\"ENFP\",\"INFP\",\"INTP\",\"ENTP\",\"INTP\",\"ENFP\",\"INTP\",\"ISTP\",\"ISTP\",\"ENTP\",\"INFP\",\"ENTP\",\"ENFP\",\"ENTP\",\"INFJ\",\"INFJ\",\"INFJ\",\"INTP\",\"ENTJ\",\"INTJ\",\"INTP\",\"INFP\",\"INFP\",\"INTP\",\"ENTP\",\"INTJ\",\"INFJ\",\"ENTP\",\"ISFP\",\"INTJ\",\"INFP\",\"ENFP\",\"INFJ\",\"INFP\",\"INFJ\",\"INTP\",\"ISTJ\",\"INTP\",\"INTJ\",\"ENTJ\",\"INFJ\",\"INTJ\",\"INFP\",\"ESTP\",\"INTP\",\"ENFP\",\"INFJ\",\"INFJ\",\"ISTJ\",\"INTP\",\"INTP\",\"ENTP\",\"ISFJ\",\"ENTJ\",\"INFP\",\"INTP\",\"INTP\",\"INFJ\",\"ENFP\",\"ISFP\",\"INTJ\",\"INFP\",\"ENTP\",\"ESTP\",\"ENFP\",\"INTP\",\"INFJ\",\"ISFP\",\"INFP\",\"INTP\",\"INFP\",\"INFP\",\"ENFP\",\"INFP\",\"INFJ\",\"ENTP\",\"INTJ\",\"INFP\",\"ENFP\",\"INTP\",\"INFP\",\"ENFJ\",\"INFJ\",\"INTP\",\"ENTJ\",\"ISFP\",\"INTP\",\"ESTP\",\"INFP\",\"INTJ\",\"ESTJ\",\"ENTP\",\"INTJ\",\"INFJ\",\"INTP\",\"INFP\",\"ISTP\",\"INFJ\",\"INTP\",\"ENFP\",\"INTJ\",\"INTP\",\"INFJ\",\"INFJ\",\"INFP\",\"ENFP\",\"INTJ\",\"INTP\",\"INTP\",\"INFP\",\"INFP\",\"INFP\",\"INTP\",\"INTP\",\"INFJ\",\"INTP\",\"INTJ\",\"INFJ\",\"ENTP\",\"ISTJ\",\"ENTP\",\"ENFJ\",\"ENFJ\",\"INTJ\",\"ISTJ\",\"ESTP\",\"INFP\",\"INFJ\",\"INTJ\",\"ENTP\",\"ISTJ\",\"ISTJ\",\"INFP\",\"INFP\",\"ISTP\",\"INTJ\",\"INTJ\",\"ENFJ\",\"INFP\",\"INFP\",\"INTJ\",\"ENFP\",\"ENFP\",\"INTP\",\"INFJ\",\"INFJ\",\"INFJ\",\"ENFP\",\"ENTP\",\"INTJ\",\"INFJ\",\"INTJ\",\"ISFP\",\"INTP\",\"INTJ\",\"INTP\",\"ESFP\",\"INFP\",\"INTP\",\"INFJ\",\"ISTP\",\"INTJ\",\"ENFJ\",\"INFJ\",\"INTP\",\"INTJ\",\"INFP\",\"ENFP\",\"INTJ\",\"ENTP\",\"INFJ\",\"INFJ\",\"ENFP\",\"INFP\",\"INTJ\",\"INFP\",\"ENTJ\",\"INFJ\",\"INFP\",\"INTJ\",\"INTJ\",\"INFP\",\"ISTJ\",\"INFP\",\"INFP\",\"ISTP\",\"INTJ\",\"INFP\",\"ENTP\",\"INFP\",\"INFJ\",\"ISTP\",\"INTJ\",\"INTJ\",\"INTJ\",\"ENTJ\",\"INTP\",\"ENFP\",\"INFP\",\"INFJ\",\"ENFP\",\"INFJ\",\"INTJ\",\"ISTJ\",\"ENFP\",\"ENTJ\",\"INFJ\",\"ENTP\",\"INFJ\",\"ENFJ\",\"INFJ\",\"INTP\",\"INTP\",\"ISFP\",\"ISFJ\",\"INFJ\",\"INFJ\",\"INFP\",\"ENTP\",\"INTP\",\"INFJ\",\"INTP\",\"INFJ\",\"INFP\",\"INTJ\",\"INTP\",\"INFP\",\"INFP\",\"INFJ\",\"INTP\",\"INFP\",\"INFP\",\"INTP\",\"INFJ\",\"INTJ\",\"ISTJ\",\"ENTJ\",\"ENFP\",\"INTP\",\"INTJ\",\"INFJ\",\"ENTP\",\"INTP\",\"INFJ\",\"ISFP\",\"INTP\",\"ENFP\",\"ENTJ\",\"ENTP\",\"INFJ\",\"INFJ\",\"INFP\",\"INFP\",\"INFJ\",\"ESTP\",\"INFJ\",\"ISTP\",\"INFJ\",\"INFP\",\"INTP\",\"INFJ\",\"ENTP\",\"INFJ\",\"INTP\",\"INTJ\",\"ENFP\",\"INTJ\",\"INTP\",\"INTP\",\"INTP\",\"ENTP\",\"ENFP\",\"INFP\",\"INFJ\",\"INTP\",\"INFJ\",\"ENFP\",\"ENTJ\",\"INTJ\",\"INFJ\",\"ENTJ\",\"ENTJ\",\"INFJ\",\"ENFP\",\"INTP\",\"INFJ\",\"INTJ\",\"INFP\",\"ENTJ\",\"ISFP\",\"ISTJ\",\"ISTP\",\"INFJ\",\"INTP\",\"INFP\",\"ESTP\",\"INTJ\",\"ISTP\",\"INFJ\",\"INFJ\",\"INFJ\",\"INFP\",\"INFP\",\"INTP\",\"INFJ\",\"INTP\",\"INFP\",\"INTJ\",\"ISFJ\",\"INTP\",\"INFJ\",\"ENTJ\",\"INFP\",\"INTP\",\"INFP\",\"ISTJ\",\"INFP\",\"INTJ\",\"ISTJ\",\"ENTP\",\"INFJ\",\"ESTJ\",\"ENTJ\",\"ISTJ\",\"INTP\",\"ISTP\",\"INFP\",\"ENFP\",\"ENFJ\",\"INTP\",\"INFJ\",\"INTP\",\"ISFJ\",\"INFJ\",\"INFP\",\"ENFJ\",\"ENTJ\",\"INTJ\",\"ISFJ\",\"INTJ\",\"INFP\",\"INFJ\",\"ESTJ\",\"INFP\",\"INTP\",\"INFJ\",\"INTP\",\"ISTP\",\"INFP\",\"ENFP\",\"INTJ\",\"INTJ\",\"ENFP\",\"INFP\",\"INFJ\",\"ESTJ\",\"INTP\",\"INFP\",\"ENFP\",\"ENTP\",\"INFJ\",\"ENTP\",\"INFP\",\"INTP\",\"ISFJ\",\"ENFP\",\"ENTP\",\"INFJ\",\"ENFP\",\"INFJ\",\"INFP\",\"INFP\",\"ENTP\",\"INTP\",\"INTJ\",\"INTJ\",\"ENFP\",\"INTJ\",\"INFP\",\"INFP\",\"INTP\",\"INTP\",\"INFP\",\"ENFP\",\"INFP\",\"INFJ\",\"INFP\",\"INTJ\",\"INTP\",\"ENFP\",\"INFJ\",\"INTP\",\"ISTP\",\"INFP\",\"INFP\",\"ISFJ\",\"ENFP\",\"INTJ\",\"INFJ\",\"INTJ\",\"INFJ\",\"INFP\",\"INTP\",\"INTJ\",\"ENTP\",\"INFJ\",\"ENFP\",\"ISFP\",\"ISFP\",\"INTJ\",\"INTP\",\"INFP\",\"ENTJ\",\"INFJ\",\"INTJ\",\"ISTJ\",\"INFP\",\"ENFP\",\"INFJ\",\"ENFP\",\"ENFP\",\"INFP\",\"INTP\",\"ENTJ\",\"ENTP\",\"ENFP\",\"ISFP\",\"INFP\",\"ENTJ\",\"INFP\",\"INTJ\",\"INFJ\",\"INFJ\",\"INTJ\",\"ENFP\",\"INTJ\",\"INFP\",\"INFP\",\"INFJ\",\"INFP\",\"ISFP\",\"INTP\",\"INFP\",\"INTJ\",\"ISTJ\",\"INFJ\",\"ENTP\",\"ENFP\",\"ENTJ\",\"INFP\",\"INTP\",\"INFP\",\"INFJ\",\"INFJ\",\"INFP\",\"INFP\",\"INTP\",\"ENFP\",\"INTP\",\"INFP\",\"INFP\",\"INFP\",\"INFJ\",\"INTJ\",\"INFJ\",\"ISFP\",\"INFJ\",\"INFP\",\"INTP\",\"INTP\",\"INFP\",\"INTJ\",\"INFJ\",\"INTP\",\"ENFJ\",\"INTJ\",\"INFJ\",\"INTJ\",\"INTP\",\"INFJ\",\"INTJ\",\"INFP\",\"ESFJ\",\"INTJ\",\"ENFJ\",\"ENFP\",\"INFJ\",\"ENTP\",\"INTJ\",\"INTP\",\"INFJ\",\"ISTP\",\"INTJ\",\"INFP\",\"INFP\",\"INTP\",\"INFJ\",\"INTP\",\"INFJ\",\"ISFJ\",\"INFJ\",\"INTJ\",\"INTP\",\"INTJ\",\"INFP\",\"INTP\",\"INTP\",\"INFJ\",\"INFJ\",\"INFJ\",\"INTP\",\"INTP\",\"INFJ\",\"INFJ\",\"INTP\",\"ISFP\",\"INTP\",\"INFP\",\"ENFP\",\"INFP\",\"INFJ\",\"INFJ\",\"ENTJ\",\"INFJ\",\"INTP\",\"ENFP\",\"ENFP\",\"INTJ\",\"INTJ\",\"INTJ\",\"INFP\",\"INFP\",\"INFJ\",\"INTP\",\"ISTJ\",\"INFJ\",\"ENFP\",\"INFJ\",\"INFP\",\"ENFP\",\"ISFP\",\"ENFJ\",\"INFP\",\"ENTP\",\"ISTP\",\"INFJ\",\"INFJ\",\"INFJ\",\"INFJ\",\"INFP\",\"INFJ\",\"INTP\",\"ENTP\",\"INTJ\",\"INTJ\",\"ENFP\",\"INTP\",\"INTJ\",\"INFP\",\"INTP\",\"INFJ\",\"INFP\",\"ENTP\",\"INTJ\",\"ENTP\",\"INFP\",\"INFP\",\"INTP\",\"ENTP\",\"ENTP\",\"INFP\",\"INTJ\",\"INFJ\",\"INFP\",\"INFJ\",\"ISTP\",\"INFJ\",\"INFJ\",\"INTP\",\"INTP\",\"ISTP\",\"ISTJ\",\"ENFP\",\"INTJ\",\"INFJ\",\"ENFP\",\"ENTP\",\"INFP\",\"INTJ\",\"INFJ\",\"INTJ\",\"INTJ\",\"ENFP\",\"INFJ\",\"INTJ\",\"ENFP\",\"INTP\",\"INFP\",\"INFP\",\"ENFJ\",\"INFP\",\"INFP\",\"INTP\",\"INTP\",\"ENTJ\",\"INTP\",\"ISFJ\",\"INTJ\",\"ENFJ\",\"INFP\",\"INFJ\",\"INTP\",\"INTP\",\"INFP\",\"INTP\",\"INFJ\",\"INTJ\",\"INFJ\",\"INFJ\",\"ENTP\",\"INTP\",\"ENFP\",\"ENTJ\",\"ENFP\",\"INFP\",\"ISFP\",\"ENFJ\",\"INTJ\",\"ENFP\",\"INFP\",\"INFJ\",\"INFP\",\"INTJ\",\"ISTJ\",\"ENFP\",\"INFJ\",\"ENTP\",\"INTP\",\"INTJ\",\"ESTP\",\"ENTP\",\"ISTJ\",\"INFJ\",\"INTP\",\"INTP\",\"INTP\",\"ENTP\",\"ISTP\",\"INFJ\",\"INTP\",\"ISTP\",\"ISTP\",\"ISTP\",\"ISTP\",\"INFJ\",\"INTJ\",\"ENTJ\",\"INTP\",\"INTP\",\"ENTP\",\"ISTP\",\"ENTP\",\"INFJ\",\"INFP\",\"INFJ\",\"ENFP\",\"ENFP\",\"INFP\",\"ENTP\",\"INFJ\",\"INFP\",\"ENFP\",\"ENTP\",\"INFJ\",\"INFP\",\"INFJ\",\"ISTP\",\"INTP\",\"ISTP\",\"INFP\",\"INFJ\",\"INFJ\",\"INFP\",\"INFP\",\"INFP\",\"INFP\",\"INFP\",\"INFP\",\"INFP\",\"ESTP\",\"INFJ\",\"INFP\",\"ENTP\",\"ENFP\",\"INFP\",\"ISTJ\",\"ENTP\",\"INFP\",\"INFP\",\"INFP\",\"INTJ\",\"INTJ\",\"INTP\",\"ISFP\",\"INTP\",\"INTP\",\"INTP\",\"INFJ\",\"INFP\",\"INTJ\",\"ESTJ\",\"INFJ\",\"ENTP\",\"INFJ\",\"INFP\",\"INTJ\",\"INFJ\",\"INFP\",\"INFP\",\"ENFP\",\"INFJ\",\"INTP\",\"ISFP\",\"INFP\",\"ISTJ\",\"ISTP\",\"ENFP\",\"INFP\",\"INTP\",\"ISFP\",\"ISFP\",\"INTP\",\"ENTP\",\"ENFJ\",\"INFJ\",\"ENTP\",\"ISFP\",\"INFP\",\"INFP\",\"INFP\",\"ENTJ\",\"INFP\",\"INTP\",\"INTP\",\"ENFP\",\"INFP\",\"INFP\",\"ISFP\",\"INFP\",\"INFP\",\"ENTP\",\"INFJ\",\"INTJ\",\"INTJ\",\"ENFJ\",\"INFJ\",\"INTJ\",\"ENTP\",\"ESFJ\",\"INTP\",\"INFP\",\"INFJ\",\"ENTP\",\"INTJ\",\"INTP\",\"INFP\",\"INFP\",\"ENTP\",\"ISTP\",\"ENTJ\",\"ENTP\",\"ISTP\",\"INFP\",\"INFP\",\"INTJ\",\"INTJ\",\"INTP\",\"ENFJ\",\"ESFP\",\"ENTJ\",\"INFP\",\"ENFP\",\"ISFJ\",\"ENTP\",\"ENFP\",\"ENFP\",\"ENTP\",\"INTP\",\"INFP\",\"INFJ\",\"INFP\",\"ISTP\",\"ISFP\",\"INFP\",\"ENTP\",\"INFJ\",\"INFJ\",\"ENFP\",\"ESFJ\",\"INTJ\",\"INTP\",\"ENTJ\",\"INFP\",\"INFJ\",\"INFJ\",\"INFP\",\"ENFP\",\"ISTJ\",\"INFJ\",\"INFJ\",\"ISFJ\",\"INTJ\",\"INFP\",\"INFP\",\"INFP\",\"ISFP\",\"INTJ\",\"INTP\",\"INFP\",\"INTP\",\"INTJ\",\"INFP\",\"ESTP\",\"INFP\",\"INTJ\",\"INTJ\",\"INTP\",\"INTP\",\"INTP\",\"INFJ\",\"INFP\",\"ISFP\",\"INFP\",\"ENTP\",\"INFJ\",\"ENTP\",\"INFJ\",\"INFP\",\"ISTJ\",\"INTP\",\"INTP\",\"ENFP\",\"INTP\",\"INTP\",\"ENTP\",\"ENFP\",\"ENFP\",\"INFP\",\"ISTP\",\"INFP\",\"INFP\",\"INTP\",\"INTP\",\"INTJ\",\"ENFP\",\"INFJ\",\"INTJ\",\"INFP\",\"INTP\",\"INTJ\",\"INFJ\",\"INTJ\",\"INTP\",\"INTP\",\"ENTP\",\"ENFP\",\"INTJ\",\"INFJ\",\"INTJ\",\"ENTJ\",\"INTJ\",\"ISTP\",\"INFP\",\"ISFJ\",\"ISFP\",\"ISTJ\",\"INTJ\",\"INFP\",\"INTP\",\"INFJ\",\"INFP\",\"INTJ\",\"INTJ\",\"INFP\",\"INFJ\",\"ISTP\",\"ENFP\",\"INFJ\",\"ENFP\",\"ENTP\",\"INTP\",\"INFP\",\"INFP\",\"ISTP\",\"INFJ\",\"INTJ\",\"ENFJ\",\"INTP\",\"INFP\",\"ENFJ\",\"INTP\",\"INTP\",\"INTP\",\"INFJ\",\"INTJ\",\"INFP\",\"INFP\",\"ISTP\",\"ENFP\",\"INTP\",\"INTP\",\"INTP\",\"ISTJ\",\"INTJ\",\"INTJ\",\"INFP\",\"INFP\",\"INFJ\",\"INTP\",\"INFP\",\"INFJ\",\"ISFJ\",\"INFP\",\"INTP\",\"INTJ\",\"ENTP\",\"INTP\",\"ENTP\",\"INTJ\",\"INTJ\",\"INFJ\",\"INTP\",\"INTP\",\"ENTP\",\"ISFP\",\"ISTP\",\"INFP\",\"ISTJ\",\"ENFP\",\"ENFP\",\"ISFP\",\"INTP\",\"ENFP\",\"INFJ\",\"INFP\",\"ENTP\",\"INTP\",\"ENTP\",\"ENFP\",\"ISTJ\",\"INTP\",\"ENTP\",\"INFJ\",\"INFP\",\"ENFP\",\"INFP\",\"INFP\",\"INTJ\",\"ENFP\",\"ENTJ\",\"ENFP\",\"INFP\",\"ISFP\",\"INTP\",\"ENTJ\",\"INTP\",\"INTJ\",\"INFP\",\"ISFP\",\"ENFP\",\"ENTJ\",\"INTP\",\"ENFP\",\"INTP\",\"ISFJ\",\"INFP\",\"INFJ\",\"INTP\",\"INTJ\",\"ENFP\",\"ISTP\",\"INTP\",\"ISFP\",\"INFP\",\"ISTJ\",\"ENTP\",\"INFP\",\"INFJ\",\"INFP\",\"INTJ\",\"INFP\",\"ENTP\",\"INTP\",\"INFP\",\"INFJ\",\"ENTP\",\"INFJ\",\"INFJ\",\"INFP\",\"INTP\",\"INFP\",\"INFP\",\"INFJ\",\"ISTP\",\"ISFJ\",\"INFP\",\"ISTJ\",\"INFJ\",\"INFJ\",\"INTJ\",\"ESFJ\",\"ENFP\",\"INFP\",\"ENTP\",\"INTJ\",\"INTP\",\"INTP\",\"ENTP\",\"INTJ\",\"ENTP\",\"INTJ\",\"INFJ\",\"ISFP\",\"ENFP\",\"INTP\",\"INFP\",\"INFP\"],\"legendgroup\":\"\",\"name\":\"\",\"showlegend\":true,\"type\":\"pie\"}],                        {\"template\":{\"data\":{\"bar\":[{\"error_x\":{\"color\":\"#2a3f5f\"},\"error_y\":{\"color\":\"#2a3f5f\"},\"marker\":{\"line\":{\"color\":\"#E5ECF6\",\"width\":0.5},\"pattern\":{\"fillmode\":\"overlay\",\"size\":10,\"solidity\":0.2}},\"type\":\"bar\"}],\"barpolar\":[{\"marker\":{\"line\":{\"color\":\"#E5ECF6\",\"width\":0.5},\"pattern\":{\"fillmode\":\"overlay\",\"size\":10,\"solidity\":0.2}},\"type\":\"barpolar\"}],\"carpet\":[{\"aaxis\":{\"endlinecolor\":\"#2a3f5f\",\"gridcolor\":\"white\",\"linecolor\":\"white\",\"minorgridcolor\":\"white\",\"startlinecolor\":\"#2a3f5f\"},\"baxis\":{\"endlinecolor\":\"#2a3f5f\",\"gridcolor\":\"white\",\"linecolor\":\"white\",\"minorgridcolor\":\"white\",\"startlinecolor\":\"#2a3f5f\"},\"type\":\"carpet\"}],\"choropleth\":[{\"colorbar\":{\"outlinewidth\":0,\"ticks\":\"\"},\"type\":\"choropleth\"}],\"contour\":[{\"colorbar\":{\"outlinewidth\":0,\"ticks\":\"\"},\"colorscale\":[[0.0,\"#0d0887\"],[0.1111111111111111,\"#46039f\"],[0.2222222222222222,\"#7201a8\"],[0.3333333333333333,\"#9c179e\"],[0.4444444444444444,\"#bd3786\"],[0.5555555555555556,\"#d8576b\"],[0.6666666666666666,\"#ed7953\"],[0.7777777777777778,\"#fb9f3a\"],[0.8888888888888888,\"#fdca26\"],[1.0,\"#f0f921\"]],\"type\":\"contour\"}],\"contourcarpet\":[{\"colorbar\":{\"outlinewidth\":0,\"ticks\":\"\"},\"type\":\"contourcarpet\"}],\"heatmap\":[{\"colorbar\":{\"outlinewidth\":0,\"ticks\":\"\"},\"colorscale\":[[0.0,\"#0d0887\"],[0.1111111111111111,\"#46039f\"],[0.2222222222222222,\"#7201a8\"],[0.3333333333333333,\"#9c179e\"],[0.4444444444444444,\"#bd3786\"],[0.5555555555555556,\"#d8576b\"],[0.6666666666666666,\"#ed7953\"],[0.7777777777777778,\"#fb9f3a\"],[0.8888888888888888,\"#fdca26\"],[1.0,\"#f0f921\"]],\"type\":\"heatmap\"}],\"heatmapgl\":[{\"colorbar\":{\"outlinewidth\":0,\"ticks\":\"\"},\"colorscale\":[[0.0,\"#0d0887\"],[0.1111111111111111,\"#46039f\"],[0.2222222222222222,\"#7201a8\"],[0.3333333333333333,\"#9c179e\"],[0.4444444444444444,\"#bd3786\"],[0.5555555555555556,\"#d8576b\"],[0.6666666666666666,\"#ed7953\"],[0.7777777777777778,\"#fb9f3a\"],[0.8888888888888888,\"#fdca26\"],[1.0,\"#f0f921\"]],\"type\":\"heatmapgl\"}],\"histogram\":[{\"marker\":{\"pattern\":{\"fillmode\":\"overlay\",\"size\":10,\"solidity\":0.2}},\"type\":\"histogram\"}],\"histogram2d\":[{\"colorbar\":{\"outlinewidth\":0,\"ticks\":\"\"},\"colorscale\":[[0.0,\"#0d0887\"],[0.1111111111111111,\"#46039f\"],[0.2222222222222222,\"#7201a8\"],[0.3333333333333333,\"#9c179e\"],[0.4444444444444444,\"#bd3786\"],[0.5555555555555556,\"#d8576b\"],[0.6666666666666666,\"#ed7953\"],[0.7777777777777778,\"#fb9f3a\"],[0.8888888888888888,\"#fdca26\"],[1.0,\"#f0f921\"]],\"type\":\"histogram2d\"}],\"histogram2dcontour\":[{\"colorbar\":{\"outlinewidth\":0,\"ticks\":\"\"},\"colorscale\":[[0.0,\"#0d0887\"],[0.1111111111111111,\"#46039f\"],[0.2222222222222222,\"#7201a8\"],[0.3333333333333333,\"#9c179e\"],[0.4444444444444444,\"#bd3786\"],[0.5555555555555556,\"#d8576b\"],[0.6666666666666666,\"#ed7953\"],[0.7777777777777778,\"#fb9f3a\"],[0.8888888888888888,\"#fdca26\"],[1.0,\"#f0f921\"]],\"type\":\"histogram2dcontour\"}],\"mesh3d\":[{\"colorbar\":{\"outlinewidth\":0,\"ticks\":\"\"},\"type\":\"mesh3d\"}],\"parcoords\":[{\"line\":{\"colorbar\":{\"outlinewidth\":0,\"ticks\":\"\"}},\"type\":\"parcoords\"}],\"pie\":[{\"automargin\":true,\"type\":\"pie\"}],\"scatter\":[{\"marker\":{\"colorbar\":{\"outlinewidth\":0,\"ticks\":\"\"}},\"type\":\"scatter\"}],\"scatter3d\":[{\"line\":{\"colorbar\":{\"outlinewidth\":0,\"ticks\":\"\"}},\"marker\":{\"colorbar\":{\"outlinewidth\":0,\"ticks\":\"\"}},\"type\":\"scatter3d\"}],\"scattercarpet\":[{\"marker\":{\"colorbar\":{\"outlinewidth\":0,\"ticks\":\"\"}},\"type\":\"scattercarpet\"}],\"scattergeo\":[{\"marker\":{\"colorbar\":{\"outlinewidth\":0,\"ticks\":\"\"}},\"type\":\"scattergeo\"}],\"scattergl\":[{\"marker\":{\"colorbar\":{\"outlinewidth\":0,\"ticks\":\"\"}},\"type\":\"scattergl\"}],\"scattermapbox\":[{\"marker\":{\"colorbar\":{\"outlinewidth\":0,\"ticks\":\"\"}},\"type\":\"scattermapbox\"}],\"scatterpolar\":[{\"marker\":{\"colorbar\":{\"outlinewidth\":0,\"ticks\":\"\"}},\"type\":\"scatterpolar\"}],\"scatterpolargl\":[{\"marker\":{\"colorbar\":{\"outlinewidth\":0,\"ticks\":\"\"}},\"type\":\"scatterpolargl\"}],\"scatterternary\":[{\"marker\":{\"colorbar\":{\"outlinewidth\":0,\"ticks\":\"\"}},\"type\":\"scatterternary\"}],\"surface\":[{\"colorbar\":{\"outlinewidth\":0,\"ticks\":\"\"},\"colorscale\":[[0.0,\"#0d0887\"],[0.1111111111111111,\"#46039f\"],[0.2222222222222222,\"#7201a8\"],[0.3333333333333333,\"#9c179e\"],[0.4444444444444444,\"#bd3786\"],[0.5555555555555556,\"#d8576b\"],[0.6666666666666666,\"#ed7953\"],[0.7777777777777778,\"#fb9f3a\"],[0.8888888888888888,\"#fdca26\"],[1.0,\"#f0f921\"]],\"type\":\"surface\"}],\"table\":[{\"cells\":{\"fill\":{\"color\":\"#EBF0F8\"},\"line\":{\"color\":\"white\"}},\"header\":{\"fill\":{\"color\":\"#C8D4E3\"},\"line\":{\"color\":\"white\"}},\"type\":\"table\"}]},\"layout\":{\"annotationdefaults\":{\"arrowcolor\":\"#2a3f5f\",\"arrowhead\":0,\"arrowwidth\":1},\"autotypenumbers\":\"strict\",\"coloraxis\":{\"colorbar\":{\"outlinewidth\":0,\"ticks\":\"\"}},\"colorscale\":{\"diverging\":[[0,\"#8e0152\"],[0.1,\"#c51b7d\"],[0.2,\"#de77ae\"],[0.3,\"#f1b6da\"],[0.4,\"#fde0ef\"],[0.5,\"#f7f7f7\"],[0.6,\"#e6f5d0\"],[0.7,\"#b8e186\"],[0.8,\"#7fbc41\"],[0.9,\"#4d9221\"],[1,\"#276419\"]],\"sequential\":[[0.0,\"#0d0887\"],[0.1111111111111111,\"#46039f\"],[0.2222222222222222,\"#7201a8\"],[0.3333333333333333,\"#9c179e\"],[0.4444444444444444,\"#bd3786\"],[0.5555555555555556,\"#d8576b\"],[0.6666666666666666,\"#ed7953\"],[0.7777777777777778,\"#fb9f3a\"],[0.8888888888888888,\"#fdca26\"],[1.0,\"#f0f921\"]],\"sequentialminus\":[[0.0,\"#0d0887\"],[0.1111111111111111,\"#46039f\"],[0.2222222222222222,\"#7201a8\"],[0.3333333333333333,\"#9c179e\"],[0.4444444444444444,\"#bd3786\"],[0.5555555555555556,\"#d8576b\"],[0.6666666666666666,\"#ed7953\"],[0.7777777777777778,\"#fb9f3a\"],[0.8888888888888888,\"#fdca26\"],[1.0,\"#f0f921\"]]},\"colorway\":[\"#636efa\",\"#EF553B\",\"#00cc96\",\"#ab63fa\",\"#FFA15A\",\"#19d3f3\",\"#FF6692\",\"#B6E880\",\"#FF97FF\",\"#FECB52\"],\"font\":{\"color\":\"#2a3f5f\"},\"geo\":{\"bgcolor\":\"white\",\"lakecolor\":\"white\",\"landcolor\":\"#E5ECF6\",\"showlakes\":true,\"showland\":true,\"subunitcolor\":\"white\"},\"hoverlabel\":{\"align\":\"left\"},\"hovermode\":\"closest\",\"mapbox\":{\"style\":\"light\"},\"paper_bgcolor\":\"white\",\"plot_bgcolor\":\"#E5ECF6\",\"polar\":{\"angularaxis\":{\"gridcolor\":\"white\",\"linecolor\":\"white\",\"ticks\":\"\"},\"bgcolor\":\"#E5ECF6\",\"radialaxis\":{\"gridcolor\":\"white\",\"linecolor\":\"white\",\"ticks\":\"\"}},\"scene\":{\"xaxis\":{\"backgroundcolor\":\"#E5ECF6\",\"gridcolor\":\"white\",\"gridwidth\":2,\"linecolor\":\"white\",\"showbackground\":true,\"ticks\":\"\",\"zerolinecolor\":\"white\"},\"yaxis\":{\"backgroundcolor\":\"#E5ECF6\",\"gridcolor\":\"white\",\"gridwidth\":2,\"linecolor\":\"white\",\"showbackground\":true,\"ticks\":\"\",\"zerolinecolor\":\"white\"},\"zaxis\":{\"backgroundcolor\":\"#E5ECF6\",\"gridcolor\":\"white\",\"gridwidth\":2,\"linecolor\":\"white\",\"showbackground\":true,\"ticks\":\"\",\"zerolinecolor\":\"white\"}},\"shapedefaults\":{\"line\":{\"color\":\"#2a3f5f\"}},\"ternary\":{\"aaxis\":{\"gridcolor\":\"white\",\"linecolor\":\"white\",\"ticks\":\"\"},\"baxis\":{\"gridcolor\":\"white\",\"linecolor\":\"white\",\"ticks\":\"\"},\"bgcolor\":\"#E5ECF6\",\"caxis\":{\"gridcolor\":\"white\",\"linecolor\":\"white\",\"ticks\":\"\"}},\"title\":{\"x\":0.05},\"xaxis\":{\"automargin\":true,\"gridcolor\":\"white\",\"linecolor\":\"white\",\"ticks\":\"\",\"title\":{\"standoff\":15},\"zerolinecolor\":\"white\",\"zerolinewidth\":2},\"yaxis\":{\"automargin\":true,\"gridcolor\":\"white\",\"linecolor\":\"white\",\"ticks\":\"\",\"title\":{\"standoff\":15},\"zerolinecolor\":\"white\",\"zerolinewidth\":2}}},\"legend\":{\"tracegroupgap\":0},\"title\":{\"text\":\"Distribution of personality types\"}},                        {\"responsive\": true}                    ).then(function(){\n",
              "                            \n",
              "var gd = document.getElementById('27b40a2c-2a19-4aab-98fe-0a46de4d89e0');\n",
              "var x = new MutationObserver(function (mutations, observer) {{\n",
              "        var display = window.getComputedStyle(gd).display;\n",
              "        if (!display || display === 'none') {{\n",
              "            console.log([gd, 'removed!']);\n",
              "            Plotly.purge(gd);\n",
              "            observer.disconnect();\n",
              "        }}\n",
              "}});\n",
              "\n",
              "// Listen for the removal of the full notebook cells\n",
              "var notebookContainer = gd.closest('#notebook-container');\n",
              "if (notebookContainer) {{\n",
              "    x.observe(notebookContainer, {childList: true});\n",
              "}}\n",
              "\n",
              "// Listen for the clearing of the current output cell\n",
              "var outputEl = gd.closest('.output');\n",
              "if (outputEl) {{\n",
              "    x.observe(outputEl, {childList: true});\n",
              "}}\n",
              "\n",
              "                        })                };                            </script>        </div>\n",
              "</body>\n",
              "</html>"
            ]
          },
          "metadata": {}
        }
      ]
    },
    {
      "cell_type": "markdown",
      "source": [
        "Data is `extremely imbalanced`. This might cause overfitting to happen since the total data only amounts to 8675.\n",
        "\n"
      ],
      "metadata": {
        "id": "Xp1G-jt-Unnm"
      }
    },
    {
      "cell_type": "code",
      "source": [
        "df['type'].value_counts()"
      ],
      "metadata": {
        "colab": {
          "base_uri": "https://localhost:8080/"
        },
        "id": "oAQ5GI5yUDr5",
        "outputId": "942ae7b0-1210-45a2-9e6a-8db9c0b59310"
      },
      "execution_count": 11,
      "outputs": [
        {
          "output_type": "execute_result",
          "data": {
            "text/plain": [
              "INFP    1832\n",
              "INFJ    1470\n",
              "INTP    1304\n",
              "INTJ    1091\n",
              "ENTP     685\n",
              "ENFP     675\n",
              "ISTP     337\n",
              "ISFP     271\n",
              "ENTJ     231\n",
              "ISTJ     205\n",
              "ENFJ     190\n",
              "ISFJ     166\n",
              "ESTP      89\n",
              "ESFP      48\n",
              "ESFJ      42\n",
              "ESTJ      39\n",
              "Name: type, dtype: int64"
            ]
          },
          "metadata": {},
          "execution_count": 11
        }
      ]
    },
    {
      "cell_type": "markdown",
      "source": [
        "### Cleaning Dataset"
      ],
      "metadata": {
        "id": "xnoIsAnxU-m4"
      }
    },
    {
      "cell_type": "code",
      "source": [
        "nlp = spacy.load(\"en\", parser=False, entity=False)"
      ],
      "metadata": {
        "id": "I7jeE2qiVB0U"
      },
      "execution_count": 15,
      "outputs": []
    },
    {
      "cell_type": "code",
      "source": [
        "doc = nlp(\"a... ok\")"
      ],
      "metadata": {
        "id": "rGPro32vWZ5f"
      },
      "execution_count": 18,
      "outputs": []
    },
    {
      "cell_type": "code",
      "source": [
        "for w in doc:\n",
        "  print(w.lemma_, w.is_stop)"
      ],
      "metadata": {
        "colab": {
          "base_uri": "https://localhost:8080/"
        },
        "id": "abevdamoWdGN",
        "outputId": "80c7330d-790c-4b5c-a11d-62a82eab1023"
      },
      "execution_count": 21,
      "outputs": [
        {
          "output_type": "stream",
          "name": "stdout",
          "text": [
            "a True\n",
            "... False\n",
            "ok False\n"
          ]
        }
      ]
    },
    {
      "cell_type": "code",
      "source": [
        "def clean_text(text):\n",
        "\n",
        "  #removing links from text data\n",
        "  text = re.sub('https?://[^\\s<>\"]+|www\\.[^\\s<>\"]+',' ',text)\n",
        "\n",
        "  #removing other symbols\n",
        "  text = re.sub('[^0-9a-z]',' ',text)\n",
        "\n",
        "  text = re.sub(\"\\s+\", \" \", text)\n",
        "  \n",
        "  return text"
      ],
      "metadata": {
        "id": "9g1nAAsdUwsX"
      },
      "execution_count": 22,
      "outputs": []
    },
    {
      "cell_type": "code",
      "source": [
        "df[\"cleaned\"] = df[\"posts\"].apply(clean_text)"
      ],
      "metadata": {
        "id": "WLdVzktNYy-v"
      },
      "execution_count": 23,
      "outputs": []
    },
    {
      "cell_type": "markdown",
      "source": [
        "### Splitting Data into Train/Test/Split"
      ],
      "metadata": {
        "id": "gv6TgR51Y8J4"
      }
    },
    {
      "cell_type": "code",
      "source": [
        "le = LabelEncoder()\n",
        "df[\"type\"] = le.fit_transform(df[\"type\"])"
      ],
      "metadata": {
        "id": "ElSBo10euQ8z"
      },
      "execution_count": 76,
      "outputs": []
    },
    {
      "cell_type": "code",
      "source": [
        "from sklearn.model_selection import train_test_split\n",
        "\n",
        "posts = df['cleaned'].values\n",
        "labels =  df['type'].values\n",
        "\n",
        "train_data, test_data = train_test_split(df, random_state=0, test_size=0.2)\n",
        "\n",
        "train_size = len(train_data)\n",
        "test_size = len(test_data)\n",
        "train_size, test_size"
      ],
      "metadata": {
        "colab": {
          "base_uri": "https://localhost:8080/"
        },
        "id": "o4vlGkXCY3rC",
        "outputId": "24525774-bc41-4142-a0f3-3a93c738e556"
      },
      "execution_count": 77,
      "outputs": [
        {
          "output_type": "execute_result",
          "data": {
            "text/plain": [
              "(6940, 1735)"
            ]
          },
          "metadata": {},
          "execution_count": 77
        }
      ]
    },
    {
      "cell_type": "code",
      "source": [
        "len(\"oo \".split()) "
      ],
      "metadata": {
        "colab": {
          "base_uri": "https://localhost:8080/"
        },
        "id": "XkGAsVBBbHyG",
        "outputId": "69b67e12-c246-4ebb-d165-3d448cf01bc0"
      },
      "execution_count": 32,
      "outputs": [
        {
          "output_type": "execute_result",
          "data": {
            "text/plain": [
              "1"
            ]
          },
          "metadata": {},
          "execution_count": 32
        }
      ]
    },
    {
      "cell_type": "markdown",
      "source": [
        "### Checking MAX LENGTH for BERT Tokenizer"
      ],
      "metadata": {
        "id": "1-SpjzIMaI_9"
      }
    },
    {
      "cell_type": "code",
      "source": [
        "df[\"length\"] = df[\"cleaned\"].apply(lambda x: len(x.split()))"
      ],
      "metadata": {
        "id": "KTkjYTUOaOlw"
      },
      "execution_count": 33,
      "outputs": []
    },
    {
      "cell_type": "code",
      "source": [
        "df[\"length\"]"
      ],
      "metadata": {
        "colab": {
          "base_uri": "https://localhost:8080/"
        },
        "id": "0DpQoLiFbAZR",
        "outputId": "27a7cd37-48fc-4033-82fa-9afd5e456ee5"
      },
      "execution_count": 34,
      "outputs": [
        {
          "output_type": "execute_result",
          "data": {
            "text/plain": [
              "0        573\n",
              "1       1139\n",
              "2        855\n",
              "3       1073\n",
              "4        991\n",
              "        ... \n",
              "8670     821\n",
              "8671    1305\n",
              "8672     971\n",
              "8673    1656\n",
              "8674    1309\n",
              "Name: length, Length: 8675, dtype: int64"
            ]
          },
          "metadata": {},
          "execution_count": 34
        }
      ]
    },
    {
      "cell_type": "code",
      "source": [
        "px.box(df[\"length\"])"
      ],
      "metadata": {
        "colab": {
          "base_uri": "https://localhost:8080/",
          "height": 542
        },
        "id": "KhN3ltIFbh6q",
        "outputId": "02ef1df0-9366-44ae-b869-16637db7ab06"
      },
      "execution_count": 36,
      "outputs": [
        {
          "output_type": "display_data",
          "data": {
            "text/html": [
              "<html>\n",
              "<head><meta charset=\"utf-8\" /></head>\n",
              "<body>\n",
              "    <div>            <script src=\"https://cdnjs.cloudflare.com/ajax/libs/mathjax/2.7.5/MathJax.js?config=TeX-AMS-MML_SVG\"></script><script type=\"text/javascript\">if (window.MathJax) {MathJax.Hub.Config({SVG: {font: \"STIX-Web\"}});}</script>                <script type=\"text/javascript\">window.PlotlyConfig = {MathJaxConfig: 'local'};</script>\n",
              "        <script src=\"https://cdn.plot.ly/plotly-2.8.3.min.js\"></script>                <div id=\"50905c4f-53ab-421e-9bbf-39b1fb765c36\" class=\"plotly-graph-div\" style=\"height:525px; width:100%;\"></div>            <script type=\"text/javascript\">                                    window.PLOTLYENV=window.PLOTLYENV || {};                                    if (document.getElementById(\"50905c4f-53ab-421e-9bbf-39b1fb765c36\")) {                    Plotly.newPlot(                        \"50905c4f-53ab-421e-9bbf-39b1fb765c36\",                        [{\"alignmentgroup\":\"True\",\"hovertemplate\":\"variable=%{x}<br>value=%{y}<extra></extra>\",\"legendgroup\":\"\",\"marker\":{\"color\":\"#636efa\"},\"name\":\"\",\"notched\":false,\"offsetgroup\":\"\",\"orientation\":\"v\",\"showlegend\":false,\"x\":[\"length\",\"length\",\"length\",\"length\",\"length\",\"length\",\"length\",\"length\",\"length\",\"length\",\"length\",\"length\",\"length\",\"length\",\"length\",\"length\",\"length\",\"length\",\"length\",\"length\",\"length\",\"length\",\"length\",\"length\",\"length\",\"length\",\"length\",\"length\",\"length\",\"length\",\"length\",\"length\",\"length\",\"length\",\"length\",\"length\",\"length\",\"length\",\"length\",\"length\",\"length\",\"length\",\"length\",\"length\",\"length\",\"length\",\"length\",\"length\",\"length\",\"length\",\"length\",\"length\",\"length\",\"length\",\"length\",\"length\",\"length\",\"length\",\"length\",\"length\",\"length\",\"length\",\"length\",\"length\",\"length\",\"length\",\"length\",\"length\",\"length\",\"length\",\"length\",\"length\",\"length\",\"length\",\"length\",\"length\",\"length\",\"length\",\"length\",\"length\",\"length\",\"length\",\"length\",\"length\",\"length\",\"length\",\"length\",\"length\",\"length\",\"length\",\"length\",\"length\",\"length\",\"length\",\"length\",\"length\",\"length\",\"length\",\"length\",\"length\",\"length\",\"length\",\"length\",\"length\",\"length\",\"length\",\"length\",\"length\",\"length\",\"length\",\"length\",\"length\",\"length\",\"length\",\"length\",\"length\",\"length\",\"length\",\"length\",\"length\",\"length\",\"length\",\"length\",\"length\",\"length\",\"length\",\"length\",\"length\",\"length\",\"length\",\"length\",\"length\",\"length\",\"length\",\"length\",\"length\",\"length\",\"length\",\"length\",\"length\",\"length\",\"length\",\"length\",\"length\",\"length\",\"length\",\"length\",\"length\",\"length\",\"length\",\"length\",\"length\",\"length\",\"length\",\"length\",\"length\",\"length\",\"length\",\"length\",\"length\",\"length\",\"length\",\"length\",\"length\",\"length\",\"length\",\"length\",\"length\",\"length\",\"length\",\"length\",\"length\",\"length\",\"length\",\"length\",\"length\",\"length\",\"length\",\"length\",\"length\",\"length\",\"length\",\"length\",\"length\",\"length\",\"length\",\"length\",\"length\",\"length\",\"length\",\"length\",\"length\",\"length\",\"length\",\"length\",\"length\",\"length\",\"length\",\"length\",\"length\",\"length\",\"length\",\"length\",\"length\",\"length\",\"length\",\"length\",\"length\",\"length\",\"length\",\"length\",\"length\",\"length\",\"length\",\"length\",\"length\",\"length\",\"length\",\"length\",\"length\",\"length\",\"length\",\"length\",\"length\",\"length\",\"length\",\"length\",\"length\",\"length\",\"length\",\"length\",\"length\",\"length\",\"length\",\"length\",\"length\",\"length\",\"length\",\"length\",\"length\",\"length\",\"length\",\"length\",\"length\",\"length\",\"length\",\"length\",\"length\",\"length\",\"length\",\"length\",\"length\",\"length\",\"length\",\"length\",\"length\",\"length\",\"length\",\"length\",\"length\",\"length\",\"length\",\"length\",\"length\",\"length\",\"length\",\"length\",\"length\",\"length\",\"length\",\"length\",\"length\",\"length\",\"length\",\"length\",\"length\",\"length\",\"length\",\"length\",\"length\",\"length\",\"length\",\"length\",\"length\",\"length\",\"length\",\"length\",\"length\",\"length\",\"length\",\"length\",\"length\",\"length\",\"length\",\"length\",\"length\",\"length\",\"length\",\"length\",\"length\",\"length\",\"length\",\"length\",\"length\",\"length\",\"length\",\"length\",\"length\",\"length\",\"length\",\"length\",\"length\",\"length\",\"length\",\"length\",\"length\",\"length\",\"length\",\"length\",\"length\",\"length\",\"length\",\"length\",\"length\",\"length\",\"length\",\"length\",\"length\",\"length\",\"length\",\"length\",\"length\",\"length\",\"length\",\"length\",\"length\",\"length\",\"length\",\"length\",\"length\",\"length\",\"length\",\"length\",\"length\",\"length\",\"length\",\"length\",\"length\",\"length\",\"length\",\"length\",\"length\",\"length\",\"length\",\"length\",\"length\",\"length\",\"length\",\"length\",\"length\",\"length\",\"length\",\"length\",\"length\",\"length\",\"length\",\"length\",\"length\",\"length\",\"length\",\"length\",\"length\",\"length\",\"length\",\"length\",\"length\",\"length\",\"length\",\"length\",\"length\",\"length\",\"length\",\"length\",\"length\",\"length\",\"length\",\"length\",\"length\",\"length\",\"length\",\"length\",\"length\",\"length\",\"length\",\"length\",\"length\",\"length\",\"length\",\"length\",\"length\",\"length\",\"length\",\"length\",\"length\",\"length\",\"length\",\"length\",\"length\",\"length\",\"length\",\"length\",\"length\",\"length\",\"length\",\"length\",\"length\",\"length\",\"length\",\"length\",\"length\",\"length\",\"length\",\"length\",\"length\",\"length\",\"length\",\"length\",\"length\",\"length\",\"length\",\"length\",\"length\",\"length\",\"length\",\"length\",\"length\",\"length\",\"length\",\"length\",\"length\",\"length\",\"length\",\"length\",\"length\",\"length\",\"length\",\"length\",\"length\",\"length\",\"length\",\"length\",\"length\",\"length\",\"length\",\"length\",\"length\",\"length\",\"length\",\"length\",\"length\",\"length\",\"length\",\"length\",\"length\",\"length\",\"length\",\"length\",\"length\",\"length\",\"length\",\"length\",\"length\",\"length\",\"length\",\"length\",\"length\",\"length\",\"length\",\"length\",\"length\",\"length\",\"length\",\"length\",\"length\",\"length\",\"length\",\"length\",\"length\",\"length\",\"length\",\"length\",\"length\",\"length\",\"length\",\"length\",\"length\",\"length\",\"length\",\"length\",\"length\",\"length\",\"length\",\"length\",\"length\",\"length\",\"length\",\"length\",\"length\",\"length\",\"length\",\"length\",\"length\",\"length\",\"length\",\"length\",\"length\",\"length\",\"length\",\"length\",\"length\",\"length\",\"length\",\"length\",\"length\",\"length\",\"length\",\"length\",\"length\",\"length\",\"length\",\"length\",\"length\",\"length\",\"length\",\"length\",\"length\",\"length\",\"length\",\"length\",\"length\",\"length\",\"length\",\"length\",\"length\",\"length\",\"length\",\"length\",\"length\",\"length\",\"length\",\"length\",\"length\",\"length\",\"length\",\"length\",\"length\",\"length\",\"length\",\"length\",\"length\",\"length\",\"length\",\"length\",\"length\",\"length\",\"length\",\"length\",\"length\",\"length\",\"length\",\"length\",\"length\",\"length\",\"length\",\"length\",\"length\",\"length\",\"length\",\"length\",\"length\",\"length\",\"length\",\"length\",\"length\",\"length\",\"length\",\"length\",\"length\",\"length\",\"length\",\"length\",\"length\",\"length\",\"length\",\"length\",\"length\",\"length\",\"length\",\"length\",\"length\",\"length\",\"length\",\"length\",\"length\",\"length\",\"length\",\"length\",\"length\",\"length\",\"length\",\"length\",\"length\",\"length\",\"length\",\"length\",\"length\",\"length\",\"length\",\"length\",\"length\",\"length\",\"length\",\"length\",\"length\",\"length\",\"length\",\"length\",\"length\",\"length\",\"length\",\"length\",\"length\",\"length\",\"length\",\"length\",\"length\",\"length\",\"length\",\"length\",\"length\",\"length\",\"length\",\"length\",\"length\",\"length\",\"length\",\"length\",\"length\",\"length\",\"length\",\"length\",\"length\",\"length\",\"length\",\"length\",\"length\",\"length\",\"length\",\"length\",\"length\",\"length\",\"length\",\"length\",\"length\",\"length\",\"length\",\"length\",\"length\",\"length\",\"length\",\"length\",\"length\",\"length\",\"length\",\"length\",\"length\",\"length\",\"length\",\"length\",\"length\",\"length\",\"length\",\"length\",\"length\",\"length\",\"length\",\"length\",\"length\",\"length\",\"length\",\"length\",\"length\",\"length\",\"length\",\"length\",\"length\",\"length\",\"length\",\"length\",\"length\",\"length\",\"length\",\"length\",\"length\",\"length\",\"length\",\"length\",\"length\",\"length\",\"length\",\"length\",\"length\",\"length\",\"length\",\"length\",\"length\",\"length\",\"length\",\"length\",\"length\",\"length\",\"length\",\"length\",\"length\",\"length\",\"length\",\"length\",\"length\",\"length\",\"length\",\"length\",\"length\",\"length\",\"length\",\"length\",\"length\",\"length\",\"length\",\"length\",\"length\",\"length\",\"length\",\"length\",\"length\",\"length\",\"length\",\"length\",\"length\",\"length\",\"length\",\"length\",\"length\",\"length\",\"length\",\"length\",\"length\",\"length\",\"length\",\"length\",\"length\",\"length\",\"length\",\"length\",\"length\",\"length\",\"length\",\"length\",\"length\",\"length\",\"length\",\"length\",\"length\",\"length\",\"length\",\"length\",\"length\",\"length\",\"length\",\"length\",\"length\",\"length\",\"length\",\"length\",\"length\",\"length\",\"length\",\"length\",\"length\",\"length\",\"length\",\"length\",\"length\",\"length\",\"length\",\"length\",\"length\",\"length\",\"length\",\"length\",\"length\",\"length\",\"length\",\"length\",\"length\",\"length\",\"length\",\"length\",\"length\",\"length\",\"length\",\"length\",\"length\",\"length\",\"length\",\"length\",\"length\",\"length\",\"length\",\"length\",\"length\",\"length\",\"length\",\"length\",\"length\",\"length\",\"length\",\"length\",\"length\",\"length\",\"length\",\"length\",\"length\",\"length\",\"length\",\"length\",\"length\",\"length\",\"length\",\"length\",\"length\",\"length\",\"length\",\"length\",\"length\",\"length\",\"length\",\"length\",\"length\",\"length\",\"length\",\"length\",\"length\",\"length\",\"length\",\"length\",\"length\",\"length\",\"length\",\"length\",\"length\",\"length\",\"length\",\"length\",\"length\",\"length\",\"length\",\"length\",\"length\",\"length\",\"length\",\"length\",\"length\",\"length\",\"length\",\"length\",\"length\",\"length\",\"length\",\"length\",\"length\",\"length\",\"length\",\"length\",\"length\",\"length\",\"length\",\"length\",\"length\",\"length\",\"length\",\"length\",\"length\",\"length\",\"length\",\"length\",\"length\",\"length\",\"length\",\"length\",\"length\",\"length\",\"length\",\"length\",\"length\",\"length\",\"length\",\"length\",\"length\",\"length\",\"length\",\"length\",\"length\",\"length\",\"length\",\"length\",\"length\",\"length\",\"length\",\"length\",\"length\",\"length\",\"length\",\"length\",\"length\",\"length\",\"length\",\"length\",\"length\",\"length\",\"length\",\"length\",\"length\",\"length\",\"length\",\"length\",\"length\",\"length\",\"length\",\"length\",\"length\",\"length\",\"length\",\"length\",\"length\",\"length\",\"length\",\"length\",\"length\",\"length\",\"length\",\"length\",\"length\",\"length\",\"length\",\"length\",\"length\",\"length\",\"length\",\"length\",\"length\",\"length\",\"length\",\"length\",\"length\",\"length\",\"length\",\"length\",\"length\",\"length\",\"length\",\"length\",\"length\",\"length\",\"length\",\"length\",\"length\",\"length\",\"length\",\"length\",\"length\",\"length\",\"length\",\"length\",\"length\",\"length\",\"length\",\"length\",\"length\",\"length\",\"length\",\"length\",\"length\",\"length\",\"length\",\"length\",\"length\",\"length\",\"length\",\"length\",\"length\",\"length\",\"length\",\"length\",\"length\",\"length\",\"length\",\"length\",\"length\",\"length\",\"length\",\"length\",\"length\",\"length\",\"length\",\"length\",\"length\",\"length\",\"length\",\"length\",\"length\",\"length\",\"length\",\"length\",\"length\",\"length\",\"length\",\"length\",\"length\",\"length\",\"length\",\"length\",\"length\",\"length\",\"length\",\"length\",\"length\",\"length\",\"length\",\"length\",\"length\",\"length\",\"length\",\"length\",\"length\",\"length\",\"length\",\"length\",\"length\",\"length\",\"length\",\"length\",\"length\",\"length\",\"length\",\"length\",\"length\",\"length\",\"length\",\"length\",\"length\",\"length\",\"length\",\"length\",\"length\",\"length\",\"length\",\"length\",\"length\",\"length\",\"length\",\"length\",\"length\",\"length\",\"length\",\"length\",\"length\",\"length\",\"length\",\"length\",\"length\",\"length\",\"length\",\"length\",\"length\",\"length\",\"length\",\"length\",\"length\",\"length\",\"length\",\"length\",\"length\",\"length\",\"length\",\"length\",\"length\",\"length\",\"length\",\"length\",\"length\",\"length\",\"length\",\"length\",\"length\",\"length\",\"length\",\"length\",\"length\",\"length\",\"length\",\"length\",\"length\",\"length\",\"length\",\"length\",\"length\",\"length\",\"length\",\"length\",\"length\",\"length\",\"length\",\"length\",\"length\",\"length\",\"length\",\"length\",\"length\",\"length\",\"length\",\"length\",\"length\",\"length\",\"length\",\"length\",\"length\",\"length\",\"length\",\"length\",\"length\",\"length\",\"length\",\"length\",\"length\",\"length\",\"length\",\"length\",\"length\",\"length\",\"length\",\"length\",\"length\",\"length\",\"length\",\"length\",\"length\",\"length\",\"length\",\"length\",\"length\",\"length\",\"length\",\"length\",\"length\",\"length\",\"length\",\"length\",\"length\",\"length\",\"length\",\"length\",\"length\",\"length\",\"length\",\"length\",\"length\",\"length\",\"length\",\"length\",\"length\",\"length\",\"length\",\"length\",\"length\",\"length\",\"length\",\"length\",\"length\",\"length\",\"length\",\"length\",\"length\",\"length\",\"length\",\"length\",\"length\",\"length\",\"length\",\"length\",\"length\",\"length\",\"length\",\"length\",\"length\",\"length\",\"length\",\"length\",\"length\",\"length\",\"length\",\"length\",\"length\",\"length\",\"length\",\"length\",\"length\",\"length\",\"length\",\"length\",\"length\",\"length\",\"length\",\"length\",\"length\",\"length\",\"length\",\"length\",\"length\",\"length\",\"length\",\"length\",\"length\",\"length\",\"length\",\"length\",\"length\",\"length\",\"length\",\"length\",\"length\",\"length\",\"length\",\"length\",\"length\",\"length\",\"length\",\"length\",\"length\",\"length\",\"length\",\"length\",\"length\",\"length\",\"length\",\"length\",\"length\",\"length\",\"length\",\"length\",\"length\",\"length\",\"length\",\"length\",\"length\",\"length\",\"length\",\"length\",\"length\",\"length\",\"length\",\"length\",\"length\",\"length\",\"length\",\"length\",\"length\",\"length\",\"length\",\"length\",\"length\",\"length\",\"length\",\"length\",\"length\",\"length\",\"length\",\"length\",\"length\",\"length\",\"length\",\"length\",\"length\",\"length\",\"length\",\"length\",\"length\",\"length\",\"length\",\"length\",\"length\",\"length\",\"length\",\"length\",\"length\",\"length\",\"length\",\"length\",\"length\",\"length\",\"length\",\"length\",\"length\",\"length\",\"length\",\"length\",\"length\",\"length\",\"length\",\"length\",\"length\",\"length\",\"length\",\"length\",\"length\",\"length\",\"length\",\"length\",\"length\",\"length\",\"length\",\"length\",\"length\",\"length\",\"length\",\"length\",\"length\",\"length\",\"length\",\"length\",\"length\",\"length\",\"length\",\"length\",\"length\",\"length\",\"length\",\"length\",\"length\",\"length\",\"length\",\"length\",\"length\",\"length\",\"length\",\"length\",\"length\",\"length\",\"length\",\"length\",\"length\",\"length\",\"length\",\"length\",\"length\",\"length\",\"length\",\"length\",\"length\",\"length\",\"length\",\"length\",\"length\",\"length\",\"length\",\"length\",\"length\",\"length\",\"length\",\"length\",\"length\",\"length\",\"length\",\"length\",\"length\",\"length\",\"length\",\"length\",\"length\",\"length\",\"length\",\"length\",\"length\",\"length\",\"length\",\"length\",\"length\",\"length\",\"length\",\"length\",\"length\",\"length\",\"length\",\"length\",\"length\",\"length\",\"length\",\"length\",\"length\",\"length\",\"length\",\"length\",\"length\",\"length\",\"length\",\"length\",\"length\",\"length\",\"length\",\"length\",\"length\",\"length\",\"length\",\"length\",\"length\",\"length\",\"length\",\"length\",\"length\",\"length\",\"length\",\"length\",\"length\",\"length\",\"length\",\"length\",\"length\",\"length\",\"length\",\"length\",\"length\",\"length\",\"length\",\"length\",\"length\",\"length\",\"length\",\"length\",\"length\",\"length\",\"length\",\"length\",\"length\",\"length\",\"length\",\"length\",\"length\",\"length\",\"length\",\"length\",\"length\",\"length\",\"length\",\"length\",\"length\",\"length\",\"length\",\"length\",\"length\",\"length\",\"length\",\"length\",\"length\",\"length\",\"length\",\"length\",\"length\",\"length\",\"length\",\"length\",\"length\",\"length\",\"length\",\"length\",\"length\",\"length\",\"length\",\"length\",\"length\",\"length\",\"length\",\"length\",\"length\",\"length\",\"length\",\"length\",\"length\",\"length\",\"length\",\"length\",\"length\",\"length\",\"length\",\"length\",\"length\",\"length\",\"length\",\"length\",\"length\",\"length\",\"length\",\"length\",\"length\",\"length\",\"length\",\"length\",\"length\",\"length\",\"length\",\"length\",\"length\",\"length\",\"length\",\"length\",\"length\",\"length\",\"length\",\"length\",\"length\",\"length\",\"length\",\"length\",\"length\",\"length\",\"length\",\"length\",\"length\",\"length\",\"length\",\"length\",\"length\",\"length\",\"length\",\"length\",\"length\",\"length\",\"length\",\"length\",\"length\",\"length\",\"length\",\"length\",\"length\",\"length\",\"length\",\"length\",\"length\",\"length\",\"length\",\"length\",\"length\",\"length\",\"length\",\"length\",\"length\",\"length\",\"length\",\"length\",\"length\",\"length\",\"length\",\"length\",\"length\",\"length\",\"length\",\"length\",\"length\",\"length\",\"length\",\"length\",\"length\",\"length\",\"length\",\"length\",\"length\",\"length\",\"length\",\"length\",\"length\",\"length\",\"length\",\"length\",\"length\",\"length\",\"length\",\"length\",\"length\",\"length\",\"length\",\"length\",\"length\",\"length\",\"length\",\"length\",\"length\",\"length\",\"length\",\"length\",\"length\",\"length\",\"length\",\"length\",\"length\",\"length\",\"length\",\"length\",\"length\",\"length\",\"length\",\"length\",\"length\",\"length\",\"length\",\"length\",\"length\",\"length\",\"length\",\"length\",\"length\",\"length\",\"length\",\"length\",\"length\",\"length\",\"length\",\"length\",\"length\",\"length\",\"length\",\"length\",\"length\",\"length\",\"length\",\"length\",\"length\",\"length\",\"length\",\"length\",\"length\",\"length\",\"length\",\"length\",\"length\",\"length\",\"length\",\"length\",\"length\",\"length\",\"length\",\"length\",\"length\",\"length\",\"length\",\"length\",\"length\",\"length\",\"length\",\"length\",\"length\",\"length\",\"length\",\"length\",\"length\",\"length\",\"length\",\"length\",\"length\",\"length\",\"length\",\"length\",\"length\",\"length\",\"length\",\"length\",\"length\",\"length\",\"length\",\"length\",\"length\",\"length\",\"length\",\"length\",\"length\",\"length\",\"length\",\"length\",\"length\",\"length\",\"length\",\"length\",\"length\",\"length\",\"length\",\"length\",\"length\",\"length\",\"length\",\"length\",\"length\",\"length\",\"length\",\"length\",\"length\",\"length\",\"length\",\"length\",\"length\",\"length\",\"length\",\"length\",\"length\",\"length\",\"length\",\"length\",\"length\",\"length\",\"length\",\"length\",\"length\",\"length\",\"length\",\"length\",\"length\",\"length\",\"length\",\"length\",\"length\",\"length\",\"length\",\"length\",\"length\",\"length\",\"length\",\"length\",\"length\",\"length\",\"length\",\"length\",\"length\",\"length\",\"length\",\"length\",\"length\",\"length\",\"length\",\"length\",\"length\",\"length\",\"length\",\"length\",\"length\",\"length\",\"length\",\"length\",\"length\",\"length\",\"length\",\"length\",\"length\",\"length\",\"length\",\"length\",\"length\",\"length\",\"length\",\"length\",\"length\",\"length\",\"length\",\"length\",\"length\",\"length\",\"length\",\"length\",\"length\",\"length\",\"length\",\"length\",\"length\",\"length\",\"length\",\"length\",\"length\",\"length\",\"length\",\"length\",\"length\",\"length\",\"length\",\"length\",\"length\",\"length\",\"length\",\"length\",\"length\",\"length\",\"length\",\"length\",\"length\",\"length\",\"length\",\"length\",\"length\",\"length\",\"length\",\"length\",\"length\",\"length\",\"length\",\"length\",\"length\",\"length\",\"length\",\"length\",\"length\",\"length\",\"length\",\"length\",\"length\",\"length\",\"length\",\"length\",\"length\",\"length\",\"length\",\"length\",\"length\",\"length\",\"length\",\"length\",\"length\",\"length\",\"length\",\"length\",\"length\",\"length\",\"length\",\"length\",\"length\",\"length\",\"length\",\"length\",\"length\",\"length\",\"length\",\"length\",\"length\",\"length\",\"length\",\"length\",\"length\",\"length\",\"length\",\"length\",\"length\",\"length\",\"length\",\"length\",\"length\",\"length\",\"length\",\"length\",\"length\",\"length\",\"length\",\"length\",\"length\",\"length\",\"length\",\"length\",\"length\",\"length\",\"length\",\"length\",\"length\",\"length\",\"length\",\"length\",\"length\",\"length\",\"length\",\"length\",\"length\",\"length\",\"length\",\"length\",\"length\",\"length\",\"length\",\"length\",\"length\",\"length\",\"length\",\"length\",\"length\",\"length\",\"length\",\"length\",\"length\",\"length\",\"length\",\"length\",\"length\",\"length\",\"length\",\"length\",\"length\",\"length\",\"length\",\"length\",\"length\",\"length\",\"length\",\"length\",\"length\",\"length\",\"length\",\"length\",\"length\",\"length\",\"length\",\"length\",\"length\",\"length\",\"length\",\"length\",\"length\",\"length\",\"length\",\"length\",\"length\",\"length\",\"length\",\"length\",\"length\",\"length\",\"length\",\"length\",\"length\",\"length\",\"length\",\"length\",\"length\",\"length\",\"length\",\"length\",\"length\",\"length\",\"length\",\"length\",\"length\",\"length\",\"length\",\"length\",\"length\",\"length\",\"length\",\"length\",\"length\",\"length\",\"length\",\"length\",\"length\",\"length\",\"length\",\"length\",\"length\",\"length\",\"length\",\"length\",\"length\",\"length\",\"length\",\"length\",\"length\",\"length\",\"length\",\"length\",\"length\",\"length\",\"length\",\"length\",\"length\",\"length\",\"length\",\"length\",\"length\",\"length\",\"length\",\"length\",\"length\",\"length\",\"length\",\"length\",\"length\",\"length\",\"length\",\"length\",\"length\",\"length\",\"length\",\"length\",\"length\",\"length\",\"length\",\"length\",\"length\",\"length\",\"length\",\"length\",\"length\",\"length\",\"length\",\"length\",\"length\",\"length\",\"length\",\"length\",\"length\",\"length\",\"length\",\"length\",\"length\",\"length\",\"length\",\"length\",\"length\",\"length\",\"length\",\"length\",\"length\",\"length\",\"length\",\"length\",\"length\",\"length\",\"length\",\"length\",\"length\",\"length\",\"length\",\"length\",\"length\",\"length\",\"length\",\"length\",\"length\",\"length\",\"length\",\"length\",\"length\",\"length\",\"length\",\"length\",\"length\",\"length\",\"length\",\"length\",\"length\",\"length\",\"length\",\"length\",\"length\",\"length\",\"length\",\"length\",\"length\",\"length\",\"length\",\"length\",\"length\",\"length\",\"length\",\"length\",\"length\",\"length\",\"length\",\"length\",\"length\",\"length\",\"length\",\"length\",\"length\",\"length\",\"length\",\"length\",\"length\",\"length\",\"length\",\"length\",\"length\",\"length\",\"length\",\"length\",\"length\",\"length\",\"length\",\"length\",\"length\",\"length\",\"length\",\"length\",\"length\",\"length\",\"length\",\"length\",\"length\",\"length\",\"length\",\"length\",\"length\",\"length\",\"length\",\"length\",\"length\",\"length\",\"length\",\"length\",\"length\",\"length\",\"length\",\"length\",\"length\",\"length\",\"length\",\"length\",\"length\",\"length\",\"length\",\"length\",\"length\",\"length\",\"length\",\"length\",\"length\",\"length\",\"length\",\"length\",\"length\",\"length\",\"length\",\"length\",\"length\",\"length\",\"length\",\"length\",\"length\",\"length\",\"length\",\"length\",\"length\",\"length\",\"length\",\"length\",\"length\",\"length\",\"length\",\"length\",\"length\",\"length\",\"length\",\"length\",\"length\",\"length\",\"length\",\"length\",\"length\",\"length\",\"length\",\"length\",\"length\",\"length\",\"length\",\"length\",\"length\",\"length\",\"length\",\"length\",\"length\",\"length\",\"length\",\"length\",\"length\",\"length\",\"length\",\"length\",\"length\",\"length\",\"length\",\"length\",\"length\",\"length\",\"length\",\"length\",\"length\",\"length\",\"length\",\"length\",\"length\",\"length\",\"length\",\"length\",\"length\",\"length\",\"length\",\"length\",\"length\",\"length\",\"length\",\"length\",\"length\",\"length\",\"length\",\"length\",\"length\",\"length\",\"length\",\"length\",\"length\",\"length\",\"length\",\"length\",\"length\",\"length\",\"length\",\"length\",\"length\",\"length\",\"length\",\"length\",\"length\",\"length\",\"length\",\"length\",\"length\",\"length\",\"length\",\"length\",\"length\",\"length\",\"length\",\"length\",\"length\",\"length\",\"length\",\"length\",\"length\",\"length\",\"length\",\"length\",\"length\",\"length\",\"length\",\"length\",\"length\",\"length\",\"length\",\"length\",\"length\",\"length\",\"length\",\"length\",\"length\",\"length\",\"length\",\"length\",\"length\",\"length\",\"length\",\"length\",\"length\",\"length\",\"length\",\"length\",\"length\",\"length\",\"length\",\"length\",\"length\",\"length\",\"length\",\"length\",\"length\",\"length\",\"length\",\"length\",\"length\",\"length\",\"length\",\"length\",\"length\",\"length\",\"length\",\"length\",\"length\",\"length\",\"length\",\"length\",\"length\",\"length\",\"length\",\"length\",\"length\",\"length\",\"length\",\"length\",\"length\",\"length\",\"length\",\"length\",\"length\",\"length\",\"length\",\"length\",\"length\",\"length\",\"length\",\"length\",\"length\",\"length\",\"length\",\"length\",\"length\",\"length\",\"length\",\"length\",\"length\",\"length\",\"length\",\"length\",\"length\",\"length\",\"length\",\"length\",\"length\",\"length\",\"length\",\"length\",\"length\",\"length\",\"length\",\"length\",\"length\",\"length\",\"length\",\"length\",\"length\",\"length\",\"length\",\"length\",\"length\",\"length\",\"length\",\"length\",\"length\",\"length\",\"length\",\"length\",\"length\",\"length\",\"length\",\"length\",\"length\",\"length\",\"length\",\"length\",\"length\",\"length\",\"length\",\"length\",\"length\",\"length\",\"length\",\"length\",\"length\",\"length\",\"length\",\"length\",\"length\",\"length\",\"length\",\"length\",\"length\",\"length\",\"length\",\"length\",\"length\",\"length\",\"length\",\"length\",\"length\",\"length\",\"length\",\"length\",\"length\",\"length\",\"length\",\"length\",\"length\",\"length\",\"length\",\"length\",\"length\",\"length\",\"length\",\"length\",\"length\",\"length\",\"length\",\"length\",\"length\",\"length\",\"length\",\"length\",\"length\",\"length\",\"length\",\"length\",\"length\",\"length\",\"length\",\"length\",\"length\",\"length\",\"length\",\"length\",\"length\",\"length\",\"length\",\"length\",\"length\",\"length\",\"length\",\"length\",\"length\",\"length\",\"length\",\"length\",\"length\",\"length\",\"length\",\"length\",\"length\",\"length\",\"length\",\"length\",\"length\",\"length\",\"length\",\"length\",\"length\",\"length\",\"length\",\"length\",\"length\",\"length\",\"length\",\"length\",\"length\",\"length\",\"length\",\"length\",\"length\",\"length\",\"length\",\"length\",\"length\",\"length\",\"length\",\"length\",\"length\",\"length\",\"length\",\"length\",\"length\",\"length\",\"length\",\"length\",\"length\",\"length\",\"length\",\"length\",\"length\",\"length\",\"length\",\"length\",\"length\",\"length\",\"length\",\"length\",\"length\",\"length\",\"length\",\"length\",\"length\",\"length\",\"length\",\"length\",\"length\",\"length\",\"length\",\"length\",\"length\",\"length\",\"length\",\"length\",\"length\",\"length\",\"length\",\"length\",\"length\",\"length\",\"length\",\"length\",\"length\",\"length\",\"length\",\"length\",\"length\",\"length\",\"length\",\"length\",\"length\",\"length\",\"length\",\"length\",\"length\",\"length\",\"length\",\"length\",\"length\",\"length\",\"length\",\"length\",\"length\",\"length\",\"length\",\"length\",\"length\",\"length\",\"length\",\"length\",\"length\",\"length\",\"length\",\"length\",\"length\",\"length\",\"length\",\"length\",\"length\",\"length\",\"length\",\"length\",\"length\",\"length\",\"length\",\"length\",\"length\",\"length\",\"length\",\"length\",\"length\",\"length\",\"length\",\"length\",\"length\",\"length\",\"length\",\"length\",\"length\",\"length\",\"length\",\"length\",\"length\",\"length\",\"length\",\"length\",\"length\",\"length\",\"length\",\"length\",\"length\",\"length\",\"length\",\"length\",\"length\",\"length\",\"length\",\"length\",\"length\",\"length\",\"length\",\"length\",\"length\",\"length\",\"length\",\"length\",\"length\",\"length\",\"length\",\"length\",\"length\",\"length\",\"length\",\"length\",\"length\",\"length\",\"length\",\"length\",\"length\",\"length\",\"length\",\"length\",\"length\",\"length\",\"length\",\"length\",\"length\",\"length\",\"length\",\"length\",\"length\",\"length\",\"length\",\"length\",\"length\",\"length\",\"length\",\"length\",\"length\",\"length\",\"length\",\"length\",\"length\",\"length\",\"length\",\"length\",\"length\",\"length\",\"length\",\"length\",\"length\",\"length\",\"length\",\"length\",\"length\",\"length\",\"length\",\"length\",\"length\",\"length\",\"length\",\"length\",\"length\",\"length\",\"length\",\"length\",\"length\",\"length\",\"length\",\"length\",\"length\",\"length\",\"length\",\"length\",\"length\",\"length\",\"length\",\"length\",\"length\",\"length\",\"length\",\"length\",\"length\",\"length\",\"length\",\"length\",\"length\",\"length\",\"length\",\"length\",\"length\",\"length\",\"length\",\"length\",\"length\",\"length\",\"length\",\"length\",\"length\",\"length\",\"length\",\"length\",\"length\",\"length\",\"length\",\"length\",\"length\",\"length\",\"length\",\"length\",\"length\",\"length\",\"length\",\"length\",\"length\",\"length\",\"length\",\"length\",\"length\",\"length\",\"length\",\"length\",\"length\",\"length\",\"length\",\"length\",\"length\",\"length\",\"length\",\"length\",\"length\",\"length\",\"length\",\"length\",\"length\",\"length\",\"length\",\"length\",\"length\",\"length\",\"length\",\"length\",\"length\",\"length\",\"length\",\"length\",\"length\",\"length\",\"length\",\"length\",\"length\",\"length\",\"length\",\"length\",\"length\",\"length\",\"length\",\"length\",\"length\",\"length\",\"length\",\"length\",\"length\",\"length\",\"length\",\"length\",\"length\",\"length\",\"length\",\"length\",\"length\",\"length\",\"length\",\"length\",\"length\",\"length\",\"length\",\"length\",\"length\",\"length\",\"length\",\"length\",\"length\",\"length\",\"length\",\"length\",\"length\",\"length\",\"length\",\"length\",\"length\",\"length\",\"length\",\"length\",\"length\",\"length\",\"length\",\"length\",\"length\",\"length\",\"length\",\"length\",\"length\",\"length\",\"length\",\"length\",\"length\",\"length\",\"length\",\"length\",\"length\",\"length\",\"length\",\"length\",\"length\",\"length\",\"length\",\"length\",\"length\",\"length\",\"length\",\"length\",\"length\",\"length\",\"length\",\"length\",\"length\",\"length\",\"length\",\"length\",\"length\",\"length\",\"length\",\"length\",\"length\",\"length\",\"length\",\"length\",\"length\",\"length\",\"length\",\"length\",\"length\",\"length\",\"length\",\"length\",\"length\",\"length\",\"length\",\"length\",\"length\",\"length\",\"length\",\"length\",\"length\",\"length\",\"length\",\"length\",\"length\",\"length\",\"length\",\"length\",\"length\",\"length\",\"length\",\"length\",\"length\",\"length\",\"length\",\"length\",\"length\",\"length\",\"length\",\"length\",\"length\",\"length\",\"length\",\"length\",\"length\",\"length\",\"length\",\"length\",\"length\",\"length\",\"length\",\"length\",\"length\",\"length\",\"length\",\"length\",\"length\",\"length\",\"length\",\"length\",\"length\",\"length\",\"length\",\"length\",\"length\",\"length\",\"length\",\"length\",\"length\",\"length\",\"length\",\"length\",\"length\",\"length\",\"length\",\"length\",\"length\",\"length\",\"length\",\"length\",\"length\",\"length\",\"length\",\"length\",\"length\",\"length\",\"length\",\"length\",\"length\",\"length\",\"length\",\"length\",\"length\",\"length\",\"length\",\"length\",\"length\",\"length\",\"length\",\"length\",\"length\",\"length\",\"length\",\"length\",\"length\",\"length\",\"length\",\"length\",\"length\",\"length\",\"length\",\"length\",\"length\",\"length\",\"length\",\"length\",\"length\",\"length\",\"length\",\"length\",\"length\",\"length\",\"length\",\"length\",\"length\",\"length\",\"length\",\"length\",\"length\",\"length\",\"length\",\"length\",\"length\",\"length\",\"length\",\"length\",\"length\",\"length\",\"length\",\"length\",\"length\",\"length\",\"length\",\"length\",\"length\",\"length\",\"length\",\"length\",\"length\",\"length\",\"length\",\"length\",\"length\",\"length\",\"length\",\"length\",\"length\",\"length\",\"length\",\"length\",\"length\",\"length\",\"length\",\"length\",\"length\",\"length\",\"length\",\"length\",\"length\",\"length\",\"length\",\"length\",\"length\",\"length\",\"length\",\"length\",\"length\",\"length\",\"length\",\"length\",\"length\",\"length\",\"length\",\"length\",\"length\",\"length\",\"length\",\"length\",\"length\",\"length\",\"length\",\"length\",\"length\",\"length\",\"length\",\"length\",\"length\",\"length\",\"length\",\"length\",\"length\",\"length\",\"length\",\"length\",\"length\",\"length\",\"length\",\"length\",\"length\",\"length\",\"length\",\"length\",\"length\",\"length\",\"length\",\"length\",\"length\",\"length\",\"length\",\"length\",\"length\",\"length\",\"length\",\"length\",\"length\",\"length\",\"length\",\"length\",\"length\",\"length\",\"length\",\"length\",\"length\",\"length\",\"length\",\"length\",\"length\",\"length\",\"length\",\"length\",\"length\",\"length\",\"length\",\"length\",\"length\",\"length\",\"length\",\"length\",\"length\",\"length\",\"length\",\"length\",\"length\",\"length\",\"length\",\"length\",\"length\",\"length\",\"length\",\"length\",\"length\",\"length\",\"length\",\"length\",\"length\",\"length\",\"length\",\"length\",\"length\",\"length\",\"length\",\"length\",\"length\",\"length\",\"length\",\"length\",\"length\",\"length\",\"length\",\"length\",\"length\",\"length\",\"length\",\"length\",\"length\",\"length\",\"length\",\"length\",\"length\",\"length\",\"length\",\"length\",\"length\",\"length\",\"length\",\"length\",\"length\",\"length\",\"length\",\"length\",\"length\",\"length\",\"length\",\"length\",\"length\",\"length\",\"length\",\"length\",\"length\",\"length\",\"length\",\"length\",\"length\",\"length\",\"length\",\"length\",\"length\",\"length\",\"length\",\"length\",\"length\",\"length\",\"length\",\"length\",\"length\",\"length\",\"length\",\"length\",\"length\",\"length\",\"length\",\"length\",\"length\",\"length\",\"length\",\"length\",\"length\",\"length\",\"length\",\"length\",\"length\",\"length\",\"length\",\"length\",\"length\",\"length\",\"length\",\"length\",\"length\",\"length\",\"length\",\"length\",\"length\",\"length\",\"length\",\"length\",\"length\",\"length\",\"length\",\"length\",\"length\",\"length\",\"length\",\"length\",\"length\",\"length\",\"length\",\"length\",\"length\",\"length\",\"length\",\"length\",\"length\",\"length\",\"length\",\"length\",\"length\",\"length\",\"length\",\"length\",\"length\",\"length\",\"length\",\"length\",\"length\",\"length\",\"length\",\"length\",\"length\",\"length\",\"length\",\"length\",\"length\",\"length\",\"length\",\"length\",\"length\",\"length\",\"length\",\"length\",\"length\",\"length\",\"length\",\"length\",\"length\",\"length\",\"length\",\"length\",\"length\",\"length\",\"length\",\"length\",\"length\",\"length\",\"length\",\"length\",\"length\",\"length\",\"length\",\"length\",\"length\",\"length\",\"length\",\"length\",\"length\",\"length\",\"length\",\"length\",\"length\",\"length\",\"length\",\"length\",\"length\",\"length\",\"length\",\"length\",\"length\",\"length\",\"length\",\"length\",\"length\",\"length\",\"length\",\"length\",\"length\",\"length\",\"length\",\"length\",\"length\",\"length\",\"length\",\"length\",\"length\",\"length\",\"length\",\"length\",\"length\",\"length\",\"length\",\"length\",\"length\",\"length\",\"length\",\"length\",\"length\",\"length\",\"length\",\"length\",\"length\",\"length\",\"length\",\"length\",\"length\",\"length\",\"length\",\"length\",\"length\",\"length\",\"length\",\"length\",\"length\",\"length\",\"length\",\"length\",\"length\",\"length\",\"length\",\"length\",\"length\",\"length\",\"length\",\"length\",\"length\",\"length\",\"length\",\"length\",\"length\",\"length\",\"length\",\"length\",\"length\",\"length\",\"length\",\"length\",\"length\",\"length\",\"length\",\"length\",\"length\",\"length\",\"length\",\"length\",\"length\",\"length\",\"length\",\"length\",\"length\",\"length\",\"length\",\"length\",\"length\",\"length\",\"length\",\"length\",\"length\",\"length\",\"length\",\"length\",\"length\",\"length\",\"length\",\"length\",\"length\",\"length\",\"length\",\"length\",\"length\",\"length\",\"length\",\"length\",\"length\",\"length\",\"length\",\"length\",\"length\",\"length\",\"length\",\"length\",\"length\",\"length\",\"length\",\"length\",\"length\",\"length\",\"length\",\"length\",\"length\",\"length\",\"length\",\"length\",\"length\",\"length\",\"length\",\"length\",\"length\",\"length\",\"length\",\"length\",\"length\",\"length\",\"length\",\"length\",\"length\",\"length\",\"length\",\"length\",\"length\",\"length\",\"length\",\"length\",\"length\",\"length\",\"length\",\"length\",\"length\",\"length\",\"length\",\"length\",\"length\",\"length\",\"length\",\"length\",\"length\",\"length\",\"length\",\"length\",\"length\",\"length\",\"length\",\"length\",\"length\",\"length\",\"length\",\"length\",\"length\",\"length\",\"length\",\"length\",\"length\",\"length\",\"length\",\"length\",\"length\",\"length\",\"length\",\"length\",\"length\",\"length\",\"length\",\"length\",\"length\",\"length\",\"length\",\"length\",\"length\",\"length\",\"length\",\"length\",\"length\",\"length\",\"length\",\"length\",\"length\",\"length\",\"length\",\"length\",\"length\",\"length\",\"length\",\"length\",\"length\",\"length\",\"length\",\"length\",\"length\",\"length\",\"length\",\"length\",\"length\",\"length\",\"length\",\"length\",\"length\",\"length\",\"length\",\"length\",\"length\",\"length\",\"length\",\"length\",\"length\",\"length\",\"length\",\"length\",\"length\",\"length\",\"length\",\"length\",\"length\",\"length\",\"length\",\"length\",\"length\",\"length\",\"length\",\"length\",\"length\",\"length\",\"length\",\"length\",\"length\",\"length\",\"length\",\"length\",\"length\",\"length\",\"length\",\"length\",\"length\",\"length\",\"length\",\"length\",\"length\",\"length\",\"length\",\"length\",\"length\",\"length\",\"length\",\"length\",\"length\",\"length\",\"length\",\"length\",\"length\",\"length\",\"length\",\"length\",\"length\",\"length\",\"length\",\"length\",\"length\",\"length\",\"length\",\"length\",\"length\",\"length\",\"length\",\"length\",\"length\",\"length\",\"length\",\"length\",\"length\",\"length\",\"length\",\"length\",\"length\",\"length\",\"length\",\"length\",\"length\",\"length\",\"length\",\"length\",\"length\",\"length\",\"length\",\"length\",\"length\",\"length\",\"length\",\"length\",\"length\",\"length\",\"length\",\"length\",\"length\",\"length\",\"length\",\"length\",\"length\",\"length\",\"length\",\"length\",\"length\",\"length\",\"length\",\"length\",\"length\",\"length\",\"length\",\"length\",\"length\",\"length\",\"length\",\"length\",\"length\",\"length\",\"length\",\"length\",\"length\",\"length\",\"length\",\"length\",\"length\",\"length\",\"length\",\"length\",\"length\",\"length\",\"length\",\"length\",\"length\",\"length\",\"length\",\"length\",\"length\",\"length\",\"length\",\"length\",\"length\",\"length\",\"length\",\"length\",\"length\",\"length\",\"length\",\"length\",\"length\",\"length\",\"length\",\"length\",\"length\",\"length\",\"length\",\"length\",\"length\",\"length\",\"length\",\"length\",\"length\",\"length\",\"length\",\"length\",\"length\",\"length\",\"length\",\"length\",\"length\",\"length\",\"length\",\"length\",\"length\",\"length\",\"length\",\"length\",\"length\",\"length\",\"length\",\"length\",\"length\",\"length\",\"length\",\"length\",\"length\",\"length\",\"length\",\"length\",\"length\",\"length\",\"length\",\"length\",\"length\",\"length\",\"length\",\"length\",\"length\",\"length\",\"length\",\"length\",\"length\",\"length\",\"length\",\"length\",\"length\",\"length\",\"length\",\"length\",\"length\",\"length\",\"length\",\"length\",\"length\",\"length\",\"length\",\"length\",\"length\",\"length\",\"length\",\"length\",\"length\",\"length\",\"length\",\"length\",\"length\",\"length\",\"length\",\"length\",\"length\",\"length\",\"length\",\"length\",\"length\",\"length\",\"length\",\"length\",\"length\",\"length\",\"length\",\"length\",\"length\",\"length\",\"length\",\"length\",\"length\",\"length\",\"length\",\"length\",\"length\",\"length\",\"length\",\"length\",\"length\",\"length\",\"length\",\"length\",\"length\",\"length\",\"length\",\"length\",\"length\",\"length\",\"length\",\"length\",\"length\",\"length\",\"length\",\"length\",\"length\",\"length\",\"length\",\"length\",\"length\",\"length\",\"length\",\"length\",\"length\",\"length\",\"length\",\"length\",\"length\",\"length\",\"length\",\"length\",\"length\",\"length\",\"length\",\"length\",\"length\",\"length\",\"length\",\"length\",\"length\",\"length\",\"length\",\"length\",\"length\",\"length\",\"length\",\"length\",\"length\",\"length\",\"length\",\"length\",\"length\",\"length\",\"length\",\"length\",\"length\",\"length\",\"length\",\"length\",\"length\",\"length\",\"length\",\"length\",\"length\",\"length\",\"length\",\"length\",\"length\",\"length\",\"length\",\"length\",\"length\",\"length\",\"length\",\"length\",\"length\",\"length\",\"length\",\"length\",\"length\",\"length\",\"length\",\"length\",\"length\",\"length\",\"length\",\"length\",\"length\",\"length\",\"length\",\"length\",\"length\",\"length\",\"length\",\"length\",\"length\",\"length\",\"length\",\"length\",\"length\",\"length\",\"length\",\"length\",\"length\",\"length\",\"length\",\"length\",\"length\",\"length\",\"length\",\"length\",\"length\",\"length\",\"length\",\"length\",\"length\",\"length\",\"length\",\"length\",\"length\",\"length\",\"length\",\"length\",\"length\",\"length\",\"length\",\"length\",\"length\",\"length\",\"length\",\"length\",\"length\",\"length\",\"length\",\"length\",\"length\",\"length\",\"length\",\"length\",\"length\",\"length\",\"length\",\"length\",\"length\",\"length\",\"length\",\"length\",\"length\",\"length\",\"length\",\"length\",\"length\",\"length\",\"length\",\"length\",\"length\",\"length\",\"length\",\"length\",\"length\",\"length\",\"length\",\"length\",\"length\",\"length\",\"length\",\"length\",\"length\",\"length\",\"length\",\"length\",\"length\",\"length\",\"length\",\"length\",\"length\",\"length\",\"length\",\"length\",\"length\",\"length\",\"length\",\"length\",\"length\",\"length\",\"length\",\"length\",\"length\",\"length\",\"length\",\"length\",\"length\",\"length\",\"length\",\"length\",\"length\",\"length\",\"length\",\"length\",\"length\",\"length\",\"length\",\"length\",\"length\",\"length\",\"length\",\"length\",\"length\",\"length\",\"length\",\"length\",\"length\",\"length\",\"length\",\"length\",\"length\",\"length\",\"length\",\"length\",\"length\",\"length\",\"length\",\"length\",\"length\",\"length\",\"length\",\"length\",\"length\",\"length\",\"length\",\"length\",\"length\",\"length\",\"length\",\"length\",\"length\",\"length\",\"length\",\"length\",\"length\",\"length\",\"length\",\"length\",\"length\",\"length\",\"length\",\"length\",\"length\",\"length\",\"length\",\"length\",\"length\",\"length\",\"length\",\"length\",\"length\",\"length\",\"length\",\"length\",\"length\",\"length\",\"length\",\"length\",\"length\",\"length\",\"length\",\"length\",\"length\",\"length\",\"length\",\"length\",\"length\",\"length\",\"length\",\"length\",\"length\",\"length\",\"length\",\"length\",\"length\",\"length\",\"length\",\"length\",\"length\",\"length\",\"length\",\"length\",\"length\",\"length\",\"length\",\"length\",\"length\",\"length\",\"length\",\"length\",\"length\",\"length\",\"length\",\"length\",\"length\",\"length\",\"length\",\"length\",\"length\",\"length\",\"length\",\"length\",\"length\",\"length\",\"length\",\"length\",\"length\",\"length\",\"length\",\"length\",\"length\",\"length\",\"length\",\"length\",\"length\",\"length\",\"length\",\"length\",\"length\",\"length\",\"length\",\"length\",\"length\",\"length\",\"length\",\"length\",\"length\",\"length\",\"length\",\"length\",\"length\",\"length\",\"length\",\"length\",\"length\",\"length\",\"length\",\"length\",\"length\",\"length\",\"length\",\"length\",\"length\",\"length\",\"length\",\"length\",\"length\",\"length\",\"length\",\"length\",\"length\",\"length\",\"length\",\"length\",\"length\",\"length\",\"length\",\"length\",\"length\",\"length\",\"length\",\"length\",\"length\",\"length\",\"length\",\"length\",\"length\",\"length\",\"length\",\"length\",\"length\",\"length\",\"length\",\"length\",\"length\",\"length\",\"length\",\"length\",\"length\",\"length\",\"length\",\"length\",\"length\",\"length\",\"length\",\"length\",\"length\",\"length\",\"length\",\"length\",\"length\",\"length\",\"length\",\"length\",\"length\",\"length\",\"length\",\"length\",\"length\",\"length\",\"length\",\"length\",\"length\",\"length\",\"length\",\"length\",\"length\",\"length\",\"length\",\"length\",\"length\",\"length\",\"length\",\"length\",\"length\",\"length\",\"length\",\"length\",\"length\",\"length\",\"length\",\"length\",\"length\",\"length\",\"length\",\"length\",\"length\",\"length\",\"length\",\"length\",\"length\",\"length\",\"length\",\"length\",\"length\",\"length\",\"length\",\"length\",\"length\",\"length\",\"length\",\"length\",\"length\",\"length\",\"length\",\"length\",\"length\",\"length\",\"length\",\"length\",\"length\",\"length\",\"length\",\"length\",\"length\",\"length\",\"length\",\"length\",\"length\",\"length\",\"length\",\"length\",\"length\",\"length\",\"length\",\"length\",\"length\",\"length\",\"length\",\"length\",\"length\",\"length\",\"length\",\"length\",\"length\",\"length\",\"length\",\"length\",\"length\",\"length\",\"length\",\"length\",\"length\",\"length\",\"length\",\"length\",\"length\",\"length\",\"length\",\"length\",\"length\",\"length\",\"length\",\"length\",\"length\",\"length\",\"length\",\"length\",\"length\",\"length\",\"length\",\"length\",\"length\",\"length\",\"length\",\"length\",\"length\",\"length\",\"length\",\"length\",\"length\",\"length\",\"length\",\"length\",\"length\",\"length\",\"length\",\"length\",\"length\",\"length\",\"length\",\"length\",\"length\",\"length\",\"length\",\"length\",\"length\",\"length\",\"length\",\"length\",\"length\",\"length\",\"length\",\"length\",\"length\",\"length\",\"length\",\"length\",\"length\",\"length\",\"length\",\"length\",\"length\",\"length\",\"length\",\"length\",\"length\",\"length\",\"length\",\"length\",\"length\",\"length\",\"length\",\"length\",\"length\",\"length\",\"length\",\"length\",\"length\",\"length\",\"length\",\"length\",\"length\",\"length\",\"length\",\"length\",\"length\",\"length\",\"length\",\"length\",\"length\",\"length\",\"length\",\"length\",\"length\",\"length\",\"length\",\"length\",\"length\",\"length\",\"length\",\"length\",\"length\",\"length\",\"length\",\"length\",\"length\",\"length\",\"length\",\"length\",\"length\",\"length\",\"length\",\"length\",\"length\",\"length\",\"length\",\"length\",\"length\",\"length\",\"length\",\"length\",\"length\",\"length\",\"length\",\"length\",\"length\",\"length\",\"length\",\"length\",\"length\",\"length\",\"length\",\"length\",\"length\",\"length\",\"length\",\"length\",\"length\",\"length\",\"length\",\"length\",\"length\",\"length\",\"length\",\"length\",\"length\",\"length\",\"length\",\"length\",\"length\",\"length\",\"length\",\"length\",\"length\",\"length\",\"length\",\"length\",\"length\",\"length\",\"length\",\"length\",\"length\",\"length\",\"length\",\"length\",\"length\",\"length\",\"length\",\"length\",\"length\",\"length\",\"length\",\"length\",\"length\",\"length\",\"length\",\"length\",\"length\",\"length\",\"length\",\"length\",\"length\",\"length\",\"length\",\"length\",\"length\",\"length\",\"length\",\"length\",\"length\",\"length\",\"length\",\"length\",\"length\",\"length\",\"length\",\"length\",\"length\",\"length\",\"length\",\"length\",\"length\",\"length\",\"length\",\"length\",\"length\",\"length\",\"length\",\"length\",\"length\",\"length\",\"length\",\"length\",\"length\",\"length\",\"length\",\"length\",\"length\",\"length\",\"length\",\"length\",\"length\",\"length\",\"length\",\"length\",\"length\",\"length\",\"length\",\"length\",\"length\",\"length\",\"length\",\"length\",\"length\",\"length\",\"length\",\"length\",\"length\",\"length\",\"length\",\"length\",\"length\",\"length\",\"length\",\"length\",\"length\",\"length\",\"length\",\"length\",\"length\",\"length\",\"length\",\"length\",\"length\",\"length\",\"length\",\"length\",\"length\",\"length\",\"length\",\"length\",\"length\",\"length\",\"length\",\"length\",\"length\",\"length\",\"length\",\"length\",\"length\",\"length\",\"length\",\"length\",\"length\",\"length\",\"length\",\"length\",\"length\",\"length\",\"length\",\"length\",\"length\",\"length\",\"length\",\"length\",\"length\",\"length\",\"length\",\"length\",\"length\",\"length\",\"length\",\"length\",\"length\",\"length\",\"length\",\"length\",\"length\",\"length\",\"length\",\"length\",\"length\",\"length\",\"length\",\"length\",\"length\",\"length\",\"length\",\"length\",\"length\",\"length\",\"length\",\"length\",\"length\",\"length\",\"length\",\"length\",\"length\",\"length\",\"length\",\"length\",\"length\",\"length\",\"length\",\"length\",\"length\",\"length\",\"length\",\"length\",\"length\",\"length\",\"length\",\"length\",\"length\",\"length\",\"length\",\"length\",\"length\",\"length\",\"length\",\"length\",\"length\",\"length\",\"length\",\"length\",\"length\",\"length\",\"length\",\"length\",\"length\",\"length\",\"length\",\"length\",\"length\",\"length\",\"length\",\"length\",\"length\",\"length\",\"length\",\"length\",\"length\",\"length\",\"length\",\"length\",\"length\",\"length\",\"length\",\"length\",\"length\",\"length\",\"length\",\"length\",\"length\",\"length\",\"length\",\"length\",\"length\",\"length\",\"length\",\"length\",\"length\",\"length\",\"length\",\"length\",\"length\",\"length\",\"length\",\"length\",\"length\",\"length\",\"length\",\"length\",\"length\",\"length\",\"length\",\"length\",\"length\",\"length\",\"length\",\"length\",\"length\",\"length\",\"length\",\"length\",\"length\",\"length\",\"length\",\"length\",\"length\",\"length\",\"length\",\"length\",\"length\",\"length\",\"length\",\"length\",\"length\",\"length\",\"length\",\"length\",\"length\",\"length\",\"length\",\"length\",\"length\",\"length\",\"length\",\"length\",\"length\",\"length\",\"length\",\"length\",\"length\",\"length\",\"length\",\"length\",\"length\",\"length\",\"length\",\"length\",\"length\",\"length\",\"length\",\"length\",\"length\",\"length\",\"length\",\"length\",\"length\",\"length\",\"length\",\"length\",\"length\",\"length\",\"length\",\"length\",\"length\",\"length\",\"length\",\"length\",\"length\",\"length\",\"length\",\"length\",\"length\",\"length\",\"length\",\"length\",\"length\",\"length\",\"length\",\"length\",\"length\",\"length\",\"length\",\"length\",\"length\",\"length\",\"length\",\"length\",\"length\",\"length\",\"length\",\"length\",\"length\",\"length\",\"length\",\"length\",\"length\",\"length\",\"length\",\"length\",\"length\",\"length\",\"length\",\"length\",\"length\",\"length\",\"length\",\"length\",\"length\",\"length\",\"length\",\"length\",\"length\",\"length\",\"length\",\"length\",\"length\",\"length\",\"length\",\"length\",\"length\",\"length\",\"length\",\"length\",\"length\",\"length\",\"length\",\"length\",\"length\",\"length\",\"length\",\"length\",\"length\",\"length\",\"length\",\"length\",\"length\",\"length\",\"length\",\"length\",\"length\",\"length\",\"length\",\"length\",\"length\",\"length\",\"length\",\"length\",\"length\",\"length\",\"length\",\"length\",\"length\",\"length\",\"length\",\"length\",\"length\",\"length\",\"length\",\"length\",\"length\",\"length\",\"length\",\"length\",\"length\",\"length\",\"length\",\"length\",\"length\",\"length\",\"length\",\"length\",\"length\",\"length\",\"length\",\"length\",\"length\",\"length\",\"length\",\"length\",\"length\",\"length\",\"length\",\"length\",\"length\",\"length\",\"length\",\"length\",\"length\",\"length\",\"length\",\"length\",\"length\",\"length\",\"length\",\"length\",\"length\",\"length\",\"length\",\"length\",\"length\",\"length\",\"length\",\"length\",\"length\",\"length\",\"length\",\"length\",\"length\",\"length\",\"length\",\"length\",\"length\",\"length\",\"length\",\"length\",\"length\",\"length\",\"length\",\"length\",\"length\",\"length\",\"length\",\"length\",\"length\",\"length\",\"length\",\"length\",\"length\",\"length\",\"length\",\"length\",\"length\",\"length\",\"length\",\"length\",\"length\",\"length\",\"length\",\"length\",\"length\",\"length\",\"length\",\"length\",\"length\",\"length\",\"length\",\"length\",\"length\",\"length\",\"length\",\"length\",\"length\",\"length\",\"length\",\"length\",\"length\",\"length\",\"length\",\"length\",\"length\",\"length\",\"length\",\"length\",\"length\",\"length\",\"length\",\"length\",\"length\",\"length\",\"length\",\"length\",\"length\",\"length\",\"length\",\"length\",\"length\",\"length\",\"length\",\"length\",\"length\",\"length\",\"length\",\"length\",\"length\",\"length\",\"length\",\"length\",\"length\",\"length\",\"length\",\"length\",\"length\",\"length\",\"length\",\"length\",\"length\",\"length\",\"length\",\"length\",\"length\",\"length\",\"length\",\"length\",\"length\",\"length\",\"length\",\"length\",\"length\",\"length\",\"length\",\"length\",\"length\",\"length\",\"length\",\"length\",\"length\",\"length\",\"length\",\"length\",\"length\",\"length\",\"length\",\"length\",\"length\",\"length\",\"length\",\"length\",\"length\",\"length\",\"length\",\"length\",\"length\",\"length\",\"length\",\"length\",\"length\",\"length\",\"length\",\"length\",\"length\",\"length\",\"length\",\"length\",\"length\",\"length\",\"length\",\"length\",\"length\",\"length\",\"length\",\"length\",\"length\",\"length\",\"length\",\"length\",\"length\",\"length\",\"length\",\"length\",\"length\",\"length\",\"length\",\"length\",\"length\",\"length\",\"length\",\"length\",\"length\",\"length\",\"length\",\"length\",\"length\",\"length\",\"length\",\"length\",\"length\",\"length\",\"length\",\"length\",\"length\",\"length\",\"length\",\"length\",\"length\",\"length\",\"length\",\"length\",\"length\",\"length\",\"length\",\"length\",\"length\",\"length\",\"length\",\"length\",\"length\",\"length\",\"length\",\"length\",\"length\",\"length\",\"length\",\"length\",\"length\",\"length\",\"length\",\"length\",\"length\",\"length\",\"length\",\"length\",\"length\",\"length\",\"length\",\"length\",\"length\",\"length\",\"length\",\"length\",\"length\",\"length\",\"length\",\"length\",\"length\",\"length\",\"length\",\"length\",\"length\",\"length\",\"length\",\"length\",\"length\",\"length\",\"length\",\"length\",\"length\",\"length\",\"length\",\"length\",\"length\",\"length\",\"length\",\"length\",\"length\",\"length\",\"length\",\"length\",\"length\",\"length\",\"length\",\"length\",\"length\",\"length\",\"length\",\"length\",\"length\",\"length\",\"length\",\"length\",\"length\",\"length\",\"length\",\"length\",\"length\",\"length\",\"length\",\"length\",\"length\",\"length\",\"length\",\"length\",\"length\",\"length\",\"length\",\"length\",\"length\",\"length\",\"length\",\"length\",\"length\",\"length\",\"length\",\"length\",\"length\",\"length\",\"length\",\"length\",\"length\",\"length\",\"length\",\"length\",\"length\",\"length\",\"length\",\"length\",\"length\",\"length\",\"length\",\"length\",\"length\",\"length\",\"length\",\"length\",\"length\",\"length\",\"length\",\"length\",\"length\",\"length\",\"length\",\"length\",\"length\",\"length\",\"length\",\"length\",\"length\",\"length\",\"length\",\"length\",\"length\",\"length\",\"length\",\"length\",\"length\",\"length\",\"length\",\"length\",\"length\",\"length\",\"length\",\"length\",\"length\",\"length\",\"length\",\"length\",\"length\",\"length\",\"length\",\"length\",\"length\",\"length\",\"length\",\"length\",\"length\",\"length\",\"length\",\"length\",\"length\",\"length\",\"length\",\"length\",\"length\",\"length\",\"length\",\"length\",\"length\",\"length\",\"length\",\"length\",\"length\",\"length\",\"length\",\"length\",\"length\",\"length\",\"length\",\"length\",\"length\",\"length\",\"length\",\"length\",\"length\",\"length\",\"length\",\"length\",\"length\",\"length\",\"length\",\"length\",\"length\",\"length\",\"length\",\"length\",\"length\",\"length\",\"length\",\"length\",\"length\",\"length\",\"length\",\"length\",\"length\",\"length\",\"length\",\"length\",\"length\",\"length\",\"length\",\"length\",\"length\",\"length\",\"length\",\"length\",\"length\",\"length\",\"length\",\"length\",\"length\",\"length\",\"length\",\"length\",\"length\",\"length\",\"length\",\"length\",\"length\",\"length\",\"length\",\"length\",\"length\",\"length\",\"length\",\"length\",\"length\",\"length\",\"length\",\"length\",\"length\",\"length\",\"length\",\"length\",\"length\",\"length\",\"length\",\"length\",\"length\",\"length\",\"length\",\"length\",\"length\",\"length\",\"length\",\"length\",\"length\",\"length\",\"length\",\"length\",\"length\",\"length\",\"length\",\"length\",\"length\",\"length\",\"length\",\"length\",\"length\",\"length\",\"length\",\"length\",\"length\",\"length\",\"length\",\"length\",\"length\",\"length\",\"length\",\"length\",\"length\",\"length\",\"length\",\"length\",\"length\",\"length\",\"length\",\"length\",\"length\",\"length\",\"length\",\"length\",\"length\",\"length\",\"length\",\"length\",\"length\",\"length\",\"length\",\"length\",\"length\",\"length\",\"length\",\"length\",\"length\",\"length\",\"length\",\"length\",\"length\",\"length\",\"length\",\"length\",\"length\",\"length\",\"length\",\"length\",\"length\",\"length\",\"length\",\"length\",\"length\",\"length\",\"length\",\"length\",\"length\",\"length\",\"length\",\"length\",\"length\",\"length\",\"length\",\"length\",\"length\",\"length\",\"length\",\"length\",\"length\",\"length\",\"length\",\"length\",\"length\",\"length\",\"length\",\"length\",\"length\",\"length\",\"length\",\"length\",\"length\",\"length\",\"length\",\"length\",\"length\",\"length\",\"length\",\"length\",\"length\",\"length\",\"length\",\"length\",\"length\",\"length\",\"length\",\"length\",\"length\",\"length\",\"length\",\"length\",\"length\",\"length\",\"length\",\"length\",\"length\",\"length\",\"length\",\"length\",\"length\",\"length\",\"length\",\"length\",\"length\",\"length\",\"length\",\"length\",\"length\",\"length\",\"length\",\"length\",\"length\",\"length\",\"length\",\"length\",\"length\",\"length\",\"length\",\"length\",\"length\",\"length\",\"length\",\"length\",\"length\",\"length\",\"length\",\"length\",\"length\",\"length\",\"length\",\"length\",\"length\",\"length\",\"length\",\"length\",\"length\",\"length\",\"length\",\"length\",\"length\",\"length\",\"length\",\"length\",\"length\",\"length\",\"length\",\"length\",\"length\",\"length\",\"length\",\"length\",\"length\",\"length\",\"length\",\"length\",\"length\",\"length\",\"length\",\"length\",\"length\",\"length\",\"length\",\"length\",\"length\",\"length\",\"length\",\"length\",\"length\",\"length\",\"length\",\"length\",\"length\",\"length\",\"length\",\"length\",\"length\",\"length\",\"length\",\"length\",\"length\",\"length\",\"length\",\"length\",\"length\",\"length\",\"length\",\"length\",\"length\",\"length\",\"length\",\"length\",\"length\",\"length\",\"length\",\"length\",\"length\",\"length\",\"length\",\"length\",\"length\",\"length\",\"length\",\"length\",\"length\",\"length\",\"length\",\"length\",\"length\",\"length\",\"length\",\"length\",\"length\",\"length\",\"length\",\"length\",\"length\",\"length\",\"length\",\"length\",\"length\",\"length\",\"length\",\"length\",\"length\",\"length\",\"length\",\"length\",\"length\",\"length\",\"length\",\"length\",\"length\",\"length\",\"length\",\"length\",\"length\",\"length\",\"length\",\"length\",\"length\",\"length\",\"length\",\"length\",\"length\",\"length\",\"length\",\"length\",\"length\",\"length\",\"length\",\"length\",\"length\",\"length\",\"length\",\"length\",\"length\",\"length\",\"length\",\"length\",\"length\",\"length\",\"length\",\"length\",\"length\",\"length\",\"length\",\"length\",\"length\",\"length\",\"length\",\"length\",\"length\",\"length\",\"length\",\"length\",\"length\",\"length\",\"length\",\"length\",\"length\",\"length\",\"length\",\"length\",\"length\",\"length\",\"length\",\"length\",\"length\",\"length\",\"length\",\"length\",\"length\",\"length\",\"length\",\"length\",\"length\",\"length\",\"length\",\"length\",\"length\",\"length\",\"length\",\"length\",\"length\",\"length\",\"length\",\"length\",\"length\",\"length\",\"length\",\"length\",\"length\",\"length\",\"length\",\"length\",\"length\",\"length\",\"length\",\"length\",\"length\",\"length\",\"length\",\"length\",\"length\",\"length\",\"length\",\"length\",\"length\",\"length\",\"length\",\"length\",\"length\",\"length\",\"length\",\"length\",\"length\",\"length\",\"length\",\"length\",\"length\",\"length\",\"length\",\"length\",\"length\",\"length\",\"length\",\"length\",\"length\",\"length\",\"length\",\"length\",\"length\",\"length\",\"length\",\"length\",\"length\",\"length\",\"length\",\"length\",\"length\",\"length\",\"length\",\"length\",\"length\",\"length\",\"length\",\"length\",\"length\",\"length\",\"length\",\"length\",\"length\",\"length\",\"length\",\"length\",\"length\",\"length\",\"length\",\"length\",\"length\",\"length\",\"length\",\"length\",\"length\",\"length\",\"length\",\"length\",\"length\",\"length\",\"length\",\"length\",\"length\",\"length\",\"length\",\"length\",\"length\",\"length\",\"length\",\"length\",\"length\",\"length\",\"length\",\"length\",\"length\",\"length\",\"length\",\"length\",\"length\",\"length\",\"length\",\"length\",\"length\",\"length\",\"length\",\"length\",\"length\",\"length\",\"length\",\"length\",\"length\",\"length\",\"length\",\"length\",\"length\",\"length\",\"length\",\"length\",\"length\",\"length\",\"length\",\"length\",\"length\",\"length\",\"length\",\"length\",\"length\",\"length\",\"length\",\"length\",\"length\",\"length\",\"length\",\"length\",\"length\",\"length\",\"length\",\"length\",\"length\",\"length\",\"length\",\"length\",\"length\",\"length\",\"length\",\"length\",\"length\",\"length\",\"length\",\"length\",\"length\",\"length\",\"length\",\"length\",\"length\",\"length\",\"length\",\"length\",\"length\",\"length\",\"length\",\"length\",\"length\",\"length\",\"length\",\"length\",\"length\",\"length\",\"length\",\"length\",\"length\",\"length\",\"length\",\"length\",\"length\",\"length\",\"length\",\"length\",\"length\",\"length\",\"length\",\"length\",\"length\",\"length\",\"length\",\"length\",\"length\",\"length\",\"length\",\"length\",\"length\",\"length\",\"length\",\"length\",\"length\",\"length\",\"length\",\"length\",\"length\",\"length\",\"length\",\"length\",\"length\",\"length\",\"length\",\"length\",\"length\",\"length\",\"length\",\"length\",\"length\",\"length\",\"length\",\"length\",\"length\",\"length\",\"length\",\"length\",\"length\",\"length\",\"length\",\"length\",\"length\",\"length\",\"length\",\"length\",\"length\",\"length\",\"length\",\"length\",\"length\",\"length\",\"length\",\"length\",\"length\",\"length\",\"length\",\"length\",\"length\",\"length\",\"length\",\"length\",\"length\",\"length\",\"length\",\"length\",\"length\",\"length\",\"length\",\"length\",\"length\",\"length\",\"length\",\"length\",\"length\",\"length\",\"length\",\"length\",\"length\",\"length\",\"length\",\"length\",\"length\",\"length\",\"length\",\"length\",\"length\",\"length\",\"length\",\"length\",\"length\",\"length\",\"length\",\"length\",\"length\",\"length\",\"length\",\"length\",\"length\",\"length\",\"length\",\"length\",\"length\",\"length\",\"length\",\"length\",\"length\",\"length\",\"length\",\"length\",\"length\",\"length\",\"length\",\"length\",\"length\",\"length\",\"length\",\"length\",\"length\",\"length\",\"length\",\"length\",\"length\",\"length\",\"length\",\"length\",\"length\",\"length\",\"length\",\"length\",\"length\",\"length\",\"length\",\"length\",\"length\",\"length\",\"length\",\"length\",\"length\",\"length\",\"length\",\"length\",\"length\",\"length\",\"length\",\"length\",\"length\",\"length\",\"length\",\"length\",\"length\",\"length\",\"length\",\"length\",\"length\",\"length\",\"length\",\"length\",\"length\",\"length\",\"length\",\"length\",\"length\",\"length\",\"length\",\"length\",\"length\",\"length\",\"length\",\"length\",\"length\",\"length\",\"length\",\"length\",\"length\",\"length\",\"length\",\"length\",\"length\",\"length\",\"length\",\"length\",\"length\",\"length\",\"length\",\"length\",\"length\",\"length\",\"length\",\"length\",\"length\",\"length\",\"length\",\"length\",\"length\",\"length\",\"length\",\"length\",\"length\",\"length\",\"length\",\"length\",\"length\",\"length\",\"length\",\"length\",\"length\",\"length\",\"length\",\"length\",\"length\",\"length\",\"length\",\"length\",\"length\",\"length\",\"length\",\"length\",\"length\",\"length\",\"length\",\"length\",\"length\",\"length\",\"length\",\"length\",\"length\",\"length\",\"length\",\"length\",\"length\",\"length\",\"length\",\"length\",\"length\",\"length\",\"length\",\"length\",\"length\",\"length\",\"length\",\"length\",\"length\",\"length\",\"length\",\"length\",\"length\",\"length\",\"length\",\"length\",\"length\",\"length\",\"length\",\"length\",\"length\",\"length\",\"length\",\"length\",\"length\",\"length\",\"length\",\"length\",\"length\",\"length\",\"length\",\"length\",\"length\",\"length\",\"length\",\"length\",\"length\",\"length\",\"length\",\"length\",\"length\",\"length\",\"length\",\"length\",\"length\",\"length\",\"length\",\"length\",\"length\",\"length\",\"length\",\"length\",\"length\",\"length\",\"length\",\"length\",\"length\",\"length\",\"length\",\"length\",\"length\",\"length\",\"length\",\"length\",\"length\",\"length\",\"length\",\"length\",\"length\",\"length\",\"length\",\"length\",\"length\",\"length\",\"length\",\"length\",\"length\",\"length\",\"length\",\"length\",\"length\",\"length\",\"length\",\"length\",\"length\",\"length\",\"length\",\"length\",\"length\",\"length\",\"length\",\"length\",\"length\",\"length\",\"length\",\"length\",\"length\",\"length\",\"length\",\"length\",\"length\",\"length\",\"length\",\"length\",\"length\",\"length\",\"length\",\"length\",\"length\",\"length\",\"length\",\"length\",\"length\",\"length\",\"length\",\"length\",\"length\",\"length\",\"length\",\"length\",\"length\",\"length\",\"length\",\"length\",\"length\",\"length\",\"length\",\"length\",\"length\",\"length\",\"length\",\"length\",\"length\",\"length\",\"length\",\"length\",\"length\",\"length\",\"length\",\"length\",\"length\",\"length\",\"length\",\"length\",\"length\",\"length\",\"length\",\"length\",\"length\",\"length\",\"length\",\"length\",\"length\",\"length\",\"length\",\"length\",\"length\",\"length\",\"length\",\"length\",\"length\",\"length\",\"length\",\"length\",\"length\",\"length\",\"length\",\"length\",\"length\",\"length\",\"length\",\"length\",\"length\",\"length\",\"length\",\"length\",\"length\",\"length\",\"length\",\"length\",\"length\",\"length\",\"length\",\"length\",\"length\",\"length\",\"length\",\"length\",\"length\",\"length\",\"length\",\"length\",\"length\",\"length\",\"length\",\"length\",\"length\",\"length\",\"length\",\"length\",\"length\",\"length\",\"length\",\"length\",\"length\",\"length\",\"length\",\"length\",\"length\",\"length\",\"length\",\"length\",\"length\",\"length\",\"length\",\"length\",\"length\",\"length\",\"length\",\"length\",\"length\",\"length\",\"length\",\"length\",\"length\",\"length\",\"length\",\"length\",\"length\",\"length\",\"length\",\"length\",\"length\",\"length\",\"length\",\"length\",\"length\",\"length\",\"length\",\"length\",\"length\",\"length\",\"length\",\"length\",\"length\",\"length\",\"length\",\"length\",\"length\",\"length\",\"length\",\"length\",\"length\",\"length\",\"length\",\"length\",\"length\",\"length\",\"length\",\"length\",\"length\",\"length\",\"length\",\"length\",\"length\",\"length\",\"length\",\"length\",\"length\",\"length\",\"length\",\"length\",\"length\",\"length\",\"length\",\"length\",\"length\",\"length\",\"length\",\"length\",\"length\",\"length\",\"length\",\"length\",\"length\",\"length\",\"length\",\"length\",\"length\",\"length\",\"length\",\"length\",\"length\",\"length\",\"length\",\"length\",\"length\",\"length\",\"length\",\"length\",\"length\",\"length\",\"length\",\"length\",\"length\",\"length\",\"length\",\"length\",\"length\",\"length\",\"length\",\"length\",\"length\",\"length\",\"length\",\"length\",\"length\",\"length\",\"length\",\"length\",\"length\",\"length\",\"length\",\"length\",\"length\",\"length\",\"length\",\"length\",\"length\",\"length\",\"length\",\"length\",\"length\",\"length\",\"length\",\"length\",\"length\",\"length\",\"length\",\"length\",\"length\",\"length\",\"length\",\"length\",\"length\",\"length\",\"length\",\"length\",\"length\",\"length\",\"length\",\"length\",\"length\",\"length\",\"length\",\"length\",\"length\",\"length\",\"length\",\"length\",\"length\",\"length\",\"length\",\"length\",\"length\",\"length\",\"length\",\"length\",\"length\",\"length\",\"length\",\"length\",\"length\",\"length\",\"length\",\"length\",\"length\",\"length\",\"length\",\"length\",\"length\",\"length\",\"length\",\"length\",\"length\",\"length\",\"length\",\"length\",\"length\",\"length\",\"length\",\"length\",\"length\",\"length\",\"length\",\"length\",\"length\",\"length\",\"length\",\"length\",\"length\",\"length\",\"length\",\"length\",\"length\",\"length\",\"length\",\"length\",\"length\",\"length\",\"length\",\"length\",\"length\",\"length\",\"length\",\"length\",\"length\",\"length\",\"length\",\"length\",\"length\",\"length\",\"length\",\"length\",\"length\",\"length\",\"length\",\"length\",\"length\",\"length\",\"length\",\"length\",\"length\",\"length\",\"length\",\"length\",\"length\",\"length\",\"length\",\"length\",\"length\",\"length\",\"length\",\"length\",\"length\",\"length\",\"length\",\"length\",\"length\",\"length\",\"length\",\"length\",\"length\",\"length\",\"length\",\"length\",\"length\",\"length\",\"length\",\"length\",\"length\",\"length\",\"length\",\"length\",\"length\",\"length\",\"length\",\"length\",\"length\",\"length\",\"length\",\"length\",\"length\",\"length\",\"length\",\"length\",\"length\",\"length\",\"length\",\"length\",\"length\",\"length\",\"length\",\"length\",\"length\",\"length\",\"length\",\"length\",\"length\",\"length\",\"length\",\"length\",\"length\",\"length\",\"length\",\"length\",\"length\",\"length\",\"length\",\"length\",\"length\",\"length\",\"length\",\"length\",\"length\",\"length\",\"length\",\"length\",\"length\",\"length\",\"length\",\"length\",\"length\",\"length\",\"length\",\"length\",\"length\",\"length\",\"length\",\"length\",\"length\",\"length\",\"length\",\"length\",\"length\",\"length\",\"length\",\"length\",\"length\",\"length\",\"length\",\"length\",\"length\",\"length\",\"length\",\"length\",\"length\",\"length\",\"length\",\"length\",\"length\",\"length\",\"length\",\"length\",\"length\",\"length\",\"length\",\"length\",\"length\",\"length\",\"length\",\"length\",\"length\",\"length\",\"length\",\"length\",\"length\",\"length\",\"length\",\"length\",\"length\",\"length\",\"length\",\"length\",\"length\",\"length\",\"length\",\"length\",\"length\",\"length\",\"length\",\"length\",\"length\",\"length\",\"length\",\"length\",\"length\",\"length\",\"length\",\"length\",\"length\",\"length\",\"length\",\"length\",\"length\",\"length\",\"length\",\"length\",\"length\",\"length\",\"length\",\"length\",\"length\",\"length\",\"length\",\"length\",\"length\",\"length\",\"length\",\"length\",\"length\",\"length\",\"length\",\"length\",\"length\",\"length\",\"length\",\"length\",\"length\",\"length\",\"length\",\"length\",\"length\",\"length\",\"length\",\"length\",\"length\",\"length\",\"length\",\"length\",\"length\",\"length\",\"length\",\"length\",\"length\",\"length\",\"length\",\"length\",\"length\",\"length\",\"length\",\"length\",\"length\",\"length\",\"length\",\"length\",\"length\",\"length\",\"length\",\"length\",\"length\",\"length\",\"length\",\"length\",\"length\",\"length\",\"length\",\"length\",\"length\",\"length\",\"length\",\"length\",\"length\",\"length\",\"length\",\"length\",\"length\",\"length\",\"length\",\"length\",\"length\",\"length\",\"length\",\"length\",\"length\",\"length\",\"length\",\"length\",\"length\",\"length\",\"length\",\"length\",\"length\",\"length\",\"length\",\"length\",\"length\",\"length\",\"length\",\"length\",\"length\",\"length\",\"length\",\"length\",\"length\",\"length\",\"length\",\"length\",\"length\",\"length\",\"length\",\"length\",\"length\",\"length\",\"length\",\"length\",\"length\",\"length\",\"length\",\"length\",\"length\",\"length\",\"length\",\"length\",\"length\",\"length\",\"length\",\"length\",\"length\",\"length\",\"length\",\"length\",\"length\",\"length\",\"length\",\"length\",\"length\",\"length\",\"length\",\"length\",\"length\",\"length\",\"length\",\"length\",\"length\",\"length\",\"length\",\"length\",\"length\",\"length\",\"length\",\"length\",\"length\",\"length\",\"length\",\"length\",\"length\",\"length\",\"length\",\"length\",\"length\",\"length\",\"length\",\"length\",\"length\",\"length\",\"length\",\"length\",\"length\",\"length\",\"length\",\"length\",\"length\",\"length\",\"length\",\"length\",\"length\",\"length\",\"length\",\"length\",\"length\",\"length\",\"length\",\"length\",\"length\",\"length\",\"length\",\"length\",\"length\",\"length\",\"length\",\"length\",\"length\",\"length\",\"length\",\"length\",\"length\",\"length\",\"length\",\"length\",\"length\",\"length\",\"length\",\"length\",\"length\",\"length\",\"length\",\"length\",\"length\",\"length\",\"length\",\"length\",\"length\",\"length\",\"length\",\"length\",\"length\",\"length\",\"length\",\"length\",\"length\",\"length\",\"length\",\"length\",\"length\",\"length\",\"length\",\"length\",\"length\",\"length\",\"length\",\"length\",\"length\",\"length\",\"length\",\"length\",\"length\",\"length\",\"length\",\"length\",\"length\",\"length\",\"length\",\"length\",\"length\",\"length\",\"length\",\"length\",\"length\",\"length\",\"length\",\"length\",\"length\",\"length\",\"length\",\"length\",\"length\",\"length\",\"length\",\"length\",\"length\",\"length\",\"length\",\"length\",\"length\",\"length\",\"length\",\"length\",\"length\",\"length\",\"length\",\"length\",\"length\",\"length\",\"length\",\"length\",\"length\",\"length\",\"length\",\"length\",\"length\",\"length\",\"length\",\"length\",\"length\",\"length\",\"length\",\"length\",\"length\",\"length\",\"length\",\"length\",\"length\",\"length\",\"length\",\"length\",\"length\",\"length\",\"length\",\"length\",\"length\",\"length\",\"length\",\"length\",\"length\",\"length\",\"length\",\"length\",\"length\",\"length\",\"length\",\"length\",\"length\",\"length\",\"length\",\"length\",\"length\",\"length\",\"length\",\"length\",\"length\",\"length\",\"length\",\"length\",\"length\",\"length\",\"length\",\"length\",\"length\",\"length\",\"length\",\"length\",\"length\",\"length\",\"length\",\"length\",\"length\",\"length\",\"length\",\"length\",\"length\",\"length\",\"length\",\"length\",\"length\",\"length\",\"length\",\"length\",\"length\",\"length\",\"length\",\"length\",\"length\",\"length\",\"length\",\"length\",\"length\",\"length\",\"length\",\"length\",\"length\",\"length\",\"length\",\"length\",\"length\",\"length\",\"length\",\"length\",\"length\",\"length\",\"length\",\"length\",\"length\",\"length\",\"length\",\"length\",\"length\",\"length\",\"length\",\"length\",\"length\",\"length\",\"length\",\"length\",\"length\",\"length\",\"length\",\"length\",\"length\",\"length\",\"length\",\"length\",\"length\",\"length\",\"length\",\"length\",\"length\",\"length\",\"length\",\"length\",\"length\",\"length\",\"length\",\"length\",\"length\",\"length\",\"length\",\"length\",\"length\",\"length\",\"length\",\"length\",\"length\",\"length\",\"length\",\"length\",\"length\",\"length\",\"length\",\"length\",\"length\",\"length\",\"length\",\"length\",\"length\",\"length\",\"length\",\"length\",\"length\",\"length\",\"length\",\"length\",\"length\",\"length\",\"length\",\"length\",\"length\",\"length\",\"length\",\"length\",\"length\",\"length\",\"length\",\"length\",\"length\",\"length\",\"length\",\"length\",\"length\",\"length\",\"length\",\"length\",\"length\",\"length\",\"length\",\"length\",\"length\",\"length\",\"length\",\"length\",\"length\",\"length\",\"length\",\"length\",\"length\",\"length\",\"length\",\"length\",\"length\",\"length\",\"length\",\"length\",\"length\",\"length\",\"length\",\"length\",\"length\",\"length\",\"length\",\"length\",\"length\",\"length\",\"length\",\"length\",\"length\",\"length\",\"length\",\"length\",\"length\",\"length\",\"length\",\"length\",\"length\",\"length\",\"length\",\"length\",\"length\",\"length\",\"length\",\"length\",\"length\",\"length\",\"length\",\"length\",\"length\",\"length\",\"length\",\"length\",\"length\",\"length\",\"length\",\"length\",\"length\",\"length\",\"length\",\"length\",\"length\",\"length\",\"length\",\"length\",\"length\",\"length\",\"length\",\"length\",\"length\",\"length\",\"length\",\"length\",\"length\",\"length\",\"length\",\"length\",\"length\",\"length\",\"length\",\"length\",\"length\",\"length\",\"length\",\"length\",\"length\",\"length\",\"length\",\"length\",\"length\",\"length\",\"length\",\"length\",\"length\",\"length\",\"length\",\"length\",\"length\",\"length\",\"length\",\"length\",\"length\",\"length\",\"length\",\"length\",\"length\",\"length\",\"length\",\"length\",\"length\",\"length\",\"length\",\"length\",\"length\",\"length\",\"length\",\"length\",\"length\",\"length\",\"length\",\"length\",\"length\",\"length\",\"length\",\"length\",\"length\",\"length\",\"length\",\"length\",\"length\",\"length\",\"length\",\"length\",\"length\",\"length\",\"length\",\"length\",\"length\",\"length\",\"length\",\"length\",\"length\",\"length\",\"length\",\"length\",\"length\",\"length\",\"length\",\"length\",\"length\",\"length\",\"length\",\"length\",\"length\",\"length\",\"length\",\"length\",\"length\",\"length\",\"length\",\"length\",\"length\",\"length\",\"length\",\"length\",\"length\",\"length\",\"length\",\"length\",\"length\",\"length\",\"length\",\"length\",\"length\",\"length\",\"length\",\"length\",\"length\",\"length\",\"length\",\"length\",\"length\",\"length\",\"length\",\"length\",\"length\",\"length\",\"length\",\"length\",\"length\",\"length\",\"length\",\"length\",\"length\",\"length\",\"length\",\"length\",\"length\",\"length\",\"length\",\"length\",\"length\",\"length\",\"length\",\"length\",\"length\",\"length\",\"length\",\"length\",\"length\",\"length\",\"length\",\"length\",\"length\",\"length\",\"length\",\"length\",\"length\",\"length\",\"length\",\"length\",\"length\",\"length\",\"length\",\"length\",\"length\",\"length\",\"length\",\"length\",\"length\",\"length\",\"length\",\"length\",\"length\",\"length\",\"length\",\"length\",\"length\",\"length\",\"length\",\"length\",\"length\",\"length\",\"length\",\"length\",\"length\",\"length\",\"length\",\"length\",\"length\",\"length\",\"length\",\"length\",\"length\",\"length\",\"length\",\"length\",\"length\",\"length\",\"length\",\"length\",\"length\",\"length\",\"length\",\"length\",\"length\",\"length\",\"length\",\"length\",\"length\",\"length\",\"length\",\"length\",\"length\",\"length\",\"length\",\"length\",\"length\",\"length\",\"length\",\"length\",\"length\",\"length\",\"length\",\"length\",\"length\",\"length\",\"length\",\"length\",\"length\",\"length\",\"length\",\"length\",\"length\",\"length\",\"length\",\"length\",\"length\",\"length\",\"length\",\"length\",\"length\",\"length\",\"length\",\"length\",\"length\",\"length\",\"length\",\"length\",\"length\",\"length\",\"length\",\"length\",\"length\",\"length\",\"length\",\"length\",\"length\",\"length\",\"length\",\"length\",\"length\",\"length\",\"length\",\"length\",\"length\",\"length\",\"length\",\"length\",\"length\",\"length\",\"length\",\"length\",\"length\",\"length\",\"length\",\"length\",\"length\",\"length\",\"length\",\"length\",\"length\",\"length\",\"length\",\"length\",\"length\",\"length\",\"length\",\"length\",\"length\",\"length\",\"length\",\"length\",\"length\",\"length\",\"length\",\"length\",\"length\",\"length\",\"length\",\"length\",\"length\",\"length\",\"length\",\"length\",\"length\",\"length\",\"length\",\"length\",\"length\",\"length\",\"length\",\"length\",\"length\",\"length\",\"length\",\"length\",\"length\",\"length\",\"length\",\"length\",\"length\",\"length\",\"length\",\"length\",\"length\",\"length\",\"length\",\"length\",\"length\",\"length\",\"length\",\"length\",\"length\",\"length\",\"length\",\"length\",\"length\",\"length\",\"length\",\"length\",\"length\",\"length\",\"length\",\"length\",\"length\",\"length\",\"length\",\"length\",\"length\",\"length\",\"length\",\"length\",\"length\",\"length\",\"length\",\"length\",\"length\",\"length\",\"length\",\"length\",\"length\",\"length\",\"length\",\"length\",\"length\",\"length\",\"length\",\"length\",\"length\",\"length\",\"length\",\"length\",\"length\",\"length\",\"length\",\"length\",\"length\",\"length\",\"length\",\"length\",\"length\",\"length\",\"length\",\"length\",\"length\",\"length\",\"length\",\"length\",\"length\",\"length\",\"length\",\"length\",\"length\",\"length\",\"length\",\"length\",\"length\",\"length\",\"length\",\"length\",\"length\",\"length\",\"length\",\"length\",\"length\",\"length\",\"length\",\"length\",\"length\",\"length\",\"length\",\"length\",\"length\",\"length\",\"length\",\"length\",\"length\",\"length\",\"length\",\"length\",\"length\",\"length\",\"length\",\"length\",\"length\",\"length\",\"length\",\"length\",\"length\",\"length\",\"length\",\"length\",\"length\",\"length\",\"length\",\"length\",\"length\",\"length\",\"length\",\"length\",\"length\",\"length\",\"length\",\"length\",\"length\",\"length\",\"length\",\"length\",\"length\",\"length\",\"length\",\"length\",\"length\",\"length\",\"length\",\"length\",\"length\",\"length\",\"length\",\"length\",\"length\",\"length\",\"length\",\"length\",\"length\",\"length\",\"length\",\"length\",\"length\",\"length\",\"length\",\"length\",\"length\",\"length\",\"length\",\"length\",\"length\",\"length\",\"length\",\"length\",\"length\",\"length\",\"length\",\"length\",\"length\",\"length\",\"length\",\"length\",\"length\",\"length\",\"length\",\"length\",\"length\",\"length\",\"length\",\"length\",\"length\",\"length\",\"length\",\"length\",\"length\",\"length\",\"length\",\"length\",\"length\",\"length\",\"length\",\"length\",\"length\",\"length\",\"length\",\"length\",\"length\",\"length\",\"length\",\"length\",\"length\",\"length\",\"length\",\"length\",\"length\",\"length\",\"length\",\"length\",\"length\",\"length\",\"length\",\"length\",\"length\",\"length\",\"length\",\"length\",\"length\",\"length\",\"length\",\"length\",\"length\",\"length\",\"length\",\"length\",\"length\",\"length\",\"length\",\"length\",\"length\",\"length\",\"length\",\"length\",\"length\",\"length\",\"length\",\"length\",\"length\",\"length\",\"length\",\"length\",\"length\",\"length\",\"length\",\"length\",\"length\",\"length\",\"length\",\"length\",\"length\",\"length\",\"length\",\"length\",\"length\",\"length\",\"length\",\"length\",\"length\",\"length\",\"length\",\"length\",\"length\",\"length\",\"length\",\"length\",\"length\",\"length\",\"length\",\"length\",\"length\",\"length\",\"length\",\"length\",\"length\",\"length\",\"length\",\"length\",\"length\",\"length\",\"length\",\"length\",\"length\",\"length\",\"length\",\"length\",\"length\",\"length\",\"length\",\"length\",\"length\",\"length\",\"length\",\"length\",\"length\",\"length\",\"length\",\"length\",\"length\",\"length\",\"length\",\"length\",\"length\",\"length\",\"length\",\"length\",\"length\",\"length\",\"length\",\"length\",\"length\",\"length\",\"length\",\"length\",\"length\",\"length\",\"length\",\"length\",\"length\",\"length\",\"length\",\"length\",\"length\",\"length\",\"length\",\"length\",\"length\",\"length\",\"length\",\"length\",\"length\",\"length\",\"length\",\"length\",\"length\",\"length\",\"length\",\"length\",\"length\",\"length\",\"length\",\"length\",\"length\",\"length\",\"length\",\"length\",\"length\",\"length\",\"length\",\"length\",\"length\",\"length\",\"length\",\"length\",\"length\",\"length\",\"length\",\"length\",\"length\",\"length\",\"length\",\"length\",\"length\",\"length\",\"length\",\"length\",\"length\",\"length\",\"length\",\"length\",\"length\",\"length\",\"length\",\"length\",\"length\",\"length\",\"length\",\"length\",\"length\",\"length\",\"length\",\"length\",\"length\",\"length\",\"length\",\"length\",\"length\",\"length\",\"length\",\"length\",\"length\",\"length\",\"length\",\"length\",\"length\",\"length\",\"length\",\"length\",\"length\",\"length\",\"length\",\"length\",\"length\",\"length\",\"length\",\"length\",\"length\",\"length\",\"length\",\"length\",\"length\",\"length\",\"length\",\"length\",\"length\",\"length\",\"length\",\"length\",\"length\",\"length\",\"length\",\"length\",\"length\",\"length\",\"length\",\"length\",\"length\",\"length\",\"length\",\"length\",\"length\",\"length\",\"length\",\"length\",\"length\",\"length\",\"length\",\"length\",\"length\",\"length\",\"length\",\"length\",\"length\",\"length\",\"length\",\"length\",\"length\",\"length\",\"length\",\"length\",\"length\",\"length\",\"length\",\"length\",\"length\",\"length\",\"length\",\"length\",\"length\",\"length\",\"length\",\"length\",\"length\",\"length\",\"length\",\"length\",\"length\",\"length\",\"length\",\"length\",\"length\",\"length\",\"length\",\"length\",\"length\",\"length\",\"length\",\"length\",\"length\",\"length\",\"length\",\"length\",\"length\",\"length\",\"length\",\"length\",\"length\",\"length\",\"length\",\"length\",\"length\",\"length\",\"length\",\"length\",\"length\",\"length\",\"length\",\"length\",\"length\",\"length\",\"length\",\"length\",\"length\",\"length\",\"length\",\"length\",\"length\",\"length\",\"length\",\"length\",\"length\",\"length\",\"length\",\"length\",\"length\",\"length\",\"length\",\"length\",\"length\",\"length\",\"length\",\"length\",\"length\",\"length\",\"length\",\"length\",\"length\",\"length\",\"length\",\"length\",\"length\",\"length\",\"length\",\"length\",\"length\",\"length\",\"length\",\"length\",\"length\",\"length\",\"length\",\"length\",\"length\",\"length\",\"length\",\"length\",\"length\",\"length\",\"length\",\"length\",\"length\",\"length\",\"length\",\"length\",\"length\",\"length\",\"length\",\"length\",\"length\",\"length\",\"length\",\"length\",\"length\",\"length\",\"length\",\"length\",\"length\",\"length\",\"length\",\"length\",\"length\",\"length\",\"length\",\"length\",\"length\",\"length\",\"length\",\"length\",\"length\",\"length\",\"length\",\"length\",\"length\",\"length\",\"length\",\"length\",\"length\",\"length\",\"length\",\"length\",\"length\",\"length\",\"length\",\"length\",\"length\",\"length\",\"length\",\"length\",\"length\",\"length\",\"length\",\"length\",\"length\",\"length\",\"length\",\"length\",\"length\",\"length\",\"length\",\"length\",\"length\",\"length\",\"length\",\"length\",\"length\",\"length\",\"length\",\"length\",\"length\",\"length\",\"length\",\"length\",\"length\",\"length\",\"length\",\"length\",\"length\",\"length\",\"length\",\"length\",\"length\",\"length\",\"length\",\"length\",\"length\",\"length\",\"length\",\"length\",\"length\",\"length\",\"length\",\"length\",\"length\",\"length\",\"length\",\"length\",\"length\",\"length\",\"length\",\"length\",\"length\",\"length\",\"length\",\"length\",\"length\",\"length\",\"length\",\"length\",\"length\",\"length\",\"length\",\"length\",\"length\",\"length\",\"length\",\"length\",\"length\",\"length\",\"length\",\"length\",\"length\",\"length\",\"length\",\"length\",\"length\",\"length\",\"length\",\"length\",\"length\",\"length\",\"length\",\"length\",\"length\",\"length\",\"length\",\"length\",\"length\",\"length\",\"length\",\"length\",\"length\",\"length\",\"length\",\"length\",\"length\",\"length\",\"length\",\"length\",\"length\",\"length\",\"length\",\"length\",\"length\",\"length\",\"length\",\"length\",\"length\",\"length\",\"length\",\"length\",\"length\",\"length\",\"length\",\"length\",\"length\",\"length\",\"length\",\"length\",\"length\",\"length\",\"length\",\"length\",\"length\",\"length\",\"length\",\"length\",\"length\",\"length\",\"length\",\"length\",\"length\",\"length\",\"length\",\"length\",\"length\",\"length\",\"length\",\"length\",\"length\",\"length\",\"length\",\"length\",\"length\",\"length\",\"length\",\"length\",\"length\",\"length\",\"length\",\"length\",\"length\",\"length\",\"length\",\"length\",\"length\",\"length\",\"length\",\"length\",\"length\",\"length\",\"length\",\"length\",\"length\",\"length\",\"length\",\"length\",\"length\",\"length\",\"length\",\"length\",\"length\",\"length\",\"length\",\"length\",\"length\",\"length\",\"length\",\"length\",\"length\",\"length\",\"length\",\"length\",\"length\",\"length\",\"length\",\"length\",\"length\",\"length\",\"length\",\"length\",\"length\",\"length\",\"length\",\"length\",\"length\",\"length\",\"length\",\"length\",\"length\",\"length\",\"length\",\"length\",\"length\",\"length\",\"length\",\"length\",\"length\",\"length\",\"length\",\"length\",\"length\",\"length\",\"length\",\"length\",\"length\",\"length\",\"length\",\"length\",\"length\",\"length\",\"length\",\"length\",\"length\",\"length\",\"length\",\"length\",\"length\",\"length\",\"length\",\"length\",\"length\",\"length\",\"length\",\"length\",\"length\",\"length\",\"length\",\"length\",\"length\",\"length\",\"length\",\"length\",\"length\",\"length\",\"length\",\"length\",\"length\",\"length\",\"length\",\"length\",\"length\",\"length\",\"length\",\"length\",\"length\",\"length\",\"length\",\"length\",\"length\",\"length\",\"length\",\"length\",\"length\",\"length\",\"length\",\"length\",\"length\",\"length\",\"length\",\"length\",\"length\",\"length\",\"length\",\"length\",\"length\",\"length\",\"length\",\"length\",\"length\",\"length\",\"length\",\"length\",\"length\",\"length\",\"length\",\"length\",\"length\",\"length\",\"length\",\"length\",\"length\",\"length\",\"length\",\"length\",\"length\",\"length\",\"length\",\"length\",\"length\",\"length\",\"length\",\"length\",\"length\",\"length\",\"length\",\"length\",\"length\",\"length\",\"length\",\"length\",\"length\",\"length\",\"length\",\"length\",\"length\",\"length\",\"length\",\"length\",\"length\",\"length\",\"length\",\"length\",\"length\",\"length\",\"length\",\"length\",\"length\",\"length\",\"length\",\"length\",\"length\",\"length\",\"length\",\"length\",\"length\",\"length\",\"length\",\"length\",\"length\",\"length\",\"length\",\"length\",\"length\",\"length\",\"length\",\"length\",\"length\",\"length\",\"length\",\"length\",\"length\",\"length\",\"length\",\"length\",\"length\",\"length\",\"length\",\"length\",\"length\",\"length\",\"length\",\"length\",\"length\",\"length\",\"length\",\"length\",\"length\",\"length\",\"length\",\"length\",\"length\",\"length\",\"length\",\"length\",\"length\",\"length\",\"length\",\"length\",\"length\",\"length\",\"length\",\"length\",\"length\",\"length\",\"length\",\"length\",\"length\",\"length\",\"length\",\"length\",\"length\",\"length\",\"length\",\"length\",\"length\",\"length\",\"length\",\"length\",\"length\",\"length\",\"length\",\"length\",\"length\",\"length\",\"length\",\"length\",\"length\",\"length\",\"length\",\"length\",\"length\",\"length\",\"length\",\"length\",\"length\",\"length\",\"length\",\"length\",\"length\",\"length\",\"length\",\"length\",\"length\",\"length\",\"length\",\"length\",\"length\",\"length\",\"length\",\"length\",\"length\",\"length\",\"length\",\"length\",\"length\",\"length\",\"length\",\"length\",\"length\",\"length\",\"length\",\"length\",\"length\",\"length\",\"length\",\"length\",\"length\",\"length\",\"length\",\"length\",\"length\",\"length\",\"length\",\"length\",\"length\",\"length\",\"length\",\"length\",\"length\",\"length\",\"length\",\"length\",\"length\",\"length\",\"length\",\"length\",\"length\",\"length\",\"length\",\"length\",\"length\",\"length\",\"length\",\"length\",\"length\",\"length\",\"length\",\"length\",\"length\",\"length\",\"length\",\"length\",\"length\",\"length\",\"length\",\"length\",\"length\",\"length\",\"length\",\"length\",\"length\",\"length\",\"length\",\"length\",\"length\",\"length\",\"length\",\"length\",\"length\",\"length\",\"length\",\"length\",\"length\",\"length\",\"length\",\"length\",\"length\",\"length\",\"length\",\"length\",\"length\",\"length\",\"length\",\"length\",\"length\",\"length\",\"length\",\"length\",\"length\",\"length\",\"length\",\"length\",\"length\",\"length\",\"length\",\"length\",\"length\",\"length\",\"length\",\"length\",\"length\",\"length\",\"length\",\"length\",\"length\",\"length\",\"length\",\"length\",\"length\",\"length\",\"length\",\"length\",\"length\",\"length\",\"length\",\"length\",\"length\",\"length\",\"length\",\"length\",\"length\",\"length\",\"length\",\"length\",\"length\",\"length\",\"length\",\"length\",\"length\",\"length\",\"length\",\"length\",\"length\",\"length\",\"length\",\"length\",\"length\",\"length\",\"length\",\"length\",\"length\",\"length\",\"length\",\"length\",\"length\",\"length\",\"length\",\"length\",\"length\",\"length\",\"length\",\"length\",\"length\",\"length\",\"length\",\"length\",\"length\",\"length\",\"length\",\"length\",\"length\",\"length\",\"length\",\"length\",\"length\",\"length\",\"length\",\"length\",\"length\",\"length\",\"length\",\"length\",\"length\",\"length\",\"length\",\"length\",\"length\",\"length\",\"length\",\"length\",\"length\",\"length\",\"length\",\"length\",\"length\",\"length\",\"length\",\"length\",\"length\",\"length\",\"length\",\"length\",\"length\",\"length\",\"length\",\"length\",\"length\",\"length\",\"length\",\"length\",\"length\",\"length\",\"length\",\"length\",\"length\",\"length\",\"length\",\"length\",\"length\",\"length\",\"length\",\"length\",\"length\",\"length\",\"length\",\"length\",\"length\",\"length\",\"length\",\"length\",\"length\",\"length\",\"length\",\"length\",\"length\",\"length\",\"length\",\"length\"],\"x0\":\" \",\"xaxis\":\"x\",\"y\":[573,1139,855,1073,991,1485,1333,1262,734,1295,1476,781,1240,1544,897,1233,1360,1700,1532,1188,1118,1117,1139,662,1101,1106,1769,905,1406,1517,1564,957,1142,1318,1035,356,1475,1505,1422,1658,1536,1416,1032,1394,975,1555,1567,1486,1670,1087,1463,1403,1334,1436,1258,964,1297,1267,1318,1240,1086,1470,1010,1566,429,1628,1223,1675,1401,1152,1754,944,1277,1046,1366,1098,1547,1144,1620,1704,926,1286,1601,1170,956,814,1308,807,834,1467,1334,1501,1000,480,889,1501,1350,1169,1200,1209,1209,1114,1026,776,1034,1407,1191,1495,756,1198,1580,1558,1483,687,1349,1318,1285,1609,1086,1049,1606,454,1270,1054,1009,1227,966,1501,1090,1297,1010,1625,1552,1023,1559,1128,1362,1376,1176,1334,1225,884,866,1261,1431,1270,1103,698,1448,642,1383,1635,1278,1199,1021,362,1353,695,731,675,1378,1159,1008,1256,1350,1190,1431,962,1245,1535,449,1089,537,1434,1200,828,1203,1189,1140,1216,1442,937,1601,1091,1553,1456,366,1224,1225,1479,1248,1199,974,781,1565,1190,758,1328,1565,1234,857,846,1357,1009,454,979,1430,998,1111,869,1389,1071,1270,546,584,1378,1172,1315,828,1043,1088,1045,1359,1014,668,923,1494,854,1183,1244,1305,1552,886,1567,790,1433,570,1350,1437,1412,1278,1148,1508,1287,1422,1266,1170,1433,1277,1612,1717,1181,1412,1378,1094,1270,1624,1150,1315,693,1316,578,1217,1506,1420,1239,1424,1607,605,1487,1481,1375,823,1239,1232,364,1353,1498,1578,1407,1153,1477,932,1388,1639,918,1156,1227,1450,1332,1345,1539,1306,1091,1331,1577,1226,631,826,1441,1660,1518,1487,1395,1304,801,1236,1310,1082,1405,1468,1602,1611,1132,1394,1378,1612,1136,1205,1692,1419,1180,1099,1477,1326,975,1394,579,1741,1546,1379,1358,1280,1405,1357,1543,1149,1510,1214,1227,1143,1358,1574,1117,1497,1557,1012,753,1142,1221,1577,1015,1373,1362,1267,669,789,1321,1134,1298,1398,1456,993,1443,1639,1723,1291,1464,1416,1400,1467,1463,1544,1545,755,756,1358,1402,1279,276,1442,1749,9,1514,205,1463,1072,1419,1574,1069,1213,884,1101,1074,1025,1254,1384,921,1551,1284,1538,1340,1575,1408,1180,829,1398,377,1411,1327,1395,1334,1284,1272,1376,1481,1224,1550,1121,1046,1299,1490,954,948,1576,1190,879,1176,1070,424,244,840,1203,1331,1286,1569,1045,1475,937,1281,1317,1356,1226,885,1232,1528,1306,1077,1648,1427,1368,1311,1363,1144,826,949,1280,1133,1263,1099,1396,1005,1583,989,1511,968,1498,1106,1137,474,1220,1048,1358,1550,1307,1590,1412,1377,1327,1586,1417,1635,871,1230,978,1516,1611,1525,1246,1046,1286,931,1581,1509,1193,1441,987,680,1523,1168,865,1474,1269,1530,1494,1072,1351,1615,835,944,1419,1135,1533,874,1650,1633,1440,1355,820,1433,1172,504,1334,1103,1633,984,1392,1357,1013,1255,1041,1204,1096,1600,1053,1612,1048,526,1050,996,1168,1547,1246,1264,1198,938,1130,1200,1439,1425,1341,1214,1333,919,1140,1407,1479,1645,1221,1577,1205,1345,1157,1099,1247,1427,1077,731,1544,1304,1622,1351,1026,1048,1582,1464,1496,1339,1152,1277,987,1645,1245,587,1052,1531,1530,758,1066,1421,1548,1414,1432,845,1481,835,952,934,1467,1046,1516,590,1637,646,1553,1613,1325,1461,646,1576,1601,1266,1119,1362,1239,1079,1775,996,1136,888,1285,1384,1420,1218,1392,1135,782,1167,1087,1340,1014,1534,921,1425,791,564,1519,1597,1409,1161,1341,950,1348,1481,1732,547,1114,1331,395,739,1655,1312,1281,1444,1509,1385,1474,1117,1457,1255,1225,1632,1374,1455,1481,311,926,962,1306,1464,1149,1292,1315,1264,1349,1254,1280,640,1457,1503,1231,1298,1193,941,918,1280,391,1193,1098,1256,1048,1224,1189,1163,1126,1285,1264,847,1496,1283,1074,1148,984,503,1742,1243,1667,1195,993,1285,1477,1287,974,1293,1558,647,1545,1142,1128,1419,1777,945,1397,1398,1463,738,524,1510,1348,1484,1553,1201,1114,1160,1072,1344,189,1549,1441,1215,829,1193,1619,1396,635,1213,1062,1345,1614,1420,982,1313,816,555,1155,1182,864,1307,1463,1170,1016,1304,1518,1429,1012,1131,459,974,1497,1327,1482,1607,1586,785,39,1082,1314,1450,1554,1222,1337,1375,1478,1217,1336,1337,1261,1446,1510,1198,1201,1417,1452,1559,1053,1522,1519,888,1361,1642,1265,1362,1467,1391,1401,1589,918,727,1216,1303,1520,1244,1471,1364,1255,1320,1523,942,982,939,1477,1398,1507,1102,1616,1443,1061,1532,1429,1416,1205,1449,1263,839,1259,973,1150,1503,1259,1237,1084,1544,1465,1360,614,1213,1074,1351,1186,1015,840,1277,1283,657,788,1485,1356,1084,1139,1335,1273,1668,1087,1454,993,459,1195,1382,1350,1511,366,1325,576,343,1664,1455,1253,1229,1073,1661,1458,1324,831,1334,1019,1070,1178,1077,995,1027,1180,1264,1422,1341,1270,1602,1471,1673,1315,1245,748,1225,1252,1205,1307,1605,1555,1397,1366,971,1441,1449,1173,1383,1335,1209,1182,1538,1234,1700,930,1305,751,957,1603,944,1684,1334,1414,1550,1032,1445,1044,926,1146,1335,1084,876,966,1292,1073,854,1013,947,1209,1421,1446,1461,1193,1505,927,1514,1055,1408,548,1228,1560,1198,1674,1352,896,1609,1238,1575,222,974,1227,1298,1423,1168,1407,1591,1240,1126,949,1059,1590,1217,1030,1359,857,1338,1301,1206,1041,1494,1631,1565,895,1306,1532,1604,1364,1351,1261,815,1234,1212,1322,834,1419,1082,1350,855,1534,1341,1300,1341,1131,766,1429,1353,1255,1305,499,1525,1606,1475,1042,1670,1268,1342,568,1389,971,1145,1244,1521,1194,1365,75,1287,1044,1434,787,1592,1428,1299,1517,1514,1409,1324,1515,1475,1339,1386,1211,1570,780,285,1058,1492,880,1355,701,410,1559,560,1505,1306,1524,1594,1438,1708,799,1706,962,864,1457,1342,1534,1461,1612,1229,1304,1103,1059,1230,1299,1266,1244,1203,747,1265,775,1456,1012,1250,368,1534,1234,1186,1373,1454,1597,1314,1482,1522,1555,557,1345,1651,627,1504,1585,1485,1348,1144,1530,1002,627,1496,898,1387,1461,1285,483,1577,971,962,1446,1040,1485,1117,1398,1331,847,1546,1666,1341,1309,1427,1331,1364,1377,1675,421,1386,877,696,1638,536,1046,1068,1270,1444,1273,1613,1164,995,1106,1280,661,525,1638,1098,1290,699,1021,1352,1014,1596,1275,974,1398,1543,641,1245,1487,1044,1284,750,1270,911,926,1585,1191,1130,1495,1615,672,850,801,1596,1356,1223,1338,950,1307,1246,1079,1367,1394,1432,1155,805,883,1497,1103,1258,1149,1574,1019,1386,1260,873,1391,1127,475,1148,1544,1317,1538,1253,1234,993,832,1268,640,1088,1245,912,1465,1498,1375,1207,1156,1474,815,1402,1408,796,992,839,1230,1130,1370,1638,1045,1006,1384,1184,1163,1458,1282,1025,985,1380,1577,1585,436,1389,1184,1556,1180,1067,1522,1217,901,1558,1512,1402,930,1469,1412,1630,1163,902,1423,1518,1217,1486,1542,1575,761,1468,1406,1711,1564,1579,1284,1402,1627,998,1787,1590,1380,1467,1125,564,1220,1114,1502,1448,1297,1496,785,1187,1430,906,1126,1111,318,1546,1461,1557,1422,1135,1385,1488,999,1486,1159,1251,1586,1809,1781,1255,1628,1188,342,1615,1165,1678,1217,1756,1447,1226,1309,1553,1448,1255,556,1110,1394,1384,1702,1383,392,720,1441,1111,434,712,1290,1229,834,214,1438,1712,1006,1537,1182,1611,1348,1138,1358,1275,1337,1603,1240,1429,1489,1417,757,1362,1031,1190,1256,836,1132,1718,835,1011,1431,1247,1559,1425,1493,1460,1417,1362,1556,744,1193,1105,480,949,1094,939,1645,1509,1578,1254,772,1104,1633,1366,1481,1125,1082,943,1110,1582,1452,1513,1615,1632,1283,1599,810,1217,1361,1052,1480,1393,1694,1440,1244,622,1332,1264,511,1393,1571,437,1428,1341,1133,492,836,1401,1130,997,590,1340,1295,1712,1390,1354,1358,1180,1524,1199,1462,1332,1227,1208,1398,418,1439,657,1145,1225,1364,1753,1294,1550,1377,765,1042,809,1521,480,1262,1323,1478,838,1201,1577,1296,844,1118,1203,1599,1438,1096,1313,1633,1599,1343,1486,1364,1293,1620,1188,1275,1257,744,876,1445,899,1369,995,1145,1457,1103,1226,1107,1297,1508,1651,1336,1141,1414,442,1501,1049,858,1756,1054,1527,1699,1239,1137,679,622,1658,1491,1227,1253,1153,1070,1507,714,770,1151,1365,816,1394,1587,1584,227,1558,1154,1469,1236,1205,1643,1238,306,1301,1674,1149,860,1397,487,1280,1444,1461,1615,965,613,1303,582,442,1484,778,1561,1339,1312,1002,1006,1531,1488,1510,884,1668,1663,1062,884,1479,1440,1126,889,842,1523,1154,1171,1522,717,1343,1566,886,1013,673,1157,1316,1282,950,1483,1161,1373,1418,1671,1341,232,1086,1201,871,1369,971,1206,908,1312,1348,1329,1528,1058,1574,1461,1611,368,1377,1418,1693,1155,1551,1368,1469,1430,1197,1408,1366,1449,1650,1580,1510,1317,1452,915,1464,1276,1374,1399,1468,604,1622,1215,1198,606,1153,1099,1580,1412,1318,1453,1599,1122,1457,1402,1466,1329,1275,756,1084,1373,1215,1658,1492,480,1448,1395,1541,1494,1577,918,1134,1429,1260,1527,1662,1308,936,1449,1369,1268,1028,1580,1135,1596,1428,1163,1249,1228,241,1254,1503,1085,1518,1495,1429,658,1626,734,843,1158,792,858,1344,873,1356,950,1114,1581,859,1377,1375,1624,1048,1532,1275,1499,1092,1511,892,580,1165,846,1389,1240,1425,1194,1444,1141,1177,1538,1355,610,1634,1500,1194,1358,1447,1275,1256,1413,836,1252,921,1318,974,1073,1697,1452,1537,1404,1528,1166,952,804,1391,1427,1047,882,925,982,972,1445,374,1181,1064,1446,1142,1157,1526,1370,783,1512,391,1170,785,1655,884,1271,1254,1191,930,1433,1364,1638,908,1613,1026,254,1541,1270,1413,1486,1306,1369,1066,1391,1568,1487,1221,1379,1750,1109,1149,1349,1445,1274,1338,1525,1274,1099,1364,1429,1075,1466,1443,1478,1281,710,1244,1065,1392,1138,1392,498,817,1276,588,1287,1519,692,1474,1059,1282,952,1388,954,1139,1535,1137,1221,551,1342,1352,1480,798,672,657,760,1030,1245,1256,1402,1623,1341,1233,1254,1522,1205,827,1384,881,1676,1306,1668,1009,1415,1301,1286,1284,881,1662,997,686,1453,720,1468,602,1012,1634,1514,1581,1242,960,925,1219,996,618,1133,1080,1533,1501,1263,1047,1398,823,1397,1165,561,1137,967,1253,480,562,1673,1321,481,1367,1662,1303,979,894,1535,1559,934,1414,1355,1352,1225,1252,1303,1069,1577,1244,982,1044,1725,1391,1485,1612,1448,1700,1352,1204,1455,973,1128,999,1554,1652,860,1139,1595,1463,1205,656,980,1015,1571,1467,1273,1399,849,1447,716,1336,1073,1320,1186,1212,1461,1614,865,1079,1221,1459,1272,1416,1101,1497,1523,1708,1210,1171,997,1610,856,1422,1415,1009,1354,1544,1378,1304,1281,1021,1188,692,1164,664,1257,1463,1589,970,905,1025,947,1138,751,1570,833,1080,1073,640,1265,1483,1588,1216,1392,1073,980,966,1393,1318,1332,1128,1513,1238,960,1400,1339,1378,1307,768,1223,1670,1338,1099,1306,1413,1260,1127,893,1444,986,1492,951,952,1452,1440,1473,1139,1290,1338,1749,1431,806,1160,401,469,1611,1209,1102,975,1448,979,1580,1649,1339,1379,1280,1454,1216,1411,699,1493,1475,1052,1523,1444,1214,1360,1051,882,606,1260,1714,1633,1640,985,1353,1645,1573,920,1490,1606,1430,714,869,1322,550,1457,792,658,1533,1620,1549,601,1426,1611,526,650,1347,1231,1300,1281,1019,943,1304,1332,938,1399,722,1002,1707,1533,1161,1208,1307,1471,1224,1461,694,873,1283,748,1621,1020,998,756,1805,1295,1496,1128,562,1525,1027,620,817,1414,1580,1644,1122,1483,1076,1509,1099,973,1352,1018,1217,1490,958,1143,1492,1421,1592,1463,1101,1569,1304,1328,1213,1170,862,1137,1461,1163,684,1139,1518,872,1261,1221,884,897,1613,1180,775,1468,1632,856,641,1522,1542,1441,1290,1748,1323,1359,1178,1588,426,1233,1533,1074,1332,1486,1485,1701,1165,1457,1343,1566,1244,1210,1645,1587,738,423,1006,773,1240,978,1729,594,1288,1482,701,1369,1630,1624,523,1512,949,1130,1157,1409,1242,1122,1069,1328,1596,1074,1111,1365,344,356,1448,925,1041,1474,1169,1751,1546,1286,1212,1232,1511,1603,1330,1438,1637,1357,986,1302,1439,965,1262,484,1445,956,1719,699,1300,1536,1140,1608,1217,1299,1479,1405,1622,1105,1465,1023,1319,1485,1580,1158,1116,518,1004,1559,1126,1206,1463,1345,907,1465,1486,1318,1244,642,1405,848,1190,408,1531,1265,1733,1582,1679,1665,1273,1025,1374,1384,1385,1106,1327,908,131,580,1631,1608,766,1117,1087,1405,812,1227,1368,1523,1274,1357,1127,1356,1380,1208,1242,1355,854,1067,813,1429,1053,1548,1706,1571,1107,1478,1420,1237,1182,1405,1345,984,1428,803,1225,840,1266,1128,1023,799,1322,1453,1315,788,1531,1564,1319,477,1478,577,1583,1383,1160,1648,1281,1356,1157,1305,1295,1244,886,1425,1348,1706,1256,1045,1516,1319,1378,93,1234,1023,1521,1526,879,996,1474,1612,1364,1349,915,1271,1124,1546,1293,1220,1062,1568,1249,463,1462,1250,1322,1397,1364,1612,519,1035,1389,1270,913,1488,1521,871,837,645,812,1398,974,1414,1228,740,1371,1479,389,1378,1374,1191,1433,768,1295,1394,1295,1242,829,1490,823,1388,1464,1606,1261,1156,1176,1315,1367,1415,1448,870,1084,1129,1118,554,1538,1362,1100,932,1206,1193,1301,1686,1224,330,1472,1233,1654,1706,1363,1841,977,1300,1015,1287,1175,894,1704,1209,1616,1669,1524,1365,1614,635,1314,1426,1100,1169,1363,302,1327,803,591,944,1731,1186,1125,1498,1583,1087,1390,1216,1494,1320,412,1483,1506,811,1278,1362,1638,1153,1580,1576,1074,779,1286,1286,1188,1221,1458,1019,1566,1216,1641,1625,953,1149,549,1780,1687,1254,903,1686,374,1243,781,386,1245,1064,1242,1473,1282,1549,934,1158,1467,1098,1580,1011,1283,1045,1640,1164,1139,1037,1640,1399,656,1510,1637,1656,1023,1441,1241,1154,1257,1378,1417,817,955,1376,1426,1179,1569,1164,960,1487,1625,1114,898,1334,1336,1278,1152,762,1144,1207,1213,1050,1247,1277,809,1291,1006,1550,1537,1194,1096,1565,1525,1060,1527,947,1552,1090,1036,1418,993,1306,404,861,825,1648,1201,1622,1415,1011,770,1251,1488,1393,645,1604,1377,1362,1301,1693,1224,1265,1717,1127,1620,1060,684,645,1352,1400,985,1553,394,1336,1475,1205,1238,1143,1306,736,1313,1282,1289,1536,1600,1377,593,972,1411,1286,1317,1373,866,1185,1254,1444,1244,938,1179,1505,1317,1291,1209,1279,1318,1056,1596,1500,1404,1514,788,1561,1019,1321,919,1376,1135,248,1334,1280,1319,1004,1610,1214,892,1155,919,999,991,1330,1540,1372,1700,1596,1085,1427,1290,1537,1377,1389,1342,1240,1051,1390,1329,1206,1033,1604,1442,1400,701,1215,1271,1336,1455,1548,1606,1224,1495,1350,701,1237,587,684,1643,1651,1220,1272,1310,1501,1403,1466,1129,784,1538,950,1605,474,844,1243,1185,1471,1003,1361,1008,1417,788,1701,1328,1365,1593,1336,1459,550,1208,1566,1225,520,1285,1591,1634,954,1544,1545,1158,1178,1504,936,1307,1386,1303,1318,1041,849,1596,1209,1244,888,1661,856,585,1221,531,1648,840,1500,1498,1397,1720,820,1045,1711,1115,178,1191,1316,1112,1194,1186,1295,1231,898,1233,1615,1155,1506,1517,1578,1251,565,1348,1671,475,1328,1101,1486,1641,1341,1223,1461,1464,748,1065,1394,1046,1195,1108,520,1586,943,1470,1203,1144,757,1302,1341,1093,1385,1530,1411,1032,926,1321,1265,1153,1409,1438,1440,1328,1023,916,1044,1049,1343,566,1408,1192,908,1441,991,1567,1463,1004,1356,1730,701,1087,1461,100,1358,1479,1446,1239,1170,1223,1358,1569,1425,947,1606,709,1540,1592,926,1449,1544,782,232,1294,1236,1012,548,1538,482,1293,668,1063,1571,1530,1376,1188,1201,1527,1365,341,1397,892,847,1386,1460,1495,1358,1442,1344,1439,1039,1068,1312,1323,1465,1282,1361,1413,1574,1447,1263,1206,1193,1713,1126,1101,1007,1297,1286,959,1165,1612,1426,778,1081,1136,782,1307,969,916,702,937,1474,1570,1339,713,1484,1595,1569,1328,894,803,1352,1182,1501,1022,1395,1468,1215,1376,779,1002,606,1223,1604,984,1285,1340,1361,1312,1062,924,1378,1397,978,1245,915,590,1531,1178,1336,851,1542,1055,1438,1409,1048,1469,1508,1147,918,1377,1647,1553,613,1365,1367,759,1537,1200,1301,1318,1028,1172,864,1131,1712,1284,500,801,317,1144,1397,1489,1079,1267,1301,1502,1343,1428,746,1457,1632,860,311,1239,1466,1382,994,1405,1601,1085,806,1294,1346,1619,749,1411,1322,1274,1573,1038,1422,1304,1325,1323,1513,1518,1512,1387,1301,1578,1105,1292,965,1078,498,797,1044,288,1478,1414,798,1632,1332,732,1334,1269,1717,1674,1415,702,1005,880,1058,1593,846,1455,1456,190,398,1263,1282,1334,1368,1404,1486,1624,452,1332,1526,983,1585,1373,933,1219,1586,1248,592,1091,1453,1299,739,1615,1266,1137,1278,1169,1513,1369,1018,421,212,1068,1213,1554,618,1355,1046,1407,1430,1119,1719,1116,1255,862,1114,543,1328,1095,489,1289,1046,456,1379,1277,918,1354,1183,1166,799,930,1274,1180,1260,1582,1133,1226,1649,1368,746,1348,1622,1256,1065,1508,712,1361,884,1488,1086,1520,1068,1028,997,1496,395,1295,1361,1280,1453,1316,1319,1372,1143,1113,1636,1366,1081,1221,1379,821,1188,999,587,1310,1554,1516,938,1231,836,1237,1134,1411,1146,1409,1270,1419,693,869,1366,1364,1644,922,1204,1505,711,1338,1427,1264,998,1316,1206,1409,1128,1344,968,1223,357,1323,686,1392,1374,992,1335,1344,1410,1744,996,1241,1266,1468,196,802,982,1370,1600,1131,1078,1814,1406,1374,1398,984,1533,1499,797,370,1087,997,1492,541,1349,1411,1295,1300,938,1526,592,878,1187,1393,479,1252,1445,1521,991,747,1619,1434,939,1289,799,1453,489,1490,1160,1082,1577,1330,1494,1639,1059,1532,932,1430,1038,1523,1189,1353,1539,1212,1374,698,1495,1419,1328,906,615,1452,1616,371,836,1475,958,1622,1434,1068,1528,1045,1496,1649,615,1222,1525,1388,1282,1635,707,1229,1564,1439,1631,1351,1564,1067,354,1441,798,746,1062,865,1110,1117,1109,519,1317,1045,785,1321,1356,1316,1451,946,666,1026,1322,466,1272,1609,943,1255,926,1322,1496,1647,1239,1497,1490,1234,1494,1294,1295,1354,1561,1335,977,1501,1179,1448,1185,1527,1147,1491,1617,1349,1296,968,830,810,1568,1057,1395,978,1508,1649,1417,1308,1398,1038,1396,1450,1122,1297,1284,1076,1355,1146,1199,808,1615,1288,1413,431,1240,816,799,1367,1553,1318,1024,1226,861,1437,1571,1567,1236,1294,1340,1307,1407,1503,1036,1321,1249,1287,1620,1543,1696,476,1344,1156,1117,1114,1413,884,1265,845,1517,772,1003,1303,1045,1584,808,375,1333,1521,1231,851,1276,1458,1381,1288,446,384,1258,1119,1034,1368,1430,1294,1309,1556,1228,1597,1439,1386,882,1136,1402,751,1273,1797,1185,1219,1317,1331,1152,1548,223,810,1192,1717,1390,1307,799,826,769,1053,1456,967,1529,1274,1021,90,1253,1306,1331,1028,713,1237,669,586,817,1498,1216,1205,1479,1593,1670,1149,949,1223,1327,1518,1275,1426,1648,1036,1046,1463,1431,1247,764,1256,1406,1237,1636,737,1425,1505,1480,1317,1631,1365,1271,954,747,917,1489,855,1228,869,1003,1010,4,898,122,1185,750,615,1113,1470,1661,1529,1385,1569,700,1341,539,1182,1310,1329,1219,1594,1326,827,603,1667,1493,1151,923,1408,626,1461,1284,1201,1412,1489,590,1061,1078,1386,1406,1034,1555,1107,1475,979,1493,1254,1320,1651,885,1745,1471,1204,1091,1044,1403,1255,1577,192,187,1333,1501,1184,1253,1599,1563,732,1433,1158,1320,851,659,1217,1631,1233,1071,1644,1157,1247,1646,1645,1653,1209,1142,1153,1312,1246,1436,1421,1444,1178,1044,1636,1155,1517,1406,1527,1650,1072,1548,1577,1219,1052,1074,988,1001,1145,1077,1318,1513,1317,1383,1784,1017,1552,1613,1177,1364,984,1569,1213,1335,1114,1350,1119,1367,1529,1090,1455,1405,1327,1215,1376,536,1425,1412,1433,338,1508,1673,1512,1171,182,63,1115,1776,1429,1442,1092,1477,1516,1416,769,689,1476,910,1025,1544,1353,894,1267,1419,1620,639,1158,791,1323,1046,1672,894,1032,1383,871,451,1366,1323,927,1387,1178,1560,1257,1135,1174,1298,758,1332,799,1430,1459,1481,529,1396,1067,1605,1276,1153,930,1303,1674,1637,1384,1236,1203,1400,1391,1203,1273,1280,1303,941,602,1360,764,1080,1193,1452,1416,1450,1269,1550,1329,1353,1390,1399,1528,1275,1560,1149,1076,1224,829,1090,1559,938,1312,1321,1163,1228,1623,723,1484,1390,1144,1703,1253,1331,88,802,818,1422,1688,1410,1643,1407,778,1263,791,1229,1437,1544,1502,1132,1363,1036,1522,1127,1283,1104,892,1624,1388,1078,1359,1009,1281,1392,1378,1481,1406,884,1401,1217,1265,1194,1593,1317,1514,1438,1386,749,1441,1528,686,1431,1517,1395,1434,324,878,722,1173,1105,1009,845,848,1023,1578,1324,1301,1552,1192,1400,1254,1346,1697,1329,862,402,1361,1420,1466,1702,1436,1618,1092,1058,1485,1640,699,1462,1482,1380,1474,1025,1163,1375,1212,860,877,1232,1263,1564,537,1564,1684,1178,1774,1465,1675,1668,1376,1475,1013,1628,1592,1675,1428,715,793,1542,1296,950,1590,1255,1039,1114,1256,1242,1411,1123,1178,1172,1453,1249,1627,1649,648,1255,1484,1132,973,1683,1502,1613,494,1265,1432,1239,1701,1467,646,1373,1718,811,1394,1369,1433,1460,1048,1604,1172,1334,1708,1552,1787,1537,1160,981,921,923,1543,1610,1282,1515,1116,744,1127,1081,704,855,1716,1324,1615,1231,1006,1524,514,1466,1174,1065,1349,1536,1511,468,1271,1363,1398,671,626,1260,926,1286,1240,1313,898,1242,1286,1217,1806,741,1013,1302,1500,1200,640,604,1232,1246,1080,770,1289,1316,1561,1649,1184,1653,1125,835,1638,773,1012,1524,746,1541,1308,1298,1433,968,1415,1330,1286,733,1616,1273,1260,1064,786,1115,1197,743,751,1552,1084,1563,1543,1204,1442,1319,1029,1434,1461,925,1612,761,1315,453,960,1403,1213,1469,958,579,1474,1373,1521,1271,1568,1171,1247,1549,1546,883,1085,723,808,1193,1178,1638,1216,1382,1333,1589,1492,1482,653,994,849,1418,748,1040,1086,1301,1416,713,1252,1687,854,1148,1423,1163,1194,954,1702,1460,1232,839,833,1488,634,1287,1498,1312,1650,1650,1433,982,963,1243,1623,1526,1180,1200,1034,691,1109,1298,1661,1397,1319,1326,564,1479,851,855,1051,1611,431,993,1473,1229,1299,1467,1490,991,1072,1191,934,516,750,1432,1371,1317,1273,1101,1479,1204,889,214,1626,1419,1261,1504,1031,1484,1664,1037,1621,1300,577,1244,537,1582,1655,1432,1398,1198,563,1106,1078,1475,994,1525,1014,1465,1297,1208,1032,1139,1172,1606,1139,1399,1565,1437,1446,1070,1337,653,1537,1128,1531,1298,1271,1583,1345,1611,902,1403,1445,1100,1357,1347,1523,1177,1319,858,1555,974,1240,1360,1421,1197,1144,1254,1341,991,1039,1602,1257,1393,1371,1456,1187,1338,1771,895,1128,981,1482,717,1389,1563,1570,526,1107,974,1659,1380,1476,521,1264,1280,1596,1185,1175,1401,1393,1387,1291,1134,1495,1610,1410,1201,1389,1490,1375,1359,1507,1647,1060,1414,1298,1429,1271,1363,1260,1594,965,1297,1594,1444,1410,1322,1602,1358,1169,909,1488,1134,1568,1490,1477,852,817,1552,965,1001,1506,1323,923,433,1377,1174,1382,1708,1385,1553,1565,1640,1056,1529,847,1170,684,958,1411,1249,1435,1584,1527,1198,791,1040,811,1619,1021,1347,1651,1462,1284,1695,1694,1418,1264,1529,1307,1770,1298,1161,1391,1270,1534,1265,1513,1065,1330,1278,1149,662,1382,1253,200,1573,1218,1246,1553,1426,1233,1569,1442,1300,1013,822,1194,983,1287,734,720,1444,1178,1292,1123,888,1550,1411,1410,629,1627,1239,916,1398,1536,1514,1511,1099,1172,701,1690,1698,1144,1279,1384,1101,1502,1124,900,1181,932,1211,1302,1265,1278,1548,1526,1314,1316,1547,1176,1109,1258,724,1525,1305,1057,1619,961,1263,1503,1461,1584,1079,937,1635,806,520,948,678,1305,649,1613,1475,712,1088,1013,1580,1423,1432,1008,1073,1638,1506,1459,1002,1322,1515,1272,1486,1399,1568,1113,1156,1002,896,981,802,1401,1551,1647,916,1316,1383,877,1484,1518,1156,1108,527,1063,1227,1569,1380,1318,1194,1169,1484,1384,1433,1030,1211,1501,571,598,1295,1445,1119,1445,1338,1187,1157,1275,1504,1541,1436,1127,1558,1156,364,1480,1674,1684,1371,1201,1289,1671,1550,1257,1555,1021,1115,1135,1547,1283,1311,932,1040,1110,1689,1172,1523,1490,1565,498,952,1150,1338,1322,1129,1625,1604,1506,1004,1054,908,586,1281,1194,734,1311,890,1684,1580,1453,1443,1569,1482,1604,981,1560,1281,1494,1277,1596,1016,1435,1209,1011,1408,1061,1431,520,1156,777,1042,1141,1127,1518,1741,1348,1000,934,1478,1573,905,1119,1542,1186,826,1055,1326,1349,335,1301,1348,797,1344,1376,1144,1229,611,1466,972,1072,1570,792,1337,1383,874,1334,767,638,1521,1566,1308,1077,1251,1096,1405,1311,1453,1602,748,1320,1315,479,1524,1181,1374,1081,1306,1448,1201,840,1041,1317,915,1525,1441,1363,1391,844,1112,1073,931,1683,1330,857,1211,742,1071,911,1547,560,1210,1428,1371,1574,1476,1167,970,1358,1260,1462,865,938,1416,1156,1124,1342,1622,1260,1538,1290,960,851,1439,1383,1230,1391,1457,1688,1642,1178,1055,1595,1090,1493,594,1286,888,571,1379,1292,1212,1667,1427,1462,876,1269,945,968,1458,1259,1225,1147,1412,810,901,1012,1096,1124,1062,1597,1337,1653,836,1309,1615,688,1429,1430,1262,1564,1200,1233,1336,1189,1141,1104,1605,1275,1615,1541,1049,1145,930,1511,1465,631,1469,955,1688,1599,1158,1114,1441,1463,1093,1238,1517,1457,1239,1698,1543,1253,1510,922,1417,1348,1280,1284,1583,1345,1049,1382,1065,1290,1369,853,807,1509,1020,1407,1483,966,537,1277,1585,787,1302,1279,1252,1167,1349,1130,714,1094,661,916,1416,1458,1187,1461,1152,1556,974,1544,1146,1095,1513,1145,638,1080,1166,1057,1324,1609,1697,1556,986,1303,1054,1490,739,1480,1413,1085,1303,1179,1388,1093,1299,561,1231,764,1072,1539,1024,1620,864,1376,1224,1655,1562,444,1686,828,1319,1257,1297,1377,1513,1572,1539,1626,1220,904,1463,518,1164,1381,1548,1583,1409,1288,1321,1518,1257,1341,1448,1329,1098,1442,1459,1519,1565,1006,1325,987,1535,1099,822,1430,1541,1485,1529,1680,1393,1415,991,1237,1475,1268,1326,1047,564,1609,1404,825,1142,1077,1562,1308,1081,526,934,979,1349,1106,1679,875,1418,1346,731,452,1238,1554,1123,614,1351,1294,921,1183,717,1664,1381,1422,1478,1533,1567,1620,1502,1401,1523,756,1080,1669,992,1181,1597,403,582,1241,1665,1354,1414,1509,1015,1687,812,1694,414,1525,1318,910,1627,1198,1319,1228,1591,1325,1288,971,1201,671,857,1098,1502,41,1374,1125,1208,980,1319,1590,1121,600,1655,706,1707,1362,1426,864,882,1177,1179,943,1564,1346,1157,1438,1647,995,828,1195,1320,1504,1287,1533,1512,1185,1589,1403,1101,1041,1477,1044,459,759,1570,1518,1590,1105,353,880,1358,1438,1318,1116,1064,1721,838,1627,1735,1414,1482,1645,1310,1115,1606,1119,793,944,1243,1560,1120,1225,1009,1137,1630,940,1234,1379,1559,1760,1642,1607,958,1671,1048,1547,1452,870,1167,1069,1298,1190,655,961,1274,1389,1416,1273,1446,1246,1357,1468,1415,1308,1422,1256,1200,1154,1524,1256,1303,1386,1199,1251,992,1225,1261,1565,1515,1579,1460,1205,1041,1253,1022,1034,1412,1086,1513,998,741,527,1369,1047,1063,1145,1395,570,1432,1616,1242,900,785,1215,308,1595,1352,1399,1594,1321,1352,1291,1426,1494,1464,678,1270,1584,1386,935,1259,1086,1442,1113,869,1331,1273,1434,703,1103,1118,1444,1527,1392,1229,1635,1222,1424,1505,1529,1530,862,836,1076,1321,1385,1570,1032,1128,1391,1680,1269,1172,1545,915,1477,1549,1398,784,1677,1258,1075,1190,1119,1192,1333,779,1434,1196,1261,1245,1269,772,1705,1205,1086,1467,761,1135,1172,1137,1131,1115,1338,1342,1141,693,1152,415,1430,1183,1418,1386,1548,1397,1597,1469,1356,1393,1217,1469,1492,1123,1004,1225,643,1010,1327,304,1315,1352,1071,1083,1351,946,1240,824,1318,1137,996,1466,1043,1116,1261,1342,925,1093,1176,1792,1690,1160,1576,1437,1046,1163,1149,653,1227,743,751,1626,1265,1026,1459,1401,950,1599,1115,579,584,1185,1424,1014,1328,1394,791,341,1656,1215,1747,1672,1124,554,1045,181,1034,1321,1323,770,919,1144,879,1105,740,1273,1350,844,916,1250,982,1316,798,1327,1400,1609,1555,1564,1024,1414,1414,1401,964,1283,1476,806,837,1320,1326,1185,1335,1494,973,938,1071,1441,1400,1431,1300,1482,823,787,1378,1088,494,702,1485,1400,885,1523,1028,1198,1556,1309,1001,622,1114,804,1151,1209,1615,385,1387,825,1257,558,782,1155,1385,911,1059,1033,1617,914,1010,967,1166,1528,976,1623,546,1086,1194,1250,1400,1276,1339,1481,1427,926,1124,851,671,1016,1518,1373,872,1213,1349,1019,1377,1176,1497,1564,1535,912,1157,1344,1023,1557,1285,1426,1330,1274,1424,1387,1339,879,1385,1349,1489,1220,1383,1506,1415,1361,555,1680,1269,1443,1472,1078,1359,1297,1485,990,1238,1186,937,1461,1102,1021,1225,1375,1544,1422,1142,982,1128,1138,1387,763,733,1073,445,1632,1510,1466,1193,1616,1333,915,1153,1455,1341,1237,1359,1197,902,1709,1476,757,1591,940,632,1378,1493,899,1153,1141,1358,1669,1214,951,1261,1410,525,1196,922,1251,308,1056,1679,1602,1562,1017,977,1599,1153,1214,940,1225,1362,1092,1394,1100,1253,1633,1105,813,1596,1492,1707,1251,1128,1573,1333,1128,1278,1195,1666,1233,1359,1245,1402,605,1053,1561,1326,1390,1187,1503,1134,554,1384,570,940,1322,1115,1123,894,1283,1600,1443,1317,1518,1365,1304,1354,1465,1331,1553,1171,806,743,1501,1195,1272,1468,1546,561,1155,1587,1715,902,1397,1354,1283,1712,1296,1238,1352,657,490,1034,1707,1216,1213,1337,936,1181,1486,1296,1413,1092,1524,551,684,1136,1012,1310,1359,1364,1168,771,1564,1104,1081,1293,1437,1519,1294,1443,850,1343,1549,1285,1245,573,1149,1294,1251,1486,913,1258,1589,1519,1224,1163,1485,1145,1178,1239,1128,1499,1377,1750,1591,1321,1324,1400,1115,1254,1614,1262,1413,1026,712,1503,803,1370,1112,1538,1448,1365,865,1285,1575,1460,1047,1327,1568,1395,1275,1073,1094,775,619,603,524,1070,1185,1068,1568,1254,1351,1107,1372,1282,1200,1355,1014,1129,1538,1321,1098,1439,1535,1290,436,1257,1445,1351,1111,1536,919,1277,1494,885,1102,1419,921,1320,1244,1369,1535,1239,1659,908,1310,1385,1416,1297,1206,1320,1248,1223,885,971,854,1083,1433,1450,1557,1484,1544,1323,835,1552,1333,1085,1036,1410,1485,1362,1318,945,1267,984,1302,769,988,1738,1379,987,1060,1359,1311,818,1392,1533,1415,836,1447,1379,1046,611,1469,368,1388,1240,651,1235,989,678,931,1583,596,1523,597,1079,758,1231,1371,1223,1423,615,1631,1421,690,930,1290,1737,1368,1508,1555,1574,1044,860,1411,1578,1035,1291,1095,1538,955,1264,1141,1440,1151,1328,1634,1286,1752,934,1433,1319,1312,1497,1042,1408,1282,1308,977,1392,1068,1037,1556,1123,1202,1620,1448,1371,1446,1185,1709,1552,1340,1492,1064,961,995,1351,1187,1214,999,1365,1085,1465,1083,1328,1268,1303,1551,734,1009,1504,383,991,1281,1015,1414,914,467,1539,1523,1604,1045,1535,1228,1606,563,1342,1428,1325,959,1056,1409,1158,1234,918,738,1220,1526,1362,1307,1559,1133,1057,14,1525,1299,935,1317,1480,218,1578,1613,1594,1526,717,1351,1034,1479,1414,1202,825,1397,347,1560,1345,1297,1232,1433,1622,851,981,480,1093,1374,1595,1592,745,846,1303,1345,1317,1296,1371,915,1600,1119,1425,1494,1340,1435,1683,224,1739,1390,879,1432,1323,1111,1263,1213,1070,1245,1564,1367,688,768,1552,1459,1209,1555,1476,1047,1642,1629,1320,1624,1414,1284,1097,1010,1266,1404,894,1343,1353,1430,792,675,1203,1125,1374,1508,1365,1430,1365,1078,1108,1147,1653,1547,1194,1501,772,812,1293,1138,1355,1623,1304,1285,1364,1494,1250,1214,598,1407,1403,1335,1034,1680,1162,1508,1364,1332,670,995,1170,1627,409,1279,1438,1318,933,1226,970,1269,1114,1589,1227,1128,862,1321,1439,1395,1096,1163,786,1186,1266,1102,1354,1054,209,988,1126,1743,1341,1237,1337,1459,982,1222,1566,1611,1585,1422,1281,1119,850,1428,916,1443,1627,1621,1441,1014,1521,1412,1242,1609,1182,736,1524,1369,1052,1386,1070,850,1314,747,864,1602,1655,1601,1491,1414,1245,1159,1251,1396,964,862,1281,1506,1015,1412,1370,1584,1027,1281,1473,1367,1116,1008,1467,1294,408,422,939,1262,1168,1323,1136,1255,837,1361,462,1177,1194,1062,1550,1137,1295,1521,1370,871,806,1294,1413,827,1489,1582,515,1442,1330,925,130,1040,1672,1071,967,1361,830,1349,1632,1175,1272,733,1633,867,1160,863,1413,1435,442,1456,1545,1264,954,1460,1388,981,1374,1399,546,1406,1006,408,1328,1651,897,1068,845,1290,1249,1362,1241,1299,1585,1059,1264,1267,1307,1676,1015,596,1626,181,970,1518,710,1205,1294,556,1246,1620,1318,1653,1088,1449,1024,1622,1324,1073,1210,1541,657,1412,444,1619,513,1474,688,1187,1345,1399,1401,1056,1229,1678,1334,1611,1044,1618,1081,990,1061,1346,1585,869,1154,622,1463,1004,853,1188,1133,1488,1344,417,1381,1080,1333,1538,1171,1207,1440,727,1093,1244,1187,1558,1165,1576,1275,1218,1355,1629,1487,1177,1669,1552,1434,1280,167,1566,462,1062,1106,1412,1183,1276,1071,1644,440,1088,1092,263,1519,913,1000,1570,1400,1265,1293,1202,1129,1182,1082,703,1657,736,500,1179,1608,1410,1052,1543,1208,1058,1247,938,1245,961,1019,1013,1017,525,1345,1256,1130,657,1534,766,1019,1259,1218,1280,1077,935,1113,1586,936,997,1713,1029,1462,1594,793,1392,1576,1583,992,1441,1537,1161,513,1253,1180,1076,36,1055,691,1311,1346,1186,1555,1072,700,1424,1377,1284,1676,1258,1396,1602,1528,1634,1502,1532,1352,1567,1396,1054,945,1194,1321,1531,651,1093,1716,1163,1381,1292,1477,876,1270,595,1037,1340,1134,1623,1272,1392,802,1312,1711,1007,1424,1292,1224,649,1747,1202,1501,958,1353,418,746,1209,1706,1386,1373,1218,1132,1259,954,1324,1326,682,1574,1113,1190,1340,1073,1166,1335,1468,1252,1593,973,971,1092,1075,1296,1020,949,1308,1721,1234,953,1038,1218,1505,638,1593,1530,167,777,1188,1672,1108,688,987,1208,890,1193,884,767,1490,1123,1254,1041,1138,540,1670,1439,834,1219,1060,523,1404,1106,604,1631,1439,1213,1315,1431,299,1164,1272,1196,1390,1509,739,963,1551,1267,765,1252,762,1527,1400,1400,1198,1402,1611,1442,500,1528,844,1203,1564,1309,794,933,1745,1022,1499,847,1590,1042,757,390,1254,1665,1227,1597,833,1483,1451,1398,776,1054,1548,1355,1381,1257,1470,1673,941,1493,1297,1018,1454,938,896,1241,1495,1661,1174,457,597,1557,1436,1400,1333,1485,1663,1491,1703,865,688,734,1118,1406,872,1130,702,865,1351,885,1509,962,1132,1498,607,1122,908,1505,1100,1355,1197,1020,609,1100,1567,1374,1281,1513,1667,1549,1566,1492,1240,251,1091,834,1392,1507,1437,1608,1104,595,1701,984,1048,1569,1563,1201,1189,1582,1211,1427,1248,1288,1318,1529,1294,1338,939,679,1362,1442,1697,1502,1618,1394,1196,1367,790,1097,1388,990,1233,1359,1107,1775,429,1222,1219,1138,1626,1477,1261,1147,1225,1433,1317,699,1034,1248,971,794,1458,1619,1505,1236,1213,1036,1483,1553,1134,948,1523,1868,889,1099,1342,1574,1228,1065,1415,1555,1201,1293,1124,761,1339,1571,1290,843,875,1384,1225,1475,1543,682,844,990,1537,1501,1216,1364,964,1002,1537,970,1562,961,1569,1218,789,1634,1417,1548,1492,1462,583,1485,662,1449,1294,271,1007,1326,1418,1055,1354,1111,1687,787,1223,1549,1405,1429,1094,1188,1302,1414,1449,1566,1539,779,1401,1516,1503,1106,1014,1022,1321,399,1541,1483,1347,1176,1423,1624,1282,670,1232,1154,1168,1563,1482,916,990,1498,1726,1166,1303,1380,1446,1352,1306,1476,612,1226,1142,1118,964,1153,1184,963,1171,1697,1006,966,1448,1325,938,1445,643,1364,811,1375,1172,930,1164,1002,1344,1709,1259,1515,1395,1196,1438,1714,1246,1617,1495,1251,1516,411,1161,588,1507,1035,1773,599,916,1529,1415,1215,1430,1455,880,1226,980,1279,1116,1345,1463,1360,1264,785,943,1315,1339,1623,1150,781,1472,1116,1567,722,1259,1179,1490,761,1422,1025,1679,1173,1126,1237,1211,962,1503,1391,1469,1674,1556,1543,1212,1503,1164,1183,1368,1416,1506,716,914,906,1019,1644,1695,1449,1066,1610,1664,1269,925,1291,1669,1518,1170,1516,531,1080,1252,1113,1516,796,1612,1248,331,1391,874,1383,1449,1233,1593,992,1469,1722,1750,1225,1043,884,1422,1513,1386,215,887,840,1264,1242,1333,1410,1576,760,977,1588,1522,1373,921,1457,1089,1474,1481,1496,1240,1215,1543,1414,635,1457,982,994,1467,1582,648,1453,1189,1562,1527,1004,959,704,567,1556,1338,1128,1329,1392,1042,1245,1270,1522,1023,305,1222,1390,1315,1325,1051,955,1618,1668,1368,1698,1641,876,921,1320,1033,937,1532,1568,188,1071,1095,1630,1090,1272,1046,867,1666,882,1628,1591,1285,1508,1531,970,1567,1620,1545,1532,282,769,1337,1635,1668,855,1113,1336,1460,773,1761,1280,1032,1394,1570,1255,1369,1193,1500,1288,873,1505,1464,683,1733,867,1230,1547,1244,1628,1466,1490,1111,1240,1257,1555,706,1041,1193,1576,610,1567,1426,759,490,1592,1101,1228,1169,810,1379,1192,1456,1462,1407,356,938,1390,1223,1121,1629,1221,1308,1387,1304,1085,1149,1146,1554,1431,902,1180,713,1087,1514,1358,1339,1080,1416,1551,1278,1147,1514,1622,1092,1308,456,1435,643,1268,1110,1608,1514,1334,1239,1001,1448,1050,1407,1451,1446,1437,1212,1607,1424,1665,1023,1135,1163,1502,1217,1274,1420,1226,933,1606,1029,927,1476,1511,1180,996,1303,1639,738,1358,1109,1176,1333,677,1412,1359,434,1117,479,1393,1360,1308,1765,1473,454,1371,1324,319,475,1456,1575,1302,1454,1406,1180,1357,1224,864,1463,1550,838,1377,1556,1582,1365,1424,1465,1135,868,1538,1714,1181,802,550,1514,1059,1456,1772,1403,1708,978,1437,1485,1311,1068,1322,881,1166,1099,1119,1431,1161,1164,1536,1114,1463,1609,1142,1276,1243,1438,1366,1287,683,1464,1436,845,1563,1382,1419,1577,1648,1294,1298,1415,1191,1382,1470,1396,1164,1089,1470,1403,1289,1382,1678,974,1546,1502,1405,1058,1004,766,1308,1417,1557,1224,1378,878,1674,1480,1307,1267,1199,1272,1535,1031,1340,1187,1445,926,1064,1388,1182,1048,1372,516,1608,1049,1077,1598,1163,1384,753,756,1020,1503,1369,549,1144,1399,1498,720,1129,1554,1497,1515,1617,1237,1525,357,1276,1521,1365,1227,1564,1511,1634,1563,683,1168,1224,1575,1413,1470,1051,1136,1132,743,1294,885,984,998,1535,1003,1691,1655,1331,680,1373,1095,1085,1376,643,1353,1458,1160,1025,1260,1542,1608,1081,1311,1486,554,1481,1214,999,1447,1389,1379,1376,782,1084,999,1394,1650,1595,1504,1390,1350,1453,1353,1483,1066,891,950,834,1428,1336,1266,1545,1266,1268,978,1288,1076,1485,1498,1393,1438,946,598,1211,912,505,1546,1476,1367,1460,1377,1305,1258,1258,1077,1695,1498,701,1171,1243,902,1539,1345,1723,1528,1507,1491,579,1343,1258,1404,932,1602,1162,382,1222,1422,1592,976,1528,1258,458,1246,1500,1123,1711,1248,1072,1495,1186,1599,1416,1461,1271,1591,1217,1325,1623,1625,834,1458,718,1187,1653,1599,1537,1415,1360,1499,1469,1473,482,1271,1062,1442,796,666,1511,1703,819,1266,1262,551,1300,1506,905,1771,1165,1462,787,1685,1154,1208,1633,1181,1502,1254,951,257,971,1403,1329,962,838,1411,1588,1604,567,1441,1523,1148,671,1574,1258,1577,1303,1598,1431,957,1131,1532,1297,938,1488,1039,363,1515,1352,1104,1631,1028,1401,1337,1248,1474,1707,1224,1431,1124,1287,1063,1505,1296,1201,1038,1187,1443,857,1498,935,1349,983,1514,1360,1488,680,288,1467,963,1132,1690,1204,1474,1380,1294,1365,881,1549,1332,1247,1248,1186,1617,932,626,1369,1042,1302,1436,1399,947,924,1427,1152,1222,1527,1633,826,1284,1391,1523,1448,1450,1501,1015,1623,1354,685,1258,1391,1359,825,1501,1061,248,626,1267,1555,1442,901,1277,849,1682,1241,977,1236,1134,1331,1165,1229,1435,1634,1052,1091,769,1326,1174,1445,1301,1387,1557,1138,1249,1387,1095,1476,1349,1007,376,1169,1056,1291,1522,1007,1211,1484,1243,1394,679,1618,1152,1537,1235,944,1376,1268,1489,1364,1581,1415,1348,1502,777,1065,1201,725,1388,996,1316,1066,1026,535,1401,1354,1048,1428,1528,942,1102,1166,1458,1241,1468,1524,1190,1323,1485,889,1213,866,1282,1496,1498,1111,1727,1563,1449,1232,1510,1253,1426,797,1272,1238,749,1544,1462,1542,1147,453,1256,1110,1432,688,1337,1168,1147,1651,1393,1364,1135,940,1327,1578,1486,1145,1673,1293,1230,1192,1188,1121,559,1144,1183,1607,1261,1012,1431,1529,1414,1623,1184,773,1400,1245,1158,1603,1484,1282,1349,1451,959,368,1206,1211,1517,1629,1240,393,909,705,1384,1424,1307,1357,928,730,1143,1232,1266,1242,1252,1100,536,557,1075,1320,1588,1304,1568,901,1267,1383,1508,1199,1428,819,1571,1209,1281,1046,1462,1573,1548,1442,970,1538,1269,1530,1284,999,1359,1530,747,1483,1408,1266,1359,1435,1209,1374,1278,1685,1494,1210,1402,1382,1242,1477,1627,1671,1109,1258,1453,1730,889,1136,905,1515,770,1346,837,1168,1171,1335,1369,1340,1320,831,953,1221,572,1162,656,1498,785,1608,1182,1571,1066,1280,1382,1083,1064,1510,921,1312,1471,1338,1429,815,1465,506,1284,1766,1498,1746,1206,1178,1396,1155,762,692,1429,810,1331,1740,1319,1026,1596,1468,738,760,1271,1040,1551,1025,1433,1273,1138,1456,1273,1172,456,1087,1213,1513,780,1325,1537,1231,1111,1039,1043,1279,1482,1468,1354,1200,1375,919,1369,1244,1495,1253,1235,1449,1527,1148,1469,1609,1354,768,1121,1245,1178,1083,1624,844,1480,1155,567,1621,1422,67,750,1070,826,953,979,809,1216,1287,1020,1409,1454,1070,1513,1745,1326,1178,972,1564,1369,1427,1349,1083,1501,1034,1311,1260,1370,1369,1136,951,902,989,1267,703,1046,1021,984,1125,1333,800,1008,1589,1597,1133,1147,1357,1410,1602,1132,1103,1329,1278,1108,1559,575,1299,1526,934,1287,1257,533,1460,1517,1683,222,1492,795,1422,1262,1320,1114,893,1247,1380,1343,569,1120,1449,1524,1589,1499,1167,1337,1605,1386,1568,1464,1527,1240,760,1739,1158,834,1487,846,1326,805,1539,1103,1160,1204,1055,1426,1270,1487,1355,992,727,1212,1471,1150,1439,1502,1404,1285,1204,983,1287,995,906,757,1329,1529,1483,1353,1143,827,1490,1278,998,1431,1527,1331,1454,778,1360,1404,889,1468,1104,1080,1216,1514,953,854,866,1328,1379,1233,1314,1177,1351,1315,1312,1357,891,1145,1406,1260,1106,1149,1411,1182,1281,956,833,1217,1247,1590,1348,1088,1065,1211,1414,1735,1564,1556,1527,1114,1655,1509,1355,1541,602,1407,721,1286,707,1147,1111,1488,1423,1362,748,1350,1218,1319,1289,988,1406,1071,1313,1798,1349,1816,1701,1311,1325,1361,1387,1407,1241,1098,961,828,1371,1200,964,1218,1196,1201,1065,1004,1384,1146,1266,597,1294,1389,1571,1233,1437,1357,1546,1502,985,1179,874,1275,1058,1374,1043,1093,1500,1226,973,904,1298,999,1306,1577,1193,1431,1140,1368,1130,1196,1621,1642,1138,922,824,1022,1250,1438,1438,812,1541,1378,1287,767,1205,1094,703,324,1004,1105,1330,1227,1445,1412,1310,1083,875,1366,1624,1295,1489,1310,1322,1457,1290,1594,635,1171,1161,1366,1611,1626,1510,1512,1212,1657,334,1165,1059,1684,1314,1239,728,1196,1612,901,1174,1446,1126,674,1344,1471,1585,1555,992,1311,1405,1152,636,1498,789,1486,1645,1130,1256,555,1304,1109,875,679,1277,1528,1295,1640,1074,1318,1335,1428,1551,794,1079,874,985,272,1289,1535,1281,1374,1518,1180,1520,1447,1551,1369,697,1589,1360,979,506,1486,1151,1748,1038,1332,991,1289,1301,1512,1021,954,1248,1441,1029,934,1683,1330,1328,1558,404,1415,1218,1088,1705,1378,1131,1454,1521,748,1169,438,1117,1240,1451,1486,1211,1410,950,925,1339,1445,875,806,947,1578,1340,1100,1495,1045,1408,1630,1117,1103,1211,1342,1317,989,659,849,1506,880,1170,1642,1447,1301,1596,1581,499,1239,1404,1197,892,1447,1333,1226,1140,1317,1210,1551,1242,1063,1673,1376,1229,1251,1636,1425,1057,860,1208,1330,1302,1509,682,1161,1140,1120,1269,1502,1487,957,1291,1405,1164,1433,1581,1286,1455,1639,1102,1183,1487,1520,665,1447,1219,1480,832,1302,1471,972,1025,1527,1138,1393,750,1511,981,314,1423,1428,1691,1304,1279,1042,1236,1433,1407,1416,1437,1135,897,973,1115,706,860,1290,1724,1311,1147,1497,957,1391,1486,1582,1462,1197,1058,1277,1344,977,1436,921,1293,1598,1592,1430,1496,824,1380,937,1270,1494,759,1279,1346,1166,942,1400,1328,1065,1202,1678,879,1436,1047,1226,1465,1538,1148,1039,1333,1476,1182,1540,838,1363,849,1291,1147,1695,983,1304,1457,1253,1243,1055,1325,751,1217,1041,1721,1481,763,1366,1151,1121,1457,1504,1593,1324,1272,1338,1290,1234,1370,1691,860,1400,740,1443,1065,1633,1333,1177,1497,1262,774,566,633,1093,1448,934,856,853,1150,1444,1411,1242,1326,1250,652,778,1183,1453,1219,1505,1119,1307,1229,1276,1151,1324,911,1505,1244,1075,1323,1245,1396,1428,1491,1384,566,1700,1405,1609,1390,1114,1496,1532,1247,955,1084,839,1392,1628,964,1303,1127,691,792,470,1410,1029,993,1358,1096,1599,1192,1442,1077,1599,1208,1568,973,1433,1330,1246,1260,406,1126,897,1167,1249,1379,880,1121,943,1076,1285,431,1625,943,773,1612,901,1351,1189,1011,1691,1565,322,1236,1368,1502,1368,1147,1589,1475,1450,1306,830,1127,1476,1533,911,1413,1410,1267,468,911,722,1237,968,1445,1219,1345,1305,1375,1146,518,1378,807,1617,1159,1347,1096,1657,1677,1414,580,562,1427,816,962,1585,1140,1160,1220,1301,1165,1635,1048,1490,1422,1199,1270,979,1211,959,961,1356,1287,1263,1218,1419,1224,1304,958,570,1521,846,1080,1529,1415,1101,756,1566,1372,909,1121,1150,785,1399,1446,984,1467,1410,1404,1398,941,1570,1106,961,1621,1490,1247,1529,1348,1547,1201,1353,806,1540,868,1212,1098,1096,1472,1542,1645,1677,1412,1229,334,793,688,1634,1188,1549,1433,1439,1155,1149,1390,495,415,1335,814,1283,1518,696,933,1310,993,1546,1266,1310,1570,1520,886,1404,1179,1331,1336,1178,1442,1456,1405,1357,1225,257,1135,1307,1457,1651,1585,1329,1571,1435,1746,1328,1120,1496,1312,809,1103,1366,1116,1426,1116,1174,821,1305,971,1656,1309],\"y0\":\" \",\"yaxis\":\"y\",\"type\":\"box\"}],                        {\"template\":{\"data\":{\"bar\":[{\"error_x\":{\"color\":\"#2a3f5f\"},\"error_y\":{\"color\":\"#2a3f5f\"},\"marker\":{\"line\":{\"color\":\"#E5ECF6\",\"width\":0.5},\"pattern\":{\"fillmode\":\"overlay\",\"size\":10,\"solidity\":0.2}},\"type\":\"bar\"}],\"barpolar\":[{\"marker\":{\"line\":{\"color\":\"#E5ECF6\",\"width\":0.5},\"pattern\":{\"fillmode\":\"overlay\",\"size\":10,\"solidity\":0.2}},\"type\":\"barpolar\"}],\"carpet\":[{\"aaxis\":{\"endlinecolor\":\"#2a3f5f\",\"gridcolor\":\"white\",\"linecolor\":\"white\",\"minorgridcolor\":\"white\",\"startlinecolor\":\"#2a3f5f\"},\"baxis\":{\"endlinecolor\":\"#2a3f5f\",\"gridcolor\":\"white\",\"linecolor\":\"white\",\"minorgridcolor\":\"white\",\"startlinecolor\":\"#2a3f5f\"},\"type\":\"carpet\"}],\"choropleth\":[{\"colorbar\":{\"outlinewidth\":0,\"ticks\":\"\"},\"type\":\"choropleth\"}],\"contour\":[{\"colorbar\":{\"outlinewidth\":0,\"ticks\":\"\"},\"colorscale\":[[0.0,\"#0d0887\"],[0.1111111111111111,\"#46039f\"],[0.2222222222222222,\"#7201a8\"],[0.3333333333333333,\"#9c179e\"],[0.4444444444444444,\"#bd3786\"],[0.5555555555555556,\"#d8576b\"],[0.6666666666666666,\"#ed7953\"],[0.7777777777777778,\"#fb9f3a\"],[0.8888888888888888,\"#fdca26\"],[1.0,\"#f0f921\"]],\"type\":\"contour\"}],\"contourcarpet\":[{\"colorbar\":{\"outlinewidth\":0,\"ticks\":\"\"},\"type\":\"contourcarpet\"}],\"heatmap\":[{\"colorbar\":{\"outlinewidth\":0,\"ticks\":\"\"},\"colorscale\":[[0.0,\"#0d0887\"],[0.1111111111111111,\"#46039f\"],[0.2222222222222222,\"#7201a8\"],[0.3333333333333333,\"#9c179e\"],[0.4444444444444444,\"#bd3786\"],[0.5555555555555556,\"#d8576b\"],[0.6666666666666666,\"#ed7953\"],[0.7777777777777778,\"#fb9f3a\"],[0.8888888888888888,\"#fdca26\"],[1.0,\"#f0f921\"]],\"type\":\"heatmap\"}],\"heatmapgl\":[{\"colorbar\":{\"outlinewidth\":0,\"ticks\":\"\"},\"colorscale\":[[0.0,\"#0d0887\"],[0.1111111111111111,\"#46039f\"],[0.2222222222222222,\"#7201a8\"],[0.3333333333333333,\"#9c179e\"],[0.4444444444444444,\"#bd3786\"],[0.5555555555555556,\"#d8576b\"],[0.6666666666666666,\"#ed7953\"],[0.7777777777777778,\"#fb9f3a\"],[0.8888888888888888,\"#fdca26\"],[1.0,\"#f0f921\"]],\"type\":\"heatmapgl\"}],\"histogram\":[{\"marker\":{\"pattern\":{\"fillmode\":\"overlay\",\"size\":10,\"solidity\":0.2}},\"type\":\"histogram\"}],\"histogram2d\":[{\"colorbar\":{\"outlinewidth\":0,\"ticks\":\"\"},\"colorscale\":[[0.0,\"#0d0887\"],[0.1111111111111111,\"#46039f\"],[0.2222222222222222,\"#7201a8\"],[0.3333333333333333,\"#9c179e\"],[0.4444444444444444,\"#bd3786\"],[0.5555555555555556,\"#d8576b\"],[0.6666666666666666,\"#ed7953\"],[0.7777777777777778,\"#fb9f3a\"],[0.8888888888888888,\"#fdca26\"],[1.0,\"#f0f921\"]],\"type\":\"histogram2d\"}],\"histogram2dcontour\":[{\"colorbar\":{\"outlinewidth\":0,\"ticks\":\"\"},\"colorscale\":[[0.0,\"#0d0887\"],[0.1111111111111111,\"#46039f\"],[0.2222222222222222,\"#7201a8\"],[0.3333333333333333,\"#9c179e\"],[0.4444444444444444,\"#bd3786\"],[0.5555555555555556,\"#d8576b\"],[0.6666666666666666,\"#ed7953\"],[0.7777777777777778,\"#fb9f3a\"],[0.8888888888888888,\"#fdca26\"],[1.0,\"#f0f921\"]],\"type\":\"histogram2dcontour\"}],\"mesh3d\":[{\"colorbar\":{\"outlinewidth\":0,\"ticks\":\"\"},\"type\":\"mesh3d\"}],\"parcoords\":[{\"line\":{\"colorbar\":{\"outlinewidth\":0,\"ticks\":\"\"}},\"type\":\"parcoords\"}],\"pie\":[{\"automargin\":true,\"type\":\"pie\"}],\"scatter\":[{\"marker\":{\"colorbar\":{\"outlinewidth\":0,\"ticks\":\"\"}},\"type\":\"scatter\"}],\"scatter3d\":[{\"line\":{\"colorbar\":{\"outlinewidth\":0,\"ticks\":\"\"}},\"marker\":{\"colorbar\":{\"outlinewidth\":0,\"ticks\":\"\"}},\"type\":\"scatter3d\"}],\"scattercarpet\":[{\"marker\":{\"colorbar\":{\"outlinewidth\":0,\"ticks\":\"\"}},\"type\":\"scattercarpet\"}],\"scattergeo\":[{\"marker\":{\"colorbar\":{\"outlinewidth\":0,\"ticks\":\"\"}},\"type\":\"scattergeo\"}],\"scattergl\":[{\"marker\":{\"colorbar\":{\"outlinewidth\":0,\"ticks\":\"\"}},\"type\":\"scattergl\"}],\"scattermapbox\":[{\"marker\":{\"colorbar\":{\"outlinewidth\":0,\"ticks\":\"\"}},\"type\":\"scattermapbox\"}],\"scatterpolar\":[{\"marker\":{\"colorbar\":{\"outlinewidth\":0,\"ticks\":\"\"}},\"type\":\"scatterpolar\"}],\"scatterpolargl\":[{\"marker\":{\"colorbar\":{\"outlinewidth\":0,\"ticks\":\"\"}},\"type\":\"scatterpolargl\"}],\"scatterternary\":[{\"marker\":{\"colorbar\":{\"outlinewidth\":0,\"ticks\":\"\"}},\"type\":\"scatterternary\"}],\"surface\":[{\"colorbar\":{\"outlinewidth\":0,\"ticks\":\"\"},\"colorscale\":[[0.0,\"#0d0887\"],[0.1111111111111111,\"#46039f\"],[0.2222222222222222,\"#7201a8\"],[0.3333333333333333,\"#9c179e\"],[0.4444444444444444,\"#bd3786\"],[0.5555555555555556,\"#d8576b\"],[0.6666666666666666,\"#ed7953\"],[0.7777777777777778,\"#fb9f3a\"],[0.8888888888888888,\"#fdca26\"],[1.0,\"#f0f921\"]],\"type\":\"surface\"}],\"table\":[{\"cells\":{\"fill\":{\"color\":\"#EBF0F8\"},\"line\":{\"color\":\"white\"}},\"header\":{\"fill\":{\"color\":\"#C8D4E3\"},\"line\":{\"color\":\"white\"}},\"type\":\"table\"}]},\"layout\":{\"annotationdefaults\":{\"arrowcolor\":\"#2a3f5f\",\"arrowhead\":0,\"arrowwidth\":1},\"autotypenumbers\":\"strict\",\"coloraxis\":{\"colorbar\":{\"outlinewidth\":0,\"ticks\":\"\"}},\"colorscale\":{\"diverging\":[[0,\"#8e0152\"],[0.1,\"#c51b7d\"],[0.2,\"#de77ae\"],[0.3,\"#f1b6da\"],[0.4,\"#fde0ef\"],[0.5,\"#f7f7f7\"],[0.6,\"#e6f5d0\"],[0.7,\"#b8e186\"],[0.8,\"#7fbc41\"],[0.9,\"#4d9221\"],[1,\"#276419\"]],\"sequential\":[[0.0,\"#0d0887\"],[0.1111111111111111,\"#46039f\"],[0.2222222222222222,\"#7201a8\"],[0.3333333333333333,\"#9c179e\"],[0.4444444444444444,\"#bd3786\"],[0.5555555555555556,\"#d8576b\"],[0.6666666666666666,\"#ed7953\"],[0.7777777777777778,\"#fb9f3a\"],[0.8888888888888888,\"#fdca26\"],[1.0,\"#f0f921\"]],\"sequentialminus\":[[0.0,\"#0d0887\"],[0.1111111111111111,\"#46039f\"],[0.2222222222222222,\"#7201a8\"],[0.3333333333333333,\"#9c179e\"],[0.4444444444444444,\"#bd3786\"],[0.5555555555555556,\"#d8576b\"],[0.6666666666666666,\"#ed7953\"],[0.7777777777777778,\"#fb9f3a\"],[0.8888888888888888,\"#fdca26\"],[1.0,\"#f0f921\"]]},\"colorway\":[\"#636efa\",\"#EF553B\",\"#00cc96\",\"#ab63fa\",\"#FFA15A\",\"#19d3f3\",\"#FF6692\",\"#B6E880\",\"#FF97FF\",\"#FECB52\"],\"font\":{\"color\":\"#2a3f5f\"},\"geo\":{\"bgcolor\":\"white\",\"lakecolor\":\"white\",\"landcolor\":\"#E5ECF6\",\"showlakes\":true,\"showland\":true,\"subunitcolor\":\"white\"},\"hoverlabel\":{\"align\":\"left\"},\"hovermode\":\"closest\",\"mapbox\":{\"style\":\"light\"},\"paper_bgcolor\":\"white\",\"plot_bgcolor\":\"#E5ECF6\",\"polar\":{\"angularaxis\":{\"gridcolor\":\"white\",\"linecolor\":\"white\",\"ticks\":\"\"},\"bgcolor\":\"#E5ECF6\",\"radialaxis\":{\"gridcolor\":\"white\",\"linecolor\":\"white\",\"ticks\":\"\"}},\"scene\":{\"xaxis\":{\"backgroundcolor\":\"#E5ECF6\",\"gridcolor\":\"white\",\"gridwidth\":2,\"linecolor\":\"white\",\"showbackground\":true,\"ticks\":\"\",\"zerolinecolor\":\"white\"},\"yaxis\":{\"backgroundcolor\":\"#E5ECF6\",\"gridcolor\":\"white\",\"gridwidth\":2,\"linecolor\":\"white\",\"showbackground\":true,\"ticks\":\"\",\"zerolinecolor\":\"white\"},\"zaxis\":{\"backgroundcolor\":\"#E5ECF6\",\"gridcolor\":\"white\",\"gridwidth\":2,\"linecolor\":\"white\",\"showbackground\":true,\"ticks\":\"\",\"zerolinecolor\":\"white\"}},\"shapedefaults\":{\"line\":{\"color\":\"#2a3f5f\"}},\"ternary\":{\"aaxis\":{\"gridcolor\":\"white\",\"linecolor\":\"white\",\"ticks\":\"\"},\"baxis\":{\"gridcolor\":\"white\",\"linecolor\":\"white\",\"ticks\":\"\"},\"bgcolor\":\"#E5ECF6\",\"caxis\":{\"gridcolor\":\"white\",\"linecolor\":\"white\",\"ticks\":\"\"}},\"title\":{\"x\":0.05},\"xaxis\":{\"automargin\":true,\"gridcolor\":\"white\",\"linecolor\":\"white\",\"ticks\":\"\",\"title\":{\"standoff\":15},\"zerolinecolor\":\"white\",\"zerolinewidth\":2},\"yaxis\":{\"automargin\":true,\"gridcolor\":\"white\",\"linecolor\":\"white\",\"ticks\":\"\",\"title\":{\"standoff\":15},\"zerolinecolor\":\"white\",\"zerolinewidth\":2}}},\"xaxis\":{\"anchor\":\"y\",\"domain\":[0.0,1.0],\"title\":{\"text\":\"variable\"}},\"yaxis\":{\"anchor\":\"x\",\"domain\":[0.0,1.0],\"title\":{\"text\":\"value\"}},\"legend\":{\"tracegroupgap\":0},\"margin\":{\"t\":60},\"boxmode\":\"group\"},                        {\"responsive\": true}                    ).then(function(){\n",
              "                            \n",
              "var gd = document.getElementById('50905c4f-53ab-421e-9bbf-39b1fb765c36');\n",
              "var x = new MutationObserver(function (mutations, observer) {{\n",
              "        var display = window.getComputedStyle(gd).display;\n",
              "        if (!display || display === 'none') {{\n",
              "            console.log([gd, 'removed!']);\n",
              "            Plotly.purge(gd);\n",
              "            observer.disconnect();\n",
              "        }}\n",
              "}});\n",
              "\n",
              "// Listen for the removal of the full notebook cells\n",
              "var notebookContainer = gd.closest('#notebook-container');\n",
              "if (notebookContainer) {{\n",
              "    x.observe(notebookContainer, {childList: true});\n",
              "}}\n",
              "\n",
              "// Listen for the clearing of the current output cell\n",
              "var outputEl = gd.closest('.output');\n",
              "if (outputEl) {{\n",
              "    x.observe(outputEl, {childList: true});\n",
              "}}\n",
              "\n",
              "                        })                };                            </script>        </div>\n",
              "</body>\n",
              "</html>"
            ]
          },
          "metadata": {}
        }
      ]
    },
    {
      "cell_type": "markdown",
      "source": [
        "By looking at the graph we can take max sequence length of `1800`"
      ],
      "metadata": {
        "id": "WqnoVuOMcDeG"
      }
    },
    {
      "cell_type": "markdown",
      "source": [
        "### Initialize Bert tokenizer and masks\n"
      ],
      "metadata": {
        "id": "KakI5pIDZqfc"
      }
    },
    {
      "cell_type": "code",
      "source": [
        "bert_model_name = 'bert-base-uncased'\n",
        "\n",
        "tokenizer = BertTokenizer.from_pretrained(bert_model_name, do_lower_case=True)\n",
        "MAX_LEN = 1800\n",
        "\n",
        "def tokenize_sentences(sentences, tokenizer, max_seq_len = 1800):\n",
        "    tokenized_sentences = []\n",
        "\n",
        "    for sentence in tqdm(sentences):\n",
        "        tokenized_sentence = tokenizer.encode(\n",
        "                            sentence,                  # Sentence to encode.\n",
        "                            add_special_tokens = True, # Add '[CLS]' and '[SEP]'\n",
        "                            max_length = max_seq_len,  # Truncate all sentences.\n",
        "                            truncation=True,\n",
        "                            padding=\"max_length\"\n",
        "                    )\n",
        "        \n",
        "        tokenized_sentences.append(tokenized_sentence)\n",
        "        \n",
        "    return tokenized_sentences\n",
        "\n",
        "def create_attention_masks(tokenized_and_padded_sentences):\n",
        "    attention_masks = []\n",
        "\n",
        "    for sentence in tokenized_and_padded_sentences:\n",
        "        att_mask = [int(token_id > 0) for token_id in sentence]\n",
        "        attention_masks.append(att_mask)\n",
        "\n",
        "    return np.asarray(attention_masks)"
      ],
      "metadata": {
        "id": "XLjJFBZvZX8l"
      },
      "execution_count": 64,
      "outputs": []
    },
    {
      "cell_type": "code",
      "source": [
        "train_input_ids = tokenize_sentences(train_data['cleaned'], tokenizer, MAX_LEN)\n",
        "# train_input_ids = pad_sequences(train_input_ids, maxlen=MAX_LEN, dtype=\"long\", value=0, truncating=\"post\", padding=\"post\")\n",
        "train_attention_masks = create_attention_masks(train_input_ids)\n",
        "\n",
        "test_input_ids = tokenize_sentences(test_data['cleaned'], tokenizer, MAX_LEN)\n",
        "# test_input_ids = pad_sequences(test_input_ids, maxlen=MAX_LEN, dtype=\"long\", value=0, truncating=\"post\", padding=\"post\")\n",
        "test_attention_masks = create_attention_masks(test_input_ids)"
      ],
      "metadata": {
        "colab": {
          "base_uri": "https://localhost:8080/"
        },
        "id": "pe6iioBpgAjh",
        "outputId": "003c5875-71bc-41f2-bd05-4f85c4e71db7"
      },
      "execution_count": 65,
      "outputs": [
        {
          "output_type": "stream",
          "name": "stderr",
          "text": [
            "100%|██████████| 6940/6940 [04:02<00:00, 28.58it/s]\n",
            "100%|██████████| 1735/1735 [01:00<00:00, 28.46it/s]\n"
          ]
        }
      ]
    },
    {
      "cell_type": "markdown",
      "source": [
        "### Define functions for evaluation"
      ],
      "metadata": {
        "id": "IiSuoXpysO0_"
      }
    },
    {
      "cell_type": "code",
      "source": [
        "def f1_m(y_true, y_pred):\n",
        "    precision = precision_m(y_true, y_pred)\n",
        "    recall = recall_m(y_true, y_pred)\n",
        "    return 2*((precision*recall)/(precision+recall+K.epsilon()))\n",
        "\n",
        "def recall_m(y_true, y_pred):\n",
        "    true_positives = K.sum(K.round(K.clip(y_true * y_pred, 0, 1)))\n",
        "    possible_positives = K.sum(K.round(K.clip(y_true, 0, 1)))\n",
        "    recall = true_positives / (possible_positives + K.epsilon())\n",
        "    return recall\n",
        "\n",
        "def precision_m(y_true, y_pred):\n",
        "    true_positives = K.sum(K.round(K.clip(y_true * y_pred, 0, 1)))\n",
        "    predicted_positives = K.sum(K.round(K.clip(y_pred, 0, 1)))\n",
        "    precision = true_positives / (predicted_positives + K.epsilon())\n",
        "    return precision"
      ],
      "metadata": {
        "id": "iZ2PzByUh7AS"
      },
      "execution_count": 68,
      "outputs": []
    },
    {
      "cell_type": "markdown",
      "source": [
        "### Model Building"
      ],
      "metadata": {
        "id": "5zId6N7qsf0f"
      }
    },
    {
      "cell_type": "code",
      "source": [
        "def build_model(): \n",
        "\n",
        "    input_ids = tf.keras.layers.Input(shape=(MAX_LEN,), dtype=tf.int32,\n",
        "                                           name=\"input_ids\")\n",
        "    \n",
        "    bert_layer = TFBertModel.from_pretrained('bert-base-uncased')\n",
        "    bert_outputs = bert_layer(input_ids)[0]\n",
        "\n",
        "    pred = tf.keras.layers.Dense(16, activation='softmax')(bert_outputs[:,0,:])\n",
        "    \n",
        "    model = tf.keras.models.Model(inputs=input_ids, outputs=pred)\n",
        "\n",
        "    loss = tf.keras.losses.SparseCategoricalCrossentropy(from_logits=True)\n",
        "\n",
        "    model.compile(loss=loss, optimizer=tf.keras.optimizers.Adam(\n",
        "    learning_rate=0.00002), metrics=['accuracy', f1_m, precision_m, recall_m])\n",
        "\n",
        "    return model\n"
      ],
      "metadata": {
        "id": "G74_v-tUse2V"
      },
      "execution_count": 70,
      "outputs": []
    },
    {
      "cell_type": "code",
      "source": [
        "y_train = train_data[\"type\"].values\n",
        "y_test = test_data[\"type\"].values"
      ],
      "metadata": {
        "id": "6ZPYQRnKuJWv"
      },
      "execution_count": 79,
      "outputs": []
    },
    {
      "cell_type": "markdown",
      "source": [
        "### Model Training"
      ],
      "metadata": {
        "id": "T9LQ54GIurBz"
      }
    },
    {
      "cell_type": "code",
      "source": [
        "use_tpu = True\n",
        "if use_tpu:\n",
        "    # Create distribution strategy\n",
        "    tpu = tf.distribute.cluster_resolver.TPUClusterResolver()\n",
        "    tf.config.experimental_connect_to_cluster(tpu)\n",
        "    tf.tpu.experimental.initialize_tpu_system(tpu)\n",
        "    strategy = tf.distribute.experimental.TPUStrategy(tpu)\n",
        "\n",
        "    # Create model\n",
        "    with strategy.scope():\n",
        "        model = build_model()\n",
        "else:\n",
        "    model = build_model()\n",
        "    \n",
        "model.summary()"
      ],
      "metadata": {
        "colab": {
          "base_uri": "https://localhost:8080/",
          "height": 1000,
          "referenced_widgets": [
            "ec4784a4ed634c7da86efc68185a1549",
            "9f5b8ad2e4c841e09e839643d903ee55",
            "4b80fbe3640f4c12804b525c16aab613",
            "6daaf71878f74c53932aed58e5199ed3",
            "395a1d44630848a8bbe1b57f4508bf11",
            "41f8556ca0434ca9a90c15b2fef1658f",
            "3c280ebcdfc7416d8e96255bc2721b4b",
            "1516ea232db64542a5c6f258fb3d3d34",
            "96d71f2118e14a9a8badbf1c5e37bfe4",
            "66737b75d5454807aac4b742f7e0e611",
            "9bcbc06a6c214510a4acd93aa2fee72a"
          ]
        },
        "id": "pJhJ1HBDuz7Y",
        "outputId": "e42b6223-ad05-49a6-cc26-73cce1e73070"
      },
      "execution_count": 80,
      "outputs": [
        {
          "output_type": "stream",
          "name": "stdout",
          "text": [
            "INFO:tensorflow:Deallocate tpu buffers before initializing tpu system.\n"
          ]
        },
        {
          "output_type": "stream",
          "name": "stderr",
          "text": [
            "INFO:tensorflow:Deallocate tpu buffers before initializing tpu system.\n"
          ]
        },
        {
          "output_type": "stream",
          "name": "stdout",
          "text": [
            "WARNING:tensorflow:TPU system grpc://10.53.137.170:8470 has already been initialized. Reinitializing the TPU can cause previously created variables on TPU to be lost.\n"
          ]
        },
        {
          "output_type": "stream",
          "name": "stderr",
          "text": [
            "WARNING:tensorflow:TPU system grpc://10.53.137.170:8470 has already been initialized. Reinitializing the TPU can cause previously created variables on TPU to be lost.\n"
          ]
        },
        {
          "output_type": "stream",
          "name": "stdout",
          "text": [
            "INFO:tensorflow:Initializing the TPU system: grpc://10.53.137.170:8470\n"
          ]
        },
        {
          "output_type": "stream",
          "name": "stderr",
          "text": [
            "INFO:tensorflow:Initializing the TPU system: grpc://10.53.137.170:8470\n"
          ]
        },
        {
          "output_type": "stream",
          "name": "stdout",
          "text": [
            "INFO:tensorflow:Finished initializing TPU system.\n"
          ]
        },
        {
          "output_type": "stream",
          "name": "stderr",
          "text": [
            "INFO:tensorflow:Finished initializing TPU system.\n",
            "WARNING:absl:`tf.distribute.experimental.TPUStrategy` is deprecated, please use  the non experimental symbol `tf.distribute.TPUStrategy` instead.\n"
          ]
        },
        {
          "output_type": "stream",
          "name": "stdout",
          "text": [
            "INFO:tensorflow:Found TPU system:\n"
          ]
        },
        {
          "output_type": "stream",
          "name": "stderr",
          "text": [
            "INFO:tensorflow:Found TPU system:\n"
          ]
        },
        {
          "output_type": "stream",
          "name": "stdout",
          "text": [
            "INFO:tensorflow:*** Num TPU Cores: 8\n"
          ]
        },
        {
          "output_type": "stream",
          "name": "stderr",
          "text": [
            "INFO:tensorflow:*** Num TPU Cores: 8\n"
          ]
        },
        {
          "output_type": "stream",
          "name": "stdout",
          "text": [
            "INFO:tensorflow:*** Num TPU Workers: 1\n"
          ]
        },
        {
          "output_type": "stream",
          "name": "stderr",
          "text": [
            "INFO:tensorflow:*** Num TPU Workers: 1\n"
          ]
        },
        {
          "output_type": "stream",
          "name": "stdout",
          "text": [
            "INFO:tensorflow:*** Num TPU Cores Per Worker: 8\n"
          ]
        },
        {
          "output_type": "stream",
          "name": "stderr",
          "text": [
            "INFO:tensorflow:*** Num TPU Cores Per Worker: 8\n"
          ]
        },
        {
          "output_type": "stream",
          "name": "stdout",
          "text": [
            "INFO:tensorflow:*** Available Device: _DeviceAttributes(/job:localhost/replica:0/task:0/device:CPU:0, CPU, 0, 0)\n"
          ]
        },
        {
          "output_type": "stream",
          "name": "stderr",
          "text": [
            "INFO:tensorflow:*** Available Device: _DeviceAttributes(/job:localhost/replica:0/task:0/device:CPU:0, CPU, 0, 0)\n"
          ]
        },
        {
          "output_type": "stream",
          "name": "stdout",
          "text": [
            "INFO:tensorflow:*** Available Device: _DeviceAttributes(/job:worker/replica:0/task:0/device:CPU:0, CPU, 0, 0)\n"
          ]
        },
        {
          "output_type": "stream",
          "name": "stderr",
          "text": [
            "INFO:tensorflow:*** Available Device: _DeviceAttributes(/job:worker/replica:0/task:0/device:CPU:0, CPU, 0, 0)\n"
          ]
        },
        {
          "output_type": "stream",
          "name": "stdout",
          "text": [
            "INFO:tensorflow:*** Available Device: _DeviceAttributes(/job:worker/replica:0/task:0/device:TPU:0, TPU, 0, 0)\n"
          ]
        },
        {
          "output_type": "stream",
          "name": "stderr",
          "text": [
            "INFO:tensorflow:*** Available Device: _DeviceAttributes(/job:worker/replica:0/task:0/device:TPU:0, TPU, 0, 0)\n"
          ]
        },
        {
          "output_type": "stream",
          "name": "stdout",
          "text": [
            "INFO:tensorflow:*** Available Device: _DeviceAttributes(/job:worker/replica:0/task:0/device:TPU:1, TPU, 0, 0)\n"
          ]
        },
        {
          "output_type": "stream",
          "name": "stderr",
          "text": [
            "INFO:tensorflow:*** Available Device: _DeviceAttributes(/job:worker/replica:0/task:0/device:TPU:1, TPU, 0, 0)\n"
          ]
        },
        {
          "output_type": "stream",
          "name": "stdout",
          "text": [
            "INFO:tensorflow:*** Available Device: _DeviceAttributes(/job:worker/replica:0/task:0/device:TPU:2, TPU, 0, 0)\n"
          ]
        },
        {
          "output_type": "stream",
          "name": "stderr",
          "text": [
            "INFO:tensorflow:*** Available Device: _DeviceAttributes(/job:worker/replica:0/task:0/device:TPU:2, TPU, 0, 0)\n"
          ]
        },
        {
          "output_type": "stream",
          "name": "stdout",
          "text": [
            "INFO:tensorflow:*** Available Device: _DeviceAttributes(/job:worker/replica:0/task:0/device:TPU:3, TPU, 0, 0)\n"
          ]
        },
        {
          "output_type": "stream",
          "name": "stderr",
          "text": [
            "INFO:tensorflow:*** Available Device: _DeviceAttributes(/job:worker/replica:0/task:0/device:TPU:3, TPU, 0, 0)\n"
          ]
        },
        {
          "output_type": "stream",
          "name": "stdout",
          "text": [
            "INFO:tensorflow:*** Available Device: _DeviceAttributes(/job:worker/replica:0/task:0/device:TPU:4, TPU, 0, 0)\n"
          ]
        },
        {
          "output_type": "stream",
          "name": "stderr",
          "text": [
            "INFO:tensorflow:*** Available Device: _DeviceAttributes(/job:worker/replica:0/task:0/device:TPU:4, TPU, 0, 0)\n"
          ]
        },
        {
          "output_type": "stream",
          "name": "stdout",
          "text": [
            "INFO:tensorflow:*** Available Device: _DeviceAttributes(/job:worker/replica:0/task:0/device:TPU:5, TPU, 0, 0)\n"
          ]
        },
        {
          "output_type": "stream",
          "name": "stderr",
          "text": [
            "INFO:tensorflow:*** Available Device: _DeviceAttributes(/job:worker/replica:0/task:0/device:TPU:5, TPU, 0, 0)\n"
          ]
        },
        {
          "output_type": "stream",
          "name": "stdout",
          "text": [
            "INFO:tensorflow:*** Available Device: _DeviceAttributes(/job:worker/replica:0/task:0/device:TPU:6, TPU, 0, 0)\n"
          ]
        },
        {
          "output_type": "stream",
          "name": "stderr",
          "text": [
            "INFO:tensorflow:*** Available Device: _DeviceAttributes(/job:worker/replica:0/task:0/device:TPU:6, TPU, 0, 0)\n"
          ]
        },
        {
          "output_type": "stream",
          "name": "stdout",
          "text": [
            "INFO:tensorflow:*** Available Device: _DeviceAttributes(/job:worker/replica:0/task:0/device:TPU:7, TPU, 0, 0)\n"
          ]
        },
        {
          "output_type": "stream",
          "name": "stderr",
          "text": [
            "INFO:tensorflow:*** Available Device: _DeviceAttributes(/job:worker/replica:0/task:0/device:TPU:7, TPU, 0, 0)\n"
          ]
        },
        {
          "output_type": "stream",
          "name": "stdout",
          "text": [
            "INFO:tensorflow:*** Available Device: _DeviceAttributes(/job:worker/replica:0/task:0/device:TPU_SYSTEM:0, TPU_SYSTEM, 0, 0)\n"
          ]
        },
        {
          "output_type": "stream",
          "name": "stderr",
          "text": [
            "INFO:tensorflow:*** Available Device: _DeviceAttributes(/job:worker/replica:0/task:0/device:TPU_SYSTEM:0, TPU_SYSTEM, 0, 0)\n"
          ]
        },
        {
          "output_type": "stream",
          "name": "stdout",
          "text": [
            "INFO:tensorflow:*** Available Device: _DeviceAttributes(/job:worker/replica:0/task:0/device:XLA_CPU:0, XLA_CPU, 0, 0)\n"
          ]
        },
        {
          "output_type": "stream",
          "name": "stderr",
          "text": [
            "INFO:tensorflow:*** Available Device: _DeviceAttributes(/job:worker/replica:0/task:0/device:XLA_CPU:0, XLA_CPU, 0, 0)\n"
          ]
        },
        {
          "output_type": "display_data",
          "data": {
            "application/vnd.jupyter.widget-view+json": {
              "model_id": "ec4784a4ed634c7da86efc68185a1549",
              "version_minor": 0,
              "version_major": 2
            },
            "text/plain": [
              "Downloading:   0%|          | 0.00/511M [00:00<?, ?B/s]"
            ]
          },
          "metadata": {}
        },
        {
          "output_type": "stream",
          "name": "stderr",
          "text": [
            "Some layers from the model checkpoint at bert-base-uncased were not used when initializing TFBertModel: ['mlm___cls', 'nsp___cls']\n",
            "- This IS expected if you are initializing TFBertModel from the checkpoint of a model trained on another task or with another architecture (e.g. initializing a BertForSequenceClassification model from a BertForPreTraining model).\n",
            "- This IS NOT expected if you are initializing TFBertModel from the checkpoint of a model that you expect to be exactly identical (initializing a BertForSequenceClassification model from a BertForSequenceClassification model).\n",
            "All the layers of TFBertModel were initialized from the model checkpoint at bert-base-uncased.\n",
            "If your task is similar to the task the model of the checkpoint was trained on, you can already use TFBertModel for predictions without further training.\n"
          ]
        },
        {
          "output_type": "stream",
          "name": "stdout",
          "text": [
            "Model: \"model\"\n",
            "_________________________________________________________________\n",
            " Layer (type)                Output Shape              Param #   \n",
            "=================================================================\n",
            " input_ids (InputLayer)      [(None, 1800)]            0         \n",
            "                                                                 \n",
            " tf_bert_model (TFBertModel)  TFBaseModelOutputWithPoo  109482240\n",
            "                             lingAndCrossAttentions(l            \n",
            "                             ast_hidden_state=(None,             \n",
            "                             1800, 768),                         \n",
            "                              pooler_output=(None, 76            \n",
            "                             8),                                 \n",
            "                              past_key_values=None, h            \n",
            "                             idden_states=None, atten            \n",
            "                             tions=None, cross_attent            \n",
            "                             ions=None)                          \n",
            "                                                                 \n",
            " tf.__operators__.getitem (S  (None, 768)              0         \n",
            " licingOpLambda)                                                 \n",
            "                                                                 \n",
            " dense (Dense)               (None, 16)                12304     \n",
            "                                                                 \n",
            "=================================================================\n",
            "Total params: 109,494,544\n",
            "Trainable params: 109,494,544\n",
            "Non-trainable params: 0\n",
            "_________________________________________________________________\n"
          ]
        }
      ]
    },
    {
      "cell_type": "code",
      "source": [
        "history = model.fit(np.array(train_input_ids), y_train, verbose = 1, epochs = 10,\n",
        "                    batch_size = 32,\n",
        "                    callbacks = [tf.keras.callbacks.EarlyStopping(patience = 5)])"
      ],
      "metadata": {
        "colab": {
          "base_uri": "https://localhost:8080/"
        },
        "id": "7bVaqdLAuf9q",
        "outputId": "c30a6bdd-baa2-4539-a525-311400644c96"
      },
      "execution_count": null,
      "outputs": [
        {
          "output_type": "stream",
          "name": "stdout",
          "text": [
            "Epoch 1/10\n"
          ]
        },
        {
          "output_type": "stream",
          "name": "stderr",
          "text": [
            "/usr/local/lib/python3.7/dist-packages/tensorflow/python/util/dispatch.py:1082: UserWarning:\n",
            "\n",
            "\"`sparse_categorical_crossentropy` received `from_logits=True`, but the `output` argument was produced by a sigmoid or softmax activation and thus does not represent logits. Was this intended?\"\n",
            "\n"
          ]
        },
        {
          "output_type": "stream",
          "name": "stdout",
          "text": [
            "WARNING:tensorflow:Gradients do not exist for variables ['tf_bert_model/bert/pooler/dense/kernel:0', 'tf_bert_model/bert/pooler/dense/bias:0'] when minimizing the loss. If you're using `model.compile()`, did you forget to provide a `loss`argument?\n"
          ]
        },
        {
          "output_type": "stream",
          "name": "stderr",
          "text": [
            "WARNING:tensorflow:Gradients do not exist for variables ['tf_bert_model/bert/pooler/dense/kernel:0', 'tf_bert_model/bert/pooler/dense/bias:0'] when minimizing the loss. If you're using `model.compile()`, did you forget to provide a `loss`argument?\n"
          ]
        },
        {
          "output_type": "stream",
          "name": "stdout",
          "text": [
            "WARNING:tensorflow:Gradients do not exist for variables ['tf_bert_model/bert/pooler/dense/kernel:0', 'tf_bert_model/bert/pooler/dense/bias:0'] when minimizing the loss. If you're using `model.compile()`, did you forget to provide a `loss`argument?\n"
          ]
        },
        {
          "output_type": "stream",
          "name": "stderr",
          "text": [
            "WARNING:tensorflow:Gradients do not exist for variables ['tf_bert_model/bert/pooler/dense/kernel:0', 'tf_bert_model/bert/pooler/dense/bias:0'] when minimizing the loss. If you're using `model.compile()`, did you forget to provide a `loss`argument?\n"
          ]
        },
        {
          "output_type": "stream",
          "name": "stdout",
          "text": [
            " 23/217 [==>...........................] - ETA: 2:34 - loss: 2.4242 - accuracy: 0.1875 - f1_m: 10.7781 - precision_m: 211902208.0000 - recall_m: 5.3890"
          ]
        }
      ]
    },
    {
      "cell_type": "code",
      "source": [
        ""
      ],
      "metadata": {
        "id": "Xy9UzEIevHje"
      },
      "execution_count": null,
      "outputs": []
    }
  ]
}