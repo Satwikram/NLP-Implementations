{
  "nbformat": 4,
  "nbformat_minor": 0,
  "metadata": {
    "colab": {
      "name": "Adding Domain Specific tokens for BERT Tokenizer.ipynb",
      "provenance": [],
      "authorship_tag": "ABX9TyNJvFY7GtCiqYyitjtKJsm/",
      "include_colab_link": true
    },
    "kernelspec": {
      "name": "python3",
      "display_name": "Python 3"
    },
    "language_info": {
      "name": "python"
    },
    "accelerator": "GPU"
  },
  "cells": [
    {
      "cell_type": "markdown",
      "metadata": {
        "id": "view-in-github",
        "colab_type": "text"
      },
      "source": [
        "<a href=\"https://colab.research.google.com/github/Satwikram/NLP-Implementations/blob/main/BERT/Adding%20Domain%20Specific%20tokens%20for%20BERT%20Tokenizer.ipynb\" target=\"_parent\"><img src=\"https://colab.research.google.com/assets/colab-badge.svg\" alt=\"Open In Colab\"/></a>"
      ]
    },
    {
      "cell_type": "markdown",
      "source": [
        "### Author: Satwik Ram K"
      ],
      "metadata": {
        "id": "Ud9qSeelSk4e"
      }
    },
    {
      "cell_type": "markdown",
      "source": [
        "### Setup"
      ],
      "metadata": {
        "id": "TXpixXWDSr3S"
      }
    },
    {
      "cell_type": "code",
      "execution_count": null,
      "metadata": {
        "id": "yqjq0gthSRBt"
      },
      "outputs": [],
      "source": [
        "!pip install transformers\n",
        "!pip install tokenizers\n",
        "!pip install datasets"
      ]
    },
    {
      "cell_type": "code",
      "source": [
        ""
      ],
      "metadata": {
        "id": "EttmgSdGSxhG"
      },
      "execution_count": null,
      "outputs": []
    }
  ]
}