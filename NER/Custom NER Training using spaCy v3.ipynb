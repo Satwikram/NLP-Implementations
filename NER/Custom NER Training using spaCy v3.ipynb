{
  "nbformat": 4,
  "nbformat_minor": 0,
  "metadata": {
    "colab": {
      "name": "Custom NER Training using spaCy v3.ipynb",
      "provenance": [],
      "authorship_tag": "ABX9TyMOmQJbbQNUK41N3pR6AByy",
      "include_colab_link": true
    },
    "kernelspec": {
      "name": "python3",
      "display_name": "Python 3"
    },
    "language_info": {
      "name": "python"
    },
    "accelerator": "GPU",
    "gpuClass": "standard"
  },
  "cells": [
    {
      "cell_type": "markdown",
      "metadata": {
        "id": "view-in-github",
        "colab_type": "text"
      },
      "source": [
        "<a href=\"https://colab.research.google.com/github/Satwikram/NLP-Implementations/blob/main/NER/Custom%20NER%20Training%20using%20spaCy%20v3.ipynb\" target=\"_parent\"><img src=\"https://colab.research.google.com/assets/colab-badge.svg\" alt=\"Open In Colab\"/></a>"
      ]
    },
    {
      "cell_type": "markdown",
      "source": [
        "### Author: Satwik Ram K"
      ],
      "metadata": {
        "id": "NSxC-k7lITy9"
      }
    },
    {
      "cell_type": "markdown",
      "source": [
        "### Imports"
      ],
      "metadata": {
        "id": "lwmUJMMdIY3r"
      }
    },
    {
      "cell_type": "code",
      "source": [
        "import spacy\n",
        "from spacy.tokens import DocBin\n",
        "from tqdm import tqdm\n",
        "import os"
      ],
      "metadata": {
        "id": "gFjbQRYdIa6z"
      },
      "execution_count": 12,
      "outputs": []
    },
    {
      "cell_type": "markdown",
      "source": [
        "### Training Data"
      ],
      "metadata": {
        "id": "hAemrZzsIWw3"
      }
    },
    {
      "cell_type": "code",
      "execution_count": 7,
      "metadata": {
        "id": "RMrpZJyvGIVe"
      },
      "outputs": [],
      "source": [
        "TRAIN_DATA = [\n",
        "              (\"Walmart is a leading e-commerce company\", {\"entities\": [(0, 7, \"ORG\")]}),\n",
        "              (\"I reached Chennai yesterday.\", {\"entities\": [(19, 28, \"GPE\")]}),\n",
        "              (\"I recently ordered a book from Amazon\", {\"entities\": [(24,32, \"ORG\")]}),\n",
        "              (\"I was driving a BMW\", {\"entities\": [(16,19, \"PRODUCT\")]}),\n",
        "              (\"I ordered this from ShopClues\", {\"entities\": [(20,29, \"ORG\")]}),\n",
        "              (\"Fridge can be ordered in Amazon \", {\"entities\": [(0,6, \"PRODUCT\")]}),\n",
        "              (\"I bought a new Washer\", {\"entities\": [(16,22, \"PRODUCT\")]}),\n",
        "              (\"I bought a old table\", {\"entities\": [(16,21, \"PRODUCT\")]}),\n",
        "              (\"I bought a fancy dress\", {\"entities\": [(18,23, \"PRODUCT\")]}),\n",
        "              (\"I rented a camera\", {\"entities\": [(12,18, \"PRODUCT\")]}),\n",
        "              (\"I rented a tent for our trip\", {\"entities\": [(12,16, \"PRODUCT\")]}),\n",
        "              (\"I rented a screwdriver from our neighbour\", {\"entities\": [(12,22, \"PRODUCT\")]})\n",
        "]"
      ]
    },
    {
      "cell_type": "markdown",
      "source": [
        "### Test Data"
      ],
      "metadata": {
        "id": "pFmdMW_66CR4"
      }
    },
    {
      "cell_type": "code",
      "source": [
        "TEST_DATA = [\n",
        "              (\"I repaired my computer\", {\"entities\": [(15,23, \"PRODUCT\")]}),\n",
        "              (\"I got my clock fixed\", {\"entities\": [(16,21, \"PRODUCT\")]}),\n",
        "              (\"I got my truck fixed\", {\"entities\": [(16,21, \"PRODUCT\")]}),\n",
        "              (\"Flipkart started it's journey from zero\", {\"entities\": [(0,8, \"ORG\")]}),\n",
        "              (\"I recently ordered from Max\", {\"entities\": [(24,27, \"ORG\")]}),\n",
        "              (\"Flipkart is recognized as leader in market\",{\"entities\": [(0,8, \"ORG\")]}),\n",
        "              (\"I recently ordered from Swiggy\", {\"entities\": [(24,29, \"ORG\")]})\n",
        "]"
      ],
      "metadata": {
        "id": "QXZNcOwS6D48"
      },
      "execution_count": 8,
      "outputs": []
    },
    {
      "cell_type": "markdown",
      "source": [
        "### Initialize the blank en model"
      ],
      "metadata": {
        "id": "HgoWZ97P5kXU"
      }
    },
    {
      "cell_type": "code",
      "source": [
        "nlp = spacy.blank('en')"
      ],
      "metadata": {
        "id": "cbmPW0Ki5om5"
      },
      "execution_count": 9,
      "outputs": []
    },
    {
      "cell_type": "markdown",
      "source": [
        "### Convert Data into spaCy format"
      ],
      "metadata": {
        "id": "4LxYAKVV5evF"
      }
    },
    {
      "cell_type": "code",
      "source": [
        "class Convert:\n",
        "\n",
        "    def __init__(self, nlp) -> None:\n",
        "        self.nlp = nlp\n",
        "\n",
        "    def to_spacy(self, data, split):\n",
        "        \n",
        "        db = DocBin()\n",
        "        for text, annot in data:\n",
        "            doc = self.nlp.make_doc(text)\n",
        "            ents = []\n",
        "            for start, end, label in annot[\"entities\"]:\n",
        "                span = doc.char_span(start, end, label=label, alignment_mode=\"contract\")\n",
        "                if span is None:\n",
        "                    print(\"Skipping\", label)\n",
        "                else:\n",
        "                    ents.append(span)\n",
        "            try:\n",
        "                doc.ents = ents \n",
        "                db.add(doc)\n",
        "\n",
        "            except Exception as e:\n",
        "                print(f\"Error:{e} {text}, {annot}\")\n",
        "        \n",
        "        os.makedirs(\"./data\", exist_ok=True)\n",
        "        db.to_disk(f\"data/{split}.spacy\")"
      ],
      "metadata": {
        "id": "55DGorRH5c44"
      },
      "execution_count": 21,
      "outputs": []
    },
    {
      "cell_type": "code",
      "source": [
        "convert = Convert(nlp)\n",
        "\n",
        "convert.to_spacy(TRAIN_DATA, \"train\")\n",
        "convert.to_spacy(TEST_DATA, \"test\")"
      ],
      "metadata": {
        "id": "p3o4TeBE58IO"
      },
      "execution_count": null,
      "outputs": []
    },
    {
      "cell_type": "code",
      "source": [
        ""
      ],
      "metadata": {
        "id": "zEiFnPKQ7czi"
      },
      "execution_count": null,
      "outputs": []
    }
  ]
}