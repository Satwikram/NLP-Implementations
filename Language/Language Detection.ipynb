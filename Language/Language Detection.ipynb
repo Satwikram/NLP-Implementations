{
  "nbformat": 4,
  "nbformat_minor": 0,
  "metadata": {
    "colab": {
      "provenance": [],
      "authorship_tag": "ABX9TyN35eNk3QHjVMdGRXuSkIYU",
      "include_colab_link": true
    },
    "kernelspec": {
      "name": "python3",
      "display_name": "Python 3"
    },
    "language_info": {
      "name": "python"
    },
    "gpuClass": "standard"
  },
  "cells": [
    {
      "cell_type": "markdown",
      "metadata": {
        "id": "view-in-github",
        "colab_type": "text"
      },
      "source": [
        "<a href=\"https://colab.research.google.com/github/Satwikram/NLP-Implementations/blob/main/Language/Language%20Detection.ipynb\" target=\"_parent\"><img src=\"https://colab.research.google.com/assets/colab-badge.svg\" alt=\"Open In Colab\"/></a>"
      ]
    },
    {
      "cell_type": "markdown",
      "source": [
        "### Author: Satwik Ram K\n",
        "\n",
        "Language Detection"
      ],
      "metadata": {
        "id": "gkZ8cywh5Bnf"
      }
    },
    {
      "cell_type": "markdown",
      "source": [
        "### Setup"
      ],
      "metadata": {
        "id": "S4SRaVgS5Qrc"
      }
    },
    {
      "cell_type": "code",
      "source": [
        "!pip install spacy_langdetect\n",
        "!python -m spacy download en_core_web_lg"
      ],
      "metadata": {
        "colab": {
          "base_uri": "https://localhost:8080/"
        },
        "id": "ytkLlBHsI1R4",
        "outputId": "de7a3e81-ebc9-471d-dd6f-ccfe8cee0227"
      },
      "execution_count": 13,
      "outputs": [
        {
          "output_type": "stream",
          "name": "stdout",
          "text": [
            "Installing collected packages: langdetect, spacy_langdetect\n",
            "Successfully installed langdetect-1.0.7 spacy_langdetect-0.1.2\n"
          ]
        }
      ]
    },
    {
      "cell_type": "markdown",
      "source": [
        "### Imports"
      ],
      "metadata": {
        "id": "A7yAbl8k5dyF"
      }
    },
    {
      "cell_type": "code",
      "source": [
        "import spacy\n",
        "from spacy_langdetect import LanguageDetector\n",
        "from spacy.language import Language"
      ],
      "metadata": {
        "id": "VKzsN89BFyw3"
      },
      "execution_count": 5,
      "outputs": []
    },
    {
      "cell_type": "markdown",
      "source": [
        "### Load Large model"
      ],
      "metadata": {
        "id": "jdeS0_jmMoek"
      }
    },
    {
      "cell_type": "code",
      "source": [
        "nlp = spacy.load('en_core_web_lg', disable=[\"tagger\", \"ner\"])"
      ],
      "metadata": {
        "id": "bq3tVtVXI-ya"
      },
      "execution_count": 6,
      "outputs": []
    },
    {
      "cell_type": "markdown",
      "source": [
        "### Add pipeline"
      ],
      "metadata": {
        "id": "yn4OJEMBMtI4"
      }
    },
    {
      "cell_type": "code",
      "source": [
        "def create_lang_detector(nlp, name):\n",
        "    return LanguageDetector()\n",
        "\n",
        "Language.factory(\"language_detector\", func=create_lang_detector)"
      ],
      "metadata": {
        "colab": {
          "base_uri": "https://localhost:8080/"
        },
        "id": "UBbATySDKdr3",
        "outputId": "79276fe2-e09d-4432-c590-a5ab20e89a97"
      },
      "execution_count": 3,
      "outputs": [
        {
          "output_type": "execute_result",
          "data": {
            "text/plain": [
              "<function __main__.create_lang_detector(nlp, name)>"
            ]
          },
          "metadata": {},
          "execution_count": 3
        }
      ]
    },
    {
      "cell_type": "code",
      "source": [
        "nlp.max_length = 2000000\n",
        "nlp.add_pipe('language_detector', last=True)"
      ],
      "metadata": {
        "colab": {
          "base_uri": "https://localhost:8080/"
        },
        "id": "09Nb_OH5MZBC",
        "outputId": "dd9cc0d8-63ff-4a93-c7c7-3f2e7e79668d"
      },
      "execution_count": 7,
      "outputs": [
        {
          "output_type": "execute_result",
          "data": {
            "text/plain": [
              "<spacy_langdetect.spacy_langdetect.LanguageDetector at 0x7f7eaf7bc3a0>"
            ]
          },
          "metadata": {},
          "execution_count": 7
        }
      ]
    },
    {
      "cell_type": "markdown",
      "source": [
        "### Detect"
      ],
      "metadata": {
        "id": "3Thlfuu3Mvd9"
      }
    },
    {
      "cell_type": "code",
      "execution_count": 8,
      "metadata": {
        "colab": {
          "base_uri": "https://localhost:8080/"
        },
        "id": "SzkCknGb4wYy",
        "outputId": "6a3d491d-4c8f-4de2-9d4a-4bf1e379999d"
      },
      "outputs": [
        {
          "output_type": "stream",
          "name": "stderr",
          "text": [
            "/usr/local/lib/python3.9/dist-packages/spacy/pipeline/lemmatizer.py:211: UserWarning: [W108] The rule-based lemmatizer did not find POS annotation for one or more tokens. Check that your pipeline includes components that assign token.pos, typically 'tagger'+'attribute_ruler' or 'morphologizer'.\n",
            "  warnings.warn(Warnings.W108)\n"
          ]
        },
        {
          "output_type": "stream",
          "name": "stdout",
          "text": [
            "{'language': 'es', 'score': 0.9999928754550336}\n"
          ]
        }
      ],
      "source": [
        "# Example text to detect language\n",
        "text = \"Es una flor\"\n",
        "\n",
        "doc = nlp(text)\n",
        "\n",
        "detect_language = doc._.language\n",
        "\n",
        "print(detect_language)"
      ]
    },
    {
      "cell_type": "code",
      "source": [],
      "metadata": {
        "id": "R9I5gfyMGUAq"
      },
      "execution_count": null,
      "outputs": []
    }
  ]
}