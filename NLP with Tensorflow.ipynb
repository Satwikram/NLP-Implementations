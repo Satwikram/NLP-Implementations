{
  "nbformat": 4,
  "nbformat_minor": 0,
  "metadata": {
    "colab": {
      "name": "NLP with Tensorflow.ipynb",
      "provenance": [],
      "collapsed_sections": [],
      "toc_visible": true,
      "authorship_tag": "ABX9TyOgWAVwRE8gQM295vNocdFZ",
      "include_colab_link": true
    },
    "kernelspec": {
      "name": "python3",
      "display_name": "Python 3"
    },
    "language_info": {
      "name": "python"
    },
    "accelerator": "GPU"
  },
  "cells": [
    {
      "cell_type": "markdown",
      "metadata": {
        "id": "view-in-github",
        "colab_type": "text"
      },
      "source": [
        "<a href=\"https://colab.research.google.com/github/Satwikram/NLP-Implementations/blob/main/NLP%20with%20Tensorflow.ipynb\" target=\"_parent\"><img src=\"https://colab.research.google.com/assets/colab-badge.svg\" alt=\"Open In Colab\"/></a>"
      ]
    },
    {
      "cell_type": "markdown",
      "metadata": {
        "id": "XyQ2EJvbBDmk"
      },
      "source": [
        "### Author: Satwik Ram K"
      ]
    },
    {
      "cell_type": "markdown",
      "metadata": {
        "id": "pv1d6w6aBMqa"
      },
      "source": [
        "### Importing the dependencies"
      ]
    },
    {
      "cell_type": "code",
      "metadata": {
        "id": "c91_mXNABQGh"
      },
      "source": [
        "import numpy as np\n",
        "import pandas as pd\n",
        "import tensorflow as tf\n",
        "from tensorflow.keras.preprocessing.text import Tokenizer"
      ],
      "execution_count": 1,
      "outputs": []
    },
    {
      "cell_type": "markdown",
      "metadata": {
        "id": "bgtd0R3VBIHP"
      },
      "source": [
        "### Word Encodings"
      ]
    },
    {
      "cell_type": "markdown",
      "metadata": {
        "id": "a2MR1rxrBhmi"
      },
      "source": [
        "#### Define training sentences"
      ]
    },
    {
      "cell_type": "code",
      "metadata": {
        "id": "0uLFbRKDA8wG"
      },
      "source": [
        "train_sentences = [\n",
        "                   \"I am Satwik\",\n",
        "                   \"I am Vinay\",\n",
        "                   \"We live in Bengaluru\"\n",
        "]"
      ],
      "execution_count": 2,
      "outputs": []
    },
    {
      "cell_type": "markdown",
      "metadata": {
        "id": "QDWK3qYCBuMl"
      },
      "source": [
        "#### Setup the tokenizer"
      ]
    },
    {
      "cell_type": "code",
      "metadata": {
        "id": "5oMyRaj-BrAa"
      },
      "source": [
        "tokenizer = Tokenizer(num_words = 100)"
      ],
      "execution_count": 3,
      "outputs": []
    },
    {
      "cell_type": "code",
      "metadata": {
        "id": "7nX8wQKDCFkG"
      },
      "source": [
        "tokenizer.fit_on_texts(train_sentences)"
      ],
      "execution_count": 4,
      "outputs": []
    },
    {
      "cell_type": "code",
      "metadata": {
        "colab": {
          "base_uri": "https://localhost:8080/"
        },
        "id": "6-RJ4yBoCL63",
        "outputId": "1d047211-d071-4c9b-f499-4f7918eaec74"
      },
      "source": [
        "tokenizer.word_index"
      ],
      "execution_count": 5,
      "outputs": [
        {
          "output_type": "execute_result",
          "data": {
            "text/plain": [
              "{'am': 2,\n",
              " 'bengaluru': 8,\n",
              " 'i': 1,\n",
              " 'in': 7,\n",
              " 'live': 6,\n",
              " 'satwik': 3,\n",
              " 'vinay': 4,\n",
              " 'we': 5}"
            ]
          },
          "metadata": {},
          "execution_count": 5
        }
      ]
    },
    {
      "cell_type": "markdown",
      "metadata": {
        "id": "0y8thSH_Cvym"
      },
      "source": [
        "#### Text to Sequences"
      ]
    },
    {
      "cell_type": "code",
      "metadata": {
        "colab": {
          "base_uri": "https://localhost:8080/"
        },
        "id": "or1scf5bCQcW",
        "outputId": "86ec6a48-722f-4484-b494-bbba8623e951"
      },
      "source": [
        "tokenizer.texts_to_sequences(train_sentences)"
      ],
      "execution_count": 6,
      "outputs": [
        {
          "output_type": "execute_result",
          "data": {
            "text/plain": [
              "[[1, 2, 3], [1, 2, 4], [5, 6, 7, 8]]"
            ]
          },
          "metadata": {},
          "execution_count": 6
        }
      ]
    },
    {
      "cell_type": "markdown",
      "metadata": {
        "id": "56s6PMZ0DDu3"
      },
      "source": [
        "### Tokenizing new data using same tokenizer"
      ]
    },
    {
      "cell_type": "code",
      "metadata": {
        "id": "6oKNphNjC1n3"
      },
      "source": [
        "new_sentences = [\n",
        "                 \"its sunny day\",\n",
        "                 \"Cloudy wheather\",\n",
        "]"
      ],
      "execution_count": 7,
      "outputs": []
    },
    {
      "cell_type": "code",
      "metadata": {
        "colab": {
          "base_uri": "https://localhost:8080/"
        },
        "id": "PAZrsjTMDWJw",
        "outputId": "b04d8454-0d32-4e10-bd35-c8fc293defe8"
      },
      "source": [
        "tokenizer.texts_to_sequences(new_sentences)"
      ],
      "execution_count": 8,
      "outputs": [
        {
          "output_type": "execute_result",
          "data": {
            "text/plain": [
              "[[], []]"
            ]
          },
          "metadata": {},
          "execution_count": 8
        }
      ]
    },
    {
      "cell_type": "markdown",
      "metadata": {
        "id": "ZawYAPnxDbuT"
      },
      "source": [
        "We can see that tokenizer was not trained on these words. Hence we got empty list."
      ]
    },
    {
      "cell_type": "markdown",
      "metadata": {
        "id": "P_qFGbTPDm1_"
      },
      "source": [
        "#### Using OOV to avoid this"
      ]
    },
    {
      "cell_type": "code",
      "metadata": {
        "id": "0seQopunDaMz"
      },
      "source": [
        "tokenizer = Tokenizer(num_words = 100, oov_token = \"<oov>\")"
      ],
      "execution_count": 9,
      "outputs": []
    },
    {
      "cell_type": "code",
      "metadata": {
        "id": "l8sYqZQLD3Se"
      },
      "source": [
        "tokenizer.fit_on_texts(train_sentences)"
      ],
      "execution_count": 10,
      "outputs": []
    },
    {
      "cell_type": "code",
      "metadata": {
        "colab": {
          "base_uri": "https://localhost:8080/"
        },
        "id": "VMyeLO3ED7QZ",
        "outputId": "50a3eb6e-f9bc-4deb-e2b6-5677f84d4db1"
      },
      "source": [
        "tokenizer.word_index"
      ],
      "execution_count": 11,
      "outputs": [
        {
          "output_type": "execute_result",
          "data": {
            "text/plain": [
              "{'<oov>': 1,\n",
              " 'am': 3,\n",
              " 'bengaluru': 9,\n",
              " 'i': 2,\n",
              " 'in': 8,\n",
              " 'live': 7,\n",
              " 'satwik': 4,\n",
              " 'vinay': 5,\n",
              " 'we': 6}"
            ]
          },
          "metadata": {},
          "execution_count": 11
        }
      ]
    },
    {
      "cell_type": "code",
      "metadata": {
        "colab": {
          "base_uri": "https://localhost:8080/"
        },
        "id": "Z3FuD-oyD9dn",
        "outputId": "adb9211b-6052-46a1-f715-49ef2ec25455"
      },
      "source": [
        "tokenizer.texts_to_sequences(train_sentences)"
      ],
      "execution_count": 12,
      "outputs": [
        {
          "output_type": "execute_result",
          "data": {
            "text/plain": [
              "[[2, 3, 4], [2, 3, 5], [6, 7, 8, 9]]"
            ]
          },
          "metadata": {},
          "execution_count": 12
        }
      ]
    },
    {
      "cell_type": "code",
      "metadata": {
        "colab": {
          "base_uri": "https://localhost:8080/"
        },
        "id": "Ja8LFQ0hECfH",
        "outputId": "893248c8-8619-474f-ff9d-930f9c20a4a2"
      },
      "source": [
        "tokenizer.texts_to_sequences(new_sentences)"
      ],
      "execution_count": 13,
      "outputs": [
        {
          "output_type": "execute_result",
          "data": {
            "text/plain": [
              "[[1, 1, 1], [1, 1]]"
            ]
          },
          "metadata": {},
          "execution_count": 13
        }
      ]
    },
    {
      "cell_type": "markdown",
      "metadata": {
        "id": "77GkdZYJEVru"
      },
      "source": [
        "### Padding"
      ]
    },
    {
      "cell_type": "code",
      "metadata": {
        "id": "BVZ_xRHFESuS"
      },
      "source": [
        "word_index = tokenizer.word_index"
      ],
      "execution_count": 14,
      "outputs": []
    },
    {
      "cell_type": "code",
      "metadata": {
        "colab": {
          "base_uri": "https://localhost:8080/"
        },
        "id": "bl6fvRjfEq-G",
        "outputId": "da6f9333-07c0-4583-dbe5-173efd826bb3"
      },
      "source": [
        "word_index"
      ],
      "execution_count": 15,
      "outputs": [
        {
          "output_type": "execute_result",
          "data": {
            "text/plain": [
              "{'<oov>': 1,\n",
              " 'am': 3,\n",
              " 'bengaluru': 9,\n",
              " 'i': 2,\n",
              " 'in': 8,\n",
              " 'live': 7,\n",
              " 'satwik': 4,\n",
              " 'vinay': 5,\n",
              " 'we': 6}"
            ]
          },
          "metadata": {},
          "execution_count": 15
        }
      ]
    },
    {
      "cell_type": "code",
      "metadata": {
        "id": "3IGZkc1HEsIJ"
      },
      "source": [
        "sequences = tokenizer.texts_to_sequences(train_sentences)"
      ],
      "execution_count": 16,
      "outputs": []
    },
    {
      "cell_type": "code",
      "metadata": {
        "colab": {
          "base_uri": "https://localhost:8080/"
        },
        "id": "aQ2A4HNKEw8o",
        "outputId": "10fc4d25-d5be-476b-9fcc-37871955ac18"
      },
      "source": [
        "sequences"
      ],
      "execution_count": 17,
      "outputs": [
        {
          "output_type": "execute_result",
          "data": {
            "text/plain": [
              "[[2, 3, 4], [2, 3, 5], [6, 7, 8, 9]]"
            ]
          },
          "metadata": {},
          "execution_count": 17
        }
      ]
    },
    {
      "cell_type": "code",
      "metadata": {
        "id": "Ic5goUtfE0Fh"
      },
      "source": [
        "from tensorflow.keras.preprocessing.sequence import pad_sequences"
      ],
      "execution_count": 18,
      "outputs": []
    },
    {
      "cell_type": "code",
      "metadata": {
        "id": "MfVYlnJXFS1f"
      },
      "source": [
        "padded_sequence = pad_sequences(sequences = sequences)"
      ],
      "execution_count": 19,
      "outputs": []
    },
    {
      "cell_type": "code",
      "metadata": {
        "colab": {
          "base_uri": "https://localhost:8080/"
        },
        "id": "Vt1qPs2EFteT",
        "outputId": "cf65708a-a589-4fdd-dd51-c2aa1cc98bb6"
      },
      "source": [
        "padded_sequence"
      ],
      "execution_count": 20,
      "outputs": [
        {
          "output_type": "execute_result",
          "data": {
            "text/plain": [
              "array([[0, 2, 3, 4],\n",
              "       [0, 2, 3, 5],\n",
              "       [6, 7, 8, 9]], dtype=int32)"
            ]
          },
          "metadata": {},
          "execution_count": 20
        }
      ]
    },
    {
      "cell_type": "code",
      "metadata": {
        "colab": {
          "base_uri": "https://localhost:8080/"
        },
        "id": "Zds5shiJFum3",
        "outputId": "d14a3f28-3288-459e-f605-c13c9b0f2c1e"
      },
      "source": [
        "print(train_sentences)\n",
        "print(word_index)\n",
        "print(sequences)\n",
        "print(padded_sequence)"
      ],
      "execution_count": 21,
      "outputs": [
        {
          "output_type": "stream",
          "name": "stdout",
          "text": [
            "['I am Satwik', 'I am Vinay', 'We live in Bengaluru']\n",
            "{'<oov>': 1, 'i': 2, 'am': 3, 'satwik': 4, 'vinay': 5, 'we': 6, 'live': 7, 'in': 8, 'bengaluru': 9}\n",
            "[[2, 3, 4], [2, 3, 5], [6, 7, 8, 9]]\n",
            "[[0 2 3 4]\n",
            " [0 2 3 5]\n",
            " [6 7 8 9]]\n"
          ]
        }
      ]
    },
    {
      "cell_type": "markdown",
      "metadata": {
        "id": "Y4HWyMbiGKae"
      },
      "source": [
        "#### Customizing padding sequences"
      ]
    },
    {
      "cell_type": "code",
      "metadata": {
        "id": "LOljRZZCF55f"
      },
      "source": [
        "padded_sequence = pad_sequences(sequences = sequences, padding = \"post\",\n",
        "                                maxlen = 5, truncating = \"post\")"
      ],
      "execution_count": 22,
      "outputs": []
    },
    {
      "cell_type": "code",
      "metadata": {
        "colab": {
          "base_uri": "https://localhost:8080/"
        },
        "id": "8qRzYsy9GjGc",
        "outputId": "c8ecc60d-aa45-458a-a758-2c889ce8e065"
      },
      "source": [
        "padded_sequence"
      ],
      "execution_count": 25,
      "outputs": [
        {
          "output_type": "execute_result",
          "data": {
            "text/plain": [
              "array([[2, 3, 4, 0, 0],\n",
              "       [2, 3, 5, 0, 0],\n",
              "       [6, 7, 8, 9, 0]], dtype=int32)"
            ]
          },
          "metadata": {},
          "execution_count": 25
        }
      ]
    },
    {
      "cell_type": "code",
      "metadata": {
        "id": "09MIZ4LdTWOa"
      },
      "source": [
        "train_sentences = [\n",
        "                   \"I am Satwik\",\n",
        "                   \"I am Vinay\",\n",
        "                   \"We live in Bengaluru, Karnataka, India. ok , ieieeuheh\"\n",
        "]"
      ],
      "execution_count": 29,
      "outputs": []
    },
    {
      "cell_type": "code",
      "metadata": {
        "id": "sbRxsKe-QFCF"
      },
      "source": [
        "padded_sequence = pad_sequences(sequences = sequences, padding = \"post\",\n",
        "                                maxlen = 5, truncating = \"post\")"
      ],
      "execution_count": 30,
      "outputs": []
    },
    {
      "cell_type": "code",
      "metadata": {
        "colab": {
          "base_uri": "https://localhost:8080/"
        },
        "id": "5FoGBRvzTaHB",
        "outputId": "4e4902be-3420-4800-d18a-82e49334e190"
      },
      "source": [
        "padded_sequence"
      ],
      "execution_count": 31,
      "outputs": [
        {
          "output_type": "execute_result",
          "data": {
            "text/plain": [
              "array([[2, 3, 4, 0, 0],\n",
              "       [2, 3, 5, 0, 0],\n",
              "       [6, 7, 8, 9, 0]], dtype=int32)"
            ]
          },
          "metadata": {},
          "execution_count": 31
        }
      ]
    },
    {
      "cell_type": "code",
      "metadata": {
        "id": "kagWyluPTcLe"
      },
      "source": [
        ""
      ],
      "execution_count": null,
      "outputs": []
    }
  ]
}