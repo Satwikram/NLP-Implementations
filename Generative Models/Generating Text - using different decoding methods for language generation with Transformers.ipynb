{
  "nbformat": 4,
  "nbformat_minor": 0,
  "metadata": {
    "colab": {
      "provenance": [],
      "authorship_tag": "ABX9TyPqedLfsJZb8sHP9DVkgJZx",
      "include_colab_link": true
    },
    "kernelspec": {
      "name": "python3",
      "display_name": "Python 3"
    },
    "language_info": {
      "name": "python"
    },
    "accelerator": "GPU",
    "gpuClass": "standard",
    "widgets": {
      "application/vnd.jupyter.widget-state+json": {
        "65e248e12e9446a1b525bbeb261972d7": {
          "model_module": "@jupyter-widgets/controls",
          "model_name": "HBoxModel",
          "model_module_version": "1.5.0",
          "state": {
            "_dom_classes": [],
            "_model_module": "@jupyter-widgets/controls",
            "_model_module_version": "1.5.0",
            "_model_name": "HBoxModel",
            "_view_count": null,
            "_view_module": "@jupyter-widgets/controls",
            "_view_module_version": "1.5.0",
            "_view_name": "HBoxView",
            "box_style": "",
            "children": [
              "IPY_MODEL_a37d1940657f424f90972772eb3b664c",
              "IPY_MODEL_893f362bf33f458c96db9a1eaa939442",
              "IPY_MODEL_3280b36124f04e9dbd626360efbb053f"
            ],
            "layout": "IPY_MODEL_d019fc2acb3d4860ac74e83a9f036c64"
          }
        },
        "a37d1940657f424f90972772eb3b664c": {
          "model_module": "@jupyter-widgets/controls",
          "model_name": "HTMLModel",
          "model_module_version": "1.5.0",
          "state": {
            "_dom_classes": [],
            "_model_module": "@jupyter-widgets/controls",
            "_model_module_version": "1.5.0",
            "_model_name": "HTMLModel",
            "_view_count": null,
            "_view_module": "@jupyter-widgets/controls",
            "_view_module_version": "1.5.0",
            "_view_name": "HTMLView",
            "description": "",
            "description_tooltip": null,
            "layout": "IPY_MODEL_4ff014aba6a34766abc7e86da284a269",
            "placeholder": "​",
            "style": "IPY_MODEL_bced8dc1150e46178ddabd8888dca024",
            "value": "Downloading (…)olve/main/vocab.json: 100%"
          }
        },
        "893f362bf33f458c96db9a1eaa939442": {
          "model_module": "@jupyter-widgets/controls",
          "model_name": "FloatProgressModel",
          "model_module_version": "1.5.0",
          "state": {
            "_dom_classes": [],
            "_model_module": "@jupyter-widgets/controls",
            "_model_module_version": "1.5.0",
            "_model_name": "FloatProgressModel",
            "_view_count": null,
            "_view_module": "@jupyter-widgets/controls",
            "_view_module_version": "1.5.0",
            "_view_name": "ProgressView",
            "bar_style": "success",
            "description": "",
            "description_tooltip": null,
            "layout": "IPY_MODEL_077838969f4749e098d0d8735c914f0f",
            "max": 1042301,
            "min": 0,
            "orientation": "horizontal",
            "style": "IPY_MODEL_f5acccf6306f4c6ca9a9332edfe59e0b",
            "value": 1042301
          }
        },
        "3280b36124f04e9dbd626360efbb053f": {
          "model_module": "@jupyter-widgets/controls",
          "model_name": "HTMLModel",
          "model_module_version": "1.5.0",
          "state": {
            "_dom_classes": [],
            "_model_module": "@jupyter-widgets/controls",
            "_model_module_version": "1.5.0",
            "_model_name": "HTMLModel",
            "_view_count": null,
            "_view_module": "@jupyter-widgets/controls",
            "_view_module_version": "1.5.0",
            "_view_name": "HTMLView",
            "description": "",
            "description_tooltip": null,
            "layout": "IPY_MODEL_927694991867469cb1ebe1a2c21d953c",
            "placeholder": "​",
            "style": "IPY_MODEL_7daafc92fab7400b8985f83884f99616",
            "value": " 1.04M/1.04M [00:01&lt;00:00, 943kB/s]"
          }
        },
        "d019fc2acb3d4860ac74e83a9f036c64": {
          "model_module": "@jupyter-widgets/base",
          "model_name": "LayoutModel",
          "model_module_version": "1.2.0",
          "state": {
            "_model_module": "@jupyter-widgets/base",
            "_model_module_version": "1.2.0",
            "_model_name": "LayoutModel",
            "_view_count": null,
            "_view_module": "@jupyter-widgets/base",
            "_view_module_version": "1.2.0",
            "_view_name": "LayoutView",
            "align_content": null,
            "align_items": null,
            "align_self": null,
            "border": null,
            "bottom": null,
            "display": null,
            "flex": null,
            "flex_flow": null,
            "grid_area": null,
            "grid_auto_columns": null,
            "grid_auto_flow": null,
            "grid_auto_rows": null,
            "grid_column": null,
            "grid_gap": null,
            "grid_row": null,
            "grid_template_areas": null,
            "grid_template_columns": null,
            "grid_template_rows": null,
            "height": null,
            "justify_content": null,
            "justify_items": null,
            "left": null,
            "margin": null,
            "max_height": null,
            "max_width": null,
            "min_height": null,
            "min_width": null,
            "object_fit": null,
            "object_position": null,
            "order": null,
            "overflow": null,
            "overflow_x": null,
            "overflow_y": null,
            "padding": null,
            "right": null,
            "top": null,
            "visibility": null,
            "width": null
          }
        },
        "4ff014aba6a34766abc7e86da284a269": {
          "model_module": "@jupyter-widgets/base",
          "model_name": "LayoutModel",
          "model_module_version": "1.2.0",
          "state": {
            "_model_module": "@jupyter-widgets/base",
            "_model_module_version": "1.2.0",
            "_model_name": "LayoutModel",
            "_view_count": null,
            "_view_module": "@jupyter-widgets/base",
            "_view_module_version": "1.2.0",
            "_view_name": "LayoutView",
            "align_content": null,
            "align_items": null,
            "align_self": null,
            "border": null,
            "bottom": null,
            "display": null,
            "flex": null,
            "flex_flow": null,
            "grid_area": null,
            "grid_auto_columns": null,
            "grid_auto_flow": null,
            "grid_auto_rows": null,
            "grid_column": null,
            "grid_gap": null,
            "grid_row": null,
            "grid_template_areas": null,
            "grid_template_columns": null,
            "grid_template_rows": null,
            "height": null,
            "justify_content": null,
            "justify_items": null,
            "left": null,
            "margin": null,
            "max_height": null,
            "max_width": null,
            "min_height": null,
            "min_width": null,
            "object_fit": null,
            "object_position": null,
            "order": null,
            "overflow": null,
            "overflow_x": null,
            "overflow_y": null,
            "padding": null,
            "right": null,
            "top": null,
            "visibility": null,
            "width": null
          }
        },
        "bced8dc1150e46178ddabd8888dca024": {
          "model_module": "@jupyter-widgets/controls",
          "model_name": "DescriptionStyleModel",
          "model_module_version": "1.5.0",
          "state": {
            "_model_module": "@jupyter-widgets/controls",
            "_model_module_version": "1.5.0",
            "_model_name": "DescriptionStyleModel",
            "_view_count": null,
            "_view_module": "@jupyter-widgets/base",
            "_view_module_version": "1.2.0",
            "_view_name": "StyleView",
            "description_width": ""
          }
        },
        "077838969f4749e098d0d8735c914f0f": {
          "model_module": "@jupyter-widgets/base",
          "model_name": "LayoutModel",
          "model_module_version": "1.2.0",
          "state": {
            "_model_module": "@jupyter-widgets/base",
            "_model_module_version": "1.2.0",
            "_model_name": "LayoutModel",
            "_view_count": null,
            "_view_module": "@jupyter-widgets/base",
            "_view_module_version": "1.2.0",
            "_view_name": "LayoutView",
            "align_content": null,
            "align_items": null,
            "align_self": null,
            "border": null,
            "bottom": null,
            "display": null,
            "flex": null,
            "flex_flow": null,
            "grid_area": null,
            "grid_auto_columns": null,
            "grid_auto_flow": null,
            "grid_auto_rows": null,
            "grid_column": null,
            "grid_gap": null,
            "grid_row": null,
            "grid_template_areas": null,
            "grid_template_columns": null,
            "grid_template_rows": null,
            "height": null,
            "justify_content": null,
            "justify_items": null,
            "left": null,
            "margin": null,
            "max_height": null,
            "max_width": null,
            "min_height": null,
            "min_width": null,
            "object_fit": null,
            "object_position": null,
            "order": null,
            "overflow": null,
            "overflow_x": null,
            "overflow_y": null,
            "padding": null,
            "right": null,
            "top": null,
            "visibility": null,
            "width": null
          }
        },
        "f5acccf6306f4c6ca9a9332edfe59e0b": {
          "model_module": "@jupyter-widgets/controls",
          "model_name": "ProgressStyleModel",
          "model_module_version": "1.5.0",
          "state": {
            "_model_module": "@jupyter-widgets/controls",
            "_model_module_version": "1.5.0",
            "_model_name": "ProgressStyleModel",
            "_view_count": null,
            "_view_module": "@jupyter-widgets/base",
            "_view_module_version": "1.2.0",
            "_view_name": "StyleView",
            "bar_color": null,
            "description_width": ""
          }
        },
        "927694991867469cb1ebe1a2c21d953c": {
          "model_module": "@jupyter-widgets/base",
          "model_name": "LayoutModel",
          "model_module_version": "1.2.0",
          "state": {
            "_model_module": "@jupyter-widgets/base",
            "_model_module_version": "1.2.0",
            "_model_name": "LayoutModel",
            "_view_count": null,
            "_view_module": "@jupyter-widgets/base",
            "_view_module_version": "1.2.0",
            "_view_name": "LayoutView",
            "align_content": null,
            "align_items": null,
            "align_self": null,
            "border": null,
            "bottom": null,
            "display": null,
            "flex": null,
            "flex_flow": null,
            "grid_area": null,
            "grid_auto_columns": null,
            "grid_auto_flow": null,
            "grid_auto_rows": null,
            "grid_column": null,
            "grid_gap": null,
            "grid_row": null,
            "grid_template_areas": null,
            "grid_template_columns": null,
            "grid_template_rows": null,
            "height": null,
            "justify_content": null,
            "justify_items": null,
            "left": null,
            "margin": null,
            "max_height": null,
            "max_width": null,
            "min_height": null,
            "min_width": null,
            "object_fit": null,
            "object_position": null,
            "order": null,
            "overflow": null,
            "overflow_x": null,
            "overflow_y": null,
            "padding": null,
            "right": null,
            "top": null,
            "visibility": null,
            "width": null
          }
        },
        "7daafc92fab7400b8985f83884f99616": {
          "model_module": "@jupyter-widgets/controls",
          "model_name": "DescriptionStyleModel",
          "model_module_version": "1.5.0",
          "state": {
            "_model_module": "@jupyter-widgets/controls",
            "_model_module_version": "1.5.0",
            "_model_name": "DescriptionStyleModel",
            "_view_count": null,
            "_view_module": "@jupyter-widgets/base",
            "_view_module_version": "1.2.0",
            "_view_name": "StyleView",
            "description_width": ""
          }
        },
        "4dce8a11e333484f901c27f7b2cf419d": {
          "model_module": "@jupyter-widgets/controls",
          "model_name": "HBoxModel",
          "model_module_version": "1.5.0",
          "state": {
            "_dom_classes": [],
            "_model_module": "@jupyter-widgets/controls",
            "_model_module_version": "1.5.0",
            "_model_name": "HBoxModel",
            "_view_count": null,
            "_view_module": "@jupyter-widgets/controls",
            "_view_module_version": "1.5.0",
            "_view_name": "HBoxView",
            "box_style": "",
            "children": [
              "IPY_MODEL_b09adb3a327a40c4af6b8bcdfcf685dc",
              "IPY_MODEL_40f60976d0aa43f580a7cb21ef5da38b",
              "IPY_MODEL_d7d221c98bc94321ae812c507781090e"
            ],
            "layout": "IPY_MODEL_fc9d27ca4d854de288ede245fb413e1e"
          }
        },
        "b09adb3a327a40c4af6b8bcdfcf685dc": {
          "model_module": "@jupyter-widgets/controls",
          "model_name": "HTMLModel",
          "model_module_version": "1.5.0",
          "state": {
            "_dom_classes": [],
            "_model_module": "@jupyter-widgets/controls",
            "_model_module_version": "1.5.0",
            "_model_name": "HTMLModel",
            "_view_count": null,
            "_view_module": "@jupyter-widgets/controls",
            "_view_module_version": "1.5.0",
            "_view_name": "HTMLView",
            "description": "",
            "description_tooltip": null,
            "layout": "IPY_MODEL_1f5f99ec9fd9476d880d0ba8691f1799",
            "placeholder": "​",
            "style": "IPY_MODEL_160f4d2e341a463dae46c1effe76899c",
            "value": "Downloading (…)olve/main/merges.txt: 100%"
          }
        },
        "40f60976d0aa43f580a7cb21ef5da38b": {
          "model_module": "@jupyter-widgets/controls",
          "model_name": "FloatProgressModel",
          "model_module_version": "1.5.0",
          "state": {
            "_dom_classes": [],
            "_model_module": "@jupyter-widgets/controls",
            "_model_module_version": "1.5.0",
            "_model_name": "FloatProgressModel",
            "_view_count": null,
            "_view_module": "@jupyter-widgets/controls",
            "_view_module_version": "1.5.0",
            "_view_name": "ProgressView",
            "bar_style": "success",
            "description": "",
            "description_tooltip": null,
            "layout": "IPY_MODEL_76e640c80e204a46b5915e433e6ceaf6",
            "max": 456318,
            "min": 0,
            "orientation": "horizontal",
            "style": "IPY_MODEL_380424a535b443feb05c9f5c35419271",
            "value": 456318
          }
        },
        "d7d221c98bc94321ae812c507781090e": {
          "model_module": "@jupyter-widgets/controls",
          "model_name": "HTMLModel",
          "model_module_version": "1.5.0",
          "state": {
            "_dom_classes": [],
            "_model_module": "@jupyter-widgets/controls",
            "_model_module_version": "1.5.0",
            "_model_name": "HTMLModel",
            "_view_count": null,
            "_view_module": "@jupyter-widgets/controls",
            "_view_module_version": "1.5.0",
            "_view_name": "HTMLView",
            "description": "",
            "description_tooltip": null,
            "layout": "IPY_MODEL_f7c9a3c63232498fb26a42b3e6f8945d",
            "placeholder": "​",
            "style": "IPY_MODEL_98bcc2884c9e409fba393a92de29afb0",
            "value": " 456k/456k [00:01&lt;00:00, 411kB/s]"
          }
        },
        "fc9d27ca4d854de288ede245fb413e1e": {
          "model_module": "@jupyter-widgets/base",
          "model_name": "LayoutModel",
          "model_module_version": "1.2.0",
          "state": {
            "_model_module": "@jupyter-widgets/base",
            "_model_module_version": "1.2.0",
            "_model_name": "LayoutModel",
            "_view_count": null,
            "_view_module": "@jupyter-widgets/base",
            "_view_module_version": "1.2.0",
            "_view_name": "LayoutView",
            "align_content": null,
            "align_items": null,
            "align_self": null,
            "border": null,
            "bottom": null,
            "display": null,
            "flex": null,
            "flex_flow": null,
            "grid_area": null,
            "grid_auto_columns": null,
            "grid_auto_flow": null,
            "grid_auto_rows": null,
            "grid_column": null,
            "grid_gap": null,
            "grid_row": null,
            "grid_template_areas": null,
            "grid_template_columns": null,
            "grid_template_rows": null,
            "height": null,
            "justify_content": null,
            "justify_items": null,
            "left": null,
            "margin": null,
            "max_height": null,
            "max_width": null,
            "min_height": null,
            "min_width": null,
            "object_fit": null,
            "object_position": null,
            "order": null,
            "overflow": null,
            "overflow_x": null,
            "overflow_y": null,
            "padding": null,
            "right": null,
            "top": null,
            "visibility": null,
            "width": null
          }
        },
        "1f5f99ec9fd9476d880d0ba8691f1799": {
          "model_module": "@jupyter-widgets/base",
          "model_name": "LayoutModel",
          "model_module_version": "1.2.0",
          "state": {
            "_model_module": "@jupyter-widgets/base",
            "_model_module_version": "1.2.0",
            "_model_name": "LayoutModel",
            "_view_count": null,
            "_view_module": "@jupyter-widgets/base",
            "_view_module_version": "1.2.0",
            "_view_name": "LayoutView",
            "align_content": null,
            "align_items": null,
            "align_self": null,
            "border": null,
            "bottom": null,
            "display": null,
            "flex": null,
            "flex_flow": null,
            "grid_area": null,
            "grid_auto_columns": null,
            "grid_auto_flow": null,
            "grid_auto_rows": null,
            "grid_column": null,
            "grid_gap": null,
            "grid_row": null,
            "grid_template_areas": null,
            "grid_template_columns": null,
            "grid_template_rows": null,
            "height": null,
            "justify_content": null,
            "justify_items": null,
            "left": null,
            "margin": null,
            "max_height": null,
            "max_width": null,
            "min_height": null,
            "min_width": null,
            "object_fit": null,
            "object_position": null,
            "order": null,
            "overflow": null,
            "overflow_x": null,
            "overflow_y": null,
            "padding": null,
            "right": null,
            "top": null,
            "visibility": null,
            "width": null
          }
        },
        "160f4d2e341a463dae46c1effe76899c": {
          "model_module": "@jupyter-widgets/controls",
          "model_name": "DescriptionStyleModel",
          "model_module_version": "1.5.0",
          "state": {
            "_model_module": "@jupyter-widgets/controls",
            "_model_module_version": "1.5.0",
            "_model_name": "DescriptionStyleModel",
            "_view_count": null,
            "_view_module": "@jupyter-widgets/base",
            "_view_module_version": "1.2.0",
            "_view_name": "StyleView",
            "description_width": ""
          }
        },
        "76e640c80e204a46b5915e433e6ceaf6": {
          "model_module": "@jupyter-widgets/base",
          "model_name": "LayoutModel",
          "model_module_version": "1.2.0",
          "state": {
            "_model_module": "@jupyter-widgets/base",
            "_model_module_version": "1.2.0",
            "_model_name": "LayoutModel",
            "_view_count": null,
            "_view_module": "@jupyter-widgets/base",
            "_view_module_version": "1.2.0",
            "_view_name": "LayoutView",
            "align_content": null,
            "align_items": null,
            "align_self": null,
            "border": null,
            "bottom": null,
            "display": null,
            "flex": null,
            "flex_flow": null,
            "grid_area": null,
            "grid_auto_columns": null,
            "grid_auto_flow": null,
            "grid_auto_rows": null,
            "grid_column": null,
            "grid_gap": null,
            "grid_row": null,
            "grid_template_areas": null,
            "grid_template_columns": null,
            "grid_template_rows": null,
            "height": null,
            "justify_content": null,
            "justify_items": null,
            "left": null,
            "margin": null,
            "max_height": null,
            "max_width": null,
            "min_height": null,
            "min_width": null,
            "object_fit": null,
            "object_position": null,
            "order": null,
            "overflow": null,
            "overflow_x": null,
            "overflow_y": null,
            "padding": null,
            "right": null,
            "top": null,
            "visibility": null,
            "width": null
          }
        },
        "380424a535b443feb05c9f5c35419271": {
          "model_module": "@jupyter-widgets/controls",
          "model_name": "ProgressStyleModel",
          "model_module_version": "1.5.0",
          "state": {
            "_model_module": "@jupyter-widgets/controls",
            "_model_module_version": "1.5.0",
            "_model_name": "ProgressStyleModel",
            "_view_count": null,
            "_view_module": "@jupyter-widgets/base",
            "_view_module_version": "1.2.0",
            "_view_name": "StyleView",
            "bar_color": null,
            "description_width": ""
          }
        },
        "f7c9a3c63232498fb26a42b3e6f8945d": {
          "model_module": "@jupyter-widgets/base",
          "model_name": "LayoutModel",
          "model_module_version": "1.2.0",
          "state": {
            "_model_module": "@jupyter-widgets/base",
            "_model_module_version": "1.2.0",
            "_model_name": "LayoutModel",
            "_view_count": null,
            "_view_module": "@jupyter-widgets/base",
            "_view_module_version": "1.2.0",
            "_view_name": "LayoutView",
            "align_content": null,
            "align_items": null,
            "align_self": null,
            "border": null,
            "bottom": null,
            "display": null,
            "flex": null,
            "flex_flow": null,
            "grid_area": null,
            "grid_auto_columns": null,
            "grid_auto_flow": null,
            "grid_auto_rows": null,
            "grid_column": null,
            "grid_gap": null,
            "grid_row": null,
            "grid_template_areas": null,
            "grid_template_columns": null,
            "grid_template_rows": null,
            "height": null,
            "justify_content": null,
            "justify_items": null,
            "left": null,
            "margin": null,
            "max_height": null,
            "max_width": null,
            "min_height": null,
            "min_width": null,
            "object_fit": null,
            "object_position": null,
            "order": null,
            "overflow": null,
            "overflow_x": null,
            "overflow_y": null,
            "padding": null,
            "right": null,
            "top": null,
            "visibility": null,
            "width": null
          }
        },
        "98bcc2884c9e409fba393a92de29afb0": {
          "model_module": "@jupyter-widgets/controls",
          "model_name": "DescriptionStyleModel",
          "model_module_version": "1.5.0",
          "state": {
            "_model_module": "@jupyter-widgets/controls",
            "_model_module_version": "1.5.0",
            "_model_name": "DescriptionStyleModel",
            "_view_count": null,
            "_view_module": "@jupyter-widgets/base",
            "_view_module_version": "1.2.0",
            "_view_name": "StyleView",
            "description_width": ""
          }
        },
        "dcd3e559e0d148379b8005a7442a5611": {
          "model_module": "@jupyter-widgets/controls",
          "model_name": "HBoxModel",
          "model_module_version": "1.5.0",
          "state": {
            "_dom_classes": [],
            "_model_module": "@jupyter-widgets/controls",
            "_model_module_version": "1.5.0",
            "_model_name": "HBoxModel",
            "_view_count": null,
            "_view_module": "@jupyter-widgets/controls",
            "_view_module_version": "1.5.0",
            "_view_name": "HBoxView",
            "box_style": "",
            "children": [
              "IPY_MODEL_544182c19ad4451bad1ef46492be22d1",
              "IPY_MODEL_31c2f50ab4e7457792b5e5e36865949d",
              "IPY_MODEL_15c3fd29e03741f7ba946eaa97b72c7b"
            ],
            "layout": "IPY_MODEL_584d9ab0735247c89700ad4601aa18f4"
          }
        },
        "544182c19ad4451bad1ef46492be22d1": {
          "model_module": "@jupyter-widgets/controls",
          "model_name": "HTMLModel",
          "model_module_version": "1.5.0",
          "state": {
            "_dom_classes": [],
            "_model_module": "@jupyter-widgets/controls",
            "_model_module_version": "1.5.0",
            "_model_name": "HTMLModel",
            "_view_count": null,
            "_view_module": "@jupyter-widgets/controls",
            "_view_module_version": "1.5.0",
            "_view_name": "HTMLView",
            "description": "",
            "description_tooltip": null,
            "layout": "IPY_MODEL_5053af98e2dc432faa63683734312779",
            "placeholder": "​",
            "style": "IPY_MODEL_a6dfa49908b44b8383744a92b23cf3d4",
            "value": "Downloading (…)lve/main/config.json: 100%"
          }
        },
        "31c2f50ab4e7457792b5e5e36865949d": {
          "model_module": "@jupyter-widgets/controls",
          "model_name": "FloatProgressModel",
          "model_module_version": "1.5.0",
          "state": {
            "_dom_classes": [],
            "_model_module": "@jupyter-widgets/controls",
            "_model_module_version": "1.5.0",
            "_model_name": "FloatProgressModel",
            "_view_count": null,
            "_view_module": "@jupyter-widgets/controls",
            "_view_module_version": "1.5.0",
            "_view_name": "ProgressView",
            "bar_style": "success",
            "description": "",
            "description_tooltip": null,
            "layout": "IPY_MODEL_25a8f55713a84d35b982ff6ac2eadc8d",
            "max": 665,
            "min": 0,
            "orientation": "horizontal",
            "style": "IPY_MODEL_76c9305d7a8046e3bd1f4ddcba3f6c37",
            "value": 665
          }
        },
        "15c3fd29e03741f7ba946eaa97b72c7b": {
          "model_module": "@jupyter-widgets/controls",
          "model_name": "HTMLModel",
          "model_module_version": "1.5.0",
          "state": {
            "_dom_classes": [],
            "_model_module": "@jupyter-widgets/controls",
            "_model_module_version": "1.5.0",
            "_model_name": "HTMLModel",
            "_view_count": null,
            "_view_module": "@jupyter-widgets/controls",
            "_view_module_version": "1.5.0",
            "_view_name": "HTMLView",
            "description": "",
            "description_tooltip": null,
            "layout": "IPY_MODEL_835db3d2ac3042a7bf9854851a66dbb7",
            "placeholder": "​",
            "style": "IPY_MODEL_0a890ecd5a7b4be8a8d400969f467d63",
            "value": " 665/665 [00:00&lt;00:00, 37.8kB/s]"
          }
        },
        "584d9ab0735247c89700ad4601aa18f4": {
          "model_module": "@jupyter-widgets/base",
          "model_name": "LayoutModel",
          "model_module_version": "1.2.0",
          "state": {
            "_model_module": "@jupyter-widgets/base",
            "_model_module_version": "1.2.0",
            "_model_name": "LayoutModel",
            "_view_count": null,
            "_view_module": "@jupyter-widgets/base",
            "_view_module_version": "1.2.0",
            "_view_name": "LayoutView",
            "align_content": null,
            "align_items": null,
            "align_self": null,
            "border": null,
            "bottom": null,
            "display": null,
            "flex": null,
            "flex_flow": null,
            "grid_area": null,
            "grid_auto_columns": null,
            "grid_auto_flow": null,
            "grid_auto_rows": null,
            "grid_column": null,
            "grid_gap": null,
            "grid_row": null,
            "grid_template_areas": null,
            "grid_template_columns": null,
            "grid_template_rows": null,
            "height": null,
            "justify_content": null,
            "justify_items": null,
            "left": null,
            "margin": null,
            "max_height": null,
            "max_width": null,
            "min_height": null,
            "min_width": null,
            "object_fit": null,
            "object_position": null,
            "order": null,
            "overflow": null,
            "overflow_x": null,
            "overflow_y": null,
            "padding": null,
            "right": null,
            "top": null,
            "visibility": null,
            "width": null
          }
        },
        "5053af98e2dc432faa63683734312779": {
          "model_module": "@jupyter-widgets/base",
          "model_name": "LayoutModel",
          "model_module_version": "1.2.0",
          "state": {
            "_model_module": "@jupyter-widgets/base",
            "_model_module_version": "1.2.0",
            "_model_name": "LayoutModel",
            "_view_count": null,
            "_view_module": "@jupyter-widgets/base",
            "_view_module_version": "1.2.0",
            "_view_name": "LayoutView",
            "align_content": null,
            "align_items": null,
            "align_self": null,
            "border": null,
            "bottom": null,
            "display": null,
            "flex": null,
            "flex_flow": null,
            "grid_area": null,
            "grid_auto_columns": null,
            "grid_auto_flow": null,
            "grid_auto_rows": null,
            "grid_column": null,
            "grid_gap": null,
            "grid_row": null,
            "grid_template_areas": null,
            "grid_template_columns": null,
            "grid_template_rows": null,
            "height": null,
            "justify_content": null,
            "justify_items": null,
            "left": null,
            "margin": null,
            "max_height": null,
            "max_width": null,
            "min_height": null,
            "min_width": null,
            "object_fit": null,
            "object_position": null,
            "order": null,
            "overflow": null,
            "overflow_x": null,
            "overflow_y": null,
            "padding": null,
            "right": null,
            "top": null,
            "visibility": null,
            "width": null
          }
        },
        "a6dfa49908b44b8383744a92b23cf3d4": {
          "model_module": "@jupyter-widgets/controls",
          "model_name": "DescriptionStyleModel",
          "model_module_version": "1.5.0",
          "state": {
            "_model_module": "@jupyter-widgets/controls",
            "_model_module_version": "1.5.0",
            "_model_name": "DescriptionStyleModel",
            "_view_count": null,
            "_view_module": "@jupyter-widgets/base",
            "_view_module_version": "1.2.0",
            "_view_name": "StyleView",
            "description_width": ""
          }
        },
        "25a8f55713a84d35b982ff6ac2eadc8d": {
          "model_module": "@jupyter-widgets/base",
          "model_name": "LayoutModel",
          "model_module_version": "1.2.0",
          "state": {
            "_model_module": "@jupyter-widgets/base",
            "_model_module_version": "1.2.0",
            "_model_name": "LayoutModel",
            "_view_count": null,
            "_view_module": "@jupyter-widgets/base",
            "_view_module_version": "1.2.0",
            "_view_name": "LayoutView",
            "align_content": null,
            "align_items": null,
            "align_self": null,
            "border": null,
            "bottom": null,
            "display": null,
            "flex": null,
            "flex_flow": null,
            "grid_area": null,
            "grid_auto_columns": null,
            "grid_auto_flow": null,
            "grid_auto_rows": null,
            "grid_column": null,
            "grid_gap": null,
            "grid_row": null,
            "grid_template_areas": null,
            "grid_template_columns": null,
            "grid_template_rows": null,
            "height": null,
            "justify_content": null,
            "justify_items": null,
            "left": null,
            "margin": null,
            "max_height": null,
            "max_width": null,
            "min_height": null,
            "min_width": null,
            "object_fit": null,
            "object_position": null,
            "order": null,
            "overflow": null,
            "overflow_x": null,
            "overflow_y": null,
            "padding": null,
            "right": null,
            "top": null,
            "visibility": null,
            "width": null
          }
        },
        "76c9305d7a8046e3bd1f4ddcba3f6c37": {
          "model_module": "@jupyter-widgets/controls",
          "model_name": "ProgressStyleModel",
          "model_module_version": "1.5.0",
          "state": {
            "_model_module": "@jupyter-widgets/controls",
            "_model_module_version": "1.5.0",
            "_model_name": "ProgressStyleModel",
            "_view_count": null,
            "_view_module": "@jupyter-widgets/base",
            "_view_module_version": "1.2.0",
            "_view_name": "StyleView",
            "bar_color": null,
            "description_width": ""
          }
        },
        "835db3d2ac3042a7bf9854851a66dbb7": {
          "model_module": "@jupyter-widgets/base",
          "model_name": "LayoutModel",
          "model_module_version": "1.2.0",
          "state": {
            "_model_module": "@jupyter-widgets/base",
            "_model_module_version": "1.2.0",
            "_model_name": "LayoutModel",
            "_view_count": null,
            "_view_module": "@jupyter-widgets/base",
            "_view_module_version": "1.2.0",
            "_view_name": "LayoutView",
            "align_content": null,
            "align_items": null,
            "align_self": null,
            "border": null,
            "bottom": null,
            "display": null,
            "flex": null,
            "flex_flow": null,
            "grid_area": null,
            "grid_auto_columns": null,
            "grid_auto_flow": null,
            "grid_auto_rows": null,
            "grid_column": null,
            "grid_gap": null,
            "grid_row": null,
            "grid_template_areas": null,
            "grid_template_columns": null,
            "grid_template_rows": null,
            "height": null,
            "justify_content": null,
            "justify_items": null,
            "left": null,
            "margin": null,
            "max_height": null,
            "max_width": null,
            "min_height": null,
            "min_width": null,
            "object_fit": null,
            "object_position": null,
            "order": null,
            "overflow": null,
            "overflow_x": null,
            "overflow_y": null,
            "padding": null,
            "right": null,
            "top": null,
            "visibility": null,
            "width": null
          }
        },
        "0a890ecd5a7b4be8a8d400969f467d63": {
          "model_module": "@jupyter-widgets/controls",
          "model_name": "DescriptionStyleModel",
          "model_module_version": "1.5.0",
          "state": {
            "_model_module": "@jupyter-widgets/controls",
            "_model_module_version": "1.5.0",
            "_model_name": "DescriptionStyleModel",
            "_view_count": null,
            "_view_module": "@jupyter-widgets/base",
            "_view_module_version": "1.2.0",
            "_view_name": "StyleView",
            "description_width": ""
          }
        },
        "a704f405a04c4cacb1d03fdb14ec721d": {
          "model_module": "@jupyter-widgets/controls",
          "model_name": "HBoxModel",
          "model_module_version": "1.5.0",
          "state": {
            "_dom_classes": [],
            "_model_module": "@jupyter-widgets/controls",
            "_model_module_version": "1.5.0",
            "_model_name": "HBoxModel",
            "_view_count": null,
            "_view_module": "@jupyter-widgets/controls",
            "_view_module_version": "1.5.0",
            "_view_name": "HBoxView",
            "box_style": "",
            "children": [
              "IPY_MODEL_256e47988a604ce990d9e8d14b690c93",
              "IPY_MODEL_da24e6b27ef44db691545b7c627a8c05",
              "IPY_MODEL_74c21e2bfc82438e89bf56566ec01fcc"
            ],
            "layout": "IPY_MODEL_8eef0015dc5d4f048d6d032ec4deff4f"
          }
        },
        "256e47988a604ce990d9e8d14b690c93": {
          "model_module": "@jupyter-widgets/controls",
          "model_name": "HTMLModel",
          "model_module_version": "1.5.0",
          "state": {
            "_dom_classes": [],
            "_model_module": "@jupyter-widgets/controls",
            "_model_module_version": "1.5.0",
            "_model_name": "HTMLModel",
            "_view_count": null,
            "_view_module": "@jupyter-widgets/controls",
            "_view_module_version": "1.5.0",
            "_view_name": "HTMLView",
            "description": "",
            "description_tooltip": null,
            "layout": "IPY_MODEL_5626f273fc6748a69c005627c9a2403e",
            "placeholder": "​",
            "style": "IPY_MODEL_aef11688968c4c5c9691ddd4f1a16911",
            "value": "Downloading (…)&quot;tf_model.h5&quot;;: 100%"
          }
        },
        "da24e6b27ef44db691545b7c627a8c05": {
          "model_module": "@jupyter-widgets/controls",
          "model_name": "FloatProgressModel",
          "model_module_version": "1.5.0",
          "state": {
            "_dom_classes": [],
            "_model_module": "@jupyter-widgets/controls",
            "_model_module_version": "1.5.0",
            "_model_name": "FloatProgressModel",
            "_view_count": null,
            "_view_module": "@jupyter-widgets/controls",
            "_view_module_version": "1.5.0",
            "_view_name": "ProgressView",
            "bar_style": "success",
            "description": "",
            "description_tooltip": null,
            "layout": "IPY_MODEL_0d31ed781e424c64af0641f49b7d299e",
            "max": 497933648,
            "min": 0,
            "orientation": "horizontal",
            "style": "IPY_MODEL_3cf8b62ebb15449ebe8b12ab83935b0d",
            "value": 497933648
          }
        },
        "74c21e2bfc82438e89bf56566ec01fcc": {
          "model_module": "@jupyter-widgets/controls",
          "model_name": "HTMLModel",
          "model_module_version": "1.5.0",
          "state": {
            "_dom_classes": [],
            "_model_module": "@jupyter-widgets/controls",
            "_model_module_version": "1.5.0",
            "_model_name": "HTMLModel",
            "_view_count": null,
            "_view_module": "@jupyter-widgets/controls",
            "_view_module_version": "1.5.0",
            "_view_name": "HTMLView",
            "description": "",
            "description_tooltip": null,
            "layout": "IPY_MODEL_73a2d2f6142344bf861b628dbb1c5988",
            "placeholder": "​",
            "style": "IPY_MODEL_2279978064f14384bcc4694719572866",
            "value": " 498M/498M [00:05&lt;00:00, 87.6MB/s]"
          }
        },
        "8eef0015dc5d4f048d6d032ec4deff4f": {
          "model_module": "@jupyter-widgets/base",
          "model_name": "LayoutModel",
          "model_module_version": "1.2.0",
          "state": {
            "_model_module": "@jupyter-widgets/base",
            "_model_module_version": "1.2.0",
            "_model_name": "LayoutModel",
            "_view_count": null,
            "_view_module": "@jupyter-widgets/base",
            "_view_module_version": "1.2.0",
            "_view_name": "LayoutView",
            "align_content": null,
            "align_items": null,
            "align_self": null,
            "border": null,
            "bottom": null,
            "display": null,
            "flex": null,
            "flex_flow": null,
            "grid_area": null,
            "grid_auto_columns": null,
            "grid_auto_flow": null,
            "grid_auto_rows": null,
            "grid_column": null,
            "grid_gap": null,
            "grid_row": null,
            "grid_template_areas": null,
            "grid_template_columns": null,
            "grid_template_rows": null,
            "height": null,
            "justify_content": null,
            "justify_items": null,
            "left": null,
            "margin": null,
            "max_height": null,
            "max_width": null,
            "min_height": null,
            "min_width": null,
            "object_fit": null,
            "object_position": null,
            "order": null,
            "overflow": null,
            "overflow_x": null,
            "overflow_y": null,
            "padding": null,
            "right": null,
            "top": null,
            "visibility": null,
            "width": null
          }
        },
        "5626f273fc6748a69c005627c9a2403e": {
          "model_module": "@jupyter-widgets/base",
          "model_name": "LayoutModel",
          "model_module_version": "1.2.0",
          "state": {
            "_model_module": "@jupyter-widgets/base",
            "_model_module_version": "1.2.0",
            "_model_name": "LayoutModel",
            "_view_count": null,
            "_view_module": "@jupyter-widgets/base",
            "_view_module_version": "1.2.0",
            "_view_name": "LayoutView",
            "align_content": null,
            "align_items": null,
            "align_self": null,
            "border": null,
            "bottom": null,
            "display": null,
            "flex": null,
            "flex_flow": null,
            "grid_area": null,
            "grid_auto_columns": null,
            "grid_auto_flow": null,
            "grid_auto_rows": null,
            "grid_column": null,
            "grid_gap": null,
            "grid_row": null,
            "grid_template_areas": null,
            "grid_template_columns": null,
            "grid_template_rows": null,
            "height": null,
            "justify_content": null,
            "justify_items": null,
            "left": null,
            "margin": null,
            "max_height": null,
            "max_width": null,
            "min_height": null,
            "min_width": null,
            "object_fit": null,
            "object_position": null,
            "order": null,
            "overflow": null,
            "overflow_x": null,
            "overflow_y": null,
            "padding": null,
            "right": null,
            "top": null,
            "visibility": null,
            "width": null
          }
        },
        "aef11688968c4c5c9691ddd4f1a16911": {
          "model_module": "@jupyter-widgets/controls",
          "model_name": "DescriptionStyleModel",
          "model_module_version": "1.5.0",
          "state": {
            "_model_module": "@jupyter-widgets/controls",
            "_model_module_version": "1.5.0",
            "_model_name": "DescriptionStyleModel",
            "_view_count": null,
            "_view_module": "@jupyter-widgets/base",
            "_view_module_version": "1.2.0",
            "_view_name": "StyleView",
            "description_width": ""
          }
        },
        "0d31ed781e424c64af0641f49b7d299e": {
          "model_module": "@jupyter-widgets/base",
          "model_name": "LayoutModel",
          "model_module_version": "1.2.0",
          "state": {
            "_model_module": "@jupyter-widgets/base",
            "_model_module_version": "1.2.0",
            "_model_name": "LayoutModel",
            "_view_count": null,
            "_view_module": "@jupyter-widgets/base",
            "_view_module_version": "1.2.0",
            "_view_name": "LayoutView",
            "align_content": null,
            "align_items": null,
            "align_self": null,
            "border": null,
            "bottom": null,
            "display": null,
            "flex": null,
            "flex_flow": null,
            "grid_area": null,
            "grid_auto_columns": null,
            "grid_auto_flow": null,
            "grid_auto_rows": null,
            "grid_column": null,
            "grid_gap": null,
            "grid_row": null,
            "grid_template_areas": null,
            "grid_template_columns": null,
            "grid_template_rows": null,
            "height": null,
            "justify_content": null,
            "justify_items": null,
            "left": null,
            "margin": null,
            "max_height": null,
            "max_width": null,
            "min_height": null,
            "min_width": null,
            "object_fit": null,
            "object_position": null,
            "order": null,
            "overflow": null,
            "overflow_x": null,
            "overflow_y": null,
            "padding": null,
            "right": null,
            "top": null,
            "visibility": null,
            "width": null
          }
        },
        "3cf8b62ebb15449ebe8b12ab83935b0d": {
          "model_module": "@jupyter-widgets/controls",
          "model_name": "ProgressStyleModel",
          "model_module_version": "1.5.0",
          "state": {
            "_model_module": "@jupyter-widgets/controls",
            "_model_module_version": "1.5.0",
            "_model_name": "ProgressStyleModel",
            "_view_count": null,
            "_view_module": "@jupyter-widgets/base",
            "_view_module_version": "1.2.0",
            "_view_name": "StyleView",
            "bar_color": null,
            "description_width": ""
          }
        },
        "73a2d2f6142344bf861b628dbb1c5988": {
          "model_module": "@jupyter-widgets/base",
          "model_name": "LayoutModel",
          "model_module_version": "1.2.0",
          "state": {
            "_model_module": "@jupyter-widgets/base",
            "_model_module_version": "1.2.0",
            "_model_name": "LayoutModel",
            "_view_count": null,
            "_view_module": "@jupyter-widgets/base",
            "_view_module_version": "1.2.0",
            "_view_name": "LayoutView",
            "align_content": null,
            "align_items": null,
            "align_self": null,
            "border": null,
            "bottom": null,
            "display": null,
            "flex": null,
            "flex_flow": null,
            "grid_area": null,
            "grid_auto_columns": null,
            "grid_auto_flow": null,
            "grid_auto_rows": null,
            "grid_column": null,
            "grid_gap": null,
            "grid_row": null,
            "grid_template_areas": null,
            "grid_template_columns": null,
            "grid_template_rows": null,
            "height": null,
            "justify_content": null,
            "justify_items": null,
            "left": null,
            "margin": null,
            "max_height": null,
            "max_width": null,
            "min_height": null,
            "min_width": null,
            "object_fit": null,
            "object_position": null,
            "order": null,
            "overflow": null,
            "overflow_x": null,
            "overflow_y": null,
            "padding": null,
            "right": null,
            "top": null,
            "visibility": null,
            "width": null
          }
        },
        "2279978064f14384bcc4694719572866": {
          "model_module": "@jupyter-widgets/controls",
          "model_name": "DescriptionStyleModel",
          "model_module_version": "1.5.0",
          "state": {
            "_model_module": "@jupyter-widgets/controls",
            "_model_module_version": "1.5.0",
            "_model_name": "DescriptionStyleModel",
            "_view_count": null,
            "_view_module": "@jupyter-widgets/base",
            "_view_module_version": "1.2.0",
            "_view_name": "StyleView",
            "description_width": ""
          }
        },
        "d9031961ea12484789a1f4f0684944b0": {
          "model_module": "@jupyter-widgets/controls",
          "model_name": "HBoxModel",
          "model_module_version": "1.5.0",
          "state": {
            "_dom_classes": [],
            "_model_module": "@jupyter-widgets/controls",
            "_model_module_version": "1.5.0",
            "_model_name": "HBoxModel",
            "_view_count": null,
            "_view_module": "@jupyter-widgets/controls",
            "_view_module_version": "1.5.0",
            "_view_name": "HBoxView",
            "box_style": "",
            "children": [
              "IPY_MODEL_d1470bf300314d7f81d2b82ada95267f",
              "IPY_MODEL_68948009e7ca44e39f78dfdfb5ea67bf",
              "IPY_MODEL_ef99fe59b5ad4400b5b2561f72cdb564"
            ],
            "layout": "IPY_MODEL_de375fa2b8ff440fbb85c45f8f3c7fb1"
          }
        },
        "d1470bf300314d7f81d2b82ada95267f": {
          "model_module": "@jupyter-widgets/controls",
          "model_name": "HTMLModel",
          "model_module_version": "1.5.0",
          "state": {
            "_dom_classes": [],
            "_model_module": "@jupyter-widgets/controls",
            "_model_module_version": "1.5.0",
            "_model_name": "HTMLModel",
            "_view_count": null,
            "_view_module": "@jupyter-widgets/controls",
            "_view_module_version": "1.5.0",
            "_view_name": "HTMLView",
            "description": "",
            "description_tooltip": null,
            "layout": "IPY_MODEL_35b4357b1c91466388f8191f1c4fabcd",
            "placeholder": "​",
            "style": "IPY_MODEL_45856da980194711827449f0a9392224",
            "value": "Downloading (…)neration_config.json: 100%"
          }
        },
        "68948009e7ca44e39f78dfdfb5ea67bf": {
          "model_module": "@jupyter-widgets/controls",
          "model_name": "FloatProgressModel",
          "model_module_version": "1.5.0",
          "state": {
            "_dom_classes": [],
            "_model_module": "@jupyter-widgets/controls",
            "_model_module_version": "1.5.0",
            "_model_name": "FloatProgressModel",
            "_view_count": null,
            "_view_module": "@jupyter-widgets/controls",
            "_view_module_version": "1.5.0",
            "_view_name": "ProgressView",
            "bar_style": "success",
            "description": "",
            "description_tooltip": null,
            "layout": "IPY_MODEL_a13047e7e6104a5586c91e7e5b8df18d",
            "max": 124,
            "min": 0,
            "orientation": "horizontal",
            "style": "IPY_MODEL_7e5ebc2163c948d3b65cd0ef94c4e96f",
            "value": 124
          }
        },
        "ef99fe59b5ad4400b5b2561f72cdb564": {
          "model_module": "@jupyter-widgets/controls",
          "model_name": "HTMLModel",
          "model_module_version": "1.5.0",
          "state": {
            "_dom_classes": [],
            "_model_module": "@jupyter-widgets/controls",
            "_model_module_version": "1.5.0",
            "_model_name": "HTMLModel",
            "_view_count": null,
            "_view_module": "@jupyter-widgets/controls",
            "_view_module_version": "1.5.0",
            "_view_name": "HTMLView",
            "description": "",
            "description_tooltip": null,
            "layout": "IPY_MODEL_f4a5286057114d8b8d714e96e322873c",
            "placeholder": "​",
            "style": "IPY_MODEL_bb8390048896483dace46bbd03934fcc",
            "value": " 124/124 [00:00&lt;00:00, 4.51kB/s]"
          }
        },
        "de375fa2b8ff440fbb85c45f8f3c7fb1": {
          "model_module": "@jupyter-widgets/base",
          "model_name": "LayoutModel",
          "model_module_version": "1.2.0",
          "state": {
            "_model_module": "@jupyter-widgets/base",
            "_model_module_version": "1.2.0",
            "_model_name": "LayoutModel",
            "_view_count": null,
            "_view_module": "@jupyter-widgets/base",
            "_view_module_version": "1.2.0",
            "_view_name": "LayoutView",
            "align_content": null,
            "align_items": null,
            "align_self": null,
            "border": null,
            "bottom": null,
            "display": null,
            "flex": null,
            "flex_flow": null,
            "grid_area": null,
            "grid_auto_columns": null,
            "grid_auto_flow": null,
            "grid_auto_rows": null,
            "grid_column": null,
            "grid_gap": null,
            "grid_row": null,
            "grid_template_areas": null,
            "grid_template_columns": null,
            "grid_template_rows": null,
            "height": null,
            "justify_content": null,
            "justify_items": null,
            "left": null,
            "margin": null,
            "max_height": null,
            "max_width": null,
            "min_height": null,
            "min_width": null,
            "object_fit": null,
            "object_position": null,
            "order": null,
            "overflow": null,
            "overflow_x": null,
            "overflow_y": null,
            "padding": null,
            "right": null,
            "top": null,
            "visibility": null,
            "width": null
          }
        },
        "35b4357b1c91466388f8191f1c4fabcd": {
          "model_module": "@jupyter-widgets/base",
          "model_name": "LayoutModel",
          "model_module_version": "1.2.0",
          "state": {
            "_model_module": "@jupyter-widgets/base",
            "_model_module_version": "1.2.0",
            "_model_name": "LayoutModel",
            "_view_count": null,
            "_view_module": "@jupyter-widgets/base",
            "_view_module_version": "1.2.0",
            "_view_name": "LayoutView",
            "align_content": null,
            "align_items": null,
            "align_self": null,
            "border": null,
            "bottom": null,
            "display": null,
            "flex": null,
            "flex_flow": null,
            "grid_area": null,
            "grid_auto_columns": null,
            "grid_auto_flow": null,
            "grid_auto_rows": null,
            "grid_column": null,
            "grid_gap": null,
            "grid_row": null,
            "grid_template_areas": null,
            "grid_template_columns": null,
            "grid_template_rows": null,
            "height": null,
            "justify_content": null,
            "justify_items": null,
            "left": null,
            "margin": null,
            "max_height": null,
            "max_width": null,
            "min_height": null,
            "min_width": null,
            "object_fit": null,
            "object_position": null,
            "order": null,
            "overflow": null,
            "overflow_x": null,
            "overflow_y": null,
            "padding": null,
            "right": null,
            "top": null,
            "visibility": null,
            "width": null
          }
        },
        "45856da980194711827449f0a9392224": {
          "model_module": "@jupyter-widgets/controls",
          "model_name": "DescriptionStyleModel",
          "model_module_version": "1.5.0",
          "state": {
            "_model_module": "@jupyter-widgets/controls",
            "_model_module_version": "1.5.0",
            "_model_name": "DescriptionStyleModel",
            "_view_count": null,
            "_view_module": "@jupyter-widgets/base",
            "_view_module_version": "1.2.0",
            "_view_name": "StyleView",
            "description_width": ""
          }
        },
        "a13047e7e6104a5586c91e7e5b8df18d": {
          "model_module": "@jupyter-widgets/base",
          "model_name": "LayoutModel",
          "model_module_version": "1.2.0",
          "state": {
            "_model_module": "@jupyter-widgets/base",
            "_model_module_version": "1.2.0",
            "_model_name": "LayoutModel",
            "_view_count": null,
            "_view_module": "@jupyter-widgets/base",
            "_view_module_version": "1.2.0",
            "_view_name": "LayoutView",
            "align_content": null,
            "align_items": null,
            "align_self": null,
            "border": null,
            "bottom": null,
            "display": null,
            "flex": null,
            "flex_flow": null,
            "grid_area": null,
            "grid_auto_columns": null,
            "grid_auto_flow": null,
            "grid_auto_rows": null,
            "grid_column": null,
            "grid_gap": null,
            "grid_row": null,
            "grid_template_areas": null,
            "grid_template_columns": null,
            "grid_template_rows": null,
            "height": null,
            "justify_content": null,
            "justify_items": null,
            "left": null,
            "margin": null,
            "max_height": null,
            "max_width": null,
            "min_height": null,
            "min_width": null,
            "object_fit": null,
            "object_position": null,
            "order": null,
            "overflow": null,
            "overflow_x": null,
            "overflow_y": null,
            "padding": null,
            "right": null,
            "top": null,
            "visibility": null,
            "width": null
          }
        },
        "7e5ebc2163c948d3b65cd0ef94c4e96f": {
          "model_module": "@jupyter-widgets/controls",
          "model_name": "ProgressStyleModel",
          "model_module_version": "1.5.0",
          "state": {
            "_model_module": "@jupyter-widgets/controls",
            "_model_module_version": "1.5.0",
            "_model_name": "ProgressStyleModel",
            "_view_count": null,
            "_view_module": "@jupyter-widgets/base",
            "_view_module_version": "1.2.0",
            "_view_name": "StyleView",
            "bar_color": null,
            "description_width": ""
          }
        },
        "f4a5286057114d8b8d714e96e322873c": {
          "model_module": "@jupyter-widgets/base",
          "model_name": "LayoutModel",
          "model_module_version": "1.2.0",
          "state": {
            "_model_module": "@jupyter-widgets/base",
            "_model_module_version": "1.2.0",
            "_model_name": "LayoutModel",
            "_view_count": null,
            "_view_module": "@jupyter-widgets/base",
            "_view_module_version": "1.2.0",
            "_view_name": "LayoutView",
            "align_content": null,
            "align_items": null,
            "align_self": null,
            "border": null,
            "bottom": null,
            "display": null,
            "flex": null,
            "flex_flow": null,
            "grid_area": null,
            "grid_auto_columns": null,
            "grid_auto_flow": null,
            "grid_auto_rows": null,
            "grid_column": null,
            "grid_gap": null,
            "grid_row": null,
            "grid_template_areas": null,
            "grid_template_columns": null,
            "grid_template_rows": null,
            "height": null,
            "justify_content": null,
            "justify_items": null,
            "left": null,
            "margin": null,
            "max_height": null,
            "max_width": null,
            "min_height": null,
            "min_width": null,
            "object_fit": null,
            "object_position": null,
            "order": null,
            "overflow": null,
            "overflow_x": null,
            "overflow_y": null,
            "padding": null,
            "right": null,
            "top": null,
            "visibility": null,
            "width": null
          }
        },
        "bb8390048896483dace46bbd03934fcc": {
          "model_module": "@jupyter-widgets/controls",
          "model_name": "DescriptionStyleModel",
          "model_module_version": "1.5.0",
          "state": {
            "_model_module": "@jupyter-widgets/controls",
            "_model_module_version": "1.5.0",
            "_model_name": "DescriptionStyleModel",
            "_view_count": null,
            "_view_module": "@jupyter-widgets/base",
            "_view_module_version": "1.2.0",
            "_view_name": "StyleView",
            "description_width": ""
          }
        }
      }
    }
  },
  "cells": [
    {
      "cell_type": "markdown",
      "metadata": {
        "id": "view-in-github",
        "colab_type": "text"
      },
      "source": [
        "<a href=\"https://colab.research.google.com/github/Satwikram/NLP-Implementations/blob/main/Generative%20Models/Generating%20Text%20-%20using%20different%20decoding%20methods%20for%20language%20generation%20with%20Transformers.ipynb\" target=\"_parent\"><img src=\"https://colab.research.google.com/assets/colab-badge.svg\" alt=\"Open In Colab\"/></a>"
      ]
    },
    {
      "cell_type": "markdown",
      "source": [
        "### Author: Satwik Ram K"
      ],
      "metadata": {
        "id": "8Gwx1H4b7O3D"
      }
    },
    {
      "cell_type": "markdown",
      "source": [
        "### Setup"
      ],
      "metadata": {
        "id": "2b3rMP0mCKyt"
      }
    },
    {
      "cell_type": "code",
      "source": [
        "!pip install transformers"
      ],
      "metadata": {
        "colab": {
          "base_uri": "https://localhost:8080/"
        },
        "id": "IgY_JeEoCNOh",
        "outputId": "58887ccd-0583-4895-b0c3-cf66b1f3fcb5"
      },
      "execution_count": 9,
      "outputs": [
        {
          "output_type": "stream",
          "name": "stdout",
          "text": [
            "Installing collected packages: tokenizers, huggingface-hub, transformers\n",
            "Successfully installed huggingface-hub-0.12.1 tokenizers-0.13.2 transformers-4.26.1\n"
          ]
        }
      ]
    },
    {
      "cell_type": "markdown",
      "source": [
        "### Importing Dependencies"
      ],
      "metadata": {
        "id": "QNjp4P27CWut"
      }
    },
    {
      "cell_type": "code",
      "source": [
        "import tensorflow as tf\n",
        "from transformers import TFGPT2LMHeadModel, GPT2Tokenizer"
      ],
      "metadata": {
        "id": "AZ-rRwkQ7UfL"
      },
      "execution_count": 11,
      "outputs": []
    },
    {
      "cell_type": "markdown",
      "source": [
        "### Initializing the tokenizer"
      ],
      "metadata": {
        "id": "HBfgXENcCags"
      }
    },
    {
      "cell_type": "code",
      "source": [
        "tokenizer = GPT2Tokenizer.from_pretrained(\"gpt2\")\n",
        "\n",
        "# add the EOS token as PAD token to avoid warnings\n",
        "model = TFGPT2LMHeadModel.from_pretrained(\"gpt2\", pad_token_id=tokenizer.eos_token_id)"
      ],
      "metadata": {
        "colab": {
          "base_uri": "https://localhost:8080/",
          "height": 266,
          "referenced_widgets": [
            "65e248e12e9446a1b525bbeb261972d7",
            "a37d1940657f424f90972772eb3b664c",
            "893f362bf33f458c96db9a1eaa939442",
            "3280b36124f04e9dbd626360efbb053f",
            "d019fc2acb3d4860ac74e83a9f036c64",
            "4ff014aba6a34766abc7e86da284a269",
            "bced8dc1150e46178ddabd8888dca024",
            "077838969f4749e098d0d8735c914f0f",
            "f5acccf6306f4c6ca9a9332edfe59e0b",
            "927694991867469cb1ebe1a2c21d953c",
            "7daafc92fab7400b8985f83884f99616",
            "4dce8a11e333484f901c27f7b2cf419d",
            "b09adb3a327a40c4af6b8bcdfcf685dc",
            "40f60976d0aa43f580a7cb21ef5da38b",
            "d7d221c98bc94321ae812c507781090e",
            "fc9d27ca4d854de288ede245fb413e1e",
            "1f5f99ec9fd9476d880d0ba8691f1799",
            "160f4d2e341a463dae46c1effe76899c",
            "76e640c80e204a46b5915e433e6ceaf6",
            "380424a535b443feb05c9f5c35419271",
            "f7c9a3c63232498fb26a42b3e6f8945d",
            "98bcc2884c9e409fba393a92de29afb0",
            "dcd3e559e0d148379b8005a7442a5611",
            "544182c19ad4451bad1ef46492be22d1",
            "31c2f50ab4e7457792b5e5e36865949d",
            "15c3fd29e03741f7ba946eaa97b72c7b",
            "584d9ab0735247c89700ad4601aa18f4",
            "5053af98e2dc432faa63683734312779",
            "a6dfa49908b44b8383744a92b23cf3d4",
            "25a8f55713a84d35b982ff6ac2eadc8d",
            "76c9305d7a8046e3bd1f4ddcba3f6c37",
            "835db3d2ac3042a7bf9854851a66dbb7",
            "0a890ecd5a7b4be8a8d400969f467d63",
            "a704f405a04c4cacb1d03fdb14ec721d",
            "256e47988a604ce990d9e8d14b690c93",
            "da24e6b27ef44db691545b7c627a8c05",
            "74c21e2bfc82438e89bf56566ec01fcc",
            "8eef0015dc5d4f048d6d032ec4deff4f",
            "5626f273fc6748a69c005627c9a2403e",
            "aef11688968c4c5c9691ddd4f1a16911",
            "0d31ed781e424c64af0641f49b7d299e",
            "3cf8b62ebb15449ebe8b12ab83935b0d",
            "73a2d2f6142344bf861b628dbb1c5988",
            "2279978064f14384bcc4694719572866",
            "d9031961ea12484789a1f4f0684944b0",
            "d1470bf300314d7f81d2b82ada95267f",
            "68948009e7ca44e39f78dfdfb5ea67bf",
            "ef99fe59b5ad4400b5b2561f72cdb564",
            "de375fa2b8ff440fbb85c45f8f3c7fb1",
            "35b4357b1c91466388f8191f1c4fabcd",
            "45856da980194711827449f0a9392224",
            "a13047e7e6104a5586c91e7e5b8df18d",
            "7e5ebc2163c948d3b65cd0ef94c4e96f",
            "f4a5286057114d8b8d714e96e322873c",
            "bb8390048896483dace46bbd03934fcc"
          ]
        },
        "id": "Lffw3zDFCVq_",
        "outputId": "511eb646-663c-4aeb-b7bc-963b590b7fb8"
      },
      "execution_count": 12,
      "outputs": [
        {
          "output_type": "display_data",
          "data": {
            "text/plain": [
              "Downloading (…)olve/main/vocab.json:   0%|          | 0.00/1.04M [00:00<?, ?B/s]"
            ],
            "application/vnd.jupyter.widget-view+json": {
              "version_major": 2,
              "version_minor": 0,
              "model_id": "65e248e12e9446a1b525bbeb261972d7"
            }
          },
          "metadata": {}
        },
        {
          "output_type": "display_data",
          "data": {
            "text/plain": [
              "Downloading (…)olve/main/merges.txt:   0%|          | 0.00/456k [00:00<?, ?B/s]"
            ],
            "application/vnd.jupyter.widget-view+json": {
              "version_major": 2,
              "version_minor": 0,
              "model_id": "4dce8a11e333484f901c27f7b2cf419d"
            }
          },
          "metadata": {}
        },
        {
          "output_type": "display_data",
          "data": {
            "text/plain": [
              "Downloading (…)lve/main/config.json:   0%|          | 0.00/665 [00:00<?, ?B/s]"
            ],
            "application/vnd.jupyter.widget-view+json": {
              "version_major": 2,
              "version_minor": 0,
              "model_id": "dcd3e559e0d148379b8005a7442a5611"
            }
          },
          "metadata": {}
        },
        {
          "output_type": "display_data",
          "data": {
            "text/plain": [
              "Downloading (…)\"tf_model.h5\";:   0%|          | 0.00/498M [00:00<?, ?B/s]"
            ],
            "application/vnd.jupyter.widget-view+json": {
              "version_major": 2,
              "version_minor": 0,
              "model_id": "a704f405a04c4cacb1d03fdb14ec721d"
            }
          },
          "metadata": {}
        },
        {
          "output_type": "stream",
          "name": "stderr",
          "text": [
            "All model checkpoint layers were used when initializing TFGPT2LMHeadModel.\n",
            "\n",
            "All the layers of TFGPT2LMHeadModel were initialized from the model checkpoint at gpt2.\n",
            "If your task is similar to the task the model of the checkpoint was trained on, you can already use TFGPT2LMHeadModel for predictions without further training.\n"
          ]
        },
        {
          "output_type": "display_data",
          "data": {
            "text/plain": [
              "Downloading (…)neration_config.json:   0%|          | 0.00/124 [00:00<?, ?B/s]"
            ],
            "application/vnd.jupyter.widget-view+json": {
              "version_major": 2,
              "version_minor": 0,
              "model_id": "d9031961ea12484789a1f4f0684944b0"
            }
          },
          "metadata": {}
        }
      ]
    },
    {
      "cell_type": "markdown",
      "source": [
        "### Greedy Search"
      ],
      "metadata": {
        "id": "LcAJW2gaC2HB"
      }
    },
    {
      "cell_type": "markdown",
      "source": [
        "![image.png](data:image/png;base64,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)"
      ],
      "metadata": {
        "id": "2Cw5kYxJC5Zy"
      }
    },
    {
      "cell_type": "markdown",
      "source": [
        "### Encode context the generation is conditioned on"
      ],
      "metadata": {
        "id": "_IlD_9d_DbfZ"
      }
    },
    {
      "cell_type": "code",
      "source": [
        "input_ids = tokenizer.encode('I enjoy walking with my cute dog', return_tensors='tf')"
      ],
      "metadata": {
        "id": "8tvRcbKo8AfX"
      },
      "execution_count": 13,
      "outputs": []
    },
    {
      "cell_type": "markdown",
      "source": [
        "### Generate text until the output length (which includes the context length) reaches 50\n"
      ],
      "metadata": {
        "id": "aEylCZCADgDa"
      }
    },
    {
      "cell_type": "code",
      "source": [
        "greedy_output = model.generate(input_ids, max_length=50)"
      ],
      "metadata": {
        "id": "Y_pIT9utDXtV"
      },
      "execution_count": 14,
      "outputs": []
    },
    {
      "cell_type": "code",
      "source": [
        "print(\"Output:\\n\" + 100 * '-')\n",
        "print(tokenizer.decode(greedy_output[0], skip_special_tokens=True))"
      ],
      "metadata": {
        "colab": {
          "base_uri": "https://localhost:8080/"
        },
        "id": "f6g8ry-mDZqq",
        "outputId": "d334248b-9c89-4f47-9be2-e431e7fda948"
      },
      "execution_count": 16,
      "outputs": [
        {
          "output_type": "stream",
          "name": "stdout",
          "text": [
            "Output:\n",
            "----------------------------------------------------------------------------------------------------\n",
            "I enjoy walking with my cute dog, but I'm not sure if I'll ever be able to walk with my dog. I'm not sure if I'll ever be able to walk with my dog.\n",
            "\n",
            "I'm not sure if I'll\n"
          ]
        }
      ]
    },
    {
      "cell_type": "markdown",
      "source": [
        "### Beam search"
      ],
      "metadata": {
        "id": "_BU4QSWBD4wE"
      }
    },
    {
      "cell_type": "markdown",
      "source": [
        "Beam search reduces the risk of missing hidden high probability word sequences by keeping the most likely num_beams of hypotheses at each time step and eventually choosing the hypothesis that has the overall highest probability. Let's illustrate with num_beams=2:"
      ],
      "metadata": {
        "id": "1O77x5vkD8ef"
      }
    },
    {
      "cell_type": "markdown",
      "source": [
        "![image.png](data:image/png;base64,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)"
      ],
      "metadata": {
        "id": "0MJlDwmxEBHJ"
      }
    },
    {
      "cell_type": "markdown",
      "source": [
        "At time step 1, besides the most likely hypothesis \n",
        "(\n",
        "\"The\"\n",
        ",\n",
        "\"nice\"\n",
        ")\n",
        "(\"The\",\"nice\"), beam search also keeps track of the second most likely one \n",
        "(\n",
        "\"The\"\n",
        ",\n",
        "\"dog\"\n",
        ")\n",
        "(\"The\",\"dog\"). At time step 2, beam search finds that the word sequence \n",
        "(\n",
        "\"The\"\n",
        ",\n",
        "\"dog\"\n",
        ",\n",
        "\"has\"\n",
        ")\n",
        "(\"The\",\"dog\",\"has\"), has with \n",
        "0.36\n",
        "0.36 a higher probability than \n",
        "(\n",
        "\"The\"\n",
        ",\n",
        "\"nice\"\n",
        ",\n",
        "\"woman\"\n",
        ")\n",
        "(\"The\",\"nice\",\"woman\"), which has \n",
        "0.2\n",
        "0.2 . Great, it has found the most likely word sequence in our toy example!\n",
        "\n",
        "Beam search will always find an output sequence with higher probability than greedy search, but is not guaranteed to find the most likely output.\n",
        "\n",
        "Let's see how beam search can be used in transformers. We set num_beams > 1 and early_stopping=True so that generation is finished when all beam hypotheses reached the EOS token."
      ],
      "metadata": {
        "id": "JT5WImHvEWKR"
      }
    },
    {
      "cell_type": "code",
      "source": [
        "# activate beam search and early_stopping\n",
        "beam_output = model.generate(\n",
        "    input_ids, \n",
        "    max_length=50, \n",
        "    num_beams=5, \n",
        "    early_stopping=True\n",
        ")\n",
        "\n",
        "print(\"Output:\\n\" + 100 * '-')\n",
        "print(tokenizer.decode(beam_output[0], skip_special_tokens=True))"
      ],
      "metadata": {
        "colab": {
          "base_uri": "https://localhost:8080/"
        },
        "id": "mvnA4kTwDr9v",
        "outputId": "448c38bc-cfef-4011-da4d-958555e87d66"
      },
      "execution_count": 17,
      "outputs": [
        {
          "output_type": "stream",
          "name": "stdout",
          "text": [
            "Output:\n",
            "----------------------------------------------------------------------------------------------------\n",
            "I enjoy walking with my cute dog, but I'm not sure if I'll ever be able to walk with him again.\n",
            "\n",
            "I'm not sure if I'll ever be able to walk with him again. I'm not sure if I'll\n"
          ]
        }
      ]
    },
    {
      "cell_type": "markdown",
      "source": [
        "### Let's try it out by setting no_repeat_ngram_size=2 so that no 2-gram appears twice:\n",
        "\n"
      ],
      "metadata": {
        "id": "Ttssez9-Ee8B"
      }
    },
    {
      "cell_type": "code",
      "source": [
        "# set no_repeat_ngram_size to 2\n",
        "beam_output = model.generate(\n",
        "    input_ids, \n",
        "    max_length=50, \n",
        "    num_beams=5, \n",
        "    no_repeat_ngram_size=2, \n",
        "    early_stopping=True\n",
        ")\n",
        "\n",
        "print(\"Output:\\n\" + 100 * '-')\n",
        "print(tokenizer.decode(beam_output[0], skip_special_tokens=True))"
      ],
      "metadata": {
        "colab": {
          "base_uri": "https://localhost:8080/"
        },
        "id": "NzKoi69pERmO",
        "outputId": "d24f0f78-a5e0-4b93-f401-cef573dbd54f"
      },
      "execution_count": 18,
      "outputs": [
        {
          "output_type": "stream",
          "name": "stdout",
          "text": [
            "Output:\n",
            "----------------------------------------------------------------------------------------------------\n",
            "I enjoy walking with my cute dog, but I'm not sure if I'll ever be able to walk with him again.\n",
            "\n",
            "I've been thinking about this for a while now, and I think it's time for me to take a break\n"
          ]
        }
      ]
    },
    {
      "cell_type": "markdown",
      "source": [
        "### Set return_num_sequences > 1\n"
      ],
      "metadata": {
        "id": "GR1vEIECEuVn"
      }
    },
    {
      "cell_type": "code",
      "source": [
        "beam_outputs = model.generate(\n",
        "    input_ids, \n",
        "    max_length=50, \n",
        "    num_beams=5, \n",
        "    no_repeat_ngram_size=2, \n",
        "    num_return_sequences=5, \n",
        "    early_stopping=True\n",
        ")\n",
        "\n",
        "# now we have 3 output sequences\n",
        "print(\"Output:\\n\" + 100 * '-')\n",
        "for i, beam_output in enumerate(beam_outputs):\n",
        "  print(\"{}: {}\".format(i, tokenizer.decode(beam_output, skip_special_tokens=True)))"
      ],
      "metadata": {
        "colab": {
          "base_uri": "https://localhost:8080/"
        },
        "id": "aCN39N1_EhsN",
        "outputId": "fdbfb82b-0628-42cd-d3d2-73e8fb1d9237"
      },
      "execution_count": 19,
      "outputs": [
        {
          "output_type": "stream",
          "name": "stdout",
          "text": [
            "Output:\n",
            "----------------------------------------------------------------------------------------------------\n",
            "0: I enjoy walking with my cute dog, but I'm not sure if I'll ever be able to walk with him again.\n",
            "\n",
            "I've been thinking about this for a while now, and I think it's time for me to take a break\n",
            "1: I enjoy walking with my cute dog, but I'm not sure if I'll ever be able to walk with him again.\n",
            "\n",
            "I've been thinking about this for a while now, and I think it's time for me to get back to\n",
            "2: I enjoy walking with my cute dog, but I'm not sure if I'll ever be able to walk with her again.\n",
            "\n",
            "I've been thinking about this for a while now, and I think it's time for me to take a break\n",
            "3: I enjoy walking with my cute dog, but I'm not sure if I'll ever be able to walk with her again.\n",
            "\n",
            "I've been thinking about this for a while now, and I think it's time for me to get back to\n",
            "4: I enjoy walking with my cute dog, but I'm not sure if I'll ever be able to walk with him again.\n",
            "\n",
            "I've been thinking about this for a while now, and I think it's time for me to take a step\n"
          ]
        }
      ]
    },
    {
      "cell_type": "code",
      "source": [
        "# set seed to reproduce results.\n",
        "tf.random.set_seed(0)\n",
        "\n",
        "# activate sampling and deactivate top_k by setting top_k sampling to 0\n",
        "sample_output = model.generate(\n",
        "    input_ids, \n",
        "    do_sample=True, \n",
        "    max_length=50, \n",
        "    top_k=0\n",
        ")\n",
        "\n",
        "print(\"Output:\\n\" + 100 * '-')\n",
        "print(tokenizer.decode(sample_output[0], skip_special_tokens=True))"
      ],
      "metadata": {
        "colab": {
          "base_uri": "https://localhost:8080/"
        },
        "id": "2vxz1ERdEwUP",
        "outputId": "d74094f2-5497-4f1f-a84e-ef62fc620325"
      },
      "execution_count": 20,
      "outputs": [
        {
          "output_type": "stream",
          "name": "stdout",
          "text": [
            "Output:\n",
            "----------------------------------------------------------------------------------------------------\n",
            "I enjoy walking with my cute dog Reyn: on the platform in a bowling alley in Brooklyn, mint one,\" the partner admitted, laughing at the furred hair pounced on her collar. \"Really? I just sat down and watched the rainbow bear\n"
          ]
        }
      ]
    },
    {
      "cell_type": "code",
      "source": [
        "# set seed to reproduce results. Feel free to change the seed though to get different results\n",
        "tf.random.set_seed(0)\n",
        "\n",
        "# use temperature to decrease the sensitivity to low probability candidates\n",
        "sample_output = model.generate(\n",
        "    input_ids, \n",
        "    do_sample=True, \n",
        "    max_length=50, \n",
        "    top_k=0, \n",
        "    temperature=0.7\n",
        ")\n",
        "\n",
        "print(\"Output:\\n\" + 100 * '-')\n",
        "print(tokenizer.decode(sample_output[0], skip_special_tokens=True))"
      ],
      "metadata": {
        "colab": {
          "base_uri": "https://localhost:8080/"
        },
        "id": "NctUkVC9FDKf",
        "outputId": "437741be-e965-4b39-c4ec-e6e18d4c9aa8"
      },
      "execution_count": 21,
      "outputs": [
        {
          "output_type": "stream",
          "name": "stdout",
          "text": [
            "Output:\n",
            "----------------------------------------------------------------------------------------------------\n",
            "I enjoy walking with my cute dog and I like having a nice view of the world, including the one I'm walking through, but at the same time, I've got a little bit of an anxiety about it. And I'm trying to be\n"
          ]
        }
      ]
    },
    {
      "cell_type": "markdown",
      "source": [
        "### Top-K Sampling"
      ],
      "metadata": {
        "id": "jcfEHOmfFMcc"
      }
    },
    {
      "cell_type": "code",
      "source": [
        "# set seed to reproduce results. Feel free to change the seed though to get different results\n",
        "tf.random.set_seed(0)\n",
        "\n",
        "# set top_k to 50\n",
        "sample_output = model.generate(\n",
        "    input_ids, \n",
        "    do_sample=True, \n",
        "    max_length=50, \n",
        "    top_k=50\n",
        ")\n",
        "\n",
        "print(\"Output:\\n\" + 100 * '-')\n",
        "print(tokenizer.decode(sample_output[0], skip_special_tokens=True))"
      ],
      "metadata": {
        "colab": {
          "base_uri": "https://localhost:8080/"
        },
        "id": "D7vS_KNvFJoi",
        "outputId": "2bcbfb67-487a-49eb-e401-66574f8ebb66"
      },
      "execution_count": 22,
      "outputs": [
        {
          "output_type": "stream",
          "name": "stdout",
          "text": [
            "Output:\n",
            "----------------------------------------------------------------------------------------------------\n",
            "I enjoy walking with my cute dog and I miss having to walk with my dog in the middle of one of the city's busiest hours at dusk. I was also inspired by the idea of creating an interactive map of the city but I think they really\n"
          ]
        }
      ]
    },
    {
      "cell_type": "markdown",
      "source": [
        "### Top-p (nucleus) sampling"
      ],
      "metadata": {
        "id": "1EV4eE2aFWdd"
      }
    },
    {
      "cell_type": "code",
      "source": [
        "# set seed to reproduce results.\n",
        "tf.random.set_seed(0)\n",
        "\n",
        "# deactivate top_k sampling and sample only from 92% most likely words\n",
        "sample_output = model.generate(\n",
        "    input_ids, \n",
        "    do_sample=True, \n",
        "    max_length=50, \n",
        "    top_p=0.92, \n",
        "    top_k=0\n",
        ")\n",
        "\n",
        "print(\"Output:\\n\" + 100 * '-')\n",
        "print(tokenizer.decode(sample_output[0], skip_special_tokens=True))\n"
      ],
      "metadata": {
        "colab": {
          "base_uri": "https://localhost:8080/"
        },
        "id": "RIwl55UlFSd4",
        "outputId": "a46a9c4d-8ec8-484f-fc12-9c662dcdea4d"
      },
      "execution_count": 23,
      "outputs": [
        {
          "output_type": "stream",
          "name": "stdout",
          "text": [
            "Output:\n",
            "----------------------------------------------------------------------------------------------------\n",
            "I enjoy walking with my cute dog and how on Earth this actually works, although I was reminded of one particular episode where Captain America comes to Vancouver Island to visit Agent Coulson at his house, for $1.50 to get him to act kind\n"
          ]
        }
      ]
    },
    {
      "cell_type": "code",
      "source": [
        "# set seed to reproduce results.\n",
        "tf.random.set_seed(0)\n",
        "\n",
        "# set top_k = 50 and set top_p = 0.95 and num_return_sequences = 3\n",
        "sample_outputs = model.generate(\n",
        "    input_ids,\n",
        "    do_sample=True, \n",
        "    max_length=50, \n",
        "    top_k=50, \n",
        "    top_p=0.95, \n",
        "    num_return_sequences=3\n",
        ")\n",
        "\n",
        "print(\"Output:\\n\" + 100 * '-')\n",
        "for i, sample_output in enumerate(sample_outputs):\n",
        "  print(\"{}: {}\".format(i, tokenizer.decode(sample_output, skip_special_tokens=True)))\n"
      ],
      "metadata": {
        "colab": {
          "base_uri": "https://localhost:8080/"
        },
        "id": "jjQAtoO2FZCr",
        "outputId": "519f8792-ea67-43af-a410-255da173c42d"
      },
      "execution_count": 24,
      "outputs": [
        {
          "output_type": "stream",
          "name": "stdout",
          "text": [
            "Output:\n",
            "----------------------------------------------------------------------------------------------------\n",
            "0: I enjoy walking with my cute dog and I like having a fun time, so I was going to stop in the restaurant and get some coffee.\"\n",
            "\n",
            "The second person I saw who didn't wear makeup at the restaurant was her ex-boyfriend\n",
            "1: I enjoy walking with my cute dog, and the time you spent with my cats was wonderful and truly worth it. I also found it really funny that my dog gets all upset and irritable before he goes to bed, and is even more upset when\n",
            "2: I enjoy walking with my cute dog, so it has been such an inspiration to me in her life.\"\n",
            "\n",
            "Morton's story was shared on social media.\n",
            "\n",
            "The mother-of-two said it was about the \"trem\n"
          ]
        }
      ]
    },
    {
      "cell_type": "code",
      "source": [],
      "metadata": {
        "id": "vf6lmSNcFduH"
      },
      "execution_count": null,
      "outputs": []
    }
  ]
}