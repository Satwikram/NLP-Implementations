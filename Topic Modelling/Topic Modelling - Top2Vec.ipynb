{
  "nbformat": 4,
  "nbformat_minor": 0,
  "metadata": {
    "colab": {
      "provenance": [],
      "authorship_tag": "ABX9TyP9q6riFWXqR3w+aDjzm9HS",
      "include_colab_link": true
    },
    "kernelspec": {
      "name": "python3",
      "display_name": "Python 3"
    },
    "language_info": {
      "name": "python"
    },
    "accelerator": "GPU",
    "gpuClass": "standard"
  },
  "cells": [
    {
      "cell_type": "markdown",
      "metadata": {
        "id": "view-in-github",
        "colab_type": "text"
      },
      "source": [
        "<a href=\"https://colab.research.google.com/github/Satwikram/NLP-Implementations/blob/main/Topic%20Modelling/Topic%20Modelling%20-%20Top2Vec.ipynb\" target=\"_parent\"><img src=\"https://colab.research.google.com/assets/colab-badge.svg\" alt=\"Open In Colab\"/></a>"
      ]
    },
    {
      "cell_type": "markdown",
      "source": [
        "### Author: Satwik Ram K"
      ],
      "metadata": {
        "id": "YUK4GYFEW5kc"
      }
    },
    {
      "cell_type": "markdown",
      "source": [
        "Working Of Top2Vec:\n",
        "\n",
        "Generate embedding vectors for documents and words.\n",
        "Perform dimensionality reduction on the vectors using an algorithm such as UMAP.\n",
        "\n",
        "Cluster the vectors using a clustering algorithm such as HDBSCAN.\n",
        "Assign topics to each cluster."
      ],
      "metadata": {
        "id": "PbCp1-LnW02U"
      }
    },
    {
      "cell_type": "code",
      "execution_count": null,
      "metadata": {
        "id": "L6R41DbWWVVb"
      },
      "outputs": [],
      "source": [
        "!pip install top2vec[sentence_encoders]"
      ]
    },
    {
      "cell_type": "code",
      "source": [],
      "metadata": {
        "id": "-hOXXdNPW440"
      },
      "execution_count": null,
      "outputs": []
    }
  ]
}