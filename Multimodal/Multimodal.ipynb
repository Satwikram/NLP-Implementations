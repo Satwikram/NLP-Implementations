{
  "nbformat": 4,
  "nbformat_minor": 0,
  "metadata": {
    "colab": {
      "provenance": [],
      "collapsed_sections": [],
      "mount_file_id": "14H7lNqNrzP8_fZBs3Kz15WvFb1ZFK_Rv",
      "authorship_tag": "ABX9TyN8dL9VcEqeZafEvJtk9cUg",
      "include_colab_link": true
    },
    "kernelspec": {
      "name": "python3",
      "display_name": "Python 3"
    },
    "language_info": {
      "name": "python"
    },
    "accelerator": "GPU",
    "widgets": {
      "application/vnd.jupyter.widget-state+json": {
        "659c547de8b840a9a8ca474ecdee7dc8": {
          "model_module": "@jupyter-widgets/controls",
          "model_name": "HBoxModel",
          "model_module_version": "1.5.0",
          "state": {
            "_dom_classes": [],
            "_model_module": "@jupyter-widgets/controls",
            "_model_module_version": "1.5.0",
            "_model_name": "HBoxModel",
            "_view_count": null,
            "_view_module": "@jupyter-widgets/controls",
            "_view_module_version": "1.5.0",
            "_view_name": "HBoxView",
            "box_style": "",
            "children": [
              "IPY_MODEL_562eae5cb5f945708f48b8b0324e3908",
              "IPY_MODEL_3c87e2fe15144533afb26530f599cfd3",
              "IPY_MODEL_c1e29582a68b4b9db3362fa6e8051277"
            ],
            "layout": "IPY_MODEL_86d90c11373e4701be479ab027baef01"
          }
        },
        "562eae5cb5f945708f48b8b0324e3908": {
          "model_module": "@jupyter-widgets/controls",
          "model_name": "HTMLModel",
          "model_module_version": "1.5.0",
          "state": {
            "_dom_classes": [],
            "_model_module": "@jupyter-widgets/controls",
            "_model_module_version": "1.5.0",
            "_model_name": "HTMLModel",
            "_view_count": null,
            "_view_module": "@jupyter-widgets/controls",
            "_view_module_version": "1.5.0",
            "_view_name": "HTMLView",
            "description": "",
            "description_tooltip": null,
            "layout": "IPY_MODEL_c53f688460a648f38aee6816e53d8932",
            "placeholder": "​",
            "style": "IPY_MODEL_77a978f9f5674d078ba93a6574caeee6",
            "value": "Downloading: 100%"
          }
        },
        "3c87e2fe15144533afb26530f599cfd3": {
          "model_module": "@jupyter-widgets/controls",
          "model_name": "FloatProgressModel",
          "model_module_version": "1.5.0",
          "state": {
            "_dom_classes": [],
            "_model_module": "@jupyter-widgets/controls",
            "_model_module_version": "1.5.0",
            "_model_name": "FloatProgressModel",
            "_view_count": null,
            "_view_module": "@jupyter-widgets/controls",
            "_view_module_version": "1.5.0",
            "_view_name": "ProgressView",
            "bar_style": "success",
            "description": "",
            "description_tooltip": null,
            "layout": "IPY_MODEL_836d837062cc44b0b7afb1dc099dcaeb",
            "max": 28,
            "min": 0,
            "orientation": "horizontal",
            "style": "IPY_MODEL_1b2b435b71a648518b9a362ea772bc27",
            "value": 28
          }
        },
        "c1e29582a68b4b9db3362fa6e8051277": {
          "model_module": "@jupyter-widgets/controls",
          "model_name": "HTMLModel",
          "model_module_version": "1.5.0",
          "state": {
            "_dom_classes": [],
            "_model_module": "@jupyter-widgets/controls",
            "_model_module_version": "1.5.0",
            "_model_name": "HTMLModel",
            "_view_count": null,
            "_view_module": "@jupyter-widgets/controls",
            "_view_module_version": "1.5.0",
            "_view_name": "HTMLView",
            "description": "",
            "description_tooltip": null,
            "layout": "IPY_MODEL_f331597cfe8649f4b6a4a950d1b29a6b",
            "placeholder": "​",
            "style": "IPY_MODEL_84cee82f740446bda100da3c6bf8ceab",
            "value": " 28.0/28.0 [00:00&lt;00:00, 907B/s]"
          }
        },
        "86d90c11373e4701be479ab027baef01": {
          "model_module": "@jupyter-widgets/base",
          "model_name": "LayoutModel",
          "model_module_version": "1.2.0",
          "state": {
            "_model_module": "@jupyter-widgets/base",
            "_model_module_version": "1.2.0",
            "_model_name": "LayoutModel",
            "_view_count": null,
            "_view_module": "@jupyter-widgets/base",
            "_view_module_version": "1.2.0",
            "_view_name": "LayoutView",
            "align_content": null,
            "align_items": null,
            "align_self": null,
            "border": null,
            "bottom": null,
            "display": null,
            "flex": null,
            "flex_flow": null,
            "grid_area": null,
            "grid_auto_columns": null,
            "grid_auto_flow": null,
            "grid_auto_rows": null,
            "grid_column": null,
            "grid_gap": null,
            "grid_row": null,
            "grid_template_areas": null,
            "grid_template_columns": null,
            "grid_template_rows": null,
            "height": null,
            "justify_content": null,
            "justify_items": null,
            "left": null,
            "margin": null,
            "max_height": null,
            "max_width": null,
            "min_height": null,
            "min_width": null,
            "object_fit": null,
            "object_position": null,
            "order": null,
            "overflow": null,
            "overflow_x": null,
            "overflow_y": null,
            "padding": null,
            "right": null,
            "top": null,
            "visibility": null,
            "width": null
          }
        },
        "c53f688460a648f38aee6816e53d8932": {
          "model_module": "@jupyter-widgets/base",
          "model_name": "LayoutModel",
          "model_module_version": "1.2.0",
          "state": {
            "_model_module": "@jupyter-widgets/base",
            "_model_module_version": "1.2.0",
            "_model_name": "LayoutModel",
            "_view_count": null,
            "_view_module": "@jupyter-widgets/base",
            "_view_module_version": "1.2.0",
            "_view_name": "LayoutView",
            "align_content": null,
            "align_items": null,
            "align_self": null,
            "border": null,
            "bottom": null,
            "display": null,
            "flex": null,
            "flex_flow": null,
            "grid_area": null,
            "grid_auto_columns": null,
            "grid_auto_flow": null,
            "grid_auto_rows": null,
            "grid_column": null,
            "grid_gap": null,
            "grid_row": null,
            "grid_template_areas": null,
            "grid_template_columns": null,
            "grid_template_rows": null,
            "height": null,
            "justify_content": null,
            "justify_items": null,
            "left": null,
            "margin": null,
            "max_height": null,
            "max_width": null,
            "min_height": null,
            "min_width": null,
            "object_fit": null,
            "object_position": null,
            "order": null,
            "overflow": null,
            "overflow_x": null,
            "overflow_y": null,
            "padding": null,
            "right": null,
            "top": null,
            "visibility": null,
            "width": null
          }
        },
        "77a978f9f5674d078ba93a6574caeee6": {
          "model_module": "@jupyter-widgets/controls",
          "model_name": "DescriptionStyleModel",
          "model_module_version": "1.5.0",
          "state": {
            "_model_module": "@jupyter-widgets/controls",
            "_model_module_version": "1.5.0",
            "_model_name": "DescriptionStyleModel",
            "_view_count": null,
            "_view_module": "@jupyter-widgets/base",
            "_view_module_version": "1.2.0",
            "_view_name": "StyleView",
            "description_width": ""
          }
        },
        "836d837062cc44b0b7afb1dc099dcaeb": {
          "model_module": "@jupyter-widgets/base",
          "model_name": "LayoutModel",
          "model_module_version": "1.2.0",
          "state": {
            "_model_module": "@jupyter-widgets/base",
            "_model_module_version": "1.2.0",
            "_model_name": "LayoutModel",
            "_view_count": null,
            "_view_module": "@jupyter-widgets/base",
            "_view_module_version": "1.2.0",
            "_view_name": "LayoutView",
            "align_content": null,
            "align_items": null,
            "align_self": null,
            "border": null,
            "bottom": null,
            "display": null,
            "flex": null,
            "flex_flow": null,
            "grid_area": null,
            "grid_auto_columns": null,
            "grid_auto_flow": null,
            "grid_auto_rows": null,
            "grid_column": null,
            "grid_gap": null,
            "grid_row": null,
            "grid_template_areas": null,
            "grid_template_columns": null,
            "grid_template_rows": null,
            "height": null,
            "justify_content": null,
            "justify_items": null,
            "left": null,
            "margin": null,
            "max_height": null,
            "max_width": null,
            "min_height": null,
            "min_width": null,
            "object_fit": null,
            "object_position": null,
            "order": null,
            "overflow": null,
            "overflow_x": null,
            "overflow_y": null,
            "padding": null,
            "right": null,
            "top": null,
            "visibility": null,
            "width": null
          }
        },
        "1b2b435b71a648518b9a362ea772bc27": {
          "model_module": "@jupyter-widgets/controls",
          "model_name": "ProgressStyleModel",
          "model_module_version": "1.5.0",
          "state": {
            "_model_module": "@jupyter-widgets/controls",
            "_model_module_version": "1.5.0",
            "_model_name": "ProgressStyleModel",
            "_view_count": null,
            "_view_module": "@jupyter-widgets/base",
            "_view_module_version": "1.2.0",
            "_view_name": "StyleView",
            "bar_color": null,
            "description_width": ""
          }
        },
        "f331597cfe8649f4b6a4a950d1b29a6b": {
          "model_module": "@jupyter-widgets/base",
          "model_name": "LayoutModel",
          "model_module_version": "1.2.0",
          "state": {
            "_model_module": "@jupyter-widgets/base",
            "_model_module_version": "1.2.0",
            "_model_name": "LayoutModel",
            "_view_count": null,
            "_view_module": "@jupyter-widgets/base",
            "_view_module_version": "1.2.0",
            "_view_name": "LayoutView",
            "align_content": null,
            "align_items": null,
            "align_self": null,
            "border": null,
            "bottom": null,
            "display": null,
            "flex": null,
            "flex_flow": null,
            "grid_area": null,
            "grid_auto_columns": null,
            "grid_auto_flow": null,
            "grid_auto_rows": null,
            "grid_column": null,
            "grid_gap": null,
            "grid_row": null,
            "grid_template_areas": null,
            "grid_template_columns": null,
            "grid_template_rows": null,
            "height": null,
            "justify_content": null,
            "justify_items": null,
            "left": null,
            "margin": null,
            "max_height": null,
            "max_width": null,
            "min_height": null,
            "min_width": null,
            "object_fit": null,
            "object_position": null,
            "order": null,
            "overflow": null,
            "overflow_x": null,
            "overflow_y": null,
            "padding": null,
            "right": null,
            "top": null,
            "visibility": null,
            "width": null
          }
        },
        "84cee82f740446bda100da3c6bf8ceab": {
          "model_module": "@jupyter-widgets/controls",
          "model_name": "DescriptionStyleModel",
          "model_module_version": "1.5.0",
          "state": {
            "_model_module": "@jupyter-widgets/controls",
            "_model_module_version": "1.5.0",
            "_model_name": "DescriptionStyleModel",
            "_view_count": null,
            "_view_module": "@jupyter-widgets/base",
            "_view_module_version": "1.2.0",
            "_view_name": "StyleView",
            "description_width": ""
          }
        },
        "9b73c6ffb50f42d2a17da131a3b9af0e": {
          "model_module": "@jupyter-widgets/controls",
          "model_name": "HBoxModel",
          "model_module_version": "1.5.0",
          "state": {
            "_dom_classes": [],
            "_model_module": "@jupyter-widgets/controls",
            "_model_module_version": "1.5.0",
            "_model_name": "HBoxModel",
            "_view_count": null,
            "_view_module": "@jupyter-widgets/controls",
            "_view_module_version": "1.5.0",
            "_view_name": "HBoxView",
            "box_style": "",
            "children": [
              "IPY_MODEL_cca90b21b0ab4ee2819cd47f4e03b35a",
              "IPY_MODEL_832f63b463af43d991ecad03fcb0bfae",
              "IPY_MODEL_09d0480da2514b1ea41559a191e6cb55"
            ],
            "layout": "IPY_MODEL_25d4ed364bc0424692666be362c64a0b"
          }
        },
        "cca90b21b0ab4ee2819cd47f4e03b35a": {
          "model_module": "@jupyter-widgets/controls",
          "model_name": "HTMLModel",
          "model_module_version": "1.5.0",
          "state": {
            "_dom_classes": [],
            "_model_module": "@jupyter-widgets/controls",
            "_model_module_version": "1.5.0",
            "_model_name": "HTMLModel",
            "_view_count": null,
            "_view_module": "@jupyter-widgets/controls",
            "_view_module_version": "1.5.0",
            "_view_name": "HTMLView",
            "description": "",
            "description_tooltip": null,
            "layout": "IPY_MODEL_90c9b177460041d9b90fa304fb773d1f",
            "placeholder": "​",
            "style": "IPY_MODEL_54534e7728c94d96adf2acf7d24eccea",
            "value": "Downloading: 100%"
          }
        },
        "832f63b463af43d991ecad03fcb0bfae": {
          "model_module": "@jupyter-widgets/controls",
          "model_name": "FloatProgressModel",
          "model_module_version": "1.5.0",
          "state": {
            "_dom_classes": [],
            "_model_module": "@jupyter-widgets/controls",
            "_model_module_version": "1.5.0",
            "_model_name": "FloatProgressModel",
            "_view_count": null,
            "_view_module": "@jupyter-widgets/controls",
            "_view_module_version": "1.5.0",
            "_view_name": "ProgressView",
            "bar_style": "success",
            "description": "",
            "description_tooltip": null,
            "layout": "IPY_MODEL_d4b2445eb68e46f3bff7e3d22656df1c",
            "max": 570,
            "min": 0,
            "orientation": "horizontal",
            "style": "IPY_MODEL_4b427e1db023492485b724e98871626c",
            "value": 570
          }
        },
        "09d0480da2514b1ea41559a191e6cb55": {
          "model_module": "@jupyter-widgets/controls",
          "model_name": "HTMLModel",
          "model_module_version": "1.5.0",
          "state": {
            "_dom_classes": [],
            "_model_module": "@jupyter-widgets/controls",
            "_model_module_version": "1.5.0",
            "_model_name": "HTMLModel",
            "_view_count": null,
            "_view_module": "@jupyter-widgets/controls",
            "_view_module_version": "1.5.0",
            "_view_name": "HTMLView",
            "description": "",
            "description_tooltip": null,
            "layout": "IPY_MODEL_41e291b8ee5d463f89c31b7fe6751d1c",
            "placeholder": "​",
            "style": "IPY_MODEL_76143828d4044c8186b597d8af17be5a",
            "value": " 570/570 [00:00&lt;00:00, 18.9kB/s]"
          }
        },
        "25d4ed364bc0424692666be362c64a0b": {
          "model_module": "@jupyter-widgets/base",
          "model_name": "LayoutModel",
          "model_module_version": "1.2.0",
          "state": {
            "_model_module": "@jupyter-widgets/base",
            "_model_module_version": "1.2.0",
            "_model_name": "LayoutModel",
            "_view_count": null,
            "_view_module": "@jupyter-widgets/base",
            "_view_module_version": "1.2.0",
            "_view_name": "LayoutView",
            "align_content": null,
            "align_items": null,
            "align_self": null,
            "border": null,
            "bottom": null,
            "display": null,
            "flex": null,
            "flex_flow": null,
            "grid_area": null,
            "grid_auto_columns": null,
            "grid_auto_flow": null,
            "grid_auto_rows": null,
            "grid_column": null,
            "grid_gap": null,
            "grid_row": null,
            "grid_template_areas": null,
            "grid_template_columns": null,
            "grid_template_rows": null,
            "height": null,
            "justify_content": null,
            "justify_items": null,
            "left": null,
            "margin": null,
            "max_height": null,
            "max_width": null,
            "min_height": null,
            "min_width": null,
            "object_fit": null,
            "object_position": null,
            "order": null,
            "overflow": null,
            "overflow_x": null,
            "overflow_y": null,
            "padding": null,
            "right": null,
            "top": null,
            "visibility": null,
            "width": null
          }
        },
        "90c9b177460041d9b90fa304fb773d1f": {
          "model_module": "@jupyter-widgets/base",
          "model_name": "LayoutModel",
          "model_module_version": "1.2.0",
          "state": {
            "_model_module": "@jupyter-widgets/base",
            "_model_module_version": "1.2.0",
            "_model_name": "LayoutModel",
            "_view_count": null,
            "_view_module": "@jupyter-widgets/base",
            "_view_module_version": "1.2.0",
            "_view_name": "LayoutView",
            "align_content": null,
            "align_items": null,
            "align_self": null,
            "border": null,
            "bottom": null,
            "display": null,
            "flex": null,
            "flex_flow": null,
            "grid_area": null,
            "grid_auto_columns": null,
            "grid_auto_flow": null,
            "grid_auto_rows": null,
            "grid_column": null,
            "grid_gap": null,
            "grid_row": null,
            "grid_template_areas": null,
            "grid_template_columns": null,
            "grid_template_rows": null,
            "height": null,
            "justify_content": null,
            "justify_items": null,
            "left": null,
            "margin": null,
            "max_height": null,
            "max_width": null,
            "min_height": null,
            "min_width": null,
            "object_fit": null,
            "object_position": null,
            "order": null,
            "overflow": null,
            "overflow_x": null,
            "overflow_y": null,
            "padding": null,
            "right": null,
            "top": null,
            "visibility": null,
            "width": null
          }
        },
        "54534e7728c94d96adf2acf7d24eccea": {
          "model_module": "@jupyter-widgets/controls",
          "model_name": "DescriptionStyleModel",
          "model_module_version": "1.5.0",
          "state": {
            "_model_module": "@jupyter-widgets/controls",
            "_model_module_version": "1.5.0",
            "_model_name": "DescriptionStyleModel",
            "_view_count": null,
            "_view_module": "@jupyter-widgets/base",
            "_view_module_version": "1.2.0",
            "_view_name": "StyleView",
            "description_width": ""
          }
        },
        "d4b2445eb68e46f3bff7e3d22656df1c": {
          "model_module": "@jupyter-widgets/base",
          "model_name": "LayoutModel",
          "model_module_version": "1.2.0",
          "state": {
            "_model_module": "@jupyter-widgets/base",
            "_model_module_version": "1.2.0",
            "_model_name": "LayoutModel",
            "_view_count": null,
            "_view_module": "@jupyter-widgets/base",
            "_view_module_version": "1.2.0",
            "_view_name": "LayoutView",
            "align_content": null,
            "align_items": null,
            "align_self": null,
            "border": null,
            "bottom": null,
            "display": null,
            "flex": null,
            "flex_flow": null,
            "grid_area": null,
            "grid_auto_columns": null,
            "grid_auto_flow": null,
            "grid_auto_rows": null,
            "grid_column": null,
            "grid_gap": null,
            "grid_row": null,
            "grid_template_areas": null,
            "grid_template_columns": null,
            "grid_template_rows": null,
            "height": null,
            "justify_content": null,
            "justify_items": null,
            "left": null,
            "margin": null,
            "max_height": null,
            "max_width": null,
            "min_height": null,
            "min_width": null,
            "object_fit": null,
            "object_position": null,
            "order": null,
            "overflow": null,
            "overflow_x": null,
            "overflow_y": null,
            "padding": null,
            "right": null,
            "top": null,
            "visibility": null,
            "width": null
          }
        },
        "4b427e1db023492485b724e98871626c": {
          "model_module": "@jupyter-widgets/controls",
          "model_name": "ProgressStyleModel",
          "model_module_version": "1.5.0",
          "state": {
            "_model_module": "@jupyter-widgets/controls",
            "_model_module_version": "1.5.0",
            "_model_name": "ProgressStyleModel",
            "_view_count": null,
            "_view_module": "@jupyter-widgets/base",
            "_view_module_version": "1.2.0",
            "_view_name": "StyleView",
            "bar_color": null,
            "description_width": ""
          }
        },
        "41e291b8ee5d463f89c31b7fe6751d1c": {
          "model_module": "@jupyter-widgets/base",
          "model_name": "LayoutModel",
          "model_module_version": "1.2.0",
          "state": {
            "_model_module": "@jupyter-widgets/base",
            "_model_module_version": "1.2.0",
            "_model_name": "LayoutModel",
            "_view_count": null,
            "_view_module": "@jupyter-widgets/base",
            "_view_module_version": "1.2.0",
            "_view_name": "LayoutView",
            "align_content": null,
            "align_items": null,
            "align_self": null,
            "border": null,
            "bottom": null,
            "display": null,
            "flex": null,
            "flex_flow": null,
            "grid_area": null,
            "grid_auto_columns": null,
            "grid_auto_flow": null,
            "grid_auto_rows": null,
            "grid_column": null,
            "grid_gap": null,
            "grid_row": null,
            "grid_template_areas": null,
            "grid_template_columns": null,
            "grid_template_rows": null,
            "height": null,
            "justify_content": null,
            "justify_items": null,
            "left": null,
            "margin": null,
            "max_height": null,
            "max_width": null,
            "min_height": null,
            "min_width": null,
            "object_fit": null,
            "object_position": null,
            "order": null,
            "overflow": null,
            "overflow_x": null,
            "overflow_y": null,
            "padding": null,
            "right": null,
            "top": null,
            "visibility": null,
            "width": null
          }
        },
        "76143828d4044c8186b597d8af17be5a": {
          "model_module": "@jupyter-widgets/controls",
          "model_name": "DescriptionStyleModel",
          "model_module_version": "1.5.0",
          "state": {
            "_model_module": "@jupyter-widgets/controls",
            "_model_module_version": "1.5.0",
            "_model_name": "DescriptionStyleModel",
            "_view_count": null,
            "_view_module": "@jupyter-widgets/base",
            "_view_module_version": "1.2.0",
            "_view_name": "StyleView",
            "description_width": ""
          }
        },
        "12c505a1491846cfafee005e5b277456": {
          "model_module": "@jupyter-widgets/controls",
          "model_name": "HBoxModel",
          "model_module_version": "1.5.0",
          "state": {
            "_dom_classes": [],
            "_model_module": "@jupyter-widgets/controls",
            "_model_module_version": "1.5.0",
            "_model_name": "HBoxModel",
            "_view_count": null,
            "_view_module": "@jupyter-widgets/controls",
            "_view_module_version": "1.5.0",
            "_view_name": "HBoxView",
            "box_style": "",
            "children": [
              "IPY_MODEL_1087a1c6ec0e4e97870ced8adc7deb82",
              "IPY_MODEL_c8f509462d2a42fd9ddb847c24844696",
              "IPY_MODEL_ae11dde6a8f0409bb1226c8fc3a6f59c"
            ],
            "layout": "IPY_MODEL_e31e80be6210477d97199ad3c768748c"
          }
        },
        "1087a1c6ec0e4e97870ced8adc7deb82": {
          "model_module": "@jupyter-widgets/controls",
          "model_name": "HTMLModel",
          "model_module_version": "1.5.0",
          "state": {
            "_dom_classes": [],
            "_model_module": "@jupyter-widgets/controls",
            "_model_module_version": "1.5.0",
            "_model_name": "HTMLModel",
            "_view_count": null,
            "_view_module": "@jupyter-widgets/controls",
            "_view_module_version": "1.5.0",
            "_view_name": "HTMLView",
            "description": "",
            "description_tooltip": null,
            "layout": "IPY_MODEL_73faccb061504ef89c96e5f98f79573c",
            "placeholder": "​",
            "style": "IPY_MODEL_3e8d1f293cc84aa8bbb0a8681d0f94cc",
            "value": "Downloading: 100%"
          }
        },
        "c8f509462d2a42fd9ddb847c24844696": {
          "model_module": "@jupyter-widgets/controls",
          "model_name": "FloatProgressModel",
          "model_module_version": "1.5.0",
          "state": {
            "_dom_classes": [],
            "_model_module": "@jupyter-widgets/controls",
            "_model_module_version": "1.5.0",
            "_model_name": "FloatProgressModel",
            "_view_count": null,
            "_view_module": "@jupyter-widgets/controls",
            "_view_module_version": "1.5.0",
            "_view_name": "ProgressView",
            "bar_style": "success",
            "description": "",
            "description_tooltip": null,
            "layout": "IPY_MODEL_8a36b7c19d324edbb838abb4e4d624c6",
            "max": 231508,
            "min": 0,
            "orientation": "horizontal",
            "style": "IPY_MODEL_7114d150d2c34a38a68340c96758a1d7",
            "value": 231508
          }
        },
        "ae11dde6a8f0409bb1226c8fc3a6f59c": {
          "model_module": "@jupyter-widgets/controls",
          "model_name": "HTMLModel",
          "model_module_version": "1.5.0",
          "state": {
            "_dom_classes": [],
            "_model_module": "@jupyter-widgets/controls",
            "_model_module_version": "1.5.0",
            "_model_name": "HTMLModel",
            "_view_count": null,
            "_view_module": "@jupyter-widgets/controls",
            "_view_module_version": "1.5.0",
            "_view_name": "HTMLView",
            "description": "",
            "description_tooltip": null,
            "layout": "IPY_MODEL_f1791f5d5b7448eba58dde57eef46a90",
            "placeholder": "​",
            "style": "IPY_MODEL_7c300c34e117417dada228c548bc5ac3",
            "value": " 232k/232k [00:00&lt;00:00, 1.13MB/s]"
          }
        },
        "e31e80be6210477d97199ad3c768748c": {
          "model_module": "@jupyter-widgets/base",
          "model_name": "LayoutModel",
          "model_module_version": "1.2.0",
          "state": {
            "_model_module": "@jupyter-widgets/base",
            "_model_module_version": "1.2.0",
            "_model_name": "LayoutModel",
            "_view_count": null,
            "_view_module": "@jupyter-widgets/base",
            "_view_module_version": "1.2.0",
            "_view_name": "LayoutView",
            "align_content": null,
            "align_items": null,
            "align_self": null,
            "border": null,
            "bottom": null,
            "display": null,
            "flex": null,
            "flex_flow": null,
            "grid_area": null,
            "grid_auto_columns": null,
            "grid_auto_flow": null,
            "grid_auto_rows": null,
            "grid_column": null,
            "grid_gap": null,
            "grid_row": null,
            "grid_template_areas": null,
            "grid_template_columns": null,
            "grid_template_rows": null,
            "height": null,
            "justify_content": null,
            "justify_items": null,
            "left": null,
            "margin": null,
            "max_height": null,
            "max_width": null,
            "min_height": null,
            "min_width": null,
            "object_fit": null,
            "object_position": null,
            "order": null,
            "overflow": null,
            "overflow_x": null,
            "overflow_y": null,
            "padding": null,
            "right": null,
            "top": null,
            "visibility": null,
            "width": null
          }
        },
        "73faccb061504ef89c96e5f98f79573c": {
          "model_module": "@jupyter-widgets/base",
          "model_name": "LayoutModel",
          "model_module_version": "1.2.0",
          "state": {
            "_model_module": "@jupyter-widgets/base",
            "_model_module_version": "1.2.0",
            "_model_name": "LayoutModel",
            "_view_count": null,
            "_view_module": "@jupyter-widgets/base",
            "_view_module_version": "1.2.0",
            "_view_name": "LayoutView",
            "align_content": null,
            "align_items": null,
            "align_self": null,
            "border": null,
            "bottom": null,
            "display": null,
            "flex": null,
            "flex_flow": null,
            "grid_area": null,
            "grid_auto_columns": null,
            "grid_auto_flow": null,
            "grid_auto_rows": null,
            "grid_column": null,
            "grid_gap": null,
            "grid_row": null,
            "grid_template_areas": null,
            "grid_template_columns": null,
            "grid_template_rows": null,
            "height": null,
            "justify_content": null,
            "justify_items": null,
            "left": null,
            "margin": null,
            "max_height": null,
            "max_width": null,
            "min_height": null,
            "min_width": null,
            "object_fit": null,
            "object_position": null,
            "order": null,
            "overflow": null,
            "overflow_x": null,
            "overflow_y": null,
            "padding": null,
            "right": null,
            "top": null,
            "visibility": null,
            "width": null
          }
        },
        "3e8d1f293cc84aa8bbb0a8681d0f94cc": {
          "model_module": "@jupyter-widgets/controls",
          "model_name": "DescriptionStyleModel",
          "model_module_version": "1.5.0",
          "state": {
            "_model_module": "@jupyter-widgets/controls",
            "_model_module_version": "1.5.0",
            "_model_name": "DescriptionStyleModel",
            "_view_count": null,
            "_view_module": "@jupyter-widgets/base",
            "_view_module_version": "1.2.0",
            "_view_name": "StyleView",
            "description_width": ""
          }
        },
        "8a36b7c19d324edbb838abb4e4d624c6": {
          "model_module": "@jupyter-widgets/base",
          "model_name": "LayoutModel",
          "model_module_version": "1.2.0",
          "state": {
            "_model_module": "@jupyter-widgets/base",
            "_model_module_version": "1.2.0",
            "_model_name": "LayoutModel",
            "_view_count": null,
            "_view_module": "@jupyter-widgets/base",
            "_view_module_version": "1.2.0",
            "_view_name": "LayoutView",
            "align_content": null,
            "align_items": null,
            "align_self": null,
            "border": null,
            "bottom": null,
            "display": null,
            "flex": null,
            "flex_flow": null,
            "grid_area": null,
            "grid_auto_columns": null,
            "grid_auto_flow": null,
            "grid_auto_rows": null,
            "grid_column": null,
            "grid_gap": null,
            "grid_row": null,
            "grid_template_areas": null,
            "grid_template_columns": null,
            "grid_template_rows": null,
            "height": null,
            "justify_content": null,
            "justify_items": null,
            "left": null,
            "margin": null,
            "max_height": null,
            "max_width": null,
            "min_height": null,
            "min_width": null,
            "object_fit": null,
            "object_position": null,
            "order": null,
            "overflow": null,
            "overflow_x": null,
            "overflow_y": null,
            "padding": null,
            "right": null,
            "top": null,
            "visibility": null,
            "width": null
          }
        },
        "7114d150d2c34a38a68340c96758a1d7": {
          "model_module": "@jupyter-widgets/controls",
          "model_name": "ProgressStyleModel",
          "model_module_version": "1.5.0",
          "state": {
            "_model_module": "@jupyter-widgets/controls",
            "_model_module_version": "1.5.0",
            "_model_name": "ProgressStyleModel",
            "_view_count": null,
            "_view_module": "@jupyter-widgets/base",
            "_view_module_version": "1.2.0",
            "_view_name": "StyleView",
            "bar_color": null,
            "description_width": ""
          }
        },
        "f1791f5d5b7448eba58dde57eef46a90": {
          "model_module": "@jupyter-widgets/base",
          "model_name": "LayoutModel",
          "model_module_version": "1.2.0",
          "state": {
            "_model_module": "@jupyter-widgets/base",
            "_model_module_version": "1.2.0",
            "_model_name": "LayoutModel",
            "_view_count": null,
            "_view_module": "@jupyter-widgets/base",
            "_view_module_version": "1.2.0",
            "_view_name": "LayoutView",
            "align_content": null,
            "align_items": null,
            "align_self": null,
            "border": null,
            "bottom": null,
            "display": null,
            "flex": null,
            "flex_flow": null,
            "grid_area": null,
            "grid_auto_columns": null,
            "grid_auto_flow": null,
            "grid_auto_rows": null,
            "grid_column": null,
            "grid_gap": null,
            "grid_row": null,
            "grid_template_areas": null,
            "grid_template_columns": null,
            "grid_template_rows": null,
            "height": null,
            "justify_content": null,
            "justify_items": null,
            "left": null,
            "margin": null,
            "max_height": null,
            "max_width": null,
            "min_height": null,
            "min_width": null,
            "object_fit": null,
            "object_position": null,
            "order": null,
            "overflow": null,
            "overflow_x": null,
            "overflow_y": null,
            "padding": null,
            "right": null,
            "top": null,
            "visibility": null,
            "width": null
          }
        },
        "7c300c34e117417dada228c548bc5ac3": {
          "model_module": "@jupyter-widgets/controls",
          "model_name": "DescriptionStyleModel",
          "model_module_version": "1.5.0",
          "state": {
            "_model_module": "@jupyter-widgets/controls",
            "_model_module_version": "1.5.0",
            "_model_name": "DescriptionStyleModel",
            "_view_count": null,
            "_view_module": "@jupyter-widgets/base",
            "_view_module_version": "1.2.0",
            "_view_name": "StyleView",
            "description_width": ""
          }
        },
        "fe819fd9ed004d4aa5a04b175cf6dc86": {
          "model_module": "@jupyter-widgets/controls",
          "model_name": "HBoxModel",
          "model_module_version": "1.5.0",
          "state": {
            "_dom_classes": [],
            "_model_module": "@jupyter-widgets/controls",
            "_model_module_version": "1.5.0",
            "_model_name": "HBoxModel",
            "_view_count": null,
            "_view_module": "@jupyter-widgets/controls",
            "_view_module_version": "1.5.0",
            "_view_name": "HBoxView",
            "box_style": "",
            "children": [
              "IPY_MODEL_3fb4b45eda1945dc9f15db6dbcc16b5a",
              "IPY_MODEL_dbd3f15cb4474cb6a57a2fe3cf6ddebe",
              "IPY_MODEL_fb7fe3f080c44feebc7dcd0edec6dab8"
            ],
            "layout": "IPY_MODEL_b88d79fd203d4c1c9660684630595f02"
          }
        },
        "3fb4b45eda1945dc9f15db6dbcc16b5a": {
          "model_module": "@jupyter-widgets/controls",
          "model_name": "HTMLModel",
          "model_module_version": "1.5.0",
          "state": {
            "_dom_classes": [],
            "_model_module": "@jupyter-widgets/controls",
            "_model_module_version": "1.5.0",
            "_model_name": "HTMLModel",
            "_view_count": null,
            "_view_module": "@jupyter-widgets/controls",
            "_view_module_version": "1.5.0",
            "_view_name": "HTMLView",
            "description": "",
            "description_tooltip": null,
            "layout": "IPY_MODEL_f7cadebccf5b46c6ad248404deb3842b",
            "placeholder": "​",
            "style": "IPY_MODEL_065ab39ee3714e58977f3ed14ae0dc8c",
            "value": "Downloading: 100%"
          }
        },
        "dbd3f15cb4474cb6a57a2fe3cf6ddebe": {
          "model_module": "@jupyter-widgets/controls",
          "model_name": "FloatProgressModel",
          "model_module_version": "1.5.0",
          "state": {
            "_dom_classes": [],
            "_model_module": "@jupyter-widgets/controls",
            "_model_module_version": "1.5.0",
            "_model_name": "FloatProgressModel",
            "_view_count": null,
            "_view_module": "@jupyter-widgets/controls",
            "_view_module_version": "1.5.0",
            "_view_name": "ProgressView",
            "bar_style": "success",
            "description": "",
            "description_tooltip": null,
            "layout": "IPY_MODEL_c4a9e299654e4deb827d17247ddf9bea",
            "max": 466062,
            "min": 0,
            "orientation": "horizontal",
            "style": "IPY_MODEL_81559f378760431580a0f958320fbea8",
            "value": 466062
          }
        },
        "fb7fe3f080c44feebc7dcd0edec6dab8": {
          "model_module": "@jupyter-widgets/controls",
          "model_name": "HTMLModel",
          "model_module_version": "1.5.0",
          "state": {
            "_dom_classes": [],
            "_model_module": "@jupyter-widgets/controls",
            "_model_module_version": "1.5.0",
            "_model_name": "HTMLModel",
            "_view_count": null,
            "_view_module": "@jupyter-widgets/controls",
            "_view_module_version": "1.5.0",
            "_view_name": "HTMLView",
            "description": "",
            "description_tooltip": null,
            "layout": "IPY_MODEL_a62d8075cd7d4687b74d41389ab12b97",
            "placeholder": "​",
            "style": "IPY_MODEL_f84486a1cccd4752ba516861e7d065fc",
            "value": " 466k/466k [00:00&lt;00:00, 1.59MB/s]"
          }
        },
        "b88d79fd203d4c1c9660684630595f02": {
          "model_module": "@jupyter-widgets/base",
          "model_name": "LayoutModel",
          "model_module_version": "1.2.0",
          "state": {
            "_model_module": "@jupyter-widgets/base",
            "_model_module_version": "1.2.0",
            "_model_name": "LayoutModel",
            "_view_count": null,
            "_view_module": "@jupyter-widgets/base",
            "_view_module_version": "1.2.0",
            "_view_name": "LayoutView",
            "align_content": null,
            "align_items": null,
            "align_self": null,
            "border": null,
            "bottom": null,
            "display": null,
            "flex": null,
            "flex_flow": null,
            "grid_area": null,
            "grid_auto_columns": null,
            "grid_auto_flow": null,
            "grid_auto_rows": null,
            "grid_column": null,
            "grid_gap": null,
            "grid_row": null,
            "grid_template_areas": null,
            "grid_template_columns": null,
            "grid_template_rows": null,
            "height": null,
            "justify_content": null,
            "justify_items": null,
            "left": null,
            "margin": null,
            "max_height": null,
            "max_width": null,
            "min_height": null,
            "min_width": null,
            "object_fit": null,
            "object_position": null,
            "order": null,
            "overflow": null,
            "overflow_x": null,
            "overflow_y": null,
            "padding": null,
            "right": null,
            "top": null,
            "visibility": null,
            "width": null
          }
        },
        "f7cadebccf5b46c6ad248404deb3842b": {
          "model_module": "@jupyter-widgets/base",
          "model_name": "LayoutModel",
          "model_module_version": "1.2.0",
          "state": {
            "_model_module": "@jupyter-widgets/base",
            "_model_module_version": "1.2.0",
            "_model_name": "LayoutModel",
            "_view_count": null,
            "_view_module": "@jupyter-widgets/base",
            "_view_module_version": "1.2.0",
            "_view_name": "LayoutView",
            "align_content": null,
            "align_items": null,
            "align_self": null,
            "border": null,
            "bottom": null,
            "display": null,
            "flex": null,
            "flex_flow": null,
            "grid_area": null,
            "grid_auto_columns": null,
            "grid_auto_flow": null,
            "grid_auto_rows": null,
            "grid_column": null,
            "grid_gap": null,
            "grid_row": null,
            "grid_template_areas": null,
            "grid_template_columns": null,
            "grid_template_rows": null,
            "height": null,
            "justify_content": null,
            "justify_items": null,
            "left": null,
            "margin": null,
            "max_height": null,
            "max_width": null,
            "min_height": null,
            "min_width": null,
            "object_fit": null,
            "object_position": null,
            "order": null,
            "overflow": null,
            "overflow_x": null,
            "overflow_y": null,
            "padding": null,
            "right": null,
            "top": null,
            "visibility": null,
            "width": null
          }
        },
        "065ab39ee3714e58977f3ed14ae0dc8c": {
          "model_module": "@jupyter-widgets/controls",
          "model_name": "DescriptionStyleModel",
          "model_module_version": "1.5.0",
          "state": {
            "_model_module": "@jupyter-widgets/controls",
            "_model_module_version": "1.5.0",
            "_model_name": "DescriptionStyleModel",
            "_view_count": null,
            "_view_module": "@jupyter-widgets/base",
            "_view_module_version": "1.2.0",
            "_view_name": "StyleView",
            "description_width": ""
          }
        },
        "c4a9e299654e4deb827d17247ddf9bea": {
          "model_module": "@jupyter-widgets/base",
          "model_name": "LayoutModel",
          "model_module_version": "1.2.0",
          "state": {
            "_model_module": "@jupyter-widgets/base",
            "_model_module_version": "1.2.0",
            "_model_name": "LayoutModel",
            "_view_count": null,
            "_view_module": "@jupyter-widgets/base",
            "_view_module_version": "1.2.0",
            "_view_name": "LayoutView",
            "align_content": null,
            "align_items": null,
            "align_self": null,
            "border": null,
            "bottom": null,
            "display": null,
            "flex": null,
            "flex_flow": null,
            "grid_area": null,
            "grid_auto_columns": null,
            "grid_auto_flow": null,
            "grid_auto_rows": null,
            "grid_column": null,
            "grid_gap": null,
            "grid_row": null,
            "grid_template_areas": null,
            "grid_template_columns": null,
            "grid_template_rows": null,
            "height": null,
            "justify_content": null,
            "justify_items": null,
            "left": null,
            "margin": null,
            "max_height": null,
            "max_width": null,
            "min_height": null,
            "min_width": null,
            "object_fit": null,
            "object_position": null,
            "order": null,
            "overflow": null,
            "overflow_x": null,
            "overflow_y": null,
            "padding": null,
            "right": null,
            "top": null,
            "visibility": null,
            "width": null
          }
        },
        "81559f378760431580a0f958320fbea8": {
          "model_module": "@jupyter-widgets/controls",
          "model_name": "ProgressStyleModel",
          "model_module_version": "1.5.0",
          "state": {
            "_model_module": "@jupyter-widgets/controls",
            "_model_module_version": "1.5.0",
            "_model_name": "ProgressStyleModel",
            "_view_count": null,
            "_view_module": "@jupyter-widgets/base",
            "_view_module_version": "1.2.0",
            "_view_name": "StyleView",
            "bar_color": null,
            "description_width": ""
          }
        },
        "a62d8075cd7d4687b74d41389ab12b97": {
          "model_module": "@jupyter-widgets/base",
          "model_name": "LayoutModel",
          "model_module_version": "1.2.0",
          "state": {
            "_model_module": "@jupyter-widgets/base",
            "_model_module_version": "1.2.0",
            "_model_name": "LayoutModel",
            "_view_count": null,
            "_view_module": "@jupyter-widgets/base",
            "_view_module_version": "1.2.0",
            "_view_name": "LayoutView",
            "align_content": null,
            "align_items": null,
            "align_self": null,
            "border": null,
            "bottom": null,
            "display": null,
            "flex": null,
            "flex_flow": null,
            "grid_area": null,
            "grid_auto_columns": null,
            "grid_auto_flow": null,
            "grid_auto_rows": null,
            "grid_column": null,
            "grid_gap": null,
            "grid_row": null,
            "grid_template_areas": null,
            "grid_template_columns": null,
            "grid_template_rows": null,
            "height": null,
            "justify_content": null,
            "justify_items": null,
            "left": null,
            "margin": null,
            "max_height": null,
            "max_width": null,
            "min_height": null,
            "min_width": null,
            "object_fit": null,
            "object_position": null,
            "order": null,
            "overflow": null,
            "overflow_x": null,
            "overflow_y": null,
            "padding": null,
            "right": null,
            "top": null,
            "visibility": null,
            "width": null
          }
        },
        "f84486a1cccd4752ba516861e7d065fc": {
          "model_module": "@jupyter-widgets/controls",
          "model_name": "DescriptionStyleModel",
          "model_module_version": "1.5.0",
          "state": {
            "_model_module": "@jupyter-widgets/controls",
            "_model_module_version": "1.5.0",
            "_model_name": "DescriptionStyleModel",
            "_view_count": null,
            "_view_module": "@jupyter-widgets/base",
            "_view_module_version": "1.2.0",
            "_view_name": "StyleView",
            "description_width": ""
          }
        }
      }
    }
  },
  "cells": [
    {
      "cell_type": "markdown",
      "metadata": {
        "id": "view-in-github",
        "colab_type": "text"
      },
      "source": [
        "<a href=\"https://colab.research.google.com/github/Satwikram/NLP-Implementations/blob/main/Multimodal/Multimodal.ipynb\" target=\"_parent\"><img src=\"https://colab.research.google.com/assets/colab-badge.svg\" alt=\"Open In Colab\"/></a>"
      ]
    },
    {
      "cell_type": "markdown",
      "source": [
        "### Author: Satwik Ram K"
      ],
      "metadata": {
        "id": "13XyiToiXdYW"
      }
    },
    {
      "cell_type": "markdown",
      "source": [
        "### Setup"
      ],
      "metadata": {
        "id": "BWX0WHAAXlO_"
      }
    },
    {
      "cell_type": "code",
      "source": [
        "!pip install transformers\n",
        "\n",
        "!pip install pytesseract\n",
        "# !pip install pdf2image\n",
        "!apt-get install poppler-utils \n",
        "!apt install tesseract-ocr\n",
        "# !pip install keras_nlp"
      ],
      "metadata": {
        "id": "uE1P4wHUXnBe"
      },
      "execution_count": null,
      "outputs": []
    },
    {
      "cell_type": "markdown",
      "source": [
        "### Importing Dependencies"
      ],
      "metadata": {
        "id": "z025H7dPXhQh"
      }
    },
    {
      "cell_type": "code",
      "execution_count": 1,
      "metadata": {
        "id": "x0mDTo6pV2Mt"
      },
      "outputs": [],
      "source": [
        "import numpy as np\n",
        "import pandas as pd\n",
        "import tensorflow as tf\n",
        "import string\n",
        "import re\n",
        "\n",
        "import os\n",
        "from pathlib import Path\n",
        "\n",
        "import matplotlib.pyplot as plt\n",
        "import cv2\n",
        "import tensorflow as tf\n",
        "\n",
        "from tensorflow.keras.layers import Dense, Input, Flatten, Conv2D, MaxPool2D, GlobalAveragePooling1D, BatchNormalization, Embedding, Bidirectional, LSTM\n",
        "from tensorflow.keras.models import Model\n",
        "from tensorflow.keras.callbacks import ModelCheckpoint, EarlyStopping, ReduceLROnPlateau, TensorBoard\n",
        "from tensorflow.keras.preprocessing.text import Tokenizer\n",
        "from tensorflow.keras.preprocessing.sequence import pad_sequences\n",
        "# import keras_nlp\n",
        "\n",
        "from sklearn.model_selection import train_test_split\n",
        "\n",
        "import spacy\n",
        "from unicodedata import normalize\n",
        "\n",
        "from tqdm import tqdm\n",
        "\n",
        "import pytesseract\n",
        "from PIL import Image\n",
        "\n",
        "from transformers import AutoTokenizer, TFAutoModelForSequenceClassification\n",
        "\n",
        "import plotly.express as px"
      ]
    },
    {
      "cell_type": "markdown",
      "source": [
        "### Gathering Dataset"
      ],
      "metadata": {
        "id": "85mxY7tgZ1iM"
      }
    },
    {
      "cell_type": "code",
      "source": [
        "!unzip /content/drive/MyDrive/Deceptive-Research/dataset.zip"
      ],
      "metadata": {
        "id": "4tlnnX9dYHyJ"
      },
      "execution_count": null,
      "outputs": []
    },
    {
      "cell_type": "markdown",
      "source": [
        "### Global Variables"
      ],
      "metadata": {
        "id": "o-tnPitoaXzm"
      }
    },
    {
      "cell_type": "code",
      "source": [
        "img_shape = (224, 224)\n",
        "deceptive_path = Path(\"/content/deceptive\")\n",
        "normal_path = Path(\"/content/Ads/\")\n",
        "uniq_labels = [\"Non Deceptive\", \"Deceptive\"]"
      ],
      "metadata": {
        "id": "txahp5lOaBiu"
      },
      "execution_count": 3,
      "outputs": []
    },
    {
      "cell_type": "markdown",
      "source": [
        "### Cleaning the Data"
      ],
      "metadata": {
        "id": "LgGfbNEjaj-F"
      }
    },
    {
      "cell_type": "code",
      "source": [
        "nlp = spacy.load('en_core_web_sm', disable=['parser', 'ner'])"
      ],
      "metadata": {
        "id": "1rEqkoyWafRj"
      },
      "execution_count": 4,
      "outputs": []
    },
    {
      "cell_type": "code",
      "source": [
        "def clean_text(text):\n",
        "\n",
        "    text = normalize(\"NFKD\", text) #Normalization\n",
        "\n",
        "    text = re.sub(r\"[^\\w\\s]\",\"\", text) #Remove Punc\n",
        "\n",
        "    text = \" \".join([token.lemma_ for token in nlp(text) if not token.is_stop])\n",
        "\n",
        "    text = re.sub(\"\\s+\", \" \", text)\n",
        "\n",
        "    text = text.strip()\n",
        "\n",
        "    return text"
      ],
      "metadata": {
        "id": "uzgHlwQ8a9gU"
      },
      "execution_count": 5,
      "outputs": []
    },
    {
      "cell_type": "code",
      "source": [
        "def clean_img(fname):\n",
        "\n",
        "  img = cv2.imread(fname)\n",
        "\n",
        "  img = cv2.resize(img, img_shape) \n",
        "\n",
        "  # Normalization\n",
        "  img = img/255.0\n",
        "\n",
        "  return img"
      ],
      "metadata": {
        "id": "qsI053ElbN2I"
      },
      "execution_count": 6,
      "outputs": []
    },
    {
      "cell_type": "markdown",
      "source": [
        "### OCR - Image to Text"
      ],
      "metadata": {
        "id": "bVquYz24kgS3"
      }
    },
    {
      "cell_type": "code",
      "source": [
        "def get_data(image):\n",
        "\n",
        "  txt = pytesseract.image_to_string(Image.open(image), lang=\"eng\")\n",
        "  txt = re.sub(\"[\\n]{2,}\", \"\\t\\t\", txt)\n",
        "  txt = re.sub(\"\\n\", \"\", txt)\n",
        "  txt = re.sub(\"\\t\\t\", \"\\n\", txt)\n",
        "\n",
        "  return txt"
      ],
      "metadata": {
        "id": "DLCILN-UkfRS"
      },
      "execution_count": 7,
      "outputs": []
    },
    {
      "cell_type": "markdown",
      "source": [
        "### Image Extraction"
      ],
      "metadata": {
        "id": "FG3tIKSIdHgn"
      }
    },
    {
      "cell_type": "code",
      "source": [
        "def extract_image(path, target):\n",
        "\n",
        "  X1 = []\n",
        "  X2 = []\n",
        "  y = []\n",
        "\n",
        "  for img in os.listdir(path):\n",
        "\n",
        "    _, tail = os.path.splitext(img)\n",
        "\n",
        "    if tail in [\".jpg\", \".jpeg\", \".png\"]:\n",
        "\n",
        "      try:\n",
        "        \n",
        "        fname = f\"{path}/{img}\"\n",
        "\n",
        "        # OCR - Image to Text        \n",
        "        text = get_data(fname)\n",
        "\n",
        "        # Cleaning the text\n",
        "        text = clean_text(text)\n",
        "\n",
        "        if not text:\n",
        "          text = \"No Information\"\n",
        "          print(fname)\n",
        "\n",
        "        # Cleaning the Image\n",
        "        img = clean_img(fname)\n",
        "\n",
        "        X1.extend([img])\n",
        "        X2.extend([text])\n",
        "        y.extend([target])\n",
        "\n",
        "      except Exception as e: print(f\"Exception: {e}\")\n",
        "\n",
        "  return X1, X2, y"
      ],
      "metadata": {
        "id": "vBwvkHcVcxvM"
      },
      "execution_count": 8,
      "outputs": []
    },
    {
      "cell_type": "code",
      "source": [
        "X1, X2, y = extract_image(deceptive_path, 1)"
      ],
      "metadata": {
        "id": "I9nOQPw5da6y"
      },
      "execution_count": null,
      "outputs": []
    },
    {
      "cell_type": "code",
      "source": [
        "for i in os.listdir(normal_path):\n",
        "  X1_t, X2_t, y_t = extract_image(f\"{normal_path}/{i}\", 0)\n",
        "  X1.extend(X1_t)\n",
        "  X2.extend(X2_t)\n",
        "  y.extend(y_t)"
      ],
      "metadata": {
        "colab": {
          "base_uri": "https://localhost:8080/"
        },
        "id": "y7XfZdCDd0BI",
        "outputId": "f3611297-2af0-4fa5-c3bd-bde7e577ad00"
      },
      "execution_count": 10,
      "outputs": [
        {
          "output_type": "stream",
          "name": "stdout",
          "text": [
            "/content/Ads/15/13.png\n",
            "/content/Ads/3/11.png\n"
          ]
        }
      ]
    },
    {
      "cell_type": "code",
      "source": [
        "X1 = np.array(X1)\n",
        "# X2 = np.array(X2)\n",
        "\n",
        "y = np.array(y, dtype=\"float32\")"
      ],
      "metadata": {
        "id": "bRCXQt4gd6Pj"
      },
      "execution_count": 11,
      "outputs": []
    },
    {
      "cell_type": "code",
      "source": [
        "X1.shape, y.shape"
      ],
      "metadata": {
        "colab": {
          "base_uri": "https://localhost:8080/"
        },
        "id": "G5P0rttpeA_y",
        "outputId": "eb7c0a5f-3fab-41b9-cf0e-7e21046c3de9"
      },
      "execution_count": 12,
      "outputs": [
        {
          "output_type": "execute_result",
          "data": {
            "text/plain": [
              "((392, 224, 224, 3), (392,))"
            ]
          },
          "metadata": {},
          "execution_count": 12
        }
      ]
    },
    {
      "cell_type": "code",
      "source": [
        "len_X2 = [len(x.split()) for x in X2]"
      ],
      "metadata": {
        "id": "vf1O4vAgc1Iv"
      },
      "execution_count": 13,
      "outputs": []
    },
    {
      "cell_type": "code",
      "source": [
        "px.box(len_X2)"
      ],
      "metadata": {
        "colab": {
          "base_uri": "https://localhost:8080/",
          "height": 542
        },
        "id": "vDw2lYRYcrfT",
        "outputId": "633d57c8-b392-4d3c-b7dd-251c00d59f49"
      },
      "execution_count": 14,
      "outputs": [
        {
          "output_type": "display_data",
          "data": {
            "text/html": [
              "<html>\n",
              "<head><meta charset=\"utf-8\" /></head>\n",
              "<body>\n",
              "    <div>            <script src=\"https://cdnjs.cloudflare.com/ajax/libs/mathjax/2.7.5/MathJax.js?config=TeX-AMS-MML_SVG\"></script><script type=\"text/javascript\">if (window.MathJax) {MathJax.Hub.Config({SVG: {font: \"STIX-Web\"}});}</script>                <script type=\"text/javascript\">window.PlotlyConfig = {MathJaxConfig: 'local'};</script>\n",
              "        <script src=\"https://cdn.plot.ly/plotly-2.8.3.min.js\"></script>                <div id=\"81830313-9c21-489a-a1fa-8ef91bd28432\" class=\"plotly-graph-div\" style=\"height:525px; width:100%;\"></div>            <script type=\"text/javascript\">                                    window.PLOTLYENV=window.PLOTLYENV || {};                                    if (document.getElementById(\"81830313-9c21-489a-a1fa-8ef91bd28432\")) {                    Plotly.newPlot(                        \"81830313-9c21-489a-a1fa-8ef91bd28432\",                        [{\"alignmentgroup\":\"True\",\"hovertemplate\":\"variable=%{x}<br>value=%{y}<extra></extra>\",\"legendgroup\":\"\",\"marker\":{\"color\":\"#636efa\"},\"name\":\"\",\"notched\":false,\"offsetgroup\":\"\",\"orientation\":\"v\",\"showlegend\":false,\"x\":[\"0\",\"0\",\"0\",\"0\",\"0\",\"0\",\"0\",\"0\",\"0\",\"0\",\"0\",\"0\",\"0\",\"0\",\"0\",\"0\",\"0\",\"0\",\"0\",\"0\",\"0\",\"0\",\"0\",\"0\",\"0\",\"0\",\"0\",\"0\",\"0\",\"0\",\"0\",\"0\",\"0\",\"0\",\"0\",\"0\",\"0\",\"0\",\"0\",\"0\",\"0\",\"0\",\"0\",\"0\",\"0\",\"0\",\"0\",\"0\",\"0\",\"0\",\"0\",\"0\",\"0\",\"0\",\"0\",\"0\",\"0\",\"0\",\"0\",\"0\",\"0\",\"0\",\"0\",\"0\",\"0\",\"0\",\"0\",\"0\",\"0\",\"0\",\"0\",\"0\",\"0\",\"0\",\"0\",\"0\",\"0\",\"0\",\"0\",\"0\",\"0\",\"0\",\"0\",\"0\",\"0\",\"0\",\"0\",\"0\",\"0\",\"0\",\"0\",\"0\",\"0\",\"0\",\"0\",\"0\",\"0\",\"0\",\"0\",\"0\",\"0\",\"0\",\"0\",\"0\",\"0\",\"0\",\"0\",\"0\",\"0\",\"0\",\"0\",\"0\",\"0\",\"0\",\"0\",\"0\",\"0\",\"0\",\"0\",\"0\",\"0\",\"0\",\"0\",\"0\",\"0\",\"0\",\"0\",\"0\",\"0\",\"0\",\"0\",\"0\",\"0\",\"0\",\"0\",\"0\",\"0\",\"0\",\"0\",\"0\",\"0\",\"0\",\"0\",\"0\",\"0\",\"0\",\"0\",\"0\",\"0\",\"0\",\"0\",\"0\",\"0\",\"0\",\"0\",\"0\",\"0\",\"0\",\"0\",\"0\",\"0\",\"0\",\"0\",\"0\",\"0\",\"0\",\"0\",\"0\",\"0\",\"0\",\"0\",\"0\",\"0\",\"0\",\"0\",\"0\",\"0\",\"0\",\"0\",\"0\",\"0\",\"0\",\"0\",\"0\",\"0\",\"0\",\"0\",\"0\",\"0\",\"0\",\"0\",\"0\",\"0\",\"0\",\"0\",\"0\",\"0\",\"0\",\"0\",\"0\",\"0\",\"0\",\"0\",\"0\",\"0\",\"0\",\"0\",\"0\",\"0\",\"0\",\"0\",\"0\",\"0\",\"0\",\"0\",\"0\",\"0\",\"0\",\"0\",\"0\",\"0\",\"0\",\"0\",\"0\",\"0\",\"0\",\"0\",\"0\",\"0\",\"0\",\"0\",\"0\",\"0\",\"0\",\"0\",\"0\",\"0\",\"0\",\"0\",\"0\",\"0\",\"0\",\"0\",\"0\",\"0\",\"0\",\"0\",\"0\",\"0\",\"0\",\"0\",\"0\",\"0\",\"0\",\"0\",\"0\",\"0\",\"0\",\"0\",\"0\",\"0\",\"0\",\"0\",\"0\",\"0\",\"0\",\"0\",\"0\",\"0\",\"0\",\"0\",\"0\",\"0\",\"0\",\"0\",\"0\",\"0\",\"0\",\"0\",\"0\",\"0\",\"0\",\"0\",\"0\",\"0\",\"0\",\"0\",\"0\",\"0\",\"0\",\"0\",\"0\",\"0\",\"0\",\"0\",\"0\",\"0\",\"0\",\"0\",\"0\",\"0\",\"0\",\"0\",\"0\",\"0\",\"0\",\"0\",\"0\",\"0\",\"0\",\"0\",\"0\",\"0\",\"0\",\"0\",\"0\",\"0\",\"0\",\"0\",\"0\",\"0\",\"0\",\"0\",\"0\",\"0\",\"0\",\"0\",\"0\",\"0\",\"0\",\"0\",\"0\",\"0\",\"0\",\"0\",\"0\",\"0\",\"0\",\"0\",\"0\",\"0\",\"0\",\"0\",\"0\",\"0\",\"0\",\"0\",\"0\",\"0\",\"0\",\"0\",\"0\",\"0\",\"0\",\"0\",\"0\",\"0\",\"0\",\"0\",\"0\",\"0\",\"0\",\"0\",\"0\",\"0\",\"0\",\"0\",\"0\",\"0\",\"0\",\"0\",\"0\",\"0\",\"0\",\"0\",\"0\",\"0\",\"0\",\"0\",\"0\",\"0\",\"0\",\"0\",\"0\",\"0\",\"0\",\"0\",\"0\",\"0\",\"0\",\"0\",\"0\"],\"x0\":\" \",\"xaxis\":\"x\",\"y\":[36,50,17,2,24,2,11,2,17,2,64,2,2,2,71,2,40,18,21,69,92,3,25,35,13,6,2,15,6,2,5,5,34,27,54,56,1,2,2,29,2,82,28,8,32,22,47,57,4,64,7,2,2,79,8,65,2,42,2,18,24,2,47,12,12,2,2,50,15,5,44,2,5,6,6,12,81,69,12,20,2,10,7,2,2,2,40,2,3,47,7,2,36,27,10,36,2,2,11,15,10,27,2,5,28,4,15,11,21,29,18,14,4,16,10,37,9,2,6,4,6,14,29,10,8,13,12,3,15,24,11,33,3,11,18,3,18,10,25,31,35,2,5,17,24,18,8,4,2,20,1,11,12,10,10,17,9,4,14,9,14,10,2,1,13,2,11,33,9,34,45,2,7,33,32,10,24,2,5,30,14,9,32,22,14,30,2,2,30,7,23,21,2,6,29,7,5,32,21,13,24,2,1,18,9,16,25,3,25,26,7,23,23,16,18,8,3,21,18,29,16,2,2,28,2,26,30,21,12,16,9,5,20,19,17,21,5,15,20,2,24,10,18,30,11,2,6,24,18,10,12,6,7,12,2,19,24,20,10,15,6,15,10,9,11,4,4,14,9,14,8,10,11,23,15,11,27,20,27,2,9,15,16,12,32,11,17,14,2,2,17,10,23,17,2,2,13,2,31,20,20,9,27,2,13,29,14,11,6,2,2,13,7,26,22,34,12,12,18,19,10,22,32,14,29,18,25,2,23,34,26,9,18,6,4,34,30,18,26,2,12,15,4,26,19,25,41,11,24,8,12,6,22,11,10,9,16,6,6,25,7,14,9,1,6,18,8,12,28,7,9,19,6,31,21,25,9,16,24,2,32,18,25,25,2,14,20,5,24,17,24,38],\"y0\":\" \",\"yaxis\":\"y\",\"type\":\"box\"}],                        {\"template\":{\"data\":{\"bar\":[{\"error_x\":{\"color\":\"#2a3f5f\"},\"error_y\":{\"color\":\"#2a3f5f\"},\"marker\":{\"line\":{\"color\":\"#E5ECF6\",\"width\":0.5},\"pattern\":{\"fillmode\":\"overlay\",\"size\":10,\"solidity\":0.2}},\"type\":\"bar\"}],\"barpolar\":[{\"marker\":{\"line\":{\"color\":\"#E5ECF6\",\"width\":0.5},\"pattern\":{\"fillmode\":\"overlay\",\"size\":10,\"solidity\":0.2}},\"type\":\"barpolar\"}],\"carpet\":[{\"aaxis\":{\"endlinecolor\":\"#2a3f5f\",\"gridcolor\":\"white\",\"linecolor\":\"white\",\"minorgridcolor\":\"white\",\"startlinecolor\":\"#2a3f5f\"},\"baxis\":{\"endlinecolor\":\"#2a3f5f\",\"gridcolor\":\"white\",\"linecolor\":\"white\",\"minorgridcolor\":\"white\",\"startlinecolor\":\"#2a3f5f\"},\"type\":\"carpet\"}],\"choropleth\":[{\"colorbar\":{\"outlinewidth\":0,\"ticks\":\"\"},\"type\":\"choropleth\"}],\"contour\":[{\"colorbar\":{\"outlinewidth\":0,\"ticks\":\"\"},\"colorscale\":[[0.0,\"#0d0887\"],[0.1111111111111111,\"#46039f\"],[0.2222222222222222,\"#7201a8\"],[0.3333333333333333,\"#9c179e\"],[0.4444444444444444,\"#bd3786\"],[0.5555555555555556,\"#d8576b\"],[0.6666666666666666,\"#ed7953\"],[0.7777777777777778,\"#fb9f3a\"],[0.8888888888888888,\"#fdca26\"],[1.0,\"#f0f921\"]],\"type\":\"contour\"}],\"contourcarpet\":[{\"colorbar\":{\"outlinewidth\":0,\"ticks\":\"\"},\"type\":\"contourcarpet\"}],\"heatmap\":[{\"colorbar\":{\"outlinewidth\":0,\"ticks\":\"\"},\"colorscale\":[[0.0,\"#0d0887\"],[0.1111111111111111,\"#46039f\"],[0.2222222222222222,\"#7201a8\"],[0.3333333333333333,\"#9c179e\"],[0.4444444444444444,\"#bd3786\"],[0.5555555555555556,\"#d8576b\"],[0.6666666666666666,\"#ed7953\"],[0.7777777777777778,\"#fb9f3a\"],[0.8888888888888888,\"#fdca26\"],[1.0,\"#f0f921\"]],\"type\":\"heatmap\"}],\"heatmapgl\":[{\"colorbar\":{\"outlinewidth\":0,\"ticks\":\"\"},\"colorscale\":[[0.0,\"#0d0887\"],[0.1111111111111111,\"#46039f\"],[0.2222222222222222,\"#7201a8\"],[0.3333333333333333,\"#9c179e\"],[0.4444444444444444,\"#bd3786\"],[0.5555555555555556,\"#d8576b\"],[0.6666666666666666,\"#ed7953\"],[0.7777777777777778,\"#fb9f3a\"],[0.8888888888888888,\"#fdca26\"],[1.0,\"#f0f921\"]],\"type\":\"heatmapgl\"}],\"histogram\":[{\"marker\":{\"pattern\":{\"fillmode\":\"overlay\",\"size\":10,\"solidity\":0.2}},\"type\":\"histogram\"}],\"histogram2d\":[{\"colorbar\":{\"outlinewidth\":0,\"ticks\":\"\"},\"colorscale\":[[0.0,\"#0d0887\"],[0.1111111111111111,\"#46039f\"],[0.2222222222222222,\"#7201a8\"],[0.3333333333333333,\"#9c179e\"],[0.4444444444444444,\"#bd3786\"],[0.5555555555555556,\"#d8576b\"],[0.6666666666666666,\"#ed7953\"],[0.7777777777777778,\"#fb9f3a\"],[0.8888888888888888,\"#fdca26\"],[1.0,\"#f0f921\"]],\"type\":\"histogram2d\"}],\"histogram2dcontour\":[{\"colorbar\":{\"outlinewidth\":0,\"ticks\":\"\"},\"colorscale\":[[0.0,\"#0d0887\"],[0.1111111111111111,\"#46039f\"],[0.2222222222222222,\"#7201a8\"],[0.3333333333333333,\"#9c179e\"],[0.4444444444444444,\"#bd3786\"],[0.5555555555555556,\"#d8576b\"],[0.6666666666666666,\"#ed7953\"],[0.7777777777777778,\"#fb9f3a\"],[0.8888888888888888,\"#fdca26\"],[1.0,\"#f0f921\"]],\"type\":\"histogram2dcontour\"}],\"mesh3d\":[{\"colorbar\":{\"outlinewidth\":0,\"ticks\":\"\"},\"type\":\"mesh3d\"}],\"parcoords\":[{\"line\":{\"colorbar\":{\"outlinewidth\":0,\"ticks\":\"\"}},\"type\":\"parcoords\"}],\"pie\":[{\"automargin\":true,\"type\":\"pie\"}],\"scatter\":[{\"marker\":{\"colorbar\":{\"outlinewidth\":0,\"ticks\":\"\"}},\"type\":\"scatter\"}],\"scatter3d\":[{\"line\":{\"colorbar\":{\"outlinewidth\":0,\"ticks\":\"\"}},\"marker\":{\"colorbar\":{\"outlinewidth\":0,\"ticks\":\"\"}},\"type\":\"scatter3d\"}],\"scattercarpet\":[{\"marker\":{\"colorbar\":{\"outlinewidth\":0,\"ticks\":\"\"}},\"type\":\"scattercarpet\"}],\"scattergeo\":[{\"marker\":{\"colorbar\":{\"outlinewidth\":0,\"ticks\":\"\"}},\"type\":\"scattergeo\"}],\"scattergl\":[{\"marker\":{\"colorbar\":{\"outlinewidth\":0,\"ticks\":\"\"}},\"type\":\"scattergl\"}],\"scattermapbox\":[{\"marker\":{\"colorbar\":{\"outlinewidth\":0,\"ticks\":\"\"}},\"type\":\"scattermapbox\"}],\"scatterpolar\":[{\"marker\":{\"colorbar\":{\"outlinewidth\":0,\"ticks\":\"\"}},\"type\":\"scatterpolar\"}],\"scatterpolargl\":[{\"marker\":{\"colorbar\":{\"outlinewidth\":0,\"ticks\":\"\"}},\"type\":\"scatterpolargl\"}],\"scatterternary\":[{\"marker\":{\"colorbar\":{\"outlinewidth\":0,\"ticks\":\"\"}},\"type\":\"scatterternary\"}],\"surface\":[{\"colorbar\":{\"outlinewidth\":0,\"ticks\":\"\"},\"colorscale\":[[0.0,\"#0d0887\"],[0.1111111111111111,\"#46039f\"],[0.2222222222222222,\"#7201a8\"],[0.3333333333333333,\"#9c179e\"],[0.4444444444444444,\"#bd3786\"],[0.5555555555555556,\"#d8576b\"],[0.6666666666666666,\"#ed7953\"],[0.7777777777777778,\"#fb9f3a\"],[0.8888888888888888,\"#fdca26\"],[1.0,\"#f0f921\"]],\"type\":\"surface\"}],\"table\":[{\"cells\":{\"fill\":{\"color\":\"#EBF0F8\"},\"line\":{\"color\":\"white\"}},\"header\":{\"fill\":{\"color\":\"#C8D4E3\"},\"line\":{\"color\":\"white\"}},\"type\":\"table\"}]},\"layout\":{\"annotationdefaults\":{\"arrowcolor\":\"#2a3f5f\",\"arrowhead\":0,\"arrowwidth\":1},\"autotypenumbers\":\"strict\",\"coloraxis\":{\"colorbar\":{\"outlinewidth\":0,\"ticks\":\"\"}},\"colorscale\":{\"diverging\":[[0,\"#8e0152\"],[0.1,\"#c51b7d\"],[0.2,\"#de77ae\"],[0.3,\"#f1b6da\"],[0.4,\"#fde0ef\"],[0.5,\"#f7f7f7\"],[0.6,\"#e6f5d0\"],[0.7,\"#b8e186\"],[0.8,\"#7fbc41\"],[0.9,\"#4d9221\"],[1,\"#276419\"]],\"sequential\":[[0.0,\"#0d0887\"],[0.1111111111111111,\"#46039f\"],[0.2222222222222222,\"#7201a8\"],[0.3333333333333333,\"#9c179e\"],[0.4444444444444444,\"#bd3786\"],[0.5555555555555556,\"#d8576b\"],[0.6666666666666666,\"#ed7953\"],[0.7777777777777778,\"#fb9f3a\"],[0.8888888888888888,\"#fdca26\"],[1.0,\"#f0f921\"]],\"sequentialminus\":[[0.0,\"#0d0887\"],[0.1111111111111111,\"#46039f\"],[0.2222222222222222,\"#7201a8\"],[0.3333333333333333,\"#9c179e\"],[0.4444444444444444,\"#bd3786\"],[0.5555555555555556,\"#d8576b\"],[0.6666666666666666,\"#ed7953\"],[0.7777777777777778,\"#fb9f3a\"],[0.8888888888888888,\"#fdca26\"],[1.0,\"#f0f921\"]]},\"colorway\":[\"#636efa\",\"#EF553B\",\"#00cc96\",\"#ab63fa\",\"#FFA15A\",\"#19d3f3\",\"#FF6692\",\"#B6E880\",\"#FF97FF\",\"#FECB52\"],\"font\":{\"color\":\"#2a3f5f\"},\"geo\":{\"bgcolor\":\"white\",\"lakecolor\":\"white\",\"landcolor\":\"#E5ECF6\",\"showlakes\":true,\"showland\":true,\"subunitcolor\":\"white\"},\"hoverlabel\":{\"align\":\"left\"},\"hovermode\":\"closest\",\"mapbox\":{\"style\":\"light\"},\"paper_bgcolor\":\"white\",\"plot_bgcolor\":\"#E5ECF6\",\"polar\":{\"angularaxis\":{\"gridcolor\":\"white\",\"linecolor\":\"white\",\"ticks\":\"\"},\"bgcolor\":\"#E5ECF6\",\"radialaxis\":{\"gridcolor\":\"white\",\"linecolor\":\"white\",\"ticks\":\"\"}},\"scene\":{\"xaxis\":{\"backgroundcolor\":\"#E5ECF6\",\"gridcolor\":\"white\",\"gridwidth\":2,\"linecolor\":\"white\",\"showbackground\":true,\"ticks\":\"\",\"zerolinecolor\":\"white\"},\"yaxis\":{\"backgroundcolor\":\"#E5ECF6\",\"gridcolor\":\"white\",\"gridwidth\":2,\"linecolor\":\"white\",\"showbackground\":true,\"ticks\":\"\",\"zerolinecolor\":\"white\"},\"zaxis\":{\"backgroundcolor\":\"#E5ECF6\",\"gridcolor\":\"white\",\"gridwidth\":2,\"linecolor\":\"white\",\"showbackground\":true,\"ticks\":\"\",\"zerolinecolor\":\"white\"}},\"shapedefaults\":{\"line\":{\"color\":\"#2a3f5f\"}},\"ternary\":{\"aaxis\":{\"gridcolor\":\"white\",\"linecolor\":\"white\",\"ticks\":\"\"},\"baxis\":{\"gridcolor\":\"white\",\"linecolor\":\"white\",\"ticks\":\"\"},\"bgcolor\":\"#E5ECF6\",\"caxis\":{\"gridcolor\":\"white\",\"linecolor\":\"white\",\"ticks\":\"\"}},\"title\":{\"x\":0.05},\"xaxis\":{\"automargin\":true,\"gridcolor\":\"white\",\"linecolor\":\"white\",\"ticks\":\"\",\"title\":{\"standoff\":15},\"zerolinecolor\":\"white\",\"zerolinewidth\":2},\"yaxis\":{\"automargin\":true,\"gridcolor\":\"white\",\"linecolor\":\"white\",\"ticks\":\"\",\"title\":{\"standoff\":15},\"zerolinecolor\":\"white\",\"zerolinewidth\":2}}},\"xaxis\":{\"anchor\":\"y\",\"domain\":[0.0,1.0],\"title\":{\"text\":\"variable\"}},\"yaxis\":{\"anchor\":\"x\",\"domain\":[0.0,1.0],\"title\":{\"text\":\"value\"}},\"legend\":{\"tracegroupgap\":0},\"margin\":{\"t\":60},\"boxmode\":\"group\"},                        {\"responsive\": true}                    ).then(function(){\n",
              "                            \n",
              "var gd = document.getElementById('81830313-9c21-489a-a1fa-8ef91bd28432');\n",
              "var x = new MutationObserver(function (mutations, observer) {{\n",
              "        var display = window.getComputedStyle(gd).display;\n",
              "        if (!display || display === 'none') {{\n",
              "            console.log([gd, 'removed!']);\n",
              "            Plotly.purge(gd);\n",
              "            observer.disconnect();\n",
              "        }}\n",
              "}});\n",
              "\n",
              "// Listen for the removal of the full notebook cells\n",
              "var notebookContainer = gd.closest('#notebook-container');\n",
              "if (notebookContainer) {{\n",
              "    x.observe(notebookContainer, {childList: true});\n",
              "}}\n",
              "\n",
              "// Listen for the clearing of the current output cell\n",
              "var outputEl = gd.closest('.output');\n",
              "if (outputEl) {{\n",
              "    x.observe(outputEl, {childList: true});\n",
              "}}\n",
              "\n",
              "                        })                };                            </script>        </div>\n",
              "</body>\n",
              "</html>"
            ]
          },
          "metadata": {}
        }
      ]
    },
    {
      "cell_type": "markdown",
      "source": [
        "### Tokenization"
      ],
      "metadata": {
        "id": "NVDCYMH__5Y0"
      }
    },
    {
      "cell_type": "code",
      "source": [
        "checkpoint = \"bert-base-uncased\"\n",
        "# checkpoint = \"gpt2\"\n",
        "sequence_length = 100\n",
        "\n",
        "def tokenize(samples):\n",
        "\n",
        "  tokenizer = AutoTokenizer.from_pretrained(checkpoint)\n",
        "\n",
        "  if checkpoint == \"gpt2\" and tokenizer.pad_token is None:\n",
        "    tokenizer.add_special_tokens({'pad_token': '[PAD]'})\n",
        "\n",
        "  tokens = tokenizer(\n",
        "      samples,\n",
        "      max_length=sequence_length,\n",
        "      truncation=True,\n",
        "      padding=\"max_length\",\n",
        "      add_special_tokens=True,\n",
        "      return_tensors=\"np\"\n",
        "  )\n",
        "\n",
        "  return {\"input_ids\": tokens[\"input_ids\"].tolist(), \"attention_mask\": tokens[\"attention_mask\"].tolist()}"
      ],
      "metadata": {
        "id": "sWC6VFql_6zE"
      },
      "execution_count": 15,
      "outputs": []
    },
    {
      "cell_type": "code",
      "source": [
        "X_tokenized = pd.DataFrame(tokenize(X2), columns=[\"input_ids\", \"attention_mask\"])"
      ],
      "metadata": {
        "id": "q6XUeOg0Cw5M",
        "colab": {
          "base_uri": "https://localhost:8080/",
          "height": 145,
          "referenced_widgets": [
            "659c547de8b840a9a8ca474ecdee7dc8",
            "562eae5cb5f945708f48b8b0324e3908",
            "3c87e2fe15144533afb26530f599cfd3",
            "c1e29582a68b4b9db3362fa6e8051277",
            "86d90c11373e4701be479ab027baef01",
            "c53f688460a648f38aee6816e53d8932",
            "77a978f9f5674d078ba93a6574caeee6",
            "836d837062cc44b0b7afb1dc099dcaeb",
            "1b2b435b71a648518b9a362ea772bc27",
            "f331597cfe8649f4b6a4a950d1b29a6b",
            "84cee82f740446bda100da3c6bf8ceab",
            "9b73c6ffb50f42d2a17da131a3b9af0e",
            "cca90b21b0ab4ee2819cd47f4e03b35a",
            "832f63b463af43d991ecad03fcb0bfae",
            "09d0480da2514b1ea41559a191e6cb55",
            "25d4ed364bc0424692666be362c64a0b",
            "90c9b177460041d9b90fa304fb773d1f",
            "54534e7728c94d96adf2acf7d24eccea",
            "d4b2445eb68e46f3bff7e3d22656df1c",
            "4b427e1db023492485b724e98871626c",
            "41e291b8ee5d463f89c31b7fe6751d1c",
            "76143828d4044c8186b597d8af17be5a",
            "12c505a1491846cfafee005e5b277456",
            "1087a1c6ec0e4e97870ced8adc7deb82",
            "c8f509462d2a42fd9ddb847c24844696",
            "ae11dde6a8f0409bb1226c8fc3a6f59c",
            "e31e80be6210477d97199ad3c768748c",
            "73faccb061504ef89c96e5f98f79573c",
            "3e8d1f293cc84aa8bbb0a8681d0f94cc",
            "8a36b7c19d324edbb838abb4e4d624c6",
            "7114d150d2c34a38a68340c96758a1d7",
            "f1791f5d5b7448eba58dde57eef46a90",
            "7c300c34e117417dada228c548bc5ac3",
            "fe819fd9ed004d4aa5a04b175cf6dc86",
            "3fb4b45eda1945dc9f15db6dbcc16b5a",
            "dbd3f15cb4474cb6a57a2fe3cf6ddebe",
            "fb7fe3f080c44feebc7dcd0edec6dab8",
            "b88d79fd203d4c1c9660684630595f02",
            "f7cadebccf5b46c6ad248404deb3842b",
            "065ab39ee3714e58977f3ed14ae0dc8c",
            "c4a9e299654e4deb827d17247ddf9bea",
            "81559f378760431580a0f958320fbea8",
            "a62d8075cd7d4687b74d41389ab12b97",
            "f84486a1cccd4752ba516861e7d065fc"
          ]
        },
        "outputId": "b8b050f4-6950-4faa-918e-8050097f42f5"
      },
      "execution_count": 16,
      "outputs": [
        {
          "output_type": "display_data",
          "data": {
            "text/plain": [
              "Downloading:   0%|          | 0.00/28.0 [00:00<?, ?B/s]"
            ],
            "application/vnd.jupyter.widget-view+json": {
              "version_major": 2,
              "version_minor": 0,
              "model_id": "659c547de8b840a9a8ca474ecdee7dc8"
            }
          },
          "metadata": {}
        },
        {
          "output_type": "display_data",
          "data": {
            "text/plain": [
              "Downloading:   0%|          | 0.00/570 [00:00<?, ?B/s]"
            ],
            "application/vnd.jupyter.widget-view+json": {
              "version_major": 2,
              "version_minor": 0,
              "model_id": "9b73c6ffb50f42d2a17da131a3b9af0e"
            }
          },
          "metadata": {}
        },
        {
          "output_type": "display_data",
          "data": {
            "text/plain": [
              "Downloading:   0%|          | 0.00/232k [00:00<?, ?B/s]"
            ],
            "application/vnd.jupyter.widget-view+json": {
              "version_major": 2,
              "version_minor": 0,
              "model_id": "12c505a1491846cfafee005e5b277456"
            }
          },
          "metadata": {}
        },
        {
          "output_type": "display_data",
          "data": {
            "text/plain": [
              "Downloading:   0%|          | 0.00/466k [00:00<?, ?B/s]"
            ],
            "application/vnd.jupyter.widget-view+json": {
              "version_major": 2,
              "version_minor": 0,
              "model_id": "fe819fd9ed004d4aa5a04b175cf6dc86"
            }
          },
          "metadata": {}
        }
      ]
    },
    {
      "cell_type": "markdown",
      "source": [
        "### Splitting Data into Train/Test"
      ],
      "metadata": {
        "id": "98XOX-8rC-VH"
      }
    },
    {
      "cell_type": "code",
      "source": [
        "X_tokenized_train, X_tokenized_test, X_img_train, X_img_test, y_train, y_test = train_test_split(X_tokenized, X1, y, test_size=0.2, random_state=42, shuffle=True, stratify=y)"
      ],
      "metadata": {
        "id": "vyVD_jloDM0R"
      },
      "execution_count": 17,
      "outputs": []
    },
    {
      "cell_type": "code",
      "source": [
        "X_tokenized_train"
      ],
      "metadata": {
        "colab": {
          "base_uri": "https://localhost:8080/",
          "height": 424
        },
        "id": "Ph4YsYmZEJsj",
        "outputId": "f1c5b3f5-a80a-4ddb-d00a-29f16d5dea95"
      },
      "execution_count": 18,
      "outputs": [
        {
          "output_type": "execute_result",
          "data": {
            "text/plain": [
              "                                             input_ids  \\\n",
              "217  [101, 4770, 2795, 5096, 7479, 10760, 16869, 10...   \n",
              "308  [101, 2489, 7829, 7479, 13278, 9692, 9006, 248...   \n",
              "103  [101, 4497, 8913, 1053, 2669, 2080, 1052, 1034...   \n",
              "15   [101, 2053, 2592, 102, 0, 0, 0, 0, 0, 0, 0, 0,...   \n",
              "230  [101, 2184, 12849, 10264, 2102, 2192, 5906, 37...   \n",
              "..                                                 ...   \n",
              "100  [101, 9686, 17443, 1023, 2243, 2290, 24707, 12...   \n",
              "273  [101, 3046, 12882, 2382, 2154, 2489, 3711, 231...   \n",
              "276  [101, 3338, 2919, 3143, 2186, 11387, 16068, 23...   \n",
              "277  [101, 10036, 22477, 14154, 9938, 2860, 2860, 2...   \n",
              "40   [101, 1037, 2100, 5432, 102, 0, 0, 0, 0, 0, 0,...   \n",
              "\n",
              "                                        attention_mask  \n",
              "217  [1, 1, 1, 1, 1, 1, 1, 1, 1, 1, 1, 1, 1, 1, 1, ...  \n",
              "308  [1, 1, 1, 1, 1, 1, 1, 1, 1, 1, 1, 1, 1, 1, 0, ...  \n",
              "103  [1, 1, 1, 1, 1, 1, 1, 1, 1, 1, 1, 0, 0, 0, 0, ...  \n",
              "15   [1, 1, 1, 1, 0, 0, 0, 0, 0, 0, 0, 0, 0, 0, 0, ...  \n",
              "230  [1, 1, 1, 1, 1, 1, 1, 1, 1, 1, 1, 1, 1, 0, 0, ...  \n",
              "..                                                 ...  \n",
              "100  [1, 1, 1, 1, 1, 1, 1, 1, 1, 1, 1, 1, 1, 1, 1, ...  \n",
              "273  [1, 1, 1, 1, 1, 1, 1, 1, 1, 1, 1, 1, 1, 1, 1, ...  \n",
              "276  [1, 1, 1, 1, 1, 1, 1, 1, 1, 1, 1, 1, 1, 1, 1, ...  \n",
              "277  [1, 1, 1, 1, 1, 1, 1, 1, 1, 1, 1, 1, 1, 1, 1, ...  \n",
              "40   [1, 1, 1, 1, 1, 0, 0, 0, 0, 0, 0, 0, 0, 0, 0, ...  \n",
              "\n",
              "[313 rows x 2 columns]"
            ],
            "text/html": [
              "\n",
              "  <div id=\"df-f9c5ea0b-1479-41c8-ab15-1d10838d6537\">\n",
              "    <div class=\"colab-df-container\">\n",
              "      <div>\n",
              "<style scoped>\n",
              "    .dataframe tbody tr th:only-of-type {\n",
              "        vertical-align: middle;\n",
              "    }\n",
              "\n",
              "    .dataframe tbody tr th {\n",
              "        vertical-align: top;\n",
              "    }\n",
              "\n",
              "    .dataframe thead th {\n",
              "        text-align: right;\n",
              "    }\n",
              "</style>\n",
              "<table border=\"1\" class=\"dataframe\">\n",
              "  <thead>\n",
              "    <tr style=\"text-align: right;\">\n",
              "      <th></th>\n",
              "      <th>input_ids</th>\n",
              "      <th>attention_mask</th>\n",
              "    </tr>\n",
              "  </thead>\n",
              "  <tbody>\n",
              "    <tr>\n",
              "      <th>217</th>\n",
              "      <td>[101, 4770, 2795, 5096, 7479, 10760, 16869, 10...</td>\n",
              "      <td>[1, 1, 1, 1, 1, 1, 1, 1, 1, 1, 1, 1, 1, 1, 1, ...</td>\n",
              "    </tr>\n",
              "    <tr>\n",
              "      <th>308</th>\n",
              "      <td>[101, 2489, 7829, 7479, 13278, 9692, 9006, 248...</td>\n",
              "      <td>[1, 1, 1, 1, 1, 1, 1, 1, 1, 1, 1, 1, 1, 1, 0, ...</td>\n",
              "    </tr>\n",
              "    <tr>\n",
              "      <th>103</th>\n",
              "      <td>[101, 4497, 8913, 1053, 2669, 2080, 1052, 1034...</td>\n",
              "      <td>[1, 1, 1, 1, 1, 1, 1, 1, 1, 1, 1, 0, 0, 0, 0, ...</td>\n",
              "    </tr>\n",
              "    <tr>\n",
              "      <th>15</th>\n",
              "      <td>[101, 2053, 2592, 102, 0, 0, 0, 0, 0, 0, 0, 0,...</td>\n",
              "      <td>[1, 1, 1, 1, 0, 0, 0, 0, 0, 0, 0, 0, 0, 0, 0, ...</td>\n",
              "    </tr>\n",
              "    <tr>\n",
              "      <th>230</th>\n",
              "      <td>[101, 2184, 12849, 10264, 2102, 2192, 5906, 37...</td>\n",
              "      <td>[1, 1, 1, 1, 1, 1, 1, 1, 1, 1, 1, 1, 1, 0, 0, ...</td>\n",
              "    </tr>\n",
              "    <tr>\n",
              "      <th>...</th>\n",
              "      <td>...</td>\n",
              "      <td>...</td>\n",
              "    </tr>\n",
              "    <tr>\n",
              "      <th>100</th>\n",
              "      <td>[101, 9686, 17443, 1023, 2243, 2290, 24707, 12...</td>\n",
              "      <td>[1, 1, 1, 1, 1, 1, 1, 1, 1, 1, 1, 1, 1, 1, 1, ...</td>\n",
              "    </tr>\n",
              "    <tr>\n",
              "      <th>273</th>\n",
              "      <td>[101, 3046, 12882, 2382, 2154, 2489, 3711, 231...</td>\n",
              "      <td>[1, 1, 1, 1, 1, 1, 1, 1, 1, 1, 1, 1, 1, 1, 1, ...</td>\n",
              "    </tr>\n",
              "    <tr>\n",
              "      <th>276</th>\n",
              "      <td>[101, 3338, 2919, 3143, 2186, 11387, 16068, 23...</td>\n",
              "      <td>[1, 1, 1, 1, 1, 1, 1, 1, 1, 1, 1, 1, 1, 1, 1, ...</td>\n",
              "    </tr>\n",
              "    <tr>\n",
              "      <th>277</th>\n",
              "      <td>[101, 10036, 22477, 14154, 9938, 2860, 2860, 2...</td>\n",
              "      <td>[1, 1, 1, 1, 1, 1, 1, 1, 1, 1, 1, 1, 1, 1, 1, ...</td>\n",
              "    </tr>\n",
              "    <tr>\n",
              "      <th>40</th>\n",
              "      <td>[101, 1037, 2100, 5432, 102, 0, 0, 0, 0, 0, 0,...</td>\n",
              "      <td>[1, 1, 1, 1, 1, 0, 0, 0, 0, 0, 0, 0, 0, 0, 0, ...</td>\n",
              "    </tr>\n",
              "  </tbody>\n",
              "</table>\n",
              "<p>313 rows × 2 columns</p>\n",
              "</div>\n",
              "      <button class=\"colab-df-convert\" onclick=\"convertToInteractive('df-f9c5ea0b-1479-41c8-ab15-1d10838d6537')\"\n",
              "              title=\"Convert this dataframe to an interactive table.\"\n",
              "              style=\"display:none;\">\n",
              "        \n",
              "  <svg xmlns=\"http://www.w3.org/2000/svg\" height=\"24px\"viewBox=\"0 0 24 24\"\n",
              "       width=\"24px\">\n",
              "    <path d=\"M0 0h24v24H0V0z\" fill=\"none\"/>\n",
              "    <path d=\"M18.56 5.44l.94 2.06.94-2.06 2.06-.94-2.06-.94-.94-2.06-.94 2.06-2.06.94zm-11 1L8.5 8.5l.94-2.06 2.06-.94-2.06-.94L8.5 2.5l-.94 2.06-2.06.94zm10 10l.94 2.06.94-2.06 2.06-.94-2.06-.94-.94-2.06-.94 2.06-2.06.94z\"/><path d=\"M17.41 7.96l-1.37-1.37c-.4-.4-.92-.59-1.43-.59-.52 0-1.04.2-1.43.59L10.3 9.45l-7.72 7.72c-.78.78-.78 2.05 0 2.83L4 21.41c.39.39.9.59 1.41.59.51 0 1.02-.2 1.41-.59l7.78-7.78 2.81-2.81c.8-.78.8-2.07 0-2.86zM5.41 20L4 18.59l7.72-7.72 1.47 1.35L5.41 20z\"/>\n",
              "  </svg>\n",
              "      </button>\n",
              "      \n",
              "  <style>\n",
              "    .colab-df-container {\n",
              "      display:flex;\n",
              "      flex-wrap:wrap;\n",
              "      gap: 12px;\n",
              "    }\n",
              "\n",
              "    .colab-df-convert {\n",
              "      background-color: #E8F0FE;\n",
              "      border: none;\n",
              "      border-radius: 50%;\n",
              "      cursor: pointer;\n",
              "      display: none;\n",
              "      fill: #1967D2;\n",
              "      height: 32px;\n",
              "      padding: 0 0 0 0;\n",
              "      width: 32px;\n",
              "    }\n",
              "\n",
              "    .colab-df-convert:hover {\n",
              "      background-color: #E2EBFA;\n",
              "      box-shadow: 0px 1px 2px rgba(60, 64, 67, 0.3), 0px 1px 3px 1px rgba(60, 64, 67, 0.15);\n",
              "      fill: #174EA6;\n",
              "    }\n",
              "\n",
              "    [theme=dark] .colab-df-convert {\n",
              "      background-color: #3B4455;\n",
              "      fill: #D2E3FC;\n",
              "    }\n",
              "\n",
              "    [theme=dark] .colab-df-convert:hover {\n",
              "      background-color: #434B5C;\n",
              "      box-shadow: 0px 1px 3px 1px rgba(0, 0, 0, 0.15);\n",
              "      filter: drop-shadow(0px 1px 2px rgba(0, 0, 0, 0.3));\n",
              "      fill: #FFFFFF;\n",
              "    }\n",
              "  </style>\n",
              "\n",
              "      <script>\n",
              "        const buttonEl =\n",
              "          document.querySelector('#df-f9c5ea0b-1479-41c8-ab15-1d10838d6537 button.colab-df-convert');\n",
              "        buttonEl.style.display =\n",
              "          google.colab.kernel.accessAllowed ? 'block' : 'none';\n",
              "\n",
              "        async function convertToInteractive(key) {\n",
              "          const element = document.querySelector('#df-f9c5ea0b-1479-41c8-ab15-1d10838d6537');\n",
              "          const dataTable =\n",
              "            await google.colab.kernel.invokeFunction('convertToInteractive',\n",
              "                                                     [key], {});\n",
              "          if (!dataTable) return;\n",
              "\n",
              "          const docLinkHtml = 'Like what you see? Visit the ' +\n",
              "            '<a target=\"_blank\" href=https://colab.research.google.com/notebooks/data_table.ipynb>data table notebook</a>'\n",
              "            + ' to learn more about interactive tables.';\n",
              "          element.innerHTML = '';\n",
              "          dataTable['output_type'] = 'display_data';\n",
              "          await google.colab.output.renderOutput(dataTable, element);\n",
              "          const docLink = document.createElement('div');\n",
              "          docLink.innerHTML = docLinkHtml;\n",
              "          element.appendChild(docLink);\n",
              "        }\n",
              "      </script>\n",
              "    </div>\n",
              "  </div>\n",
              "  "
            ]
          },
          "metadata": {},
          "execution_count": 18
        }
      ]
    },
    {
      "cell_type": "markdown",
      "source": [
        "### Unzipping the IDs and Masks "
      ],
      "metadata": {
        "id": "SYUAZ5nHEPOa"
      }
    },
    {
      "cell_type": "code",
      "source": [
        "unzip_x = lambda x: [np.vstack(x[\"input_ids\"]), np.vstack(x[\"attention_mask\"])]\n",
        "\n",
        "X_tokenized_train, X_tokenized_test = unzip_x(X_tokenized_train), unzip_x(X_tokenized_test)"
      ],
      "metadata": {
        "id": "JyaWjw79C5O5"
      },
      "execution_count": 19,
      "outputs": []
    },
    {
      "cell_type": "code",
      "source": [
        "X_train = [X_img_train, X_tokenized_train]\n",
        "X_test = [X_img_test, X_tokenized_test]"
      ],
      "metadata": {
        "id": "ToQmgF9IEdw9"
      },
      "execution_count": 20,
      "outputs": []
    },
    {
      "cell_type": "markdown",
      "source": [
        "### Building the model"
      ],
      "metadata": {
        "id": "tUuq9UeAE-2C"
      }
    },
    {
      "cell_type": "code",
      "source": [
        "def build_model(img_shape, targets, checkpoint, sequence_length):\n",
        "\n",
        "  # Loading the pre-trained Resnet model\n",
        "  base_model_img = tf.keras.applications.ResNet50(input_shape=img_shape, include_top=False, weights=\"imagenet\")\n",
        "  \n",
        "  # Loading the pre-trained BERT model\n",
        "  base_model_txt = TFAutoModelForSequenceClassification.from_pretrained(checkpoint)\n",
        "\n",
        "  # Freezing the base model\n",
        "  base_model_img.trainable = False\n",
        "\n",
        "  input_ids = Input(shape=(sequence_length,), name=\"input_ids\", dtype=\"int32\")\n",
        "  attenion_mask = Input(shape=(sequence_length,), name=\"attention_mask\", dtype=\"int32\")\n",
        "\n",
        "  if checkpoint == \"gpt2\": x1 = base_model_txt.transformer(input_ids, attention_mask=attenion_mask)[0]\n",
        "  else: x1 = base_model_txt.bert(input_ids, attention_mask=attenion_mask)[1]\n",
        "\n",
        "  # Defining the custom head for our neural network\n",
        "  global_average_layer = tf.keras.layers.GlobalAveragePooling2D()(base_model_img.output)\n",
        "\n",
        "  x1 = Flatten()(x1)\n",
        "\n",
        "  # Concat the results\n",
        "\n",
        "  concat_vec = tf.keras.layers.concatenate([x1, global_average_layer], name=\"Concat\")\n",
        "  # x = tf.concat([x1, global_average_layer], axis=-1, name=\"Concat\")\n",
        "\n",
        "  # # x = tf.keras.layers.Reshape(target_shape=((1, x.shape) + (1,)), name=\"Reshaping\")(x)\n",
        "  # expanded_concat = tf.keras.layers.Reshape((concat_vec.shape[1], 1))(concat_vec)\n",
        "\n",
        "  # print(expanded_concat)\n",
        "  \n",
        "  # # Encoder Layer\n",
        "  # x = tf.keras.layers.LSTM(128, return_sequences=True, return_state=True)(expanded_concat)\n",
        "  # x = tf.keras.layers.LSTM(128, return_sequences=True, return_state=True)(x)\n",
        "\n",
        "  # # Squeeze\n",
        "  # x = tf.squeeze(x, axis=-1)  \n",
        "\n",
        "  # Output layer\n",
        "  units = len(np.unique(targets))\n",
        "\n",
        "  if units > 2:\n",
        "      activation = \"softmax\"\n",
        "      loss = \"sparse_categorical_crossentropy\"\n",
        "  \n",
        "  else:\n",
        "      activation = \"sigmoid\"\n",
        "      loss = \"binary_crossentropy\"\n",
        "      units = units - 1\n",
        "  \n",
        "  outputs = Dense(units=units, activation=activation)(concat_vec)\n",
        "\n",
        "  model = Model(inputs=[base_model_img.input, input_ids, attenion_mask], outputs=outputs)\n",
        "\n",
        "  # Compiling the model\n",
        "  model.compile(optimizer=\"adam\", loss=loss, metrics=[\"accuracy\"])\n",
        "\n",
        "  # Model Architecture Export\n",
        "  tf.keras.utils.plot_model(model, to_file='model.png', show_shapes=True, \n",
        "                            show_dtype=True, show_layer_names=True, rankdir='TB',\n",
        "                            expand_nested=True, dpi=300, layer_range=None, \n",
        "                            show_layer_activations=True)\n",
        "\n",
        "  \n",
        "  return model"
      ],
      "metadata": {
        "id": "QcYgVDWWE0m5"
      },
      "execution_count": 25,
      "outputs": []
    },
    {
      "cell_type": "code",
      "source": [
        "model = build_model((224, 224, 3), y, checkpoint, sequence_length)"
      ],
      "metadata": {
        "colab": {
          "base_uri": "https://localhost:8080/"
        },
        "id": "cbGC_xLCLdzK",
        "outputId": "27e3e78e-7640-4fcc-c062-3303ac60e2bd"
      },
      "execution_count": 26,
      "outputs": [
        {
          "output_type": "stream",
          "name": "stderr",
          "text": [
            "All model checkpoint layers were used when initializing TFBertForSequenceClassification.\n",
            "\n",
            "Some layers of TFBertForSequenceClassification were not initialized from the model checkpoint at bert-base-uncased and are newly initialized: ['classifier']\n",
            "You should probably TRAIN this model on a down-stream task to be able to use it for predictions and inference.\n"
          ]
        },
        {
          "output_type": "stream",
          "name": "stdout",
          "text": [
            "dot: graph is too large for cairo-renderer bitmaps. Scaling by 0.437086 to fit\n",
            "\n"
          ]
        }
      ]
    },
    {
      "cell_type": "markdown",
      "source": [
        "### Callbacks"
      ],
      "metadata": {
        "id": "1F4F4OAdQ7ag"
      }
    },
    {
      "cell_type": "code",
      "source": [
        "def callbacks() -> list:\n",
        "\n",
        "    run_name = \"run 1\"\n",
        "    save_path = Path(\"/models\")\n",
        "    os.makedirs(save_path/\"logs\", exist_ok=True)\n",
        "    \n",
        "    checkpoint = ModelCheckpoint(save_path, monitor=\"val_loss\", save_best_only=True, \n",
        "                                                    verbose=1)\n",
        "\n",
        "    earlystopping = EarlyStopping(monitor=\"val_loss\", verbose=1, restore_best_weights = True,\n",
        "                                                    patience=5)\n",
        "\n",
        "    logger = TensorBoard(save_path/\"logs\"/run_name, histogram_freq=2, write_graph=True, write_images=True)\n",
        "\n",
        "    lr = ReduceLROnPlateau(monitor=\"val_loss\", factor=0.1, patience=2, verbose=1,\n",
        "                                         min_delta=0.0001, cooldown=0, min_lr=0)\n",
        "    \n",
        "    return [checkpoint, earlystopping, lr, logger]"
      ],
      "metadata": {
        "id": "SA7GNmaQQtZX"
      },
      "execution_count": 27,
      "outputs": []
    },
    {
      "cell_type": "code",
      "source": [
        "#  !sudo rm -rf /content/drive/MyDrive/Deceptive-Research/models"
      ],
      "metadata": {
        "id": "XF-4GUxJLs8m"
      },
      "execution_count": 28,
      "outputs": []
    },
    {
      "cell_type": "markdown",
      "source": [
        "### Model Training"
      ],
      "metadata": {
        "id": "Y96b_Oe-SF6J"
      }
    },
    {
      "cell_type": "code",
      "source": [
        "history = model.fit(X_train, y_train, validation_data=(X_test, y_test), epochs=100, batch_size=8, callbacks=callbacks())"
      ],
      "metadata": {
        "colab": {
          "base_uri": "https://localhost:8080/"
        },
        "id": "J78uKBfYRJxh",
        "outputId": "f348ca06-d270-4ab9-b03d-4911f4c933c5"
      },
      "execution_count": null,
      "outputs": [
        {
          "output_type": "stream",
          "name": "stdout",
          "text": [
            "Epoch 1/100\n",
            "40/40 [==============================] - ETA: 0s - loss: 0.7696 - accuracy: 0.7061\n",
            "Epoch 1: val_loss improved from inf to 0.86203, saving model to /models\n"
          ]
        },
        {
          "output_type": "stream",
          "name": "stderr",
          "text": [
            "WARNING:absl:Found untraced functions such as _jit_compiled_convolution_op, _jit_compiled_convolution_op, _jit_compiled_convolution_op, _jit_compiled_convolution_op, _jit_compiled_convolution_op while saving (showing 5 of 473). These functions will not be directly callable after loading.\n"
          ]
        },
        {
          "output_type": "stream",
          "name": "stdout",
          "text": [
            "\b\b\b\b\b\b\b\b\b\b\b\b\b\b\b\b\b\b\b\b\b\b\b\b\b\b\b\b\b\b\b\b\b\b\b\b\b\b\b\b\b\b\b\b\b\b\b\b\b\b\b\b\b\b\b\b\b\b\b\b\b\b\b\b\b\b\b\b\b\b\b\b\b\b\b\b\b\b\b\b\b\b\r40/40 [==============================] - 137s 3s/step - loss: 0.7696 - accuracy: 0.7061 - val_loss: 0.8620 - val_accuracy: 0.2405 - lr: 0.0010\n",
            "Epoch 2/100\n",
            "40/40 [==============================] - ETA: 0s - loss: 0.5682 - accuracy: 0.7252\n",
            "Epoch 2: val_loss improved from 0.86203 to 0.52592, saving model to /models\n"
          ]
        },
        {
          "output_type": "stream",
          "name": "stderr",
          "text": [
            "WARNING:absl:Found untraced functions such as _jit_compiled_convolution_op, _jit_compiled_convolution_op, _jit_compiled_convolution_op, _jit_compiled_convolution_op, _jit_compiled_convolution_op while saving (showing 5 of 473). These functions will not be directly callable after loading.\n"
          ]
        },
        {
          "output_type": "stream",
          "name": "stdout",
          "text": [
            "\b\b\b\b\b\b\b\b\b\b\b\b\b\b\b\b\b\b\b\b\b\b\b\b\b\b\b\b\b\b\b\b\b\b\b\b\b\b\b\b\b\b\b\b\b\b\b\b\b\b\b\b\b\b\b\b\b\b\b\b\b\b\b\b\b\b\b\b\b\b\b\b\b\b\b\b\b\b\b\b\b\b\r40/40 [==============================] - 59s 1s/step - loss: 0.5682 - accuracy: 0.7252 - val_loss: 0.5259 - val_accuracy: 0.7595 - lr: 0.0010\n",
            "Epoch 3/100\n",
            "40/40 [==============================] - ETA: 0s - loss: 0.5464 - accuracy: 0.7604\n",
            "Epoch 3: val_loss did not improve from 0.52592\n",
            "40/40 [==============================] - 57s 1s/step - loss: 0.5464 - accuracy: 0.7604 - val_loss: 0.5295 - val_accuracy: 0.7722 - lr: 0.0010\n",
            "Epoch 4/100\n",
            "40/40 [==============================] - ETA: 0s - loss: 0.5338 - accuracy: 0.7540\n",
            "Epoch 4: val_loss improved from 0.52592 to 0.49075, saving model to /models\n"
          ]
        },
        {
          "output_type": "stream",
          "name": "stderr",
          "text": [
            "WARNING:absl:Found untraced functions such as _jit_compiled_convolution_op, _jit_compiled_convolution_op, _jit_compiled_convolution_op, _jit_compiled_convolution_op, _jit_compiled_convolution_op while saving (showing 5 of 473). These functions will not be directly callable after loading.\n"
          ]
        },
        {
          "output_type": "stream",
          "name": "stdout",
          "text": [
            "\b\b\b\b\b\b\b\b\b\b\b\b\b\b\b\b\b\b\b\b\b\b\b\b\b\b\b\b\b\b\b\b\b\b\b\b\b\b\b\b\b\b\b\b\b\b\b\b\b\b\b\b\b\b\b\b\b\b\b\b\b\b\b\b\b\b\b\b\b\b\b\b\b\b\b\b\b\b\b\b\b\b\r40/40 [==============================] - 61s 2s/step - loss: 0.5338 - accuracy: 0.7540 - val_loss: 0.4908 - val_accuracy: 0.7595 - lr: 0.0010\n",
            "Epoch 5/100\n",
            "40/40 [==============================] - ETA: 0s - loss: 0.5213 - accuracy: 0.7668\n",
            "Epoch 5: val_loss improved from 0.49075 to 0.47710, saving model to /models\n"
          ]
        },
        {
          "output_type": "stream",
          "name": "stderr",
          "text": [
            "WARNING:absl:Found untraced functions such as _jit_compiled_convolution_op, _jit_compiled_convolution_op, _jit_compiled_convolution_op, _jit_compiled_convolution_op, _jit_compiled_convolution_op while saving (showing 5 of 473). These functions will not be directly callable after loading.\n"
          ]
        },
        {
          "output_type": "stream",
          "name": "stdout",
          "text": [
            "\b\b\b\b\b\b\b\b\b\b\b\b\b\b\b\b\b\b\b\b\b\b\b\b\b\b\b\b\b\b\b\b\b\b\b\b\b\b\b\b\b\b\b\b\b\b\b\b\b\b\b\b\b\b\b\b\b\b\b\b\b\b\b\b\b\b\b\b\b\b\b\b\b\b\b\b\b\b\b\b\b\b\r40/40 [==============================] - 106s 3s/step - loss: 0.5213 - accuracy: 0.7668 - val_loss: 0.4771 - val_accuracy: 0.7595 - lr: 0.0010\n",
            "Epoch 6/100\n",
            "40/40 [==============================] - ETA: 0s - loss: 0.5166 - accuracy: 0.7636\n",
            "Epoch 6: val_loss did not improve from 0.47710\n",
            "40/40 [==============================] - 9s 231ms/step - loss: 0.5166 - accuracy: 0.7636 - val_loss: 0.5374 - val_accuracy: 0.8481 - lr: 0.0010\n",
            "Epoch 7/100\n",
            "40/40 [==============================] - ETA: 0s - loss: 0.5024 - accuracy: 0.7700\n",
            "Epoch 7: val_loss did not improve from 0.47710\n",
            "\n",
            "Epoch 7: ReduceLROnPlateau reducing learning rate to 0.00010000000474974513.\n",
            "40/40 [==============================] - 57s 1s/step - loss: 0.5024 - accuracy: 0.7700 - val_loss: 0.4869 - val_accuracy: 0.8481 - lr: 0.0010\n",
            "Epoch 8/100\n",
            "40/40 [==============================] - ETA: 0s - loss: 0.4923 - accuracy: 0.7732\n",
            "Epoch 8: val_loss improved from 0.47710 to 0.45395, saving model to /models\n"
          ]
        },
        {
          "output_type": "stream",
          "name": "stderr",
          "text": [
            "WARNING:absl:Found untraced functions such as _jit_compiled_convolution_op, _jit_compiled_convolution_op, _jit_compiled_convolution_op, _jit_compiled_convolution_op, _jit_compiled_convolution_op while saving (showing 5 of 473). These functions will not be directly callable after loading.\n"
          ]
        },
        {
          "output_type": "stream",
          "name": "stdout",
          "text": [
            "\b\b\b\b\b\b\b\b\b\b\b\b\b\b\b\b\b\b\b\b\b\b\b\b\b\b\b\b\b\b\b\b\b\b\b\b\b\b\b\b\b\b\b\b\b\b\b\b\b\b\b\b\b\b\b\b\b\b\b\b\b\b\b\b\b\b\b\b\b\b\b\b\b\b\b\b\b\b\b\b\b\b\r40/40 [==============================] - 60s 2s/step - loss: 0.4923 - accuracy: 0.7732 - val_loss: 0.4539 - val_accuracy: 0.7848 - lr: 1.0000e-04\n",
            "Epoch 9/100\n",
            "40/40 [==============================] - ETA: 0s - loss: 0.4761 - accuracy: 0.7764\n",
            "Epoch 9: val_loss improved from 0.45395 to 0.45102, saving model to /models\n"
          ]
        },
        {
          "output_type": "stream",
          "name": "stderr",
          "text": [
            "WARNING:absl:Found untraced functions such as _jit_compiled_convolution_op, _jit_compiled_convolution_op, _jit_compiled_convolution_op, _jit_compiled_convolution_op, _jit_compiled_convolution_op while saving (showing 5 of 473). These functions will not be directly callable after loading.\n"
          ]
        },
        {
          "output_type": "stream",
          "name": "stdout",
          "text": [
            "\b\b\b\b\b\b\b\b\b\b\b\b\b\b\b\b\b\b\b\b\b\b\b\b\b\b\b\b\b\b\b\b\b\b\b\b\b\b\b\b\b\b\b\b\b\b\b\b\b\b\b\b\b\b\b\b\b\b\b\b\b\b\b\b\b\b\b\b\b\b\b\b\b\b\b\b\b\b\b\b\b\b\r40/40 [==============================] - 106s 3s/step - loss: 0.4761 - accuracy: 0.7764 - val_loss: 0.4510 - val_accuracy: 0.7848 - lr: 1.0000e-04\n",
            "Epoch 10/100\n",
            "40/40 [==============================] - ETA: 0s - loss: 0.4790 - accuracy: 0.7668\n",
            "Epoch 10: val_loss did not improve from 0.45102\n",
            "40/40 [==============================] - 10s 240ms/step - loss: 0.4790 - accuracy: 0.7668 - val_loss: 0.4519 - val_accuracy: 0.7848 - lr: 1.0000e-04\n",
            "Epoch 11/100\n",
            "40/40 [==============================] - ETA: 0s - loss: 0.4757 - accuracy: 0.7764\n",
            "Epoch 11: val_loss improved from 0.45102 to 0.44909, saving model to /models\n"
          ]
        },
        {
          "output_type": "stream",
          "name": "stderr",
          "text": [
            "WARNING:absl:Found untraced functions such as _jit_compiled_convolution_op, _jit_compiled_convolution_op, _jit_compiled_convolution_op, _jit_compiled_convolution_op, _jit_compiled_convolution_op while saving (showing 5 of 473). These functions will not be directly callable after loading.\n"
          ]
        },
        {
          "output_type": "stream",
          "name": "stdout",
          "text": [
            "\b\b\b\b\b\b\b\b\b\b\b\b\b\b\b\b\b\b\b\b\b\b\b\b\b\b\b\b\b\b\b\b\b\b\b\b\b\b\b\b\b\b\b\b\b\b\b\b\b\b\b\b\b\b\b\b\b\b\b\b\b\b\b\b\b\b\b\b\b\b\b\b\b\b\b\b\b\b\b\b\b\b\r40/40 [==============================] - 108s 3s/step - loss: 0.4757 - accuracy: 0.7764 - val_loss: 0.4491 - val_accuracy: 0.7848 - lr: 1.0000e-04\n",
            "Epoch 12/100\n",
            "40/40 [==============================] - ETA: 0s - loss: 0.4764 - accuracy: 0.7700\n",
            "Epoch 12: val_loss did not improve from 0.44909\n",
            "40/40 [==============================] - 9s 230ms/step - loss: 0.4764 - accuracy: 0.7700 - val_loss: 0.4495 - val_accuracy: 0.7848 - lr: 1.0000e-04\n",
            "Epoch 13/100\n",
            "40/40 [==============================] - ETA: 0s - loss: 0.4727 - accuracy: 0.7764\n",
            "Epoch 13: val_loss improved from 0.44909 to 0.44678, saving model to /models\n"
          ]
        },
        {
          "output_type": "stream",
          "name": "stderr",
          "text": [
            "WARNING:absl:Found untraced functions such as _jit_compiled_convolution_op, _jit_compiled_convolution_op, _jit_compiled_convolution_op, _jit_compiled_convolution_op, _jit_compiled_convolution_op while saving (showing 5 of 473). These functions will not be directly callable after loading.\n"
          ]
        },
        {
          "output_type": "stream",
          "name": "stdout",
          "text": [
            "\b\b\b\b\b\b\b\b\b\b\b\b\b\b\b\b\b\b\b\b\b\b\b\b\b\b\b\b\b\b\b\b\b\b\b\b\b\b\b\b\b\b\b\b\b\b\b\b\b\b\b\b\b\b\b\b\b\b\b\b\b\b\b\b\b\b\b\b\b\b\b\b\b\b\b\b\b\b\b\b\b\b\r40/40 [==============================] - 110s 3s/step - loss: 0.4727 - accuracy: 0.7764 - val_loss: 0.4468 - val_accuracy: 0.7848 - lr: 1.0000e-04\n",
            "Epoch 14/100\n",
            "40/40 [==============================] - ETA: 0s - loss: 0.4757 - accuracy: 0.7732\n",
            "Epoch 14: val_loss did not improve from 0.44678\n",
            "40/40 [==============================] - 10s 240ms/step - loss: 0.4757 - accuracy: 0.7732 - val_loss: 0.4502 - val_accuracy: 0.7975 - lr: 1.0000e-04\n",
            "Epoch 15/100\n",
            "40/40 [==============================] - ETA: 0s - loss: 0.4741 - accuracy: 0.7764\n",
            "Epoch 15: val_loss improved from 0.44678 to 0.44475, saving model to /models\n"
          ]
        },
        {
          "output_type": "stream",
          "name": "stderr",
          "text": [
            "WARNING:absl:Found untraced functions such as _jit_compiled_convolution_op, _jit_compiled_convolution_op, _jit_compiled_convolution_op, _jit_compiled_convolution_op, _jit_compiled_convolution_op while saving (showing 5 of 473). These functions will not be directly callable after loading.\n"
          ]
        },
        {
          "output_type": "stream",
          "name": "stdout",
          "text": [
            "\b\b\b\b\b\b\b\b\b\b\b\b\b\b\b\b\b\b\b\b\b\b\b\b\b\b\b\b\b\b\b\b\b\b\b\b\b\b\b\b\b\b\b\b\b\b\b\b\b\b\b\b\b\b\b\b\b\b\b\b\b\b\b\b\b\b\b\b\b\b\b\b\b\b\b\b\b\b\b\b\b\b\r40/40 [==============================] - 107s 3s/step - loss: 0.4741 - accuracy: 0.7764 - val_loss: 0.4447 - val_accuracy: 0.7848 - lr: 1.0000e-04\n",
            "Epoch 16/100\n",
            "40/40 [==============================] - ETA: 0s - loss: 0.4720 - accuracy: 0.7764\n",
            "Epoch 16: val_loss improved from 0.44475 to 0.44368, saving model to /models\n"
          ]
        },
        {
          "output_type": "stream",
          "name": "stderr",
          "text": [
            "WARNING:absl:Found untraced functions such as _jit_compiled_convolution_op, _jit_compiled_convolution_op, _jit_compiled_convolution_op, _jit_compiled_convolution_op, _jit_compiled_convolution_op while saving (showing 5 of 473). These functions will not be directly callable after loading.\n"
          ]
        },
        {
          "output_type": "stream",
          "name": "stdout",
          "text": [
            "\b\b\b\b\b\b\b\b\b\b\b\b\b\b\b\b\b\b\b\b\b\b\b\b\b\b\b\b\b\b\b\b\b\b\b\b\b\b\b\b\b\b\b\b\b\b\b\b\b\b\b\b\b\b\b\b\b\b\b\b\b\b\b\b\b\b\b\b\b\b\b\b\b\b\b\b\b\b\b\b\b\b\r40/40 [==============================] - 62s 2s/step - loss: 0.4720 - accuracy: 0.7764 - val_loss: 0.4437 - val_accuracy: 0.7848 - lr: 1.0000e-04\n",
            "Epoch 17/100\n",
            "40/40 [==============================] - ETA: 0s - loss: 0.4706 - accuracy: 0.7764\n",
            "Epoch 17: val_loss improved from 0.44368 to 0.44351, saving model to /models\n"
          ]
        },
        {
          "output_type": "stream",
          "name": "stderr",
          "text": [
            "WARNING:absl:Found untraced functions such as _jit_compiled_convolution_op, _jit_compiled_convolution_op, _jit_compiled_convolution_op, _jit_compiled_convolution_op, _jit_compiled_convolution_op while saving (showing 5 of 473). These functions will not be directly callable after loading.\n"
          ]
        },
        {
          "output_type": "stream",
          "name": "stdout",
          "text": [
            "\b\b\b\b\b\b\b\b\b\b\b\b\b\b\b\b\b\b\b\b\b\b\b\b\b\b\b\b\b\b\b\b\b\b\b\b\b\b\b\b\b\b\b\b\b\b\b\b\b\b\b\b\b\b\b\b\b\b\b\b\b\b\b\b\b\b\b\b\b\b\b\b\b\b\b\b\b\b\b\b\b\b\r40/40 [==============================] - 105s 3s/step - loss: 0.4706 - accuracy: 0.7764 - val_loss: 0.4435 - val_accuracy: 0.7848 - lr: 1.0000e-04\n",
            "Epoch 18/100\n",
            "40/40 [==============================] - ETA: 0s - loss: 0.4714 - accuracy: 0.7764\n",
            "Epoch 18: val_loss improved from 0.44351 to 0.44142, saving model to /models\n"
          ]
        },
        {
          "output_type": "stream",
          "name": "stderr",
          "text": [
            "WARNING:absl:Found untraced functions such as _jit_compiled_convolution_op, _jit_compiled_convolution_op, _jit_compiled_convolution_op, _jit_compiled_convolution_op, _jit_compiled_convolution_op while saving (showing 5 of 473). These functions will not be directly callable after loading.\n"
          ]
        },
        {
          "output_type": "stream",
          "name": "stdout",
          "text": [
            "\b\b\b\b\b\b\b\b\b\b\b\b\b\b\b\b\b\b\b\b\b\b\b\b\b\b\b\b\b\b\b\b\b\b\b\b\b\b\b\b\b\b\b\b\b\b\b\b\b\b\b\b\b\b\b\b\b\b\b\b\b\b\b\b\b\b\b\b\b\b\b\b\b\b\b\b\b\b\b\b\b\b\r40/40 [==============================] - 62s 2s/step - loss: 0.4714 - accuracy: 0.7764 - val_loss: 0.4414 - val_accuracy: 0.7848 - lr: 1.0000e-04\n",
            "Epoch 19/100\n",
            "40/40 [==============================] - ETA: 0s - loss: 0.4683 - accuracy: 0.7764\n",
            "Epoch 19: val_loss improved from 0.44142 to 0.44019, saving model to /models\n"
          ]
        },
        {
          "output_type": "stream",
          "name": "stderr",
          "text": [
            "WARNING:absl:Found untraced functions such as _jit_compiled_convolution_op, _jit_compiled_convolution_op, _jit_compiled_convolution_op, _jit_compiled_convolution_op, _jit_compiled_convolution_op while saving (showing 5 of 473). These functions will not be directly callable after loading.\n"
          ]
        },
        {
          "output_type": "stream",
          "name": "stdout",
          "text": [
            "\b\b\b\b\b\b\b\b\b\b\b\b\b\b\b\b\b\b\b\b\b\b\b\b\b\b\b\b\b\b\b\b\b\b\b\b\b\b\b\b\b\b\b\b\b\b\b\b\b\b\b\b\b\b\b\b\b\b\b\b\b\b\b\b\b\b\b\b\b\b\b\b\b\b\b\b\b\b\b\b\b\b\r40/40 [==============================] - 105s 3s/step - loss: 0.4683 - accuracy: 0.7764 - val_loss: 0.4402 - val_accuracy: 0.7848 - lr: 1.0000e-04\n",
            "Epoch 20/100\n",
            "40/40 [==============================] - ETA: 0s - loss: 0.4693 - accuracy: 0.7764\n",
            "Epoch 20: val_loss improved from 0.44019 to 0.43907, saving model to /models\n"
          ]
        },
        {
          "output_type": "stream",
          "name": "stderr",
          "text": [
            "WARNING:absl:Found untraced functions such as _jit_compiled_convolution_op, _jit_compiled_convolution_op, _jit_compiled_convolution_op, _jit_compiled_convolution_op, _jit_compiled_convolution_op while saving (showing 5 of 473). These functions will not be directly callable after loading.\n"
          ]
        },
        {
          "output_type": "stream",
          "name": "stdout",
          "text": [
            "\b\b\b\b\b\b\b\b\b\b\b\b\b\b\b\b\b\b\b\b\b\b\b\b\b\b\b\b\b\b\b\b\b\b\b\b\b\b\b\b\b\b\b\b\b\b\b\b\b\b\b\b\b\b\b\b\b\b\b\b\b\b\b\b\b\b\b\b\b\b\b\b\b\b\b\b\b\b\b\b\b\b\r40/40 [==============================] - 63s 2s/step - loss: 0.4693 - accuracy: 0.7764 - val_loss: 0.4391 - val_accuracy: 0.7848 - lr: 1.0000e-04\n",
            "Epoch 21/100\n",
            "40/40 [==============================] - ETA: 0s - loss: 0.4667 - accuracy: 0.7764\n",
            "Epoch 21: val_loss improved from 0.43907 to 0.43809, saving model to /models\n"
          ]
        },
        {
          "output_type": "stream",
          "name": "stderr",
          "text": [
            "WARNING:absl:Found untraced functions such as _jit_compiled_convolution_op, _jit_compiled_convolution_op, _jit_compiled_convolution_op, _jit_compiled_convolution_op, _jit_compiled_convolution_op while saving (showing 5 of 473). These functions will not be directly callable after loading.\n"
          ]
        },
        {
          "output_type": "stream",
          "name": "stdout",
          "text": [
            "\b\b\b\b\b\b\b\b\b\b\b\b\b\b\b\b\b\b\b\b\b\b\b\b\b\b\b\b\b\b\b\b\b\b\b\b\b\b\b\b\b\b\b\b\b\b\b\b\b\b\b\b\b\b\b\b\b\b\b\b\b\b\b\b\b\b\b\b\b\b\b\b\b\b\b\b\b\b\b\b\b\b\r40/40 [==============================] - 106s 3s/step - loss: 0.4667 - accuracy: 0.7764 - val_loss: 0.4381 - val_accuracy: 0.7848 - lr: 1.0000e-04\n",
            "Epoch 22/100\n",
            "40/40 [==============================] - ETA: 0s - loss: 0.4690 - accuracy: 0.7764\n",
            "Epoch 22: val_loss did not improve from 0.43809\n",
            "40/40 [==============================] - 10s 238ms/step - loss: 0.4690 - accuracy: 0.7764 - val_loss: 0.4388 - val_accuracy: 0.7975 - lr: 1.0000e-04\n",
            "Epoch 23/100\n",
            "40/40 [==============================] - ETA: 0s - loss: 0.4675 - accuracy: 0.7764\n",
            "Epoch 23: val_loss improved from 0.43809 to 0.43746, saving model to /models\n"
          ]
        },
        {
          "output_type": "stream",
          "name": "stderr",
          "text": [
            "WARNING:absl:Found untraced functions such as _jit_compiled_convolution_op, _jit_compiled_convolution_op, _jit_compiled_convolution_op, _jit_compiled_convolution_op, _jit_compiled_convolution_op while saving (showing 5 of 473). These functions will not be directly callable after loading.\n"
          ]
        },
        {
          "output_type": "stream",
          "name": "stdout",
          "text": [
            "\b\b\b\b\b\b\b\b\b\b\b\b\b\b\b\b\b\b\b\b\b\b\b\b\b\b\b\b\b\b\b\b\b\b\b\b\b\b\b\b\b\b\b\b\b\b\b\b\b\b\b\b\b\b\b\b\b\b\b\b\b\b\b\b\b\b\b\b\b\b\b\b\b\b\b\b\b\b\b\b\b\b\r40/40 [==============================] - 108s 3s/step - loss: 0.4675 - accuracy: 0.7764 - val_loss: 0.4375 - val_accuracy: 0.7975 - lr: 1.0000e-04\n",
            "Epoch 24/100\n",
            "40/40 [==============================] - ETA: 0s - loss: 0.4660 - accuracy: 0.7764\n",
            "Epoch 24: val_loss improved from 0.43746 to 0.43490, saving model to /models\n"
          ]
        },
        {
          "output_type": "stream",
          "name": "stderr",
          "text": [
            "WARNING:absl:Found untraced functions such as _jit_compiled_convolution_op, _jit_compiled_convolution_op, _jit_compiled_convolution_op, _jit_compiled_convolution_op, _jit_compiled_convolution_op while saving (showing 5 of 473). These functions will not be directly callable after loading.\n"
          ]
        },
        {
          "output_type": "stream",
          "name": "stdout",
          "text": [
            "\b\b\b\b\b\b\b\b\b\b\b\b\b\b\b\b\b\b\b\b\b\b\b\b\b\b\b\b\b\b\b\b\b\b\b\b\b\b\b\b\b\b\b\b\b\b\b\b\b\b\b\b\b\b\b\b\b\b\b\b\b\b\b\b\b\b\b\b\b\b\b\b\b\b\b\b\b\b\b\b\b\b\r40/40 [==============================] - 64s 2s/step - loss: 0.4660 - accuracy: 0.7764 - val_loss: 0.4349 - val_accuracy: 0.7848 - lr: 1.0000e-04\n",
            "Epoch 25/100\n",
            "40/40 [==============================] - ETA: 0s - loss: 0.4688 - accuracy: 0.7732\n",
            "Epoch 25: val_loss did not improve from 0.43490\n",
            "40/40 [==============================] - 57s 1s/step - loss: 0.4688 - accuracy: 0.7732 - val_loss: 0.4370 - val_accuracy: 0.7975 - lr: 1.0000e-04\n",
            "Epoch 26/100\n",
            "40/40 [==============================] - ETA: 0s - loss: 0.4702 - accuracy: 0.7796\n",
            "Epoch 26: val_loss improved from 0.43490 to 0.43234, saving model to /models\n"
          ]
        },
        {
          "output_type": "stream",
          "name": "stderr",
          "text": [
            "WARNING:absl:Found untraced functions such as _jit_compiled_convolution_op, _jit_compiled_convolution_op, _jit_compiled_convolution_op, _jit_compiled_convolution_op, _jit_compiled_convolution_op while saving (showing 5 of 473). These functions will not be directly callable after loading.\n"
          ]
        },
        {
          "output_type": "stream",
          "name": "stdout",
          "text": [
            "\b\b\b\b\b\b\b\b\b\b\b\b\b\b\b\b\b\b\b\b\b\b\b\b\b\b\b\b\b\b\b\b\b\b\b\b\b\b\b\b\b\b\b\b\b\b\b\b\b\b\b\b\b\b\b\b\b\b\b\b\b\b\b\b\b\b\b\b\b\b\b\b\b\b\b\b\b\b\b\b\b\b\r40/40 [==============================] - 62s 2s/step - loss: 0.4702 - accuracy: 0.7796 - val_loss: 0.4323 - val_accuracy: 0.7975 - lr: 1.0000e-04\n",
            "Epoch 27/100\n",
            "40/40 [==============================] - ETA: 0s - loss: 0.4642 - accuracy: 0.7732\n",
            "Epoch 27: val_loss improved from 0.43234 to 0.43189, saving model to /models\n"
          ]
        },
        {
          "output_type": "stream",
          "name": "stderr",
          "text": [
            "WARNING:absl:Found untraced functions such as _jit_compiled_convolution_op, _jit_compiled_convolution_op, _jit_compiled_convolution_op, _jit_compiled_convolution_op, _jit_compiled_convolution_op while saving (showing 5 of 473). These functions will not be directly callable after loading.\n"
          ]
        },
        {
          "output_type": "stream",
          "name": "stdout",
          "text": [
            "\b\b\b\b\b\b\b\b\b\b\b\b\b\b\b\b\b\b\b\b\b\b\b\b\b\b\b\b\b\b\b\b\b\b\b\b\b\b\b\b\b\b\b\b\b\b\b\b\b\b\b\b\b\b\b\b\b\b\b\b\b\b\b\b\b\b\b\b\b\b\b\b\b\b\b\b\b\b\b\b\b\b\r40/40 [==============================] - 108s 3s/step - loss: 0.4642 - accuracy: 0.7732 - val_loss: 0.4319 - val_accuracy: 0.7975 - lr: 1.0000e-04\n",
            "Epoch 28/100\n",
            "40/40 [==============================] - ETA: 0s - loss: 0.4624 - accuracy: 0.7764\n",
            "Epoch 28: val_loss did not improve from 0.43189\n",
            "40/40 [==============================] - 9s 229ms/step - loss: 0.4624 - accuracy: 0.7764 - val_loss: 0.4320 - val_accuracy: 0.7975 - lr: 1.0000e-04\n",
            "Epoch 29/100\n",
            "40/40 [==============================] - ETA: 0s - loss: 0.4627 - accuracy: 0.7764\n",
            "Epoch 29: val_loss improved from 0.43189 to 0.42927, saving model to /models\n"
          ]
        },
        {
          "output_type": "stream",
          "name": "stderr",
          "text": [
            "WARNING:absl:Found untraced functions such as _jit_compiled_convolution_op, _jit_compiled_convolution_op, _jit_compiled_convolution_op, _jit_compiled_convolution_op, _jit_compiled_convolution_op while saving (showing 5 of 473). These functions will not be directly callable after loading.\n"
          ]
        },
        {
          "output_type": "stream",
          "name": "stdout",
          "text": [
            "\b\b\b\b\b\b\b\b\b\b\b\b\b\b\b\b\b\b\b\b\b\b\b\b\b\b\b\b\b\b\b\b\b\b\b\b\b\b\b\b\b\b\b\b\b\b\b\b\b\b\b\b\b\b\b\b\b\b\b\b\b\b\b\b\b\b\b\b\b\b\b\b\b\b\b\b\b\b\b\b\b\b\r40/40 [==============================] - 110s 3s/step - loss: 0.4627 - accuracy: 0.7764 - val_loss: 0.4293 - val_accuracy: 0.7975 - lr: 1.0000e-04\n",
            "Epoch 30/100\n",
            "40/40 [==============================] - ETA: 0s - loss: 0.4615 - accuracy: 0.7764\n",
            "Epoch 30: val_loss improved from 0.42927 to 0.42794, saving model to /models\n"
          ]
        },
        {
          "output_type": "stream",
          "name": "stderr",
          "text": [
            "WARNING:absl:Found untraced functions such as _jit_compiled_convolution_op, _jit_compiled_convolution_op, _jit_compiled_convolution_op, _jit_compiled_convolution_op, _jit_compiled_convolution_op while saving (showing 5 of 473). These functions will not be directly callable after loading.\n"
          ]
        },
        {
          "output_type": "stream",
          "name": "stdout",
          "text": [
            "\b\b\b\b\b\b\b\b\b\b\b\b\b\b\b\b\b\b\b\b\b\b\b\b\b\b\b\b\b\b\b\b\b\b\b\b\b\b\b\b\b\b\b\b\b\b\b\b\b\b\b\b\b\b\b\b\b\b\b\b\b\b\b\b\b\b\b\b\b\b\b\b\b\b\b\b\b\b\b\b\b\b\r40/40 [==============================] - 62s 2s/step - loss: 0.4615 - accuracy: 0.7764 - val_loss: 0.4279 - val_accuracy: 0.7975 - lr: 1.0000e-04\n",
            "Epoch 31/100\n",
            "40/40 [==============================] - ETA: 0s - loss: 0.4581 - accuracy: 0.7796\n",
            "Epoch 31: val_loss improved from 0.42794 to 0.42672, saving model to /models\n"
          ]
        },
        {
          "output_type": "stream",
          "name": "stderr",
          "text": [
            "WARNING:absl:Found untraced functions such as _jit_compiled_convolution_op, _jit_compiled_convolution_op, _jit_compiled_convolution_op, _jit_compiled_convolution_op, _jit_compiled_convolution_op while saving (showing 5 of 473). These functions will not be directly callable after loading.\n"
          ]
        },
        {
          "output_type": "stream",
          "name": "stdout",
          "text": [
            "\b\b\b\b\b\b\b\b\b\b\b\b\b\b\b\b\b\b\b\b\b\b\b\b\b\b\b\b\b\b\b\b\b\b\b\b\b\b\b\b\b\b\b\b\b\b\b\b\b\b\b\b\b\b\b\b\b\b\b\b\b\b\b\b\b\b\b\b\b\b\b\b\b\b\b\b\b\b\b\b\b\b\r40/40 [==============================] - 108s 3s/step - loss: 0.4581 - accuracy: 0.7796 - val_loss: 0.4267 - val_accuracy: 0.7975 - lr: 1.0000e-04\n",
            "Epoch 32/100\n",
            "40/40 [==============================] - ETA: 0s - loss: 0.4583 - accuracy: 0.7764\n",
            "Epoch 32: val_loss improved from 0.42672 to 0.42570, saving model to /models\n"
          ]
        },
        {
          "output_type": "stream",
          "name": "stderr",
          "text": [
            "WARNING:absl:Found untraced functions such as _jit_compiled_convolution_op, _jit_compiled_convolution_op, _jit_compiled_convolution_op, _jit_compiled_convolution_op, _jit_compiled_convolution_op while saving (showing 5 of 473). These functions will not be directly callable after loading.\n"
          ]
        },
        {
          "output_type": "stream",
          "name": "stdout",
          "text": [
            "\b\b\b\b\b\b\b\b\b\b\b\b\b\b\b\b\b\b\b\b\b\b\b\b\b\b\b\b\b\b\b\b\b\b\b\b\b\b\b\b\b\b\b\b\b\b\b\b\b\b\b\b\b\b\b\b\b\b\b\b\b\b\b\b\b\b\b\b\b\b\b\b\b\b\b\b\b\b\b\b\b\b\r40/40 [==============================] - 62s 2s/step - loss: 0.4583 - accuracy: 0.7764 - val_loss: 0.4257 - val_accuracy: 0.7975 - lr: 1.0000e-04\n",
            "Epoch 33/100\n",
            "40/40 [==============================] - ETA: 0s - loss: 0.4582 - accuracy: 0.7764\n",
            "Epoch 33: val_loss improved from 0.42570 to 0.42487, saving model to /models\n"
          ]
        },
        {
          "output_type": "stream",
          "name": "stderr",
          "text": [
            "WARNING:absl:Found untraced functions such as _jit_compiled_convolution_op, _jit_compiled_convolution_op, _jit_compiled_convolution_op, _jit_compiled_convolution_op, _jit_compiled_convolution_op while saving (showing 5 of 473). These functions will not be directly callable after loading.\n"
          ]
        },
        {
          "output_type": "stream",
          "name": "stdout",
          "text": [
            "\b\b\b\b\b\b\b\b\b\b\b\b\b\b\b\b\b\b\b\b\b\b\b\b\b\b\b\b\b\b\b\b\b\b\b\b\b\b\b\b\b\b\b\b\b\b\b\b\b\b\b\b\b\b\b\b\b\b\b\b\b\b\b\b\b\b\b\b\b\b\b\b\b\b\b\b\b\b\b\b\b\b\r40/40 [==============================] - 108s 3s/step - loss: 0.4582 - accuracy: 0.7764 - val_loss: 0.4249 - val_accuracy: 0.7975 - lr: 1.0000e-04\n",
            "Epoch 34/100\n",
            "40/40 [==============================] - ETA: 0s - loss: 0.4588 - accuracy: 0.7796\n",
            "Epoch 34: val_loss improved from 0.42487 to 0.42455, saving model to /models\n"
          ]
        },
        {
          "output_type": "stream",
          "name": "stderr",
          "text": [
            "WARNING:absl:Found untraced functions such as _jit_compiled_convolution_op, _jit_compiled_convolution_op, _jit_compiled_convolution_op, _jit_compiled_convolution_op, _jit_compiled_convolution_op while saving (showing 5 of 473). These functions will not be directly callable after loading.\n"
          ]
        },
        {
          "output_type": "stream",
          "name": "stdout",
          "text": [
            "\b\b\b\b\b\b\b\b\b\b\b\b\b\b\b\b\b\b\b\b\b\b\b\b\b\b\b\b\b\b\b\b\b\b\b\b\b\b\b\b\b\b\b\b\b\b\b\b\b\b\b\b\b\b\b\b\b\b\b\b\b\b\b\b\b\b\b\b\b\b\b\b\b\b\b\b\b\b\b\b\b\b\r40/40 [==============================] - 62s 2s/step - loss: 0.4588 - accuracy: 0.7796 - val_loss: 0.4245 - val_accuracy: 0.7975 - lr: 1.0000e-04\n",
            "Epoch 35/100\n",
            "40/40 [==============================] - ETA: 0s - loss: 0.4594 - accuracy: 0.7923\n",
            "Epoch 35: val_loss did not improve from 0.42455\n",
            "40/40 [==============================] - 57s 1s/step - loss: 0.4594 - accuracy: 0.7923 - val_loss: 0.4288 - val_accuracy: 0.7848 - lr: 1.0000e-04\n",
            "Epoch 36/100\n",
            "40/40 [==============================] - ETA: 0s - loss: 0.4562 - accuracy: 0.7827\n",
            "Epoch 36: val_loss improved from 0.42455 to 0.42443, saving model to /models\n"
          ]
        },
        {
          "output_type": "stream",
          "name": "stderr",
          "text": [
            "WARNING:absl:Found untraced functions such as _jit_compiled_convolution_op, _jit_compiled_convolution_op, _jit_compiled_convolution_op, _jit_compiled_convolution_op, _jit_compiled_convolution_op while saving (showing 5 of 473). These functions will not be directly callable after loading.\n"
          ]
        },
        {
          "output_type": "stream",
          "name": "stdout",
          "text": [
            "\b\b\b\b\b\b\b\b\b\b\b\b\b\b\b\b\b\b\b\b\b\b\b\b\b\b\b\b\b\b\b\b\b\b\b\b\b\b\b\b\b\b\b\b\b\b\b\b\b\b\b\b\b\b\b\b\b\b\b\b\b\b\b\b\b\b\b\b\b\b\b\b\b\b\b\b\b\b\b\b\b\b\r40/40 [==============================] - 63s 2s/step - loss: 0.4562 - accuracy: 0.7827 - val_loss: 0.4244 - val_accuracy: 0.8354 - lr: 1.0000e-04\n",
            "Epoch 37/100\n",
            "40/40 [==============================] - ETA: 0s - loss: 0.4567 - accuracy: 0.7827\n",
            "Epoch 37: val_loss improved from 0.42443 to 0.42060, saving model to /models\n"
          ]
        },
        {
          "output_type": "stream",
          "name": "stderr",
          "text": [
            "WARNING:absl:Found untraced functions such as _jit_compiled_convolution_op, _jit_compiled_convolution_op, _jit_compiled_convolution_op, _jit_compiled_convolution_op, _jit_compiled_convolution_op while saving (showing 5 of 473). These functions will not be directly callable after loading.\n"
          ]
        },
        {
          "output_type": "stream",
          "name": "stdout",
          "text": [
            "\b\b\b\b\b\b\b\b\b\b\b\b\b\b\b\b\b\b\b\b\b\b\b\b\b\b\b\b\b\b\b\b\b\b\b\b\b\b\b\b\b\b\b\b\b\b\b\b\b\b\b\b\b\b\b\b\b\b\b\b\b\b\b\b\b\b\b\b\b\b\b\b\b\b\b\b\b\b\b\b\b\b\r40/40 [==============================] - 107s 3s/step - loss: 0.4567 - accuracy: 0.7827 - val_loss: 0.4206 - val_accuracy: 0.7975 - lr: 1.0000e-04\n",
            "Epoch 38/100\n",
            "40/40 [==============================] - ETA: 0s - loss: 0.4563 - accuracy: 0.7764\n",
            "Epoch 38: val_loss improved from 0.42060 to 0.41957, saving model to /models\n"
          ]
        },
        {
          "output_type": "stream",
          "name": "stderr",
          "text": [
            "WARNING:absl:Found untraced functions such as _jit_compiled_convolution_op, _jit_compiled_convolution_op, _jit_compiled_convolution_op, _jit_compiled_convolution_op, _jit_compiled_convolution_op while saving (showing 5 of 473). These functions will not be directly callable after loading.\n"
          ]
        },
        {
          "output_type": "stream",
          "name": "stdout",
          "text": [
            "\b\b\b\b\b\b\b\b\b\b\b\b\b\b\b\b\b\b\b\b\b\b\b\b\b\b\b\b\b\b\b\b\b\b\b\b\b\b\b\b\b\b\b\b\b\b\b\b\b\b\b\b\b\b\b\b\b\b\b\b\b\b\b\b\b\b\b\b\b\b\b\b\b\b\b\b\b\b\b\b\b\b\r40/40 [==============================] - 62s 2s/step - loss: 0.4563 - accuracy: 0.7764 - val_loss: 0.4196 - val_accuracy: 0.7975 - lr: 1.0000e-04\n",
            "Epoch 39/100\n",
            "40/40 [==============================] - ETA: 0s - loss: 0.4555 - accuracy: 0.7827\n",
            "Epoch 39: val_loss did not improve from 0.41957\n",
            "40/40 [==============================] - 57s 1s/step - loss: 0.4555 - accuracy: 0.7827 - val_loss: 0.4273 - val_accuracy: 0.8354 - lr: 1.0000e-04\n",
            "Epoch 40/100\n",
            "40/40 [==============================] - ETA: 0s - loss: 0.4573 - accuracy: 0.7859\n",
            "Epoch 40: val_loss improved from 0.41957 to 0.41763, saving model to /models\n"
          ]
        },
        {
          "output_type": "stream",
          "name": "stderr",
          "text": [
            "WARNING:absl:Found untraced functions such as _jit_compiled_convolution_op, _jit_compiled_convolution_op, _jit_compiled_convolution_op, _jit_compiled_convolution_op, _jit_compiled_convolution_op while saving (showing 5 of 473). These functions will not be directly callable after loading.\n"
          ]
        },
        {
          "output_type": "stream",
          "name": "stdout",
          "text": [
            "\b\b\b\b\b\b\b\b\b\b\b\b\b\b\b\b\b\b\b\b\b\b\b\b\b\b\b\b\b\b\b\b\b\b\b\b\b\b\b\b\b\b\b\b\b\b\b\b\b\b\b\b\b\b\b\b\b\b\b\b\b\b\b\b\b\b\b\b\b\b\b\b\b\b\b\b\b\b\b\b\b\b\r40/40 [==============================] - 62s 2s/step - loss: 0.4573 - accuracy: 0.7859 - val_loss: 0.4176 - val_accuracy: 0.7975 - lr: 1.0000e-04\n",
            "Epoch 41/100\n",
            "40/40 [==============================] - ETA: 0s - loss: 0.4607 - accuracy: 0.7859\n",
            "Epoch 41: val_loss improved from 0.41763 to 0.41700, saving model to /models\n"
          ]
        },
        {
          "output_type": "stream",
          "name": "stderr",
          "text": [
            "WARNING:absl:Found untraced functions such as _jit_compiled_convolution_op, _jit_compiled_convolution_op, _jit_compiled_convolution_op, _jit_compiled_convolution_op, _jit_compiled_convolution_op while saving (showing 5 of 473). These functions will not be directly callable after loading.\n"
          ]
        },
        {
          "output_type": "stream",
          "name": "stdout",
          "text": [
            "\b\b\b\b\b\b\b\b\b\b\b\b\b\b\b\b\b\b\b\b\b\b\b\b\b\b\b\b\b\b\b\b\b\b\b\b\b\b\b\b\b\b\b\b\b\b\b\b\b\b\b\b\b\b\b\b\b\b\b\b\b\b\b\b\b\b\b\b\b\b\b\b\b\b\b\b\b\b\b\b\b\b\r40/40 [==============================] - 108s 3s/step - loss: 0.4607 - accuracy: 0.7859 - val_loss: 0.4170 - val_accuracy: 0.7975 - lr: 1.0000e-04\n",
            "Epoch 42/100\n",
            "40/40 [==============================] - ETA: 0s - loss: 0.4538 - accuracy: 0.7796\n",
            "Epoch 42: val_loss improved from 0.41700 to 0.41611, saving model to /models\n"
          ]
        },
        {
          "output_type": "stream",
          "name": "stderr",
          "text": [
            "WARNING:absl:Found untraced functions such as _jit_compiled_convolution_op, _jit_compiled_convolution_op, _jit_compiled_convolution_op, _jit_compiled_convolution_op, _jit_compiled_convolution_op while saving (showing 5 of 473). These functions will not be directly callable after loading.\n"
          ]
        },
        {
          "output_type": "stream",
          "name": "stdout",
          "text": [
            "\b\b\b\b\b\b\b\b\b\b\b\b\b\b\b\b\b\b\b\b\b\b\b\b\b\b\b\b\b\b\b\b\b\b\b\b\b\b\b\b\b\b\b\b\b\b\b\b\b\b\b\b\b\b\b\b\b\b\b\b\b\b\b\b\b\b\b\b\b\b\b\b\b\b\b\b\b\b\b\b\b\b\r40/40 [==============================] - 62s 2s/step - loss: 0.4538 - accuracy: 0.7796 - val_loss: 0.4161 - val_accuracy: 0.7975 - lr: 1.0000e-04\n",
            "Epoch 43/100\n",
            "40/40 [==============================] - ETA: 0s - loss: 0.4560 - accuracy: 0.7796\n",
            "Epoch 43: val_loss improved from 0.41611 to 0.41472, saving model to /models\n"
          ]
        },
        {
          "output_type": "stream",
          "name": "stderr",
          "text": [
            "WARNING:absl:Found untraced functions such as _jit_compiled_convolution_op, _jit_compiled_convolution_op, _jit_compiled_convolution_op, _jit_compiled_convolution_op, _jit_compiled_convolution_op while saving (showing 5 of 473). These functions will not be directly callable after loading.\n"
          ]
        },
        {
          "output_type": "stream",
          "name": "stdout",
          "text": [
            "\b\b\b\b\b\b\b\b\b\b\b\b\b\b\b\b\b\b\b\b\b\b\b\b\b\b\b\b\b\b\b\b\b\b\b\b\b\b\b\b\b\b\b\b\b\b\b\b\b\b\b\b\b\b\b\b\b\b\b\b\b\b\b\b\b\b\b\b\b\b\b\b\b\b\b\b\b\b\b\b\b\b\r40/40 [==============================] - 108s 3s/step - loss: 0.4560 - accuracy: 0.7796 - val_loss: 0.4147 - val_accuracy: 0.7975 - lr: 1.0000e-04\n",
            "Epoch 44/100\n",
            "40/40 [==============================] - ETA: 0s - loss: 0.4521 - accuracy: 0.7891\n",
            "Epoch 44: val_loss did not improve from 0.41472\n",
            "40/40 [==============================] - 10s 239ms/step - loss: 0.4521 - accuracy: 0.7891 - val_loss: 0.4172 - val_accuracy: 0.8354 - lr: 1.0000e-04\n",
            "Epoch 45/100\n",
            "40/40 [==============================] - ETA: 0s - loss: 0.4512 - accuracy: 0.7827\n",
            "Epoch 45: val_loss improved from 0.41472 to 0.41316, saving model to /models\n"
          ]
        },
        {
          "output_type": "stream",
          "name": "stderr",
          "text": [
            "WARNING:absl:Found untraced functions such as _jit_compiled_convolution_op, _jit_compiled_convolution_op, _jit_compiled_convolution_op, _jit_compiled_convolution_op, _jit_compiled_convolution_op while saving (showing 5 of 473). These functions will not be directly callable after loading.\n"
          ]
        },
        {
          "output_type": "stream",
          "name": "stdout",
          "text": [
            "\b\b\b\b\b\b\b\b\b\b\b\b\b\b\b\b\b\b\b\b\b\b\b\b\b\b\b\b\b\b\b\b\b\b\b\b\b\b\b\b\b\b\b\b\b\b\b\b\b\b\b\b\b\b\b\b\b\b\b\b\b\b\b\b\b\b\b\b\b\b\b\b\b\b\b\b\b\b\b\b\b\b\r40/40 [==============================] - 110s 3s/step - loss: 0.4512 - accuracy: 0.7827 - val_loss: 0.4132 - val_accuracy: 0.8228 - lr: 1.0000e-04\n",
            "Epoch 46/100\n",
            "40/40 [==============================] - ETA: 0s - loss: 0.4486 - accuracy: 0.7764\n",
            "Epoch 46: val_loss improved from 0.41316 to 0.41251, saving model to /models\n"
          ]
        },
        {
          "output_type": "stream",
          "name": "stderr",
          "text": [
            "WARNING:absl:Found untraced functions such as _jit_compiled_convolution_op, _jit_compiled_convolution_op, _jit_compiled_convolution_op, _jit_compiled_convolution_op, _jit_compiled_convolution_op while saving (showing 5 of 473). These functions will not be directly callable after loading.\n"
          ]
        },
        {
          "output_type": "stream",
          "name": "stdout",
          "text": [
            "\b\b\b\b\b\b\b\b\b\b\b\b\b\b\b\b\b\b\b\b\b\b\b\b\b\b\b\b\b\b\b\b\b\b\b\b\b\b\b\b\b\b\b\b\b\b\b\b\b\b\b\b\b\b\b\b\b\b\b\b\b\b\b\b\b\b\b\b\b\b\b\b\b\b\b\b\b\b\b\b\b\b\r40/40 [==============================] - 64s 2s/step - loss: 0.4486 - accuracy: 0.7764 - val_loss: 0.4125 - val_accuracy: 0.8228 - lr: 1.0000e-04\n",
            "Epoch 47/100\n",
            "40/40 [==============================] - ETA: 0s - loss: 0.4469 - accuracy: 0.7827\n",
            "Epoch 47: val_loss improved from 0.41251 to 0.41122, saving model to /models\n"
          ]
        },
        {
          "output_type": "stream",
          "name": "stderr",
          "text": [
            "WARNING:absl:Found untraced functions such as _jit_compiled_convolution_op, _jit_compiled_convolution_op, _jit_compiled_convolution_op, _jit_compiled_convolution_op, _jit_compiled_convolution_op while saving (showing 5 of 473). These functions will not be directly callable after loading.\n"
          ]
        },
        {
          "output_type": "stream",
          "name": "stdout",
          "text": [
            "\b\b\b\b\b\b\b\b\b\b\b\b\b\b\b\b\b\b\b\b\b\b\b\b\b\b\b\b\b\b\b\b\b\b\b\b\b\b\b\b\b\b\b\b\b\b\b\b\b\b\b\b\b\b\b\b\b\b\b\b\b\b\b\b\b\b\b\b\b\b\b\b\b\b\b\b\b\b\b\b\b\b\r40/40 [==============================] - 107s 3s/step - loss: 0.4469 - accuracy: 0.7827 - val_loss: 0.4112 - val_accuracy: 0.7975 - lr: 1.0000e-04\n",
            "Epoch 48/100\n",
            "40/40 [==============================] - ETA: 0s - loss: 0.4464 - accuracy: 0.7827\n",
            "Epoch 48: val_loss improved from 0.41122 to 0.41020, saving model to /models\n"
          ]
        },
        {
          "output_type": "stream",
          "name": "stderr",
          "text": [
            "WARNING:absl:Found untraced functions such as _jit_compiled_convolution_op, _jit_compiled_convolution_op, _jit_compiled_convolution_op, _jit_compiled_convolution_op, _jit_compiled_convolution_op while saving (showing 5 of 473). These functions will not be directly callable after loading.\n"
          ]
        },
        {
          "output_type": "stream",
          "name": "stdout",
          "text": [
            "\b\b\b\b\b\b\b\b\b\b\b\b\b\b\b\b\b\b\b\b\b\b\b\b\b\b\b\b\b\b\b\b\b\b\b\b\b\b\b\b\b\b\b\b\b\b\b\b\b\b\b\b\b\b\b\b\b\b\b\b\b\b\b\b\b\b\b\b\b\b\b\b\b\b\b\b\b\b\b\b\b\b\r40/40 [==============================] - 63s 2s/step - loss: 0.4464 - accuracy: 0.7827 - val_loss: 0.4102 - val_accuracy: 0.8101 - lr: 1.0000e-04\n",
            "Epoch 49/100\n",
            "40/40 [==============================] - ETA: 0s - loss: 0.4485 - accuracy: 0.7923\n",
            "Epoch 49: val_loss improved from 0.41020 to 0.40973, saving model to /models\n"
          ]
        },
        {
          "output_type": "stream",
          "name": "stderr",
          "text": [
            "WARNING:absl:Found untraced functions such as _jit_compiled_convolution_op, _jit_compiled_convolution_op, _jit_compiled_convolution_op, _jit_compiled_convolution_op, _jit_compiled_convolution_op while saving (showing 5 of 473). These functions will not be directly callable after loading.\n"
          ]
        },
        {
          "output_type": "stream",
          "name": "stdout",
          "text": [
            "\b\b\b\b\b\b\b\b\b\b\b\b\b\b\b\b\b\b\b\b\b\b\b\b\b\b\b\b\b\b\b\b\b\b\b\b\b\b\b\b\b\b\b\b\b\b\b\b\b\b\b\b\b\b\b\b\b\b\b\b\b\b\b\b\b\b\b\b\b\b\b\b\b\b\b\b\b\b\b\b\b\b\r40/40 [==============================] - 106s 3s/step - loss: 0.4485 - accuracy: 0.7923 - val_loss: 0.4097 - val_accuracy: 0.7975 - lr: 1.0000e-04\n",
            "Epoch 50/100\n",
            "40/40 [==============================] - ETA: 0s - loss: 0.4468 - accuracy: 0.7796\n",
            "Epoch 50: val_loss improved from 0.40973 to 0.40824, saving model to /models\n"
          ]
        },
        {
          "output_type": "stream",
          "name": "stderr",
          "text": [
            "WARNING:absl:Found untraced functions such as _jit_compiled_convolution_op, _jit_compiled_convolution_op, _jit_compiled_convolution_op, _jit_compiled_convolution_op, _jit_compiled_convolution_op while saving (showing 5 of 473). These functions will not be directly callable after loading.\n"
          ]
        },
        {
          "output_type": "stream",
          "name": "stdout",
          "text": [
            "\b\b\b\b\b\b\b\b\b\b\b\b\b\b\b\b\b\b\b\b\b\b\b\b\b\b\b\b\b\b\b\b\b\b\b\b\b\b\b\b\b\b\b\b\b\b\b\b\b\b\b\b\b\b\b\b\b\b\b\b\b\b\b\b\b\b\b\b\b\b\b\b\b\b\b\b\b\b\b\b\b\b\r40/40 [==============================] - 63s 2s/step - loss: 0.4468 - accuracy: 0.7796 - val_loss: 0.4082 - val_accuracy: 0.7975 - lr: 1.0000e-04\n",
            "Epoch 51/100\n",
            "40/40 [==============================] - ETA: 0s - loss: 0.4452 - accuracy: 0.7859\n",
            "Epoch 51: val_loss improved from 0.40824 to 0.40770, saving model to /models\n"
          ]
        },
        {
          "output_type": "stream",
          "name": "stderr",
          "text": [
            "WARNING:absl:Found untraced functions such as _jit_compiled_convolution_op, _jit_compiled_convolution_op, _jit_compiled_convolution_op, _jit_compiled_convolution_op, _jit_compiled_convolution_op while saving (showing 5 of 473). These functions will not be directly callable after loading.\n"
          ]
        },
        {
          "output_type": "stream",
          "name": "stdout",
          "text": [
            "\b\b\b\b\b\b\b\b\b\b\b\b\b\b\b\b\b\b\b\b\b\b\b\b\b\b\b\b\b\b\b\b\b\b\b\b\b\b\b\b\b\b\b\b\b\b\b\b\b\b\b\b\b\b\b\b\b\b\b\b\b\b\b\b\b\b\b\b\b\b\b\b\b\b\b\b\b\b\b\b\b\b\r40/40 [==============================] - 107s 3s/step - loss: 0.4452 - accuracy: 0.7859 - val_loss: 0.4077 - val_accuracy: 0.7975 - lr: 1.0000e-04\n",
            "Epoch 52/100\n",
            "40/40 [==============================] - ETA: 0s - loss: 0.4445 - accuracy: 0.7859\n",
            "Epoch 52: val_loss improved from 0.40770 to 0.40653, saving model to /models\n"
          ]
        },
        {
          "output_type": "stream",
          "name": "stderr",
          "text": [
            "WARNING:absl:Found untraced functions such as _jit_compiled_convolution_op, _jit_compiled_convolution_op, _jit_compiled_convolution_op, _jit_compiled_convolution_op, _jit_compiled_convolution_op while saving (showing 5 of 473). These functions will not be directly callable after loading.\n"
          ]
        },
        {
          "output_type": "stream",
          "name": "stdout",
          "text": [
            "\b\b\b\b\b\b\b\b\b\b\b\b\b\b\b\b\b\b\b\b\b\b\b\b\b\b\b\b\b\b\b\b\b\b\b\b\b\b\b\b\b\b\b\b\b\b\b\b\b\b\b\b\b\b\b\b\b\b\b\b\b\b\b\b\b\b\b\b\b\b\b\b\b\b\b\b\b\b\b\b\b\b\r40/40 [==============================] - 63s 2s/step - loss: 0.4445 - accuracy: 0.7859 - val_loss: 0.4065 - val_accuracy: 0.7975 - lr: 1.0000e-04\n",
            "Epoch 53/100\n",
            "40/40 [==============================] - ETA: 0s - loss: 0.4452 - accuracy: 0.7987\n",
            "Epoch 53: val_loss improved from 0.40653 to 0.40611, saving model to /models\n"
          ]
        },
        {
          "output_type": "stream",
          "name": "stderr",
          "text": [
            "WARNING:absl:Found untraced functions such as _jit_compiled_convolution_op, _jit_compiled_convolution_op, _jit_compiled_convolution_op, _jit_compiled_convolution_op, _jit_compiled_convolution_op while saving (showing 5 of 473). These functions will not be directly callable after loading.\n"
          ]
        },
        {
          "output_type": "stream",
          "name": "stdout",
          "text": [
            "\b\b\b\b\b\b\b\b\b\b\b\b\b\b\b\b\b\b\b\b\b\b\b\b\b\b\b\b\b\b\b\b\b\b\b\b\b\b\b\b\b\b\b\b\b\b\b\b\b\b\b\b\b\b\b\b\b\b\b\b\b\b\b\b\b\b\b\b\b\b\b\b\b\b\b\b\b\b\b\b\b\b\r40/40 [==============================] - 107s 3s/step - loss: 0.4452 - accuracy: 0.7987 - val_loss: 0.4061 - val_accuracy: 0.7975 - lr: 1.0000e-04\n",
            "Epoch 54/100\n",
            "40/40 [==============================] - ETA: 0s - loss: 0.4443 - accuracy: 0.7891\n",
            "Epoch 54: val_loss did not improve from 0.40611\n",
            "40/40 [==============================] - 9s 229ms/step - loss: 0.4443 - accuracy: 0.7891 - val_loss: 0.4083 - val_accuracy: 0.8354 - lr: 1.0000e-04\n",
            "Epoch 55/100\n",
            "40/40 [==============================] - ETA: 0s - loss: 0.4439 - accuracy: 0.7796\n",
            "Epoch 55: val_loss did not improve from 0.40611\n",
            "\n",
            "Epoch 55: ReduceLROnPlateau reducing learning rate to 1.0000000474974514e-05.\n",
            "40/40 [==============================] - 57s 1s/step - loss: 0.4439 - accuracy: 0.7796 - val_loss: 0.4075 - val_accuracy: 0.8354 - lr: 1.0000e-04\n",
            "Epoch 56/100\n",
            "40/40 [==============================] - ETA: 0s - loss: 0.4411 - accuracy: 0.7955\n",
            "Epoch 56: val_loss improved from 0.40611 to 0.40611, saving model to /models\n"
          ]
        },
        {
          "output_type": "stream",
          "name": "stderr",
          "text": [
            "WARNING:absl:Found untraced functions such as _jit_compiled_convolution_op, _jit_compiled_convolution_op, _jit_compiled_convolution_op, _jit_compiled_convolution_op, _jit_compiled_convolution_op while saving (showing 5 of 473). These functions will not be directly callable after loading.\n"
          ]
        },
        {
          "output_type": "stream",
          "name": "stdout",
          "text": [
            "\b\b\b\b\b\b\b\b\b\b\b\b\b\b\b\b\b\b\b\b\b\b\b\b\b\b\b\b\b\b\b\b\b\b\b\b\b\b\b\b\b\b\b\b\b\b\b\b\b\b\b\b\b\b\b\b\b\b\b\b\b\b\b\b\b\b\b\b\b\b\b\b\b\b\b\b\b\b\b\b\b\b\r40/40 [==============================] - 63s 2s/step - loss: 0.4411 - accuracy: 0.7955 - val_loss: 0.4061 - val_accuracy: 0.8354 - lr: 1.0000e-05\n",
            "Epoch 57/100\n",
            "40/40 [==============================] - ETA: 0s - loss: 0.4405 - accuracy: 0.7891\n",
            "Epoch 57: val_loss improved from 0.40611 to 0.40455, saving model to /models\n"
          ]
        },
        {
          "output_type": "stream",
          "name": "stderr",
          "text": [
            "WARNING:absl:Found untraced functions such as _jit_compiled_convolution_op, _jit_compiled_convolution_op, _jit_compiled_convolution_op, _jit_compiled_convolution_op, _jit_compiled_convolution_op while saving (showing 5 of 473). These functions will not be directly callable after loading.\n"
          ]
        },
        {
          "output_type": "stream",
          "name": "stdout",
          "text": [
            "\b\b\b\b\b\b\b\b\b\b\b\b\b\b\b\b\b\b\b\b\b\b\b\b\b\b\b\b\b\b\b\b\b\b\b\b\b\b\b\b\b\b\b\b\b\b\b\b\b\b\b\b\b\b\b\b\b\b\b\b\b\b\b\b\b\b\b\b\b\b\b\b\b\b\b\b\b\b\b\b\b\b\r40/40 [==============================] - 108s 3s/step - loss: 0.4405 - accuracy: 0.7891 - val_loss: 0.4045 - val_accuracy: 0.8354 - lr: 1.0000e-05\n",
            "Epoch 58/100\n",
            "40/40 [==============================] - ETA: 0s - loss: 0.4395 - accuracy: 0.7891\n",
            "Epoch 58: val_loss improved from 0.40455 to 0.40424, saving model to /models\n"
          ]
        },
        {
          "output_type": "stream",
          "name": "stderr",
          "text": [
            "WARNING:absl:Found untraced functions such as _jit_compiled_convolution_op, _jit_compiled_convolution_op, _jit_compiled_convolution_op, _jit_compiled_convolution_op, _jit_compiled_convolution_op while saving (showing 5 of 473). These functions will not be directly callable after loading.\n"
          ]
        },
        {
          "output_type": "stream",
          "name": "stdout",
          "text": [
            "\b\b\b\b\b\b\b\b\b\b\b\b\b\b\b\b\b\b\b\b\b\b\b\b\b\b\b\b\b\b\b\b\b\b\b\b\b\b\b\b\b\b\b\b\b\b\b\b\b\b\b\b\b\b\b\b\b\b\b\b\b\b\b\b\b\b\b\b\b\b\b\b\b\b\b\b\b\b\b\b\b\b\r40/40 [==============================] - 62s 2s/step - loss: 0.4395 - accuracy: 0.7891 - val_loss: 0.4042 - val_accuracy: 0.8354 - lr: 1.0000e-05\n",
            "Epoch 59/100\n",
            "40/40 [==============================] - ETA: 0s - loss: 0.4393 - accuracy: 0.7891\n",
            "Epoch 59: val_loss improved from 0.40424 to 0.40388, saving model to /models\n"
          ]
        },
        {
          "output_type": "stream",
          "name": "stderr",
          "text": [
            "WARNING:absl:Found untraced functions such as _jit_compiled_convolution_op, _jit_compiled_convolution_op, _jit_compiled_convolution_op, _jit_compiled_convolution_op, _jit_compiled_convolution_op while saving (showing 5 of 473). These functions will not be directly callable after loading.\n"
          ]
        },
        {
          "output_type": "stream",
          "name": "stdout",
          "text": [
            "\b\b\b\b\b\b\b\b\b\b\b\b\b\b\b\b\b\b\b\b\b\b\b\b\b\b\b\b\b\b\b\b\b\b\b\b\b\b\b\b\b\b\b\b\b\b\b\b\b\b\b\b\b\b\b\b\b\b\b\b\b\b\b\b\b\b\b\b\b\b\b\b\b\b\b\b\b\b\b\b\b\b\r40/40 [==============================] - 108s 3s/step - loss: 0.4393 - accuracy: 0.7891 - val_loss: 0.4039 - val_accuracy: 0.8354 - lr: 1.0000e-05\n",
            "Epoch 60/100\n",
            "40/40 [==============================] - ETA: 0s - loss: 0.4393 - accuracy: 0.7891\n",
            "Epoch 60: val_loss did not improve from 0.40388\n",
            "40/40 [==============================] - 10s 238ms/step - loss: 0.4393 - accuracy: 0.7891 - val_loss: 0.4042 - val_accuracy: 0.8354 - lr: 1.0000e-05\n",
            "Epoch 61/100\n",
            "40/40 [==============================] - ETA: 0s - loss: 0.4393 - accuracy: 0.7891\n",
            "Epoch 61: val_loss improved from 0.40388 to 0.40382, saving model to /models\n"
          ]
        },
        {
          "output_type": "stream",
          "name": "stderr",
          "text": [
            "WARNING:absl:Found untraced functions such as _jit_compiled_convolution_op, _jit_compiled_convolution_op, _jit_compiled_convolution_op, _jit_compiled_convolution_op, _jit_compiled_convolution_op while saving (showing 5 of 473). These functions will not be directly callable after loading.\n"
          ]
        },
        {
          "output_type": "stream",
          "name": "stdout",
          "text": [
            "\n",
            "Epoch 61: ReduceLROnPlateau reducing learning rate to 1.0000000656873453e-06.\n",
            "40/40 [==============================] - 110s 3s/step - loss: 0.4393 - accuracy: 0.7891 - val_loss: 0.4038 - val_accuracy: 0.8354 - lr: 1.0000e-05\n",
            "Epoch 62/100\n",
            "40/40 [==============================] - ETA: 0s - loss: 0.4391 - accuracy: 0.7891\n",
            "Epoch 62: val_loss improved from 0.40382 to 0.40380, saving model to /models\n"
          ]
        },
        {
          "output_type": "stream",
          "name": "stderr",
          "text": [
            "WARNING:absl:Found untraced functions such as _jit_compiled_convolution_op, _jit_compiled_convolution_op, _jit_compiled_convolution_op, _jit_compiled_convolution_op, _jit_compiled_convolution_op while saving (showing 5 of 473). These functions will not be directly callable after loading.\n"
          ]
        },
        {
          "output_type": "stream",
          "name": "stdout",
          "text": [
            "\b\b\b\b\b\b\b\b\b\b\b\b\b\b\b\b\b\b\b\b\b\b\b\b\b\b\b\b\b\b\b\b\b\b\b\b\b\b\b\b\b\b\b\b\b\b\b\b\b\b\b\b\b\b\b\b\b\b\b\b\b\b\b\b\b\b\b\b\b\b\b\b\b\b\b\b\b\b\b\b\b\b\r40/40 [==============================] - 63s 2s/step - loss: 0.4391 - accuracy: 0.7891 - val_loss: 0.4038 - val_accuracy: 0.8354 - lr: 1.0000e-06\n",
            "Epoch 63/100\n",
            "40/40 [==============================] - ETA: 0s - loss: 0.4391 - accuracy: 0.7891\n",
            "Epoch 63: val_loss improved from 0.40380 to 0.40379, saving model to /models\n"
          ]
        },
        {
          "output_type": "stream",
          "name": "stderr",
          "text": [
            "WARNING:absl:Found untraced functions such as _jit_compiled_convolution_op, _jit_compiled_convolution_op, _jit_compiled_convolution_op, _jit_compiled_convolution_op, _jit_compiled_convolution_op while saving (showing 5 of 473). These functions will not be directly callable after loading.\n"
          ]
        },
        {
          "output_type": "stream",
          "name": "stdout",
          "text": [
            "\n",
            "Epoch 63: ReduceLROnPlateau reducing learning rate to 1.0000001111620805e-07.\n",
            "40/40 [==============================] - 107s 3s/step - loss: 0.4391 - accuracy: 0.7891 - val_loss: 0.4038 - val_accuracy: 0.8354 - lr: 1.0000e-06\n",
            "Epoch 64/100\n",
            "40/40 [==============================] - ETA: 0s - loss: 0.4391 - accuracy: 0.7891\n",
            "Epoch 64: val_loss improved from 0.40379 to 0.40378, saving model to /models\n"
          ]
        },
        {
          "output_type": "stream",
          "name": "stderr",
          "text": [
            "WARNING:absl:Found untraced functions such as _jit_compiled_convolution_op, _jit_compiled_convolution_op, _jit_compiled_convolution_op, _jit_compiled_convolution_op, _jit_compiled_convolution_op while saving (showing 5 of 473). These functions will not be directly callable after loading.\n"
          ]
        },
        {
          "output_type": "stream",
          "name": "stdout",
          "text": [
            "\b\b\b\b\b\b\b\b\b\b\b\b\b\b\b\b\b\b\b\b\b\b\b\b\b\b\b\b\b\b\b\b\b\b\b\b\b\b\b\b\b\b\b\b\b\b\b\b\b\b\b\b\b\b\b\b\b\b\b\b\b\b\b\b\b\b\b\b\b\b\b\b\b\b\b\b\b\b\b\b\b\b\r40/40 [==============================] - 63s 2s/step - loss: 0.4391 - accuracy: 0.7891 - val_loss: 0.4038 - val_accuracy: 0.8354 - lr: 1.0000e-07\n",
            "Epoch 65/100\n",
            "40/40 [==============================] - ETA: 0s - loss: 0.4391 - accuracy: 0.7891\n",
            "Epoch 65: val_loss improved from 0.40378 to 0.40378, saving model to /models\n"
          ]
        },
        {
          "output_type": "stream",
          "name": "stderr",
          "text": [
            "WARNING:absl:Found untraced functions such as _jit_compiled_convolution_op, _jit_compiled_convolution_op, _jit_compiled_convolution_op, _jit_compiled_convolution_op, _jit_compiled_convolution_op while saving (showing 5 of 473). These functions will not be directly callable after loading.\n"
          ]
        },
        {
          "output_type": "stream",
          "name": "stdout",
          "text": [
            "\n",
            "Epoch 65: ReduceLROnPlateau reducing learning rate to 1.000000082740371e-08.\n",
            "40/40 [==============================] - 106s 3s/step - loss: 0.4391 - accuracy: 0.7891 - val_loss: 0.4038 - val_accuracy: 0.8354 - lr: 1.0000e-07\n",
            "Epoch 66/100\n",
            "40/40 [==============================] - ETA: 0s - loss: 0.4391 - accuracy: 0.7891\n",
            "Epoch 66: val_loss improved from 0.40378 to 0.40378, saving model to /models\n"
          ]
        },
        {
          "output_type": "stream",
          "name": "stderr",
          "text": [
            "WARNING:absl:Found untraced functions such as _jit_compiled_convolution_op, _jit_compiled_convolution_op, _jit_compiled_convolution_op, _jit_compiled_convolution_op, _jit_compiled_convolution_op while saving (showing 5 of 473). These functions will not be directly callable after loading.\n"
          ]
        },
        {
          "output_type": "stream",
          "name": "stdout",
          "text": [
            "\b\b\b\b\b\b\b\b\b\b\b\b\b\b\b\b\b\b\b\b\b\b\b\b\b\b\b\b\b\b\b\b\b\b\b\b\b\b\b\b\b\b\b\b\b\b\b\b\b\b\b\b\b\b\b\b\b\b\b\b\b\b\b\b\b\b\b\b\b\b\b\b\b\b\b\b\b\b\b\b\b\b\r40/40 [==============================] - 63s 2s/step - loss: 0.4391 - accuracy: 0.7891 - val_loss: 0.4038 - val_accuracy: 0.8354 - lr: 1.0000e-08\n",
            "Epoch 67/100\n",
            "40/40 [==============================] - ETA: 0s - loss: 0.4391 - accuracy: 0.7891\n",
            "Epoch 67: val_loss improved from 0.40378 to 0.40378, saving model to /models\n"
          ]
        },
        {
          "output_type": "stream",
          "name": "stderr",
          "text": [
            "WARNING:absl:Found untraced functions such as _jit_compiled_convolution_op, _jit_compiled_convolution_op, _jit_compiled_convolution_op, _jit_compiled_convolution_op, _jit_compiled_convolution_op while saving (showing 5 of 473). These functions will not be directly callable after loading.\n"
          ]
        },
        {
          "output_type": "stream",
          "name": "stdout",
          "text": [
            "\n",
            "Epoch 67: ReduceLROnPlateau reducing learning rate to 1.000000082740371e-09.\n",
            "40/40 [==============================] - 107s 3s/step - loss: 0.4391 - accuracy: 0.7891 - val_loss: 0.4038 - val_accuracy: 0.8354 - lr: 1.0000e-08\n",
            "Epoch 68/100\n",
            "40/40 [==============================] - ETA: 0s - loss: 0.4391 - accuracy: 0.7891\n",
            "Epoch 68: val_loss did not improve from 0.40378\n",
            "40/40 [==============================] - 10s 247ms/step - loss: 0.4391 - accuracy: 0.7891 - val_loss: 0.4038 - val_accuracy: 0.8354 - lr: 1.0000e-09\n",
            "Epoch 69/100\n",
            "40/40 [==============================] - ETA: 0s - loss: 0.4391 - accuracy: 0.7891\n",
            "Epoch 69: val_loss did not improve from 0.40378\n",
            "\n",
            "Epoch 69: ReduceLROnPlateau reducing learning rate to 1.000000082740371e-10.\n",
            "40/40 [==============================] - 57s 1s/step - loss: 0.4391 - accuracy: 0.7891 - val_loss: 0.4038 - val_accuracy: 0.8354 - lr: 1.0000e-09\n",
            "Epoch 70/100\n",
            "40/40 [==============================] - ETA: 0s - loss: 0.4391 - accuracy: 0.7891\n",
            "Epoch 70: val_loss improved from 0.40378 to 0.40378, saving model to /models\n"
          ]
        },
        {
          "output_type": "stream",
          "name": "stderr",
          "text": [
            "WARNING:absl:Found untraced functions such as _jit_compiled_convolution_op, _jit_compiled_convolution_op, _jit_compiled_convolution_op, _jit_compiled_convolution_op, _jit_compiled_convolution_op while saving (showing 5 of 473). These functions will not be directly callable after loading.\n"
          ]
        },
        {
          "output_type": "stream",
          "name": "stdout",
          "text": [
            "\b\b\b\b\b\b\b\b\b\b\b\b\b\b\b\b\b\b\b\b\b\b\b\b\b\b\b\b\b\b\b\b\b\b\b\b\b\b\b\b\b\b\b\b\b\b\b\b\b\b\b\b\b\b\b\b\b\b\b\b\b\b\b\b\b\b\b\b\b\b\b\b\b\b\b\b\b\b\b\b\b\b\r40/40 [==============================] - 64s 2s/step - loss: 0.4391 - accuracy: 0.7891 - val_loss: 0.4038 - val_accuracy: 0.8354 - lr: 1.0000e-10\n",
            "Epoch 71/100\n",
            "40/40 [==============================] - ETA: 0s - loss: 0.4391 - accuracy: 0.7891\n",
            "Epoch 71: val_loss did not improve from 0.40378\n",
            "\n",
            "Epoch 71: ReduceLROnPlateau reducing learning rate to 1.000000082740371e-11.\n",
            "40/40 [==============================] - 58s 1s/step - loss: 0.4391 - accuracy: 0.7891 - val_loss: 0.4038 - val_accuracy: 0.8354 - lr: 1.0000e-10\n",
            "Epoch 72/100\n",
            "40/40 [==============================] - ETA: 0s - loss: 0.4390 - accuracy: 0.7891\n",
            "Epoch 72: val_loss did not improve from 0.40378\n",
            "40/40 [==============================] - 9s 231ms/step - loss: 0.4390 - accuracy: 0.7891 - val_loss: 0.4038 - val_accuracy: 0.8354 - lr: 1.0000e-11\n",
            "Epoch 73/100\n",
            "40/40 [==============================] - ETA: 0s - loss: 0.4391 - accuracy: 0.7891\n",
            "Epoch 73: val_loss did not improve from 0.40378\n",
            "\n",
            "Epoch 73: ReduceLROnPlateau reducing learning rate to 1.000000082740371e-12.\n",
            "40/40 [==============================] - 56s 1s/step - loss: 0.4391 - accuracy: 0.7891 - val_loss: 0.4038 - val_accuracy: 0.8354 - lr: 1.0000e-11\n",
            "Epoch 74/100\n",
            "40/40 [==============================] - ETA: 0s - loss: 0.4391 - accuracy: 0.7891\n",
            "Epoch 74: val_loss did not improve from 0.40378\n",
            "40/40 [==============================] - 10s 241ms/step - loss: 0.4391 - accuracy: 0.7891 - val_loss: 0.4038 - val_accuracy: 0.8354 - lr: 1.0000e-12\n",
            "Epoch 75/100\n",
            "40/40 [==============================] - ETA: 0s - loss: 0.4391 - accuracy: 0.7891\n",
            "Epoch 75: val_loss did not improve from 0.40378\n",
            "Restoring model weights from the end of the best epoch: 70.\n",
            "\n",
            "Epoch 75: ReduceLROnPlateau reducing learning rate to 1.0000001044244145e-13.\n"
          ]
        }
      ]
    },
    {
      "cell_type": "code",
      "source": [],
      "metadata": {
        "id": "C0-mxwiIkQsh"
      },
      "execution_count": null,
      "outputs": []
    }
  ]
}