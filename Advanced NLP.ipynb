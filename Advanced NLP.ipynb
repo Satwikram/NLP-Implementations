{
  "nbformat": 4,
  "nbformat_minor": 0,
  "metadata": {
    "colab": {
      "name": "Advanced-NLP.ipynb",
      "provenance": [],
      "toc_visible": true,
      "authorship_tag": "ABX9TyPwqjpuiFsTVQT/nirCyJNN",
      "include_colab_link": true
    },
    "kernelspec": {
      "name": "python3",
      "display_name": "Python 3"
    },
    "language_info": {
      "name": "python"
    },
    "accelerator": "TPU"
  },
  "cells": [
    {
      "cell_type": "markdown",
      "metadata": {
        "id": "view-in-github",
        "colab_type": "text"
      },
      "source": [
        "<a href=\"https://colab.research.google.com/github/Satwikram/NLP-Implementations/blob/main/Advanced%20NLP.ipynb\" target=\"_parent\"><img src=\"https://colab.research.google.com/assets/colab-badge.svg\" alt=\"Open In Colab\"/></a>"
      ]
    },
    {
      "cell_type": "markdown",
      "metadata": {
        "id": "KVhTta8eUkCH"
      },
      "source": [
        "### Author: Satwik Ram K"
      ]
    },
    {
      "cell_type": "markdown",
      "metadata": {
        "id": "5u_Rw-oOUZny"
      },
      "source": [
        "### Regular Expressions"
      ]
    },
    {
      "cell_type": "code",
      "metadata": {
        "id": "8Ki9PpdAUTK1"
      },
      "source": [
        "import re\n",
        "\n",
        "re_test = 'This is a made up string to test 2 different regex methods'\n",
        "re_test_messy = 'This      is a made up     string to test 2    different regex methods'\n",
        "re_test_messy1 = 'This-is-.......................................a-made/up.string 20.98*to>>>>test----2\"\"\"\"\"\"different~regex-methods'"
      ],
      "execution_count": 11,
      "outputs": []
    },
    {
      "cell_type": "markdown",
      "metadata": {
        "id": "FUHowj31UgdW"
      },
      "source": [
        "#### Splitting sentences"
      ]
    },
    {
      "cell_type": "code",
      "metadata": {
        "colab": {
          "base_uri": "https://localhost:8080/"
        },
        "id": "RqiHbDT_UYlx",
        "outputId": "ffd59118-81c9-48de-954f-3da059c04101"
      },
      "source": [
        "re.split(\"\\s\", re_test), re.split(\"\\s+\", re_test_messy) #\"\\s+\" white spaces"
      ],
      "execution_count": 7,
      "outputs": [
        {
          "output_type": "execute_result",
          "data": {
            "text/plain": [
              "(['This',\n",
              "  'is',\n",
              "  'a',\n",
              "  'made',\n",
              "  'up',\n",
              "  'string',\n",
              "  'to',\n",
              "  'test',\n",
              "  '2',\n",
              "  'different',\n",
              "  'regex',\n",
              "  'methods'],\n",
              " ['This',\n",
              "  'is',\n",
              "  'a',\n",
              "  'made',\n",
              "  'up',\n",
              "  'string',\n",
              "  'to',\n",
              "  'test',\n",
              "  '2',\n",
              "  'different',\n",
              "  'regex',\n",
              "  'methods'])"
            ]
          },
          "metadata": {},
          "execution_count": 7
        }
      ]
    },
    {
      "cell_type": "markdown",
      "metadata": {
        "id": "ItMRmrfaXCxx"
      },
      "source": [
        "#### \"\\W+\"One or more non word chars"
      ]
    },
    {
      "cell_type": "code",
      "metadata": {
        "colab": {
          "base_uri": "https://localhost:8080/"
        },
        "id": "qVPz8GfxUwuc",
        "outputId": "998a6761-d403-458e-f412-64fab5e25cd2"
      },
      "source": [
        "re.split(\"\\W+\", re_test_messy1)"
      ],
      "execution_count": 14,
      "outputs": [
        {
          "output_type": "execute_result",
          "data": {
            "text/plain": [
              "['This',\n",
              " 'is',\n",
              " 'a',\n",
              " 'made',\n",
              " 'up',\n",
              " 'string',\n",
              " '20',\n",
              " '98',\n",
              " 'to',\n",
              " 'test',\n",
              " '2',\n",
              " 'different',\n",
              " 'regex',\n",
              " 'methods']"
            ]
          },
          "metadata": {},
          "execution_count": 14
        }
      ]
    },
    {
      "cell_type": "markdown",
      "metadata": {
        "id": "8AezEJWgXJgL"
      },
      "source": [
        "#### \"\\S+\"finds all the chars other than white space"
      ]
    },
    {
      "cell_type": "code",
      "metadata": {
        "colab": {
          "base_uri": "https://localhost:8080/"
        },
        "id": "AGem5uuzVTbV",
        "outputId": "cae0cda6-b486-4f07-f332-3fbf5bcb1b36"
      },
      "source": [
        "re.findall(\"\\S+\", re_test_messy)"
      ],
      "execution_count": 16,
      "outputs": [
        {
          "output_type": "execute_result",
          "data": {
            "text/plain": [
              "['This',\n",
              " 'is',\n",
              " 'a',\n",
              " 'made',\n",
              " 'up',\n",
              " 'string',\n",
              " 'to',\n",
              " 'test',\n",
              " '2',\n",
              " 'different',\n",
              " 'regex',\n",
              " 'methods']"
            ]
          },
          "metadata": {},
          "execution_count": 16
        }
      ]
    },
    {
      "cell_type": "markdown",
      "metadata": {
        "id": "SyeUINmXXObg"
      },
      "source": [
        "#### W\\w means words S\\s means spaces."
      ]
    },
    {
      "cell_type": "code",
      "metadata": {
        "colab": {
          "base_uri": "https://localhost:8080/"
        },
        "id": "l2J_KBo2V4pT",
        "outputId": "d2ecad74-f34c-45e8-81ad-dee7604e44c3"
      },
      "source": [
        "re.findall(\"\\w+\", re_test_messy1)"
      ],
      "execution_count": 18,
      "outputs": [
        {
          "output_type": "execute_result",
          "data": {
            "text/plain": [
              "['This',\n",
              " 'is',\n",
              " 'a',\n",
              " 'made',\n",
              " 'up',\n",
              " 'string',\n",
              " '20',\n",
              " '98',\n",
              " 'to',\n",
              " 'test',\n",
              " '2',\n",
              " 'different',\n",
              " 'regex',\n",
              " 'methods']"
            ]
          },
          "metadata": {},
          "execution_count": 18
        }
      ]
    },
    {
      "cell_type": "markdown",
      "metadata": {
        "id": "Jg6U_1fwXqWr"
      },
      "source": [
        "### RE methods"
      ]
    },
    {
      "cell_type": "code",
      "metadata": {
        "id": "eLIXRa4KWfYz"
      },
      "source": [
        "pep8_test = 'I try to follow PEP8 guidelines'\n",
        "pep7_test = 'I try to follow PEP7 guidelines'\n",
        "peep8_test = 'I try to follow PEEP8 guidelines'"
      ],
      "execution_count": 20,
      "outputs": []
    },
    {
      "cell_type": "markdown",
      "metadata": {
        "id": "_UFoJBrvYhHO"
      },
      "source": [
        "#### Findall"
      ]
    },
    {
      "cell_type": "code",
      "metadata": {
        "colab": {
          "base_uri": "https://localhost:8080/"
        },
        "id": "9NdIT4OhXxEm",
        "outputId": "06a410d7-63cf-45c2-c285-20ad514ffb3f"
      },
      "source": [
        "re.findall(\"[a-z]+\", peep8_test)"
      ],
      "execution_count": 26,
      "outputs": [
        {
          "output_type": "execute_result",
          "data": {
            "text/plain": [
              "['try', 'to', 'follow', 'guidelines']"
            ]
          },
          "metadata": {},
          "execution_count": 26
        }
      ]
    },
    {
      "cell_type": "code",
      "metadata": {
        "colab": {
          "base_uri": "https://localhost:8080/"
        },
        "id": "i9gt40HmYN4v",
        "outputId": "7c84c07d-289d-49a7-f274-aa7886fc1a5c"
      },
      "source": [
        "re.findall(\"[A-Z]+\", peep8_test)"
      ],
      "execution_count": 27,
      "outputs": [
        {
          "output_type": "execute_result",
          "data": {
            "text/plain": [
              "['I', 'PEEP']"
            ]
          },
          "metadata": {},
          "execution_count": 27
        }
      ]
    },
    {
      "cell_type": "code",
      "metadata": {
        "colab": {
          "base_uri": "https://localhost:8080/"
        },
        "id": "ZPtcweRNYlkU",
        "outputId": "dd144c38-342b-40cc-ee04-f67b37a6eb2c"
      },
      "source": [
        "re.findall(\"[A-Z]+[0-9]+\", peep8_test)"
      ],
      "execution_count": 29,
      "outputs": [
        {
          "output_type": "execute_result",
          "data": {
            "text/plain": [
              "['PEEP8']"
            ]
          },
          "metadata": {},
          "execution_count": 29
        }
      ]
    },
    {
      "cell_type": "markdown",
      "metadata": {
        "id": "SRrqaUM9Y4em"
      },
      "source": [
        "#### Sub"
      ]
    },
    {
      "cell_type": "code",
      "metadata": {
        "colab": {
          "base_uri": "https://localhost:8080/",
          "height": 35
        },
        "id": "CzI6j9-lYq-A",
        "outputId": "126d6561-7ff6-4027-c379-235a3f05951d"
      },
      "source": [
        "re.sub(\"[A-z]+[0-9]+\", \"###\", peep8_test)"
      ],
      "execution_count": 31,
      "outputs": [
        {
          "output_type": "execute_result",
          "data": {
            "application/vnd.google.colaboratory.intrinsic+json": {
              "type": "string"
            },
            "text/plain": [
              "'I try to follow ### guidelines'"
            ]
          },
          "metadata": {},
          "execution_count": 31
        }
      ]
    },
    {
      "cell_type": "markdown",
      "metadata": {
        "id": "Vns73oypa2Zu"
      },
      "source": [
        "### Remove punctuations"
      ]
    },
    {
      "cell_type": "code",
      "metadata": {
        "colab": {
          "base_uri": "https://localhost:8080/",
          "height": 35
        },
        "id": "J6-1HVcLa4wH",
        "outputId": "794041e8-ef1f-4fcf-a032-3a8794660eda"
      },
      "source": [
        "import string\n",
        "string.punctuation"
      ],
      "execution_count": 33,
      "outputs": [
        {
          "output_type": "execute_result",
          "data": {
            "application/vnd.google.colaboratory.intrinsic+json": {
              "type": "string"
            },
            "text/plain": [
              "'!\"#$%&\\'()*+,-./:;<=>?@[\\\\]^_`{|}~'"
            ]
          },
          "metadata": {},
          "execution_count": 33
        }
      ]
    },
    {
      "cell_type": "code",
      "metadata": {
        "id": "N8cM6vTda-tM"
      },
      "source": [
        "text = \"I ....................... have 20.58 Rs....\""
      ],
      "execution_count": 41,
      "outputs": []
    },
    {
      "cell_type": "code",
      "metadata": {
        "colab": {
          "base_uri": "https://localhost:8080/"
        },
        "id": "jOaRj4NQbFwt",
        "outputId": "92338477-81b8-4ecc-c5cc-4c32441c5bee"
      },
      "source": [
        "[char for char in text if char not in string.punctuation]"
      ],
      "execution_count": 42,
      "outputs": [
        {
          "output_type": "execute_result",
          "data": {
            "text/plain": [
              "['I', ' ', ' ', 'h', 'a', 'v', 'e', ' ', '2', '0', '5', '8', ' ', 'R', 's']"
            ]
          },
          "metadata": {},
          "execution_count": 42
        }
      ]
    },
    {
      "cell_type": "code",
      "metadata": {
        "colab": {
          "base_uri": "https://localhost:8080/",
          "height": 35
        },
        "id": "IHCoPCJXbUPP",
        "outputId": "6fed5e23-ee35-4829-bb33-9c9d0367394a"
      },
      "source": [
        "re.sub(\"[.]+[\\s+]\", \"\", text)"
      ],
      "execution_count": 56,
      "outputs": [
        {
          "output_type": "execute_result",
          "data": {
            "application/vnd.google.colaboratory.intrinsic+json": {
              "type": "string"
            },
            "text/plain": [
              "'I have 20.58 Rs....'"
            ]
          },
          "metadata": {},
          "execution_count": 56
        }
      ]
    },
    {
      "cell_type": "code",
      "metadata": {
        "id": "NexAwBw8cJe_"
      },
      "source": [
        ""
      ],
      "execution_count": null,
      "outputs": []
    }
  ]
}