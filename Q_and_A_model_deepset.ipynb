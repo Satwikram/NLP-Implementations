{
  "nbformat": 4,
  "nbformat_minor": 0,
  "metadata": {
    "colab": {
      "name": "Q and A model deepset.ipynb",
      "provenance": [],
      "authorship_tag": "ABX9TyM101BegLaLsCyXfWtZv0Ra",
      "include_colab_link": true
    },
    "kernelspec": {
      "name": "python3",
      "display_name": "Python 3"
    },
    "language_info": {
      "name": "python"
    },
    "accelerator": "TPU"
  },
  "cells": [
    {
      "cell_type": "markdown",
      "metadata": {
        "id": "view-in-github",
        "colab_type": "text"
      },
      "source": [
        "<a href=\"https://colab.research.google.com/github/Satwikram/NLP-Implementations/blob/main/Q_and_A_model_deepset.ipynb\" target=\"_parent\"><img src=\"https://colab.research.google.com/assets/colab-badge.svg\" alt=\"Open In Colab\"/></a>"
      ]
    },
    {
      "cell_type": "code",
      "metadata": {
        "colab": {
          "base_uri": "https://localhost:8080/"
        },
        "id": "LpqrfP13uTGL",
        "outputId": "cbd03eee-90ae-45de-e005-a5d49f931f51"
      },
      "source": [
        "!pip install tika"
      ],
      "execution_count": 45,
      "outputs": [
        {
          "output_type": "stream",
          "text": [
            "Installing collected packages: tika\n",
            "Successfully installed tika-1.24\n"
          ],
          "name": "stdout"
        }
      ]
    },
    {
      "cell_type": "code",
      "metadata": {
        "id": "BhJrCfVZtclk"
      },
      "source": [
        "import json\n",
        "import os\n",
        "import re\n",
        "import sys\n",
        "from tqdm import tqdm\n",
        "from tika import parser\n",
        "import pandas as pd\n",
        "import uuid\n",
        "import markdown\n",
        "from pathlib import Path\n",
        "from html.parser import HTMLParser"
      ],
      "execution_count": 46,
      "outputs": []
    },
    {
      "cell_type": "code",
      "metadata": {
        "colab": {
          "base_uri": "https://localhost:8080/"
        },
        "id": "Mzna1GRbQKTT",
        "outputId": "8787965e-e5ca-4fb6-c68b-e74bfa7d9126"
      },
      "source": [
        "!pip install transformers==4.8.2"
      ],
      "execution_count": 2,
      "outputs": [
        {
          "output_type": "stream",
          "text": [
            "Installing collected packages: tokenizers, huggingface-hub, sacremoses, transformers\n",
            "Successfully installed huggingface-hub-0.0.12 sacremoses-0.0.45 tokenizers-0.10.3 transformers-4.8.2\n"
          ],
          "name": "stdout"
        }
      ]
    },
    {
      "cell_type": "code",
      "metadata": {
        "id": "QZh559ZsQoij"
      },
      "source": [
        "from transformers import AutoModelForQuestionAnswering, AutoTokenizer, pipeline\n",
        "\n",
        "model_name = \"deepset/roberta-base-squad2\"\n",
        "\n",
        "# a) Get predictions\n",
        "nlp = pipeline('question-answering', model=model_name, tokenizer=model_name)\n",
        "QA_input = {\n",
        "    'question': 'What is the value of a?',\n",
        "    'context': \"['a=10', 'b=20']\"\n",
        "}\n",
        "res = nlp(QA_input)"
      ],
      "execution_count": 53,
      "outputs": []
    },
    {
      "cell_type": "code",
      "metadata": {
        "colab": {
          "base_uri": "https://localhost:8080/"
        },
        "id": "hyTOBBmPQsVL",
        "outputId": "0d3ba518-304b-4ded-a507-5ccd7dd15478"
      },
      "source": [
        "res"
      ],
      "execution_count": 54,
      "outputs": [
        {
          "output_type": "execute_result",
          "data": {
            "text/plain": [
              "{'answer': '10', 'end': 6, 'score': 0.7407091856002808, 'start': 4}"
            ]
          },
          "metadata": {
            "tags": []
          },
          "execution_count": 54
        }
      ]
    },
    {
      "cell_type": "code",
      "metadata": {
        "colab": {
          "base_uri": "https://localhost:8080/"
        },
        "id": "3guC0BX-Rr39",
        "outputId": "a6e30a57-d51c-4eac-8018-e3a8ccc2af16"
      },
      "source": [
        "!wget -P ./docs/ https://s2.q4cdn.com/299287126/files/doc_financials/2020/q3/AMZN-Q3-2020-Earnings-Release.pdf\n",
        "!wget -P ./docs/ https://s2.q4cdn.com/299287126/files/doc_financials/2020/q2/Q2-2020-Amazon-Earnings-Release.pdf\n",
        "!wget -P ./docs/ https://s2.q4cdn.com/299287126/files/doc_financials/2020/Q1/AMZN-Q1-2020-Earnings-Release.pdf\n",
        "!wget -P ./docs/ https://s2.q4cdn.com/299287126/files/doc_news/archive/Amazon-Q4-2019-Earnings-Release.pdf\n",
        "!wget -P ./docs/ https://s2.q4cdn.com/299287126/files/doc_news/archive/Q3-2019-Amazon-Financial-Results.pdf"
      ],
      "execution_count": 5,
      "outputs": [
        {
          "output_type": "stream",
          "text": [
            "--2021-07-01 15:06:31--  https://s2.q4cdn.com/299287126/files/doc_financials/2020/q3/AMZN-Q3-2020-Earnings-Release.pdf\n",
            "Resolving s2.q4cdn.com (s2.q4cdn.com)... 68.70.205.2, 68.70.205.4, 68.70.205.3, ...\n",
            "Connecting to s2.q4cdn.com (s2.q4cdn.com)|68.70.205.2|:443... connected.\n",
            "HTTP request sent, awaiting response... 200 OK\n",
            "Length: 945573 (923K) [application/pdf]\n",
            "Saving to: ‘./docs/AMZN-Q3-2020-Earnings-Release.pdf’\n",
            "\n",
            "AMZN-Q3-2020-Earnin 100%[===================>] 923.41K  --.-KB/s    in 0.06s   \n",
            "\n",
            "2021-07-01 15:06:31 (14.1 MB/s) - ‘./docs/AMZN-Q3-2020-Earnings-Release.pdf’ saved [945573/945573]\n",
            "\n",
            "--2021-07-01 15:06:31--  https://s2.q4cdn.com/299287126/files/doc_financials/2020/q2/Q2-2020-Amazon-Earnings-Release.pdf\n",
            "Resolving s2.q4cdn.com (s2.q4cdn.com)... 68.70.205.2, 68.70.205.4, 68.70.205.3, ...\n",
            "Connecting to s2.q4cdn.com (s2.q4cdn.com)|68.70.205.2|:443... connected.\n",
            "HTTP request sent, awaiting response... 200 OK\n",
            "Length: 366951 (358K) [application/pdf]\n",
            "Saving to: ‘./docs/Q2-2020-Amazon-Earnings-Release.pdf’\n",
            "\n",
            "Q2-2020-Amazon-Earn 100%[===================>] 358.35K  --.-KB/s    in 0.06s   \n",
            "\n",
            "2021-07-01 15:06:32 (6.16 MB/s) - ‘./docs/Q2-2020-Amazon-Earnings-Release.pdf’ saved [366951/366951]\n",
            "\n",
            "--2021-07-01 15:06:32--  https://s2.q4cdn.com/299287126/files/doc_financials/2020/Q1/AMZN-Q1-2020-Earnings-Release.pdf\n",
            "Resolving s2.q4cdn.com (s2.q4cdn.com)... 68.70.205.2, 68.70.205.4, 68.70.205.3, ...\n",
            "Connecting to s2.q4cdn.com (s2.q4cdn.com)|68.70.205.2|:443... connected.\n",
            "HTTP request sent, awaiting response... 200 OK\n",
            "Length: 536732 (524K) [application/pdf]\n",
            "Saving to: ‘./docs/AMZN-Q1-2020-Earnings-Release.pdf’\n",
            "\n",
            "AMZN-Q1-2020-Earnin 100%[===================>] 524.15K  --.-KB/s    in 0.06s   \n",
            "\n",
            "2021-07-01 15:06:32 (9.01 MB/s) - ‘./docs/AMZN-Q1-2020-Earnings-Release.pdf’ saved [536732/536732]\n",
            "\n",
            "--2021-07-01 15:06:32--  https://s2.q4cdn.com/299287126/files/doc_news/archive/Amazon-Q4-2019-Earnings-Release.pdf\n",
            "Resolving s2.q4cdn.com (s2.q4cdn.com)... 68.70.205.2, 68.70.205.4, 68.70.205.3, ...\n",
            "Connecting to s2.q4cdn.com (s2.q4cdn.com)|68.70.205.2|:443... connected.\n",
            "HTTP request sent, awaiting response... 200 OK\n",
            "Length: 637064 (622K) [application/pdf]\n",
            "Saving to: ‘./docs/Amazon-Q4-2019-Earnings-Release.pdf’\n",
            "\n",
            "Amazon-Q4-2019-Earn 100%[===================>] 622.13K  --.-KB/s    in 0.06s   \n",
            "\n",
            "2021-07-01 15:06:32 (10.6 MB/s) - ‘./docs/Amazon-Q4-2019-Earnings-Release.pdf’ saved [637064/637064]\n",
            "\n",
            "--2021-07-01 15:06:32--  https://s2.q4cdn.com/299287126/files/doc_news/archive/Q3-2019-Amazon-Financial-Results.pdf\n",
            "Resolving s2.q4cdn.com (s2.q4cdn.com)... 68.70.205.2, 68.70.205.4, 68.70.205.3, ...\n",
            "Connecting to s2.q4cdn.com (s2.q4cdn.com)|68.70.205.2|:443... connected.\n",
            "HTTP request sent, awaiting response... 200 OK\n",
            "Length: 545031 (532K) [application/pdf]\n",
            "Saving to: ‘./docs/Q3-2019-Amazon-Financial-Results.pdf’\n",
            "\n",
            "Q3-2019-Amazon-Fina 100%[===================>] 532.26K  --.-KB/s    in 0.07s   \n",
            "\n",
            "2021-07-01 15:06:32 (7.73 MB/s) - ‘./docs/Q3-2019-Amazon-Financial-Results.pdf’ saved [545031/545031]\n",
            "\n"
          ],
          "name": "stdout"
        }
      ]
    },
    {
      "cell_type": "code",
      "metadata": {
        "id": "XAo3aazIqQ7b"
      },
      "source": [
        "def pdf_converter(directory_path, min_length=200, include_line_breaks=False):\n",
        "\n",
        "    list_file = os.listdir(directory_path)\n",
        "    list_pdf = []\n",
        "    for file in list_file:\n",
        "        if file.endswith(\"pdf\"):\n",
        "            list_pdf.append(file)\n",
        "    df = pd.DataFrame(columns=[\"title\", \"paragraphs\"])\n",
        "    for i, pdf in enumerate(list_pdf):\n",
        "        try:\n",
        "            df.loc[i] = [pdf.replace(\".pdf\",''), None]\n",
        "            raw = parser.from_file(os.path.join(directory_path, pdf))\n",
        "            s = raw[\"content\"].strip()\n",
        "            paragraphs = re.split(\"\\n\\n(?=\\u2028|[A-Z-0-9])\", s)\n",
        "            list_par = []\n",
        "            temp_para = \"\" \n",
        "            for p in paragraphs:\n",
        "                if not p.isspace(): \n",
        "                    if include_line_breaks: \n",
        "                        if len(p) >= min_length:\n",
        "                            if temp_para:\n",
        "                                list_par.append(temp_para.strip())\n",
        "                                temp_para = (\n",
        "                                    \"\"\n",
        "                                )  \n",
        "                                list_par.append(\n",
        "                                    p.replace(\"\\n\", \"\")\n",
        "                                ) \n",
        "                            else:\n",
        "                                list_par.append(p.replace(\"\\n\", \"\"))\n",
        "                        else:\n",
        "                            line = p.replace(\"\\n\", \" \").strip()\n",
        "                            temp_para = temp_para + f\" {line}\"\n",
        "                    else:\n",
        "                        list_par.append(p.replace(\"\\n\", \"\"))\n",
        "                else:\n",
        "                    if temp_para:\n",
        "                        list_par.append(temp_para.strip())\n",
        "\n",
        "            df.loc[i, \"paragraphs\"] = list_par\n",
        "        except Exception as e:\n",
        "            print(\"Unexpected error:\", e)\n",
        "            print(\"Unable to process file {}\".format(pdf))\n",
        "    return df"
      ],
      "execution_count": 47,
      "outputs": []
    },
    {
      "cell_type": "code",
      "metadata": {
        "colab": {
          "base_uri": "https://localhost:8080/"
        },
        "id": "1n0laTtKtESu",
        "outputId": "70f0a35e-eb4f-4419-f8e3-a85e84043dd8"
      },
      "source": [
        "df = pdf_converter('/content/documents')"
      ],
      "execution_count": 48,
      "outputs": [
        {
          "output_type": "stream",
          "text": [
            "2021-07-01 15:39:16,496 [MainThread  ] [INFO ]  Retrieving http://search.maven.org/remotecontent?filepath=org/apache/tika/tika-server/1.24/tika-server-1.24.jar to /tmp/tika-server.jar.\n",
            "2021-07-01 15:39:17,270 [MainThread  ] [INFO ]  Retrieving http://search.maven.org/remotecontent?filepath=org/apache/tika/tika-server/1.24/tika-server-1.24.jar.md5 to /tmp/tika-server.jar.md5.\n",
            "2021-07-01 15:39:17,768 [MainThread  ] [WARNI]  Failed to see startup log message; retrying...\n"
          ],
          "name": "stderr"
        }
      ]
    },
    {
      "cell_type": "code",
      "metadata": {
        "colab": {
          "base_uri": "https://localhost:8080/"
        },
        "id": "Lol9sxWmtZ4-",
        "outputId": "4386463f-2958-4e34-fa82-39cf07e742cb"
      },
      "source": [
        "print(str(df['paragraphs'][0]))"
      ],
      "execution_count": 57,
      "outputs": [
        {
          "output_type": "stream",
          "text": [
            "['Microsoft Word - Earnings Release_4.30.20_12PM with quote     ', 'AMAZON.COM ANNOUNCES FIRST QUARTER RESULTS ', 'SEATTLE—(BUSINESS WIRE) April 30, 2020—Amazon.com, Inc. (NASDAQ: AMZN) today announced financial results for its first quarter ended March 31, 2020.  •  Operating cash flow increased 16% to $39.7 billion for the trailing twelve months, compared with $34.4 billion for the trailing twelve months ended March 31, 2019. •  Free cash flow increased to $24.3 billion for the trailing twelve months, compared with $23.0 billion for the trailing twelve months ended March 31, 2019. •  Free cash flow less principal repayments of finance leases and financing obligations decreased to $14.3 billion for the trailing twelve months, compared with $15.1 billion for the trailing twelve months ended March 31, 2019. •  Free cash flow less equipment finance leases and principal repayments of all other finance leases and financing obligations decreased to $11.7 billion for the trailing twelve months, compared with $11.8 billion for the trailing twelve months ended March 31, 2019. •  Common shares outstanding plus shares underlying stock-based awards totaled 513 million on March 31, 2020, compared with 507 million one year ago. •  Net sales increased 26% to $75.5 billion in the first quarter, compared with $59.7 billion in first quarter 2019. Excluding the $387 million unfavorable impact from year-over-year changes in foreign exchange rates throughout the quarter, net sales increased 27% compared with first quarter 2019. •  Operating income decreased to $4.0 billion in the first quarter, compared with operating income of $4.4 billion in first quarter 2019. •  Net income decreased to $2.5 billion in the first quarter, or $5.01 per diluted share, compared with net income of $3.6 billion, or $7.09 per diluted share, in first quarter 2019.  “From online shopping to AWS to Prime Video and Fire TV, the current crisis is demonstrating the adaptability and durability of Amazon’s business as never before, but it’s also the hardest time we’ve ever faced,” said Jeff Bezos, Amazon founder and ', 'CEO. “We are inspired by all the essential workers we see doing their jobs — nurses and doctors, grocery store cashiers, police officers, and our own extraordinary frontline employees. The service we provide has never been more critical, and the people doing the frontline work — our employees and all the contractors throughout our supply chain — are counting on us to keep them safe as they do that work. We’re not going to let them down. Providing for customers and protecting employees as this crisis continues for more months is going to take skill, humility, invention, and money. If you’re a shareowner in Amazon, you may want to take a seat, because we’re not thinking small. Under normal circumstances, in this coming Q2, we’d expect to make some $4 billion or more in operating profit. But these aren’t normal circumstances. Instead, we expect to spend the entirety of that $4 billion, and perhaps a bit more, on COVID-related expenses getting products to customers and keeping employees safe. This includes investments in personal protective equipment, enhanced cleaning of our facilities, less efficient process paths that better allow for effective social distancing, higher wages for hourly teams, and hundreds of millions to develop our own COVID-19 testing capabilities. There is a lot of uncertainty in the world right now, and the best investment we can make is in the safety and well-being of our hundreds of thousands of employees. I’m confident that our long-term oriented shareowners will understand and embrace our approach, and that in fact they would expect no less.”    ', 'COVID-19  ', 'What we are doing for employees •  Our top concern is ensuring the health and safety of our employees and contractors around the world. We made over 150 significant process changes in our operations network and Whole Foods Market stores to help teams stay healthy — and we conduct daily audits of the measures we’ve put into place.  •  We have procured 100 million face masks and are requiring that they be worn by all associates, drivers, and support staff in our operations network. We purchased more than 1,000 thermal cameras and 31,000 thermometers, which we are using to conduct mandatory daily temperature checks for employees and support staff throughout our operations sites and Whole Foods Market stores. •  A team of Amazonians — from research scientists and program managers to procurement specialists and software engineers — has moved from their normal day jobs to a dedicated team working to build incremental testing capacity. ', 'The team is building its first lab and has begun a pilot to test front-line employees. We’re not sure how far we will get in the relevant timeframe, but we think it’s worth trying, and we stand ready to share anything we learn. •  In March and April, we announced plans to and have now hired 175,000 people in our fulfillment and delivery network in response to increased customer demand and to assist existing employees. We are happy to welcome these new hires to our team and are continuing to hire. •  In March, we increased pay for hourly employees by $2/hour in the U.S. and Canada, £2/hour in the U.K., and €2/hour in many European countries. We also doubled the regular hourly base pay for overtime hours worked — a minimum of $34 an hour in the U.S. — an increase from time and a half. Our investment in increased pay for our hourly employees and partners during COVID-19 will be nearly $700 million through May 16.    ', 'What we are doing for customers •  We’re prioritizing the stocking and delivery of essential items to ensure the fastest delivery of household staples, medical supplies, and other critical products.  •  We’re acting aggressively to help protect customers from bad actors and have removed over one million offers from our stores due to COVID-based price gouging. We’ve suspended more than 10,000 selling accounts globally for violating our fair-pricing policies.  •  We’re working hard to increase order capacity for Prime Now, Amazon Fresh, and Whole Foods Market. We’ve expanded Whole Foods Market grocery pickup from roughly 80 stores to more than 150, adjusted store hours for select locations to focus exclusively on fulfilling online grocery orders during certain times, and have made it easier for customers to see when the next delivery window is available on the Prime Now, Amazon Fresh, and Whole Foods ', 'Market homepages.  •  We’ve implemented additional safety measures within our Whole Foods Market stores, including providing plexiglass barriers between cashiers and customers at checkout, rolling out enhanced cleanliness and sanitation protocols, and enforcing social distancing guidelines. Our Whole Foods Market locations are open to seniors one hour before opening the store to the general public, and we are reserving the first hour of grocery pickup at select Whole Foods Market locations for seniors.  •  Alexa is helping customers stay informed and connected, and can now answer tens of thousands of questions related to COVID-19. We’re working to provide accurate and timely information from official government and news sources, globally. Alexa also provides an experience that helps customers in Brazil, Canada, India, Japan, Mexico, and the U.S. check their risk level for COVID-19. Customers can ask, “Alexa, what do I do if I think I have COVID-19?” or “Alexa, what do I do if I think I have coronavirus?” Alexa then asks a series of questions about the person’s symptoms and possible exposure and provides guidance sourced from local health authorities.     •  To support third-party sellers in Amazon’s stores, many of whom are small and medium-sized businesses, we paused Amazon Lending loan repayments from March 26 to April 30. In recent weeks, we also waived one month of fees for long-term storage, Strategic Account Services account management, and the Launchpad program, as well as two weeks of inventory storage fees. •  Amazon is supporting small businesses by partnering with American Express and its Stand for Small initiative, providing free use of business tools that help with virtual communication and collaboration, such as Amazon Chime, ', 'Amazon WorkDocs, and Amazon WorkSpaces, as well as enabling small businesses to use the cloud at no charge for ', '12 months with AWS Free Tier. We’re also giving complimentary access to training and educational tools from the ', 'Amazon Small Business Academy to help entrepreneurs learn how to build their businesses online. •  AWS is helping healthcare workers, medical researchers, scientists, and public health officials working to understand and fight COVID-19 by providing a centralized repository of curated, up-to-date, pre-processed, and publicly-readable datasets focused on the spread and characteristics of the virus. The AWS COVID-19 data lake, which includes data sets from Johns Hopkins University, Definitive Healthcare, Carnegie Mellon’s Delphi Research Group, and other sources, is available for anyone researching, tracking, deploying vital resources, or developing other helpful solutions and applications to combat COVID-19.   •  AWS is supporting the White House’s COVID-19 High Performance Computing Consortium, providing computing resources to advance research on diagnosis, treatment, and vaccines. •  Customers are using AWS to lessen the impact that COVID-19 has on families, communities, and businesses. Examples include: •  The New York City COVID-19 Rapid Response Coalition is using a conversational agent, which is running on AWS, to enable at-risk, elderly New Yorkers to receive accurate, timely information about medical needs.  •  The Los Angeles Unified School District is using AWS to power a new call center that is fielding IT questions, providing remote support, and enabling staff to answer calls around remote learning for 700,000 students.  •  Volunteer Surge, a nonprofit consortium, is running its online training platform on AWS to recruit, train, and deploy one million volunteer health workers. •  The World Health Organization is using AWS to build large-scale data lakes, aggregate epidemiological country data, rapidly translate medical training videos into different languages, and help global healthcare workers better treat patients. •  Cerner, a global healthcare technology company, is compiling de-identified patient data to help COVID-19 researchers and is leveraging AWS to secure and store critical information. The data is available free of charge and will support research, vaccine development, and new treatment options, allowing organizations to share information and accelerate understanding of the virus.  •  In England, the National Health Service is using AWS to analyze hospital occupancy levels, emergency room capacity, and patient wait times in order to help decide where best to allocate resources. •  AWS is helping Kentucky and West Virginia authorities address the surge in call volumes to unemployment call centers by transitioning from legacy technology that often required agents to work in the states’ offices to ', 'Amazon Connect which enables staff to work remotely via the AWS Cloud.  •  Origin Energy, Australia’s largest integrated energy retailer, is using Amazon Connect to operate its cloud-based contact center and successfully manage inbound calls by enabling their contact center agents to work remotely during the COVID-19 crisis. •  AWS is helping the state of Rhode Island address a surge in unemployment insurance applications — 10 times the volume their legacy system could typically handle — by powering the Department of Labor and ', 'Training’s website and online application portal.     •  AWS is helping schools around the world quickly deploy and transition to online learning through its EdTech customers and partners. In Egypt, the Ministry of Education and CDSM Thinqi are standing up instant access to online learning content, where 22 million K-12 students are able to continue their education in the midst of COVID-19; and in India, EdTech startup Impartus is launching virtual classrooms for more than 530,000 students — the online equivalent of 13,000 physical classrooms. AWS is also working with Blackboard, the largest education technology and services company in the world, enabling them to scale to 50x their usual capacity within a 24-hour timeframe to meet the global surge in demand of daily users for their virtual teaching and learning platform. •  In collaboration with Salesforce, AWS is participating in the “Salesforce Care” campaign, a program to onboard up to 300 customers, like HCA Healthcare and Providence Health & Services, to help them quickly stand-up call center capacity to handle the spike in demand from their patients.   ', 'What we are doing for communities •  Using our network of Amazon Flex drivers, we’re partnering with food banks across the U.S. to donate delivery services of groceries to serve six million meals through the end of June. We’ve delivered 427,000 pounds of groceries, representing 336,000 meals.  •  We’ve partnered with a Seattle catering company to distribute more than 73,000 meals to over 2,700 elderly and medically-vulnerable residents in Seattle and King County during the outbreak.  •  We’re donating $5 million in Amazon devices to support healthcare workers, patients, schools, teachers, and communities around the globe that have been impacted by COVID-19. •  We’ve provided $10 million in funding to provide relief to more than 800 small businesses in Seattle and the Puget Sound through cash grants and free rent as part of our Neighborhood Small Business Relief Fund.   •  We have donated 12,200 laptops to students across the U.S. and are making online computer science resources, including exam prep, available at no cost to students, parents, and teachers through Amazon Future Engineer.  •  We committed more than €21 million to relief organizations across Europe to support those most affected by COVID-19. •  In partnership with the United States Department of Agriculture we’ve expanded the list of states where Supplemental Nutrition Assistance Program (SNAP) benefits can be used online, which now includes Alabama, Arizona, California, ', 'Florida, Iowa, Kentucky, Nebraska, New York, Oregon, and Washington, with additional states to come online soon.  •  With the AWS Diagnostic Development Initiative, a program to support customers working to bring more accurate diagnostic solutions to market for COVID-19, we’re committing $20 million to accelerate this work and help our customers harness the cloud to tackle this challenge.   ', 'Business Highlights  ', 'Shopping and Entertainment •  Amazon ranked #1 in the 2019 American Customer Satisfaction Index Internet Retail Category and has been ranked in the top 10 for the past 11 years. In the U.K., the Institute of Customer Service named Amazon as the company with the best customer service score for the past decade. •  Prime Video launched Prime Video Cinema in the U.S., the U.K., and Germany. Prime Video Cinema is a premium movie rental offering that allows customers to stream in-theater movies at home, including titles such as Birds of Prey, ', 'Emma, The Invisible Man, Onward, and Trolls World Tour. •  Customers in the U.S., the U.K., and Germany can now rent or buy hundreds of thousands of video titles directly from the Prime Video app on Apple iOS 12 devices and the Apple TV Gen 4+, including new release movies, award-winning TV shows, and Oscar-nominated movies.     •  Prime Video premiered several new Amazon Original series including the reality competition Making the Cut, hosted and executive produced by Heidi Klum and Tim Gunn; The Forgotten Army in India; Love Island in France; Celebrity ', \"Hunted in Italy; and the docuseries The Test: A New Era for Australia’s Team in Australia. •  Prime Video and the National Football League (NFL) announced a multi-year agreement to renew their partnership to deliver a live digital stream of 11 Thursday Night Football games as well as exclusive global streaming rights to one additional regular season game. All NFL games on Prime Video are available at no extra cost to Prime members. •  Amazon launched Amazon Go Grocery in Seattle, the first grocery store to offer Just Walk Out Shopping. The store's checkout-free experience is enabled by the same Just Walk Out Technology used in 25 Amazon Go stores across the \", 'U.S. In addition, Amazon is now offering its Just Walk Out Technology to retailers for use in their stores, allowing more shoppers to enjoy the convenience of taking what they want and leaving without stopping to check out. •  Amazon launched Amazon.nl and a new Prime program for the Netherlands marketplace. Amazon Prime includes unlimited free shipping, Prime Video, Twitch Prime, and Amazon Photos. •  Amazon announced that more than 15,000 small and medium-sized businesses selling in Amazon’s stores in the U.S. surpassed $1 million in sales in 2019. Additionally, third-party sellers sold more than 700 million items that shipped with Prime Free One-Day Delivery or faster in the U.S. in 2019.  ', 'Devices and Alexa •  Alexa is available on even more devices including TV, mobile, and auto and is now available on select LG and Samsung Smart TV 2020 models and the new OnePlus 8 mobile phone. Additionally, BMW customers in the U.S., and ', 'MINI customers in the U.S., France, Italy, Spain, and Austria can now access Alexa on select models. •  Amazon introduced a new speaking style for Alexa skills, enabling U.S. developers to build more natural long-form content experiences by adding conversational pauses to Alexa’s speech when reading articles or blogs. •  Fire TV’s content catalog continues to grow internationally with new apps, including Disney+, available on Fire TV and Fire Tablet devices in the U.K., France, Germany, Italy, and Spain. •  Ring launched several new products and features, including two Ring Video Doorbells and its next-generation Ring Chime and Ring Chime Pro, in the U.S., the U.K., Canada, Australia, and New Zealand. Additionally, Ring launched mandatory two-step verification for all users, along with the ability to opt out of personalized advertising. •  Amazon launched Blink Mini, a new compact indoor smart security camera that works with Alexa in the U.S., the U.K., Canada, Germany, and France.   ', 'Amazon Web Services •  AWS announced the opening of the AWS Europe (Milan) and AWS Africa (Cape Town) Regions. AWS now spans 76 Availability Zones within 24 geographic regions, with announced plans for nine more Availability Zones and three more AWS Regions in Indonesia, Japan, and Spain.                                                        •  AWS announced the general availability of Amazon Detective, a security service that makes it easy for customers to conduct faster and more efficient investigations into security issues across their AWS workloads. Amazon Detective automatically collects log data from a customer’s resources and uses machine learning, statistical analysis, and graph theory to build interactive visualizations that help customers analyze, investigate, and quickly identify the root cause of potential security issues or suspicious activities.  •  AWS announced the general availability of Amazon Keyspaces (for Apache Cassandra), a scalable, highly available, and fully managed database service for Cassandra workloads. Amazon Keyspaces supports the same application code, ', 'Apache 2.0 licensed drivers, and developer tools that customers running Cassandra workloads use today. With Amazon ', 'Keyspaces, customers can easily migrate on-premises Cassandra workloads to the cloud, without having to provision, configure, and operate servers or large Cassandra clusters, or needing to manually add or remove nodes or rebalance partitions as traffic scales up or down.    •  AWS announced Amazon AppFlow, a fully managed service that provides an easy, secure way for customers to create and automate bidirectional data flows between AWS and SaaS applications — such as Salesforce, Slack, Infor Nexus, ', 'Marketo, ServiceNow, Trend Micro, and Zendesk — without writing custom integration code. Amazon AppFlow also works with AWS PrivateLink to route data flows through the AWS network instead of over the public Internet to provide even stronger data privacy and security. With Amazon AppFlow, customers can bring together and manage petabytes, even exabytes, of data spread across all of their applications without having to develop custom connectors or manage underlying API and network connectivity. •  AWS announced the general availability of Amazon Augmented Artificial Intelligence (Amazon A2I), a fully managed service that makes it easy to add human review to machine learning predictions to enhance model and application accuracy by continuously identifying and improving low confidence predictions. Human review for model predictions can be added to new or existing applications using reviewers from Mechanical Turk, third party vendors, or a customer’s own employees. •  AWS helped power the NFL’s first ever remote draft — the most watched ever, reaching more than 55 million viewers total. Through all seven rounds of the three-day event, AWS ensured that over 100 live feeds ran successfully, creating a seamless experience for the NFL, teams, coaches, players and their families, fans, and everyone watching.  ', 'Community and Sustainability •  Amazon launched the first Amazon Future Engineer Teacher of the Year Awards, recognizing teachers working to help students in underserved communities gain the skills they need to build careers in computer science. •  Amazon donated $3.9 million to CodeVA, a Virginia non-profit organization, to expand computer science education for 500,000 students and training for 12,000 teachers in 700 underserved communities across Virginia — with virtual training starting now in light of COVID-19. •  Amazon leveraged its operational expertise and logistics network to provide relief and support to victims across the globe including those impacted by the Australian bushfire crisis, Indonesia’s floods, earthquakes in Puerto Rico, and tornadoes in the Middle Tennessee region. Amazon has donated more than 750,000 relief items to help community partners responding to large-scale natural disasters. •  Amazon announced four new renewable energy projects across the U.S., Europe, and Australia that will support Amazon’s commitment under The Climate Pledge to be net zero carbon by 2040, 10 years ahead of the Paris ', 'Agreement. Globally, Amazon has 86 renewable energy projects that have the capacity to generate over 2,300 MW and deliver more than 6.3 million MWh of energy annually. •  Amazon announced its first donation of $10 million to The Nature Conservancy. This first project donation is part of Amazon’s Right Now Climate Fund — a $100 million commitment to protect, restore, and support reforestation projects around the world in collaboration with The Nature Conservancy. ', 'Financial Guidance The following forward-looking statements reflect Amazon.com’s expectations as of April 30, 2020, and are subject to substantial uncertainty. Our results are inherently unpredictable and may be materially affected by many factors, such as fluctuations in foreign exchange rates, changes in global economic conditions and customer spending, world events, the rate of growth of the Internet, online commerce, and cloud services, and the various factors detailed below. This guidance reflects our estimates as of April 30, 2020 regarding the impact of the COVID-19 pandemic on our operations, including those discussed above, and is highly dependent on numerous factors that we may not be able to predict or control, including: the duration and spread of the pandemic; actions taken by governments, businesses, and individuals in response to the pandemic; the impact of the pandemic on global and regional economies and economic activity, workforce staffing and productivity, and our significant and continuing spending on employee safety measures; our ability to continue operations in affected areas; and consumer demand and consumer spending patterns, as well as the effects on suppliers, creditors, and third-party sellers, all of which are uncertain. This guidance also assumes the impacts on consumer demand and spending patterns, including impacts due to concerns over the current economic outlook, will be in line with those experienced during Q2 to date, and the additional    assumptions set forth below. However, it is not possible to determine the ultimate impact on our operations for the second quarter, or whether other currently unanticipated direct or indirect consequences of the pandemic are reasonably likely to materially affect our operations. ', 'Second Quarter 2020 Guidance •  Net sales are expected to be between $75.0 billion and $81.0 billion, or to grow between 18% and 28% compared with second quarter 2019. This guidance anticipates an unfavorable impact of approximately 70 basis points from foreign exchange rates. •  Operating income (loss) is expected to be between $(1.5) billion and $1.5 billion, compared with $3.1 billion in second quarter 2019. This guidance assumes approximately $4.0 billion of costs related to COVID-19. •  This guidance assumes, among other things, that no additional business acquisitions, investments, restructurings, or legal settlements are concluded.  ', 'A conference call will be webcast live today at 2:30 p.m. PT/5:30 p.m. ET, and will be available for at least three months at amazon.com/ir. This call will contain forward-looking statements and other material information regarding the Company’s financial and operating results.  ', 'These forward-looking statements are inherently difficult to predict. Actual results could differ materially for a variety of reasons, including, in addition to the factors discussed above, the amount that Amazon.com invests in new business opportunities and the timing of those investments, the mix of products and services sold to customers, the mix of net sales derived from products as compared with services, the extent to which we owe income or other taxes, competition, management of growth, potential fluctuations in operating results, international growth and expansion, the outcomes of claims, litigation, government investigations, and other proceedings, fulfillment, sortation, delivery, and data center optimization, risks of inventory management, seasonality, the degree to which the Company enters into, maintains, and develops commercial agreements, proposed and completed acquisitions and strategic transactions, payments risks, and risks of fulfillment throughput and productivity. Other risks and uncertainties include, among others, risks related to new products, services, and technologies, system interruptions, government regulation and taxation, and fraud. In addition, additional or unforeseen effects from the ', 'COVID-19 pandemic and the global economic climate may give rise to or amplify many of these risks. More information about factors that potentially could affect Amazon.com’s financial results is included in Amazon.com’s filings with the Securities and ', 'Exchange Commission (“SEC”), including its most recent Annual Report on Form 10-K and subsequent filings.  ', 'Our investor relations website is amazon.com/ir and we encourage investors to use it as a way of easily finding information about us. We promptly make available on this website, free of charge, the reports that we file or furnish with the SEC, corporate governance information (including our Code of Business Conduct and Ethics), and select press releases, which may contain material information about us, and you may subscribe to be notified of new information posted to this site. ', 'About Amazon Amazon is guided by four principles: customer obsession rather than competitor focus, passion for invention, commitment to operational excellence, and long-term thinking. Customer reviews, 1-Click shopping, personalized recommendations, Prime, ', 'Fulfillment by Amazon, AWS, Kindle Direct Publishing, Kindle, Fire tablets, Fire TV, Amazon Echo, and Alexa are some of the products and services pioneered by Amazon. For more information, visit amazon.com/about and follow @AmazonNews.    ', 'AMAZON.COM, INC. ', 'Consolidated Statements of Cash Flows (in millions) (unaudited)    Three Months Ended ', 'March 31,  Twelve Months Ended ', 'March 31,  2019  2020  2019  2020             CASH, CASH EQUIVALENTS, AND RESTRICTED CASH, BEGINNING OF PERIOD $ 32,173  $ 36,410  $ 17,616  $ 23,507 OPERATING ACTIVITIES:        Net income 3,561  2,535  12,005  10,563 Adjustments to reconcile net income to net cash from operating activities:        ', 'Depreciation and amortization of property and equipment and capitalized content costs, operating lease assets, and other 4,854  5,362  16,524  22,297 ', 'Stock-based compensation 1,274  1,757  5,509  7,347 Other operating expense (income), net (13)  67  205  244 Other expense (income), net (135)  565  268  451 Deferred income taxes 415  322  714  704 ', 'Changes in operating assets and liabilities:        Inventories 719  1,392  (2,815)  (2,605) Accounts receivable, net and other (401)  1,262  (6,043)  (6,018) Accounts payable (6,384)  (8,044)  7,095  6,532 Accrued expenses and other (2,932)  (2,761)  (235)  (1,213) Unearned revenue 888  607  1,133  1,430 ', 'Net cash provided by (used in) operating activities 1,846  3,064  34,360  39,732 INVESTING ACTIVITIES:        Purchases of property and equipment (3,290)  (6,795)  (13,619)  (20,365) Proceeds from property and equipment sales and incentives 569  1,367  2,303  4,970 Acquisitions, net of cash acquired, and other (1,169)  (91)  (3,342)  (1,384) Sales and maturities of marketable securities 2,643  11,626  8,205  31,664 Purchases of marketable securities (6,876)  (15,001)  (13,506)  (39,938) ', 'Net cash provided by (used in) investing activities (8,123)  (8,894)  (19,959)  (25,053) FINANCING ACTIVITIES:        Proceeds from long-term debt and other 190  693  833  2,776 Repayments of long-term debt and other (351)  (667)  (817)  (3,000) Principal repayments of finance leases (2,214)  (2,600)  (7,649)  (10,013) Principal repayments of financing obligations (2)  (17)  (266)  (43) ', 'Net cash provided by (used in) financing activities (2,377)  (2,591)  (7,899)  (10,280) Foreign currency effect on cash, cash equivalents, and restricted cash (12)  (484)  (611)  (401) ', 'Net increase (decrease) in cash, cash equivalents, and restricted cash (8,666)  (8,905)  5,891  3,998 CASH, CASH EQUIVALENTS, AND RESTRICTED CASH, END OF PERIOD $ 23,507  $ 27,505  $ 23,507  $ 27,505 SUPPLEMENTAL CASH FLOW INFORMATION:        Cash paid for interest on long-term debt $ 286  $ 290  $ 858  $ 879 Cash paid for operating leases 709  1,029  709  3,680 Cash paid for interest on finance leases 165  168  471  650 Cash paid for interest on financing obligations 2  22  142  59 Cash paid for income taxes, net of refunds 168  305  840  1,017 Assets acquired under operating leases 875  2,408  875  9,403 Property and equipment acquired under finance leases 2,628  2,166  10,972  13,262 Property and equipment acquired under build-to-suit arrangements 436  379  3,336  1,304     ', 'AMAZON.COM, INC. ', 'Consolidated Statements of Operations (in millions, except per share data) (unaudited)   Three Months Ended ', 'March 31,  2019  2020       Net product sales $ 34,283  $ 41,841 ', 'Net service sales 25,417  33,611 ', 'Total net sales 59,700  75,452 ', 'Operating expenses:    ', 'Cost of sales 33,920  44,257 ', 'Fulfillment 8,601  11,531 ', 'Technology and content 7,927  9,325 ', 'Marketing 3,664  4,828 ', 'General and administrative 1,173  1,452 ', 'Other operating expense (income), net (5)  70 ', 'Total operating expenses 55,280  71,463 ', 'Operating income 4,420  3,989 ', 'Interest income 183  202 ', 'Interest expense (366)  (402) ', 'Other income (expense), net 164  (406) ', 'Total non-operating income (expense) (19)  (606) ', 'Income before income taxes 4,401  3,383 ', 'Provision for income taxes (836)  (744) ', 'Equity-method investment activity, net of tax (4)  (104) ', 'Net income $ 3,561  $ 2,535 ', 'Basic earnings per share $ 7.24  $ 5.09 ', 'Diluted earnings per share $ 7.09  $ 5.01 ', 'Weighted-average shares used in computation of earnings per share:    Basic 491  498 ', 'Diluted 502  506     ', 'AMAZON.COM, INC. ', 'Consolidated Statements of Comprehensive Income (in millions) (unaudited)   Three Months Ended ', 'March 31,  2019  2020       Net income $ 3,561  $ 2,535 ', 'Other comprehensive income (loss):    ', 'Foreign currency translation adjustments, net of tax of $(1) and $21 (8)  (874) ', 'Net change in unrealized gains (losses) on available-for-sale debt securities:    ', 'Unrealized gains (losses), net of tax of $0 and $12 32  (203) ', 'Reclassification adjustment for losses (gains) included in “Other income (expense), net,” net of tax of $0 and $0 1  — ', 'Net unrealized gains (losses) on available-for-sale debt securities 33  (203) ', 'Total other comprehensive income (loss) 25  (1,077) ', 'Comprehensive income $ 3,586  $ 1,458      ', 'AMAZON.COM, INC. ', 'Segment Information (in millions) (unaudited)   Three Months Ended ', 'March 31,  2019  2020       North America    ', 'Net sales $ 35,812  $ 46,127 ', 'Operating expenses 33,525  44,815 ', 'Operating income $ 2,287  $ 1,312     International    ', 'Net sales $ 16,192  $ 19,106 ', 'Operating expenses 16,282  19,504 ', 'Operating income (loss) $ (90)  $ (398)     AWS    ', 'Net sales $ 7,696  $ 10,219 ', 'Operating expenses 5,473  7,144 ', 'Operating income $ 2,223  $ 3,075     Consolidated    ', 'Net sales $ 59,700  $ 75,452 ', 'Operating expenses 55,280  71,463 ', 'Operating income 4,420  3,989 ', 'Total non-operating income (expense) (19)  (606) ', 'Provision for income taxes (836)  (744) ', 'Equity-method investment activity, net of tax (4)  (104) ', 'Net income $ 3,561  $ 2,535     Segment Highlights:    ', 'Y/Y net sales growth:    ', 'North America 17% 29%', 'International 9  18 ', 'AWS 41  33 ', 'Consolidated 17  26 ', 'Net sales mix:    ', 'North America 60% 61%', 'International 27  25 ', 'AWS 13  14 ', 'Consolidated 100% 100%     ', 'AMAZON.COM, INC. ', 'Consolidated Balance Sheets (in millions, except per share data)   December 31, 2019  March 31, 2020    (unaudited) ', 'ASSETS    Current assets:    ', 'Cash and cash equivalents $ 36,092  $ 27,201 ', 'Marketable securities 18,929  22,091 ', 'Inventories 20,497  18,857 ', 'Accounts receivable, net and other 20,816  17,836 ', 'Total current assets 96,334  85,985 ', 'Property and equipment, net 72,705  77,779 ', 'Operating leases 25,141  26,279 ', 'Goodwill 14,754  14,739 ', 'Other assets 16,314  16,456 ', 'Total assets $ 225,248  $ 221,238 ', 'LIABILITIES AND STOCKHOLDERS’ EQUITY    Current liabilities:    ', 'Accounts payable $ 47,183  $ 40,056 ', 'Accrued expenses and other 32,439  30,791 ', 'Unearned revenue 8,190  8,864 ', 'Total current liabilities 87,812  79,711 ', 'Long-term lease liabilities 39,791  40,300 ', 'Long-term debt 23,414  23,437 ', 'Other long-term liabilities 12,171  12,518 ', 'Commitments and contingencies    ', 'Stockholders’ equity:    ', 'Preferred stock, $0.01 par value:    ', 'Authorized shares — 500    ', 'Issued and outstanding shares — none —  — ', 'Common stock, $0.01 par value:    ', 'Authorized shares — 5,000    ', 'Issued shares — 521 and 522    ', 'Outstanding shares — 498 and 499 5  5 ', 'Treasury stock, at cost (1,837)  (1,837) ', 'Additional paid-in capital 33,658  35,412 ', 'Accumulated other comprehensive income (loss) (986)  (2,063) ', 'Retained earnings 31,220  33,755 ', 'Total stockholders’ equity 62,060  65,272 ', 'Total liabilities and stockholders’ equity $ 225,248  $ 221,238     ', 'AMAZON.COM, INC. ', 'Supplemental Financial Information and Business Metrics (in millions, except per share data) (unaudited)  Q4 2018 Q1 2019 Q2 2019 Q3 2019 Q4 2019 Q1 2020 Y/Y % Change ', 'Cash Flows and Shares        Operating cash flow -- trailing twelve months (TTM) $ 30,723 $ 34,360 $ 36,029 $ 35,332 $ 38,514 $ 39,732 16 %Operating cash flow -- TTM Y/Y growth 67% 89 % 65% 33 % 25 % 16 % N/A ', 'Purchases of property and equipment, net of proceeds from sales and incentives -- TTM $ 11,323 $ 11,316 $ 11,011 $ 11,868 $ 12,689 $ 15,395 36 %Principal repayments of finance leases -- TTM (1) $ 7,449 $ 7,649 $ 8,693 $ 8,754 $ 9,628 $ 10,013 31 %Principal repayments of financing obligations -- TTM (1) $ 337 $ 266 $ 211 $ 129 $ 27 $ 43 (84)%Equipment acquired under finance leases -- TTM (1) (2) $ 10,615 $ 10,909 $ 11,656 $ 12,580 $ 12,916 $ 12,209 12 %Principal repayments of all other finance leases -- TTM (1) (3) $ — $ 76 $ 176 $ 302 $ 392 $ 407 430 %Free cash flow -- TTM (4) $ 19,400 $ 23,044 $ 25,018 $ 23,464 $ 25,825 $ 24,337 6 %Free cash flow less principal repayments of finance leases and financing obligations -- TTM (1) (5) $ 11,614 $ 15,129 $ 16,114 $ 14,581 $ 16,170 $ 14,281 (6)%', 'Free cash flow less equipment finance leases and principal repayments of all other finance leases and financing obligations -- TTM (1) (6) $ 8,448 $ 11,793 $ 12,975 $ 10,453 $ 12,490 $ 11,678 (1)%', 'Common shares and stock-based awards outstanding 507 507  510 511 512  513 1 %Common shares outstanding 491 492  494 495 498  499 1 %Stock-based awards outstanding 16 15  16 16 14  14 (7)%Stock-based awards outstanding -- % of common shares outstanding 3.2% 3.0 % 3.3% 3.2 % 2.9 % 2.8 % N/A ', 'Results of Operations        Worldwide (WW) net sales $ 72,383 $ 59,700 $ 63,404 $ 69,981 $ 87,437 $ 75,452 26 %WW net sales -- Y/Y growth, excluding F/X 21% 19 % 21% 25 % 21 % 27 % N/A ', 'WW net sales -- TTM $ 232,887 $ 241,546 $ 252,064 $ 265,469 $ 280,522 $ 296,274 23 %WW net sales -- TTM Y/Y growth, excluding F/X 30% 26 % 23% 22 % 22 % 23 % N/A ', 'Operating income $ 3,786 $ 4,420 $ 3,084 $ 3,157 $ 3,879 $ 3,989 (10)%F/X impact -- favorable (unfavorable) $ 123 $ 84 $ 58 $ 22 $ 16 $ 63 N/A Operating income -- Y/Y growth (decline), excluding F/X 72% 125 % 1% (16)% 2 % (11)% N/A ', 'Operating margin -- % of WW net sales 5.2% 7.4 % 4.9% 4.5 % 4.4 % 5.3 % N/A ', 'Operating income -- TTM $ 12,421 $ 14,914 $ 15,014 $ 14,448 $ 14,541 $ 14,109 (5)%Operating income -- TTM  Y/Y growth (decline), excluding F/X 197% 190 % 99% 32 % 16 % (6)% N/A ', 'Operating margin -- TTM % of WW net sales 5.3% 6.2 % 6.0% 5.4 % 5.2 % 4.8 % N/A ', 'Net income $ 3,027 $ 3,561 $ 2,625 $ 2,134 $ 3,268 $ 2,535 (29)%Net income per diluted share $ 6.04 $ 7.09 $ 5.22 $ 4.23 $ 6.47 $ 5.01 (29)%Net income -- TTM $ 10,073 $ 12,005 $ 12,096 $ 11,347 $ 11,588 $ 10,563 (12)%Net income per diluted share -- TTM $ 20.14 $ 23.96 $ 24.08 $ 22.57 $ 23.01 $ 20.93 (13)%______________________________ (1) On January 1, 2019, we adopted accounting guidance amending the accounting for leases, which did not have a material impact on our 2019 operating results. Prior period amounts were not retrospectively adjusted. Under this new guidance, leases we previously referred to as “capital leases” are now referred to as “finance leases.” Leases we previously referred to as “finance leases” are now referred to as “financing obligations.” (2) For the twelve months ended March 31, 2019 and 2020, this amount relates to equipment included in “Property and equipment acquired under finance leases” of $10,972 million and $13,262 million. (3) For the twelve months ended March 31, 2019 and 2020, this amount relates to property included in “Principal repayments of finance leases” of $7,649 million and $10,013 million. (4) Free cash flow is cash flow from operations reduced by “Purchases of property and equipment, net of proceeds from sales and incentives.” (5) Free cash flow less principal repayments of finance leases and financing obligations is free cash flow reduced by “Principal repayments of finance leases” and “Principal repayments of financing obligations.” (6) Free cash flow less equipment finance leases and principal repayments of all other finance leases and financing obligations is free cash flow reduced by equipment acquired under finance leases, which is included in “Property and equipment acquired under finance leases,” principal repayments of all other finance lease liabilities, which is included in “Principal repayments of finance leases,” and “Principal repayments of financing obligations.”         ', 'AMAZON.COM, INC. ', 'Supplemental Financial Information and Business Metrics (in millions) (unaudited)  Q4 2018 Q1 2019 Q2 2019 Q3 2019 Q4 2019 Q1 2020 Y/Y % Change ', 'Segments        North America Segment:          Net sales $ 44,124 $ 35,812 $ 38,653 $ 42,638 $ 53,670 $ 46,127 29 %   Net sales -- Y/Y growth, excluding F/X 18 % 17 % 20 % 24 % 22 % 29 % N/A   Net sales -- TTM $ 141,366 $ 146,453 $ 152,938 $ 161,228 $ 170,773 $ 181,088 24 %   Operating income $ 2,251 $ 2,287 $ 1,564 $ 1,282 $ 1,900 $ 1,312 (43)%   F/X impact -- favorable (unfavorable) $ 17 $ 13 $ 7 $ 6 $ (3) $ 5 N/A   Operating income -- Y/Y growth (decline), excluding F/X 32 % 98 % (15)% (37)% (16)% (43)% N/A   Operating margin -- % of North America net sales 5.1 % 6.4 % 4.0 % 3.0 % 3.5 % 2.8 % N/A   Operating income -- TTM $ 7,267 $ 8,405 $ 8,134 $ 7,384 $ 7,033 $ 6,057 (28)%   Operating margin -- TTM % of North America net sales 5.1 % 5.7 % 5.3 % 4.6 % 4.1 % 3.4 % N/A ', 'International Segment:          Net sales $ 20,829 $ 16,192 $ 16,370 $ 18,348 $ 23,813 $ 19,106 18 %   Net sales -- Y/Y growth, excluding F/X 19 % 16 % 17 % 21 % 15 % 20 % N/A   Net sales -- TTM $ 65,866 $ 67,184 $ 68,941 $ 71,740 $ 74,723 $ 77,637 16 %   Operating income (loss) $ (642) $ (90) $ (601) $ (386) $ (617) $ (398) 343 %   F/X impact -- favorable (unfavorable) $ 55 $ (39) $ (36) $ (34) $ (7) $ (5) N/A   Operating income/loss -- Y/Y growth (decline), excluding F/X (24)% (92)% 15 % (8)% (5)% 338 % N/A   Operating margin -- % of International net sales (3.1)% (1.0)% (3.7)% (2.1)% (2.6)% (2.1)% N/A   Operating income (loss) -- TTM $ (2,142) $ (1,610) $ (1,718) $ (1,718) $ (1,693) $ (2,001) 24 %   Operating margin -- TTM % of International net sales (3.3)% (2.4)% (2.5)% (2.4)% (2.3)% (2.6)% N/A ', 'AWS Segment:          Net sales $ 7,430 $ 7,696 $ 8,381 $ 8,995 $ 9,954 $ 10,219 33 %   Net sales -- Y/Y growth, excluding F/X 46 % 42 % 37 % 35 % 34 % 33 % N/A   Net sales -- TTM $ 25,655 $ 27,909 $ 30,185 $ 32,501 $ 35,026 $ 37,549 35 %   Operating income $ 2,177 $ 2,223 $ 2,121 $ 2,261 $ 2,596 $ 3,075 38 %   F/X impact -- favorable (unfavorable) $ 51 $ 110 $ 87 $ 50 $ 26 $ 63 N/A   Operating income -- Y/Y growth, excluding F/X 57 % 51 % 24 % 6 % 18 % 36 % N/A   Operating margin -- % of AWS net sales 29.3 % 28.9 % 25.3 % 25.1 % 26.1 % 30.1 % N/A   Operating income -- TTM $ 7,296 $ 8,119 $ 8,598 $ 8,782 $ 9,201 $ 10,053 24 %   Operating margin -- TTM % of AWS net sales 28.4 % 29.1 % 28.5 % 27.0 % 26.3 % 26.8 % N/A       ', 'AMAZON.COM, INC. ', 'Supplemental Financial Information and Business Metrics (in millions, except employee data) (unaudited)  Q4 2018 Q1 2019 Q2 2019 Q3 2019 Q4 2019 Q1 2020 Y/Y % Change ', 'Net Sales        Online stores (1) $ 39,822 $ 29,498 $ 31,053 $ 35,039 $ 45,657 $ 36,652 24%', 'Online stores -- Y/Y growth, excluding F/X 14 % 12% 16 % 22 % 15 % 25 % N/A ', 'Physical stores (2) $ 4,401 $ 4,307 $ 4,330 $ 4,192 $ 4,363 $ 4,640 8%Physical stores -- Y/Y growth, excluding F/X (3)% 1% 1 % (1)% (1)% 8 % N/A ', 'Third-party seller services (3) $ 13,383 $ 11,141 $ 11,962 $ 13,212 $ 17,446 $ 14,479 30%Third-party seller services -- Y/Y growth, excluding F/X 28 % 23% 25 % 28 % 31 % 31 % N/A ', 'Subscription services (4) $ 3,959 $ 4,342 $ 4,676 $ 4,957 $ 5,235 $ 5,556 28%Subscription services  -- Y/Y growth, excluding F/X 26 % 42% 39 % 35 % 32 % 29 % N/A ', 'AWS $ 7,430 $ 7,696 $ 8,381 $ 8,995 $ 9,954 $ 10,219 33%AWS -- Y/Y growth, excluding F/X 46 % 42% 37 % 35 % 34 % 33 % N/A ', 'Other (5) $ 3,388 $ 2,716 $ 3,002 $ 3,586 $ 4,782 $ 3,906 44%Other -- Y/Y growth, excluding F/X (6) 97 % 36% 37 % 45 % 41 % 44 % N/A         Stock-based Compensation Expense        Cost of sales $ 21 $ 24 $ 43 $ 39 $ 43 $ 41 71%Fulfillment $ 287 $ 234 $ 360 $ 301 $ 286 $ 260 11%Technology and content $ 750 $ 675 $ 1,077 $ 966 $ 1,007 $ 961 59%Marketing $ 217 $ 209 $ 307 $ 298 $ 322 $ 332 42%General and administrative $ 142 $ 132 $ 184 $ 175 $ 182 $ 163 24%', 'Total stock-based compensation expense $ 1,417 $ 1,274 $ 1,971 $ 1,779 $ 1,840 $ 1,757 38%Other        WW shipping costs $ 9,041 $ 7,320 $ 8,134 $ 9,608 $ 12,884 $ 10,936 49%WW shipping costs -- Y/Y growth 23 % 21% 36 % 46 % 43 % 49 % N/A ', 'WW paid units -- Y/Y growth (7) 14 % 10% 18 % 22 % 22 % 32 % N/A ', 'WW seller unit mix -- % of WW paid units (7) 52 % 53% 54 % 53 % 53 % 52 % N/A ', 'Employees (full-time and part-time; excludes contractors & temporary personnel) 647,500 630,600 653,300  750,000 798,000 840,400  33%Employees (full-time and part-time; excludes contractors & temporary personnel) -- Y/Y growth 14 % 12% 13 % 22 % 23 % 33 % N/A ________________________ (1) Includes product sales and digital media content where we record revenue gross. We leverage our retail infrastructure to offer a wide selection of consumable and durable goods that includes media products available in both a physical and digital format, such as books, music, videos, games, and software. These product sales include digital products sold on a transactional basis. Digital product subscriptions that provide unlimited viewing or usage rights are included in “Subscription services.” (2) Includes product sales where our customers physically select items in a store. Sales from customers who order goods online for delivery or pickup at our physical stores are included in “Online stores.” (3) Includes commissions and any related fulfillment and shipping fees, and other third-party seller services. (4) Includes annual and monthly fees associated with Amazon Prime memberships, as well as audiobook, digital video, digital music, e-book, and other non-AWS subscription services. (5) Primarily includes sales of advertising services, as well as sales related to our other service offerings. (6) As a result of revenue recognition accounting guidance adopted on January 1, 2018, certain advertising services are classified as revenue rather than a reduction in cost of sales.  (7) Excludes the impact of Whole Foods Market.    ', 'Amazon.com, Inc. ', 'Certain Definitions ', 'Customer Accounts •  References to customers mean customer accounts established when a customer places an order through one of our stores. Customer accounts exclude certain customers, including customers associated with certain of our acquisitions, ', 'Amazon Payments customers, AWS customers, and the customers of select companies with whom we have a technology alliance or marketing and promotional relationship. Customers are considered active when they have placed an order during the preceding twelve-month period. ', 'Seller Accounts •  References to sellers means seller accounts, which are established when a seller receives an order from a customer account. Sellers are considered active when they have received an order from a customer during the preceding twelve-month period.  ', 'AWS Customers  •  References to AWS customers mean unique AWS customer accounts, which are unique customer account IDs that are eligible to use AWS services. This includes AWS accounts in the AWS free tier. Multiple users accessing AWS services via one account ID are counted as a single account. Customers are considered active when they have had AWS usage activity during the preceding one-month period. ', 'Units •  References to units mean physical and digital units sold (net of returns and cancellations) by us and sellers in our stores as well as Amazon-owned items sold in other stores. Units sold are paid units and do not include units associated with AWS, certain acquisitions, certain subscriptions, rental businesses, or advertising businesses, or ', 'Amazon gift cards.  ', 'Contacts:    ', 'Amazon.com Investor Relations  Amazon.com Public Relations ', 'Dave Fildes, amazon-ir@amazon.com  Dan Perlet, amazon-pr@amazon.com amazon.com/ir  amazon.com/pr']\n"
          ],
          "name": "stdout"
        }
      ]
    },
    {
      "cell_type": "code",
      "metadata": {
        "id": "_LgQVludt0hp"
      },
      "source": [
        "nlp = pipeline('question-answering', model=model_name, tokenizer=model_name)\n",
        "QA_input = {\n",
        "    'question': 'What is the amount charged if Customer exceeds its total Image Serving limit?',\n",
        "    'context': \"\"\"Notwithstanding anything to the contrary, the License Term commences on the date Products and Services are made available to Customer or the License Term Start Date whichever is later. For a period up to 60 days prior to the License Term Start Date (the \"Implementation Period\"), but in no event earlier than the Effective Date, Customer may be granted a limited license to access the Products and Services for the sole purpose of implementation and testing on the Testing Instance. The Implementation Period is available for first time Campaign implementations, and not available for renewals or upsells. If Customer exceeds its total Image Serving limit, then Customer may be billed $1.00/GB per month in over-usage fees. If Customer exceeds its Total Database Storage limit, then Customer will be billed $30.00/GB per month in overusage fees. Adobe will invoice all overusage fees monthly in arrears, as incurred. Adobe Campaign Standard also includes Adobe Campaign Deliverability Fundamentals. During the IP warming phase, Deliverability Fundamental services may include: (1) Assessment of the existing marketing plan and creation of a customized ramp-up calendar based on Customer's existing practices, data, volume, and frequency of email; (2) Determination of the appropriate domains and number of IP addresses to be used; and (3) Recommendations for changes to the ramp-up calendar based on performance monitoring and reputation metrics. Limitations: Customer may consume up to forty-eight hours of Deliverability Fundamentals services, which will expire after the first twelve months of the License Term. Adobe will perform Services remotely unless travel reimbursement is otherwise stipulated in this Sales Order. Hours are not interchangeable with any other Adobe Professional Services project. Any hours that remain unused after the initial twelve months will expire and cannot be used for any other purpose. Adobe provides only one Deliverability Fundamentals package for new license purchases only, specifically excluding renewal or upsell. Adobe Campaign is licensed by Customer with the user interface language set to English (Universal). Customer cannot modify the user interface language.\"\"\"\n",
        "}\n",
        "res = nlp(QA_input)"
      ],
      "execution_count": 69,
      "outputs": []
    },
    {
      "cell_type": "code",
      "metadata": {
        "colab": {
          "base_uri": "https://localhost:8080/",
          "height": 35
        },
        "id": "mpEthphQw3eD",
        "outputId": "c5032828-4f83-4e58-e245-0c3425713d4b"
      },
      "source": [
        "res['answer']"
      ],
      "execution_count": 71,
      "outputs": [
        {
          "output_type": "execute_result",
          "data": {
            "application/vnd.google.colaboratory.intrinsic+json": {
              "type": "string"
            },
            "text/plain": [
              "'$1.00/GB per month'"
            ]
          },
          "metadata": {
            "tags": []
          },
          "execution_count": 71
        }
      ]
    },
    {
      "cell_type": "code",
      "metadata": {
        "id": "P9QQIqluxSUG"
      },
      "source": [
        ""
      ],
      "execution_count": null,
      "outputs": []
    }
  ]
}