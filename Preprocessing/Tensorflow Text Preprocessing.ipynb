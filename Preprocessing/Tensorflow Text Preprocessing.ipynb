{
  "nbformat": 4,
  "nbformat_minor": 0,
  "metadata": {
    "colab": {
      "name": "Tensorflow Text Preprocessing.ipynb",
      "provenance": [],
      "authorship_tag": "ABX9TyMpqX2ovqtJ+vKdNE9Kpqdh",
      "include_colab_link": true
    },
    "kernelspec": {
      "name": "python3",
      "display_name": "Python 3"
    },
    "language_info": {
      "name": "python"
    },
    "accelerator": "GPU"
  },
  "cells": [
    {
      "cell_type": "markdown",
      "metadata": {
        "id": "view-in-github",
        "colab_type": "text"
      },
      "source": [
        "<a href=\"https://colab.research.google.com/github/Satwikram/NLP-Implementations/blob/main/Preprocessing/Tensorflow%20Text%20Preprocessing.ipynb\" target=\"_parent\"><img src=\"https://colab.research.google.com/assets/colab-badge.svg\" alt=\"Open In Colab\"/></a>"
      ]
    },
    {
      "cell_type": "markdown",
      "source": [
        "### Author: Satwik Ram K"
      ],
      "metadata": {
        "id": "c_NoL6WxM2J9"
      }
    },
    {
      "cell_type": "markdown",
      "source": [
        "### Setup"
      ],
      "metadata": {
        "id": "nII3qEQfSI36"
      }
    },
    {
      "cell_type": "code",
      "source": [
        "!pip install -q tensorflow-text"
      ],
      "metadata": {
        "colab": {
          "base_uri": "https://localhost:8080/"
        },
        "id": "2XAmaIpwSK2W",
        "outputId": "7886a575-0296-468d-9577-509083ce1efe"
      },
      "execution_count": 2,
      "outputs": [
        {
          "output_type": "stream",
          "name": "stdout",
          "text": [
            "\u001b[K     |████████████████████████████████| 4.9 MB 5.2 MB/s \n",
            "\u001b[?25h"
          ]
        }
      ]
    },
    {
      "cell_type": "code",
      "execution_count": 3,
      "metadata": {
        "id": "fA3QD0Ia8XRC"
      },
      "outputs": [],
      "source": [
        "import tensorflow as tf\n",
        "import numpy as np\n",
        "import tensorflow_text as tf_text\n",
        "import re"
      ]
    },
    {
      "cell_type": "code",
      "source": [
        "text = tf.constant(u\"Thanks 😊\")"
      ],
      "metadata": {
        "id": "c69uQpbLM1fB"
      },
      "execution_count": 4,
      "outputs": []
    },
    {
      "cell_type": "code",
      "source": [
        "text"
      ],
      "metadata": {
        "colab": {
          "base_uri": "https://localhost:8080/"
        },
        "id": "_bZ9W82VM7qo",
        "outputId": "be5d8b81-8e09-435d-926a-3b798aa7bebd"
      },
      "execution_count": 5,
      "outputs": [
        {
          "output_type": "execute_result",
          "data": {
            "text/plain": [
              "<tf.Tensor: shape=(), dtype=string, numpy=b'Thanks \\xf0\\x9f\\x98\\x8a'>"
            ]
          },
          "metadata": {},
          "execution_count": 5
        }
      ]
    },
    {
      "cell_type": "markdown",
      "source": [
        "### RegexSplitter"
      ],
      "metadata": {
        "id": "rkIpIFvLNFWi"
      }
    },
    {
      "cell_type": "code",
      "source": [
        "text_input=[\n",
        "      \"Hi there.\\nWhat time is it?\\nIt is gametime.\",\n",
        "      \"Who let the dogs out?\\nWho?\\nWho?\\nWho?\\n\\n\",\n",
        "       ]"
      ],
      "metadata": {
        "id": "r06_pywJTOVF"
      },
      "execution_count": 6,
      "outputs": []
    },
    {
      "cell_type": "code",
      "source": [
        "splitter = tf_text.RegexSplitter()\n",
        "print(splitter.split(text_input))"
      ],
      "metadata": {
        "colab": {
          "base_uri": "https://localhost:8080/"
        },
        "id": "5mWLpPY5NABI",
        "outputId": "cca04ad6-f781-41cd-ef44-db4d45bcecf7"
      },
      "execution_count": 7,
      "outputs": [
        {
          "output_type": "stream",
          "name": "stdout",
          "text": [
            "<tf.RaggedTensor [[b'Hi there.', b'What time is it?', b'It is gametime.'], [b'Who let the dogs out?', b'Who?', b'Who?', b'Who?']]>\n"
          ]
        }
      ]
    },
    {
      "cell_type": "code",
      "source": [
        "splitter = tf_text.RegexSplitter(split_regex='\\t')\n",
        "print(splitter.split(text_input))"
      ],
      "metadata": {
        "colab": {
          "base_uri": "https://localhost:8080/"
        },
        "id": "jMpHi-mLSiTY",
        "outputId": "58415fbc-f8bc-49de-a248-dc0e267b8303"
      },
      "execution_count": 8,
      "outputs": [
        {
          "output_type": "stream",
          "name": "stdout",
          "text": [
            "<tf.RaggedTensor [[b'Hi there.\\nWhat time is it?\\nIt is gametime.'], [b'Who let the dogs out?\\nWho?\\nWho?\\nWho?\\n\\n']]>\n"
          ]
        }
      ]
    },
    {
      "cell_type": "markdown",
      "source": [
        "### WhitespaceTokenizer"
      ],
      "metadata": {
        "id": "oNaic6GqUwNZ"
      }
    },
    {
      "cell_type": "code",
      "source": [
        "[i.numpy() for i in tf_text.WhitespaceTokenizer().tokenize(\"I am Satwik Ram\")]"
      ],
      "metadata": {
        "colab": {
          "base_uri": "https://localhost:8080/"
        },
        "id": "3kVsWyKOTaIw",
        "outputId": "519a5476-0d6f-45f2-8221-d53613899faf"
      },
      "execution_count": 9,
      "outputs": [
        {
          "output_type": "execute_result",
          "data": {
            "text/plain": [
              "[b'I', b'am', b'Satwik', b'Ram']"
            ]
          },
          "metadata": {},
          "execution_count": 9
        }
      ]
    },
    {
      "cell_type": "markdown",
      "source": [
        "### WordShape"
      ],
      "metadata": {
        "id": "Ch8I7MklW1bM"
      }
    },
    {
      "cell_type": "code",
      "source": [
        "tf_text.WordShape.BEGINS_WITH_OPEN_QUOTE"
      ],
      "metadata": {
        "colab": {
          "base_uri": "https://localhost:8080/"
        },
        "id": "REHGvK9fVxXB",
        "outputId": "cae0f3db-2dbe-4fe8-8ee2-720c13f2b065"
      },
      "execution_count": 10,
      "outputs": [
        {
          "output_type": "execute_result",
          "data": {
            "text/plain": [
              "<WordShape.BEGINS_WITH_OPEN_QUOTE: '``.*|[\"\\'`＇＂‘‚‛“«„‟‹「『〝⹂｢﹁﹃][^\"\\'`＇＂‘‚‛“«„‟‹「『〝⹂｢﹁﹃]*'>"
            ]
          },
          "metadata": {},
          "execution_count": 10
        }
      ]
    },
    {
      "cell_type": "code",
      "source": [
        "tf_text.WordShape.HAS_MATH_SYMBOL"
      ],
      "metadata": {
        "colab": {
          "base_uri": "https://localhost:8080/"
        },
        "id": "PSpJU_U_W8fS",
        "outputId": "f386db8f-e87c-4c7a-de54-c2f05ac46c1c"
      },
      "execution_count": 11,
      "outputs": [
        {
          "output_type": "execute_result",
          "data": {
            "text/plain": [
              "<WordShape.HAS_MATH_SYMBOL: '.*\\\\p{Sm}.*'>"
            ]
          },
          "metadata": {},
          "execution_count": 11
        }
      ]
    },
    {
      "cell_type": "code",
      "source": [
        "tf_text.WordShape.HAS_NO_DIGITS"
      ],
      "metadata": {
        "colab": {
          "base_uri": "https://localhost:8080/"
        },
        "id": "nU4cJYsFX5Pk",
        "outputId": "15194323-94d0-44e7-bb28-5a236973af97"
      },
      "execution_count": 12,
      "outputs": [
        {
          "output_type": "execute_result",
          "data": {
            "text/plain": [
              "<WordShape.HAS_NO_DIGITS: '\\\\P{Nd}*'>"
            ]
          },
          "metadata": {},
          "execution_count": 12
        }
      ]
    },
    {
      "cell_type": "code",
      "source": [
        "input = \"1. This is first index\"\n",
        "tf_text.wordshape(input.split(), tf_text.WordShape.HAS_NO_DIGITS)\n"
      ],
      "metadata": {
        "colab": {
          "base_uri": "https://localhost:8080/"
        },
        "id": "zSZlP4aCZo-0",
        "outputId": "ca05989b-43c9-40b6-9ad5-62c70fb45204"
      },
      "execution_count": 13,
      "outputs": [
        {
          "output_type": "execute_result",
          "data": {
            "text/plain": [
              "<tf.Tensor: shape=(5,), dtype=bool, numpy=array([False,  True,  True,  True,  True])>"
            ]
          },
          "metadata": {},
          "execution_count": 13
        }
      ]
    },
    {
      "cell_type": "code",
      "source": [
        "tf_text.wordshape(input.split(), tf_text.WordShape.HAS_NO_PUNCT_OR_SYMBOL)"
      ],
      "metadata": {
        "colab": {
          "base_uri": "https://localhost:8080/"
        },
        "id": "HSVBWZVIZ5Oh",
        "outputId": "d41f7723-e5b2-49dc-f9a4-e8ca819567e9"
      },
      "execution_count": 14,
      "outputs": [
        {
          "output_type": "execute_result",
          "data": {
            "text/plain": [
              "<tf.Tensor: shape=(5,), dtype=bool, numpy=array([False,  True,  True,  True,  True])>"
            ]
          },
          "metadata": {},
          "execution_count": 14
        }
      ]
    },
    {
      "cell_type": "markdown",
      "source": [
        "There are so many methods which we can use during text cleaning. Link: https://www.tensorflow.org/text/api_docs/python/text/WordShape"
      ],
      "metadata": {
        "id": "9Zecbn-Ej77e"
      }
    },
    {
      "cell_type": "markdown",
      "source": [
        "### Case Fold Utf8"
      ],
      "metadata": {
        "id": "xyagXxIzlgFi"
      }
    },
    {
      "cell_type": "code",
      "source": [
        "tf_text.case_fold_utf8(['The  Quick-Brown',\n",
        "                'CAT jumped over',\n",
        "                'the lazy dog  !!  '])"
      ],
      "metadata": {
        "colab": {
          "base_uri": "https://localhost:8080/"
        },
        "id": "5pqVOuJTa9EZ",
        "outputId": "5c28d2ce-f417-4f6e-aa66-9cefbd98cd5b"
      },
      "execution_count": 19,
      "outputs": [
        {
          "output_type": "execute_result",
          "data": {
            "text/plain": [
              "<tf.Tensor: shape=(3,), dtype=string, numpy=\n",
              "array([b'the  quick-brown', b'cat jumped over', b'the lazy dog  !!  '],\n",
              "      dtype=object)>"
            ]
          },
          "metadata": {},
          "execution_count": 19
        }
      ]
    },
    {
      "cell_type": "markdown",
      "source": [
        "The input is a Tensor or RaggedTensor of any shape, and the resulting output has the same shape as the input. Note that NFKC normalization is implicitly applied to the strings."
      ],
      "metadata": {
        "id": "dWRyypBCl30t"
      }
    },
    {
      "cell_type": "markdown",
      "source": [
        "### Ngrams"
      ],
      "metadata": {
        "id": "BlONYHJynBJb"
      }
    },
    {
      "cell_type": "code",
      "source": [
        "input_data = tf.ragged.constant([[\"Satwik\", \"Ram\", \"K\"], [\"Hi\", \"Bye\"]])\n",
        "\n",
        "tf_text.ngrams(\n",
        "  input_data,\n",
        "  width=2,\n",
        "  axis=-1,\n",
        "  reduction_type=tf_text.Reduction.STRING_JOIN,\n",
        "  string_separator=\"|\")\n"
      ],
      "metadata": {
        "colab": {
          "base_uri": "https://localhost:8080/"
        },
        "id": "Np0SufJ2lphj",
        "outputId": "1c8e66bf-1b21-4e0f-8d9f-01b1d14f95a4"
      },
      "execution_count": 22,
      "outputs": [
        {
          "output_type": "execute_result",
          "data": {
            "text/plain": [
              "<tf.RaggedTensor [[b'Satwik|Ram', b'Ram|K'], [b'Hi|Bye']]>"
            ]
          },
          "metadata": {},
          "execution_count": 22
        }
      ]
    },
    {
      "cell_type": "code",
      "source": [
        "tf_text.ngrams(\n",
        "  input_data,\n",
        "  width=3,\n",
        "  axis=-1,\n",
        "  reduction_type=tf_text.Reduction.STRING_JOIN,\n",
        "  string_separator=\"|\")"
      ],
      "metadata": {
        "colab": {
          "base_uri": "https://localhost:8080/"
        },
        "id": "H48wkACNnPxT",
        "outputId": "3c3a2886-3bf7-4cbc-c68a-69f3787b9a0d"
      },
      "execution_count": 23,
      "outputs": [
        {
          "output_type": "execute_result",
          "data": {
            "text/plain": [
              "<tf.RaggedTensor [[b'Satwik|Ram|K'], []]>"
            ]
          },
          "metadata": {},
          "execution_count": 23
        }
      ]
    },
    {
      "cell_type": "markdown",
      "source": [
        "### Normalize Utf8"
      ],
      "metadata": {
        "id": "oWTk4rI_nqf2"
      }
    },
    {
      "cell_type": "code",
      "source": [
        "tf_text.normalize_utf8([\"株式会社\", \"ＫＡＤＯＫＡＷＡ\"], normalization_form='NFKD')"
      ],
      "metadata": {
        "colab": {
          "base_uri": "https://localhost:8080/"
        },
        "id": "86WN6UX2nc5c",
        "outputId": "e4abc4c5-473f-4668-c964-c323f8665877"
      },
      "execution_count": 26,
      "outputs": [
        {
          "output_type": "execute_result",
          "data": {
            "text/plain": [
              "<tf.Tensor: shape=(2,), dtype=string, numpy=\n",
              "array([b'\\xe6\\xa0\\xaa\\xe5\\xbc\\x8f\\xe4\\xbc\\x9a\\xe7\\xa4\\xbe', b'KADOKAWA'],\n",
              "      dtype=object)>"
            ]
          },
          "metadata": {},
          "execution_count": 26
        }
      ]
    },
    {
      "cell_type": "code",
      "source": [
        ""
      ],
      "metadata": {
        "id": "Oa7QPX4BoA4Y"
      },
      "execution_count": null,
      "outputs": []
    }
  ]
}