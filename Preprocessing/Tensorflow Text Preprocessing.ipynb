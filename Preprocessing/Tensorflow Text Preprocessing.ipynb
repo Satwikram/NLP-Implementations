{
  "nbformat": 4,
  "nbformat_minor": 0,
  "metadata": {
    "colab": {
      "name": "Tensorflow Text Preprocessing.ipynb",
      "provenance": [],
      "authorship_tag": "ABX9TyNVZ9Qp9c2XPvxNLZGXYPrk",
      "include_colab_link": true
    },
    "kernelspec": {
      "name": "python3",
      "display_name": "Python 3"
    },
    "language_info": {
      "name": "python"
    },
    "accelerator": "GPU"
  },
  "cells": [
    {
      "cell_type": "markdown",
      "metadata": {
        "id": "view-in-github",
        "colab_type": "text"
      },
      "source": [
        "<a href=\"https://colab.research.google.com/github/Satwikram/NLP-Implementations/blob/main/Preprocessing/Tensorflow%20Text%20Preprocessing.ipynb\" target=\"_parent\"><img src=\"https://colab.research.google.com/assets/colab-badge.svg\" alt=\"Open In Colab\"/></a>"
      ]
    },
    {
      "cell_type": "markdown",
      "source": [
        "### Author: Satwik Ram K"
      ],
      "metadata": {
        "id": "c_NoL6WxM2J9"
      }
    },
    {
      "cell_type": "markdown",
      "source": [
        "### Setup"
      ],
      "metadata": {
        "id": "nII3qEQfSI36"
      }
    },
    {
      "cell_type": "code",
      "source": [
        "!pip install -q tensorflow-text"
      ],
      "metadata": {
        "id": "2XAmaIpwSK2W"
      },
      "execution_count": null,
      "outputs": []
    },
    {
      "cell_type": "code",
      "execution_count": 6,
      "metadata": {
        "id": "fA3QD0Ia8XRC"
      },
      "outputs": [],
      "source": [
        "import tensorflow as tf\n",
        "import numpy as np\n",
        "import tensorflow_text as tf_text"
      ]
    },
    {
      "cell_type": "code",
      "source": [
        "text = tf.constant(u\"Thanks 😊\")"
      ],
      "metadata": {
        "id": "c69uQpbLM1fB"
      },
      "execution_count": 3,
      "outputs": []
    },
    {
      "cell_type": "code",
      "source": [
        "text"
      ],
      "metadata": {
        "colab": {
          "base_uri": "https://localhost:8080/"
        },
        "id": "_bZ9W82VM7qo",
        "outputId": "5e17d4c4-4468-4889-a23c-71df36da8e22"
      },
      "execution_count": 4,
      "outputs": [
        {
          "output_type": "execute_result",
          "data": {
            "text/plain": [
              "<tf.Tensor: shape=(), dtype=string, numpy=b'Thanks \\xf0\\x9f\\x98\\x8a'>"
            ]
          },
          "metadata": {},
          "execution_count": 4
        }
      ]
    },
    {
      "cell_type": "markdown",
      "source": [
        "### RegexSplitter"
      ],
      "metadata": {
        "id": "rkIpIFvLNFWi"
      }
    },
    {
      "cell_type": "code",
      "source": [
        "text_input=[\n",
        "      \"Hi there.\\nWhat time is it?\\nIt is gametime.\",\n",
        "      \"Who let the dogs out?\\nWho?\\nWho?\\nWho?\\n\\n\",\n",
        "       ]"
      ],
      "metadata": {
        "id": "r06_pywJTOVF"
      },
      "execution_count": 17,
      "outputs": []
    },
    {
      "cell_type": "code",
      "source": [
        "splitter = tf_text.RegexSplitter()\n",
        "print(splitter.split(text_input))"
      ],
      "metadata": {
        "colab": {
          "base_uri": "https://localhost:8080/"
        },
        "id": "5mWLpPY5NABI",
        "outputId": "e9cd1ba1-b376-4a12-bb14-bf5a63ed5eab"
      },
      "execution_count": 18,
      "outputs": [
        {
          "output_type": "stream",
          "name": "stdout",
          "text": [
            "<tf.RaggedTensor [[b'Hi there.', b'What time is it?', b'It is gametime.'], [b'Who let the dogs out?', b'Who?', b'Who?', b'Who?']]>\n"
          ]
        }
      ]
    },
    {
      "cell_type": "code",
      "source": [
        "splitter = tf_text.RegexSplitter(split_regex='\\t')\n",
        "print(splitter.split(text_input))"
      ],
      "metadata": {
        "colab": {
          "base_uri": "https://localhost:8080/"
        },
        "id": "jMpHi-mLSiTY",
        "outputId": "c7f64d1e-ca5e-4908-acd8-7b8943544fd6"
      },
      "execution_count": 19,
      "outputs": [
        {
          "output_type": "stream",
          "name": "stdout",
          "text": [
            "<tf.RaggedTensor [[b'Hi there.\\nWhat time is it?\\nIt is gametime.'], [b'Who let the dogs out?\\nWho?\\nWho?\\nWho?\\n\\n']]>\n"
          ]
        }
      ]
    },
    {
      "cell_type": "code",
      "source": [
        ""
      ],
      "metadata": {
        "id": "3kVsWyKOTaIw"
      },
      "execution_count": null,
      "outputs": []
    }
  ]
}