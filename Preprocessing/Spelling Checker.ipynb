{
  "nbformat": 4,
  "nbformat_minor": 0,
  "metadata": {
    "colab": {
      "name": "Spelling Checker.ipynb",
      "provenance": [],
      "authorship_tag": "ABX9TyMH35kGs1S5C/MzXISWXERQ",
      "include_colab_link": true
    },
    "kernelspec": {
      "name": "python3",
      "display_name": "Python 3"
    },
    "language_info": {
      "name": "python"
    },
    "accelerator": "GPU"
  },
  "cells": [
    {
      "cell_type": "markdown",
      "metadata": {
        "id": "view-in-github",
        "colab_type": "text"
      },
      "source": [
        "<a href=\"https://colab.research.google.com/github/Satwikram/NLP-Implementations/blob/main/Preprocessing/Spelling%20Checker.ipynb\" target=\"_parent\"><img src=\"https://colab.research.google.com/assets/colab-badge.svg\" alt=\"Open In Colab\"/></a>"
      ]
    },
    {
      "cell_type": "markdown",
      "source": [
        "### Author: Satwik Ram K"
      ],
      "metadata": {
        "id": "eVfn7A1e_Ny8"
      }
    },
    {
      "cell_type": "markdown",
      "source": [
        "### Setup"
      ],
      "metadata": {
        "id": "jDGOkVkb_VmK"
      }
    },
    {
      "cell_type": "code",
      "execution_count": null,
      "metadata": {
        "id": "I8xQAjmt_G_n"
      },
      "outputs": [],
      "source": [
        "!apt update\n",
        "!apt install libenchant-dev\n",
        "!pip install pyenchant"
      ]
    },
    {
      "cell_type": "code",
      "source": [
        "!apt install hunspell-dictionary"
      ],
      "metadata": {
        "id": "GMVLVPQy_yZk"
      },
      "execution_count": null,
      "outputs": []
    },
    {
      "cell_type": "code",
      "source": [
        "!ls /usr/share/hunspell"
      ],
      "metadata": {
        "colab": {
          "base_uri": "https://localhost:8080/"
        },
        "id": "o0cNUF7r_W-x",
        "outputId": "56089059-1638-4216-f321-8a53d87de68a"
      },
      "execution_count": null,
      "outputs": [
        {
          "output_type": "stream",
          "name": "stdout",
          "text": [
            "en_US.aff  en_US.dic\n"
          ]
        }
      ]
    },
    {
      "cell_type": "markdown",
      "source": [
        "### Importing Dependencies"
      ],
      "metadata": {
        "id": "62K0dHSeAIhM"
      }
    },
    {
      "cell_type": "code",
      "source": [
        "import enchant\n",
        "from enchant.checker import SpellChecker\n",
        "import numpy as np"
      ],
      "metadata": {
        "id": "Z1PcaV-A_wfl"
      },
      "execution_count": null,
      "outputs": []
    },
    {
      "cell_type": "code",
      "source": [
        "text = \"This is a sample teste\""
      ],
      "metadata": {
        "id": "N4xtMd6CAfP0"
      },
      "execution_count": null,
      "outputs": []
    },
    {
      "cell_type": "code",
      "source": [
        "chkr = SpellChecker(\"en_US\")"
      ],
      "metadata": {
        "id": "gTR948KCAVUp"
      },
      "execution_count": null,
      "outputs": []
    },
    {
      "cell_type": "code",
      "source": [
        "def spell_check(text):\n",
        "\n",
        "  chkr.set_text(text)\n",
        "\n",
        "  var = {}\n",
        "  while True:\n",
        "    try: \n",
        "      err = next(chkr)\n",
        "      var.setdefault(err.word, []).extend(chkr.suggest(err.word))\n",
        "      u, idx = np.unique(var[err.word], return_index=True)\n",
        "      var[err.word] = u[np.argsort(idx)].tolist()\n",
        "    except: \n",
        "      var = {k: \", \".join(v) for k, v in var.items()}\n",
        "      break\n",
        "  \n",
        "  return var if var else None"
      ],
      "metadata": {
        "id": "1lU924kXAcyZ"
      },
      "execution_count": null,
      "outputs": []
    },
    {
      "cell_type": "code",
      "source": [
        "print(spell_check(text))"
      ],
      "metadata": {
        "colab": {
          "base_uri": "https://localhost:8080/"
        },
        "id": "hZbylFrmA5l4",
        "outputId": "22f54675-2339-40a3-8678-170f2643fe2c"
      },
      "execution_count": null,
      "outputs": [
        {
          "output_type": "stream",
          "name": "stdout",
          "text": [
            "{'teste': 'test, testes, tester, tested, tests, taste, testy, test e, Estes, Ester, ester, esteem'}\n"
          ]
        }
      ]
    },
    {
      "cell_type": "code",
      "source": [
        ""
      ],
      "metadata": {
        "id": "U16tt7S4A8_X"
      },
      "execution_count": null,
      "outputs": []
    }
  ]
}