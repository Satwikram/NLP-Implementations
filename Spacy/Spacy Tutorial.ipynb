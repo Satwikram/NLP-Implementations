{
  "nbformat": 4,
  "nbformat_minor": 0,
  "metadata": {
    "colab": {
      "name": "Spacy-Tutorial.ipynb",
      "provenance": [],
      "collapsed_sections": [],
      "authorship_tag": "ABX9TyMvDmFO7+eqRJfIE8SeIc7p",
      "include_colab_link": true
    },
    "kernelspec": {
      "name": "python3",
      "display_name": "Python 3"
    },
    "language_info": {
      "name": "python"
    },
    "accelerator": "TPU"
  },
  "cells": [
    {
      "cell_type": "markdown",
      "metadata": {
        "id": "view-in-github",
        "colab_type": "text"
      },
      "source": [
        "<a href=\"https://colab.research.google.com/github/Satwikram/NLP-Implementations/blob/main/Spacy/Spacy%20Tutorial.ipynb\" target=\"_parent\"><img src=\"https://colab.research.google.com/assets/colab-badge.svg\" alt=\"Open In Colab\"/></a>"
      ]
    },
    {
      "cell_type": "markdown",
      "metadata": {
        "id": "zH7w_tRdrlWr"
      },
      "source": [
        "### Author: Satwik Ram K"
      ]
    },
    {
      "cell_type": "markdown",
      "metadata": {
        "id": "qX_UGH1Brp55"
      },
      "source": [
        "### Introduction"
      ]
    },
    {
      "cell_type": "code",
      "metadata": {
        "id": "w0LFiA2Wry9P"
      },
      "source": [
        "import spacy"
      ],
      "execution_count": 2,
      "outputs": []
    },
    {
      "cell_type": "code",
      "metadata": {
        "colab": {
          "base_uri": "https://localhost:8080/"
        },
        "id": "xbONyZ16rRKu",
        "outputId": "5752e047-0a92-4dfd-d6c6-9a78349a8290"
      },
      "source": [
        "# Load small english model: https://spacy.io/models\n",
        "nlp = spacy.load(\"en_core_web_sm\")\n",
        "nlp"
      ],
      "execution_count": 4,
      "outputs": [
        {
          "output_type": "execute_result",
          "data": {
            "text/plain": [
              "<spacy.lang.en.English at 0x7fbf5317ca90>"
            ]
          },
          "metadata": {
            "tags": []
          },
          "execution_count": 4
        }
      ]
    },
    {
      "cell_type": "code",
      "metadata": {
        "id": "mQbgJUj-rxDO"
      },
      "source": [
        "my_text = \"\"\"The economic situation of the country is on edge , as the stock \n",
        "market crashed causing loss of millions. Citizens who had their main investment \n",
        "in the share-market are facing a great loss. Many companies might lay off \n",
        "thousands of people to reduce labor cost\"\"\""
      ],
      "execution_count": 5,
      "outputs": []
    },
    {
      "cell_type": "code",
      "metadata": {
        "colab": {
          "base_uri": "https://localhost:8080/"
        },
        "id": "2cDQVNaZsGGz",
        "outputId": "9f168cb8-97a9-480c-adcb-250dbbafb565"
      },
      "source": [
        "my_doc = nlp(my_text)\n",
        "type(my_doc)"
      ],
      "execution_count": 6,
      "outputs": [
        {
          "output_type": "execute_result",
          "data": {
            "text/plain": [
              "spacy.tokens.doc.Doc"
            ]
          },
          "metadata": {
            "tags": []
          },
          "execution_count": 6
        }
      ]
    },
    {
      "cell_type": "code",
      "metadata": {
        "colab": {
          "base_uri": "https://localhost:8080/"
        },
        "id": "j6d2uhM9sLYf",
        "outputId": "d7f7dca5-c708-4328-e858-b8199522d3c1"
      },
      "source": [
        "my_doc"
      ],
      "execution_count": 7,
      "outputs": [
        {
          "output_type": "execute_result",
          "data": {
            "text/plain": [
              "The economic situation of the country is on edge , as the stock \n",
              "market crashed causing loss of millions. Citizens who had their main investment \n",
              "in the share-market are facing a great loss. Many companies might lay off \n",
              "thousands of people to reduce labor cost"
            ]
          },
          "metadata": {
            "tags": []
          },
          "execution_count": 7
        }
      ]
    },
    {
      "cell_type": "markdown",
      "metadata": {
        "id": "1jUiUIO2sUq3"
      },
      "source": [
        "### Tokenization with spaCy\n",
        "\n",
        "Tokenization is the process of converting a text into smaller sub-texts, based on certain predefined rules. For example, sentences are tokenized to words (and punctuation optionally). And paragraphs into sentences, depending on the context."
      ]
    },
    {
      "cell_type": "code",
      "metadata": {
        "colab": {
          "base_uri": "https://localhost:8080/"
        },
        "id": "ju2r0mbzsOBY",
        "outputId": "2c03310f-0172-47fb-8dd5-97793c451453"
      },
      "source": [
        "for token in my_doc:\n",
        "  print(token.text)"
      ],
      "execution_count": 11,
      "outputs": [
        {
          "output_type": "stream",
          "text": [
            "The\n",
            "economic\n",
            "situation\n",
            "of\n",
            "the\n",
            "country\n",
            "is\n",
            "on\n",
            "edge\n",
            ",\n",
            "as\n",
            "the\n",
            "stock\n",
            "\n",
            "\n",
            "market\n",
            "crashed\n",
            "causing\n",
            "loss\n",
            "of\n",
            "millions\n",
            ".\n",
            "Citizens\n",
            "who\n",
            "had\n",
            "their\n",
            "main\n",
            "investment\n",
            "\n",
            "\n",
            "in\n",
            "the\n",
            "share\n",
            "-\n",
            "market\n",
            "are\n",
            "facing\n",
            "a\n",
            "great\n",
            "loss\n",
            ".\n",
            "Many\n",
            "companies\n",
            "might\n",
            "lay\n",
            "off\n",
            "\n",
            "\n",
            "thousands\n",
            "of\n",
            "people\n",
            "to\n",
            "reduce\n",
            "labor\n",
            "cost\n"
          ],
          "name": "stdout"
        }
      ]
    },
    {
      "cell_type": "markdown",
      "metadata": {
        "id": "EudOFU86s1E8"
      },
      "source": [
        "### Text-Preprocessing with spaCy\n",
        "\n",
        "As mentioned in the last section, there is ‘noise’ in the tokens. The words such as ‘the’, ‘was’, ‘it’ etc are very common and are referred as ‘stop words’.\n",
        "\n",
        "Besides, you have punctuation like commas, brackets, full stop and some extra white spaces too. The process of removing noise from the doc is called Text Cleaning or Preprocessing."
      ]
    },
    {
      "cell_type": "code",
      "metadata": {
        "colab": {
          "base_uri": "https://localhost:8080/"
        },
        "id": "4YfR9v6Rsmuj",
        "outputId": "cd469c35-0229-49b5-d56a-67e0ed65ca23"
      },
      "source": [
        "for token in my_doc:\n",
        "  print(token.text, token.is_punct, token.is_stop)"
      ],
      "execution_count": 13,
      "outputs": [
        {
          "output_type": "stream",
          "text": [
            "The False True\n",
            "economic False False\n",
            "situation False False\n",
            "of False True\n",
            "the False True\n",
            "country False False\n",
            "is False True\n",
            "on False True\n",
            "edge False False\n",
            ", True False\n",
            "as False True\n",
            "the False True\n",
            "stock False False\n",
            "\n",
            " False False\n",
            "market False False\n",
            "crashed False False\n",
            "causing False False\n",
            "loss False False\n",
            "of False True\n",
            "millions False False\n",
            ". True False\n",
            "Citizens False False\n",
            "who False True\n",
            "had False True\n",
            "their False True\n",
            "main False False\n",
            "investment False False\n",
            "\n",
            " False False\n",
            "in False True\n",
            "the False True\n",
            "share False False\n",
            "- True False\n",
            "market False False\n",
            "are False True\n",
            "facing False False\n",
            "a False True\n",
            "great False False\n",
            "loss False False\n",
            ". True False\n",
            "Many False True\n",
            "companies False False\n",
            "might False True\n",
            "lay False False\n",
            "off False True\n",
            "\n",
            " False False\n",
            "thousands False False\n",
            "of False True\n",
            "people False False\n",
            "to False True\n",
            "reduce False False\n",
            "labor False False\n",
            "cost False False\n"
          ],
          "name": "stdout"
        }
      ]
    },
    {
      "cell_type": "markdown",
      "metadata": {
        "id": "lpkKwpdFvQD8"
      },
      "source": [
        "Removing StopWords and punctuations"
      ]
    },
    {
      "cell_type": "code",
      "metadata": {
        "id": "jW2zMWMMvWUP"
      },
      "source": [
        "cleaned = []"
      ],
      "execution_count": 15,
      "outputs": []
    },
    {
      "cell_type": "code",
      "metadata": {
        "id": "y9zkl7P8tbcz"
      },
      "source": [
        "my_doc_cleaned = [token for token in my_doc if not token.is_stop and not token.is_punct]\n",
        "\n",
        "for token in my_doc_cleaned:\n",
        "  cleaned.append(token.text)"
      ],
      "execution_count": 17,
      "outputs": []
    },
    {
      "cell_type": "code",
      "metadata": {
        "id": "YOQepLp1vTvP"
      },
      "source": [
        "cleaned_text = \" \""
      ],
      "execution_count": 22,
      "outputs": []
    },
    {
      "cell_type": "code",
      "metadata": {
        "colab": {
          "base_uri": "https://localhost:8080/",
          "height": 52
        },
        "id": "2yC-Jff3vhLf",
        "outputId": "8a674980-4d60-49a0-9347-8b32750d728a"
      },
      "source": [
        "cleaned_text.join(cleaned)"
      ],
      "execution_count": 23,
      "outputs": [
        {
          "output_type": "execute_result",
          "data": {
            "application/vnd.google.colaboratory.intrinsic+json": {
              "type": "string"
            },
            "text/plain": [
              "'economic situation country edge stock \\n market crashed causing loss millions Citizens main investment \\n share market facing great loss companies lay \\n thousands people reduce labor cost'"
            ]
          },
          "metadata": {
            "tags": []
          },
          "execution_count": 23
        }
      ]
    },
    {
      "cell_type": "code",
      "metadata": {
        "id": "8hHOGofOxEob"
      },
      "source": [
        "nlp = spacy.load('en_core_web_sm')"
      ],
      "execution_count": 30,
      "outputs": []
    },
    {
      "cell_type": "code",
      "metadata": {
        "id": "uL67mKBnvmOu"
      },
      "source": [
        "data = nlp(cleaned_text)"
      ],
      "execution_count": 31,
      "outputs": []
    },
    {
      "cell_type": "code",
      "metadata": {
        "id": "8QJvFnwCwpZ0"
      },
      "source": [
        "for txt in data.ents:\n",
        "  print(txt.text)"
      ],
      "execution_count": 32,
      "outputs": []
    },
    {
      "cell_type": "code",
      "metadata": {
        "id": "LXI3LoOiw62E"
      },
      "source": [
        ""
      ],
      "execution_count": null,
      "outputs": []
    }
  ]
}