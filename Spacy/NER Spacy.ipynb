{
  "nbformat": 4,
  "nbformat_minor": 0,
  "metadata": {
    "colab": {
      "name": "NER-Spacy.ipynb",
      "provenance": [],
      "authorship_tag": "ABX9TyOL4Ljj/bfSXOjmVE0aCxb5",
      "include_colab_link": true
    },
    "kernelspec": {
      "name": "python3",
      "display_name": "Python 3"
    },
    "language_info": {
      "name": "python"
    },
    "accelerator": "TPU"
  },
  "cells": [
    {
      "cell_type": "markdown",
      "metadata": {
        "id": "view-in-github",
        "colab_type": "text"
      },
      "source": [
        "<a href=\"https://colab.research.google.com/github/Satwikram/NLP-Implementations/blob/main/Spacy/NER%20Spacy.ipynb\" target=\"_parent\"><img src=\"https://colab.research.google.com/assets/colab-badge.svg\" alt=\"Open In Colab\"/></a>"
      ]
    },
    {
      "cell_type": "code",
      "metadata": {
        "id": "xkyOhDi7iOMZ"
      },
      "source": [
        "import spacy\n",
        "\n",
        "nlp = spacy.load('en_core_web_sm')\n",
        "\n",
        "sentence = \"IJARIIT is an endeavour to promote research, innovation and new ideas in various fields of technology for journal publication. It is a scholarly online, open access, peer-reviewed, interdisciplinary, bi-monthly, and fully referred journal focusing on theories, methods and applications in technology and relevant fields for journal paper publication.\""
      ],
      "execution_count": 18,
      "outputs": []
    },
    {
      "cell_type": "code",
      "metadata": {
        "id": "mtn4clR4iol5"
      },
      "source": [
        "doc = nlp(sentence)"
      ],
      "execution_count": 19,
      "outputs": []
    },
    {
      "cell_type": "code",
      "metadata": {
        "id": "N2Kq--hpl4xR"
      },
      "source": [
        "entity = []"
      ],
      "execution_count": 20,
      "outputs": []
    },
    {
      "cell_type": "code",
      "metadata": {
        "id": "ZpXeoGb4l6zd"
      },
      "source": [
        "labels = []"
      ],
      "execution_count": 21,
      "outputs": []
    },
    {
      "cell_type": "code",
      "metadata": {
        "id": "a3bv8Grwi47D"
      },
      "source": [
        "for ent in doc.ents:\n",
        "  entity.append(ent.text)\n",
        "  labels.append(ent.label_)"
      ],
      "execution_count": 22,
      "outputs": []
    },
    {
      "cell_type": "code",
      "metadata": {
        "colab": {
          "base_uri": "https://localhost:8080/"
        },
        "id": "-YnhCkY-kkjv",
        "outputId": "d6d0811d-ca07-4de1-9fa3-bd0e9228cbae"
      },
      "source": [
        "set(entity)"
      ],
      "execution_count": 24,
      "outputs": [
        {
          "output_type": "execute_result",
          "data": {
            "text/plain": [
              "{'IJARIIT', 'journal', 'monthly'}"
            ]
          },
          "metadata": {
            "tags": []
          },
          "execution_count": 24
        }
      ]
    },
    {
      "cell_type": "code",
      "metadata": {
        "id": "Vx_2mbJamKmF"
      },
      "source": [
        ""
      ],
      "execution_count": null,
      "outputs": []
    }
  ]
}