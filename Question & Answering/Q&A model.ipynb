{
  "nbformat": 4,
  "nbformat_minor": 0,
  "metadata": {
    "colab": {
      "name": "Q&A model.ipynb",
      "provenance": [],
      "authorship_tag": "ABX9TyOI9KJUv5UjrDvr+1Ni9d70",
      "include_colab_link": true
    },
    "kernelspec": {
      "name": "python3",
      "display_name": "Python 3"
    },
    "language_info": {
      "name": "python"
    },
    "accelerator": "TPU"
  },
  "cells": [
    {
      "cell_type": "markdown",
      "metadata": {
        "id": "view-in-github",
        "colab_type": "text"
      },
      "source": [
        "<a href=\"https://colab.research.google.com/github/Satwikram/NLP-Implementations/blob/main/Q%26A_model.ipynb\" target=\"_parent\"><img src=\"https://colab.research.google.com/assets/colab-badge.svg\" alt=\"Open In Colab\"/></a>"
      ]
    },
    {
      "cell_type": "markdown",
      "metadata": {
        "id": "oQ7PatTaNPQi"
      },
      "source": [
        "### Author: Satwik Ram K"
      ]
    },
    {
      "cell_type": "markdown",
      "metadata": {
        "id": "jHEObZyQNSr9"
      },
      "source": [
        "### Importing Dependencies"
      ]
    },
    {
      "cell_type": "code",
      "metadata": {
        "id": "uUQnHQC5S351"
      },
      "source": [
        "!pip install cdqa"
      ],
      "execution_count": null,
      "outputs": []
    },
    {
      "cell_type": "code",
      "metadata": {
        "colab": {
          "base_uri": "https://localhost:8080/"
        },
        "id": "_tKfZmFzNHl4",
        "outputId": "29f7cf58-66be-419f-fa6d-9332815e11aa"
      },
      "source": [
        "import numpy as np\n",
        "import pandas as pd\n",
        "import os\n",
        "from ast import literal_eval\n",
        "\n",
        "from cdqa.utils.converters import pdf_converter\n",
        "from cdqa.pipeline import QAPipeline\n",
        "from cdqa.utils.download import download_model"
      ],
      "execution_count": 1,
      "outputs": [
        {
          "output_type": "stream",
          "text": [
            "/usr/local/lib/python3.7/dist-packages/tqdm/autonotebook/__init__.py:18: TqdmExperimentalWarning: Using `tqdm.autonotebook.tqdm` in notebook mode. Use `tqdm.tqdm` instead to force console mode (e.g. in jupyter console)\n",
            "  \" (e.g. in jupyter console)\", TqdmExperimentalWarning)\n"
          ],
          "name": "stderr"
        }
      ]
    },
    {
      "cell_type": "code",
      "metadata": {
        "colab": {
          "base_uri": "https://localhost:8080/"
        },
        "id": "8WKw-gyJS1QZ",
        "outputId": "a476b568-b131-427e-8e55-3c5e3b76d182"
      },
      "source": [
        "download_model(model = 'bert-squad_1.1', dir = 'models')"
      ],
      "execution_count": 3,
      "outputs": [
        {
          "output_type": "stream",
          "text": [
            "\n",
            "Downloading trained model...\n"
          ],
          "name": "stdout"
        }
      ]
    },
    {
      "cell_type": "code",
      "metadata": {
        "id": "6OKQKCldUGI8"
      },
      "source": [
        "!mkdir docs"
      ],
      "execution_count": 4,
      "outputs": []
    },
    {
      "cell_type": "markdown",
      "metadata": {
        "id": "dyr3s44WdUpi"
      },
      "source": [
        "### Downloading Documents"
      ]
    },
    {
      "cell_type": "code",
      "metadata": {
        "colab": {
          "base_uri": "https://localhost:8080/"
        },
        "id": "q8YkBiKKdP21",
        "outputId": "b0e3f012-b99e-4776-e7bc-1dc220d635be"
      },
      "source": [
        "!wget -P ./docs/ https://s2.q4cdn.com/299287126/files/doc_financials/2020/q3/AMZN-Q3-2020-Earnings-Release.pdf\n",
        "!wget -P ./docs/ https://s2.q4cdn.com/299287126/files/doc_financials/2020/q2/Q2-2020-Amazon-Earnings-Release.pdf\n",
        "!wget -P ./docs/ https://s2.q4cdn.com/299287126/files/doc_financials/2020/Q1/AMZN-Q1-2020-Earnings-Release.pdf\n",
        "!wget -P ./docs/ https://s2.q4cdn.com/299287126/files/doc_news/archive/Amazon-Q4-2019-Earnings-Release.pdf\n",
        "!wget -P ./docs/ https://s2.q4cdn.com/299287126/files/doc_news/archive/Q3-2019-Amazon-Financial-Results.pdf"
      ],
      "execution_count": 9,
      "outputs": [
        {
          "output_type": "stream",
          "text": [
            "--2021-07-01 09:44:59--  https://s2.q4cdn.com/299287126/files/doc_financials/2020/q3/AMZN-Q3-2020-Earnings-Release.pdf\n",
            "Resolving s2.q4cdn.com (s2.q4cdn.com)... 68.70.205.2, 68.70.205.1, 68.70.205.3, ...\n",
            "Connecting to s2.q4cdn.com (s2.q4cdn.com)|68.70.205.2|:443... connected.\n",
            "HTTP request sent, awaiting response... 200 OK\n",
            "Length: 945573 (923K) [application/pdf]\n",
            "Saving to: ‘./docs/AMZN-Q3-2020-Earnings-Release.pdf’\n",
            "\n",
            "AMZN-Q3-2020-Earnin 100%[===================>] 923.41K  3.45MB/s    in 0.3s    \n",
            "\n",
            "2021-07-01 09:45:00 (3.45 MB/s) - ‘./docs/AMZN-Q3-2020-Earnings-Release.pdf’ saved [945573/945573]\n",
            "\n",
            "--2021-07-01 09:45:00--  https://s2.q4cdn.com/299287126/files/doc_financials/2020/q2/Q2-2020-Amazon-Earnings-Release.pdf\n",
            "Resolving s2.q4cdn.com (s2.q4cdn.com)... 68.70.205.2, 68.70.205.1, 68.70.205.3, ...\n",
            "Connecting to s2.q4cdn.com (s2.q4cdn.com)|68.70.205.2|:443... connected.\n",
            "HTTP request sent, awaiting response... 200 OK\n",
            "Length: 366951 (358K) [application/pdf]\n",
            "Saving to: ‘./docs/Q2-2020-Amazon-Earnings-Release.pdf’\n",
            "\n",
            "Q2-2020-Amazon-Earn 100%[===================>] 358.35K  --.-KB/s    in 0.1s    \n",
            "\n",
            "2021-07-01 09:45:00 (3.08 MB/s) - ‘./docs/Q2-2020-Amazon-Earnings-Release.pdf’ saved [366951/366951]\n",
            "\n",
            "--2021-07-01 09:45:00--  https://s2.q4cdn.com/299287126/files/doc_financials/2020/Q1/AMZN-Q1-2020-Earnings-Release.pdf\n",
            "Resolving s2.q4cdn.com (s2.q4cdn.com)... 68.70.205.2, 68.70.205.1, 68.70.205.3, ...\n",
            "Connecting to s2.q4cdn.com (s2.q4cdn.com)|68.70.205.2|:443... connected.\n",
            "HTTP request sent, awaiting response... 200 OK\n",
            "Length: 536732 (524K) [application/pdf]\n",
            "Saving to: ‘./docs/AMZN-Q1-2020-Earnings-Release.pdf’\n",
            "\n",
            "AMZN-Q1-2020-Earnin 100%[===================>] 524.15K  3.05MB/s    in 0.2s    \n",
            "\n",
            "2021-07-01 09:45:01 (3.05 MB/s) - ‘./docs/AMZN-Q1-2020-Earnings-Release.pdf’ saved [536732/536732]\n",
            "\n",
            "--2021-07-01 09:45:01--  https://s2.q4cdn.com/299287126/files/doc_news/archive/Amazon-Q4-2019-Earnings-Release.pdf\n",
            "Resolving s2.q4cdn.com (s2.q4cdn.com)... 68.70.205.2, 68.70.205.1, 68.70.205.3, ...\n",
            "Connecting to s2.q4cdn.com (s2.q4cdn.com)|68.70.205.2|:443... connected.\n",
            "HTTP request sent, awaiting response... 200 OK\n",
            "Length: 637064 (622K) [application/pdf]\n",
            "Saving to: ‘./docs/Amazon-Q4-2019-Earnings-Release.pdf’\n",
            "\n",
            "Amazon-Q4-2019-Earn 100%[===================>] 622.13K  3.42MB/s    in 0.2s    \n",
            "\n",
            "2021-07-01 09:45:01 (3.42 MB/s) - ‘./docs/Amazon-Q4-2019-Earnings-Release.pdf’ saved [637064/637064]\n",
            "\n",
            "--2021-07-01 09:45:01--  https://s2.q4cdn.com/299287126/files/doc_news/archive/Q3-2019-Amazon-Financial-Results.pdf\n",
            "Resolving s2.q4cdn.com (s2.q4cdn.com)... 68.70.205.2, 68.70.205.1, 68.70.205.3, ...\n",
            "Connecting to s2.q4cdn.com (s2.q4cdn.com)|68.70.205.2|:443... connected.\n",
            "HTTP request sent, awaiting response... 200 OK\n",
            "Length: 545031 (532K) [application/pdf]\n",
            "Saving to: ‘./docs/Q3-2019-Amazon-Financial-Results.pdf’\n",
            "\n",
            "Q3-2019-Amazon-Fina 100%[===================>] 532.26K  3.33MB/s    in 0.2s    \n",
            "\n",
            "2021-07-01 09:45:02 (3.33 MB/s) - ‘./docs/Q3-2019-Amazon-Financial-Results.pdf’ saved [545031/545031]\n",
            "\n"
          ],
          "name": "stdout"
        }
      ]
    },
    {
      "cell_type": "markdown",
      "metadata": {
        "id": "ORKoIw4GdmnH"
      },
      "source": [
        "### Pdf Converter function"
      ]
    },
    {
      "cell_type": "code",
      "metadata": {
        "id": "DzbS48d9a97T"
      },
      "source": [
        "df = pdf_converter(directory_path = 'docs/')"
      ],
      "execution_count": 10,
      "outputs": []
    },
    {
      "cell_type": "code",
      "metadata": {
        "colab": {
          "base_uri": "https://localhost:8080/",
          "height": 204
        },
        "id": "VPhu9A5Fb3jU",
        "outputId": "8bacd10a-2775-44ad-8b67-25ca90a985a7"
      },
      "source": [
        "df.head()"
      ],
      "execution_count": 12,
      "outputs": [
        {
          "output_type": "execute_result",
          "data": {
            "text/html": [
              "<div>\n",
              "<style scoped>\n",
              "    .dataframe tbody tr th:only-of-type {\n",
              "        vertical-align: middle;\n",
              "    }\n",
              "\n",
              "    .dataframe tbody tr th {\n",
              "        vertical-align: top;\n",
              "    }\n",
              "\n",
              "    .dataframe thead th {\n",
              "        text-align: right;\n",
              "    }\n",
              "</style>\n",
              "<table border=\"1\" class=\"dataframe\">\n",
              "  <thead>\n",
              "    <tr style=\"text-align: right;\">\n",
              "      <th></th>\n",
              "      <th>title</th>\n",
              "      <th>paragraphs</th>\n",
              "    </tr>\n",
              "  </thead>\n",
              "  <tbody>\n",
              "    <tr>\n",
              "      <th>0</th>\n",
              "      <td>AMZN-Q3-2020-Earnings-Release</td>\n",
              "      <td>[Microsoft Word - AMZN-Q3-2020-Earnings-Releas...</td>\n",
              "    </tr>\n",
              "    <tr>\n",
              "      <th>1</th>\n",
              "      <td>Amazon-Q4-2019-Earnings-Release</td>\n",
              "      <td>[Microsoft Word - AMZN-2019.12.31-EX99.1 (10) ...</td>\n",
              "    </tr>\n",
              "    <tr>\n",
              "      <th>2</th>\n",
              "      <td>AMZN-Q1-2020-Earnings-Release</td>\n",
              "      <td>[Microsoft Word - Earnings Release_4.30.20_12P...</td>\n",
              "    </tr>\n",
              "    <tr>\n",
              "      <th>3</th>\n",
              "      <td>Q3-2019-Amazon-Financial-Results</td>\n",
              "      <td>[Microsoft Word - AMZN-2019.9.30-EX99.1_102419...</td>\n",
              "    </tr>\n",
              "    <tr>\n",
              "      <th>4</th>\n",
              "      <td>Q2-2020-Amazon-Earnings-Release</td>\n",
              "      <td>[AMZN-2020.06.30-EX99.1 AMAZON.COM ANNOUNCES S...</td>\n",
              "    </tr>\n",
              "  </tbody>\n",
              "</table>\n",
              "</div>"
            ],
            "text/plain": [
              "                              title                                         paragraphs\n",
              "0     AMZN-Q3-2020-Earnings-Release  [Microsoft Word - AMZN-Q3-2020-Earnings-Releas...\n",
              "1   Amazon-Q4-2019-Earnings-Release  [Microsoft Word - AMZN-2019.12.31-EX99.1 (10) ...\n",
              "2     AMZN-Q1-2020-Earnings-Release  [Microsoft Word - Earnings Release_4.30.20_12P...\n",
              "3  Q3-2019-Amazon-Financial-Results  [Microsoft Word - AMZN-2019.9.30-EX99.1_102419...\n",
              "4   Q2-2020-Amazon-Earnings-Release  [AMZN-2020.06.30-EX99.1 AMAZON.COM ANNOUNCES S..."
            ]
          },
          "metadata": {
            "tags": []
          },
          "execution_count": 12
        }
      ]
    },
    {
      "cell_type": "code",
      "metadata": {
        "id": "qyFD-WrSdryr"
      },
      "source": [
        "pd.set_option('display.max_colwidth', -1)"
      ],
      "execution_count": 13,
      "outputs": []
    },
    {
      "cell_type": "code",
      "metadata": {
        "id": "UDSR94QoeKx1"
      },
      "source": [
        "df.head()"
      ],
      "execution_count": null,
      "outputs": []
    },
    {
      "cell_type": "code",
      "metadata": {
        "colab": {
          "base_uri": "https://localhost:8080/"
        },
        "id": "GXbmko_8eMJQ",
        "outputId": "125c2fd6-381a-49aa-f03e-e2a061079fb0"
      },
      "source": [
        "cdqa_pipeline = QAPipeline(reader = '/content/models/bert_qa.joblib', max_df = 1.0)"
      ],
      "execution_count": 16,
      "outputs": [
        {
          "output_type": "stream",
          "text": [
            "100%|██████████| 231508/231508 [00:00<00:00, 1883571.34B/s]\n"
          ],
          "name": "stderr"
        }
      ]
    },
    {
      "cell_type": "code",
      "metadata": {
        "colab": {
          "base_uri": "https://localhost:8080/"
        },
        "id": "h3Oa1CWpelT8",
        "outputId": "d221b76a-f948-4fb1-d986-dd5e1b1c56c2"
      },
      "source": [
        "cdqa_pipeline.fit_retriever(df = df)"
      ],
      "execution_count": 17,
      "outputs": [
        {
          "output_type": "execute_result",
          "data": {
            "text/plain": [
              "QAPipeline(reader=BertQA(adam_epsilon=1e-08, bert_model='bert-base-uncased',\n",
              "                         do_lower_case=True, fp16=False,\n",
              "                         gradient_accumulation_steps=1, learning_rate=5e-05,\n",
              "                         local_rank=-1, loss_scale=0, max_answer_length=30,\n",
              "                         n_best_size=20, no_cuda=False,\n",
              "                         null_score_diff_threshold=0.0, num_train_epochs=3.0,\n",
              "                         output_dir=None, predict_batch_size=8, seed=42,\n",
              "                         server_ip='', server_po..._size=8,\n",
              "                         verbose_logging=False, version_2_with_negative=False,\n",
              "                         warmup_proportion=0.1, warmup_steps=0),\n",
              "           retrieve_by_doc=False,\n",
              "           retriever=BM25Retriever(b=0.75, floor=None, k1=2.0, lowercase=True,\n",
              "                                   max_df=1.0, min_df=2, ngram_range=(1, 2),\n",
              "                                   preprocessor=None, stop_words='english',\n",
              "                                   token_pattern='(?u)\\\\b\\\\w\\\\w+\\\\b',\n",
              "                                   tokenizer=None, top_n=20, verbose=False,\n",
              "                                   vocabulary=None))"
            ]
          },
          "metadata": {
            "tags": []
          },
          "execution_count": 17
        }
      ]
    },
    {
      "cell_type": "code",
      "metadata": {
        "id": "McjYnAUfesoT"
      },
      "source": [
        "query = 'How much is increase in operating cash flow?'\n",
        "prediction = cdqa_pipeline.predict(query, 3)"
      ],
      "execution_count": 18,
      "outputs": []
    },
    {
      "cell_type": "code",
      "metadata": {
        "colab": {
          "base_uri": "https://localhost:8080/"
        },
        "id": "7WZvryj4e_2V",
        "outputId": "a0e48f93-6112-4e10-a60d-93dcb86a7de7"
      },
      "source": [
        "prediction"
      ],
      "execution_count": 19,
      "outputs": [
        {
          "output_type": "execute_result",
          "data": {
            "text/plain": [
              "[('16 %',\n",
              "  'AMZN-Q1-2020-Earnings-Release',\n",
              "  'Cash Flows and Shares        Operating cash flow -- trailing twelve months (TTM) $ 30,723 $ 34,360 $ 36,029 $ 35,332 $ 38,514 $ 39,732 16 %Operating cash flow -- TTM Y/Y growth 67% 89 % 65% 33 % 25 % 16 % N/A ',\n",
              "  16.822194115458565),\n",
              " ('25 %',\n",
              "  'Amazon-Q4-2019-Earnings-Release',\n",
              "  'Cash Flows and Shares        Operating cash flow -- trailing twelve months (TTM) $ 26,604 $ 30,723 $ 34,360 $ 36,029 $ 35,332 $ 38,514 25 %Operating cash flow -- TTM Y/Y growth 57% 67 % 89% 65% 33 % 25% N/A ',\n",
              "  16.39158212549146),\n",
              " ('33 %',\n",
              "  'Q3-2019-Amazon-Financial-Results',\n",
              "  'Cash Flows and Shares        Operating cash flow -- trailing twelve months (TTM) $ 21,793 $ 26,604 $ 30,723 $ 34,360 $ 36,029 $ 35,332 33 %Operating cash flow -- TTM Y/Y growth 22% 57 % 67% 89% 65 % 33 % N/A ',\n",
              "  16.184274739093144)]"
            ]
          },
          "metadata": {
            "tags": []
          },
          "execution_count": 19
        }
      ]
    },
    {
      "cell_type": "code",
      "metadata": {
        "id": "TPGopw-bfM6K"
      },
      "source": [
        "query = \"What was the Comprehensive income in the year 2020\""
      ],
      "execution_count": 44,
      "outputs": []
    },
    {
      "cell_type": "code",
      "metadata": {
        "id": "R47K1DKLfsL8"
      },
      "source": [
        "prediction = cdqa_pipeline.predict(query, 3)"
      ],
      "execution_count": 45,
      "outputs": []
    },
    {
      "cell_type": "code",
      "metadata": {
        "colab": {
          "base_uri": "https://localhost:8080/"
        },
        "id": "DgHKO0kAftaH",
        "outputId": "15270f14-961a-4bf4-fd17-e223d13d6d64"
      },
      "source": [
        "prediction"
      ],
      "execution_count": 46,
      "outputs": [
        {
          "output_type": "execute_result",
          "data": {
            "text/plain": [
              "[('$ 1,458',\n",
              "  'AMZN-Q1-2020-Earnings-Release',\n",
              "  'Comprehensive income $ 3,586  $ 1,458      ',\n",
              "  7.397322112035612),\n",
              " ('in millions',\n",
              "  'AMZN-Q1-2020-Earnings-Release',\n",
              "  'Consolidated Statements of Comprehensive Income (in millions) (unaudited)   Three Months Ended ',\n",
              "  7.268118420092892),\n",
              " ('in millions',\n",
              "  'Q3-2019-Amazon-Financial-Results',\n",
              "  'Consolidated Statements of Comprehensive Income (in millions) (unaudited)   Three Months Ended ',\n",
              "  7.268118420092892)]"
            ]
          },
          "metadata": {
            "tags": []
          },
          "execution_count": 46
        }
      ]
    },
    {
      "cell_type": "code",
      "metadata": {
        "id": "TNuq5csUfwKL"
      },
      "source": [
        "query1 = \"What was the Diluted in the year 2019\""
      ],
      "execution_count": 50,
      "outputs": []
    },
    {
      "cell_type": "code",
      "metadata": {
        "id": "O2QvrLJ_lP_k"
      },
      "source": [
        "prediction1 = cdqa_pipeline.predict(query1, 3)"
      ],
      "execution_count": 51,
      "outputs": []
    },
    {
      "cell_type": "code",
      "metadata": {
        "colab": {
          "base_uri": "https://localhost:8080/"
        },
        "id": "9DWffSc0lTb3",
        "outputId": "eb1b485c-1c97-4c61-ac6a-c66e71c9554c"
      },
      "source": [
        "prediction1"
      ],
      "execution_count": 52,
      "outputs": [
        {
          "output_type": "execute_result",
          "data": {
            "text/plain": [
              "[('502 506',\n",
              "  'AMZN-Q1-2020-Earnings-Release',\n",
              "  'Diluted 502  506     ',\n",
              "  6.564962324176786),\n",
              " ('504 512 503 509',\n",
              "  'AMZN-Q3-2020-Earnings-Release',\n",
              "  'Diluted 504    512   503   509     ',\n",
              "  5.829330082960894),\n",
              " ('501 505 500 504',\n",
              "  'Amazon-Q4-2019-Earnings-Release',\n",
              "  'Diluted 501  505  500  504     ',\n",
              "  5.656856700011065)]"
            ]
          },
          "metadata": {
            "tags": []
          },
          "execution_count": 52
        }
      ]
    }
  ]
}
