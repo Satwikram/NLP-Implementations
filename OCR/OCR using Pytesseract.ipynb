{
  "nbformat": 4,
  "nbformat_minor": 0,
  "metadata": {
    "colab": {
      "name": "OCR using Pytesseract.ipynb",
      "provenance": [],
      "authorship_tag": "ABX9TyPlC1FVRuKqxhADmoHfaDWL",
      "include_colab_link": true
    },
    "kernelspec": {
      "name": "python3",
      "display_name": "Python 3"
    },
    "language_info": {
      "name": "python"
    },
    "accelerator": "GPU"
  },
  "cells": [
    {
      "cell_type": "markdown",
      "metadata": {
        "id": "view-in-github",
        "colab_type": "text"
      },
      "source": [
        "<a href=\"https://colab.research.google.com/github/Satwikram/NLP-Implementations/blob/main/OCR/OCR%20using%20Pytesseract.ipynb\" target=\"_parent\"><img src=\"https://colab.research.google.com/assets/colab-badge.svg\" alt=\"Open In Colab\"/></a>"
      ]
    },
    {
      "cell_type": "markdown",
      "source": [
        "### Author: Satwik Ram K"
      ],
      "metadata": {
        "id": "1gJzsgqzkO76"
      }
    },
    {
      "cell_type": "markdown",
      "source": [
        "### Setup"
      ],
      "metadata": {
        "id": "nTJ0siRnlDld"
      }
    },
    {
      "cell_type": "code",
      "execution_count": null,
      "metadata": {
        "id": "EWNS0tCwjeQ-"
      },
      "outputs": [],
      "source": [
        "!pip install pytesseract\n",
        "!pip install pdf2image\n",
        "!apt-get install poppler-utils \n",
        "!apt install tesseract-ocr"
      ]
    },
    {
      "cell_type": "markdown",
      "source": [
        "### Importing Dependencies"
      ],
      "metadata": {
        "id": "Vxj_14GClqEX"
      }
    },
    {
      "cell_type": "code",
      "source": [
        "import re\n",
        "import tempfile\n",
        "\n",
        "import pytesseract\n",
        "from pdf2image import convert_from_path\n",
        "from PIL import Image"
      ],
      "metadata": {
        "id": "OYCA-J5Ylrru"
      },
      "execution_count": 1,
      "outputs": []
    },
    {
      "cell_type": "markdown",
      "source": [
        "### Converting Pdf2Text"
      ],
      "metadata": {
        "id": "0qvthXP-nnQO"
      }
    },
    {
      "cell_type": "code",
      "source": [
        "class Pdf2Text:\n",
        "\n",
        "    def __init__(self, path) -> None:\n",
        "\n",
        "        self.path = path\n",
        "\n",
        "    def convert(self):\n",
        "\n",
        "        with tempfile.TemporaryDirectory() as tmpdir:\n",
        "\n",
        "            pages = convert_from_path(self.path, 150, output_folder=tmpdir)\n",
        "\n",
        "            text = []\n",
        "\n",
        "            for i, page in enumerate(pages):\n",
        "              \n",
        "                image_name = \"Page_\" + str(i) + \".jpg\"  \n",
        "                page.save(f\"{tmpdir}/{image_name}\", \"JPEG\")\n",
        "            \n",
        "                txt = pytesseract.image_to_string(Image.open(f\"{tmpdir}/{image_name}\"), lang=\"eng\")\n",
        "\n",
        "                txt = re.sub(\"[\\n]{2,}\", \"\\t\\t\", txt)\n",
        "                txt = re.sub(\"\\n\", \"\", txt)\n",
        "                txt = re.sub(\"\\t\\t\", \"\\n\", txt)\n",
        "                \n",
        "                text.append(txt)\n",
        "            \n",
        "            return text   "
      ],
      "metadata": {
        "id": "lx_jxaUOl1uI"
      },
      "execution_count": 2,
      "outputs": []
    },
    {
      "cell_type": "markdown",
      "source": [
        "### Extracting Text"
      ],
      "metadata": {
        "id": "KEE58Iqdn146"
      }
    },
    {
      "cell_type": "code",
      "source": [
        "obj = Pdf2Text(\"/content/test.pdf\")\n",
        "text = obj.convert()"
      ],
      "metadata": {
        "id": "uB-XLdc5q1o6"
      },
      "execution_count": 3,
      "outputs": []
    },
    {
      "cell_type": "code",
      "source": [
        "for t in text:\n",
        "  print(t)"
      ],
      "metadata": {
        "colab": {
          "base_uri": "https://localhost:8080/"
        },
        "id": "TpPKgwGHrH9e",
        "outputId": "05c54edd-8dd3-4b5c-9822-74bda45bf2bc"
      },
      "execution_count": 7,
      "outputs": [
        {
          "output_type": "stream",
          "name": "stdout",
          "text": [
            "Lats LRI Consulting Services, Inc. www.LRiontine.com\n",
            "Revised ProposalFebruary 20, 2019\n",
            "Cristina McQuistion\n",
            "Chief Information OfficerOG+E Energy Corp\n",
            "321 N Harvey Ave.Oklahoma City, OK 73201\n",
            "405 553-3173mequiscf@oge.com\n",
            "Information Technology (IT) Organizational Transition Support\n",
            "Situation Assessment\n",
            "You have requested a proposal for consultative support in facilitating the OGE Energy (OG+E) IT function through anorganizational transition process. This work builds upon the previously completed Opportunity Assessment which focused‘on identifying opportunities for improving IT Member engagement and the overall IT work environment.\n",
            "Propose Interventions\n",
            "He will include the following planned transition activities:\n",
            "@ February 18 offsite CET/EET meeting preparation and facilitation\n",
            "¢ February 26 offsite IT Leadership team workshop preparation and facilitation\n",
            "Conducting mid-year progress check, including on-site Manager interviews and Member focus group facilitation, andpost-site visit analysis and reporting\n",
            "@ Analyzing and providing feedback on 2019 Engagement survey results\n",
            "¢ Conducting year-end progress check, including on-site Manager interviews and Member focus group facilitation, andpost-site visit analysis and reporting\n",
            " \n",
            "naa “ad hoo\" support activities at the client's fecuset Sqsree of pale activities may y include, but are not limited to:1) participating in weekly Core & Extended Engagement Team meetings; 2) supporting development and implementation ofan organizational “roadmap”, action plan, and communications plan; 3) monitoring progress and ensuring implementationaccountability; 4) providing ongoing project management support; 5) conducting training; or 6) coaching individual leaders.\n",
            "These interventions will be designed in alignment with company values, goals, and business strategy. Any related outputscan be company-branded to include company logo and color scheme, where appropriate.\n",
            "Scope & TimingThe proposed intervention activities will include all IT Leaders and Members, and are expected to continue through 2019.\n",
            "Value to Organization\n",
            "@ Improved trust between Leaders and Members, and increased acceptance of IT desired stateIncreased Member engagement and morale\n",
            "Enhanced leadership capabilities and leader/Member interpersonal relations\n",
            "Terms and ConditionsThe terms outlined below are offered at a 10% discount from our normal rate.\n",
            " \n",
            "ivities = $2,700 per consulting day (plus travel expenses). Weestimate 22 total consulting dapssa as ‘outlined Below: Total estimated cost = $59,400 (plus travel expenses).e February 18 offsite = 2 days preparation + 1 day offsite + 1 day post-workshop activities = 4 dayse February 26 offsite = 2 days preparation + 1 day offsite + 1 day post-workshop activities = 4 dayse Mid-year progress check = 4 days onsite + 2 days post-site visit activities = 6 days2019 Engagement survey results analysis & feedback = 2 dayse Year-end progress check = 4 days onsite + 2 days post-site visit activities = 6 days\n",
            "Labor Relations Institute, Inc.% rox’ 78505.Elm Place-SuiteE | 800-888-9115 pom\n",
            "Broken Arrow, OK 74011 | 918-455-9998 ‘excnBe Oss\n",
            " \f\n",
            "Les LRI Consulting Services, Inc. www.LRionline.com\n",
            " \n",
            "Intervention #2 - Ongoing “Ad Hoc” SupportThe consulting fee for ongoing ad hoc support is $337.50 per hour, per consultant up to a maximum of $2,700 per day (plustravel expenses).\n",
            "Payment Terms\n",
            "All fees are due upon the delivery of the consulting services and are nonrefundable. Any expenses incurred by consultantwill be billed to you and are due upon receipt and you agree to settle those statements within 14 days. You agree andacknowledge that failure to pay fees or expenses associated with this project under these terms will result in reassignmentof consultant(s), a penalty of the maximum allowable interest rate per month plus any costs we incur to collect anoutstanding balance, until all outstanding invoices are paid in full.\n",
            "It is further understood that all materials included in or with the above referenced items or programs are fully covered andprotected by federal copyright laws. Federal law provides civil and criminal penalties for the unauthorized reproduction,distribution or exhibition of protected products.\n",
            "You further acknowledge that no representation by LRI or its representatives were relied on by you or any member of yourcompany in entering this agreement, and that this document represents the full understanding of the parties. You alsoacknowledge and agree that we have informed you of the obligation to report any direct persuader activity performed onyour behalf to the United States Department of Labor by both our firm and your firm and that failure to timely file thesereports can subject your company to criminal penalties. Further, you agree to make LRI aware of and share copies of anyunfair labor practice charges and or objections and challenges to the conduct of an election alleging anything regardingspeech or behavior, in any form, on the part of any LRI consultant.\n",
            "Your payment, in the absence of your signature below, indicates your acceptance of this project and the terms andconditions as stated herein. The terms and conditions on this proposal are good for 90 days from the date on this proposalunless specified otherwise. The parties agree that Oklahoma law governs any dispute between them and to resolve anydisputes by arbitration in Tulsa, Oklahoma under the American Arbitration Association rules.\n",
            "AcceptanceWe accept the proposal above and the options selected:\n",
            "Pre-defined IT Transition SupportOngoing Ad Hoc Consulting Support\n",
            "For LRI Consulting Services, Inc. For OG+E EnergyZN\n",
            "Phillip B. Wilson, President/General Counsel Cristina McQuistion | /_Date: February 20, 2019 Date: oO 4\n",
            "Labor Relations Institute, Inc.\n",
            "78505. Elm Place: SuiteE | 800-888-9115 pion.Broken Arrow, OK 74011 | 918-455-9998 tex\n",
            " \f\n"
          ]
        }
      ]
    },
    {
      "cell_type": "markdown",
      "source": [
        "### HOCR"
      ],
      "metadata": {
        "id": "xXE-YdcZIzra"
      }
    },
    {
      "cell_type": "code",
      "source": [
        "from pytesseract import pytesseract"
      ],
      "metadata": {
        "id": "g8hYErM1p9DD"
      },
      "execution_count": null,
      "outputs": []
    },
    {
      "cell_type": "code",
      "source": [
        "out = pytesseract.run_tesseract('/content/Picture2.jpg', 'output10', extension=\"html\", lang=\"eng\", config=\"html\")"
      ],
      "metadata": {
        "id": "QGMftASnI_aI"
      },
      "execution_count": null,
      "outputs": []
    },
    {
      "cell_type": "code",
      "source": [
        "!/usr/bin/tesseract '/content/Picture2.jpg' - -l eng hocr"
      ],
      "metadata": {
        "id": "rI1cCinfKKS9"
      },
      "execution_count": null,
      "outputs": []
    }
  ]
}