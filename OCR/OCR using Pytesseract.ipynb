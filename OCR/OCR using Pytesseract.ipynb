{
  "nbformat": 4,
  "nbformat_minor": 0,
  "metadata": {
    "colab": {
      "name": "OCR using Pytesseract.ipynb",
      "provenance": [],
      "authorship_tag": "ABX9TyPOFHQ+6BY4y0YixwPfCYuX",
      "include_colab_link": true
    },
    "kernelspec": {
      "name": "python3",
      "display_name": "Python 3"
    },
    "language_info": {
      "name": "python"
    },
    "accelerator": "GPU"
  },
  "cells": [
    {
      "cell_type": "markdown",
      "metadata": {
        "id": "view-in-github",
        "colab_type": "text"
      },
      "source": [
        "<a href=\"https://colab.research.google.com/github/Satwikram/NLP-Implementations/blob/main/OCR/OCR%20using%20Pytesseract.ipynb\" target=\"_parent\"><img src=\"https://colab.research.google.com/assets/colab-badge.svg\" alt=\"Open In Colab\"/></a>"
      ]
    },
    {
      "cell_type": "markdown",
      "source": [
        "### Author: Satwik Ram K"
      ],
      "metadata": {
        "id": "1gJzsgqzkO76"
      }
    },
    {
      "cell_type": "markdown",
      "source": [
        "### Setup"
      ],
      "metadata": {
        "id": "nTJ0siRnlDld"
      }
    },
    {
      "cell_type": "code",
      "execution_count": null,
      "metadata": {
        "id": "EWNS0tCwjeQ-"
      },
      "outputs": [],
      "source": [
        "!pip install pytesseract\n",
        "!pip install pdf2image\n",
        "!apt-get install poppler-utils \n",
        "!apt install tesseract-ocr"
      ]
    },
    {
      "cell_type": "markdown",
      "source": [
        "### Importing Dependencies"
      ],
      "metadata": {
        "id": "Vxj_14GClqEX"
      }
    },
    {
      "cell_type": "code",
      "source": [
        "from pdf2image import convert_from_path\n",
        "\n",
        "import cv2\n",
        "from PIL import Image\n",
        "\n",
        "import pytesseract\n",
        "\n",
        "import os\n",
        "from pathlib import Path"
      ],
      "metadata": {
        "id": "OYCA-J5Ylrru"
      },
      "execution_count": 17,
      "outputs": []
    },
    {
      "cell_type": "markdown",
      "source": [
        "### Converting into Images"
      ],
      "metadata": {
        "id": "0qvthXP-nnQO"
      }
    },
    {
      "cell_type": "code",
      "source": [
        "pdfs = r\"/content/pdfs/test.pdf\"\n",
        "\n",
        "pages = convert_from_path(pdfs, 350)\n",
        "\n",
        "ipath = Path(\"images\")\n",
        "\n",
        "os.makedirs(ipath, exist_ok=True)\n",
        "\n",
        "i = 1\n",
        "for page in pages:\n",
        "    image_name = \"Page_\" + str(i) + \".jpg\"  \n",
        "    page.save(f\"{ipath}/{image_name}\", \"JPEG\")\n",
        "    i = i+1      "
      ],
      "metadata": {
        "id": "lx_jxaUOl1uI"
      },
      "execution_count": 21,
      "outputs": []
    },
    {
      "cell_type": "markdown",
      "source": [
        "### Extracting Text"
      ],
      "metadata": {
        "id": "KEE58Iqdn146"
      }
    },
    {
      "cell_type": "code",
      "source": [
        "for image in os.listdir(\"images\"):\n",
        "  \n",
        "  extractedInformation = pytesseract.image_to_string(Image.open(ipath/image))\n",
        "\n",
        "  print(extractedInformation)"
      ],
      "metadata": {
        "colab": {
          "base_uri": "https://localhost:8080/"
        },
        "id": "Jt6sC9enn0pO",
        "outputId": "ac5120b1-3713-4654-a683-147dee25b7b0"
      },
      "execution_count": 31,
      "outputs": [
        {
          "output_type": "stream",
          "name": "stdout",
          "text": [
            "a\n",
            "re LRI Consulting Services, Inc. www.LRionline.com\n",
            "\n",
            "The consulting fee for ongoing ad hoc support is $337.50 per hour, per consultant up to a maximum of $2,700 per day (plus\n",
            "travel expenses).\n",
            "\n",
            "Payment Terms\n",
            "\n",
            "All fees are due upon the delivery of the consulting services and are nonrefundable. Any expenses incurred by consultant\n",
            "will be billed to you and are due upon receipt and you agree to settle those statements within 14 days. You agree and\n",
            "acknowledge that failure to pay fees or expenses associated with this project under these terms will result in reassignment\n",
            "of consultant(s), a penalty of the maximum allowable interest rate per month plus any costs we incur to collect an\n",
            "outstanding balance, until all outstanding invoices are paid in full.\n",
            "\n",
            "It is further understood that all materials included in or with the above referenced items or programs are fully covered and\n",
            "protected by federal copyright laws. Federal law provides civil and criminal penalties for the unauthorized reproduction,\n",
            "distribution or exhibition of protected products.\n",
            "\n",
            "You further acknowledge that no representation by LRI or its representatives were relied on by you or any member of your\n",
            "company in entering this agreement, and that this document represents the full understanding of the parties. You also\n",
            "acknowledge and agree that we have informed you of the obligation to report any direct persuader activity performed on\n",
            "your behalf to the United States Department of Labor by both our firm and your firm and that failure to timely file these\n",
            "reports can subject your company to criminal penalties. Further, you agree to make LRI aware of and share copies of any\n",
            "unfair labor practice charges and or objections and challenges to the conduct of an election alleging anything regarding\n",
            "speech or behavior, in any form, on the part of any LRI consultant.\n",
            "\n",
            "Your payment, in the absence of your signature below, indicates your acceptance of this project and the terms and\n",
            "conditions as stated herein. The terms and conditions on this proposal are good for 90 days from the date on this proposal\n",
            "unless specified otherwise. The parties agree that Oklahoma law governs any dispute between them and to resolve any\n",
            "disputes by arbitration in Tulsa, Oklahoma under the American Arbitration Association rules.\n",
            "\n",
            "Acceptance\n",
            "\n",
            "We accept the proposal above and the options selected:\n",
            "Pre-defined IT Transition Support\n",
            "Ongoing Ad Hoc Consulting Support\n",
            "\n",
            "For LRI Consulting Services, Inc. For OG+E Energy\n",
            "o™ z\n",
            "\n",
            "}\n",
            "\n",
            "Phillip B. Wilson, President/General Counsel Cristina McQuistion - ay 5\n",
            "Date: February 20, 2019 Date: ) O 4\n",
            "\n",
            "Labor Relations Institute, Inc.\n",
            "Inc. 7850S. Elm Place: SuiteE | 800-888-9115 pur.\n",
            "\n",
            "r <= 5 CIM Fiace : sure phere\n",
            "\n",
            "§ % FUR Si) Forbes 59 Broken Arrow, OK 74011 | 918-455-9998 izx\n",
            "\n",
            "For 100\n",
            "\f\n",
            "al\n",
            "fr LRI Consulting Services, Inc. www.LRionline.com\n",
            "\n",
            "Revised Proposal\n",
            "February 20, 2019\n",
            "\n",
            "Cristina McQuistion\n",
            "\n",
            "Chief Information Officer\n",
            "OG+E Energy Corp\n",
            "\n",
            "321 N Harvey Ave.\n",
            "Oklahoma City, OK 73201\n",
            "\n",
            "405 553-3173\n",
            "mcquiscf@oge.com\n",
            "\n",
            "Information Technology (IT) Organizational Transition Support\n",
            "\n",
            "Situation Assessment\n",
            "\n",
            "You have requested a proposai for consultative support in facilitating the OGE Energy (OG+E) IT function through an\n",
            "organizational transition process. This work builds upon the previously completed Opportunity Assessment which focused\n",
            "on identifying opportunities for improving IT Member engagement and the overall IT work environment.\n",
            "\n",
            "Proposed Interventions\n",
            "\n",
            "1)\n",
            "\n",
            "This will include the following planned transition activities:\n",
            "\n",
            "e February 18 offsite CET/EET meeting preparation and facilitation\n",
            "\n",
            "e February 26 offsite IT Leadership team workshop preparation and facilitation\n",
            "\n",
            "e Conducting mid-year progress check, including on-site Manager interviews and Member focus group facilitation, and\n",
            "post-site visit analysis and reporting\n",
            "\n",
            "e Analyzing and providing feedback on 2019 Engagement survey results\n",
            "\n",
            "e Conducting year-end progress check, including on-site Manager interviews and Member focus group facilitation, and\n",
            "post-site visit analysis and reporting\n",
            "\n",
            " \n",
            "\n",
            "Ongoing “ad hoc” support activities at the client's request Examples of potential activities may Inia, but are not limited to:\n",
            "1) participating in weekly Core & Extended Engagement Team meetings; 2) supporting development and implementation of\n",
            "an organizational “roadmap”, action plan, and communications plan; 3) monitoring progress and ensuring implementation\n",
            "accountability; 4) providing ongoing project management support; 5) conducting training; or 6) coaching individual leaders.\n",
            "\n",
            "These interventions will be designed in alignment with company values, goals, and business strategy. Any related outputs\n",
            "can be company-branded to include company logo and color scheme, where appropriate.\n",
            "\n",
            "Scope & Timing\n",
            "The proposed intervention activities will include all IT Leaders and Members, and are expected to continue through 2019.\n",
            "\n",
            "Value to Organization\n",
            "\n",
            "e Improved trust between Leaders and Members, and increased acceptance of IT desired state\n",
            "@ Increased Member engagement and morale\n",
            "\n",
            "# Enhanced leadership capabilities and leader/Member interpersonal relations\n",
            "\n",
            "Terms and Conditions\n",
            "The terms outlined below are offered at a 10% discount from our normal rate.\n",
            "\n",
            ": iti ivities = $2,700 per consulting day (plus travel expenses). We\n",
            "estimate 22 total consulting days, as outlined below. Total estimated cost = $59,400 (plus travel expenses).\n",
            "e February 18 offsite = 2 days preparation + 1 day offsite + 1 day post-workshop activities = 4 days\n",
            "e February 26 offsite = 2 days preparation + 1 day offsite + 1 day post-workshop activities = 4 days\n",
            "e Mid-year progress check = 4 days onsite + 2 days post-site visit activities = 6 days\n",
            "e 2019 Engagement survey results analysis & feedback = 2 days\n",
            "e Year-end progress check = 4 days onsite + 2 days post-site visit activities = 6 days\n",
            "\n",
            "Labor Relations Institute, Inc.\n",
            "78505. Elm Place -SuiteE | 800-888-9115 pion\n",
            "B M% run Forbes sO Broken Arrow,OK 74011 | 918-455-9998 tev\n",
            "\f\n"
          ]
        }
      ]
    },
    {
      "cell_type": "code",
      "source": [
        ""
      ],
      "metadata": {
        "id": "g8hYErM1p9DD"
      },
      "execution_count": null,
      "outputs": []
    }
  ]
}