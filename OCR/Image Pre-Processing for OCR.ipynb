{
  "nbformat": 4,
  "nbformat_minor": 0,
  "metadata": {
    "colab": {
      "name": "Image Pre-Processing for OCR.ipynb",
      "provenance": [],
      "collapsed_sections": [],
      "authorship_tag": "ABX9TyNGbprgzfjtxDg978TOfXYC",
      "include_colab_link": true
    },
    "kernelspec": {
      "name": "python3",
      "display_name": "Python 3"
    },
    "language_info": {
      "name": "python"
    },
    "accelerator": "GPU"
  },
  "cells": [
    {
      "cell_type": "markdown",
      "metadata": {
        "id": "view-in-github",
        "colab_type": "text"
      },
      "source": [
        "<a href=\"https://colab.research.google.com/github/Satwikram/NLP-Implementations/blob/main/OCR/Image%20Pre-Processing%20for%20OCR.ipynb\" target=\"_parent\"><img src=\"https://colab.research.google.com/assets/colab-badge.svg\" alt=\"Open In Colab\"/></a>"
      ]
    },
    {
      "cell_type": "markdown",
      "source": [
        "### Author: Satwik Ram K\n",
        "\n",
        "Image Pre-Processing for OCR"
      ],
      "metadata": {
        "id": "FfqvRpKLxAmg"
      }
    },
    {
      "cell_type": "markdown",
      "source": [
        "### Importing Dependencies"
      ],
      "metadata": {
        "id": "tUKKr2xgxK1d"
      }
    },
    {
      "cell_type": "code",
      "source": [
        "!pip install layoutparser torchvision && pip install \"detectron2@git+https://github.com/facebookresearch/detectron2.git@v0.5#egg=detectron2\""
      ],
      "metadata": {
        "id": "yCJdFZqRnwm1"
      },
      "execution_count": null,
      "outputs": []
    },
    {
      "cell_type": "code",
      "source": [
        "import cv2\n",
        "import matplotlib.pyplot as plt\n",
        "import numpy as np\n",
        "from PIL import Image as im\n",
        "from scipy.ndimage import interpolation as inter"
      ],
      "metadata": {
        "id": "nS2-WuilxVvp"
      },
      "execution_count": null,
      "outputs": []
    },
    {
      "cell_type": "markdown",
      "source": [
        "### Thresh"
      ],
      "metadata": {
        "id": "46U-hAgYyG2E"
      }
    },
    {
      "cell_type": "code",
      "source": [
        "img = cv2.imread(\"/content/Page_0.png\", cv2.IMREAD_GRAYSCALE)\n",
        "img = cv2.adaptiveThreshold(img,255,cv2.ADAPTIVE_THRESH_GAUSSIAN_C,cv2.THRESH_BINARY,11,2)"
      ],
      "metadata": {
        "id": "3QJ_7NQ7yvnN"
      },
      "execution_count": null,
      "outputs": []
    },
    {
      "cell_type": "code",
      "source": [
        "plt.imshow(img)"
      ],
      "metadata": {
        "id": "B14sk4iIzjdb"
      },
      "execution_count": null,
      "outputs": []
    },
    {
      "cell_type": "code",
      "source": [
        "kernel = np.ones((5,5),np.uint8)\n",
        "erosion = cv2.erode(img,kernel,iterations = 1)"
      ],
      "metadata": {
        "id": "oFCf7dvJfWc8"
      },
      "execution_count": null,
      "outputs": []
    },
    {
      "cell_type": "code",
      "source": [
        "plt.imshow(erosion)"
      ],
      "metadata": {
        "id": "GDCX6dOefXyo"
      },
      "execution_count": null,
      "outputs": []
    },
    {
      "cell_type": "code",
      "source": [
        "image = cv2.imread(\"/content/Page_0.png\")\n",
        "gray = cv2.cvtColor(image, cv2.COLOR_BGR2GRAY)\n",
        "gray = cv2.bitwise_not(gray)\n",
        "\n",
        "thresh = cv2.threshold(gray, 0, 255,\n",
        "\tcv2.THRESH_BINARY | cv2.THRESH_OTSU)[1]\n",
        "\n",
        "print(thresh)\n",
        "coords = np.column_stack(np.where(thresh > 0))\n",
        "print(coords)\n",
        "angle = cv2.minAreaRect(coords)[-1]\n",
        "print(angle)\n",
        "\n",
        "if angle < -45:\n",
        "\tangle = -(90 + angle)\n",
        "\n",
        "else:\n",
        "\tangle = -angle\n",
        "\n",
        "\n",
        "(h, w) = image.shape[:2]\n",
        "center = (w // 2, h // 2)\n",
        "M = cv2.getRotationMatrix2D(center, angle, 1.0)\n",
        "rotated = cv2.warpAffine(image, M, (w, h),\n",
        "\tflags=cv2.INTER_CUBIC, borderMode=cv2.BORDER_REPLICATE)\n",
        "\n",
        "cv2.putText(rotated, \"Angle: {:.2f} degrees\".format(angle),\n",
        "\t(10, 30), cv2.FONT_HERSHEY_SIMPLEX, 0.7, (0, 0, 255), 2)\n",
        "# show the output image\n",
        "print(\"[INFO] angle: {:.3f}\".format(angle))\n",
        "plt.figure(figsize=(10, 15))\n",
        "rotated = rotated / 255.0\n",
        "plt.imshow(rotated)"
      ],
      "metadata": {
        "id": "QeS3dyk6fadW"
      },
      "execution_count": null,
      "outputs": []
    },
    {
      "cell_type": "markdown",
      "source": [
        "### Removing the Noise"
      ],
      "metadata": {
        "id": "7jCtUr4mmj6_"
      }
    },
    {
      "cell_type": "code",
      "source": [
        "image = cv2.imread('/content/Page_0.png')\n",
        "image=cv2.cvtColor(image,cv2.COLOR_BGR2GRAY)\n",
        "se=cv2.getStructuringElement(cv2.MORPH_RECT , (8,8))\n",
        "bg=cv2.morphologyEx(image, cv2.MORPH_DILATE, se)\n",
        "out_gray=cv2.divide(image, bg, scale=255)\n",
        "out_binary=cv2.threshold(out_gray, 0, 255, cv2.THRESH_OTSU )[1] \n",
        "plt.figure(figsize=(10, 15))\n",
        "plt.imshow(out_binary)"
      ],
      "metadata": {
        "id": "gWSzwAvYlkwy"
      },
      "execution_count": null,
      "outputs": []
    },
    {
      "cell_type": "code",
      "source": [
        "import layoutparser as lp\n",
        "\n",
        "\n",
        "model = lp.Detectron2LayoutModel('lp://PubLayNet/faster_rcnn_R_50_FPN_3x/config',\n",
        "                                 extra_config=[\"MODEL.ROI_HEADS.SCORE_THRESH_TEST\", 0.8],\n",
        "                                 label_map={0: \"Text\", 1: \"Title\", 2: \"List\", 3:\"Table\", 4:\"Figure\"})\n"
      ],
      "metadata": {
        "id": "rlsx7HVXmocn"
      },
      "execution_count": null,
      "outputs": []
    },
    {
      "cell_type": "code",
      "source": [
        "img = cv2.imread(\"/content/Page_0.png\")\n",
        "layout = model.detect(img)"
      ],
      "metadata": {
        "id": "w12nOngboE0G"
      },
      "execution_count": null,
      "outputs": []
    },
    {
      "cell_type": "code",
      "source": [
        "lp.draw_box(img, layout, box_width=3)"
      ],
      "metadata": {
        "id": "qaDqIHc1qgJ8"
      },
      "execution_count": null,
      "outputs": []
    },
    {
      "cell_type": "code",
      "source": [
        ""
      ],
      "metadata": {
        "id": "8dTrD0aUqwQx"
      },
      "execution_count": null,
      "outputs": []
    }
  ]
}